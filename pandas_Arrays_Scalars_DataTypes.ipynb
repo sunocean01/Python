{
 "cells": [
  {
   "cell_type": "code",
   "execution_count": 1,
   "id": "c7b98e4a-cc2c-47b9-bb94-847c93755707",
   "metadata": {},
   "outputs": [],
   "source": [
    "import pandas as pd\n",
    "import pytz\n",
    "import time"
   ]
  },
  {
   "cell_type": "code",
   "execution_count": 2,
   "id": "83b4e129-f465-4e93-8779-949ba4916fac",
   "metadata": {},
   "outputs": [],
   "source": [
    "from IPython.core.interactiveshell import InteractiveShell\n",
    "InteractiveShell.ast_node_interactivity='all'\n",
    "\n",
    "pd.options.display.max_columns = None\n",
    "pd.options.display.max_rows = None"
   ]
  },
  {
   "cell_type": "markdown",
   "id": "416f061a-8fb2-41e7-a1d5-474a9488f599",
   "metadata": {},
   "source": [
    "# Array"
   ]
  },
  {
   "cell_type": "markdown",
   "id": "d8c02d41-3dc2-4322-ab0b-08da751f6c30",
   "metadata": {},
   "source": [
    "## pandas array\n",
    "   ![array](.\\pandas_accessor\\pandas_array.png)"
   ]
  },
  {
   "cell_type": "markdown",
   "id": "a2409b29-36d6-44fc-833f-ac126af0425c",
   "metadata": {},
   "source": [
    "# Datetime data"
   ]
  },
  {
   "cell_type": "raw",
   "id": "ec5ecf48-d283-4a74-895e-7d2df69f6e6d",
   "metadata": {},
   "source": [
    "Timestamp is the pandas equivalent of python’s Datetime and is interchangeable with it in most cases. It’s the type used for the entries that make up a DatetimeIndex, and other timeseries oriented data structures in pandas."
   ]
  },
  {
   "cell_type": "code",
   "execution_count": 3,
   "id": "1c523e5d-13f2-4f8a-874b-24001825136f",
   "metadata": {},
   "outputs": [
    {
     "data": {
      "text/plain": [
       "Timestamp('2017-12-16 03:02:35.500000')"
      ]
     },
     "execution_count": 3,
     "metadata": {},
     "output_type": "execute_result"
    },
    {
     "data": {
      "text/plain": [
       "Timestamp('2017-12-15 19:02:35-0800', tz='US/Pacific')"
      ]
     },
     "execution_count": 3,
     "metadata": {},
     "output_type": "execute_result"
    },
    {
     "data": {
      "text/plain": [
       "Timestamp('2017-01-01 12:00:00')"
      ]
     },
     "execution_count": 3,
     "metadata": {},
     "output_type": "execute_result"
    },
    {
     "data": {
      "text/plain": [
       "Timestamp('2017-01-01 12:00:00')"
      ]
     },
     "execution_count": 3,
     "metadata": {},
     "output_type": "execute_result"
    },
    {
     "data": {
      "text/plain": [
       "Timestamp('2022-06-07 08:40:00+0800', tz='Asia/Shanghai')"
      ]
     },
     "execution_count": 3,
     "metadata": {},
     "output_type": "execute_result"
    }
   ],
   "source": [
    "tmp = pd.Timestamp('20220607T08:40',tz='Asia/Shanghai')\n",
    "pd.Timestamp(1513393355.5,unit='s')\n",
    "pd.Timestamp(1513393355, unit='s', tz='US/Pacific')\n",
    "pd.Timestamp(2017, 1, 1, 12)\n",
    "pd.Timestamp(year=2017, month=1, day=1, hour=12)\n",
    "\n",
    "# pd.Timestamp([\"20220607\",\"20220608\"])  # list 不可以\n",
    "tmp"
   ]
  },
  {
   "cell_type": "markdown",
   "id": "b258e0c5-7c29-48fc-ac71-9f5c519c12b8",
   "metadata": {},
   "source": [
    "## Attribute"
   ]
  },
  {
   "cell_type": "code",
   "execution_count": 18,
   "id": "a6297495-d8ec-43f0-8571-c532b20cf272",
   "metadata": {},
   "outputs": [
    {
     "data": {
      "text/plain": [
       "numpy.datetime64('2022-06-07T10:40:00.000000000')"
      ]
     },
     "execution_count": 18,
     "metadata": {},
     "output_type": "execute_result"
    }
   ],
   "source": [
    "# Return numpy datetime64 format in nanoseconds\n",
    "tmp.asm8"
   ]
  },
  {
   "cell_type": "code",
   "execution_count": 21,
   "id": "d15de055-489c-4e33-8fa0-6938a31f76de",
   "metadata": {},
   "outputs": [
    {
     "data": {
      "text/plain": [
       "1"
      ]
     },
     "execution_count": 21,
     "metadata": {},
     "output_type": "execute_result"
    },
    {
     "data": {
      "text/plain": [
       "158"
      ]
     },
     "execution_count": 21,
     "metadata": {},
     "output_type": "execute_result"
    },
    {
     "data": {
      "text/plain": [
       "1"
      ]
     },
     "execution_count": 21,
     "metadata": {},
     "output_type": "execute_result"
    },
    {
     "data": {
      "text/plain": [
       "158"
      ]
     },
     "execution_count": 21,
     "metadata": {},
     "output_type": "execute_result"
    },
    {
     "data": {
      "text/plain": [
       "30"
      ]
     },
     "execution_count": 21,
     "metadata": {},
     "output_type": "execute_result"
    },
    {
     "data": {
      "text/plain": [
       "False"
      ]
     },
     "execution_count": 21,
     "metadata": {},
     "output_type": "execute_result"
    },
    {
     "data": {
      "text/plain": [
       "False"
      ]
     },
     "execution_count": 21,
     "metadata": {},
     "output_type": "execute_result"
    },
    {
     "data": {
      "text/plain": [
       "False"
      ]
     },
     "execution_count": 21,
     "metadata": {},
     "output_type": "execute_result"
    },
    {
     "data": {
      "text/plain": [
       "False"
      ]
     },
     "execution_count": 21,
     "metadata": {},
     "output_type": "execute_result"
    },
    {
     "data": {
      "text/plain": [
       "False"
      ]
     },
     "execution_count": 21,
     "metadata": {},
     "output_type": "execute_result"
    },
    {
     "data": {
      "text/plain": [
       "False"
      ]
     },
     "execution_count": 21,
     "metadata": {},
     "output_type": "execute_result"
    },
    {
     "data": {
      "text/plain": [
       "False"
      ]
     },
     "execution_count": 21,
     "metadata": {},
     "output_type": "execute_result"
    },
    {
     "data": {
      "text/plain": [
       "2"
      ]
     },
     "execution_count": 21,
     "metadata": {},
     "output_type": "execute_result"
    },
    {
     "data": {
      "text/plain": [
       "<DstTzInfo 'Asia/Shanghai' CST+8:00:00 STD>"
      ]
     },
     "execution_count": 21,
     "metadata": {},
     "output_type": "execute_result"
    },
    {
     "data": {
      "text/plain": [
       "23"
      ]
     },
     "execution_count": 21,
     "metadata": {},
     "output_type": "execute_result"
    },
    {
     "data": {
      "text/plain": [
       "23"
      ]
     },
     "execution_count": 21,
     "metadata": {},
     "output_type": "execute_result"
    },
    {
     "data": {
      "text/plain": [
       "2022"
      ]
     },
     "execution_count": 21,
     "metadata": {},
     "output_type": "execute_result"
    },
    {
     "data": {
      "text/plain": [
       "6"
      ]
     },
     "execution_count": 21,
     "metadata": {},
     "output_type": "execute_result"
    }
   ],
   "source": [
    "tmp.day_of_week   #从0数\n",
    "tmp.day_of_year\n",
    "tmp.dayofweek\n",
    "tmp.dayofyear\n",
    "tmp.daysinmonth\n",
    "# tmp.freqstr    #将取消\n",
    "tmp.is_leap_year\n",
    "tmp.is_month_end\n",
    "tmp.is_month_start\n",
    "tmp.is_quarter_end\n",
    "tmp.is_quarter_start\n",
    "tmp.is_year_end\n",
    "tmp.is_year_start\n",
    "tmp.quarter\n",
    "tmp.tz\n",
    "tmp.week\n",
    "tmp.weekofyear\n",
    "\n",
    "\n",
    "tmp.year\n",
    "tmp.month"
   ]
  },
  {
   "cell_type": "markdown",
   "id": "96d9e12d-4ecd-4470-afa5-5005d4fb5e64",
   "metadata": {},
   "source": [
    "## Method"
   ]
  },
  {
   "cell_type": "code",
   "execution_count": 8,
   "id": "1f63dfb9-416a-4fb5-9bb0-d781f5236b8a",
   "metadata": {},
   "outputs": [
    {
     "data": {
      "text/plain": [
       "['Asia/Shanghai', 'Asia/Urumqi']"
      ]
     },
     "execution_count": 8,
     "metadata": {},
     "output_type": "execute_result"
    }
   ],
   "source": [
    "pytz.country_timezones(\"CN\")"
   ]
  },
  {
   "cell_type": "code",
   "execution_count": 49,
   "id": "5d5ca0ca-519a-4ce3-8f6d-1059a5cbbbf1",
   "metadata": {},
   "outputs": [
    {
     "data": {
      "text/plain": [
       "Timestamp('2022-06-07 08:40:00+0800', tz='Asia/Shanghai')"
      ]
     },
     "execution_count": 49,
     "metadata": {},
     "output_type": "execute_result"
    }
   ],
   "source": [
    "tmp"
   ]
  },
  {
   "cell_type": "code",
   "execution_count": 59,
   "id": "d643daae-3a69-417f-a819-f15508337117",
   "metadata": {},
   "outputs": [
    {
     "data": {
      "text/plain": [
       "Timestamp('2022-06-07 02:40:00+0200', tz='Europe/Belgrade')"
      ]
     },
     "execution_count": 59,
     "metadata": {},
     "output_type": "execute_result"
    }
   ],
   "source": [
    "# 这两个功能是一样的\n",
    "tmp.astimezone(tz=\"Europe/Belgrade\")\n",
    "tmp = tmp.tz_convert(tz=\"Asia/Shanghai\")"
   ]
  },
  {
   "cell_type": "code",
   "execution_count": 52,
   "id": "9561a8ba-005f-49e6-8291-f8e4234f9f3f",
   "metadata": {},
   "outputs": [
    {
     "data": {
      "text/plain": [
       "Timestamp('2022-06-07 09:00:00+0800', tz='Asia/Shanghai')"
      ]
     },
     "execution_count": 52,
     "metadata": {},
     "output_type": "execute_result"
    },
    {
     "data": {
      "text/plain": [
       "Timestamp('2022-06-07 08:40:00+0800', tz='Asia/Shanghai')"
      ]
     },
     "execution_count": 52,
     "metadata": {},
     "output_type": "execute_result"
    }
   ],
   "source": [
    "tmp.ceil(freq='H')   #向上截取, hour\n",
    "tmp.ceil(freq='T')   #minute"
   ]
  },
  {
   "cell_type": "code",
   "execution_count": 45,
   "id": "a5ed8506-eadb-4543-b826-06d5e30623dd",
   "metadata": {},
   "outputs": [
    {
     "data": {
      "text/plain": [
       "'Tue Jun  7 08:40:00 2022'"
      ]
     },
     "execution_count": 45,
     "metadata": {},
     "output_type": "execute_result"
    },
    {
     "data": {
      "text/plain": [
       "datetime.time(8, 40)"
      ]
     },
     "execution_count": 45,
     "metadata": {},
     "output_type": "execute_result"
    },
    {
     "data": {
      "text/plain": [
       "1654562400.0"
      ]
     },
     "execution_count": 45,
     "metadata": {},
     "output_type": "execute_result"
    },
    {
     "data": {
      "text/plain": [
       "datetime.date(2022, 6, 7)"
      ]
     },
     "execution_count": 45,
     "metadata": {},
     "output_type": "execute_result"
    },
    {
     "data": {
      "text/plain": [
       "'Tuesday'"
      ]
     },
     "execution_count": 45,
     "metadata": {},
     "output_type": "execute_result"
    }
   ],
   "source": [
    "tmp.ctime()\n",
    "tmp.time()\n",
    "tmp.timestamp()\n",
    "tmp.date()\n",
    "tmp.day_name()"
   ]
  },
  {
   "cell_type": "code",
   "execution_count": 61,
   "id": "3d8ea896-dbd2-452f-99cf-7ddd96cc995b",
   "metadata": {},
   "outputs": [
    {
     "data": {
      "text/plain": [
       "datetime.timedelta(0)"
      ]
     },
     "execution_count": 61,
     "metadata": {},
     "output_type": "execute_result"
    }
   ],
   "source": [
    "tmp.dst()   #????"
   ]
  },
  {
   "cell_type": "code",
   "execution_count": 63,
   "id": "49513424-1077-4ce6-9c47-a417bf551ca9",
   "metadata": {},
   "outputs": [
    {
     "data": {
      "text/plain": [
       "Timestamp('2022-06-07 08:00:00+0800', tz='Asia/Shanghai')"
      ]
     },
     "execution_count": 63,
     "metadata": {},
     "output_type": "execute_result"
    }
   ],
   "source": [
    "tmp.floor(freq='H')  #和ceil对应"
   ]
  },
  {
   "cell_type": "code",
   "execution_count": 21,
   "id": "6d40df3b-4e77-4241-abbe-a38faec7ce89",
   "metadata": {},
   "outputs": [
    {
     "data": {
      "text/plain": [
       "Timestamp('2022-05-18 00:00:00')"
      ]
     },
     "execution_count": 21,
     "metadata": {},
     "output_type": "execute_result"
    }
   ],
   "source": [
    "pd.Timestamp.fromisocalendar(year=2022,week=20,day=3)"
   ]
  },
  {
   "cell_type": "code",
   "execution_count": 20,
   "id": "d8b0c9f6-cf18-499c-b3f8-e4cb61219fda",
   "metadata": {},
   "outputs": [
    {
     "data": {
      "text/plain": [
       "Timestamp('2022-06-09 00:00:00')"
      ]
     },
     "execution_count": 20,
     "metadata": {},
     "output_type": "execute_result"
    }
   ],
   "source": [
    "pd.Timestamp.fromisoformat(\"2022-06-09\")"
   ]
  },
  {
   "cell_type": "code",
   "execution_count": 19,
   "id": "e40a3736-75da-4825-9b48-3d8a91678fc8",
   "metadata": {},
   "outputs": [
    {
     "data": {
      "text/plain": [
       "Timestamp('2022-06-09 00:00:00')"
      ]
     },
     "execution_count": 19,
     "metadata": {},
     "output_type": "execute_result"
    }
   ],
   "source": [
    "tmp.fromisoformat(\"2022-06-09\")"
   ]
  },
  {
   "cell_type": "code",
   "execution_count": 27,
   "id": "64f7f3b7-a508-459d-ac73-995c46143d5e",
   "metadata": {},
   "outputs": [
    {
     "data": {
      "text/plain": [
       "Timestamp('2022-06-09 07:30:42.731692')"
      ]
     },
     "execution_count": 27,
     "metadata": {},
     "output_type": "execute_result"
    }
   ],
   "source": [
    "pd.Timestamp.fromtimestamp(time.time())"
   ]
  },
  {
   "cell_type": "code",
   "execution_count": 28,
   "id": "b59147e8-df25-40df-80d8-1f61e2951b35",
   "metadata": {},
   "outputs": [
    {
     "data": {
      "text/plain": [
       "Timestamp('2022-06-09 07:36:11.093549')"
      ]
     },
     "execution_count": 28,
     "metadata": {},
     "output_type": "execute_result"
    }
   ],
   "source": [
    "pd.Timestamp.now()"
   ]
  },
  {
   "cell_type": "code",
   "execution_count": 35,
   "id": "f2527c1a-1a65-476a-a46d-8ecb77590389",
   "metadata": {},
   "outputs": [
    {
     "data": {
      "text/plain": [
       "Timestamp('2022-06-09 00:00:00')"
      ]
     },
     "execution_count": 35,
     "metadata": {},
     "output_type": "execute_result"
    }
   ],
   "source": [
    "pd.Timestamp(2022,6,9,15,20).normalize()"
   ]
  },
  {
   "cell_type": "code",
   "execution_count": 5,
   "id": "1b6fa48e-f1d6-4670-80bb-7587cc2e1c44",
   "metadata": {},
   "outputs": [
    {
     "data": {
      "text/plain": [
       "Timestamp('2022-06-07 08:40:00+0800', tz='Asia/Shanghai')"
      ]
     },
     "execution_count": 5,
     "metadata": {},
     "output_type": "execute_result"
    },
    {
     "data": {
      "text/plain": [
       "Timestamp('2021-06-07 08:40:00+0800', tz='Asia/Shanghai')"
      ]
     },
     "execution_count": 5,
     "metadata": {},
     "output_type": "execute_result"
    },
    {
     "data": {
      "text/plain": [
       "Timestamp('2022-06-07 09:00:00+0800', tz='Asia/Shanghai')"
      ]
     },
     "execution_count": 5,
     "metadata": {},
     "output_type": "execute_result"
    },
    {
     "data": {
      "text/plain": [
       "'2022/06/07'"
      ]
     },
     "execution_count": 5,
     "metadata": {},
     "output_type": "execute_result"
    },
    {
     "data": {
      "text/plain": [
       "time.struct_time(tm_year=2022, tm_mon=6, tm_mday=7, tm_hour=8, tm_min=40, tm_sec=0, tm_wday=1, tm_yday=158, tm_isdst=0)"
      ]
     },
     "execution_count": 5,
     "metadata": {},
     "output_type": "execute_result"
    },
    {
     "data": {
      "text/plain": [
       "datetime.time(8, 40, tzinfo=<DstTzInfo 'Asia/Shanghai' CST+8:00:00 STD>)"
      ]
     },
     "execution_count": 5,
     "metadata": {},
     "output_type": "execute_result"
    },
    {
     "data": {
      "text/plain": [
       "<DstTzInfo 'Asia/Shanghai' CST+8:00:00 STD>"
      ]
     },
     "execution_count": 5,
     "metadata": {},
     "output_type": "execute_result"
    },
    {
     "data": {
      "text/plain": [
       "numpy.datetime64('2022-06-07T00:40:00.000000000')"
      ]
     },
     "execution_count": 5,
     "metadata": {},
     "output_type": "execute_result"
    },
    {
     "data": {
      "text/plain": [
       "numpy.datetime64('2022-06-07T00:40:00.000000000')"
      ]
     },
     "execution_count": 5,
     "metadata": {},
     "output_type": "execute_result"
    },
    {
     "name": "stderr",
     "output_type": "stream",
     "text": [
      "<ipython-input-5-cdc2ad60ec17>:12: UserWarning: Converting to Period representation will drop timezone information.\n",
      "  tmp.to_period(freq='Y')\n"
     ]
    },
    {
     "data": {
      "text/plain": [
       "Period('2022', 'A-DEC')"
      ]
     },
     "execution_count": 5,
     "metadata": {},
     "output_type": "execute_result"
    },
    {
     "data": {
      "text/plain": [
       "Timestamp('2022-06-10 07:35:45.714780')"
      ]
     },
     "execution_count": 5,
     "metadata": {},
     "output_type": "execute_result"
    }
   ],
   "source": [
    "tmp\n",
    "tmp.replace(year=2021)\n",
    "tmp.round(freq='H')\n",
    "tmp.strftime(\"%Y/%m/%d\")\n",
    "tmp.timetuple()\n",
    "\n",
    "tmp.timetz()\n",
    "tmp.timetz().tzinfo\n",
    "\n",
    "tmp.to_datetime64()\n",
    "tmp.to_numpy()\n",
    "tmp.to_period(freq='Y')\n",
    "\n",
    "tmp.today()"
   ]
  },
  {
   "cell_type": "code",
   "execution_count": 14,
   "id": "4c9fd523-42e5-45c2-9261-7d804162ac48",
   "metadata": {},
   "outputs": [
    {
     "data": {
      "text/plain": [
       "Timestamp('2022-06-10 00:00:00+0800', tz='Asia/Shanghai')"
      ]
     },
     "execution_count": 14,
     "metadata": {},
     "output_type": "execute_result"
    }
   ],
   "source": [
    "tmptz = pd.Timestamp(\"2022-06-10\")\n",
    "tmptz.tz_localize(tz=\"Asia/ShangHai\")"
   ]
  },
  {
   "cell_type": "code",
   "execution_count": 16,
   "id": "e514f3e9-6d36-4d4b-9e8a-3d23162d0b15",
   "metadata": {},
   "outputs": [
    {
     "name": "stdout",
     "output_type": "stream",
     "text": [
      "None\n"
     ]
    }
   ],
   "source": [
    "print(tmptz.tzname())"
   ]
  },
  {
   "cell_type": "code",
   "execution_count": 19,
   "id": "7260edf8-5fd2-4f6a-8d02-4e0302cdbdb5",
   "metadata": {},
   "outputs": [
    {
     "name": "stderr",
     "output_type": "stream",
     "text": [
      "<ipython-input-19-c5fee1e3c42f>:1: FutureWarning: The behavior of Timestamp.utcfromtimestamp is deprecated, in a future version will return a timezone-aware Timestamp with UTC timezone. To keep the old behavior, use Timestamp.utcfromtimestamp(ts).tz_localize(None). To get the future behavior, use Timestamp.fromtimestamp(ts, 'UTC')\n",
      "  pd.Timestamp.utcfromtimestamp(1584199972)   #将 time stamp 转换成utc时间\n"
     ]
    },
    {
     "data": {
      "text/plain": [
       "Timestamp('2020-03-14 15:32:52')"
      ]
     },
     "execution_count": 19,
     "metadata": {},
     "output_type": "execute_result"
    },
    {
     "data": {
      "text/plain": [
       "Timestamp('2022-06-09 23:46:05.081659+0000', tz='UTC')"
      ]
     },
     "execution_count": 19,
     "metadata": {},
     "output_type": "execute_result"
    }
   ],
   "source": [
    "pd.Timestamp.utcfromtimestamp(1584199972)   #将 time stamp 转换成utc时间\n",
    "pd.Timestamp.utcnow()"
   ]
  },
  {
   "cell_type": "markdown",
   "id": "2863d188-c7e9-4316-ab74-12fd0e0b4210",
   "metadata": {},
   "source": [
    "# Timedelta data"
   ]
  },
  {
   "cell_type": "raw",
   "id": "43fefb63-5453-45de-993d-1b896b8af878",
   "metadata": {},
   "source": [
    "Timedelta is the pandas equivalent of python’s datetime.timedelta and is interchangeable with it in most cases."
   ]
  },
  {
   "cell_type": "raw",
   "id": "246e21dd-dd24-4712-8cf1-d1a08e9a887b",
   "metadata": {},
   "source": [
    "class pandas.Timedelta(value=<object object>, unit=None, **kwargs)\n",
    "    value [Timedelta, timedelta, np.timedelta64, str, or int]\n",
    "    unit [str, default ‘ns’] Denote the unit of the input, if input is an integer.\n",
    "        Possible values:\n",
    "        • ‘W’, ‘D’, ‘T’, ‘S’, ‘L’, ‘U’, or ‘N’\n",
    "        • ‘days’ or ‘day’\n",
    "        • ‘hours’, ‘hour’, ‘hr’, or ‘h’\n",
    "        • ‘minutes’, ‘minute’, ‘min’, or ‘m’\n",
    "        • ‘seconds’, ‘second’, or ‘sec’\n",
    "        • ‘milliseconds’, ‘millisecond’, ‘millis’, or ‘milli’\n",
    "        • ‘microseconds’, ‘microsecond’, ‘micros’, or ‘micro’\n",
    "        • ‘nanoseconds’, ‘nanosecond’, ‘nanos’, ‘nano’, or ‘ns’.\n",
    "**kwargs Available kwargs: {days, seconds, microseconds, milliseconds, minutes, hours,\n",
    "weeks}. Values for construction in compat with datetime.timedelta. Numpy ints and\n",
    "floats will be coerced to python ints and floats."
   ]
  },
  {
   "cell_type": "code",
   "execution_count": 3,
   "id": "c90118ff-1242-443f-9648-27fafc2bf0a7",
   "metadata": {},
   "outputs": [
    {
     "data": {
      "text/plain": [
       "Timedelta('0 days 00:01:00')"
      ]
     },
     "execution_count": 3,
     "metadata": {},
     "output_type": "execute_result"
    }
   ],
   "source": [
    "td = pd.Timedelta(value=1,unit='T')\n",
    "td"
   ]
  },
  {
   "cell_type": "code",
   "execution_count": 4,
   "id": "e51f10f1-f68a-4f57-b391-18cba1762cda",
   "metadata": {},
   "outputs": [
    {
     "ename": "TypeError",
     "evalue": "view() takes exactly one argument (0 given)",
     "output_type": "error",
     "traceback": [
      "\u001b[1;31m---------------------------------------------------------------------------\u001b[0m",
      "\u001b[1;31mTypeError\u001b[0m                                 Traceback (most recent call last)",
      "\u001b[1;32m<ipython-input-4-22376968678a>\u001b[0m in \u001b[0;36m<module>\u001b[1;34m\u001b[0m\n\u001b[1;32m----> 1\u001b[1;33m \u001b[0mtd\u001b[0m\u001b[1;33m.\u001b[0m\u001b[0mview\u001b[0m\u001b[1;33m(\u001b[0m\u001b[1;33m)\u001b[0m\u001b[1;33m\u001b[0m\u001b[1;33m\u001b[0m\u001b[0m\n\u001b[0m",
      "\u001b[1;31mTypeError\u001b[0m: view() takes exactly one argument (0 given)"
     ]
    }
   ],
   "source": [
    "td.view()"
   ]
  },
  {
   "cell_type": "markdown",
   "id": "80f8fb22-7735-439b-ae1d-489887aa3978",
   "metadata": {},
   "source": [
    "# Timespan data"
   ]
  },
  {
   "cell_type": "markdown",
   "id": "a1719706-cf46-49f0-b847-e4d91e34eddb",
   "metadata": {},
   "source": [
    "# Period"
   ]
  },
  {
   "cell_type": "markdown",
   "id": "f49bea87-9a18-4ca5-a92e-6ceccb1a3f18",
   "metadata": {},
   "source": [
    "# Interval data"
   ]
  },
  {
   "cell_type": "markdown",
   "id": "4bffcbc8-7b98-4d91-9b1c-836833cfaecd",
   "metadata": {},
   "source": [
    "# Nullable integar"
   ]
  },
  {
   "cell_type": "code",
   "execution_count": 22,
   "id": "373336cd-6b33-4a6c-9472-fbbd41662386",
   "metadata": {},
   "outputs": [],
   "source": [
    "pth = r\".\\testfile\\FFmc0320210126.csv\"\n",
    "df = pd.read_csv(pth,index_col=0)"
   ]
  },
  {
   "cell_type": "code",
   "execution_count": 23,
   "id": "c8ce8067-8d05-4a29-b238-9130866078cf",
   "metadata": {},
   "outputs": [
    {
     "data": {
      "text/html": [
       "<div>\n",
       "<style scoped>\n",
       "    .dataframe tbody tr th:only-of-type {\n",
       "        vertical-align: middle;\n",
       "    }\n",
       "\n",
       "    .dataframe tbody tr th {\n",
       "        vertical-align: top;\n",
       "    }\n",
       "\n",
       "    .dataframe thead th {\n",
       "        text-align: right;\n",
       "    }\n",
       "</style>\n",
       "<table border=\"1\" class=\"dataframe\">\n",
       "  <thead>\n",
       "    <tr style=\"text-align: right;\">\n",
       "      <th></th>\n",
       "      <th>SoftBin</th>\n",
       "      <th>HardBin</th>\n",
       "      <th>TestThatBinned</th>\n",
       "      <th>T086003_2_Value</th>\n",
       "    </tr>\n",
       "  </thead>\n",
       "  <tbody>\n",
       "    <tr>\n",
       "      <th>0</th>\n",
       "      <td>E3</td>\n",
       "      <td>4</td>\n",
       "      <td>T008010</td>\n",
       "      <td>4.155238</td>\n",
       "    </tr>\n",
       "    <tr>\n",
       "      <th>1</th>\n",
       "      <td>01</td>\n",
       "      <td>0</td>\n",
       "      <td>NaN</td>\n",
       "      <td>3.785501</td>\n",
       "    </tr>\n",
       "    <tr>\n",
       "      <th>2</th>\n",
       "      <td>5F</td>\n",
       "      <td>4</td>\n",
       "      <td>T008016</td>\n",
       "      <td>3.307498</td>\n",
       "    </tr>\n",
       "    <tr>\n",
       "      <th>3</th>\n",
       "      <td>01</td>\n",
       "      <td>0</td>\n",
       "      <td>NaN</td>\n",
       "      <td>3.804616</td>\n",
       "    </tr>\n",
       "    <tr>\n",
       "      <th>4</th>\n",
       "      <td>E3</td>\n",
       "      <td>4</td>\n",
       "      <td>T008010</td>\n",
       "      <td>3.652879</td>\n",
       "    </tr>\n",
       "  </tbody>\n",
       "</table>\n",
       "</div>"
      ],
      "text/plain": [
       "  SoftBin  HardBin TestThatBinned  T086003_2_Value\n",
       "0      E3        4        T008010         4.155238\n",
       "1      01        0            NaN         3.785501\n",
       "2      5F        4        T008016         3.307498\n",
       "3      01        0            NaN         3.804616\n",
       "4      E3        4        T008010         3.652879"
      ]
     },
     "execution_count": 23,
     "metadata": {},
     "output_type": "execute_result"
    }
   ],
   "source": [
    "df = df[[\"SoftBin\",\"HardBin\",\"TestThatBinned\",\"T086003_2_Value\"]]\n",
    "df.head()"
   ]
  },
  {
   "cell_type": "code",
   "execution_count": 9,
   "id": "cd6c078c-89d5-48ce-a3f6-e1c329304d14",
   "metadata": {},
   "outputs": [
    {
     "data": {
      "text/plain": [
       "TestThatBinned\n",
       "T008010    2\n",
       "T008016    1\n",
       "dtype: int64"
      ]
     },
     "execution_count": 9,
     "metadata": {},
     "output_type": "execute_result"
    }
   ],
   "source": [
    "tt.groupby(\"TestThatBinned\").size()"
   ]
  },
  {
   "cell_type": "raw",
   "id": "f9040151-ce7b-46e7-8550-77c859d97949",
   "metadata": {},
   "source": [
    "对于NaN (not a number) groupby 会自动剔除"
   ]
  },
  {
   "cell_type": "markdown",
   "id": "649d50d3-7247-45cf-93fd-eab890d5a369",
   "metadata": {},
   "source": [
    "## 缺失值处理"
   ]
  },
  {
   "cell_type": "markdown",
   "id": "c2f908ba-de06-4ba4-aeb1-1421b6023133",
   "metadata": {},
   "source": [
    "### 查看特征缺失值个数\n",
    "df.isnull(): 可以识别 null / None / Nan"
   ]
  },
  {
   "cell_type": "code",
   "execution_count": 25,
   "id": "b95f891e-6ac0-4217-acdf-456573e7c079",
   "metadata": {},
   "outputs": [
    {
     "data": {
      "text/plain": [
       "6272"
      ]
     },
     "execution_count": 25,
     "metadata": {},
     "output_type": "execute_result"
    },
    {
     "data": {
      "text/plain": [
       "283"
      ]
     },
     "execution_count": 25,
     "metadata": {},
     "output_type": "execute_result"
    }
   ],
   "source": [
    "df['TestThatBinned'].isnull().sum(axis=0)\n",
    "df['T086003_2_Value'].isnull().sum(axis=0)"
   ]
  },
  {
   "cell_type": "code",
   "execution_count": 27,
   "id": "f4e587e5-73f0-4d8f-b020-3418108c97ed",
   "metadata": {},
   "outputs": [
    {
     "data": {
      "text/plain": [
       "SoftBin            False\n",
       "HardBin            False\n",
       "TestThatBinned      True\n",
       "T086003_2_Value     True\n",
       "dtype: bool"
      ]
     },
     "execution_count": 27,
     "metadata": {},
     "output_type": "execute_result"
    }
   ],
   "source": [
    "# 是否有缺失值:\n",
    "df.isnull().any(axis=0)"
   ]
  },
  {
   "cell_type": "markdown",
   "id": "defa8a8b-27c0-4421-b248-fba8f2dd9a17",
   "metadata": {},
   "source": [
    "### 缺失值处理"
   ]
  },
  {
   "cell_type": "code",
   "execution_count": 28,
   "id": "355f0e2e-42be-462d-9608-75b84b380fb9",
   "metadata": {
    "collapsed": true,
    "jupyter": {
     "outputs_hidden": true
    },
    "tags": []
   },
   "outputs": [
    {
     "data": {
      "text/plain": [
       "0                   T008010\n",
       "2                   T008016\n",
       "4                   T008010\n",
       "6                   T008016\n",
       "12                  T008010\n",
       "13                  T008010\n",
       "18                  T008016\n",
       "35                  T008016\n",
       "41                  T008010\n",
       "45                  T008010\n",
       "55                  T008010\n",
       "59                  T008016\n",
       "60                  T008010\n",
       "1                   T008016\n",
       "6                   T008016\n",
       "13                  T008016\n",
       "16                  T008010\n",
       "17                  T008016\n",
       "19                T086004_1\n",
       "33                  T008016\n",
       "42                  T008016\n",
       "45                  T008016\n",
       "50                  T008016\n",
       "57                  T008010\n",
       "60                  T008010\n",
       "14                  T008016\n",
       "25                  T008016\n",
       "27                T086003_1\n",
       "48                  T008016\n",
       "52                T086004_2\n",
       "55                  T008016\n",
       "7                   T008010\n",
       "8                   T008016\n",
       "19                  T008016\n",
       "26                  T008010\n",
       "52                  T008010\n",
       "3                   T008016\n",
       "5                   T008016\n",
       "6                   T008016\n",
       "23                  T008016\n",
       "35                  T008016\n",
       "44                  T008016\n",
       "54                  T008010\n",
       "59                  T008016\n",
       "7                   T008016\n",
       "12                  T008010\n",
       "16                  T008016\n",
       "17                  T008010\n",
       "20    T006001_Remeasurement\n",
       "24                  T008010\n",
       "28                  T008010\n",
       "30                  T008016\n",
       "33                  T008016\n",
       "40                  T031004\n",
       "59                  T008034\n",
       "0                   T008010\n",
       "3                   T008016\n",
       "9                 T086003_1\n",
       "13                  T008010\n",
       "14                  T008016\n",
       "19                T086004_2\n",
       "24                  T008010\n",
       "29                  T008010\n",
       "37                  T008016\n",
       "40                  T031004\n",
       "42                  T008010\n",
       "51                  T008016\n",
       "62                  T008016\n",
       "2                   T008016\n",
       "6                   T008016\n",
       "23                  T008016\n",
       "30                  T008004\n",
       "32                  T008016\n",
       "34                  T008016\n",
       "23                  T008010\n",
       "59                  T008016\n",
       "60                  T008010\n",
       "61                  T008010\n",
       "62                  T008016\n",
       "4                   T008010\n",
       "9                   T031005\n",
       "11                  T008016\n",
       "12                  T008016\n",
       "34                  T008010\n",
       "35                  T008016\n",
       "43                  T008016\n",
       "49                  T001001\n",
       "56                  T008016\n",
       "2                   T008016\n",
       "11                  T008016\n",
       "24    T085001_Remeasurement\n",
       "28                  T008016\n",
       "36                  T008016\n",
       "38                  T008016\n",
       "39                  T008016\n",
       "50                  T008024\n",
       "2                   T008016\n",
       "3                   T060005\n",
       "4                   T008010\n",
       "6                   T008016\n",
       "8                   T008016\n",
       "19                  T008016\n",
       "20                  T008016\n",
       "27                  T008016\n",
       "28                  T008016\n",
       "30                  T008016\n",
       "39                  T008010\n",
       "40                  T008010\n",
       "43                  T008016\n",
       "48                  T008016\n",
       "49                  T008016\n",
       "50                  T008016\n",
       "54                  T008016\n",
       "56                  T008016\n",
       "57                  T008016\n",
       "58                  T008016\n",
       "59                  T008016\n",
       "63                  T008016\n",
       "20                  T008016\n",
       "25                  T031005\n",
       "57                T086004_2\n",
       "43                T086004_2\n",
       "34                  T008010\n",
       "43                  T008016\n",
       "62                  T031006\n",
       "26                  T008010\n",
       "45                  T031004\n",
       "12                  T008016\n",
       "17                  T008016\n",
       "21                  T008010\n",
       "24                  T008010\n",
       "25                  T008016\n",
       "26                  T008010\n",
       "28                  T008016\n",
       "30                  T008016\n",
       "34                  T008016\n",
       "35                  T008016\n",
       "37                  T008016\n",
       "45                  T008010\n",
       "46                  T008010\n",
       "48                  T008016\n",
       "59                  T008016\n",
       "16                  T031006\n",
       "47                  T050003\n",
       "60                  T008024\n",
       "27                  T050002\n",
       "44                  T008010\n",
       "0                   T008024\n",
       "13                  T008002\n",
       "15                  T008024\n",
       "29                  T008004\n",
       "31                  T008024\n",
       "36                  T001001\n",
       "47                  T050002\n",
       "56                T086004_1\n",
       "9                   T008024\n",
       "4                   T031005\n",
       "50                  T008024\n",
       "32                  T008004\n",
       "49                  T008002\n",
       "9                   T031006\n",
       "14                  T031006\n",
       "49                  T031001\n",
       "0                   T008010\n",
       "3                   T008002\n",
       "7                   T008024\n",
       "12                  T008004\n",
       "14                  T008004\n",
       "0                 T086001_2\n",
       "1                 T086001_2\n",
       "2                 T086001_2\n",
       "3                 T086001_2\n",
       "4                 T086001_2\n",
       "6                 T086001_2\n",
       "7                 T086001_2\n",
       "8                 T086001_2\n",
       "9                 T086001_2\n",
       "10                T086001_2\n",
       "11                  T031005\n",
       "12                T086001_2\n",
       "13                T086001_2\n",
       "14                T086001_2\n",
       "15                T086001_2\n",
       "16                T086001_2\n",
       "17                T086001_2\n",
       "18                T086001_2\n",
       "19                T086001_2\n",
       "20                T086001_2\n",
       "21                T086001_2\n",
       "22                T086001_2\n",
       "23                T086001_2\n",
       "24                T086001_2\n",
       "25                T086001_2\n",
       "26                T086001_2\n",
       "27                T086001_2\n",
       "28                T086001_2\n",
       "29                T086001_2\n",
       "30                T086001_2\n",
       "31                T086001_2\n",
       "32                T086001_2\n",
       "33                T086001_2\n",
       "34                T086001_2\n",
       "35                T086001_2\n",
       "36                T086001_2\n",
       "37                T086001_2\n",
       "38                T086001_2\n",
       "39                T086001_2\n",
       "40                T086001_2\n",
       "41                T086001_2\n",
       "42                T086001_2\n",
       "43                T086001_2\n",
       "44                T086001_2\n",
       "46                T086001_2\n",
       "47                T086001_2\n",
       "48                T086001_2\n",
       "50                T086001_2\n",
       "51                T086001_2\n",
       "52                T086001_2\n",
       "53                T086001_2\n",
       "54                T086001_2\n",
       "55                T086001_2\n",
       "56                T086001_2\n",
       "57                T086001_2\n",
       "58                T086001_2\n",
       "59                T086001_2\n",
       "60                T086001_2\n",
       "61                T086001_2\n",
       "62                T086001_2\n",
       "63                T086001_2\n",
       "22                  T008034\n",
       "10                  T031004\n",
       "31                  T031005\n",
       "14                  T031004\n",
       "8                   T008024\n",
       "31                  T031005\n",
       "6                   T008002\n",
       "11                  T031006\n",
       "23                  T008004\n",
       "33                T086004_2\n",
       "54                  T008004\n",
       "8                   T008004\n",
       "31                  T031005\n",
       "0                   T008002\n",
       "1                   T008002\n",
       "2                   T008002\n",
       "3                   T008002\n",
       "4                   T008002\n",
       "5                   T008002\n",
       "6                   T008002\n",
       "7                   T008002\n",
       "8                   T008002\n",
       "9                   T008002\n",
       "10                  T008002\n",
       "11                  T008002\n",
       "12                  T008002\n",
       "13                  T008002\n",
       "14                  T008002\n",
       "15                  T008002\n",
       "16                  T008002\n",
       "17                  T008002\n",
       "18                T006001_2\n",
       "19                  T008002\n",
       "20                  T008002\n",
       "21                  T008002\n",
       "22                  T008002\n",
       "23                  T008002\n",
       "24                  T008002\n",
       "25                  T008002\n",
       "26                  T008002\n",
       "27                  T008002\n",
       "28                  T008002\n",
       "29                  T008002\n",
       "30                  T008002\n",
       "31                  T008002\n",
       "33                  T008002\n",
       "34                  T008002\n",
       "35                  T008002\n",
       "36                  T008002\n",
       "37                  T008002\n",
       "38                  T008002\n",
       "39                  T008002\n",
       "40                  T008002\n",
       "41                  T008002\n",
       "42                  T008002\n",
       "43                  T008002\n",
       "44                  T008002\n",
       "45                  T008002\n",
       "46                  T008002\n",
       "47                  T008002\n",
       "48                  T031004\n",
       "49                  T008002\n",
       "50                  T008002\n",
       "51                  T008002\n",
       "52                  T008002\n",
       "53                  T008002\n",
       "54                  T008002\n",
       "55                  T008002\n",
       "56                  T008002\n",
       "57                  T008002\n",
       "58                  T008002\n",
       "59                  T008002\n",
       "60                  T008002\n",
       "61                  T008002\n",
       "62                  T008002\n",
       "63                  T008002\n",
       "31                  T031005\n",
       "1                   T008004\n",
       "18                T006001_1\n",
       "28    T006001_Remeasurement\n",
       "31                  T031005\n",
       "48                  T031004\n",
       "48                  T031004\n",
       "12                  T008024\n",
       "31                  T031005\n",
       "15                  T050003\n",
       "17                  T008024\n",
       "31                  T031005\n",
       "0                 T086002_1\n",
       "31                  T031005\n",
       "5                 T086003_2\n",
       "31                  T031005\n",
       "7                   T031004\n",
       "11                  T031005\n",
       "31                  T031005\n",
       "40                  T008004\n",
       "48                  T031004\n",
       "50                  T008010\n",
       "61                  T008010\n",
       "18                T086006_1\n",
       "45                  T008002\n",
       "60                  T031006\n",
       "30                  T031005\n",
       "60                  T031006\n",
       "13                  T031005\n",
       "21                  T031006\n",
       "48                T086004_2\n",
       "26                  T050002\n",
       "53                  T008024\n",
       "5                   T008024\n",
       "25                  T008024\n",
       "60                  T031006\n",
       "16                  T008004\n",
       "18                  T008004\n",
       "21                  T031006\n",
       "38                  T060005\n",
       "47                  T008004\n",
       "20                T086002_1\n",
       "21                  T031006\n",
       "61                  T008024\n",
       "58                  T008024\n",
       "62                  T031005\n",
       "24                  T008024\n",
       "56                  T008024\n",
       "0                   T008024\n",
       "11                  T008024\n",
       "14                  T008024\n",
       "17                  T008024\n",
       "23                  T008024\n",
       "24                  T008024\n",
       "29                  T008024\n",
       "34                  T008024\n",
       "40                  T008004\n",
       "41                  T008004\n",
       "43                  T008010\n",
       "46                  T008024\n",
       "53                  T008024\n",
       "1                 T086004_2\n",
       "21                T086004_2\n",
       "21                  T031006\n",
       "62                  T050002\n",
       "55                  T008024\n",
       "0                   T008024\n",
       "9                   T008024\n",
       "31                  T031005\n",
       "36                  T031006\n",
       "45                  T008002\n",
       "54                  T008024\n",
       "39                T086004_2\n",
       "40                  T008016\n",
       "2                 T086003_1\n",
       "16                  T008024\n",
       "29                  T031006\n",
       "3                   T008004\n",
       "5                   T008002\n",
       "38                  T008004\n",
       "48                  T008002\n",
       "35                  T008002\n",
       "1                   T008024\n",
       "24                  T031005\n",
       "53                  T050003\n",
       "31                  T008024\n",
       "63                  T008024\n",
       "0                   T031005\n",
       "40                T006001_1\n",
       "42                T086004_2\n",
       "5                   T008010\n",
       "0                   T008010\n",
       "2                   T008010\n",
       "6                   T008016\n",
       "17                  T031005\n",
       "22                  T008010\n",
       "25                  T008024\n",
       "28                  T008010\n",
       "53                  T008010\n",
       "58                  T008004\n",
       "61                  T008024\n",
       "1                   T008024\n",
       "17                  T008024\n",
       "18                  T008024\n",
       "23                  T008010\n",
       "61                  T008024\n",
       "36                  T031006\n",
       "47                T086002_1\n",
       "3                   T008010\n",
       "5                   T008016\n",
       "6                   T031001\n",
       "9                   T008016\n",
       "28                  T008010\n",
       "34                  T008016\n",
       "45                  T008016\n",
       "47                  T008016\n",
       "54                  T008010\n",
       "57                  T008010\n",
       "62                  T008016\n",
       "12                  T008016\n",
       "19                  T008010\n",
       "29                  T008016\n",
       "39                  T008016\n",
       "43                  T008016\n",
       "48                  T008010\n",
       "6                   T031001\n",
       "55                  T008016\n",
       "6                   T031001\n",
       "23                  T008016\n",
       "57                  T008010\n",
       "19                  T008016\n",
       "30                  T008016\n",
       "36                  T008010\n",
       "40                  T008016\n",
       "52                  T008016\n",
       "58                  T008016\n",
       "6                   T031001\n",
       "33                  T008016\n",
       "36                T086004_2\n",
       "52                  T008016\n",
       "6                   T031001\n",
       "22                  T008016\n",
       "24                  T008010\n",
       "26                  T008016\n",
       "35                  T008016\n",
       "9                   T008016\n",
       "25                  T008010\n",
       "27                  T008016\n",
       "34                  T008016\n",
       "47                  T008016\n",
       "62                T086004_2\n",
       "2                   T008016\n",
       "6                   T031001\n",
       "8                   T008010\n",
       "10                  T008010\n",
       "16                  T008016\n",
       "17                  T008016\n",
       "21                  T008016\n",
       "25                  T008016\n",
       "26                  T008016\n",
       "28                  T008016\n",
       "30                  T008010\n",
       "31                  T008016\n",
       "37                  T008016\n",
       "2                   T008016\n",
       "4                   T031005\n",
       "20                  T008010\n",
       "22                  T008016\n",
       "33                  T008010\n",
       "35                  T008010\n",
       "36                  T008024\n",
       "42                  T008016\n",
       "0                   T008016\n",
       "2                   T008016\n",
       "4                   T008016\n",
       "6                   T031001\n",
       "8                   T008016\n",
       "37                  T008010\n",
       "59                  T008016\n",
       "6                   T031001\n",
       "23                  T008024\n",
       "33                  T008016\n",
       "37                  T008016\n",
       "55                  T008010\n",
       "6                   T031001\n",
       "11                  T008010\n",
       "25                  T031005\n",
       "27                  T008016\n",
       "29                  T008016\n",
       "40                  T008016\n",
       "48                  T008016\n",
       "58                  T008010\n",
       "23                  T008010\n",
       "26                  T008010\n",
       "27                T086002_1\n",
       "48                  T008010\n",
       "50                  T008016\n",
       "53                  T008016\n",
       "52                  T008016\n",
       "53                  T008010\n",
       "7                   T008010\n",
       "13                  T008010\n",
       "14                  T008016\n",
       "15                  T008016\n",
       "7                 T086004_2\n",
       "8                 T086004_1\n",
       "57                  T008002\n",
       "Name: TestThatBinned, dtype: object"
      ]
     },
     "execution_count": 28,
     "metadata": {},
     "output_type": "execute_result"
    }
   ],
   "source": [
    "df['TestThatBinned'].dropna()"
   ]
  },
  {
   "cell_type": "code",
   "execution_count": null,
   "id": "c90ebc52-536c-494c-a0f8-93ef94692202",
   "metadata": {},
   "outputs": [],
   "source": []
  },
  {
   "cell_type": "code",
   "execution_count": null,
   "id": "7909b8e2-6c06-4465-ae8b-6f89dd6a7d7b",
   "metadata": {},
   "outputs": [],
   "source": []
  },
  {
   "cell_type": "markdown",
   "id": "5ed14282-5364-46b3-beeb-fc725aa4f434",
   "metadata": {},
   "source": [
    "# Catagorical data"
   ]
  },
  {
   "cell_type": "raw",
   "id": "68769c6d-82b3-47bc-ab5b-e13b72639962",
   "metadata": {},
   "source": [
    "pandas从0.15版开始提供分类数据类型，用于表示统计学里有限且唯一性数据集，例如描述个人信息的性别一般就男和女两个数据常用'm'和'f'来描述，有时也能对应编码映射为0和1。血型A、B、O和AB型等选择可以映射为0、1、2、3这四个数字分别代表各个血型。pandas里直接就有categorical类型，可以有效地对数据进行分组进行相应的汇总统计工作。\n",
    "\n",
    "当DataFrame的某列(字段)上的数据值都是某有限个数值的集合里的值的时候，例如：性别就男和女，有限且唯一。这列可以采用Categorical Data类型来存储、统计。\n",
    "\n",
    "pandas的Categorical Data类型灵感来源于Data wareHorsing数据仓库里的维度表设计理念，即某列数据存储的不是数据本身，而是该数据对应的编码(有称为分类、字典编码) 这些编码比数据本身存储依赖的空间小，但能基于编码统计汇总的速度要比数据本身的存储、统计速度要快。\n",
    "\n",
    "当DataFrame里的某列数据采用categorical Data方式，那么这列数据的存储会大大降低.\n",
    "\n",
    "经语句df['fruit'] = df['fruit'].astype('category')将fruit列由Series改为了category类型。"
   ]
  },
  {
   "cell_type": "code",
   "execution_count": 6,
   "id": "5705816f-45e3-41ec-8749-a95243ad137c",
   "metadata": {},
   "outputs": [
    {
     "name": "stdout",
     "output_type": "stream",
     "text": [
      "   price\n",
      "1    5.2\n",
      "2    3.5\n",
      "3    7.3\n",
      "5    5.0\n",
      "6    7.5\n",
      "7    7.3\n",
      "9    5.2\n",
      "4    3.7\n",
      "8    7.3\n",
      "   price   fruit\n",
      "1    5.2   apple\n",
      "2    3.5   pearl\n",
      "3    7.3  orange\n",
      "5    5.0   apple\n",
      "6    7.5  orange\n",
      "7    7.3  orange\n",
      "9    5.2   apple\n",
      "4    3.7   pearl\n",
      "8    7.3  orange\n",
      "[0 2 1 0 1 1 0 2 1]\n",
      "Index(['apple', 'orange', 'pearl'], dtype='object')\n"
     ]
    }
   ],
   "source": [
    "idx = [1,2,3,5,6,7,9,4,8]\n",
    "fruit = [\"apple\",\"pearl\",\"orange\", \"apple\",\"orange\",\"orange\",\"apple\",\"pearl\",\"orange\"]\n",
    "price = [5.20,3.50,7.30,5.00,7.50,7.30,5.20,3.70,7.30]\n",
    "df = pd.DataFrame({\"price\" : price}, index = idx)\n",
    "print(df)\n",
    "cat = pd.Categorical(fruit)\n",
    "df[\"fruit\"] = cat\n",
    "print(df)\n",
    "print(cat.codes)\n",
    "print(cat.categories)"
   ]
  },
  {
   "cell_type": "code",
   "execution_count": null,
   "id": "7265a283-6493-4475-8098-23653d652a03",
   "metadata": {},
   "outputs": [],
   "source": []
  }
 ],
 "metadata": {
  "kernelspec": {
   "display_name": "Python 38",
   "language": "python",
   "name": "python3"
  },
  "language_info": {
   "codemirror_mode": {
    "name": "ipython",
    "version": 3
   },
   "file_extension": ".py",
   "mimetype": "text/x-python",
   "name": "python",
   "nbconvert_exporter": "python",
   "pygments_lexer": "ipython3",
   "version": "3.8.6"
  }
 },
 "nbformat": 4,
 "nbformat_minor": 5
}
