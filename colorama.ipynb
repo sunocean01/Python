{
 "cells": [
  {
   "cell_type": "code",
   "execution_count": 1,
   "id": "a3bcbb77",
   "metadata": {},
   "outputs": [],
   "source": [
    "import colorama as ca"
   ]
  },
  {
   "cell_type": "markdown",
   "id": "de5417ff",
   "metadata": {},
   "source": [
    "# colorama模块\n",
    "    Colorama是一个python专门用来在控制台、命令行输出彩色文字的模块\n",
    "    官网：https://pypi.org/project/colorama/"
   ]
  },
  {
   "cell_type": "code",
   "execution_count": null,
   "id": "67826219",
   "metadata": {},
   "outputs": [],
   "source": [
    "Fore是针对字体颜色，Back是针对字体背景颜色，Style是针对字体格式\n",
    "    Fore:BLACK,RED,GREEN,YELLOW,BLUE,MAGENTA,CYAN,WHITE,RESET.\n",
    "    Back:BLACK,RED,GREEN,YELLOW,BLUE,MAGENTA,CYAN,WHITE,RESET.\n",
    "    Style:DIM,NORMAL,BRIGHT,RESET_ALL\n",
    "Init关键字参数:\n",
    "    init()接受一些* * kwargs覆盖缺省行为，"
   ]
  },
  {
   "cell_type": "code",
   "execution_count": null,
   "id": "d8f5c243",
   "metadata": {},
   "outputs": [],
   "source": [
    "[x for x in dir(ca) if not x.startswith(\"_\")]"
   ]
  },
  {
   "cell_type": "code",
   "execution_count": null,
   "id": "cb92cb11",
   "metadata": {},
   "outputs": [],
   "source": [
    "help(ca.Cursor)"
   ]
  },
  {
   "cell_type": "markdown",
   "id": "a705b09a-39a1-4173-9c78-6922f11d5e82",
   "metadata": {},
   "source": [
    "# init()函数"
   ]
  },
  {
   "cell_type": "raw",
   "id": "98b61e27-e760-4e7e-8237-e6cc3090b9e7",
   "metadata": {},
   "source": [
    "init()接受一些 kwargs覆盖缺省行为：\n",
    "    1）比如设置autoreset，其用来自动恢复到默认颜色。init(autoreset = False)。\n",
    "    2）比如wrap，在windows系统终端输出颜色要使用init(wrap=True)"
   ]
  },
  {
   "cell_type": "code",
   "execution_count": null,
   "id": "c5d97b50-7d4f-4294-821c-05b041d20ee3",
   "metadata": {},
   "outputs": [],
   "source": [
    "# ca.init(autoreset=False)"
   ]
  },
  {
   "cell_type": "code",
   "execution_count": null,
   "id": "fd42e823-3624-446e-9280-0219a61835c6",
   "metadata": {},
   "outputs": [],
   "source": []
  },
  {
   "cell_type": "code",
   "execution_count": 2,
   "id": "fcd7e952",
   "metadata": {},
   "outputs": [
    {
     "name": "stdout",
     "output_type": "stream",
     "text": [
      "\u001b[31msome red text\n"
     ]
    }
   ],
   "source": [
    "print(ca.Fore.RED+'some red text')"
   ]
  },
  {
   "cell_type": "code",
   "execution_count": 3,
   "id": "2bac9ea7",
   "metadata": {},
   "outputs": [
    {
     "name": "stdout",
     "output_type": "stream",
     "text": [
      "\u001b[42mwith a green background\n"
     ]
    }
   ],
   "source": [
    "print(ca.Back.GREEN+'with a green background')"
   ]
  },
  {
   "cell_type": "code",
   "execution_count": 5,
   "id": "9c9c5d00",
   "metadata": {},
   "outputs": [
    {
     "name": "stdout",
     "output_type": "stream",
     "text": [
      "\u001b[1min dim text\n"
     ]
    }
   ],
   "source": [
    "print(ca.Style.BRIGHT+'in dim text')"
   ]
  },
  {
   "cell_type": "code",
   "execution_count": 4,
   "id": "299939fa",
   "metadata": {},
   "outputs": [
    {
     "name": "stdout",
     "output_type": "stream",
     "text": [
      "\u001b[42mwith a green background\n",
      "Second print\n"
     ]
    }
   ],
   "source": [
    "print(ca.Back.GREEN+'with a green background')\n",
    "print(\"Second print\")"
   ]
  },
  {
   "cell_type": "code",
   "execution_count": null,
   "id": "34f3d142",
   "metadata": {},
   "outputs": [],
   "source": []
  },
  {
   "cell_type": "code",
   "execution_count": 6,
   "id": "7740eb4b",
   "metadata": {},
   "outputs": [
    {
     "name": "stdout",
     "output_type": "stream",
     "text": [
      "\u001b[32m\n",
      "test\n"
     ]
    }
   ],
   "source": [
    "print(ca.Fore.GREEN)\n",
    "print('test')"
   ]
  },
  {
   "cell_type": "code",
   "execution_count": 7,
   "id": "e34753a6-5915-42c5-a56a-bce4fec6ce50",
   "metadata": {},
   "outputs": [
    {
     "name": "stdout",
     "output_type": "stream",
     "text": [
      "test\n"
     ]
    }
   ],
   "source": [
    "print('test')"
   ]
  },
  {
   "cell_type": "code",
   "execution_count": null,
   "id": "ca49d2e9-a5eb-47cc-9f8d-b1dbd3c63c92",
   "metadata": {},
   "outputs": [],
   "source": []
  }
 ],
 "metadata": {
  "kernelspec": {
   "display_name": "Python 38",
   "language": "python",
   "name": "python3"
  },
  "language_info": {
   "codemirror_mode": {
    "name": "ipython",
    "version": 3
   },
   "file_extension": ".py",
   "mimetype": "text/x-python",
   "name": "python",
   "nbconvert_exporter": "python",
   "pygments_lexer": "ipython3",
   "version": "3.8.6"
  },
  "toc": {
   "base_numbering": 1,
   "nav_menu": {},
   "number_sections": true,
   "sideBar": true,
   "skip_h1_title": false,
   "title_cell": "Table of Contents",
   "title_sidebar": "Contents",
   "toc_cell": false,
   "toc_position": {},
   "toc_section_display": true,
   "toc_window_display": false
  }
 },
 "nbformat": 4,
 "nbformat_minor": 5
}
