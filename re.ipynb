{
 "cells": [
  {
   "cell_type": "code",
   "execution_count": 1,
   "id": "bc15e3fe",
   "metadata": {},
   "outputs": [],
   "source": [
    "import re\n",
    "import pandas as pd"
   ]
  },
  {
   "cell_type": "code",
   "execution_count": 2,
   "id": "7456ee37",
   "metadata": {
    "collapsed": true,
    "jupyter": {
     "outputs_hidden": true
    },
    "scrolled": true,
    "tags": []
   },
   "outputs": [
    {
     "data": {
      "text/plain": [
       "['A',\n",
       " 'ASCII',\n",
       " 'DEBUG',\n",
       " 'DOTALL',\n",
       " 'I',\n",
       " 'IGNORECASE',\n",
       " 'L',\n",
       " 'LOCALE',\n",
       " 'M',\n",
       " 'MULTILINE',\n",
       " 'Match',\n",
       " 'Pattern',\n",
       " 'RegexFlag',\n",
       " 'S',\n",
       " 'Scanner',\n",
       " 'T',\n",
       " 'TEMPLATE',\n",
       " 'U',\n",
       " 'UNICODE',\n",
       " 'VERBOSE',\n",
       " 'X',\n",
       " 'compile',\n",
       " 'copyreg',\n",
       " 'enum',\n",
       " 'error',\n",
       " 'escape',\n",
       " 'findall',\n",
       " 'finditer',\n",
       " 'fullmatch',\n",
       " 'functools',\n",
       " 'match',\n",
       " 'purge',\n",
       " 'search',\n",
       " 'split',\n",
       " 'sre_compile',\n",
       " 'sre_parse',\n",
       " 'sub',\n",
       " 'subn',\n",
       " 'template']"
      ]
     },
     "execution_count": 2,
     "metadata": {},
     "output_type": "execute_result"
    }
   ],
   "source": [
    "[x for x in dir(re) if not x.startswith(\"_\")]"
   ]
  },
  {
   "cell_type": "markdown",
   "id": "302b3ac6",
   "metadata": {},
   "source": [
    "# 模式"
   ]
  },
  {
   "cell_type": "raw",
   "id": "21d98808",
   "metadata": {},
   "source": [
    "模式\t描述\n",
    "^  匹配字符串的开头.    \"^a\"\n",
    "$\t匹配字符串的末尾。  \"to$\"\n",
    ".\t匹配任意字符，除了换行符，当re.DOTALL标记被指定时，则可以匹配包括换行符的任意字符。\n",
    "[...]\t用来表示一组字符,单独列出：[amk] 匹配 'a'，'m'或'k'\n",
    "[^...]\t不在[]中的字符：[^abc] 匹配除了a,b,c之外的字符。\n",
    "re*\t匹配0个或多个的表达式。\n",
    "re+\t匹配1个或多个的表达式。\n",
    "re?\t匹配0个或1个由前面的正则表达式定义的片段，非贪婪方式\n",
    "re{ n}\t精确匹配 n 个前面表达式。例如， o{2} 不能匹配 \"Bob\" 中的 \"o\"，但是能匹配 \"food\" 中的两个 o。\n",
    "re{ n,}\t匹配 n 个前面表达式。例如， o{2,} 不能匹配\"Bob\"中的\"o\"，但能匹配 \"foooood\"中的所有 o。\"o{1,}\" 等价于 \"o+\"。\"o{0,}\" 则等价于 \"o*\"。\n",
    "re{ n, m}\t匹配 n 到 m 次由前面的正则表达式定义的片段，贪婪方式\n",
    "a| b\t匹配a或b\n",
    "(re)\t对正则表达式分组并记住匹配的文本\n",
    "(?imx)\t正则表达式包含三种可选标志：i, m, 或 x 。只影响括号中的区域。\n",
    "(?-imx)\t正则表达式关闭 i, m, 或 x 可选标志。只影响括号中的区域。\n",
    "(?: re)\t类似 (...), 但是不表示一个组\n",
    "(?imx: re)\t在括号中使用i, m, 或 x 可选标志\n",
    "(?-imx: re)\t在括号中不使用i, m, 或 x 可选标志\n",
    "(?#...)\t注释.\n",
    "(?= re)\t前向肯定界定符。如果所含正则表达式，以 ... 表示，在当前位置成功匹配时成功，否则失败。但一旦所含表达式已经尝试，匹配引擎根本没有提高；模式的剩余部分还要尝试界定符的右边。\n",
    "(?! re)\t正则表达式取反\n",
    "(?> re)\t匹配的独立模式，省去回溯。\n",
    "\\w\t匹配字母数字及下划线\n",
    "\\W\t匹配非字母数字及下划线\n",
    "\\s\t匹配任意空白字符，等价于 [ \\t\\n\\r\\f]。\n",
    "\\S\t匹配任意非空字符\n",
    "\\d\t匹配任意数字，等价于 [0-9].\n",
    "\\D\t匹配任意非数字\n",
    "\\A\t匹配字符串开始\n",
    "\\Z\t匹配字符串结束，如果是存在换行，只匹配到换行前的结束字符串。\n",
    "\\z\t匹配字符串结束\n",
    "\\G\t匹配最后匹配完成的位置。\n",
    "\\b\t匹配一个单词边界，也就是指单词和空格间的位置。例如， 'er\\b' 可以匹配\"never\" 中的 'er'，但不能匹配 \"verb\" 中的 'er'。\n",
    "\\B\t匹配非单词边界。'er\\B' 能匹配 \"verb\" 中的 'er'，但不能匹配 \"never\" 中的 'er'。\n",
    "\\n, \\t, 等.\t匹配一个换行符。匹配一个制表符。等\n",
    "\\1...\\9\t匹配第n个分组的内容。\n",
    "\\10\t匹配第n个分组的内容，如果它经匹配。否则指的是八进制字符码的表达式。"
   ]
  },
  {
   "cell_type": "markdown",
   "id": "fc7afc94",
   "metadata": {},
   "source": [
    "# 字符类型"
   ]
  },
  {
   "cell_type": "raw",
   "id": "c4391ba7",
   "metadata": {},
   "source": [
    "实例\t描述\n",
    "[Pp]ython\t匹配 \"Python\" 或 \"python\"\n",
    "rub[ye]\t匹配 \"ruby\" 或 \"rube\"\n",
    "[aeiou]\t匹配中括号内的任意一个字母\n",
    "[0-9]\t匹配任何数字。类似于 [0123456789]\n",
    "[a-z]\t匹配任何小写字母\n",
    "[A-Z]\t匹配任何大写字母\n",
    "[a-zA-Z0-9]\t匹配任何字母及数字\n",
    "[^aeiou]\t除了aeiou字母以外的所有字符\n",
    "[^0-9]\t匹配除了数字外的字符"
   ]
  },
  {
   "cell_type": "markdown",
   "id": "b73229b0",
   "metadata": {},
   "source": [
    "# 特殊字符类"
   ]
  },
  {
   "cell_type": "raw",
   "id": "d67dbf7c",
   "metadata": {},
   "source": [
    ".\t匹配除 \"\\n\" 之外的任何单个字符。要匹配包括 '\\n' 在内的任何字符，请使用象 '[.\\n]' 的模式。\n",
    "\\d\t匹配一个数字字符。等价于 [0-9]。\n",
    "\\D\t匹配一个非数字字符。等价于 [^0-9]。\n",
    "\\s\t匹配任何空白字符，包括空格、制表符、换页符等等。等价于 [ \\f\\n\\r\\t\\v]。\n",
    "\\S\t匹配任何非空白字符。等价于 [^ \\f\\n\\r\\t\\v]。\n",
    "\\w\t匹配包括下划线的任何单词字符。等价于'[A-Za-z0-9_]'。\n",
    "\\W\t匹配任何非单词字符。等价于 '[^A-Za-z0-9_]'。"
   ]
  },
  {
   "cell_type": "markdown",
   "id": "c2798410",
   "metadata": {},
   "source": [
    "# compile(pattern):编译正则表达式模式，返回一个对象的模式"
   ]
  },
  {
   "cell_type": "raw",
   "id": "22bcba63",
   "metadata": {},
   "source": [
    "pattern:编译时用的表达式字符串,如: r'.*9E4E1.*'\n",
    "flag 编译标志位，用于修改正则表达式的匹配方式，如：是否区分大小写，多行匹配等。常用的flags有：\n",
    "re.S(DOTALL):使.匹配包括换行在内的所有字符;\n",
    "re.I(IGNORECASE): 使匹配不区分大小写;\n",
    "re.L(LOCAL):做本地化识别(local-aware)匹配,语法等;\n",
    "re.M(MULTILINE):多行匹配,影响^和$;\n",
    "re.X(VERBOSE):这个标记允许你编写更具可读性更友好的正则表达式。通过分段和添加注释。空白符号会被忽略，除非在一个字符集合当中或者由反斜杠转义，或者在*?,(?:or(?P<…>分组之内。当一个行内有 #不在字符集和转义序列，那么它之后的所有字符都是注释。\n",
    "re.U:根据Unicode字符集解析字符,这个标志影响\\w,\\W,\\b,\\B;"
   ]
  },
  {
   "cell_type": "code",
   "execution_count": 3,
   "id": "fb4520b2",
   "metadata": {},
   "outputs": [],
   "source": [
    "tt = \"Tina is a goOdd girl, she is cool, clever, and so on...\\n\"\n",
    "rr = re.compile(r'\\w*oo\\w*',re.I)       #r'\\w*oo\\w*': \\w代表所有的字母,数字和_, 不包括空格; 所以返回的是词语;"
   ]
  },
  {
   "cell_type": "code",
   "execution_count": 4,
   "id": "6f973dfd",
   "metadata": {},
   "outputs": [
    {
     "data": {
      "text/plain": [
       "['goOdd', 'cool']"
      ]
     },
     "execution_count": 4,
     "metadata": {},
     "output_type": "execute_result"
    }
   ],
   "source": [
    "rr.findall(tt)"
   ]
  },
  {
   "cell_type": "code",
   "execution_count": 5,
   "id": "570015cd",
   "metadata": {},
   "outputs": [
    {
     "data": {
      "text/plain": [
       "['goOdd', 'cool']"
      ]
     },
     "execution_count": 5,
     "metadata": {},
     "output_type": "execute_result"
    }
   ],
   "source": [
    "re.findall(rr,tt)"
   ]
  },
  {
   "cell_type": "code",
   "execution_count": 7,
   "id": "d58af9e4",
   "metadata": {},
   "outputs": [
    {
     "data": {
      "text/plain": [
       "['cool']"
      ]
     },
     "execution_count": 7,
     "metadata": {},
     "output_type": "execute_result"
    }
   ],
   "source": [
    "tt = \"Tina is a goOd girl, she is cool, clever, and so on...\\n\"\n",
    "rr = re.compile(r\"\"\"\\w*     #可以构成词语的绝大部分字符，也包括数字和下划线\n",
    "                    oo      #包含连续的两个o\n",
    "                    \\w      #尾部同头部\"\"\",re.X)   #re.X的作用是允许给正则表达式加注释\n",
    "rr.findall(tt)"
   ]
  },
  {
   "cell_type": "markdown",
   "id": "ae4440f0",
   "metadata": {},
   "source": [
    "# search(pattern,string,flags=0):扫描字符串，返回第一个成功匹配的单词"
   ]
  },
  {
   "cell_type": "raw",
   "id": "fd12c5f6",
   "metadata": {},
   "source": [
    "pattern:匹配的正则表达式;\n",
    "string:要匹配的字符串;\n",
    "flags:标识位;"
   ]
  },
  {
   "cell_type": "code",
   "execution_count": 12,
   "id": "48b0f4a3",
   "metadata": {},
   "outputs": [
    {
     "data": {
      "text/plain": [
       "<re.Match object; span=(10, 14), match='goOd'>"
      ]
     },
     "execution_count": 12,
     "metadata": {},
     "output_type": "execute_result"
    }
   ],
   "source": [
    "tt = \"Tina is a goOd girl, she is cool, clever, and so on...\\n,Zoo\"\n",
    "rr = re.compile(r'\\w*oo\\w',re.I)\n",
    "rr.search(tt)                 #返回一个对象,包含位置信息,及单词"
   ]
  },
  {
   "cell_type": "code",
   "execution_count": 10,
   "id": "914922cb",
   "metadata": {},
   "outputs": [
    {
     "data": {
      "text/plain": [
       "(10, 14)"
      ]
     },
     "execution_count": 10,
     "metadata": {},
     "output_type": "execute_result"
    }
   ],
   "source": [
    "re.search(rr,tt).span()       #提取对象中的span(),及所查找单词的位置;"
   ]
  },
  {
   "cell_type": "markdown",
   "id": "3a13957e",
   "metadata": {},
   "source": [
    "# match(pattern,string,flag=0):只从字符串的最头进行匹配\n",
    "    只有一个结果,否则返回None"
   ]
  },
  {
   "cell_type": "raw",
   "id": "5699e535",
   "metadata": {},
   "source": [
    "pattern:匹配的正则表达式;\n",
    "string:要匹配的字符串;\n",
    "flags:标识位;\n",
    "类似字符串方法:startswith(),返回内容不一样;"
   ]
  },
  {
   "cell_type": "code",
   "execution_count": 17,
   "id": "0a635f5c",
   "metadata": {},
   "outputs": [
    {
     "data": {
      "text/plain": [
       "<re.Match object; span=(0, 4), match='Tina'>"
      ]
     },
     "execution_count": 17,
     "metadata": {},
     "output_type": "execute_result"
    }
   ],
   "source": [
    "tt = \"Tina is a goOd girl, she is cool, clever, and so on...\\n,Zoo\"\n",
    "rr = re.compile(r'\\w*Tin\\w',re.I)\n",
    "rr.match(tt)                 #返回一个对象,包含位置信息,及单词"
   ]
  },
  {
   "cell_type": "markdown",
   "id": "b8445216",
   "metadata": {},
   "source": [
    "# group()/groups()"
   ]
  },
  {
   "cell_type": "raw",
   "id": "9597018f",
   "metadata": {},
   "source": [
    ". group() 返回被 RE 匹配的字符串\n",
    ". start() 返回匹配开始的位置\n",
    ". end() 返回匹配结束的位置\n",
    ". span() 返回一个元组包含匹配 (开始,结束) 的位置\n",
    ". group() 返回re整体匹配的字符串，可以一次输入多个组号，对应组号匹配的字符串。\n",
    "a. group（）返回re整体匹配的字符串，\n",
    "b. group (n,m) 返回组号为n，m所匹配的字符串，如果组号不存在，则返回indexError异常\n",
    "c.groups（）groups() 方法返回一个包含正则表达式中所有小组字符串的元组，从 1 到所含的小组号，通常groups()不需要参数，返回一个元组，元组中的元就是正则表达式中定义的组。"
   ]
  },
  {
   "cell_type": "code",
   "execution_count": 18,
   "id": "52276a4e",
   "metadata": {},
   "outputs": [],
   "source": [
    "tt = \"Tina is a goOd girl, she is cool, clever, ggabgitrt and so on...,Zoo,number is 23143abgd56546 test\"\n",
    "# rr = re.compile(r'\\w*abg\\w',re.I)                       #包含'abg'的所有词语;\n",
    "rr = re.compile(r\"([0-9]+)([a-z]*)(bg)([a-z]*)([0-9]+)\",re.S)     #数字+字母+'abg'+字母+数字"
   ]
  },
  {
   "cell_type": "code",
   "execution_count": 19,
   "id": "3edda9d8",
   "metadata": {},
   "outputs": [
    {
     "data": {
      "text/plain": [
       "<re.Match object; span=(79, 93), match='23143abgd56546'>"
      ]
     },
     "execution_count": 19,
     "metadata": {},
     "output_type": "execute_result"
    }
   ],
   "source": [
    "rr.search(tt)             #返回对象:<_sre.SRE_Match object; span=(79, 93), match='23143abgd56546'>"
   ]
  },
  {
   "cell_type": "code",
   "execution_count": 20,
   "id": "c99522cc",
   "metadata": {},
   "outputs": [
    {
     "data": {
      "text/plain": [
       "'23143abgd56546'"
      ]
     },
     "execution_count": 20,
     "metadata": {},
     "output_type": "execute_result"
    }
   ],
   "source": [
    "rr.search(tt).group()     #返回满足条件的字符串:'23143abgd56546'"
   ]
  },
  {
   "cell_type": "code",
   "execution_count": 21,
   "id": "64fdda8e",
   "metadata": {},
   "outputs": [
    {
     "data": {
      "text/plain": [
       "79"
      ]
     },
     "execution_count": 21,
     "metadata": {},
     "output_type": "execute_result"
    }
   ],
   "source": [
    "rr.search(tt).start()     #返回字符串起点位置:79"
   ]
  },
  {
   "cell_type": "code",
   "execution_count": 22,
   "id": "61520b10",
   "metadata": {},
   "outputs": [
    {
     "data": {
      "text/plain": [
       "93"
      ]
     },
     "execution_count": 22,
     "metadata": {},
     "output_type": "execute_result"
    }
   ],
   "source": [
    "rr.search(tt).end()       #返回字符串终点位置:93"
   ]
  },
  {
   "cell_type": "code",
   "execution_count": 23,
   "id": "817b699a",
   "metadata": {},
   "outputs": [
    {
     "data": {
      "text/plain": [
       "(79, 93)"
      ]
     },
     "execution_count": 23,
     "metadata": {},
     "output_type": "execute_result"
    }
   ],
   "source": [
    "rr.search(tt).span()       #返回字符串起点终点位置(10,14)"
   ]
  },
  {
   "cell_type": "code",
   "execution_count": 24,
   "id": "6946a3bb",
   "metadata": {},
   "outputs": [
    {
     "data": {
      "text/plain": [
       "'23143'"
      ]
     },
     "execution_count": 24,
     "metadata": {},
     "output_type": "execute_result"
    }
   ],
   "source": [
    "re.search(rr,tt).group(1)      #返回'23143',对应的第一个位置 ([0-9]+)"
   ]
  },
  {
   "cell_type": "code",
   "execution_count": 25,
   "id": "40c776fc",
   "metadata": {},
   "outputs": [
    {
     "data": {
      "text/plain": [
       "'a'"
      ]
     },
     "execution_count": 25,
     "metadata": {},
     "output_type": "execute_result"
    }
   ],
   "source": [
    "rr.search(tt).group(2)         #返回'a',对应的第二个位置的([a-z]*)"
   ]
  },
  {
   "cell_type": "code",
   "execution_count": 26,
   "id": "3c4d6db8",
   "metadata": {},
   "outputs": [
    {
     "data": {
      "text/plain": [
       "'bg'"
      ]
     },
     "execution_count": 26,
     "metadata": {},
     "output_type": "execute_result"
    }
   ],
   "source": [
    "re.search(rr,tt).group(3)      #返回'bg',对应的第三个位置的(bg)"
   ]
  },
  {
   "cell_type": "code",
   "execution_count": 27,
   "id": "08d488f0",
   "metadata": {},
   "outputs": [
    {
     "data": {
      "text/plain": [
       "'d'"
      ]
     },
     "execution_count": 27,
     "metadata": {},
     "output_type": "execute_result"
    }
   ],
   "source": [
    "re.search(rr,tt).group(4)      #返回'd',对应的第四个位置的([a-z]*)"
   ]
  },
  {
   "cell_type": "code",
   "execution_count": 28,
   "id": "bdfbdbf8",
   "metadata": {},
   "outputs": [
    {
     "data": {
      "text/plain": [
       "'56546'"
      ]
     },
     "execution_count": 28,
     "metadata": {},
     "output_type": "execute_result"
    }
   ],
   "source": [
    "re.search(rr,tt).group(5)      #返回'56546',对应的第五个位置的([0-9]+)"
   ]
  },
  {
   "cell_type": "code",
   "execution_count": 29,
   "id": "f2289e9d",
   "metadata": {},
   "outputs": [
    {
     "data": {
      "text/plain": [
       "('23143', 'a', 'bg', 'd', '56546')"
      ]
     },
     "execution_count": 29,
     "metadata": {},
     "output_type": "execute_result"
    }
   ],
   "source": [
    "re.search(rr,tt).groups()      #返回5个位置的元组:('23143', 'a', 'bg', 'd', '56546')"
   ]
  },
  {
   "cell_type": "markdown",
   "id": "662dc75c",
   "metadata": {},
   "source": [
    "# findall:查找字符串中所有符合条件的字符串,返回列表"
   ]
  },
  {
   "cell_type": "raw",
   "id": "eeffa511",
   "metadata": {},
   "source": [
    "pattern:匹配的正则表达式;\n",
    "string:要匹配的字符串;\n",
    "flags:标识位;"
   ]
  },
  {
   "cell_type": "code",
   "execution_count": 30,
   "id": "fd474f99",
   "metadata": {},
   "outputs": [
    {
     "data": {
      "text/plain": [
       "['good', 'cool']"
      ]
     },
     "execution_count": 30,
     "metadata": {},
     "output_type": "execute_result"
    }
   ],
   "source": [
    "tt = \"Tina is a good girl, she is cool, clever, and so on...\\n\"\n",
    "rr = re.compile(r'\\w*oo\\w*',re.I)\n",
    "rr.findall(tt)                             #返回:['good', 'cool']"
   ]
  },
  {
   "cell_type": "code",
   "execution_count": 32,
   "id": "f9c32857",
   "metadata": {},
   "outputs": [
    {
     "data": {
      "text/plain": [
       "[('g', 'd'), ('c', 'l')]"
      ]
     },
     "execution_count": 32,
     "metadata": {},
     "output_type": "execute_result"
    }
   ],
   "source": [
    "re.findall(r'(\\w)*oo(\\w)*',tt)            #返回:[('g', 'd'), ('c', 'l')],()表示子表达式,也可以试着把'oo'改成(oo)"
   ]
  },
  {
   "cell_type": "code",
   "execution_count": 34,
   "id": "b8a21f1d",
   "metadata": {},
   "outputs": [
    {
     "data": {
      "text/plain": [
       "['oo', 'oo']"
      ]
     },
     "execution_count": 34,
     "metadata": {},
     "output_type": "execute_result"
    }
   ],
   "source": [
    "re.findall(r'\\w*(oo)\\w*',tt)            #返回:[('g', 'd'), ('c', 'l')],()表示子表达式,也可以试着把'oo'改成(oo)"
   ]
  },
  {
   "cell_type": "markdown",
   "id": "57d1abd1",
   "metadata": {},
   "source": [
    "# re.finditer: 与findall方法类似,以迭代器形式返回结果"
   ]
  },
  {
   "cell_type": "markdown",
   "id": "ae84edee",
   "metadata": {},
   "source": [
    "# re.split:按照能够匹配的子串将string分割后返回列表"
   ]
  },
  {
   "cell_type": "raw",
   "id": "524b5c21",
   "metadata": {},
   "source": [
    "pattern:\n",
    "string:\n",
    "maxsplit:"
   ]
  },
  {
   "cell_type": "code",
   "execution_count": 35,
   "id": "b79aff9c",
   "metadata": {},
   "outputs": [
    {
     "data": {
      "text/plain": [
       "['one', '1', 'two', '2', 'three', '3', 'four', '4', 'five', '5', '']"
      ]
     },
     "execution_count": 35,
     "metadata": {},
     "output_type": "execute_result"
    }
   ],
   "source": [
    "tt = r\"one1two2three3four4five5\"\n",
    "rr = re.compile(r'\\d+')\n",
    "rr = re.compile(r'(\\d+)')\n",
    "re.split(rr,tt)"
   ]
  },
  {
   "cell_type": "code",
   "execution_count": 36,
   "id": "974eeb67",
   "metadata": {},
   "outputs": [
    {
     "data": {
      "text/plain": [
       "['one', '1', 'two', '2', 'three', '3', 'four', '4', 'five', '5', '']"
      ]
     },
     "execution_count": 36,
     "metadata": {},
     "output_type": "execute_result"
    }
   ],
   "source": [
    "rr.split(tt)"
   ]
  },
  {
   "cell_type": "markdown",
   "id": "32fa7999",
   "metadata": {},
   "source": [
    "# re.sub:使用re替换string中每一个匹配的子串后返回替换后的字符串"
   ]
  },
  {
   "cell_type": "raw",
   "id": "41747105",
   "metadata": {},
   "source": [
    "pattern:正则表达式;\n",
    "repl: 要替换的内容;可以是字符串,也可以是函数;\n",
    "string: 目标字符串;\n",
    "count: 替换次数;默认0即替换所有\n",
    "flags: 可选,默认0"
   ]
  },
  {
   "cell_type": "code",
   "execution_count": 37,
   "id": "f6e03991",
   "metadata": {},
   "outputs": [
    {
     "data": {
      "text/plain": [
       "'JGood-is-a-handsome-boy,-he is cool, clever, and so on...'"
      ]
     },
     "execution_count": 37,
     "metadata": {},
     "output_type": "execute_result"
    }
   ],
   "source": [
    "tt = \"JGood is a handsome boy, he is cool, clever, and so on...\"\n",
    "rr = re.compile(r'\\s+')\n",
    "re.sub(rr,'-',tt,5)"
   ]
  },
  {
   "cell_type": "code",
   "execution_count": 39,
   "id": "835b545c",
   "metadata": {},
   "outputs": [
    {
     "data": {
      "text/plain": [
       "'JGood[ ]is[ ]a[ ]handsome[ ]boy,[ ]he[ ]is[ ]cool,[ ]clever,[ ]and[ ]so[ ]on...'"
      ]
     },
     "execution_count": 39,
     "metadata": {},
     "output_type": "execute_result"
    }
   ],
   "source": [
    "# re.sub还允许使用函数对匹配项的替换进行复杂的处理。如：\n",
    "re.sub(r'\\s', lambda m: '[' + m.group(0) + ']', tt, 0) #将字符串中的空格' '替换为'[ ]'。"
   ]
  },
  {
   "cell_type": "markdown",
   "id": "ac613704",
   "metadata": {},
   "source": [
    "# subn:返回替换后的内容及替换次数"
   ]
  },
  {
   "cell_type": "raw",
   "id": "62420b73",
   "metadata": {},
   "source": [
    "pattern:\n",
    "repl:\n",
    "string:\n",
    "count=0, \n",
    "flags=0"
   ]
  },
  {
   "cell_type": "code",
   "execution_count": 40,
   "id": "bda0a467",
   "metadata": {},
   "outputs": [
    {
     "data": {
      "text/plain": [
       "('JGood-is-a-handsome-boy,-he-is-cool,-clever,-and-so-on...', 11)"
      ]
     },
     "execution_count": 40,
     "metadata": {},
     "output_type": "execute_result"
    }
   ],
   "source": [
    "tt = \"JGood is a handsome boy, he is cool, clever, and so on...\"\n",
    "rr = re.compile(r'\\s+')\n",
    "re.subn(rr,'-',tt)"
   ]
  },
  {
   "cell_type": "markdown",
   "id": "3ad144fe-3de2-49b6-b815-64c5a236a3a4",
   "metadata": {},
   "source": [
    "# 正则表达式取反:\"^((?!要取反的正则表达式).)*$\""
   ]
  },
  {
   "cell_type": "code",
   "execution_count": 17,
   "id": "a81cb4b9-f7f6-4760-b288-bf5576384304",
   "metadata": {},
   "outputs": [],
   "source": [
    "relt = [\"test\",\"jave\",\"python\",\"pandas\",\"matplotlib\",\"numpy\"]\n",
    "myre1 = re.compile(\"^((?!pan).)*$\",re.I)\n",
    "myre2 = re.compile(\"(?!pan)\",re.I)"
   ]
  },
  {
   "cell_type": "code",
   "execution_count": 18,
   "id": "05ccca78-3811-4a9e-acb1-71b7e47bdee3",
   "metadata": {},
   "outputs": [
    {
     "data": {
      "text/plain": [
       "['test', 'jave', 'python', False, 'matplotlib', 'numpy']"
      ]
     },
     "execution_count": 18,
     "metadata": {},
     "output_type": "execute_result"
    }
   ],
   "source": [
    "# 查询不包含'pan'的字符串:\n",
    "[x if re.findall(myre,x) else False for x in relt]"
   ]
  },
  {
   "cell_type": "markdown",
   "id": "2029c20c-2250-4ce1-8f4d-f72b0a35b0c7",
   "metadata": {},
   "source": [
    "# Exercise:"
   ]
  },
  {
   "cell_type": "code",
   "execution_count": 8,
   "id": "13c1d796-852c-4d04-9734-86832813ab9b",
   "metadata": {},
   "outputs": [],
   "source": [
    "vocabpth = r\"C:\\Users\\osun\\OneDrive - Sensirion\\Desktop\\Shortcut\\Vocabulary.xlsx\"\n",
    "df = pd.read_excel(vocabpth,sheet_name='Level6')\n",
    "vobs = df[\"A\"].tolist()"
   ]
  },
  {
   "cell_type": "code",
   "execution_count": 14,
   "id": "f6747a57-acbb-4097-847b-9fe7a8ea81d4",
   "metadata": {},
   "outputs": [],
   "source": [
    "vobs = [\"\".join(str(x).split()) for x in vobs]  #去除字符串中的空格"
   ]
  },
  {
   "cell_type": "code",
   "execution_count": 49,
   "id": "2b2efa89-2f28-41fe-a537-5784a47582f8",
   "metadata": {},
   "outputs": [
    {
     "data": {
      "text/plain": [
       "['into', 'mosquito', 'onto', 'photo', 'potato']"
      ]
     },
     "execution_count": 49,
     "metadata": {},
     "output_type": "execute_result"
    }
   ],
   "source": [
    "cmp = re.compile(\"to$\",re.I)\n",
    "[y for y in [x if re.findall(cmp,x) else None for x in vobs] if y]"
   ]
  },
  {
   "cell_type": "code",
   "execution_count": null,
   "id": "71633f67-b2b0-416e-ad75-8551af8a3cfd",
   "metadata": {},
   "outputs": [],
   "source": []
  },
  {
   "cell_type": "code",
   "execution_count": null,
   "id": "0bb5eeff-2ee9-4a08-9ac3-a60b46d66418",
   "metadata": {},
   "outputs": [],
   "source": []
  }
 ],
 "metadata": {
  "kernelspec": {
   "display_name": "Python 3",
   "language": "python",
   "name": "python3"
  },
  "language_info": {
   "codemirror_mode": {
    "name": "ipython",
    "version": 3
   },
   "file_extension": ".py",
   "mimetype": "text/x-python",
   "name": "python",
   "nbconvert_exporter": "python",
   "pygments_lexer": "ipython3",
   "version": "3.8.6"
  },
  "toc": {
   "base_numbering": 1,
   "nav_menu": {},
   "number_sections": true,
   "sideBar": true,
   "skip_h1_title": false,
   "title_cell": "Table of Contents",
   "title_sidebar": "Contents",
   "toc_cell": false,
   "toc_position": {
    "height": "calc(100% - 180px)",
    "left": "10px",
    "top": "150px",
    "width": "291.513px"
   },
   "toc_section_display": true,
   "toc_window_display": true
  }
 },
 "nbformat": 4,
 "nbformat_minor": 5
}
