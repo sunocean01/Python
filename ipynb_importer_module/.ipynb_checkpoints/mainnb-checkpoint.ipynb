{
 "cells": [
  {
   "cell_type": "code",
   "execution_count": null,
   "id": "5893b219-24ee-44aa-b79e-5e067f867191",
   "metadata": {},
   "outputs": [],
   "source": [
    "import pandas as pd\n",
    "import urllib.request\n",
    "import urllib.parse"
   ]
  },
  {
   "cell_type": "code",
   "execution_count": null,
   "id": "8d3e6bfc-d147-4596-892b-3d4acab74a8d",
   "metadata": {},
   "outputs": [],
   "source": [
    "s = pd.Series(range(5), index=pd.date_range('2020-01-01', periods=5, freq='1D'))"
   ]
  },
  {
   "cell_type": "code",
   "execution_count": null,
   "id": "7546242f-e4f9-4e06-90f3-23c069ce9c8b",
   "metadata": {},
   "outputs": [],
   "source": [
    "s.to_markdown()"
   ]
  },
  {
   "cell_type": "code",
   "execution_count": null,
   "id": "8663792e-6629-4753-9de4-d89c88298e77",
   "metadata": {},
   "outputs": [],
   "source": [
    "s.rolling(window=3).sum()"
   ]
  },
  {
   "cell_type": "code",
   "execution_count": null,
   "id": "9f900e43-907e-47a6-a1a4-ac0f56e38e00",
   "metadata": {},
   "outputs": [],
   "source": [
    "url = r\"http://webstamm.sensirion.lokal/Material.aspx?MATNR=3000228&FILTER=3.000.228\""
   ]
  },
  {
   "cell_type": "code",
   "execution_count": null,
   "id": "1220c3a8-f1b0-4065-bfbd-1485e106fe02",
   "metadata": {},
   "outputs": [],
   "source": [
    "# ph = r\".\\testfile\\pdtestdata.csv\"\n",
    "ph = r\".\\testfile\\mc03test.csv\"\n",
    "dt = pd.read_csv(ph,index_col=0)\n",
    "dt.sort_index(ascending=True,inplace=True)\n",
    "dt['day'] = dt.index.map(lambda x: pd.to_datetime(x).strftime(\"%Y-%m-%d\"))\n",
    "dt.head(1)\n",
    "dt.shape"
   ]
  },
  {
   "cell_type": "code",
   "execution_count": null,
   "id": "dae760de-cd47-4677-99c2-c97cb4da15a5",
   "metadata": {},
   "outputs": [],
   "source": [
    "dt.head(2).to_markdown()"
   ]
  },
  {
   "cell_type": "code",
   "execution_count": null,
   "id": "9dfd66fd-f59e-406f-a0d6-27ebe7963445",
   "metadata": {},
   "outputs": [],
   "source": [
    "import os,sys"
   ]
  },
  {
   "cell_type": "code",
   "execution_count": null,
   "id": "63db7486-2474-4ad8-b73a-2b787da50233",
   "metadata": {},
   "outputs": [],
   "source": [
    "sys.executable"
   ]
  },
  {
   "cell_type": "code",
   "execution_count": null,
   "id": "90d5d682-1634-4720-8e1f-b3a2caf58eeb",
   "metadata": {},
   "outputs": [],
   "source": [
    "os.getcwd()"
   ]
  },
  {
   "cell_type": "code",
   "execution_count": null,
   "id": "ed9b9813-3214-447d-9a99-a7f4538c3c69",
   "metadata": {},
   "outputs": [],
   "source": [
    "os.chdir(r\"C:\\Sensirion\\10_product\\60_PM25\\110_experiment\")"
   ]
  },
  {
   "cell_type": "code",
   "execution_count": null,
   "id": "3276ec65-41d9-46f2-9a80-51cc2028c0b6",
   "metadata": {},
   "outputs": [],
   "source": [
    "%who"
   ]
  },
  {
   "cell_type": "code",
   "execution_count": null,
   "id": "3590c9b8-d5cf-4f33-94fc-646fdb97ecd9",
   "metadata": {},
   "outputs": [],
   "source": [
    "%reset"
   ]
  },
  {
   "cell_type": "code",
   "execution_count": null,
   "id": "893bc6f5-f583-4a55-b610-cbf1d00fedf0",
   "metadata": {},
   "outputs": [],
   "source": [
    "os.listdir()"
   ]
  },
  {
   "cell_type": "code",
   "execution_count": null,
   "id": "517af8f9-81ae-4a89-a7f9-7f0aa579090c",
   "metadata": {},
   "outputs": [],
   "source": [
    "import csv"
   ]
  },
  {
   "cell_type": "code",
   "execution_count": null,
   "id": "aa21790b-44d0-445f-9472-9d264ae962d4",
   "metadata": {},
   "outputs": [],
   "source": [
    "with open(\"pythonplan.csv\",'w') as fp:\n",
    "    fpw = csv.writer(fp)\n",
    "    fpw.writerows([x for x in os.listdir()])"
   ]
  },
  {
   "cell_type": "code",
   "execution_count": null,
   "id": "b1f3bdbf-948a-4fcf-acac-e4ca331ba963",
   "metadata": {},
   "outputs": [],
   "source": [
    "with open(\"pythonplan.csv\",'w') as fp:\n",
    "    fp.writelines([x+\"\\n\" for x in os.listdir()])"
   ]
  },
  {
   "cell_type": "code",
   "execution_count": null,
   "id": "bb60eee6-1948-4661-975b-ad81eae90302",
   "metadata": {},
   "outputs": [],
   "source": [
    "%store -r mystr"
   ]
  },
  {
   "cell_type": "code",
   "execution_count": null,
   "id": "7fb1cce6-bed6-463d-b91b-f1aee1bee243",
   "metadata": {},
   "outputs": [],
   "source": [
    "mystr"
   ]
  },
  {
   "cell_type": "code",
   "execution_count": null,
   "id": "9526ef5e-bb04-4b30-b23e-e28c5c5f1d1d",
   "metadata": {},
   "outputs": [],
   "source": [
    "%store -r tt"
   ]
  },
  {
   "cell_type": "code",
   "execution_count": null,
   "id": "d6091dc0-c2a7-4ce7-b539-f9b2b613a03c",
   "metadata": {},
   "outputs": [],
   "source": [
    "tt"
   ]
  },
  {
   "cell_type": "code",
   "execution_count": null,
   "id": "aa244007-6e64-46fa-82ec-5aac82d697fe",
   "metadata": {},
   "outputs": [],
   "source": [
    "class Tst:\n",
    "    def myprint(inp):\n",
    "        print(inp)\n",
    "        \n",
    "    def pt2():\n",
    "        print(\"Hello\")"
   ]
  },
  {
   "cell_type": "code",
   "execution_count": null,
   "id": "0398f04c-8eeb-4ea4-9f31-aca36c1fbbe5",
   "metadata": {},
   "outputs": [],
   "source": [
    "tst = Tst"
   ]
  },
  {
   "cell_type": "code",
   "execution_count": null,
   "id": "17cd80a6-cbf7-4701-b3f0-7e90396ab961",
   "metadata": {},
   "outputs": [],
   "source": [
    "%store Tst"
   ]
  },
  {
   "cell_type": "code",
   "execution_count": null,
   "id": "ac4f50cb-5f8a-4f44-a9f4-d30b67d061f2",
   "metadata": {},
   "outputs": [],
   "source": []
  }
 ],
 "metadata": {
  "kernelspec": {
   "display_name": "Python 38",
   "language": "python",
   "name": "python3"
  },
  "language_info": {
   "codemirror_mode": {
    "name": "ipython",
    "version": 3
   },
   "file_extension": ".py",
   "mimetype": "text/x-python",
   "name": "python",
   "nbconvert_exporter": "python",
   "pygments_lexer": "ipython3",
   "version": "3.8.6"
  }
 },
 "nbformat": 4,
 "nbformat_minor": 5
}
