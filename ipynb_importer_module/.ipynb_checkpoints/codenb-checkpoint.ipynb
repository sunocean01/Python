{
 "cells": [
  {
   "cell_type": "code",
   "execution_count": 1,
   "id": "5893b219-24ee-44aa-b79e-5e067f867191",
   "metadata": {},
   "outputs": [],
   "source": [
    "import os"
   ]
  },
  {
   "cell_type": "code",
   "execution_count": null,
   "id": "ac4f50cb-5f8a-4f44-a9f4-d30b67d061f2",
   "metadata": {},
   "outputs": [],
   "source": [
    "def mprint():\n",
    "    print(\"Hello world!\")"
   ]
  }
 ],
 "metadata": {
  "kernelspec": {
   "display_name": "Python 38",
   "language": "python",
   "name": "python3"
  },
  "language_info": {
   "codemirror_mode": {
    "name": "ipython",
    "version": 3
   },
   "file_extension": ".py",
   "mimetype": "text/x-python",
   "name": "python",
   "nbconvert_exporter": "python",
   "pygments_lexer": "ipython3",
   "version": "3.8.6"
  }
 },
 "nbformat": 4,
 "nbformat_minor": 5
}
