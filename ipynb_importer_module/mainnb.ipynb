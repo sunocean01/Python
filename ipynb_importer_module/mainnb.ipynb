{
 "cells": [
  {
   "cell_type": "code",
   "execution_count": 9,
   "id": "5893b219-24ee-44aa-b79e-5e067f867191",
   "metadata": {},
   "outputs": [],
   "source": [
    "import IPynb_importer"
   ]
  },
  {
   "cell_type": "code",
   "execution_count": 11,
   "id": "51d47fb8-de80-4ae4-b1f8-febc5f921b36",
   "metadata": {},
   "outputs": [
    {
     "name": "stdout",
     "output_type": "stream",
     "text": [
      "importing Jupyter notebook from codenb.ipynb\n"
     ]
    }
   ],
   "source": [
    "import codenb"
   ]
  },
  {
   "cell_type": "code",
   "execution_count": 12,
   "id": "0ddce966-413e-4529-9407-b23157be65a1",
   "metadata": {},
   "outputs": [
    {
     "name": "stdout",
     "output_type": "stream",
     "text": [
      "Hello world!\n"
     ]
    }
   ],
   "source": [
    "codenb.mprint()"
   ]
  },
  {
   "cell_type": "code",
   "execution_count": null,
   "id": "3138f4bf-76de-4a48-8b6b-2e7a1668e4ef",
   "metadata": {},
   "outputs": [],
   "source": []
  }
 ],
 "metadata": {
  "kernelspec": {
   "display_name": "Python 38",
   "language": "python",
   "name": "python3"
  },
  "language_info": {
   "codemirror_mode": {
    "name": "ipython",
    "version": 3
   },
   "file_extension": ".py",
   "mimetype": "text/x-python",
   "name": "python",
   "nbconvert_exporter": "python",
   "pygments_lexer": "ipython3",
   "version": "3.8.6"
  }
 },
 "nbformat": 4,
 "nbformat_minor": 5
}
