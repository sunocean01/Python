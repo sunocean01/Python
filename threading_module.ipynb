{
 "cells": [
  {
   "cell_type": "code",
   "execution_count": 2,
   "id": "1228ebcb",
   "metadata": {},
   "outputs": [],
   "source": [
    "import threading\n",
    "import time\n",
    "from concurrent.futures import ThreadPoolExecutor\n",
    "import matplotlib.pyplot as plt\n",
    "import tkinter as tk\n",
    "import asyncio"
   ]
  },
  {
   "cell_type": "markdown",
   "id": "2c95537e",
   "metadata": {},
   "source": [
    "# 多线程及GIL概念"
   ]
  },
  {
   "cell_type": "raw",
   "id": "7e575a94",
   "metadata": {},
   "source": [
    "'''\n",
    "                                      python多线程详解\n",
    "      什么是线程？\n",
    "      线程也叫轻量级进程，是操作系统能够进行运算调度的最小单位，它被包涵在进程之中，是进程中的实际运作单位。\n",
    "      线程自己不拥有系统资源，只拥有一点儿在运行中必不可少的资源，但它可与同属一个进程的其他线程共享进程所\n",
    "      拥有的全部资源。一个线程可以创建和撤销另一个线程，同一个进程中的多个线程之间可以并发执行\n",
    "'''\n",
    "\n",
    "'''\n",
    "                                      为什么要使用多线程？\n",
    "    线程在程序中是独立的、并发的执行流。与分隔的进程相比，进程中线程之间的隔离程度要小，它们共享内存、文件句柄\n",
    "    和其他进程应有的状态。\n",
    "    因为线程的划分尺度小于进程，使得多线程程序的并发性高。进程在执行过程之中拥有独立的内存单元，而多个线程共享\n",
    "    内存，从而极大的提升了程序的运行效率。\n",
    "    线程比进程具有更高的性能，这是由于同一个进程中的线程都有共性，多个线程共享一个进程的虚拟空间。线程的共享环境\n",
    "    包括进程代码段、进程的共有数据等，利用这些共享的数据，线程之间很容易实现通信。\n",
    "    操作系统在创建进程时，必须为该进程分配独立的内存空间，并分配大量的相关资源，但创建线程则简单得多。因此，使用多线程\n",
    "    来实现并发比使用多进程的性能高得要多。\n",
    "'''\n",
    "\n",
    "'''\n",
    "    总结起来，使用多线程编程具有如下几个优点：\n",
    "    进程之间不能共享内存，但线程之间共享内存非常容易。\n",
    "    操作系统在创建进程时，需要为该进程重新分配系统资源，但创建线程的代价则小得多。因此使用多线程来实现多任务并发执行比使用多进程的效率高\n",
    "    python语言内置了多线程功能支持，而不是单纯地作为底层操作系统的调度方式，从而简化了python的多线程编程。\n",
    "'''"
   ]
  },
  {
   "cell_type": "raw",
   "id": "e24f8222",
   "metadata": {},
   "source": [
    "'''\n",
    "                           GIL  全局解释器\n",
    "        在非python环境中，单核情况下，同时只能有一个任务执行。多核时可以支持多个线程同时执行。但是在python中，无论有多少个核\n",
    "        同时只能执行一个线程。究其原因，这就是由于GIL的存在导致的。\n",
    "        GIL的全程是全局解释器，来源是python设计之初的考虑，为了数据安全所做的决定。某个线程想要执行，必须先拿到GIL，我们可以\n",
    "        把GIL看做是“通行证”，并且在一个python进程之中，GIL只有一个。拿不到线程的通行证，并且在一个python进程中，GIL只有一个，\n",
    "        拿不到通行证的线程，就不允许进入CPU执行。GIL只在cpython中才有，因为cpython调用的是c语言的原生线程，所以他不能直接操\n",
    "        作cpu，而只能利用GIL保证同一时间只能有一个线程拿到数据。而在pypy和jpython中是没有GIL的\n",
    "        python在使用多线程的时候，调用的是c语言的原生过程。\n",
    "'''\n",
    "'''\n",
    "                            python针对不同类型的代码执行效率也是不同的\n",
    "        1、CPU密集型代码（各种循环处理、计算等），在这种情况下，由于计算工作多，ticks技术很快就会达到阀值，然后出发GIL的\n",
    "        释放与再竞争（多个线程来回切换当然是需要消耗资源的），所以python下的多线程对CPU密集型代码并不友好。\n",
    "        2、IO密集型代码（文件处理、网络爬虫等设计文件读写操作），多线程能够有效提升效率（单线程下有IO操作会进行IO等待，\n",
    "        造成不必要的时间浪费，而开启多线程能在线程A等待时，自动切换到线程B，可以不浪费CPU的资源，从而能提升程序的执行\n",
    "        效率）。所以python的多线程对IO密集型代码比较友好。\n",
    "'''\n",
    "'''\n",
    "    主要要看任务的类型，我们把任务分为I/O密集型和计算密集型，而多线程在切换中又分为I/O切换和时间切换。如果任务属于是I/O密集型，\n",
    "    若不采用多线程，我们在进行I/O操作时，势必要等待前面一个I/O任务完成后面的I/O任务才能进行，在这个等待的过程中，CPU处于等待\n",
    "    状态，这时如果采用多线程的话，刚好可以切换到进行另一个I/O任务。这样就刚好可以充分利用CPU避免CPU处于闲置状态，提高效率。但是\n",
    "    如果多线程任务都是计算型，CPU会一直在进行工作，直到一定的时间后采取多线程时间切换的方式进行切换线程，此时CPU一直处于工作状态，\n",
    "    此种情况下并不能提高性能，相反在切换多线程任务时，可能还会造成时间和资源的浪费，导致效能下降。这就是造成上面两种多线程结果不能的解释。\n",
    "结论:I/O密集型任务，建议采取多线程，还可以采用多进程+协程的方式(例如:爬虫多采用多线程处理爬取的数据)；对于计算密集型任务，python此时就不适用了。\n",
    "'''"
   ]
  },
  {
   "cell_type": "markdown",
   "id": "50faf9b8",
   "metadata": {},
   "source": [
    "# 准备"
   ]
  },
  {
   "cell_type": "code",
   "execution_count": 4,
   "id": "8b6908aa",
   "metadata": {},
   "outputs": [],
   "source": [
    "def print_a(number):\n",
    "    for i in list(range(1,number)):\n",
    "        print(\"a_{}\".format(i))\n",
    "        time.sleep(0.5)\n",
    "        \n",
    "def print_b(number):\n",
    "    for i in list(range(1,number)):\n",
    "        print(\"b_{}\".format(i*10))\n",
    "        time.sleep(1)\n",
    "        \n",
    "def myprint(label,number,t):\n",
    "    for i in list(range(1,number)):\n",
    "        print(\"{}_{}\".format(label,i))\n",
    "        time.sleep(t)\n",
    "        \n",
    "def action(max):\n",
    "    my_sum = 0\n",
    "    # with lock:\n",
    "    for i in range(max):\n",
    "        time.sleep(0.2)\n",
    "        # print(threading.current_thread().name + ' ' + str(i))\n",
    "        my_sum += i\n",
    "    return my_sum"
   ]
  },
  {
   "cell_type": "markdown",
   "id": "d25a85cc",
   "metadata": {},
   "source": [
    "# 多线程创建方法：\n",
    "    多线程的使用有两种方式: 1. 利用回调函数; 2. 重写Thread类方法:"
   ]
  },
  {
   "cell_type": "markdown",
   "id": "50a1d5f4",
   "metadata": {},
   "source": [
    "## 第一种: 利用回调函数"
   ]
  },
  {
   "cell_type": "raw",
   "id": "99ec0077",
   "metadata": {},
   "source": [
    "threading.Thread(): 创建线程\n",
    "    target: 要传入的回调函数,注意只是函数名,是不带括号;\n",
    "    args: 回调函数需要传入的参数;\n",
    "    kwargs: 不定参数传入;\n",
    "    name: 线程的名称, 默认格式:Thread-N,N是数字\n",
    "    daemon: 默认False, 主线程是否要等待子线程结束后再结束; \n",
    "        False: 主线程可以先结束,子线程后结束；\n",
    "        True: 主线程结束，程序就结束，不管子线程有没有结束。"
   ]
  },
  {
   "cell_type": "code",
   "execution_count": 11,
   "id": "79378ced",
   "metadata": {},
   "outputs": [
    {
     "name": "stdout",
     "output_type": "stream",
     "text": [
      "a_1\n",
      "b_10end\n",
      "Wall time: 4.99 ms\n",
      "\n",
      "a_2\n",
      "b_20\n",
      "a_3\n",
      "a_4\n",
      "b_30\n",
      "b_40\n",
      "b_50\n",
      "b_60\n",
      "b_70\n",
      "b_80\n",
      "b_90\n"
     ]
    }
   ],
   "source": [
    "%%time\n",
    "t1 = threading.Thread(target=print_a,\n",
    "                      args=(5,),   #如果只有一个参数，要以“,”结尾\n",
    "                      name='a',\n",
    "                      daemon=True,   #在jupyter里无效, 在cmd里有效\n",
    "                     )\n",
    "t2 = threading.Thread(target=print_b,args=(10,),name='b',daemon=True)\n",
    "\n",
    "t1.setDaemon(True)  #把子线程设置为守护线程，必须在start()之前设置\n",
    "t2.setDaemon(True)\n",
    "\n",
    "t1.start()\n",
    "t2.start()\n",
    "print('end')"
   ]
  },
  {
   "cell_type": "code",
   "execution_count": 14,
   "id": "aacb98b1",
   "metadata": {},
   "outputs": [
    {
     "name": "stdout",
     "output_type": "stream",
     "text": [
      "a_1\n",
      "b_1\n",
      "a_2\n",
      "a_3\n",
      "b_2\n",
      "a_4\n",
      "b_3\n",
      "b_4\n",
      "b_5\n",
      "b_6\n",
      "b_7\n",
      "b_8\n",
      "b_9\n",
      "end\n"
     ]
    }
   ],
   "source": [
    "t1 = threading.Thread(target=myprint,args=('a',5,0.5),name='a')\n",
    "t2 = threading.Thread(target=myprint,args=('b',10,1.5),name='b')\n",
    "\n",
    "# t2.setDaemon(True)   #把子线程设置成守护线程必须在start之前设置，或在Thread参数daemon=True设置也可以, jupyter里无效, cmd里有效\n",
    "# t1.setDaemon(True)\n",
    "\n",
    "t1.start()\n",
    "t2.start()\n",
    "\n",
    "# t1.join()\n",
    "# t2.join()   #等待t2子线程运行结束才能进行下面的内容，如果没有join运行此代码：会发现In[]一下就运行完了；如果有join：In[*]会尺寸到t2子线程结束\n",
    "\n",
    "print(\"end\")"
   ]
  },
  {
   "cell_type": "markdown",
   "id": "34e62230",
   "metadata": {},
   "source": [
    "## 第二种：重构threading.Thread类的run方法："
   ]
  },
  {
   "cell_type": "code",
   "execution_count": null,
   "id": "334d5607",
   "metadata": {},
   "outputs": [],
   "source": [
    "class mythreading(threading.Thread):\n",
    "    def __init__(self,name=None,number=5):\n",
    "        threading.Thread.__init__(self)    #或super(mythreading,self).__init__()  重构run函数必须写\n",
    "        self.name = name\n",
    "        self.number = number\n",
    "        \n",
    "    def run(self):\n",
    "        for i in list(range(1,self.number)):\n",
    "            print(threading.current_thread().name+'_test',i)\n",
    "            time.sleep(1)\n",
    "            \n",
    "t = mythreading(name='mth',number=8)\n",
    "t.start()\n",
    "\n",
    "for i in range(5):\n",
    "    print(threading.current_thread().name+' main',i)\n",
    "    print(t.name+' is alive')\n",
    "    time.sleep(1)"
   ]
  },
  {
   "cell_type": "markdown",
   "id": "2a9e64f2",
   "metadata": {},
   "source": [
    "## 相关方法："
   ]
  },
  {
   "cell_type": "raw",
   "id": "583dfd01",
   "metadata": {},
   "source": [
    "start(): 启动线程;\n",
    "join(self,timeout=None): join()线程调用该函数之后，将在执行完该线程之后继续主线程，否则主线程会与启动的子线程同步执行\n",
    "    timeout: 设置最大等待时间,单位s, float\n",
    "isAlive(): 线程是否存活\n",
    "getName(), 获取线程名称;\n",
    "setName(), 设置线程名称;\n",
    "\n",
    "Lock():是线程安全的方法,如果多个线程共同对某个数据修改，则可能出现不可预料的结果，为了保证数据的正确性，需要对多个线程进行同步。既保证每次只有一个线程对某个数据进行修改，在实际输入输出、连接数据库插入数据时个人曾经遇到过格式混乱、内容错误的问题，想来也是由于多个线程同时执行某个操作导致的。\n",
    "其实单个线程多次调用I/O等操作时不怕，就怕多个线程同时进行调用，则会混乱，若是插入数据库时存在这样的混乱则数据库很难看，可能会导致数据没有参考价值。"
   ]
  },
  {
   "cell_type": "code",
   "execution_count": null,
   "id": "27e5743b",
   "metadata": {},
   "outputs": [],
   "source": [
    "tm1 = threading.Thread(target=myprint,args=('tm1',5,1.5),name=\"tm1threading\")   #name设置线程名称\n",
    "tm2 = threading.Thread(target=myprint,args=('tm2',9,0.5))\n",
    "\n",
    "tm1.start()\n",
    "tm2.start()\n",
    "# print(tm1.isAlive)\n",
    "print(\"threasingName:\",tm1.getName())    #获取该线程名称\n",
    "tm1.setName(\"mythreading\")               #设置线程名称\n",
    "print(\"threasingName:\",tm1.getName())\n",
    "\n",
    "# print(\"线程是否存活：\",tm2.isAlive())    #提示Thread 没有siAlive属性？\n",
    "\n",
    "print(\"Current threading:\",threading.current_thread().name)   #获取主线程名称\n",
    "\n",
    "tm1.join()                       #线程tm1结束后，才可以进行下面内容\n",
    "print('Main threading is end')"
   ]
  },
  {
   "cell_type": "markdown",
   "id": "dd267704",
   "metadata": {},
   "source": [
    "## 线程间同步"
   ]
  },
  {
   "cell_type": "raw",
   "id": "8d1987b3",
   "metadata": {},
   "source": [
    "如果多个线程共同对某个数据修改，则可能出现不可预料的结果，为了保证数据的正确性，需要对多个线程进行同步。\n",
    "    ​ 使用Thread对象的Lock和Rlock可以实现简单的线程同步，这两个对象都有acquire方法和release方法，对于那些需要每次只允许一个线程操作的数据，可以将其操作放到acquire和release方法之间。\n",
    "    ​ 需要注意的是，Python有一个GIL（Global Interpreter Lock）机制，任何线程在运行之前必须获取这个全局锁才能执行，每当执行完100条字节码，全局锁才会释放，切换到其他线程执行。\n",
    "    \n",
    "多线程实现同步有四种方式：锁机制，信号量，条件判断和同步队列。"
   ]
  },
  {
   "cell_type": "markdown",
   "id": "e1ca0a5b",
   "metadata": {},
   "source": [
    "## lock:线程锁"
   ]
  },
  {
   "cell_type": "code",
   "execution_count": null,
   "id": "578bf890",
   "metadata": {},
   "outputs": [],
   "source": [
    "# Lock:互斥锁\n",
    "\n",
    "lock = threading.Lock()   #创建一个互斥锁\n",
    "\n",
    "class mylock:\n",
    "    def __init__(self):\n",
    "        pass\n",
    "        \n",
    "    def myprint_lock1(self,label,number,t):\n",
    "        lock.acquire()                      #锁之间的内容一次只能一个线程更改\n",
    "        for i in list(range(1,number)):\n",
    "            print(\"{}_{}\".format(label,i))\n",
    "            time.sleep(t)\n",
    "        lock.release()\n",
    "\n",
    "    # lock锁的另外一种写法：\n",
    "\n",
    "    def myprint_lock2(self,label,number,t):\n",
    "        with lock:                      #锁之间的内容一次只能一个线程更改\n",
    "            for i in list(range(1,number)):\n",
    "                print(\"{}_{}\".format(label,i))\n",
    "                time.sleep(t)\n",
    "\n",
    "mk = mylock()\n",
    "\n",
    "tlock1 = threading.Thread(target=mk.myprint_lock1,args=('tl1',5,0.1))\n",
    "tlock2 = threading.Thread(target=mk.myprint_lock1,args=('tl2',3,0.3))\n",
    "\n",
    "tlock3 = threading.Thread(target=mk.myprint_lock2,args=('tl1',6,0.1))\n",
    "tlock4 = threading.Thread(target=mk.myprint_lock2,args=('tl2',4,0.3))\n",
    "\n",
    "\n",
    "tlock1.start()\n",
    "tlock2.start()\n",
    "\n",
    "tlock3.start()\n",
    "tlock4.start()\n",
    "\n",
    "# tlock1.join()\n",
    "# tlock2.join()\n",
    "\n",
    "print('end')"
   ]
  },
  {
   "cell_type": "markdown",
   "id": "cb2c641b",
   "metadata": {},
   "source": [
    "## RLcok:递归锁\n",
    "    RLock类的用法和Lock类一模一样，但它支持嵌套，在多个锁没有释放的时候一般会使用RLock类"
   ]
  },
  {
   "cell_type": "markdown",
   "id": "98102bc7",
   "metadata": {},
   "source": [
    "## quene.Quene(maxsize=0):同步队列\n",
    "    是线程安全的类;在多个线程同时访问时不会出现问题\n",
    "    如果 maxsize 设置为小于或等于零，则队列的长度没有限制。\n",
    "    队列的概念就是先进先出"
   ]
  },
  {
   "cell_type": "raw",
   "id": "74031779",
   "metadata": {},
   "source": [
    "常用方法：\n",
    "queue.qsize() 返回队列的大小\n",
    "queue.empty() 如果队列为空，返回True,反之False\n",
    "queue.full() 如果队列满了，返回True,反之False\n",
    "queue.full 与 maxsize 大小对应\n",
    "queue.get([block[, timeout]])获取队列，timeout等待时间\n",
    "queue.get_nowait() 相当Queue.get(False)\n",
    "queue.put(item) 写入队列，timeout等待时间\n",
    "queue.put_nowait(item) 相当Queue.put(item, False)\n",
    "queue.task_done() 在完成一项工作之后，Queue.task_done()函数向任务已经完成的队列发送一个信号\n",
    "queue.join() 实际上意味着等到队列为空，再执行别的操作"
   ]
  },
  {
   "cell_type": "code",
   "execution_count": 16,
   "id": "f58028c3",
   "metadata": {},
   "outputs": [],
   "source": [
    "import queue"
   ]
  },
  {
   "cell_type": "code",
   "execution_count": 17,
   "id": "64e6517a",
   "metadata": {},
   "outputs": [
    {
     "name": "stdout",
     "output_type": "stream",
     "text": [
      "[0, 1, 2, 3, 4, 5, 6, 7, 8, 9]\n"
     ]
    }
   ],
   "source": [
    "num = queue.Queue()\n",
    "\n",
    "for i in range(10):\n",
    "    num.put(i)\n",
    "    \n",
    "lt = []\n",
    "\n",
    "def fetch(num):\n",
    "    # with lock:\n",
    "    while not num.empty():\n",
    "        lt.append(num.get())\n",
    "        # print(num.get())\n",
    "        \n",
    "th1 = threading.Thread(target=fetch,args=(num,))\n",
    "th2 = threading.Thread(target=fetch,args=(num,))\n",
    "th3 = threading.Thread(target=fetch,args=(num,))\n",
    "\n",
    "th1.start()\n",
    "th2.start()\n",
    "th3.start()\n",
    "\n",
    "th1.join()\n",
    "th2.join()\n",
    "th3.join()\n",
    "\n",
    "print(lt)"
   ]
  },
  {
   "cell_type": "markdown",
   "id": "3cf630ff",
   "metadata": {},
   "source": [
    "## 线程池"
   ]
  },
  {
   "cell_type": "raw",
   "id": "911ae964",
   "metadata": {},
   "source": [
    "使用线程池：\n",
    "​ 由于线程预先被创建并放入线程池中，同时处理完当前任务之后并不销毁而是被安排处理下一个任务，因此能够避免多次创建线程，从而节省线程创建和销毁的开销，能带来更好的性能和系统稳定性。"
   ]
  },
  {
   "cell_type": "code",
   "execution_count": null,
   "id": "07c45a31",
   "metadata": {},
   "outputs": [],
   "source": [
    "# 基本步骤：\n",
    "# 1. 创建一个包含指定数量线程的线程池：\n",
    "pool = ThreadPoolExecutor(max_workers=2)\n",
    "\n",
    "# 2. 分别向线程池提交两个任务：\n",
    "future1 = pool.submit(action,10)\n",
    "future2 = pool.submit(action,20)\n",
    "\n",
    "# 3. 判断任务是否结束：\n",
    "print(future1.done())\n",
    "time.sleep(2)\n",
    "\n",
    "# 4. 查看任务返回的结果：\n",
    "print(future1.result())\n",
    "print(future2.result())\n"
   ]
  },
  {
   "cell_type": "code",
   "execution_count": null,
   "id": "d1bc5669",
   "metadata": {},
   "outputs": [],
   "source": [
    "# 用add_done_callback()方法获取线程任务的返回值, 不会阻塞线程\n",
    "with ThreadPoolExecutor(max_workers=4) as pool:\n",
    "    futureA = pool.submit(action,5)\n",
    "    futureB = pool.submit(action,9)\n",
    "    \n",
    "    def get_r(future):\n",
    "        print(future.result())\n",
    "        \n",
    "    futureA.add_done_callback(get_r)\n",
    "    futureB.add_done_callback(get_r)"
   ]
  },
  {
   "cell_type": "markdown",
   "id": "e62f3222",
   "metadata": {},
   "source": [
    "# 协程"
   ]
  },
  {
   "cell_type": "raw",
   "id": "34b90db0",
   "metadata": {},
   "source": [
    "协程有点像多线程，但协程的特点在于是一个线程执行，那和多线程比，协程有何优势？\n",
    "    优势一：最大的优势就是协程极高的执行效率。因为子程序切换不是线程切换，而是由程序自身控制，因此，没有线程切换的开销，和多线程比，线程数量越多，协程的性能优势就越明显。\n",
    "\n",
    "    优势二：就是不需要多线程的锁机制，因为只有一个线程，也不存在同时写变量冲突，在协程中控制共享资源不加锁，只需要判断状态就好了，所以执行效率比多线程高很多。"
   ]
  },
  {
   "cell_type": "raw",
   "id": "cb5f9d4c",
   "metadata": {},
   "source": [
    "从某些角度来理解，协程其实就是一个可以暂停执行的函数，并且可以恢复继续执行。"
   ]
  },
  {
   "cell_type": "markdown",
   "id": "33dc9f6b",
   "metadata": {},
   "source": [
    "## 实现协程的方式："
   ]
  },
  {
   "cell_type": "raw",
   "id": "463d8b22",
   "metadata": {},
   "source": [
    "1. greenlet,早期模块；\n",
    "2. yield 关键字；\n",
    "3. asyncio装饰器，(python3.4开始)\n",
    "4. async,await关键字(python3.5开始,主流及推荐的)"
   ]
  },
  {
   "cell_type": "markdown",
   "id": "122509d0",
   "metadata": {},
   "source": [
    "## 多进程+协程"
   ]
  },
  {
   "cell_type": "raw",
   "id": "55955e82",
   "metadata": {},
   "source": [
    "因为协程是一个线程执行，那怎么利用多核CPU呢？最简单的方法是多进程+协程，既充分利用多核，又充分发挥协程的高效率，可获得极高的性能。\n",
    "协程与一般函数的不同点\n",
    "\n",
    "协程看上去也是子程序（函数），但执行过程中，在子程序内部（函数）可中断，而不是一次性一定要执行完才行，然后转而执行别的子程序，在适当的时候再返回来接着执行。 "
   ]
  },
  {
   "cell_type": "raw",
   "id": "b58a611a",
   "metadata": {},
   "source": [
    "1、协程的直观理解\n",
    "\n",
    "  yield个人认为其实是为了实现协程而出现的。所以如果要解释清楚什么是yield，那么也就必须要先搞懂什么是协程。首先明确一点：协程是针对单个CPU的，也就是说，讲协程讲的就是单线程。我们可以通过协程实现类似并发的任务，并且如果只是在一个CPU上的话，使用协程带来的效率一般都会比使用线程来的高。这是为啥呢？这就要看协程的原理了。\n",
    "\n",
    "   协程的原理很简单，打个比方就能讲明白了：假设说有十个人去食堂打饭，这个食堂比较穷，只有一个打饭的窗口，并且也只有一个打饭阿姨，那么打饭就只能一个一个排队来打咯。这十个人胃口很大，每个人都要点5个菜，但这十个人又有个毛病就是做事情都犹豫不决，所以点菜的时候就会站在那里，每点一个菜后都会想下一个菜点啥，因此后面的人等的很着急呀。这样一直站着也不是个事情吧，所以打菜的阿姨看到某个人犹豫5秒后就开始吼一声，会让他排到队伍最后去，先让别人打菜，等轮到他的时候他也差不多想好吃啥了。这确实是个不错的方法，但也有一个缺点，那就是打菜的阿姨会等每个人5秒钟，如果那个人在5秒内没有做出决定吃啥，其实这5秒就是浪费了。一个人点一个菜就是浪费5秒，十个人每个人点5个菜可就浪费的多啦（菜都凉了要）。那咋办呢？\n",
    "\n",
    "   这个时候阿姨发话了：大家都是学生，学生就要自觉，我以后也不主动让你们排到最后去了，如果你们觉得自己会犹豫不决，就自己主动点直接点一个菜就站后面去，等下次排到的时候也差不多想好吃啥了。这个方法果然有效，大家点了菜后想的第一件事情不是下一个菜吃啥，而是自己会不会犹豫，如果会犹豫那直接排到队伍后面去，如果不会的话就直接接着点菜就行了。这样一来整个队伍没有任何时间是浪费的，效率自然就高了。\n",
    "\n",
    "这个例子里的排队阿姨的那声吼就是我们的CPU中断，用于切换上下文。每个打饭的学生就是一个task。而每个人自己决定自己要不要让出窗口的这种行为，其实就是我们协程的核心思想。\n",
    "在用线程的时候，其实虽然CPU把时间给了你，你也不一定有活干，比如你要等IO、等信号啥的，这些时间CPU给了你你也没用呀。\n",
    "\n",
    "在用协程的时候，CPU就不来分配时间了，时间由你们自己决定，你觉得干这件事情很耗时，要等IO啥的，你就干一会歇一会，等到等IO的时候就主动让出CPU，让别人上去干活，别人也是讲道理的，干一会也会把时间让给你。协程就是使用了这种思想，让编程者控制各个任务的运行顺序，从而最大可能的发挥CPU的性能。\n",
    "\n",
    "2、为什么yield可以实现协程\n",
    "\n",
    "在Python中，协程通过yield实现。因为当一个函数中有yield存在的时候，这个函数是生成器，那么当你调用这个函数的时候，你在函数体中写的代码并没有被执行，而是只返回了一个生成器对象，这个需要特别注意。然后，你的代码将会在每次使用这个生成器的时候被执行。\n",
    "\n",
    "前面讲过yield表达式的两个关键作用：①返回一个值、②接收调用者的参数\n",
    "“调用者”与“被调用者”之间的通信是通过send()进行联系的\n",
    "正是因为yield实现的生成器具备“中断等待的功能”，才使得yield可以实现协程。"
   ]
  },
  {
   "cell_type": "markdown",
   "id": "7dfd3854",
   "metadata": {},
   "source": [
    "## yield实现协程例子："
   ]
  },
  {
   "cell_type": "code",
   "execution_count": 1,
   "id": "c92c1b9b",
   "metadata": {},
   "outputs": [],
   "source": [
    "# 需要深入理解生产者和消费者之间的运行顺序：关键点是yield会暂停程序运行，send或next函数可以出发它的运行\n",
    "\n",
    "def consumer():\n",
    "    r_c = 0\n",
    "    print(f\"1th_{r_c}\")\n",
    "    while True:\n",
    "        n_c = yield r_c\n",
    "#         r_c+=100\n",
    "        if not n_c:       #如果传进来的是None或未传值，则终止该函数\n",
    "            return\n",
    "        print(f\"消费者:正在消费{n_c}_{r_c}RMB\")\n",
    "        r_c+=100        #r_c在这个地方赋值使人比较困惑，完全可以放在循环的开始\n",
    "        \n",
    "def producer(c):\n",
    "    c.send(None)   #启动生成器, 所以执行consumer里的第一个print: print(f\"1th_{r_c}\")，遇到yield后暂停\n",
    "#     return\n",
    "    n_p = 0\n",
    "    while n_p<5:\n",
    "        n_p += 1\n",
    "        print(f\"生产者:正在生产{n_p}\")    #在下一个send之前，不对consumer做任何的操作\n",
    "#         break\n",
    "        r_p=c.send(n_p)    #第一次执行时，将n_p=1发送给consumer,启动consumer里面while的第一个循环，即n_p=1传个consumer里的n_c，并返回r_c的，貌似是先返回r_c然后赋值200RMB\n",
    "#         break\n",
    "        print(f\"生产者:消费者返回：{r_p}\")\n",
    "        print(\"-\"*50)\n",
    "    c.close()"
   ]
  },
  {
   "cell_type": "code",
   "execution_count": 2,
   "id": "ae033247",
   "metadata": {},
   "outputs": [
    {
     "name": "stdout",
     "output_type": "stream",
     "text": [
      "1th_0\n",
      "生产者:正在生产1\n",
      "消费者:正在消费1_0RMB\n",
      "生产者:消费者返回：100\n",
      "--------------------------------------------------\n",
      "生产者:正在生产2\n",
      "消费者:正在消费2_100RMB\n",
      "生产者:消费者返回：200\n",
      "--------------------------------------------------\n",
      "生产者:正在生产3\n",
      "消费者:正在消费3_200RMB\n",
      "生产者:消费者返回：300\n",
      "--------------------------------------------------\n",
      "生产者:正在生产4\n",
      "消费者:正在消费4_300RMB\n",
      "生产者:消费者返回：400\n",
      "--------------------------------------------------\n",
      "生产者:正在生产5\n",
      "消费者:正在消费5_400RMB\n",
      "生产者:消费者返回：500\n",
      "--------------------------------------------------\n"
     ]
    }
   ],
   "source": [
    "c = consumer()  #构造一个生成器,此时consumer函数已经运行到while循环，遇到第一个yield，然后暂停了\n",
    "producer(c)"
   ]
  },
  {
   "cell_type": "raw",
   "id": "8d5b19f3",
   "metadata": {},
   "source": [
    "第一步：在produce(c)函数中，调用了c.send(None)启动了生成器，这相当于是调用consumer(),但是如果consumer是一个普通函数而不是生成器，就要等到consumer执行完了，主动权才会重新回到producer手里。但就是因为consumer是生成器，所以第一次遇到yield暂停；接着执行produce()中接下来的代码，从运行结果看，确实打印出了[生产者] 正在生产 1 ，当程序运行至c.send(n)时，再次调用生成器并且通过yield传递了参数(n = 1)，这个时候，进入consumer()函数先前在yield停下的地方，继续向后执行，所以打印出[消费者] 正在消费 1。\n",
    "\n",
    "第二步：[消费者] 正在消费 1  这句话被打印出来之后，接下consumer()函数中此时 r 被赋值为’200 人民币’,接着consumer()函数里面的第一次循环结束，进入第二次循环，又遇到yield， 所以consumer()函数又暂停并且返回变量 r 的值，consumer()函数暂停，此时程序又进入produce(c)函数中接着执行。\n",
    "\n",
    "第三步：由于先前produce(c)函数接着第一次循环中c.send(n)处相当于是调用消费者consumer(),跳入到了consumer()里面去执行，现在consumer暂停，producer重新我有主动权，故而继续往下执行打印出[生产者] 消费者返回: 200 人民币，然后producer的第一次循环结束，并进行第二次循环，打印出[生产者] 正在生产 1，然后，又调用c.send(n) 又调用消费者consumer，将控制权交给consumer，如此循环回到第一步！"
   ]
  },
  {
   "cell_type": "code",
   "execution_count": null,
   "id": "8bbbabd4",
   "metadata": {},
   "outputs": [],
   "source": [
    "def consumer():\n",
    "    r_c = 0\n",
    "    print(f\"1th_{r_c}\")\n",
    "    while True:\n",
    "        n_c = yield r_c    #n_c:是传进来的值, r_c:是返回去的值\n",
    "        r_c+=100\n",
    "        if not n_c:       #如果传进来的是None或未传值，则终止该函数\n",
    "            return\n",
    "        print(f\"消费者:正在消费{n_c}_{r_c}RMB\")\n",
    "#         r_c+=100"
   ]
  },
  {
   "cell_type": "code",
   "execution_count": null,
   "id": "ac17e749",
   "metadata": {},
   "outputs": [],
   "source": [
    "c = consumer()"
   ]
  },
  {
   "cell_type": "code",
   "execution_count": null,
   "id": "c9548e16",
   "metadata": {},
   "outputs": [],
   "source": [
    "c.send(None)"
   ]
  },
  {
   "cell_type": "code",
   "execution_count": null,
   "id": "02a622c0",
   "metadata": {},
   "outputs": [],
   "source": [
    "c.send(1)"
   ]
  },
  {
   "cell_type": "code",
   "execution_count": null,
   "id": "456e10bc",
   "metadata": {},
   "outputs": [],
   "source": [
    "c.send(2)"
   ]
  },
  {
   "cell_type": "code",
   "execution_count": null,
   "id": "712f0164",
   "metadata": {},
   "outputs": [],
   "source": [
    "def average():\n",
    "    total = 0.0  #数字的总和\n",
    "    count = 0    #数字的个数\n",
    "    avg = None   #平均值\n",
    "    while True:\n",
    "        num = yield avg\n",
    "        total += num\n",
    "        count += 1\n",
    "        avg = total/count"
   ]
  },
  {
   "cell_type": "code",
   "execution_count": null,
   "id": "e81d3021",
   "metadata": {},
   "outputs": [],
   "source": [
    "g = average()\n",
    "g.send(None)"
   ]
  },
  {
   "cell_type": "markdown",
   "id": "f7ea1b14",
   "metadata": {},
   "source": [
    "### 协程状态查看：\n",
    "    inspect.getgeneratorstate()查看协程状态"
   ]
  },
  {
   "cell_type": "raw",
   "id": "efe3cb2d",
   "metadata": {},
   "source": [
    "协程有四种状态，分别是\n",
    "    GEN_CREATED：等待执行，即还没有进入协程\n",
    "    GEN_RUNNING：解释器执行（这个只有在使用多线程时才能查看到他的状态，而协程是单线程的）\n",
    "    GEN_SUSPENDED：在yield表达式处暂停（协程在暂停等待的时候的状态）\n",
    "    GEN_CLOSED：执行结束（协程执行结束了之后的状态）"
   ]
  },
  {
   "cell_type": "code",
   "execution_count": null,
   "id": "29865292",
   "metadata": {},
   "outputs": [],
   "source": [
    "from inspect import getgeneratorstate"
   ]
  },
  {
   "cell_type": "code",
   "execution_count": null,
   "id": "eacb1f22",
   "metadata": {},
   "outputs": [],
   "source": [
    "def my_generator():\n",
    "    for i in range(3):\n",
    "        time.sleep(0.5)\n",
    "        x = yield i + 1  \n",
    "\n",
    "g=my_generator()  #创建一个生成器对象\n",
    " \n",
    "def main(generator):\n",
    "    try:\n",
    "        print(\"生成器状态为:{0}\".format(getgeneratorstate(generator))) \n",
    "        \n",
    "        print(next(g))  #激活生成器\n",
    "        print(\"生成器状态为:{0}\".format(getgeneratorstate(generator)))\n",
    "        \n",
    "        print(g.send(100))\n",
    "        print(\"生成器状态为:{0}\".format(getgeneratorstate(generator)))  \n",
    "        \n",
    "        print(next(g))\n",
    "        print(\"生成器状态为:{0}\".format(getgeneratorstate(generator)))\n",
    "        \n",
    "        print(next(g))\n",
    "        print(\"生成器状态为:{0}\".format(getgeneratorstate(generator)))\n",
    "    except StopIteration:\n",
    "        print('全部迭代完毕了')\n",
    "        print(\"生成器状态为:{0}\".format(getgeneratorstate(generator))) \n",
    "\n",
    "main(g)"
   ]
  },
  {
   "cell_type": "markdown",
   "id": "1b70e50f",
   "metadata": {},
   "source": [
    "## yield from:"
   ]
  },
  {
   "cell_type": "raw",
   "id": "b37ab4c0",
   "metadata": {},
   "source": [
    "yield from 后面可以跟的可以是“ 生成器 、元组、 列表、range（）函数产生的序列等可迭代对象”"
   ]
  },
  {
   "cell_type": "code",
   "execution_count": null,
   "id": "eb1a98fc",
   "metadata": {},
   "outputs": [],
   "source": [
    "# 具体和yield区别请看下面例子：\n",
    "\n",
    "def generator1():\n",
    "    for i in [\"t\",\"o\",\"y\"]:\n",
    "        yield i\n",
    "\n",
    "\n",
    "def generator2():\n",
    "    yield 'a'\n",
    "    yield 'b'\n",
    "    yield 'c'\n",
    "    yield from generator1() #yield from iterable本质上等于 for item in iterable: yield item的缩写版\n",
    "    yield ['m','n','h']\n",
    "    yield from [11,22,33,44]\n",
    "    yield from (12,23,34)\n",
    "    yield from range(3)\n",
    " \n",
    " \n",
    "for i in generator2():\n",
    "    print(i,end='\\n')\n",
    "    \n",
    "# yield from 解决的问题不止于此，更多功能见下面介绍"
   ]
  },
  {
   "cell_type": "markdown",
   "id": "1184ae1e",
   "metadata": {},
   "source": [
    "### yield from 高级应用"
   ]
  },
  {
   "cell_type": "raw",
   "id": "60a19ee4",
   "metadata": {},
   "source": [
    "1、针对yield无法获取生成器return的返回值\n",
    "我们都知道，在使用yield生成器的时候，如果使用for语句去迭代生成器，则不会显式的出发StopIteration异常，而是自动捕获StopIteration异常，所以如果遇到return，只是会终止迭代，而不会触发异常，故而也就没办法获取return的值。如下："
   ]
  },
  {
   "cell_type": "code",
   "execution_count": null,
   "id": "70cf8b58",
   "metadata": {},
   "outputs": [],
   "source": [
    "# 不会捕获return返回的值\n",
    "def my_generator():\n",
    "    for i in range(5):\n",
    "        if i==2:\n",
    "            return '我被迫中断了'\n",
    "        else:\n",
    "            yield i\n",
    "\n",
    "def main(generator):\n",
    "    try:\n",
    "        for i in generator:  #不会显式触发异常，故而无法获取到return的值\n",
    "            print(i)\n",
    "    except StopIteration as exc:\n",
    "        print(exc.value)"
   ]
  },
  {
   "cell_type": "code",
   "execution_count": null,
   "id": "0130afb7",
   "metadata": {},
   "outputs": [],
   "source": [
    "# 可以捕获return返回的值：\n",
    "def my_generator():\n",
    "    for i in range(5):\n",
    "        if i==2:\n",
    "            return '我被迫中断了'\n",
    "        else:\n",
    "            yield i\n",
    "\n",
    "def main(generator):\n",
    "    try:\n",
    "        print(next(generator))   #每次迭代一个值，则会显式出发StopIteration\n",
    "        print(next(generator))\n",
    "        print(next(generator))\n",
    "        print(next(generator))\n",
    "        print(next(generator))\n",
    "    except StopIteration as exc:\n",
    "        print(exc.value)     #获取返回的值\n",
    "\n",
    "g=my_generator()\n",
    "main(g)"
   ]
  },
  {
   "cell_type": "code",
   "execution_count": null,
   "id": "3089e17a",
   "metadata": {},
   "outputs": [],
   "source": [
    "# yield from就有同样的功能，捕获return：\n",
    "def my_generator():\n",
    "    for i in range(5):\n",
    "        if i==2:\n",
    "            return '我被迫中断了'\n",
    "        else:\n",
    "            yield i\n",
    "\n",
    "def wrap_my_generator(generator):  #定义一个包装“生成器”的生成器，它的本质还是生成器\n",
    "    result=yield from generator    #自动触发StopIteration异常，并且将return的返回值赋值给yield from表达式的结果，即result\n",
    "    print(result)\n",
    "\n",
    "    \n",
    "def main(generator):\n",
    "    for j in generator:\n",
    "        print(j)\n",
    "\n",
    "g=my_generator()\n",
    "wrap_g=wrap_my_generator(g)\n",
    "main(wrap_g)  #调用"
   ]
  },
  {
   "cell_type": "raw",
   "id": "e6634a7f",
   "metadata": {},
   "source": [
    "从上面的比较可以看出，yield from具有以下几个特点：\n",
    "\n",
    "（1）上面的my_generator是原始的生成器，main是调用方，使用yield的时候，只涉及到这两个函数，即“调用方”与“生成器（协程函数）”是直接进行交互的，不涉及其他方法，即“调用方——>生成器函数(协程函数)”；\n",
    "\n",
    "（2）在使用yield from的时候，多了一个对原始my_generator的包装函数，然后调用方是通过这个包装函数（后面会讲到它专有的名词）来与生成器进行交互的，即“调用方——>生成器包装函数——>生成器函数(协程函数)”；\n",
    "\n",
    "（3）yield from iteration结构会在内部自动捕获 iteration生成器的StopIteration 异常。这种处理方式与 for 循环处理 StopIteration 异常的方式一样。而且对 yield from 结构来说，解释器不仅会捕获 StopIteration 异常，还会把return返回的值或者是StopIteration的value 属性的值变成 yield from 表达式的值，即上面的result。\n"
   ]
  },
  {
   "cell_type": "markdown",
   "id": "23e21c26",
   "metadata": {},
   "source": [
    "### yield from实现的数据传输通道"
   ]
  },
  {
   "cell_type": "code",
   "execution_count": 3,
   "id": "3bbf1064",
   "metadata": {},
   "outputs": [
    {
     "ename": "FileNotFoundError",
     "evalue": "[Errno 2] No such file or directory: '.\\\\testfile\\\\yieldfrom.jpg'",
     "output_type": "error",
     "traceback": [
      "\u001b[1;31m---------------------------------------------------------------------------\u001b[0m",
      "\u001b[1;31mFileNotFoundError\u001b[0m                         Traceback (most recent call last)",
      "\u001b[1;32m<ipython-input-3-83bcc25d9978>\u001b[0m in \u001b[0;36m<module>\u001b[1;34m\u001b[0m\n\u001b[1;32m----> 1\u001b[1;33m \u001b[0mimg\u001b[0m \u001b[1;33m=\u001b[0m \u001b[0mplt\u001b[0m\u001b[1;33m.\u001b[0m\u001b[0mimread\u001b[0m\u001b[1;33m(\u001b[0m\u001b[1;34mr\".\\testfile\\yieldfrom.jpg\"\u001b[0m\u001b[1;33m)\u001b[0m\u001b[1;33m\u001b[0m\u001b[1;33m\u001b[0m\u001b[0m\n\u001b[0m\u001b[0;32m      2\u001b[0m \u001b[0mfig\u001b[0m\u001b[1;33m=\u001b[0m\u001b[0mplt\u001b[0m\u001b[1;33m.\u001b[0m\u001b[0mfigure\u001b[0m\u001b[1;33m(\u001b[0m\u001b[0mfigsize\u001b[0m\u001b[1;33m=\u001b[0m\u001b[1;33m(\u001b[0m\u001b[1;36m16\u001b[0m\u001b[1;33m,\u001b[0m\u001b[1;36m12\u001b[0m\u001b[1;33m)\u001b[0m\u001b[1;33m)\u001b[0m\u001b[1;33m\u001b[0m\u001b[1;33m\u001b[0m\u001b[0m\n\u001b[0;32m      3\u001b[0m \u001b[0max\u001b[0m \u001b[1;33m=\u001b[0m \u001b[0mfig\u001b[0m\u001b[1;33m.\u001b[0m\u001b[0madd_subplot\u001b[0m\u001b[1;33m(\u001b[0m\u001b[1;33m)\u001b[0m\u001b[1;33m\u001b[0m\u001b[1;33m\u001b[0m\u001b[0m\n\u001b[0;32m      4\u001b[0m \u001b[0max\u001b[0m\u001b[1;33m.\u001b[0m\u001b[0mimshow\u001b[0m\u001b[1;33m(\u001b[0m\u001b[0mimg\u001b[0m\u001b[1;33m)\u001b[0m\u001b[1;33m\u001b[0m\u001b[1;33m\u001b[0m\u001b[0m\n",
      "\u001b[1;32mC:\\work\\virtenvs\\3p8_64bit_SensiPython_4p0\\lib\\site-packages\\matplotlib\\pyplot.py\u001b[0m in \u001b[0;36mimread\u001b[1;34m(fname, format)\u001b[0m\n\u001b[0;32m   2374\u001b[0m \u001b[1;33m@\u001b[0m\u001b[0m_copy_docstring_and_deprecators\u001b[0m\u001b[1;33m(\u001b[0m\u001b[0mmatplotlib\u001b[0m\u001b[1;33m.\u001b[0m\u001b[0mimage\u001b[0m\u001b[1;33m.\u001b[0m\u001b[0mimread\u001b[0m\u001b[1;33m)\u001b[0m\u001b[1;33m\u001b[0m\u001b[1;33m\u001b[0m\u001b[0m\n\u001b[0;32m   2375\u001b[0m \u001b[1;32mdef\u001b[0m \u001b[0mimread\u001b[0m\u001b[1;33m(\u001b[0m\u001b[0mfname\u001b[0m\u001b[1;33m,\u001b[0m \u001b[0mformat\u001b[0m\u001b[1;33m=\u001b[0m\u001b[1;32mNone\u001b[0m\u001b[1;33m)\u001b[0m\u001b[1;33m:\u001b[0m\u001b[1;33m\u001b[0m\u001b[1;33m\u001b[0m\u001b[0m\n\u001b[1;32m-> 2376\u001b[1;33m     \u001b[1;32mreturn\u001b[0m \u001b[0mmatplotlib\u001b[0m\u001b[1;33m.\u001b[0m\u001b[0mimage\u001b[0m\u001b[1;33m.\u001b[0m\u001b[0mimread\u001b[0m\u001b[1;33m(\u001b[0m\u001b[0mfname\u001b[0m\u001b[1;33m,\u001b[0m \u001b[0mformat\u001b[0m\u001b[1;33m)\u001b[0m\u001b[1;33m\u001b[0m\u001b[1;33m\u001b[0m\u001b[0m\n\u001b[0m\u001b[0;32m   2377\u001b[0m \u001b[1;33m\u001b[0m\u001b[0m\n\u001b[0;32m   2378\u001b[0m \u001b[1;33m\u001b[0m\u001b[0m\n",
      "\u001b[1;32mC:\\work\\virtenvs\\3p8_64bit_SensiPython_4p0\\lib\\site-packages\\matplotlib\\image.py\u001b[0m in \u001b[0;36mimread\u001b[1;34m(fname, format)\u001b[0m\n\u001b[0;32m   1499\u001b[0m                     \u001b[0mresponse\u001b[0m \u001b[1;33m=\u001b[0m \u001b[0mio\u001b[0m\u001b[1;33m.\u001b[0m\u001b[0mBytesIO\u001b[0m\u001b[1;33m(\u001b[0m\u001b[0mresponse\u001b[0m\u001b[1;33m.\u001b[0m\u001b[0mread\u001b[0m\u001b[1;33m(\u001b[0m\u001b[1;33m)\u001b[0m\u001b[1;33m)\u001b[0m\u001b[1;33m\u001b[0m\u001b[1;33m\u001b[0m\u001b[0m\n\u001b[0;32m   1500\u001b[0m                 \u001b[1;32mreturn\u001b[0m \u001b[0mimread\u001b[0m\u001b[1;33m(\u001b[0m\u001b[0mresponse\u001b[0m\u001b[1;33m,\u001b[0m \u001b[0mformat\u001b[0m\u001b[1;33m=\u001b[0m\u001b[0mext\u001b[0m\u001b[1;33m)\u001b[0m\u001b[1;33m\u001b[0m\u001b[1;33m\u001b[0m\u001b[0m\n\u001b[1;32m-> 1501\u001b[1;33m     \u001b[1;32mwith\u001b[0m \u001b[0mimg_open\u001b[0m\u001b[1;33m(\u001b[0m\u001b[0mfname\u001b[0m\u001b[1;33m)\u001b[0m \u001b[1;32mas\u001b[0m \u001b[0mimage\u001b[0m\u001b[1;33m:\u001b[0m\u001b[1;33m\u001b[0m\u001b[1;33m\u001b[0m\u001b[0m\n\u001b[0m\u001b[0;32m   1502\u001b[0m         return (_pil_png_to_float_array(image)\n\u001b[0;32m   1503\u001b[0m                 \u001b[1;32mif\u001b[0m \u001b[0misinstance\u001b[0m\u001b[1;33m(\u001b[0m\u001b[0mimage\u001b[0m\u001b[1;33m,\u001b[0m \u001b[0mPIL\u001b[0m\u001b[1;33m.\u001b[0m\u001b[0mPngImagePlugin\u001b[0m\u001b[1;33m.\u001b[0m\u001b[0mPngImageFile\u001b[0m\u001b[1;33m)\u001b[0m \u001b[1;32melse\u001b[0m\u001b[1;33m\u001b[0m\u001b[1;33m\u001b[0m\u001b[0m\n",
      "\u001b[1;32mC:\\work\\virtenvs\\3p8_64bit_SensiPython_4p0\\lib\\site-packages\\PIL\\Image.py\u001b[0m in \u001b[0;36mopen\u001b[1;34m(fp, mode, formats)\u001b[0m\n\u001b[0;32m   2910\u001b[0m \u001b[1;33m\u001b[0m\u001b[0m\n\u001b[0;32m   2911\u001b[0m     \u001b[1;32mif\u001b[0m \u001b[0mfilename\u001b[0m\u001b[1;33m:\u001b[0m\u001b[1;33m\u001b[0m\u001b[1;33m\u001b[0m\u001b[0m\n\u001b[1;32m-> 2912\u001b[1;33m         \u001b[0mfp\u001b[0m \u001b[1;33m=\u001b[0m \u001b[0mbuiltins\u001b[0m\u001b[1;33m.\u001b[0m\u001b[0mopen\u001b[0m\u001b[1;33m(\u001b[0m\u001b[0mfilename\u001b[0m\u001b[1;33m,\u001b[0m \u001b[1;34m\"rb\"\u001b[0m\u001b[1;33m)\u001b[0m\u001b[1;33m\u001b[0m\u001b[1;33m\u001b[0m\u001b[0m\n\u001b[0m\u001b[0;32m   2913\u001b[0m         \u001b[0mexclusive_fp\u001b[0m \u001b[1;33m=\u001b[0m \u001b[1;32mTrue\u001b[0m\u001b[1;33m\u001b[0m\u001b[1;33m\u001b[0m\u001b[0m\n\u001b[0;32m   2914\u001b[0m \u001b[1;33m\u001b[0m\u001b[0m\n",
      "\u001b[1;31mFileNotFoundError\u001b[0m: [Errno 2] No such file or directory: '.\\\\testfile\\\\yieldfrom.jpg'"
     ]
    }
   ],
   "source": [
    "img = plt.imread(r\".\\testfile\\yieldfrom.jpg\")\n",
    "fig=plt.figure(figsize=(16,12))\n",
    "ax = fig.add_subplot()\n",
    "ax.imshow(img)"
   ]
  },
  {
   "cell_type": "raw",
   "id": "37aefbec",
   "metadata": {},
   "source": [
    "（1）yield from主要设计用来向子生成器委派操作任务，但yield from可以向任意的可迭代对象委派操作；\n",
    "\n",
    "（2）委派生成器（group）相当于管道，所以可以把任意数量的委派生成器连接在一起---一个委派生成器使用yield from 调用一个子生成器，而那个子生成器本身也是委派生成器，使用yield from调用另一个生成器。"
   ]
  },
  {
   "cell_type": "code",
   "execution_count": null,
   "id": "1b01e3ee",
   "metadata": {},
   "outputs": [],
   "source": [
    "# yield from 用法示例：\n",
    "\n",
    "def average():\n",
    "    total = 0.0  #数字的总和\n",
    "    count = 0    #数字的个数\n",
    "    avg = None   #平均值\n",
    "    while True:\n",
    "        num = yield avg\n",
    "        total += num\n",
    "        count += 1\n",
    "        avg = total/count\n",
    "\n",
    "def wrap_average(generator):\n",
    "    yield from generator\n",
    "\n",
    "#定义一个函数，通过这个函数向average函数发送数值\n",
    "def main(wrap):\n",
    "    print(next(wrap))  #启动生成器\n",
    "    print(wrap.send(10))  # 10\n",
    "    print(wrap.send(20))  # 15\n",
    "    print(wrap.send(30))  # 20\n",
    "    print(wrap.send(40))  # 25\n",
    "\n",
    "g = average()\n",
    "wrap=wrap_average(g)\n",
    "main(wrap)"
   ]
  },
  {
   "cell_type": "markdown",
   "id": "16b2fdca",
   "metadata": {},
   "source": [
    "# 并发和并行"
   ]
  },
  {
   "cell_type": "raw",
   "id": "d2f95555",
   "metadata": {},
   "source": [
    "并发和并行的区别：\n",
    "\n",
    "（1）你吃饭吃到一半，电话来了，你一直到吃完了以后才去接，这就说明你不支持并发也不支持并行。因为在完成吃饭这件事情之前，打电话这件事你是完全没开始的，是一个一个来的）\n",
    "\n",
    "（2）你吃饭吃到一半，电话来了，你停了下来接了电话，接完后继续吃饭，这说明你支持并发。因为吃饭和电话两件事情都处于启动状态，而不是一件事做完才启动另一件事，但是虽然几件事情都开始了，但因为是一个线程，还是一个一个交替去做的，这也是python协程的思想。\n",
    "\n",
    "（3）你吃饭吃到一半，电话来了，你一边打电话一边吃饭，这说明你支持并行。因为这是同时在进行多件事情，而不是交替执行。\n",
    "\n",
    "怎么区别呢？区分它们最关键的点就是：是否是『同时』。"
   ]
  },
  {
   "cell_type": "markdown",
   "id": "5361706a",
   "metadata": {},
   "source": [
    "# 关键概念区分"
   ]
  },
  {
   "cell_type": "raw",
   "id": "bddd7cc0",
   "metadata": {},
   "source": [
    "（1）阻塞/非阻塞：关注的是程序在等待调用结果（消息，返回值）时的状态\n",
    "\n",
    "（2）同步/异步：关注的是消息通知的机制。即等到完全做完才通知，还是你先做你的，我先做我的 ，你做完了再来通知我就可以了。\n",
    "\n",
    "所谓同步，就是在发出一个*调用*时，在没有得到结果之前，该*调用*就不返回。但是一旦调用返回，就得到返回值了。\n",
    "换句话说，就是由*调用者*主动等待这个*调用*的结果。\n",
    "\n",
    "而异步则是相反，*调用*在发出之后，这个调用就直接返回了，所以没有返回结果。换句话说，当一个异步过程调用发出后，调用者不会立刻得到结果。而是在*调用*发出后，*被调用者*通过状态、通知来通知调用者，或通过回调函数处理这个调用。\n",
    "\n",
    "上面的两组概念是可以两两搭配的，即\n",
    "\n",
    "（3）同步阻塞、同步非阻塞，异步阻塞、异步非阻塞。\n",
    "\n",
    "    举个简单的例子来描述这四种情况，老张要做两件事，用水壶烧开水，看电视，两件事情即两个任务，两个函数。\n",
    "\n",
    "    同步阻塞：老张把水壶放到火上，就坐在那里等水开，开了之后我再去看电视。（）\n",
    "\n",
    "    同步非阻塞：老张把水壶放到火上，去客厅看电视，时不时去厨房看看水开没有。（同步非阻塞）\n",
    "\n",
    "\n",
    "    老张还是觉得自己有点傻，于是变高端了，买了把会响笛的那种水壶。水开之后，能大声发出嘀~~~~的噪音。\n",
    "    异步阻塞：老张把响水壶放到火上，然后就坐在旁边等着听那个烧开的提示音。（异步阻塞）\n",
    "\n",
    "    异步非阻塞：老张把响水壶放到火上，去客厅看电视，水壶响之前不再去看它了，响了再去拿壶。（异步非阻塞）\n",
    "\n",
    "\n",
    "    乍一看，这“同步阻塞、意不阻塞”似乎没有什么区别，但实际上是有区别的，所谓同步异步，指的是消息通知的机制。区别在哪里呢？\n",
    "\n",
    "    在这个例子中同步异步只是对于水壶而言。在使用普通水壶的时候，我要自己主动去观察水是不是烧开了，自己主动去获取烧开的这个结果，即所谓的同步；但是在响水壶的时候，我不需要再管水烧到什么程度了，因为只要水烧开了，那个滴滴的噪声就会通知我的，即所谓的异步。\n",
    "\n",
    "    他们的相同点是，在烧水的过程中，老王啥也没干，即“阻塞”。\n",
    "\n",
    "（4）四种总结——同步/异步与阻塞/非阻塞\n",
    "\n",
    "同步阻塞形式：效率是最低的。拿上面的例子来说，在烧水的过程中，什么别的事都不做。\n",
    "\n",
    "同步非阻塞形式：实际上是效率低下的。因为老王需要不断的在看电视与烧水之间来回跑动，看一下电视，又要去看一下水烧开                             没有，这样来回跑很多次，在程序中，程序需要在这两种不同的行为之间来回的切换，效率可想而知是低下的。\n",
    "\n",
    "异步阻塞形式：异步操作是可以被阻塞住的，只不过它不是在处理消息时阻塞，而是在等待消息通知时被阻塞。这个效率其实跟同步阻塞差不多的。\n",
    "\n",
    "异步非阻塞形式：效率更高。因为老王把水烧好之后就不用管了，可以安安心心去看电视，不用来回奔波看水烧开了没，因为水烧开了会有提示告诉他水烧好了，这样效率岂不是更高。\n",
    "\n",
    "那有没有更好的办法？当然有，如果老王还有一个帮手老张，让老王自己看电视、同时老张去烧开水，这样岂不是更好？这就是所谓的并行。\n",
    "\n",
    "（4）并发/并行、同步/异步、阻塞/非阻塞\n",
    "\n",
    "    并发/并行：即能够开启多个任务，多个任务交替执行为并发，多个任务同时执行为并行\n",
    "\n",
    "    同步/异步：关注的是消息通知的机制，主动等候消息则为同步、被动听消息则为异步\n",
    "\n",
    "    阻塞/非阻塞：关注的是等候消息的过程中有没有干其他事。\n",
    "\n",
    "总结：上面的几组概念，时刻穿插的，并没有完全的等价关系，所以经常有人说，异步就是非阻塞，同步就是阻塞，并发就是非阻塞、并行就是非阻塞，这些说法都是不完全准确地。\n",
    "\n",
    "六、最终结论概括\n",
    "并发和并行都是实现异步编程的思路，只有一个线程的并发，称之为“伪并发”；有多个线程的并发称之为“真并发”，真并发与并行是很接近的。\n",
    "\n",
    "6.1异步操作的优缺点\n",
    "\n",
    "因为异步操作无须额外的线程负担（这里指的是单线程交替执行的“伪并发”），并且使用回调的方式进行处理，在设计良好的情况下，处理函数可以不必使用共享变量（即使无法完全不用，最起码可以减少 共享变量的数量），减少了死锁的可能。当然异步操作也并非完美无暇。编写异步操作的复杂程度较高，程序主要使用回调方式进行处理，与普通人的思维方式有些 初入，而且难以调试。\n",
    "\n",
    "6.2 多线程的优缺点\n",
    "\n",
    "多线程的优点很明显，线程中的处理程序依然是顺序执行，符合普通人的思维习惯，所以编程简单。但是多线程的缺点也同样明显，线程的使用（滥用）会给系统带来上下文切换的额外负担。并且线程间的共享变量可能造成死锁的出现。\n",
    "\n",
    "异步与多线程,从辩证关系上来看,异步和多线程并不时一个同等关系,（因为单线程也是可以实现异步的）异步是目的,多线程只是我们实现异步的一个手段.什么是异步:异步是当一个调用请求发送给被调用者,而调用者不用等待其结果的返回.实现异步可以采用多线程技术或则交给另外的进程来处理"
   ]
  },
  {
   "cell_type": "markdown",
   "id": "533a822c",
   "metadata": {},
   "source": [
    "# 多线程结合asyncio解决调用时的假死"
   ]
  },
  {
   "cell_type": "raw",
   "id": "b0790c16",
   "metadata": {},
   "source": [
    "https://blog.csdn.net/qq_27825451/article/details/86483493?ops_request_misc=&request_id=&biz_id=102&utm_term=python%E5%8D%8F%E7%A8%8B%E7%B3%BB%E5%88%97&utm_medium=distribute.pc_search_result.none-task-blog-2~all~sobaiduweb~default-7-86483493.pc_search_all_es&spm=1018.2226.3001.4187"
   ]
  },
  {
   "cell_type": "code",
   "execution_count": 4,
   "id": "6fab12fb",
   "metadata": {},
   "outputs": [],
   "source": [
    "# 1. 同步假死：\n",
    "# 我单击一下“开始计算”按钮，然后窗体会假死，这时候无法移动窗体、也无法最大化最小化、3秒钟之后\n",
    "class Form:\n",
    "    def __init__(self):\n",
    "        self.root=tk.Tk()\n",
    "        self.root.geometry('500x300')\n",
    "        self.root.title('窗体程序')  #设置窗口标题\n",
    " \n",
    "        self.button=tk.Button(self.root,text=\"开始计算\",command=self.calculate)\n",
    "        self.label=tk.Label(master=self.root,text=\"等待计算结果\")\n",
    " \n",
    "        self.button.pack()\n",
    "        self.label.pack()\n",
    "        self.root.mainloop()\n",
    " \n",
    "    def calculate(self):\n",
    "        time.sleep(3)  #模拟耗时计算\n",
    "        self.label[\"text\"]=300\n",
    "\n",
    "form = Form()"
   ]
  },
  {
   "cell_type": "code",
   "execution_count": null,
   "id": "65870572",
   "metadata": {},
   "outputs": [],
   "source": [
    "# 2. 异步假死,和同步假死结果一样：\n",
    "class Form:\n",
    "    def __init__(self):\n",
    "        self.root=tk.Tk()\n",
    "        self.root.geometry('500x300')\n",
    "        self.root.title('窗体程序')  #设置窗口标题\n",
    "        \n",
    "        self.button=tk.Button(self.root,text=\"开始计算\",command=self.get_loop)\n",
    "        self.label=tk.Label(master=self.root,text=\"等待计算结果\")\n",
    " \n",
    "        self.button.pack()\n",
    "        self.label.pack()\n",
    " \n",
    "        self.root.mainloop()\n",
    "     \n",
    "    #定义一个异步方法，模拟耗时计算任务\n",
    "    async def calculate(self):\n",
    "        await asyncio.sleep(3)\n",
    "        self.label[\"text\"]=300\n",
    "    \n",
    "    #asyncio任务只能通过事件循环运行，不能直接运行异步函数\n",
    "    def get_loop(self):\n",
    "        self.loop=asyncio.get_event_loop()\n",
    "        self.loop.run_until_complete(self.calculate())\n",
    "        self.loop.close()\n",
    "        \n",
    "form = Form()"
   ]
  },
  {
   "cell_type": "code",
   "execution_count": 6,
   "id": "5bf4b294",
   "metadata": {},
   "outputs": [
    {
     "name": "stdout",
     "output_type": "stream",
     "text": [
      "准备调用func,大约耗时3\n",
      "准备调用func,大约耗时2\n",
      "准备调用func,大约耗时1\n",
      "i    \n",
      "l    \n",
      "o    \n",
      "v    \n",
      "e    \n",
      "u    \n",
      "耗时1之后,func函数运行结束\n",
      "耗时2之后,func函数运行结束\n",
      "耗时3之后,func函数运行结束\n"
     ]
    }
   ],
   "source": [
    "#需要执行的耗时异步任务\n",
    "async def func(num):\n",
    "    print(f'准备调用func,大约耗时{num}')\n",
    "    await asyncio.sleep(num)\n",
    "    print(f'耗时{num}之后,func函数运行结束')\n",
    "\n",
    "#定义一个专门创建事件循环loop的函数，在另一个线程中启动它\n",
    "def start_loop(loop):\n",
    "    asyncio.set_event_loop(loop)\n",
    "    loop.run_forever()\n",
    "\n",
    "# 定义一个main函数\n",
    "def main():\n",
    "    coroutine1 = func(3)\n",
    "    coroutine2 = func(2)\n",
    "    coroutine3 = func(1)\n",
    " \n",
    "    new_loop = asyncio.new_event_loop()                        #在当前线程下创建时间循环，（未启用），在start_loop里面启动它\n",
    "    t = threading.Thread(target=start_loop,args=(new_loop,))   #通过当前线程开启新的线程去启动事件循环\n",
    "    t.start()\n",
    " \n",
    "    asyncio.run_coroutine_threadsafe(coroutine1,new_loop)  #这几个是关键，代表在新线程中事件循环不断“游走”执行\n",
    "    asyncio.run_coroutine_threadsafe(coroutine2,new_loop)\n",
    "    asyncio.run_coroutine_threadsafe(coroutine3,new_loop)\n",
    " \n",
    "    for i in \"iloveu\":\n",
    "        print(str(i)+\"    \")\n",
    "        \n",
    "main()"
   ]
  },
  {
   "cell_type": "code",
   "execution_count": 5,
   "id": "163dfacb",
   "metadata": {},
   "outputs": [],
   "source": [
    "# 解决假死：\n",
    "class Form:\n",
    "    def __init__(self):\n",
    "        self.root=tk.Tk()\n",
    "        self.root.geometry('500x300')\n",
    "        self.root.title('窗体程序')  #设置窗口标题\n",
    "        \n",
    "        self.button=tk.Button(self.root,text=\"开始计算\",command=self.change_form_state)\n",
    "        self.label=tk.Label(master=self.root,text=\"等待计算结果\")\n",
    " \n",
    "        self.button.pack()\n",
    "        self.label.pack()\n",
    " \n",
    "        self.root.mainloop()\n",
    " \n",
    "    async def calculate(self):\n",
    "        await asyncio.sleep(3)\n",
    "        self.label[\"text\"]=300\n",
    " \n",
    "    def get_loop(self,loop):\n",
    "        self.loop=loop\n",
    "        asyncio.set_event_loop(self.loop)\n",
    "        self.loop.run_forever()\n",
    "    def change_form_state(self):\n",
    "        coroutine1 = self.calculate()\n",
    "        new_loop = asyncio.new_event_loop()                        #在当前线程下创建时间循环，（未启用），在start_loop里面启动它\n",
    "        t = threading.Thread(target=self.get_loop,args=(new_loop,))   #通过当前线程开启新的线程去启动事件循环\n",
    "        t.start()\n",
    " \n",
    "        asyncio.run_coroutine_threadsafe(coroutine1,new_loop)  #这几个是关键，代表在新线程中事件循环不断“游走”执行\n",
    " \n",
    " \n",
    "if __name__=='__main__':\n",
    "    form=Form()\n",
    "    \n",
    "# 运行上面的代码，我们发现，此时点击“开始计算”按钮执行耗时任务，没有造成窗体的任何阻塞，我可以最大最小化、移动等等，然后3秒之后标签会自动显示运算结果。为什么会这样？\n",
    "\n",
    "# 上面的代码中，get_loop()、change_form_state()、__init__()都是定义在主线程中的，窗体的状态维护也是主线程，二耗时计算calculate()是一个异步协程函数。\n",
    "\n",
    "# 现在单击“开始计算按钮”，这个事件发生之后，会触发主线程的chang_form_state函数，然后在该函数中，会创建新的线程，通过新的线程创建一个事件循环，然后将协程函数注册到新线程中的事件循环中去，达到的效果就是，主线程做主线程的，新线程做新线程的，不会造成任何阻塞。\n"
   ]
  },
  {
   "cell_type": "code",
   "execution_count": null,
   "id": "9ca05cc4",
   "metadata": {},
   "outputs": [],
   "source": []
  }
 ],
 "metadata": {
  "kernelspec": {
   "display_name": "Python 38",
   "language": "python",
   "name": "python3"
  },
  "language_info": {
   "codemirror_mode": {
    "name": "ipython",
    "version": 3
   },
   "file_extension": ".py",
   "mimetype": "text/x-python",
   "name": "python",
   "nbconvert_exporter": "python",
   "pygments_lexer": "ipython3",
   "version": "3.8.6"
  },
  "toc": {
   "base_numbering": 1,
   "nav_menu": {},
   "number_sections": true,
   "sideBar": true,
   "skip_h1_title": false,
   "title_cell": "Table of Contents",
   "title_sidebar": "Contents",
   "toc_cell": false,
   "toc_position": {
    "height": "calc(100% - 180px)",
    "left": "10px",
    "top": "150px",
    "width": "266px"
   },
   "toc_section_display": true,
   "toc_window_display": true
  }
 },
 "nbformat": 4,
 "nbformat_minor": 5
}
