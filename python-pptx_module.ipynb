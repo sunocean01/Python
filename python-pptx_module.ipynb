{
 "cells": [
  {
   "cell_type": "code",
   "execution_count": 1,
   "id": "4d52c772",
   "metadata": {},
   "outputs": [],
   "source": [
    "from pptx import Presentation\n",
    "from pptx.util import Cm,Pt\n",
    "from pptx.util import Inches  #英尺单位\n",
    "\n",
    "from pptx.enum.shapes import MSO_SHAPE\n",
    "\n",
    "import pandas as pd\n",
    "import seaborn as sns\n",
    "import matplotlib.pyplot as plt\n",
    "from io import StringIO     #plt的图形出入IO，然后写入PPT\n",
    "from io import BytesIO"
   ]
  },
  {
   "cell_type": "code",
   "execution_count": 2,
   "id": "f4b17fcd",
   "metadata": {},
   "outputs": [],
   "source": [
    "pd.options.display.max_rows = None\n",
    "pd.options.display.max_columns = None"
   ]
  },
  {
   "cell_type": "raw",
   "id": "985bf735",
   "metadata": {},
   "source": [
    "slide: 幻灯片\n",
    "shape: 方框：可以是形状，也可以是文本框\n",
    "Run：文字块，一般为较少字符\n",
    "paragraph: 段落，通常有序号\n",
    "注：如果要创建新的页面时，只能使用模板\n",
    "https://blog.csdn.net/weixin_42750611/article/details/108029796?ops_request_misc=&request_id=&biz_id=102&utm_term=python-pptx&utm_medium=distribute.pc_search_result.none-task-blog-2~all~sobaiduweb~default-3-108029796.nonecase&spm=1018.2226.3001.4187\n",
    "\n",
    "https://blog.csdn.net/ityard/article/details/109685482?spm=1035.2023.3001.6557&utm_medium=distribute.pc_relevant_bbs_down.none-task-blog-2~default~OPENSEARCH~default-6.nonecase&depth_1-utm_source=distribute.pc_relevant_bbs_down.none-task-blog-2~default~OPENSEARCH~default-6.nonecase"
   ]
  },
  {
   "cell_type": "code",
   "execution_count": 3,
   "id": "17d24b91",
   "metadata": {},
   "outputs": [],
   "source": [
    "prs = Presentation(r\".\\testfile\\pptMother.pptx\")  #使用自定义模板\n",
    "# prs_t = Presentation()   #使用默认模板"
   ]
  },
  {
   "cell_type": "markdown",
   "id": "f06e97e6",
   "metadata": {},
   "source": [
    "# 输出shape中的文字\n",
    "    1. shape.has_text_frame: 判断是否有文字\n",
    "    2. 获取文本框内容：\n",
    "        方法1：\n",
    "            shape.text_frame: 获取文字框\n",
    "            text_frame.text: 获取文字框中的文字\n",
    "        方法2：\n",
    "            shape.text"
   ]
  },
  {
   "cell_type": "code",
   "execution_count": null,
   "id": "702930cd",
   "metadata": {},
   "outputs": [],
   "source": [
    "for slide in prs.slides:    #迭代ppt中所有的slide\n",
    "    print(\"page:\"+\"*\"*10)\n",
    "    print(slide)\n",
    "    for shape in slide.shapes:    #迭代slide中所有的shape\n",
    "        print(\"shape:\"+\"*\"*20+\":\")\n",
    "        print(shape)\n",
    "        if shape.has_text_frame:    #判断shape中是否有text_frame\n",
    "            text_frame = shape.text_frame\n",
    "            print(\"content:\"+\"-\"*40)\n",
    "            print(text_frame.text)\n",
    "            print(\"end:\"+\"-\"*60)\n"
   ]
  },
  {
   "cell_type": "code",
   "execution_count": null,
   "id": "c9ca3f3c",
   "metadata": {},
   "outputs": [],
   "source": [
    "for shape in prs.slides[1].shapes:\n",
    "    print(shape.text)"
   ]
  },
  {
   "cell_type": "markdown",
   "id": "32425f12",
   "metadata": {},
   "source": [
    "# paragraph：段落\n",
    "    从shape中找paragraphs:获取shape中的段落\n",
    "    for paragraph in text_frame.paragraphs:\n",
    "        print(paragraph)"
   ]
  },
  {
   "cell_type": "code",
   "execution_count": null,
   "id": "5d248621",
   "metadata": {
    "scrolled": true
   },
   "outputs": [],
   "source": [
    "for shape in prs.slides[1].shapes:\n",
    "    text_frame = shape.text_frame\n",
    "#     print(text_frame.text)\n",
    "    for paragraph in text_frame.paragraphs:   #text_frame下一级就是paragraph\n",
    "        print(paragraph.text)\n",
    "    print(\"*\"*20)\n",
    "    \n",
    "# 注意：\n",
    "# 该方法同样也直接获取Shpae中的文字内容；\n",
    "# 但是这个更灵活，先获取每个Shape，然后在获取每个Shape中的paragraph；\n",
    "# 我们可以针对paragraph，写一个判断条件，只获取第几个paragraph；"
   ]
  },
  {
   "cell_type": "markdown",
   "id": "4a176e00",
   "metadata": {},
   "source": [
    "# 向ppt中添加slide\n",
    "    prs.slides.add_slide(prs.slide.layout[index]): 添加第几个模板"
   ]
  },
  {
   "cell_type": "code",
   "execution_count": 4,
   "id": "b85c0ccc",
   "metadata": {},
   "outputs": [],
   "source": [
    "slide1 = prs.slides.add_slide(prs.slide_layouts[1])"
   ]
  },
  {
   "cell_type": "markdown",
   "id": "4ab1c35b",
   "metadata": {},
   "source": [
    "## 确认占位符id&向占位符内填写内容\n",
    "    shape.text = str"
   ]
  },
  {
   "cell_type": "code",
   "execution_count": 5,
   "id": "ea8d917d",
   "metadata": {},
   "outputs": [
    {
     "name": "stdout",
     "output_type": "stream",
     "text": [
      "0--Title 1--TITLE (1)\n",
      "\n",
      "1--Content Placeholder 2--OBJECT (7)\n",
      "\n"
     ]
    }
   ],
   "source": [
    "for shape in slide1.placeholders:\n",
    "    phf = shape.placeholder_format\n",
    "    print(f\"{phf.idx}--{shape.name}--{phf.type}\")   # id号--占位符形状名称-占位符的类型\n",
    "    print()\n",
    "# title 标题类型的占位符\n",
    "# subtitle 副标题类型的占位符\n",
    "# body 正文类型的占位符\n",
    "\n",
    "shapes = slide1.placeholders\n",
    "shapes[0].text = \"First slide: write text in shape\"\n",
    "shapes[1].text = \"This is first slide for practice\""
   ]
  },
  {
   "cell_type": "markdown",
   "id": "1224c2c6",
   "metadata": {},
   "source": [
    "## 添加段落"
   ]
  },
  {
   "cell_type": "code",
   "execution_count": 6,
   "id": "551f004c",
   "metadata": {},
   "outputs": [],
   "source": [
    "slide2 = prs.slides.add_slide(prs.slide_layouts[1])  #再添加一页PPT"
   ]
  },
  {
   "cell_type": "code",
   "execution_count": 7,
   "id": "77df2cb3",
   "metadata": {},
   "outputs": [],
   "source": [
    "shapes = slide2.shapes\n",
    "title_shape = shapes.title\n",
    "title_shape.text = \"Second Slide: write paragraph to body_shape\"\n",
    "\n",
    "body_shape = shapes.placeholders[1]\n",
    "tf = body_shape.text_frame\n",
    "tf.text = \"line1\"\n",
    "\n",
    "p = tf.add_paragraph()\n",
    "p.text=\"Line2\"\n",
    "\n",
    "p = tf.add_paragraph()\n",
    "p.text = \"Line3\""
   ]
  },
  {
   "cell_type": "markdown",
   "id": "348030e2",
   "metadata": {},
   "source": [
    "## 给段落添加层级\n",
    "    paragraph.level=int [0是最顶层]"
   ]
  },
  {
   "cell_type": "code",
   "execution_count": 8,
   "id": "7f783726",
   "metadata": {},
   "outputs": [],
   "source": [
    "slide3 = prs.slides.add_slide(prs.slide_layouts[1])  #再添加一页PPT"
   ]
  },
  {
   "cell_type": "code",
   "execution_count": 9,
   "id": "c90f4abe",
   "metadata": {},
   "outputs": [],
   "source": [
    "shapes = slide3.shapes\n",
    "title_shape = shapes.title\n",
    "title_shape.text = \"Third Slide: add the level for the paragraph\"\n",
    "\n",
    "body_shape = shapes.placeholders[1]\n",
    "tf = body_shape.text_frame\n",
    "\n",
    "p = tf.add_paragraph()\n",
    "p.text = \"Line1\"\n",
    "p.level = 0\n",
    "\n",
    "p = tf.add_paragraph()\n",
    "p.text = \"Line1_1\"\n",
    "p.level = 1\n",
    "\n",
    "p = tf.add_paragraph()\n",
    "p.text = \"Line1_2\"\n",
    "p.level = 1\n",
    "\n",
    "p = tf.add_paragraph()\n",
    "p.text = \"Line2\"\n",
    "p.level = 0\n",
    "\n",
    "p = tf.add_paragraph()\n",
    "p.text = \"Line2_1\"\n",
    "p.level = 1\n",
    "\n",
    "p = tf.add_paragraph()\n",
    "p.text = \"Line2_2\"\n",
    "p.level = 1\n"
   ]
  },
  {
   "cell_type": "markdown",
   "id": "6e5736ca",
   "metadata": {},
   "source": [
    "## 向slide中添加文本框"
   ]
  },
  {
   "cell_type": "code",
   "execution_count": 10,
   "id": "a8a38cd6",
   "metadata": {},
   "outputs": [],
   "source": [
    "slide4 = prs.slides.add_slide(prs.slide_layouts[4])  #再添加一页PPT"
   ]
  },
  {
   "cell_type": "code",
   "execution_count": 11,
   "id": "f57528bf",
   "metadata": {},
   "outputs": [],
   "source": [
    "shapes = slide4.placeholders\n",
    "shapes[0].text = \"Forth Slide: Add textbox\""
   ]
  },
  {
   "cell_type": "code",
   "execution_count": 12,
   "id": "617f71f7",
   "metadata": {},
   "outputs": [],
   "source": [
    "left = top = Cm(3)\n",
    "width = Cm(18)\n",
    "height = Cm(6)   ## left，top为相对位置，width，height为文本框大小。满足条件顺序是左>上>右>下\n",
    "\n",
    "\n",
    "text_box = slide4.shapes.add_textbox(left,top,width,height)\n",
    "tf = text_box.text_frame\n",
    "tf.text = \"This is Firt Line in First texbox\"\n",
    "\n",
    "p = tf.add_paragraph()\n",
    "p.text = \"Scond line text with bold and fontsize:40\"\n",
    "p.font.bold = True\n",
    "p.font.size = Pt(40)"
   ]
  },
  {
   "cell_type": "markdown",
   "id": "89a1d361",
   "metadata": {},
   "source": [
    "## 添加形状\n",
    "    slide_layout = prs.slide_layouts[SLD_LAYOUT_TITLE_AND_CONTENT]"
   ]
  },
  {
   "cell_type": "code",
   "execution_count": 13,
   "id": "ed78d34c",
   "metadata": {},
   "outputs": [],
   "source": [
    "slide5 = prs.slides.add_slide(prs.slide_layouts[4])"
   ]
  },
  {
   "cell_type": "code",
   "execution_count": 14,
   "id": "574de4de",
   "metadata": {},
   "outputs": [],
   "source": [
    "slide5.placeholders[0].text = \"Fifth Slide:Add the shape\"\n",
    "\n",
    "shapes = slide5.shapes\n",
    "left = top = width = height = Inches(1.0)\n",
    "shape = shapes.add_shape(MSO_SHAPE.ROUNDED_RECTANGLE,left,top,width,height)"
   ]
  },
  {
   "cell_type": "markdown",
   "id": "c5b212d7",
   "metadata": {},
   "source": [
    "## 添加图片"
   ]
  },
  {
   "cell_type": "code",
   "execution_count": 15,
   "id": "4f86276c",
   "metadata": {},
   "outputs": [],
   "source": [
    "f = r\".\\testfile\\testdata.csv\"\n",
    "dt = pd.read_csv(f,index_col=0,header=0)\n",
    "df = dt[dt[\"T031006_Value\"].notna()].query(\"T031006_Value<0.05\")"
   ]
  },
  {
   "cell_type": "code",
   "execution_count": 18,
   "id": "c5bbb136",
   "metadata": {},
   "outputs": [
    {
     "data": {
      "image/png": "[encoded data removed]",
      "text/plain": [
       "<Figure size 432x288 with 1 Axes>"
      ]
     },
     "metadata": {
      "needs_background": "light"
     },
     "output_type": "display_data"
    }
   ],
   "source": [
    "sns.boxplot(data=df,x=\"Day\",y=\"T031006_Value\",hue=\"T150001_Value\")\n",
    "plt.savefig(r\".\\testfile\\snspic.png\")"
   ]
  },
  {
   "cell_type": "code",
   "execution_count": 19,
   "id": "93f70520",
   "metadata": {},
   "outputs": [],
   "source": [
    "slide5 = prs.slides.add_slide(prs.slide_layouts[4])\n",
    "slide5.placeholders[0].text = \"Sixth Slide:Add pictures\""
   ]
  },
  {
   "cell_type": "code",
   "execution_count": 20,
   "id": "62e05fe9",
   "metadata": {},
   "outputs": [],
   "source": [
    "left = top = Cm(3)\n",
    "pic = slide5.shapes.add_picture(r\".\\testfile\\snspic.png\",left,top)\n",
    "\n",
    "top = Cm(13)\n",
    "height = Cm(5)\n",
    "pic = slide5.shapes.add_picture(r\".\\testfile\\yieldfrom.JPG\",left,top,height=height)"
   ]
  },
  {
   "cell_type": "code",
   "execution_count": null,
   "id": "33c0f4c3",
   "metadata": {},
   "outputs": [],
   "source": []
  },
  {
   "cell_type": "code",
   "execution_count": 21,
   "id": "70dea0e3",
   "metadata": {},
   "outputs": [],
   "source": [
    "prs.save(r\".\\testfile\\ppttest_out.pptx\")"
   ]
  },
  {
   "cell_type": "code",
   "execution_count": null,
   "id": "98c16958",
   "metadata": {},
   "outputs": [],
   "source": []
  },
  {
   "cell_type": "code",
   "execution_count": null,
   "id": "7271d8af",
   "metadata": {},
   "outputs": [],
   "source": []
  }
 ],
 "metadata": {
  "kernelspec": {
   "display_name": "Python3p9",
   "language": "python",
   "name": "python3"
  },
  "language_info": {
   "codemirror_mode": {
    "name": "ipython",
    "version": 3
   },
   "file_extension": ".py",
   "mimetype": "text/x-python",
   "name": "python",
   "nbconvert_exporter": "python",
   "pygments_lexer": "ipython3",
   "version": "3.9.5"
  },
  "toc": {
   "base_numbering": 1,
   "nav_menu": {},
   "number_sections": true,
   "sideBar": true,
   "skip_h1_title": false,
   "title_cell": "Table of Contents",
   "title_sidebar": "Contents",
   "toc_cell": false,
   "toc_position": {
    "height": "calc(100% - 180px)",
    "left": "10px",
    "top": "150px",
    "width": "191.5px"
   },
   "toc_section_display": true,
   "toc_window_display": true
  }
 },
 "nbformat": 4,
 "nbformat_minor": 5
}
