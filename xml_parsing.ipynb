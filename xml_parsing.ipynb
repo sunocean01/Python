{
 "cells": [
  {
   "cell_type": "code",
   "execution_count": 3,
   "id": "e3e7c9db",
   "metadata": {},
   "outputs": [],
   "source": [
    "import xml.etree.ElementTree as ET\n",
    "import xml.dom.minidom as dm\n",
    "from lxml import etree\n",
    "import lxml\n",
    "from bs4 import BeautifulSoup"
   ]
  },
  {
   "cell_type": "code",
   "execution_count": 10,
   "id": "7d0c61ed",
   "metadata": {},
   "outputs": [],
   "source": [
    "from IPython.core.interactiveshell import InteractiveShell\n",
    "InteractiveShell.ast_node_interactivity = 'all'"
   ]
  },
  {
   "cell_type": "markdown",
   "id": "2bebe66c",
   "metadata": {},
   "source": [
    "# xml文件读取"
   ]
  },
  {
   "cell_type": "code",
   "execution_count": 4,
   "id": "45a7512f",
   "metadata": {},
   "outputs": [],
   "source": [
    "xl_path = r\".\\testfile\\test.xml\""
   ]
  },
  {
   "cell_type": "code",
   "execution_count": 9,
   "id": "8ad9c54e",
   "metadata": {},
   "outputs": [],
   "source": [
    "ET_tree = ET.ElementTree(file=xl_path)  #方法一：无xpath功能\n",
    "Parse_tree = ET.parse(xl_path)          #方法二：同方法一\n",
    "EE_tree = etree.parse(xl_path)          #方法三：有xpath\n",
    "DM_tree = dm.parse(xl_path)             #方法四：简单的方法"
   ]
  },
  {
   "cell_type": "markdown",
   "id": "9cd6e066",
   "metadata": {},
   "source": [
    "# xml文件解析"
   ]
  },
  {
   "cell_type": "markdown",
   "id": "e5a097cd",
   "metadata": {},
   "source": [
    "## 方法一：ElementTree"
   ]
  },
  {
   "cell_type": "raw",
   "id": "0c43e216",
   "metadata": {},
   "source": [
    "查找：\n",
    "    find:找出第一个匹配的子元素；\n",
    "    findall:以列表形式返回所有匹配的子元素；\n",
    "    iterfind: 同findall,只是返回的是迭代器；\n",
    "    这三个函数支持部分xpath路径选择的方法\n",
    "元素的属性：\n",
    "    Elem.tag: 获取镖旗，str;\n",
    "    Elem.attrib: 获取属性，dict;\n",
    "    Elem.attrib['xxx']: 获取对应属性的值，value；\n",
    "    Elem.text: 获取文本内容,str"
   ]
  },
  {
   "cell_type": "code",
   "execution_count": 34,
   "id": "80eca472",
   "metadata": {},
   "outputs": [
    {
     "data": {
      "text/plain": [
       "'bookstore'"
      ]
     },
     "execution_count": 34,
     "metadata": {},
     "output_type": "execute_result"
    },
    {
     "data": {
      "text/plain": [
       "{'school': 'AutoAcademy'}"
      ]
     },
     "execution_count": 34,
     "metadata": {},
     "output_type": "execute_result"
    },
    {
     "data": {
      "text/plain": [
       "'AutoAcademy'"
      ]
     },
     "execution_count": 34,
     "metadata": {},
     "output_type": "execute_result"
    }
   ],
   "source": [
    "ET_root = ET_tree.getroot()  #获取树的根,根也是元素,元素就可以有属性\n",
    "ET_root.tag\n",
    "ET_root.attrib\n",
    "ET_root.attrib['school']"
   ]
  },
  {
   "cell_type": "markdown",
   "id": "46cb52fd",
   "metadata": {},
   "source": [
    "### 用遍历的方法一级一级进行查找目标内容"
   ]
  },
  {
   "cell_type": "markdown",
   "id": "c10b784b",
   "metadata": {},
   "source": [
    "#### 普通一级一级的遍历"
   ]
  },
  {
   "cell_type": "code",
   "execution_count": 16,
   "id": "904a806a",
   "metadata": {},
   "outputs": [
    {
     "name": "stdout",
     "output_type": "stream",
     "text": [
      "history\n",
      "shelf001\n",
      " \n",
      "        text,source \n",
      "        \n",
      "book {'name': 'xxxx10', 'country': 'Russia'}\n",
      "book {'name': 'xxxx20', 'country': 'China'}\n",
      "book {'region': 'China'}\n",
      "documentation {'country': 'China'}\n",
      "magzine {'date': '2020-12', 'country': 'China'}\n",
      "tag {'location': 'head'}\n",
      "tag {}\n",
      "tag {'location': 'tail'}\n",
      "political\n",
      "shelf002\n",
      " \n",
      "        \n",
      "book {'name': 'subrelease01', 'country': 'China'}\n",
      "book {'name': 'subrelease02', 'id': 'U', 'country': 'America'}\n",
      "book {'name': 'subrelease03', 'country': 'China'}\n",
      "book {'name': 'subrelease03', 'country': 'Japan'}\n",
      "magzine {'name': 'Global'}\n",
      "nature\n",
      "shelf002\n",
      "\n",
      "        \n",
      "book {'name': 'World', 'price': '50'}\n",
      "science\n",
      "Shelf003\n",
      "\n",
      "        \n",
      "book {'name': 'Global', 'price': '100'}\n",
      "history\n",
      "shelf005\n",
      "\n",
      "        Second history value\n",
      "        \n",
      "book {'name': 'NAN', 'country': 'America'}\n",
      "book {'name': 'South', 'country': 'Korea'}\n"
     ]
    }
   ],
   "source": [
    "for child in ET_root:\n",
    "    child_tag = child.tag\n",
    "    child_attrib = child.attrib['id']             #获取子元素中的属性或者属性的值(如果有该属性)\n",
    "    text = child.text                               #获取元素中的内容\n",
    "    print(child_tag,child_attrib,text,sep='\\n')\n",
    "    for sub_child in child:\n",
    "        print(sub_child.tag,sub_child.attrib)"
   ]
  },
  {
   "cell_type": "markdown",
   "id": "8acd015a",
   "metadata": {},
   "source": [
    "#### 还可以通过索引值来访问特定的元素"
   ]
  },
  {
   "cell_type": "code",
   "execution_count": 19,
   "id": "1692e858",
   "metadata": {},
   "outputs": [
    {
     "data": {
      "text/plain": [
       "'political'"
      ]
     },
     "execution_count": 19,
     "metadata": {},
     "output_type": "execute_result"
    },
    {
     "data": {
      "text/plain": [
       "{'id': 'shelf002', 'name': 'release01', 'hash': 'f200013e'}"
      ]
     },
     "execution_count": 19,
     "metadata": {},
     "output_type": "execute_result"
    }
   ],
   "source": [
    "ET_root[1].tag\n",
    "ET_root[1].attrib"
   ]
  },
  {
   "cell_type": "markdown",
   "id": "70131bb7",
   "metadata": {},
   "source": [
    "#### 对指定的条件进行遍历"
   ]
  },
  {
   "cell_type": "code",
   "execution_count": 37,
   "id": "9d9b6ade",
   "metadata": {},
   "outputs": [
    {
     "data": {
      "text/plain": [
       "'history'"
      ]
     },
     "execution_count": 37,
     "metadata": {},
     "output_type": "execute_result"
    },
    {
     "data": {
      "text/plain": [
       "{'id': 'shelf001', 'type': 'Recent', 'hash': '1cdf045c'}"
      ]
     },
     "execution_count": 37,
     "metadata": {},
     "output_type": "execute_result"
    },
    {
     "data": {
      "text/plain": [
       "' \\n        text,source \\n        '"
      ]
     },
     "execution_count": 37,
     "metadata": {},
     "output_type": "execute_result"
    },
    {
     "data": {
      "text/plain": [
       "'history'"
      ]
     },
     "execution_count": 37,
     "metadata": {},
     "output_type": "execute_result"
    },
    {
     "data": {
      "text/plain": [
       "{'id': 'shelf005', 'type': 'Antique'}"
      ]
     },
     "execution_count": 37,
     "metadata": {},
     "output_type": "execute_result"
    },
    {
     "data": {
      "text/plain": [
       "'\\n        Second history value\\n        '"
      ]
     },
     "execution_count": 37,
     "metadata": {},
     "output_type": "execute_result"
    }
   ],
   "source": [
    "for elem in ET_tree.iter(tag='history'):   #这里指的是根目录下所有级别里的标签，不仅仅只是下一级\n",
    "    elem.tag\n",
    "    elem.attrib\n",
    "    elem.text"
   ]
  },
  {
   "cell_type": "markdown",
   "id": "759f55ea",
   "metadata": {},
   "source": [
    "#### 也可以对指定位置的元素进行遍历"
   ]
  },
  {
   "cell_type": "code",
   "execution_count": 49,
   "id": "43e3d9ea",
   "metadata": {},
   "outputs": [
    {
     "name": "stdout",
     "output_type": "stream",
     "text": [
      "yunxiao {'local': 'XiangGang', 'price': '200'}\n",
      "yiyun {'local': 'America', 'price': '30'}\n",
      "shidai {'local': 'MainLand', 'price': '150'}\n",
      "price {}\n"
     ]
    }
   ],
   "source": [
    "for elem in ET_root[1][1]:\n",
    "    print(elem.tag,elem.attrib)"
   ]
  },
  {
   "cell_type": "markdown",
   "id": "00461f31",
   "metadata": {},
   "source": [
    "### findall:以列表形式返回所有匹配的子元素\n",
    "    其它：\n",
    "        find:\n",
    "        iterfind:"
   ]
  },
  {
   "cell_type": "markdown",
   "id": "c34120e5",
   "metadata": {},
   "source": [
    "#### '.':选取根节点"
   ]
  },
  {
   "cell_type": "code",
   "execution_count": 55,
   "id": "ab72ebcb",
   "metadata": {},
   "outputs": [
    {
     "data": {
      "text/plain": [
       "'bookstore'"
      ]
     },
     "execution_count": 55,
     "metadata": {},
     "output_type": "execute_result"
    }
   ],
   "source": [
    "ET_tree.findall(r'.')[0].tag   #注意它返回的是列表"
   ]
  },
  {
   "cell_type": "markdown",
   "id": "d053fa3c",
   "metadata": {},
   "source": [
    "#### ‘/’:选取子节点"
   ]
  },
  {
   "cell_type": "markdown",
   "id": "3f75a6f2",
   "metadata": {},
   "source": [
    "#### '//'选取当前节点下所有元素，部分级别"
   ]
  },
  {
   "cell_type": "code",
   "execution_count": null,
   "id": "65d1d7e8",
   "metadata": {},
   "outputs": [],
   "source": [
    "ET_tree.findall(r'./history//')      #查找所有\n",
    "ET_tree.findall(r'./history//book')  #查找所有book"
   ]
  },
  {
   "cell_type": "markdown",
   "id": "20811643",
   "metadata": {},
   "source": [
    "#### '[]':指定位置，和列表不同的是，它只能是：1,2,3...或last(),last()-1"
   ]
  },
  {
   "cell_type": "code",
   "execution_count": 60,
   "id": "f22ac71a",
   "metadata": {},
   "outputs": [
    {
     "data": {
      "text/plain": [
       "'book'"
      ]
     },
     "execution_count": 60,
     "metadata": {},
     "output_type": "execute_result"
    },
    {
     "data": {
      "text/plain": [
       "'book'"
      ]
     },
     "execution_count": 60,
     "metadata": {},
     "output_type": "execute_result"
    },
    {
     "data": {
      "text/plain": [
       "'book'"
      ]
     },
     "execution_count": 60,
     "metadata": {},
     "output_type": "execute_result"
    }
   ],
   "source": [
    "for elem in ET_tree.findall(r'./history[1]//book'):  #查找第一个history下面的所有book\n",
    "    elem.tag"
   ]
  },
  {
   "cell_type": "code",
   "execution_count": 68,
   "id": "08a6907a",
   "metadata": {},
   "outputs": [
    {
     "data": {
      "text/plain": [
       "'book'"
      ]
     },
     "execution_count": 68,
     "metadata": {},
     "output_type": "execute_result"
    },
    {
     "data": {
      "text/plain": [
       "'book'"
      ]
     },
     "execution_count": 68,
     "metadata": {},
     "output_type": "execute_result"
    }
   ],
   "source": [
    "for elem in ET_tree.findall(r'./history[last()]//book'):\n",
    "    elem.tag"
   ]
  },
  {
   "cell_type": "markdown",
   "id": "07d50c34",
   "metadata": {},
   "source": [
    "#### ‘@’：选取属性"
   ]
  },
  {
   "cell_type": "code",
   "execution_count": 57,
   "id": "44a57d30",
   "metadata": {},
   "outputs": [
    {
     "data": {
      "text/plain": [
       "{'name': 'subrelease01', 'country': 'China'}"
      ]
     },
     "execution_count": 57,
     "metadata": {},
     "output_type": "execute_result"
    },
    {
     "data": {
      "text/plain": [
       "{'name': 'subrelease02', 'id': 'U', 'country': 'America'}"
      ]
     },
     "execution_count": 57,
     "metadata": {},
     "output_type": "execute_result"
    },
    {
     "data": {
      "text/plain": [
       "{'name': 'subrelease03', 'country': 'China'}"
      ]
     },
     "execution_count": 57,
     "metadata": {},
     "output_type": "execute_result"
    },
    {
     "data": {
      "text/plain": [
       "{'name': 'subrelease03', 'country': 'Japan'}"
      ]
     },
     "execution_count": 57,
     "metadata": {},
     "output_type": "execute_result"
    }
   ],
   "source": [
    "for elem in ET_tree.findall(r'./political/book[@country]'):   #所有带有contry属性的元素\n",
    "    elem.attrib"
   ]
  },
  {
   "cell_type": "code",
   "execution_count": 58,
   "id": "a50d5a79",
   "metadata": {},
   "outputs": [
    {
     "data": {
      "text/plain": [
       "{'name': 'subrelease01', 'country': 'China'}"
      ]
     },
     "execution_count": 58,
     "metadata": {},
     "output_type": "execute_result"
    },
    {
     "data": {
      "text/plain": [
       "{'name': 'subrelease03', 'country': 'China'}"
      ]
     },
     "execution_count": 58,
     "metadata": {},
     "output_type": "execute_result"
    }
   ],
   "source": [
    "for elem in ET_tree.findall(r'./political/book[@country=\"China\"]'):   #所有带有contry属性的元素,且值为‘China’\n",
    "    elem.attrib"
   ]
  },
  {
   "cell_type": "markdown",
   "id": "d6807fb3",
   "metadata": {},
   "source": [
    "## xpath:方法查找"
   ]
  },
  {
   "cell_type": "markdown",
   "id": "862ab41f",
   "metadata": {},
   "source": [
    "### '.':选取当前节点"
   ]
  },
  {
   "cell_type": "code",
   "execution_count": 70,
   "id": "0611928f",
   "metadata": {},
   "outputs": [
    {
     "data": {
      "text/plain": [
       "'bookstore'"
      ]
     },
     "execution_count": 70,
     "metadata": {},
     "output_type": "execute_result"
    }
   ],
   "source": [
    "EE_tree.xpath(r'.')[0].tag"
   ]
  },
  {
   "cell_type": "markdown",
   "id": "1ccba973",
   "metadata": {},
   "source": [
    "### './':从根节点选取"
   ]
  },
  {
   "cell_type": "code",
   "execution_count": 71,
   "id": "dac447c6",
   "metadata": {},
   "outputs": [
    {
     "data": {
      "text/plain": [
       "[<Element history at 0x1035cd388c0>,\n",
       " <Element political at 0x1035ce28b80>,\n",
       " <Element nature at 0x1035ce28880>,\n",
       " <Element science at 0x1035d09ec40>,\n",
       " <Element history at 0x1035d09e300>]"
      ]
     },
     "execution_count": 71,
     "metadata": {},
     "output_type": "execute_result"
    },
    {
     "data": {
      "text/plain": [
       "[<Element history at 0x1035cd388c0>,\n",
       " <Element political at 0x1035ce28b80>,\n",
       " <Element nature at 0x1035ce28880>,\n",
       " <Element science at 0x1035d09ec40>,\n",
       " <Element history at 0x1035d09e300>]"
      ]
     },
     "execution_count": 71,
     "metadata": {},
     "output_type": "execute_result"
    },
    {
     "data": {
      "text/plain": [
       "[<Element history at 0x1035cd388c0>, <Element history at 0x1035d09e300>]"
      ]
     },
     "execution_count": 71,
     "metadata": {},
     "output_type": "execute_result"
    }
   ],
   "source": [
    "EE_tree.xpath(r'/bookstore/*')        #选取根节点(bookstore)下面所有的子节点\n",
    "EE_tree.xpath(r'./*')                 #同上一条\n",
    "EE_tree.xpath(r'/bookstore/history')    #选取bookstore下面的所有的history节点"
   ]
  },
  {
   "cell_type": "markdown",
   "id": "c4f93754",
   "metadata": {},
   "source": [
    "### '//':在所有层级里查找"
   ]
  },
  {
   "cell_type": "markdown",
   "id": "3042cb8d",
   "metadata": {},
   "source": [
    "### '..':选取当前节点的父节点"
   ]
  },
  {
   "cell_type": "markdown",
   "id": "f590ac53",
   "metadata": {},
   "source": [
    "### '[]':指定条件查找"
   ]
  },
  {
   "cell_type": "raw",
   "id": "43e69e1e",
   "metadata": {},
   "source": [
    "r'.\\history[1]'\n",
    "r'.\\history[last()]'\n",
    "r'.\\history[last()-1]'\n",
    "r'.\\history[1<position<4]'\n",
    "r'.\\history[@country]'\n",
    "r'.\\history[@country=\"China\"]'"
   ]
  },
  {
   "cell_type": "markdown",
   "id": "6734d1ba",
   "metadata": {},
   "source": [
    "### \"contains\":包含'xxx'"
   ]
  },
  {
   "cell_type": "code",
   "execution_count": 73,
   "id": "82c37c45",
   "metadata": {},
   "outputs": [
    {
     "data": {
      "text/plain": [
       "{'name': 'xxxx10', 'country': 'Russia'}"
      ]
     },
     "execution_count": 73,
     "metadata": {},
     "output_type": "execute_result"
    },
    {
     "data": {
      "text/plain": [
       "{'name': 'xxxx20', 'country': 'China'}"
      ]
     },
     "execution_count": 73,
     "metadata": {},
     "output_type": "execute_result"
    },
    {
     "data": {
      "text/plain": [
       "{'name': 'subrelease01', 'country': 'China'}"
      ]
     },
     "execution_count": 73,
     "metadata": {},
     "output_type": "execute_result"
    },
    {
     "data": {
      "text/plain": [
       "{'name': 'subrelease02', 'id': 'U', 'country': 'America'}"
      ]
     },
     "execution_count": 73,
     "metadata": {},
     "output_type": "execute_result"
    },
    {
     "data": {
      "text/plain": [
       "{'name': 'subrelease03', 'country': 'China'}"
      ]
     },
     "execution_count": 73,
     "metadata": {},
     "output_type": "execute_result"
    },
    {
     "data": {
      "text/plain": [
       "{'name': 'NAN', 'country': 'America'}"
      ]
     },
     "execution_count": 73,
     "metadata": {},
     "output_type": "execute_result"
    }
   ],
   "source": [
    "for elem in EE_tree.xpath(r'.//book[contains(@country,\"i\")]'):\n",
    "    elem.attrib"
   ]
  },
  {
   "cell_type": "markdown",
   "id": "5a20f6d0",
   "metadata": {},
   "source": [
    "### 'starts-with':开头是‘xxx’"
   ]
  },
  {
   "cell_type": "code",
   "execution_count": 77,
   "id": "48146347",
   "metadata": {},
   "outputs": [
    {
     "data": {
      "text/plain": [
       "{'name': 'xxxx10', 'country': 'Russia'}"
      ]
     },
     "execution_count": 77,
     "metadata": {},
     "output_type": "execute_result"
    }
   ],
   "source": [
    "for elem in EE_tree.xpath(r'.//book[starts-with(@country,\"R\")]'):\n",
    "    elem.attrib"
   ]
  },
  {
   "cell_type": "markdown",
   "id": "aa81d5ad",
   "metadata": {},
   "source": [
    "### 运算符定位：\n",
    "    +,-,*,div,=(等于),!=,<,>,<=,>=,or,and,mod(计算除法余数)"
   ]
  },
  {
   "cell_type": "raw",
   "id": "46c83569",
   "metadata": {},
   "source": [
    "r'./history/book[price>29]'          #按照子元素的条件查找\n",
    "r'./history/book[price<10 or price>30]'          #按照子元素的条件查找\n",
    "r'./history/book[price>29]//price'          #接着上面的条件继续往下查所有price子元素"
   ]
  },
  {
   "cell_type": "markdown",
   "id": "7607480d",
   "metadata": {},
   "source": [
    "### '*':匹配所有"
   ]
  },
  {
   "cell_type": "raw",
   "id": "2ddfac6a",
   "metadata": {},
   "source": [
    "r'./history/*\n",
    "r'./history//*\n",
    "r'./history/tag[@*]  #匹配所有带有属性的"
   ]
  },
  {
   "cell_type": "markdown",
   "id": "07f34c95",
   "metadata": {},
   "source": [
    "### '|':选取若干路径"
   ]
  },
  {
   "cell_type": "raw",
   "id": "766b2ae3",
   "metadata": {},
   "source": [
    "r'./history/magzine | ./nature'"
   ]
  },
  {
   "cell_type": "markdown",
   "id": "a48c3f6c",
   "metadata": {},
   "source": [
    "### '@':选取属性"
   ]
  },
  {
   "cell_type": "code",
   "execution_count": 83,
   "id": "9b4a0083",
   "metadata": {},
   "outputs": [
    {
     "data": {
      "text/plain": [
       "['shelf001', 'Recent', '1cdf045c', 'shelf005', 'Antique']"
      ]
     },
     "execution_count": 83,
     "metadata": {},
     "output_type": "execute_result"
    }
   ],
   "source": [
    "EE_tree.xpath(r'./history/@*')"
   ]
  },
  {
   "cell_type": "code",
   "execution_count": 84,
   "id": "fa25279a",
   "metadata": {},
   "outputs": [
    {
     "data": {
      "text/plain": [
       "['Russia', 'China', 'America']"
      ]
     },
     "execution_count": 84,
     "metadata": {},
     "output_type": "execute_result"
    }
   ],
   "source": [
    "EE_tree.xpath(r'.//book[1]/@country')"
   ]
  },
  {
   "cell_type": "markdown",
   "id": "e5cf865a",
   "metadata": {},
   "source": [
    "### text():取文本"
   ]
  },
  {
   "cell_type": "code",
   "execution_count": 87,
   "id": "c06fff84",
   "metadata": {},
   "outputs": [
    {
     "data": {
      "text/plain": [
       "['\\n            this is first history 1-1....price:40RMB\\n            ',\n",
       " '\\n        ',\n",
       " ' \\n            ',\n",
       " '\\n            ',\n",
       " '\\n            ',\n",
       " '\\n            ',\n",
       " '\\n            xml,sgml\\n            \\n        ',\n",
       " '\\n            test warning\\n        ',\n",
       " '\\n            This is second history 2-1,price:15RMB\\n            ',\n",
       " '\\n        ']"
      ]
     },
     "execution_count": 87,
     "metadata": {},
     "output_type": "execute_result"
    }
   ],
   "source": [
    "EE_tree.xpath(r'.//book[1]/text()')"
   ]
  },
  {
   "cell_type": "markdown",
   "id": "2d967587",
   "metadata": {},
   "source": [
    "## bs4:解析xml"
   ]
  },
  {
   "cell_type": "code",
   "execution_count": 88,
   "id": "ca464240",
   "metadata": {},
   "outputs": [],
   "source": [
    "soup = BeautifulSoup(open(xl_path),'lxml')         #注意:要先打开xml文件"
   ]
  },
  {
   "cell_type": "markdown",
   "id": "c403f4ef",
   "metadata": {},
   "source": [
    "### 基本方法："
   ]
  },
  {
   "cell_type": "code",
   "execution_count": 90,
   "id": "892bcd45",
   "metadata": {},
   "outputs": [
    {
     "data": {
      "text/plain": [
       "<book country=\"Russia\" name=\"xxxx10\">\n",
       "            this is first history 1-1....price:40RMB\n",
       "            <price>40</price>\n",
       "</book>"
      ]
     },
     "execution_count": 90,
     "metadata": {},
     "output_type": "execute_result"
    }
   ],
   "source": [
    "soup.book   #按标签名查找，返回第一个"
   ]
  },
  {
   "cell_type": "code",
   "execution_count": 91,
   "id": "dd0c1665",
   "metadata": {},
   "outputs": [
    {
     "data": {
      "text/plain": [
       "{'name': 'xxxx10', 'country': 'Russia'}"
      ]
     },
     "execution_count": 91,
     "metadata": {},
     "output_type": "execute_result"
    }
   ],
   "source": [
    "soup.book.attrs   #返回找到的元素的属性"
   ]
  },
  {
   "cell_type": "code",
   "execution_count": 93,
   "id": "c7b06d28",
   "metadata": {},
   "outputs": [
    {
     "data": {
      "text/plain": [
       "'Russia'"
      ]
     },
     "execution_count": 93,
     "metadata": {},
     "output_type": "execute_result"
    }
   ],
   "source": [
    "soup.book['country']   #直接返回属性的值"
   ]
  },
  {
   "cell_type": "markdown",
   "id": "d03680a8",
   "metadata": {},
   "source": [
    "### find_all:"
   ]
  },
  {
   "cell_type": "code",
   "execution_count": 95,
   "id": "475d49bf",
   "metadata": {
    "collapsed": true
   },
   "outputs": [
    {
     "data": {
      "text/plain": [
       "[<html><body><bookstore school=\"AutoAcademy\"> \n",
       "     This is the bookstore value...\n",
       "     <history hash=\"1cdf045c\" id=\"shelf001\" type=\"Recent\"> \n",
       "         text,source \n",
       "         <book country=\"Russia\" name=\"xxxx10\">\n",
       "             this is first history 1-1....price:40RMB\n",
       "             <price>40</price>\n",
       " </book>\n",
       " <book country=\"China\" name=\"xxxx20\">\n",
       "             this is first history 1-2...price:30RMB\n",
       "             <illustration author=\"Mr Dao\"></illustration>\n",
       " <price>30</price>\n",
       " </book>\n",
       " <book region=\"China\">\n",
       "             this is first history 1-3,price:9.8RMB\n",
       "             <price>9.8</price>\n",
       " </book>\n",
       " <documentation country=\"China\"></documentation>\n",
       " <magzine country=\"China\" date=\"2020-12\">\n",
       "             Brief description:......xxxx10\n",
       "             <price>12</price>\n",
       " </magzine>\n",
       " <tag location=\"head\">cue word head</tag>\n",
       " <tag>cue word middle</tag>\n",
       " <tag location=\"tail\">cue word tail</tag>\n",
       " </history>\n",
       " <political hash=\"f200013e\" id=\"shelf002\" name=\"release01\">\n",
       " <book country=\"China\" name=\"subrelease01\">\n",
       " <aiqing local=\"XiangGang\"></aiqing>\n",
       " <kongbu local=\"America\"></kongbu>\n",
       " <zhanzheng local=\"MainLand\"></zhanzheng>\n",
       " <price>100</price>\n",
       "             xml,sgml\n",
       "             \n",
       "         </book>\n",
       " <book country=\"America\" id=\"U\" name=\"subrelease02\">\n",
       " <yunxiao local=\"XiangGang\" price=\"200\">\n",
       " </yunxiao>\n",
       " <yiyun local=\"America\" price=\"30\">\n",
       " </yiyun>\n",
       " <shidai local=\"MainLand\" price=\"150\">\n",
       " </shidai>\n",
       "             xml2,sgml2 \n",
       "             <price>10</price>\n",
       " </book>\n",
       " <book country=\"China\" name=\"subrelease03\">\n",
       " <price>5</price>\n",
       " </book>\n",
       " <book country=\"Japan\" name=\"subrelease03\">\n",
       " <price>200</price>\n",
       " </book>\n",
       " <magzine name=\"Global\">\n",
       " <price>78</price>\n",
       " </magzine>\n",
       " </political>\n",
       " <nature hash=\"f200013f\" id=\"shelf002\" name=\"invalid\">\n",
       " <book name=\"World\" price=\"50\">\n",
       "             test warning\n",
       "         </book>\n",
       " </nature>\n",
       " <science id=\"Shelf003\" name=\"Bug\">\n",
       " <book name=\"Global\" price=\"100\"></book>\n",
       " </science>\n",
       " <history id=\"shelf005\" type=\"Antique\">\n",
       "         Second history value\n",
       "         <book country=\"America\" name=\"NAN\">\n",
       "             This is second history 2-1,price:15RMB\n",
       "             <price>15</price>\n",
       " </book>\n",
       " <book country=\"Korea\" name=\"South\">\n",
       "             This is second history 2-2,price:60RMB\n",
       "             <price>60</price>\n",
       " </book>\n",
       " </history>\n",
       " </bookstore>\n",
       " </body></html>,\n",
       " <body><bookstore school=\"AutoAcademy\"> \n",
       "     This is the bookstore value...\n",
       "     <history hash=\"1cdf045c\" id=\"shelf001\" type=\"Recent\"> \n",
       "         text,source \n",
       "         <book country=\"Russia\" name=\"xxxx10\">\n",
       "             this is first history 1-1....price:40RMB\n",
       "             <price>40</price>\n",
       " </book>\n",
       " <book country=\"China\" name=\"xxxx20\">\n",
       "             this is first history 1-2...price:30RMB\n",
       "             <illustration author=\"Mr Dao\"></illustration>\n",
       " <price>30</price>\n",
       " </book>\n",
       " <book region=\"China\">\n",
       "             this is first history 1-3,price:9.8RMB\n",
       "             <price>9.8</price>\n",
       " </book>\n",
       " <documentation country=\"China\"></documentation>\n",
       " <magzine country=\"China\" date=\"2020-12\">\n",
       "             Brief description:......xxxx10\n",
       "             <price>12</price>\n",
       " </magzine>\n",
       " <tag location=\"head\">cue word head</tag>\n",
       " <tag>cue word middle</tag>\n",
       " <tag location=\"tail\">cue word tail</tag>\n",
       " </history>\n",
       " <political hash=\"f200013e\" id=\"shelf002\" name=\"release01\">\n",
       " <book country=\"China\" name=\"subrelease01\">\n",
       " <aiqing local=\"XiangGang\"></aiqing>\n",
       " <kongbu local=\"America\"></kongbu>\n",
       " <zhanzheng local=\"MainLand\"></zhanzheng>\n",
       " <price>100</price>\n",
       "             xml,sgml\n",
       "             \n",
       "         </book>\n",
       " <book country=\"America\" id=\"U\" name=\"subrelease02\">\n",
       " <yunxiao local=\"XiangGang\" price=\"200\">\n",
       " </yunxiao>\n",
       " <yiyun local=\"America\" price=\"30\">\n",
       " </yiyun>\n",
       " <shidai local=\"MainLand\" price=\"150\">\n",
       " </shidai>\n",
       "             xml2,sgml2 \n",
       "             <price>10</price>\n",
       " </book>\n",
       " <book country=\"China\" name=\"subrelease03\">\n",
       " <price>5</price>\n",
       " </book>\n",
       " <book country=\"Japan\" name=\"subrelease03\">\n",
       " <price>200</price>\n",
       " </book>\n",
       " <magzine name=\"Global\">\n",
       " <price>78</price>\n",
       " </magzine>\n",
       " </political>\n",
       " <nature hash=\"f200013f\" id=\"shelf002\" name=\"invalid\">\n",
       " <book name=\"World\" price=\"50\">\n",
       "             test warning\n",
       "         </book>\n",
       " </nature>\n",
       " <science id=\"Shelf003\" name=\"Bug\">\n",
       " <book name=\"Global\" price=\"100\"></book>\n",
       " </science>\n",
       " <history id=\"shelf005\" type=\"Antique\">\n",
       "         Second history value\n",
       "         <book country=\"America\" name=\"NAN\">\n",
       "             This is second history 2-1,price:15RMB\n",
       "             <price>15</price>\n",
       " </book>\n",
       " <book country=\"Korea\" name=\"South\">\n",
       "             This is second history 2-2,price:60RMB\n",
       "             <price>60</price>\n",
       " </book>\n",
       " </history>\n",
       " </bookstore>\n",
       " </body>,\n",
       " <bookstore school=\"AutoAcademy\"> \n",
       "     This is the bookstore value...\n",
       "     <history hash=\"1cdf045c\" id=\"shelf001\" type=\"Recent\"> \n",
       "         text,source \n",
       "         <book country=\"Russia\" name=\"xxxx10\">\n",
       "             this is first history 1-1....price:40RMB\n",
       "             <price>40</price>\n",
       " </book>\n",
       " <book country=\"China\" name=\"xxxx20\">\n",
       "             this is first history 1-2...price:30RMB\n",
       "             <illustration author=\"Mr Dao\"></illustration>\n",
       " <price>30</price>\n",
       " </book>\n",
       " <book region=\"China\">\n",
       "             this is first history 1-3,price:9.8RMB\n",
       "             <price>9.8</price>\n",
       " </book>\n",
       " <documentation country=\"China\"></documentation>\n",
       " <magzine country=\"China\" date=\"2020-12\">\n",
       "             Brief description:......xxxx10\n",
       "             <price>12</price>\n",
       " </magzine>\n",
       " <tag location=\"head\">cue word head</tag>\n",
       " <tag>cue word middle</tag>\n",
       " <tag location=\"tail\">cue word tail</tag>\n",
       " </history>\n",
       " <political hash=\"f200013e\" id=\"shelf002\" name=\"release01\">\n",
       " <book country=\"China\" name=\"subrelease01\">\n",
       " <aiqing local=\"XiangGang\"></aiqing>\n",
       " <kongbu local=\"America\"></kongbu>\n",
       " <zhanzheng local=\"MainLand\"></zhanzheng>\n",
       " <price>100</price>\n",
       "             xml,sgml\n",
       "             \n",
       "         </book>\n",
       " <book country=\"America\" id=\"U\" name=\"subrelease02\">\n",
       " <yunxiao local=\"XiangGang\" price=\"200\">\n",
       " </yunxiao>\n",
       " <yiyun local=\"America\" price=\"30\">\n",
       " </yiyun>\n",
       " <shidai local=\"MainLand\" price=\"150\">\n",
       " </shidai>\n",
       "             xml2,sgml2 \n",
       "             <price>10</price>\n",
       " </book>\n",
       " <book country=\"China\" name=\"subrelease03\">\n",
       " <price>5</price>\n",
       " </book>\n",
       " <book country=\"Japan\" name=\"subrelease03\">\n",
       " <price>200</price>\n",
       " </book>\n",
       " <magzine name=\"Global\">\n",
       " <price>78</price>\n",
       " </magzine>\n",
       " </political>\n",
       " <nature hash=\"f200013f\" id=\"shelf002\" name=\"invalid\">\n",
       " <book name=\"World\" price=\"50\">\n",
       "             test warning\n",
       "         </book>\n",
       " </nature>\n",
       " <science id=\"Shelf003\" name=\"Bug\">\n",
       " <book name=\"Global\" price=\"100\"></book>\n",
       " </science>\n",
       " <history id=\"shelf005\" type=\"Antique\">\n",
       "         Second history value\n",
       "         <book country=\"America\" name=\"NAN\">\n",
       "             This is second history 2-1,price:15RMB\n",
       "             <price>15</price>\n",
       " </book>\n",
       " <book country=\"Korea\" name=\"South\">\n",
       "             This is second history 2-2,price:60RMB\n",
       "             <price>60</price>\n",
       " </book>\n",
       " </history>\n",
       " </bookstore>,\n",
       " <history hash=\"1cdf045c\" id=\"shelf001\" type=\"Recent\"> \n",
       "         text,source \n",
       "         <book country=\"Russia\" name=\"xxxx10\">\n",
       "             this is first history 1-1....price:40RMB\n",
       "             <price>40</price>\n",
       " </book>\n",
       " <book country=\"China\" name=\"xxxx20\">\n",
       "             this is first history 1-2...price:30RMB\n",
       "             <illustration author=\"Mr Dao\"></illustration>\n",
       " <price>30</price>\n",
       " </book>\n",
       " <book region=\"China\">\n",
       "             this is first history 1-3,price:9.8RMB\n",
       "             <price>9.8</price>\n",
       " </book>\n",
       " <documentation country=\"China\"></documentation>\n",
       " <magzine country=\"China\" date=\"2020-12\">\n",
       "             Brief description:......xxxx10\n",
       "             <price>12</price>\n",
       " </magzine>\n",
       " <tag location=\"head\">cue word head</tag>\n",
       " <tag>cue word middle</tag>\n",
       " <tag location=\"tail\">cue word tail</tag>\n",
       " </history>,\n",
       " <book country=\"Russia\" name=\"xxxx10\">\n",
       "             this is first history 1-1....price:40RMB\n",
       "             <price>40</price>\n",
       " </book>,\n",
       " <price>40</price>,\n",
       " <book country=\"China\" name=\"xxxx20\">\n",
       "             this is first history 1-2...price:30RMB\n",
       "             <illustration author=\"Mr Dao\"></illustration>\n",
       " <price>30</price>\n",
       " </book>,\n",
       " <illustration author=\"Mr Dao\"></illustration>,\n",
       " <price>30</price>,\n",
       " <book region=\"China\">\n",
       "             this is first history 1-3,price:9.8RMB\n",
       "             <price>9.8</price>\n",
       " </book>,\n",
       " <price>9.8</price>,\n",
       " <documentation country=\"China\"></documentation>,\n",
       " <magzine country=\"China\" date=\"2020-12\">\n",
       "             Brief description:......xxxx10\n",
       "             <price>12</price>\n",
       " </magzine>,\n",
       " <price>12</price>,\n",
       " <tag location=\"head\">cue word head</tag>,\n",
       " <tag>cue word middle</tag>,\n",
       " <tag location=\"tail\">cue word tail</tag>,\n",
       " <political hash=\"f200013e\" id=\"shelf002\" name=\"release01\">\n",
       " <book country=\"China\" name=\"subrelease01\">\n",
       " <aiqing local=\"XiangGang\"></aiqing>\n",
       " <kongbu local=\"America\"></kongbu>\n",
       " <zhanzheng local=\"MainLand\"></zhanzheng>\n",
       " <price>100</price>\n",
       "             xml,sgml\n",
       "             \n",
       "         </book>\n",
       " <book country=\"America\" id=\"U\" name=\"subrelease02\">\n",
       " <yunxiao local=\"XiangGang\" price=\"200\">\n",
       " </yunxiao>\n",
       " <yiyun local=\"America\" price=\"30\">\n",
       " </yiyun>\n",
       " <shidai local=\"MainLand\" price=\"150\">\n",
       " </shidai>\n",
       "             xml2,sgml2 \n",
       "             <price>10</price>\n",
       " </book>\n",
       " <book country=\"China\" name=\"subrelease03\">\n",
       " <price>5</price>\n",
       " </book>\n",
       " <book country=\"Japan\" name=\"subrelease03\">\n",
       " <price>200</price>\n",
       " </book>\n",
       " <magzine name=\"Global\">\n",
       " <price>78</price>\n",
       " </magzine>\n",
       " </political>,\n",
       " <book country=\"China\" name=\"subrelease01\">\n",
       " <aiqing local=\"XiangGang\"></aiqing>\n",
       " <kongbu local=\"America\"></kongbu>\n",
       " <zhanzheng local=\"MainLand\"></zhanzheng>\n",
       " <price>100</price>\n",
       "             xml,sgml\n",
       "             \n",
       "         </book>,\n",
       " <aiqing local=\"XiangGang\"></aiqing>,\n",
       " <kongbu local=\"America\"></kongbu>,\n",
       " <zhanzheng local=\"MainLand\"></zhanzheng>,\n",
       " <price>100</price>,\n",
       " <book country=\"America\" id=\"U\" name=\"subrelease02\">\n",
       " <yunxiao local=\"XiangGang\" price=\"200\">\n",
       " </yunxiao>\n",
       " <yiyun local=\"America\" price=\"30\">\n",
       " </yiyun>\n",
       " <shidai local=\"MainLand\" price=\"150\">\n",
       " </shidai>\n",
       "             xml2,sgml2 \n",
       "             <price>10</price>\n",
       " </book>,\n",
       " <yunxiao local=\"XiangGang\" price=\"200\">\n",
       " </yunxiao>,\n",
       " <yiyun local=\"America\" price=\"30\">\n",
       " </yiyun>,\n",
       " <shidai local=\"MainLand\" price=\"150\">\n",
       " </shidai>,\n",
       " <price>10</price>,\n",
       " <book country=\"China\" name=\"subrelease03\">\n",
       " <price>5</price>\n",
       " </book>,\n",
       " <price>5</price>,\n",
       " <book country=\"Japan\" name=\"subrelease03\">\n",
       " <price>200</price>\n",
       " </book>,\n",
       " <price>200</price>,\n",
       " <magzine name=\"Global\">\n",
       " <price>78</price>\n",
       " </magzine>,\n",
       " <price>78</price>,\n",
       " <nature hash=\"f200013f\" id=\"shelf002\" name=\"invalid\">\n",
       " <book name=\"World\" price=\"50\">\n",
       "             test warning\n",
       "         </book>\n",
       " </nature>,\n",
       " <book name=\"World\" price=\"50\">\n",
       "             test warning\n",
       "         </book>,\n",
       " <science id=\"Shelf003\" name=\"Bug\">\n",
       " <book name=\"Global\" price=\"100\"></book>\n",
       " </science>,\n",
       " <book name=\"Global\" price=\"100\"></book>,\n",
       " <history id=\"shelf005\" type=\"Antique\">\n",
       "         Second history value\n",
       "         <book country=\"America\" name=\"NAN\">\n",
       "             This is second history 2-1,price:15RMB\n",
       "             <price>15</price>\n",
       " </book>\n",
       " <book country=\"Korea\" name=\"South\">\n",
       "             This is second history 2-2,price:60RMB\n",
       "             <price>60</price>\n",
       " </book>\n",
       " </history>,\n",
       " <book country=\"America\" name=\"NAN\">\n",
       "             This is second history 2-1,price:15RMB\n",
       "             <price>15</price>\n",
       " </book>,\n",
       " <price>15</price>,\n",
       " <book country=\"Korea\" name=\"South\">\n",
       "             This is second history 2-2,price:60RMB\n",
       "             <price>60</price>\n",
       " </book>,\n",
       " <price>60</price>]"
      ]
     },
     "execution_count": 95,
     "metadata": {},
     "output_type": "execute_result"
    }
   ],
   "source": [
    "soup.find_all()"
   ]
  },
  {
   "cell_type": "code",
   "execution_count": 96,
   "id": "128d41e0",
   "metadata": {
    "collapsed": true
   },
   "outputs": [
    {
     "data": {
      "text/plain": [
       "[<book country=\"Russia\" name=\"xxxx10\">\n",
       "             this is first history 1-1....price:40RMB\n",
       "             <price>40</price>\n",
       " </book>,\n",
       " <book country=\"China\" name=\"xxxx20\">\n",
       "             this is first history 1-2...price:30RMB\n",
       "             <illustration author=\"Mr Dao\"></illustration>\n",
       " <price>30</price>\n",
       " </book>,\n",
       " <book region=\"China\">\n",
       "             this is first history 1-3,price:9.8RMB\n",
       "             <price>9.8</price>\n",
       " </book>,\n",
       " <book country=\"China\" name=\"subrelease01\">\n",
       " <aiqing local=\"XiangGang\"></aiqing>\n",
       " <kongbu local=\"America\"></kongbu>\n",
       " <zhanzheng local=\"MainLand\"></zhanzheng>\n",
       " <price>100</price>\n",
       "             xml,sgml\n",
       "             \n",
       "         </book>,\n",
       " <book country=\"America\" id=\"U\" name=\"subrelease02\">\n",
       " <yunxiao local=\"XiangGang\" price=\"200\">\n",
       " </yunxiao>\n",
       " <yiyun local=\"America\" price=\"30\">\n",
       " </yiyun>\n",
       " <shidai local=\"MainLand\" price=\"150\">\n",
       " </shidai>\n",
       "             xml2,sgml2 \n",
       "             <price>10</price>\n",
       " </book>,\n",
       " <book country=\"China\" name=\"subrelease03\">\n",
       " <price>5</price>\n",
       " </book>,\n",
       " <book country=\"Japan\" name=\"subrelease03\">\n",
       " <price>200</price>\n",
       " </book>,\n",
       " <book name=\"World\" price=\"50\">\n",
       "             test warning\n",
       "         </book>,\n",
       " <book name=\"Global\" price=\"100\"></book>,\n",
       " <book country=\"America\" name=\"NAN\">\n",
       "             This is second history 2-1,price:15RMB\n",
       "             <price>15</price>\n",
       " </book>,\n",
       " <book country=\"Korea\" name=\"South\">\n",
       "             This is second history 2-2,price:60RMB\n",
       "             <price>60</price>\n",
       " </book>]"
      ]
     },
     "execution_count": 96,
     "metadata": {},
     "output_type": "execute_result"
    }
   ],
   "source": [
    "soup.find_all('book')"
   ]
  },
  {
   "cell_type": "code",
   "execution_count": 97,
   "id": "d2ae4e18",
   "metadata": {
    "collapsed": true
   },
   "outputs": [
    {
     "data": {
      "text/plain": [
       "[<book country=\"China\" name=\"xxxx20\">\n",
       "             this is first history 1-2...price:30RMB\n",
       "             <illustration author=\"Mr Dao\"></illustration>\n",
       " <price>30</price>\n",
       " </book>,\n",
       " <book country=\"China\" name=\"subrelease01\">\n",
       " <aiqing local=\"XiangGang\"></aiqing>\n",
       " <kongbu local=\"America\"></kongbu>\n",
       " <zhanzheng local=\"MainLand\"></zhanzheng>\n",
       " <price>100</price>\n",
       "             xml,sgml\n",
       "             \n",
       "         </book>,\n",
       " <book country=\"China\" name=\"subrelease03\">\n",
       " <price>5</price>\n",
       " </book>]"
      ]
     },
     "execution_count": 97,
     "metadata": {},
     "output_type": "execute_result"
    }
   ],
   "source": [
    "soup.find_all('book',country=\"China\")"
   ]
  },
  {
   "cell_type": "code",
   "execution_count": 99,
   "id": "fc097ab5",
   "metadata": {
    "collapsed": true
   },
   "outputs": [
    {
     "data": {
      "text/plain": [
       "[<book country=\"China\" name=\"xxxx20\">\n",
       "             this is first history 1-2...price:30RMB\n",
       "             <illustration author=\"Mr Dao\"></illustration>\n",
       " <price>30</price>\n",
       " </book>]"
      ]
     },
     "execution_count": 99,
     "metadata": {},
     "output_type": "execute_result"
    }
   ],
   "source": [
    "soup.find_all('book',country=\"China\",limit=1)"
   ]
  },
  {
   "cell_type": "code",
   "execution_count": 100,
   "id": "900a4bd3",
   "metadata": {
    "collapsed": true
   },
   "outputs": [
    {
     "data": {
      "text/plain": [
       "[<book country=\"Russia\" name=\"xxxx10\">\n",
       "             this is first history 1-1....price:40RMB\n",
       "             <price>40</price>\n",
       " </book>,\n",
       " <book country=\"China\" name=\"xxxx20\">\n",
       "             this is first history 1-2...price:30RMB\n",
       "             <illustration author=\"Mr Dao\"></illustration>\n",
       " <price>30</price>\n",
       " </book>,\n",
       " <book region=\"China\">\n",
       "             this is first history 1-3,price:9.8RMB\n",
       "             <price>9.8</price>\n",
       " </book>,\n",
       " <magzine country=\"China\" date=\"2020-12\">\n",
       "             Brief description:......xxxx10\n",
       "             <price>12</price>\n",
       " </magzine>,\n",
       " <book country=\"China\" name=\"subrelease01\">\n",
       " <aiqing local=\"XiangGang\"></aiqing>\n",
       " <kongbu local=\"America\"></kongbu>\n",
       " <zhanzheng local=\"MainLand\"></zhanzheng>\n",
       " <price>100</price>\n",
       "             xml,sgml\n",
       "             \n",
       "         </book>,\n",
       " <book country=\"America\" id=\"U\" name=\"subrelease02\">\n",
       " <yunxiao local=\"XiangGang\" price=\"200\">\n",
       " </yunxiao>\n",
       " <yiyun local=\"America\" price=\"30\">\n",
       " </yiyun>\n",
       " <shidai local=\"MainLand\" price=\"150\">\n",
       " </shidai>\n",
       "             xml2,sgml2 \n",
       "             <price>10</price>\n",
       " </book>,\n",
       " <book country=\"China\" name=\"subrelease03\">\n",
       " <price>5</price>\n",
       " </book>,\n",
       " <book country=\"Japan\" name=\"subrelease03\">\n",
       " <price>200</price>\n",
       " </book>,\n",
       " <magzine name=\"Global\">\n",
       " <price>78</price>\n",
       " </magzine>,\n",
       " <book name=\"World\" price=\"50\">\n",
       "             test warning\n",
       "         </book>,\n",
       " <book name=\"Global\" price=\"100\"></book>,\n",
       " <book country=\"America\" name=\"NAN\">\n",
       "             This is second history 2-1,price:15RMB\n",
       "             <price>15</price>\n",
       " </book>,\n",
       " <book country=\"Korea\" name=\"South\">\n",
       "             This is second history 2-2,price:60RMB\n",
       "             <price>60</price>\n",
       " </book>]"
      ]
     },
     "execution_count": 100,
     "metadata": {},
     "output_type": "execute_result"
    }
   ],
   "source": [
    "soup.find_all(['book','magzine'])  #同时查找多个标签的所有"
   ]
  },
  {
   "cell_type": "code",
   "execution_count": 101,
   "id": "e33310e9",
   "metadata": {},
   "outputs": [
    {
     "data": {
      "text/plain": [
       "([<price>40</price>],)"
      ]
     },
     "execution_count": 101,
     "metadata": {},
     "output_type": "execute_result"
    }
   ],
   "source": [
    "soup.find_all(['book','magzine'])[0].find_all(),   #同样所有的<class 'bs4.element.Tag'>,find_all都是适用的"
   ]
  },
  {
   "cell_type": "code",
   "execution_count": null,
   "id": "5bc475db",
   "metadata": {},
   "outputs": [],
   "source": []
  }
 ],
 "metadata": {
  "kernelspec": {
   "display_name": "Python3p9",
   "language": "python",
   "name": "python3"
  },
  "language_info": {
   "codemirror_mode": {
    "name": "ipython",
    "version": 3
   },
   "file_extension": ".py",
   "mimetype": "text/x-python",
   "name": "python",
   "nbconvert_exporter": "python",
   "pygments_lexer": "ipython3",
   "version": "3.9.5"
  },
  "toc": {
   "base_numbering": 1,
   "nav_menu": {},
   "number_sections": true,
   "sideBar": true,
   "skip_h1_title": false,
   "title_cell": "Table of Contents",
   "title_sidebar": "Contents",
   "toc_cell": false,
   "toc_position": {
    "height": "calc(100% - 180px)",
    "left": "10px",
    "top": "150px",
    "width": "197.512px"
   },
   "toc_section_display": true,
   "toc_window_display": true
  }
 },
 "nbformat": 4,
 "nbformat_minor": 5
}
