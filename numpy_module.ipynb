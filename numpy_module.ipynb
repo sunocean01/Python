{
 "cells": [
  {
   "cell_type": "code",
   "execution_count": 1,
   "id": "2326031b",
   "metadata": {},
   "outputs": [],
   "source": [
    "import numpy as np\n",
    "from IPython.core.interactiveshell import InteractiveShell"
   ]
  },
  {
   "cell_type": "code",
   "execution_count": 2,
   "id": "66931207",
   "metadata": {},
   "outputs": [],
   "source": [
    "InteractiveShell.ast_node_interactivity = 'all'"
   ]
  },
  {
   "cell_type": "markdown",
   "id": "b9ada192",
   "metadata": {},
   "source": [
    "# 创建数组"
   ]
  },
  {
   "cell_type": "markdown",
   "id": "ef7909b7",
   "metadata": {},
   "source": [
    "## array:"
   ]
  },
  {
   "cell_type": "raw",
   "id": "6e82c800",
   "metadata": {},
   "source": [
    "object\t数组或嵌套的数列\n",
    "dtype\t数组元素的数据类型，可选\n",
    "copy\t对象是否需要复制，可选\n",
    "order\t创建数组的样式，C为行方向，F为列方向，A为任意方向（默认）\n",
    "subok\t默认返回一个与基类类型一致的数组\n",
    "ndmin\t指定生成数组的最小维度"
   ]
  },
  {
   "cell_type": "code",
   "execution_count": 54,
   "id": "c49ed51b",
   "metadata": {},
   "outputs": [
    {
     "data": {
      "text/plain": [
       "array([[1., 2., 3.],\n",
       "       [4., 5., 6.]])"
      ]
     },
     "execution_count": 54,
     "metadata": {},
     "output_type": "execute_result"
    }
   ],
   "source": [
    "np.array([[1,2,3],[4,5,6]],dtype=float)"
   ]
  },
  {
   "cell_type": "raw",
   "id": "0be88c5f",
   "metadata": {},
   "source": [
    "其他创建数组方式：\n",
    "1. asarray:类似array，比它少两个参数：\n",
    "    a\t    任意形式的输入参数，可以是，列表, 列表的元组, 元组, 元组的元组, 元组的列表，多维数组\n",
    "    dtype\t数据类型，可选\n",
    "    order\t可选，有\"C\"和\"F\"两个选项,分别代表，行优先和列优先，在计算机内存中的存储元素的顺序。\n",
    "2. frombuffer:实现动态数组：\n",
    "    buffer\t可以是任意对象，会以流的形式读入。\n",
    "        buffer 是字符串的时候，Python3 默认 str 是 Unicode 类型，所以要转成 \n",
    "            bytestring 在原 str 前加上 b。\n",
    "    dtype\t返回数组的数据类型，可选,'S1'\n",
    "    count\t读取的数据数量，默认为-1，读取所有数据。\n",
    "    offset\t读取的起始位置，默认为0。\n",
    "3. fromiter:从可迭代对象创建数组，返回一维数组\n",
    "    iterable\t可迭代对象\n",
    "    dtype\t返回数组的数据类型\n",
    "    count\t读取的数据数量，默认为-1，读取所有数据"
   ]
  },
  {
   "cell_type": "code",
   "execution_count": 52,
   "id": "82da2b85",
   "metadata": {},
   "outputs": [
    {
     "data": {
      "text/plain": [
       "array([b'e', b'l', b'l', b'o', b' ', b'W', b'o', b'r', b'l', b'd'],\n",
       "      dtype='|S1')"
      ]
     },
     "execution_count": 52,
     "metadata": {},
     "output_type": "execute_result"
    }
   ],
   "source": [
    "# frombuffer:\n",
    "s = b'Hello World'\n",
    "np.frombuffer(s,dtype='S1',count=-1,offset=1)"
   ]
  },
  {
   "cell_type": "markdown",
   "id": "23961c91",
   "metadata": {},
   "source": [
    "## arange:根据数据范围创建数组"
   ]
  },
  {
   "cell_type": "raw",
   "id": "1145769f",
   "metadata": {},
   "source": [
    "start\t起始值，默认为0\n",
    "stop\t终止值（不包含）\n",
    "step\t步长，默认为1\n",
    "dtype\t返回ndarray的数据类型，如果没有提供，则会使用输入数据的类型。"
   ]
  },
  {
   "cell_type": "code",
   "execution_count": 55,
   "id": "9b2fc80f",
   "metadata": {},
   "outputs": [
    {
     "data": {
      "text/plain": [
       "array([ 2,  4,  6,  8, 10, 12, 14, 16])"
      ]
     },
     "execution_count": 55,
     "metadata": {},
     "output_type": "execute_result"
    }
   ],
   "source": [
    "np.arange(start=2,stop=17,step=2)"
   ]
  },
  {
   "cell_type": "markdown",
   "id": "ef455f56",
   "metadata": {},
   "source": [
    "## linespace:创建等差数列数组"
   ]
  },
  {
   "cell_type": "raw",
   "id": "39ad357c",
   "metadata": {},
   "source": [
    "start\t序列的起始值\n",
    "stop\t序列的终止值，如果endpoint为true，该值包含于数列中\n",
    "num\t   要生成的等步长的样本数量，默认为50;就是按照等步长要取几个数\n",
    "endpoint\t该值为 true 时，数列中包含stop值，反之不包含，默认是True。\n",
    "retstep\t如果为 True 时，生成的数组中会显示间距，反之不显示。\n",
    "dtype\tndarray 的数据类型"
   ]
  },
  {
   "cell_type": "code",
   "execution_count": 60,
   "id": "987ce1eb",
   "metadata": {},
   "outputs": [
    {
     "data": {
      "text/plain": [
       "array([ 2.,  5.,  8., 11., 14., 17.])"
      ]
     },
     "execution_count": 60,
     "metadata": {},
     "output_type": "execute_result"
    }
   ],
   "source": [
    "np.linspace(start=2,stop=17,num=6,endpoint=True)"
   ]
  },
  {
   "cell_type": "raw",
   "id": "0aa9e456",
   "metadata": {},
   "source": [
    "logspace:等比数列\n",
    "    start\t序列的起始值为：base ** start\n",
    "    stop\t序列的终止值为：base ** stop。如果endpoint为true，该值包含于数列中\n",
    "    num\t要生成的等步长的样本数量，默认为50\n",
    "    endpoint\t该值为 true 时，数列中中包含stop值，反之不包含，默认是True。\n",
    "    base\t对数 log 的底数。\n",
    "    dtype\tndarray 的数据类型"
   ]
  },
  {
   "cell_type": "markdown",
   "id": "eca3dabf",
   "metadata": {},
   "source": [
    "# 数组操作"
   ]
  },
  {
   "cell_type": "markdown",
   "id": "805e1e10",
   "metadata": {},
   "source": [
    "## reshape:修改数组形状"
   ]
  },
  {
   "cell_type": "code",
   "execution_count": 105,
   "id": "9beed75f",
   "metadata": {},
   "outputs": [
    {
     "data": {
      "text/plain": [
       "array([[1, 2, 3],\n",
       "       [4, 5, 6]])"
      ]
     },
     "execution_count": 105,
     "metadata": {},
     "output_type": "execute_result"
    }
   ],
   "source": [
    "arr = np.arange(1,7).reshape(2,3)\n",
    "arr"
   ]
  },
  {
   "cell_type": "markdown",
   "id": "45dbcd04",
   "metadata": {},
   "source": [
    "## resize:返回指定形状的新数组"
   ]
  },
  {
   "cell_type": "code",
   "execution_count": 107,
   "id": "28ba3c00",
   "metadata": {},
   "outputs": [
    {
     "data": {
      "text/plain": [
       "array([[1, 2],\n",
       "       [3, 4],\n",
       "       [5, 6]])"
      ]
     },
     "execution_count": 107,
     "metadata": {},
     "output_type": "execute_result"
    }
   ],
   "source": [
    "np.resize(arr,(3,2))"
   ]
  },
  {
   "cell_type": "markdown",
   "id": "5ebfdd64",
   "metadata": {},
   "source": [
    "## flat:数组元素迭代器\n",
    "    flat是将数组进行降维，返回迭代器"
   ]
  },
  {
   "cell_type": "code",
   "execution_count": 74,
   "id": "a5ffffd7",
   "metadata": {},
   "outputs": [
    {
     "name": "stdout",
     "output_type": "stream",
     "text": [
      "original array:\n",
      "[[0 1 2]\n",
      " [3 4 5]\n",
      " [6 7 8]]\n",
      "iterate the array:\n",
      "[0 1 2]\n",
      "[3 4 5]\n",
      "[6 7 8]\n",
      "0\n",
      "1\n",
      "2\n",
      "3\n",
      "4\n",
      "5\n",
      "6\n",
      "7\n",
      "8\n"
     ]
    }
   ],
   "source": [
    "org = np.arange(9).reshape(3,3)\n",
    "print(\"original array:\",org,sep='\\n')\n",
    "\n",
    "print('iterate the array:')\n",
    "for row in org:\n",
    "    print(row)\n",
    "\n",
    "for al in org.flat:\n",
    "    print(al)"
   ]
  },
  {
   "cell_type": "markdown",
   "id": "f1c24ba2",
   "metadata": {},
   "source": [
    "## flatten:返回一维数组的copy，对copy修改不影响原数组"
   ]
  },
  {
   "cell_type": "raw",
   "id": "a49ea9ad",
   "metadata": {},
   "source": [
    "order：'C' -- 按行，'F' -- 按列，'A' -- 原顺序，'K' -- 元素在内存中的出现顺序。"
   ]
  },
  {
   "cell_type": "code",
   "execution_count": 77,
   "id": "f01eb568",
   "metadata": {},
   "outputs": [
    {
     "data": {
      "text/plain": [
       "array([0, 4, 1, 5, 2, 6, 3, 7])"
      ]
     },
     "execution_count": 77,
     "metadata": {},
     "output_type": "execute_result"
    }
   ],
   "source": [
    "org_fn = np.arange(8).reshape(2,4)\n",
    "org_fn.flatten(order='F')"
   ]
  },
  {
   "cell_type": "markdown",
   "id": "46ee0190",
   "metadata": {},
   "source": [
    "## ravel:功能同flatten，但返回的不是copy"
   ]
  },
  {
   "cell_type": "code",
   "execution_count": 79,
   "id": "d2ce0d3f",
   "metadata": {},
   "outputs": [
    {
     "data": {
      "text/plain": [
       "array([0, 1, 2, 3, 4, 5, 6, 7])"
      ]
     },
     "execution_count": 79,
     "metadata": {},
     "output_type": "execute_result"
    }
   ],
   "source": [
    "org_rl = np.arange(8).reshape(2,4)\n",
    "org_rl.flatten(order='C')"
   ]
  },
  {
   "cell_type": "markdown",
   "id": "f1123b02",
   "metadata": {
    "toc-hr-collapsed": true
   },
   "source": [
    "## 翻转数组"
   ]
  },
  {
   "cell_type": "raw",
   "id": "b69de5b4",
   "metadata": {},
   "source": [
    "transpose\t对换数组的维度\n",
    "ndarray.T\t和 self.transpose() 相同\n",
    "rollaxis\t向后滚动指定的轴\n",
    "swapaxes\t对换数组的两个轴"
   ]
  },
  {
   "cell_type": "markdown",
   "id": "61508aa6",
   "metadata": {},
   "source": [
    "### transpose:对换数组的维度"
   ]
  },
  {
   "cell_type": "raw",
   "id": "2fb39518",
   "metadata": {},
   "source": [
    "arr：要操作的数组\n",
    "axes：整数列表，对应维度，通常所有维度都会对换。"
   ]
  },
  {
   "cell_type": "code",
   "execution_count": 80,
   "id": "ae307ff7",
   "metadata": {},
   "outputs": [
    {
     "data": {
      "text/plain": [
       "array([[ 0,  1,  2,  3],\n",
       "       [ 4,  5,  6,  7],\n",
       "       [ 8,  9, 10, 11]])"
      ]
     },
     "execution_count": 80,
     "metadata": {},
     "output_type": "execute_result"
    },
    {
     "data": {
      "text/plain": [
       "array([[ 0,  4,  8],\n",
       "       [ 1,  5,  9],\n",
       "       [ 2,  6, 10],\n",
       "       [ 3,  7, 11]])"
      ]
     },
     "execution_count": 80,
     "metadata": {},
     "output_type": "execute_result"
    }
   ],
   "source": [
    "org_te = np.arange(12).reshape(3,4)\n",
    "org_te\n",
    "np.transpose(org_te)"
   ]
  },
  {
   "cell_type": "markdown",
   "id": "fcfcdc72",
   "metadata": {},
   "source": [
    "### T: 同transpose"
   ]
  },
  {
   "cell_type": "code",
   "execution_count": 81,
   "id": "78b7c584",
   "metadata": {},
   "outputs": [
    {
     "data": {
      "text/plain": [
       "array([[ 0,  1,  2,  3],\n",
       "       [ 4,  5,  6,  7],\n",
       "       [ 8,  9, 10, 11]])"
      ]
     },
     "execution_count": 81,
     "metadata": {},
     "output_type": "execute_result"
    },
    {
     "data": {
      "text/plain": [
       "array([[ 0,  4,  8],\n",
       "       [ 1,  5,  9],\n",
       "       [ 2,  6, 10],\n",
       "       [ 3,  7, 11]])"
      ]
     },
     "execution_count": 81,
     "metadata": {},
     "output_type": "execute_result"
    }
   ],
   "source": [
    "org_te = np.arange(12).reshape(3,4)\n",
    "org_te\n",
    "org_te.T"
   ]
  },
  {
   "cell_type": "markdown",
   "id": "d9bb647d",
   "metadata": {},
   "source": [
    "## rollaxis:向后滚动特定的轴到一个特定位置"
   ]
  },
  {
   "cell_type": "raw",
   "id": "9c5468da",
   "metadata": {},
   "source": [
    "arr：数组\n",
    "axis：要向后滚动的轴，其它轴的相对位置不会改变\n",
    "start：默认为零，表示完整的滚动。会滚动到特定位置。"
   ]
  },
  {
   "cell_type": "code",
   "execution_count": 91,
   "id": "e6199b41",
   "metadata": {},
   "outputs": [
    {
     "data": {
      "text/plain": [
       "array([[[0, 1],\n",
       "        [2, 3]],\n",
       "\n",
       "       [[4, 5],\n",
       "        [6, 7]]])"
      ]
     },
     "execution_count": 91,
     "metadata": {},
     "output_type": "execute_result"
    },
    {
     "data": {
      "text/plain": [
       "array([[[0, 2],\n",
       "        [4, 6]],\n",
       "\n",
       "       [[1, 3],\n",
       "        [5, 7]]])"
      ]
     },
     "execution_count": 91,
     "metadata": {},
     "output_type": "execute_result"
    }
   ],
   "source": [
    "org_rs = np.arange(8).reshape(2,2,2)\n",
    "org_rs\n",
    "np.rollaxis(org_rs,2,0)  #将2轴滚动到0轴（宽度到深度）"
   ]
  },
  {
   "cell_type": "markdown",
   "id": "c4e1c00e",
   "metadata": {},
   "source": [
    "## swapaxes:用于交换数组的两个轴"
   ]
  },
  {
   "cell_type": "code",
   "execution_count": 92,
   "id": "d9df889f",
   "metadata": {},
   "outputs": [
    {
     "data": {
      "text/plain": [
       "array([[[0, 4],\n",
       "        [2, 6]],\n",
       "\n",
       "       [[1, 5],\n",
       "        [3, 7]]])"
      ]
     },
     "execution_count": 92,
     "metadata": {},
     "output_type": "execute_result"
    }
   ],
   "source": [
    "np.swapaxes(org_rs,2,0)"
   ]
  },
  {
   "cell_type": "markdown",
   "id": "1db87eb1",
   "metadata": {},
   "source": [
    "## append:向数组添加值"
   ]
  },
  {
   "cell_type": "raw",
   "id": "eba53bbc",
   "metadata": {},
   "source": [
    "arr：输入数组\n",
    "values：要向arr添加的值，需要和arr形状相同（除了要添加的轴）\n",
    "axis：默认为 None。当axis无定义时，是横向加成，返回总是为一维数组！当axis有定义的时候，分别为0和1的时候（列数要相同）。当axis为1时，数组是加在右边（行数要相同）。"
   ]
  },
  {
   "cell_type": "code",
   "execution_count": 123,
   "id": "0cf8d2ed",
   "metadata": {},
   "outputs": [
    {
     "data": {
      "text/plain": [
       "array([[0, 1, 2],\n",
       "       [3, 4, 5]])"
      ]
     },
     "execution_count": 123,
     "metadata": {},
     "output_type": "execute_result"
    },
    {
     "data": {
      "text/plain": [
       "array([ 0,  1,  2,  3,  4,  5, 10, 20, 30, 40])"
      ]
     },
     "execution_count": 123,
     "metadata": {},
     "output_type": "execute_result"
    },
    {
     "data": {
      "text/plain": [
       "array([[ 0,  1,  2, 10, 20],\n",
       "       [ 3,  4,  5, 30, 40]])"
      ]
     },
     "execution_count": 123,
     "metadata": {},
     "output_type": "execute_result"
    }
   ],
   "source": [
    "arr_ad = np.arange(6).reshape(2,3)\n",
    "arr_ad\n",
    "np.append(arr_ad,[10,20,30,40])\n",
    "np.append(arr_ad,[[10,20],[30,40]],axis=1)"
   ]
  },
  {
   "cell_type": "markdown",
   "id": "a9a7d3ed",
   "metadata": {},
   "source": [
    "## insert:在给定索引之前，沿给定轴在输入数组中插入值"
   ]
  },
  {
   "cell_type": "raw",
   "id": "6092086e",
   "metadata": {},
   "source": [
    "arr：输入数组\n",
    "obj：在其之前插入值的索引,要插入的位置\n",
    "values：要插入的值,可以是列表,也可以是值\n",
    "axis：沿着它插入的轴，如果未提供，则输入数组会被展开"
   ]
  },
  {
   "cell_type": "code",
   "execution_count": 128,
   "id": "dad595ad",
   "metadata": {},
   "outputs": [
    {
     "data": {
      "text/plain": [
       "array([[0, 1, 2],\n",
       "       [3, 4, 5]])"
      ]
     },
     "execution_count": 128,
     "metadata": {},
     "output_type": "execute_result"
    },
    {
     "data": {
      "text/plain": [
       "array([ 0,  1, 10, 20,  2,  3,  4,  5])"
      ]
     },
     "execution_count": 128,
     "metadata": {},
     "output_type": "execute_result"
    },
    {
     "data": {
      "text/plain": [
       "array([[ 0,  1, 11,  2],\n",
       "       [ 3,  4, 11,  5]])"
      ]
     },
     "execution_count": 128,
     "metadata": {},
     "output_type": "execute_result"
    },
    {
     "data": {
      "text/plain": [
       "array([[ 0,  1, 11,  2],\n",
       "       [ 3,  4, 21,  5]])"
      ]
     },
     "execution_count": 128,
     "metadata": {},
     "output_type": "execute_result"
    }
   ],
   "source": [
    "arr_it = np.arange(6).reshape(2,3)\n",
    "arr_it\n",
    "\n",
    "np.insert(arr_it,2,[10,20])\n",
    "\n",
    "np.insert(arr_it,2,11,axis=1)\n",
    "\n",
    "np.insert(arr_it,2,[11,21],axis=1)"
   ]
  },
  {
   "cell_type": "markdown",
   "id": "c865bdc5",
   "metadata": {},
   "source": [
    "## unique:去重"
   ]
  },
  {
   "cell_type": "raw",
   "id": "710dcbd7",
   "metadata": {},
   "source": [
    "arr：输入数组，如果不是一维数组则会展开\n",
    "return_index：如果为true，返回新列表元素在旧列表中的位置（下标），并以列表形式储\n",
    "return_inverse：如果为true，返回旧列表元素在新列表中的位置（下标），并以列表形式储\n",
    "return_counts：如果为true，返回去重数组中的元素在原数组中的出现次数"
   ]
  },
  {
   "cell_type": "code",
   "execution_count": 135,
   "id": "ae02efac",
   "metadata": {},
   "outputs": [
    {
     "data": {
      "text/plain": [
       "array([[1, 1, 3, 3],\n",
       "       [6, 6, 7, 7]])"
      ]
     },
     "execution_count": 135,
     "metadata": {},
     "output_type": "execute_result"
    },
    {
     "data": {
      "text/plain": [
       "array([1, 3, 6, 7])"
      ]
     },
     "execution_count": 135,
     "metadata": {},
     "output_type": "execute_result"
    },
    {
     "data": {
      "text/plain": [
       "(array([1, 3, 6, 7]), array([0, 2, 4, 6], dtype=int64))"
      ]
     },
     "execution_count": 135,
     "metadata": {},
     "output_type": "execute_result"
    },
    {
     "data": {
      "text/plain": [
       "(array([1, 3, 6, 7]), array([0, 0, 1, 1, 2, 2, 3, 3], dtype=int64))"
      ]
     },
     "execution_count": 135,
     "metadata": {},
     "output_type": "execute_result"
    },
    {
     "data": {
      "text/plain": [
       "(array([1, 3, 6, 7]), array([2, 2, 2, 2], dtype=int64))"
      ]
     },
     "execution_count": 135,
     "metadata": {},
     "output_type": "execute_result"
    }
   ],
   "source": [
    "arr_ue = np.array([[1,1,3,3],[6,6,7,7]])\n",
    "arr_ue\n",
    "\n",
    "np.unique(arr_ue)\n",
    "np.unique(arr_ue,return_index=True)\n",
    "np.unique(arr_ue,return_inverse=True)\n",
    "np.unique(arr_ue,return_counts=True)"
   ]
  },
  {
   "cell_type": "markdown",
   "id": "d0cd6772",
   "metadata": {},
   "source": [
    "## np.concatenate():链接,横着连/竖着连"
   ]
  },
  {
   "cell_type": "code",
   "execution_count": 136,
   "id": "01358eed",
   "metadata": {},
   "outputs": [
    {
     "data": {
      "text/plain": [
       "array([[1, 2, 3],\n",
       "       [4, 5, 6]])"
      ]
     },
     "execution_count": 136,
     "metadata": {},
     "output_type": "execute_result"
    },
    {
     "data": {
      "text/plain": [
       "array([[ 5,  6,  7],\n",
       "       [ 8,  9, 10]])"
      ]
     },
     "execution_count": 136,
     "metadata": {},
     "output_type": "execute_result"
    },
    {
     "data": {
      "text/plain": [
       "array([[ 1,  2,  3],\n",
       "       [ 4,  5,  6],\n",
       "       [ 5,  6,  7],\n",
       "       [ 8,  9, 10]])"
      ]
     },
     "execution_count": 136,
     "metadata": {},
     "output_type": "execute_result"
    }
   ],
   "source": [
    "k1 = np.arange(1,7).reshape(2,3)\n",
    "k2 = np.arange(5,11).reshape(2,3)\n",
    "k1\n",
    "k2\n",
    "np.concatenate([k1,k2])"
   ]
  },
  {
   "cell_type": "markdown",
   "id": "5864db12",
   "metadata": {},
   "source": [
    "# numpy 数组属性"
   ]
  },
  {
   "cell_type": "code",
   "execution_count": 6,
   "id": "6ba68e8d",
   "metadata": {},
   "outputs": [],
   "source": [
    "ndarray = np.arange(1,7).reshape(2,3)"
   ]
  },
  {
   "cell_type": "markdown",
   "id": "6c2e95cc",
   "metadata": {},
   "source": [
    "## ndim:秩，即轴的数量或维度的数量"
   ]
  },
  {
   "cell_type": "code",
   "execution_count": 7,
   "id": "8bf1eade",
   "metadata": {},
   "outputs": [
    {
     "data": {
      "text/plain": [
       "2"
      ]
     },
     "execution_count": 7,
     "metadata": {},
     "output_type": "execute_result"
    }
   ],
   "source": [
    "ndarray.ndim"
   ]
  },
  {
   "cell_type": "markdown",
   "id": "e0f55ec6",
   "metadata": {},
   "source": [
    "## shape:数组的维度，对于矩阵，n 行 m 列"
   ]
  },
  {
   "cell_type": "code",
   "execution_count": 8,
   "id": "8207c835",
   "metadata": {},
   "outputs": [
    {
     "data": {
      "text/plain": [
       "(2, 3)"
      ]
     },
     "execution_count": 8,
     "metadata": {},
     "output_type": "execute_result"
    }
   ],
   "source": [
    "ndarray.shape"
   ]
  },
  {
   "cell_type": "markdown",
   "id": "bbe8a56f",
   "metadata": {},
   "source": [
    "## size:数组元素的总个数，相当于 .shape 中 n*m 的值"
   ]
  },
  {
   "cell_type": "code",
   "execution_count": 9,
   "id": "5ca5bcbe",
   "metadata": {},
   "outputs": [
    {
     "data": {
      "text/plain": [
       "6"
      ]
     },
     "execution_count": 9,
     "metadata": {},
     "output_type": "execute_result"
    }
   ],
   "source": [
    "ndarray.size"
   ]
  },
  {
   "cell_type": "markdown",
   "id": "55f33760",
   "metadata": {},
   "source": [
    "## dtype:对象的元素类型"
   ]
  },
  {
   "cell_type": "code",
   "execution_count": 10,
   "id": "cd1a0542",
   "metadata": {},
   "outputs": [
    {
     "data": {
      "text/plain": [
       "dtype('int32')"
      ]
     },
     "execution_count": 10,
     "metadata": {},
     "output_type": "execute_result"
    }
   ],
   "source": [
    "ndarray.dtype"
   ]
  },
  {
   "cell_type": "markdown",
   "id": "1af63541",
   "metadata": {},
   "source": [
    "## itemsize:对象中每个元素的大小，以字节为单位"
   ]
  },
  {
   "cell_type": "code",
   "execution_count": 11,
   "id": "4ac9607e",
   "metadata": {},
   "outputs": [
    {
     "data": {
      "text/plain": [
       "4"
      ]
     },
     "execution_count": 11,
     "metadata": {},
     "output_type": "execute_result"
    }
   ],
   "source": [
    "ndarray.itemsize"
   ]
  },
  {
   "cell_type": "markdown",
   "id": "23e63c6b",
   "metadata": {},
   "source": [
    "## flags:对象的内存信息"
   ]
  },
  {
   "cell_type": "raw",
   "id": "da58fcbc",
   "metadata": {},
   "source": [
    "C_CONTIGUOUS (C)\t数据是在一个单一的C风格的连续段中\n",
    "F_CONTIGUOUS (F)\t数据是在一个单一的Fortran风格的连续段中\n",
    "OWNDATA (O)\t      数组拥有它所使用的内存或从另一个对象中借用它\n",
    "WRITEABLE (W)\t   数据区域可以被写入，将该值设置为 False，则数据为只读\n",
    "ALIGNED (A)\t      数据和所有元素都适当地对齐到硬件上\n",
    "UPDATEIFCOPY (U)\t这个数组是其它数组的一个副本，当这个数组被释放时，原数组的内容将被更新"
   ]
  },
  {
   "cell_type": "code",
   "execution_count": 12,
   "id": "a1ad7881",
   "metadata": {},
   "outputs": [
    {
     "data": {
      "text/plain": [
       "  C_CONTIGUOUS : True\n",
       "  F_CONTIGUOUS : False\n",
       "  OWNDATA : False\n",
       "  WRITEABLE : True\n",
       "  ALIGNED : True\n",
       "  WRITEBACKIFCOPY : False\n",
       "  UPDATEIFCOPY : False"
      ]
     },
     "execution_count": 12,
     "metadata": {},
     "output_type": "execute_result"
    }
   ],
   "source": [
    "ndarray.flags"
   ]
  },
  {
   "cell_type": "markdown",
   "id": "7d5f9fb7",
   "metadata": {},
   "source": [
    "## real:元素的实部"
   ]
  },
  {
   "cell_type": "code",
   "execution_count": 13,
   "id": "ae14853b",
   "metadata": {},
   "outputs": [
    {
     "data": {
      "text/plain": [
       "array([[1, 2, 3],\n",
       "       [4, 5, 6]])"
      ]
     },
     "execution_count": 13,
     "metadata": {},
     "output_type": "execute_result"
    }
   ],
   "source": [
    "ndarray.real"
   ]
  },
  {
   "cell_type": "markdown",
   "id": "e3d1d08b",
   "metadata": {},
   "source": [
    "## imag:元素的虚部"
   ]
  },
  {
   "cell_type": "code",
   "execution_count": 14,
   "id": "7b47efea",
   "metadata": {},
   "outputs": [
    {
     "data": {
      "text/plain": [
       "array([[0, 0, 0],\n",
       "       [0, 0, 0]])"
      ]
     },
     "execution_count": 14,
     "metadata": {},
     "output_type": "execute_result"
    }
   ],
   "source": [
    "ndarray.imag"
   ]
  },
  {
   "cell_type": "markdown",
   "id": "9512835d",
   "metadata": {},
   "source": [
    "## data:包含实际数组元素的缓冲区\n",
    "    由于一般通过数组的索引获取元素，所以通常不需要使用这个属性。"
   ]
  },
  {
   "cell_type": "code",
   "execution_count": 15,
   "id": "df3463c1",
   "metadata": {},
   "outputs": [
    {
     "data": {
      "text/plain": [
       "<memory at 0x00000239264B56C0>"
      ]
     },
     "execution_count": 15,
     "metadata": {},
     "output_type": "execute_result"
    }
   ],
   "source": [
    "ndarray.data"
   ]
  },
  {
   "cell_type": "markdown",
   "id": "6991cc40",
   "metadata": {},
   "source": [
    "# 数学函数"
   ]
  },
  {
   "cell_type": "markdown",
   "id": "65bcd902",
   "metadata": {},
   "source": [
    "## round:四舍五入"
   ]
  },
  {
   "cell_type": "code",
   "execution_count": 97,
   "id": "ec7cfcd6",
   "metadata": {},
   "outputs": [
    {
     "data": {
      "text/plain": [
       "array([  1.     ,   5.55   , 123.45353,   0.567  ,  25.532  ])"
      ]
     },
     "execution_count": 97,
     "metadata": {},
     "output_type": "execute_result"
    },
    {
     "data": {
      "text/plain": [
       "array([  1. ,   5.6, 123.5,   0.6,  25.5])"
      ]
     },
     "execution_count": 97,
     "metadata": {},
     "output_type": "execute_result"
    },
    {
     "data": {
      "text/plain": [
       "array([  1.   ,   5.55 , 123.454,   0.567,  25.532])"
      ]
     },
     "execution_count": 97,
     "metadata": {},
     "output_type": "execute_result"
    }
   ],
   "source": [
    "org_rd = np.array([1.0,5.55,  123.45353,  0.567,  25.532])\n",
    "org_rd\n",
    "org_rd.round(1)\n",
    "np.round(org_rd,3)"
   ]
  },
  {
   "cell_type": "markdown",
   "id": "9489a777",
   "metadata": {},
   "source": [
    "## floor:返回小于或者等于指定表达式的最大整数，即向下取整。"
   ]
  },
  {
   "cell_type": "code",
   "execution_count": 101,
   "id": "856191ad",
   "metadata": {},
   "outputs": [
    {
     "data": {
      "text/plain": [
       "array([  1.,   5., 123.,   0.,  25.])"
      ]
     },
     "execution_count": 101,
     "metadata": {},
     "output_type": "execute_result"
    }
   ],
   "source": [
    "np.floor(org_rd)"
   ]
  },
  {
   "cell_type": "markdown",
   "id": "c6bae90f",
   "metadata": {},
   "source": [
    "## ceil:向上取整"
   ]
  },
  {
   "cell_type": "code",
   "execution_count": 102,
   "id": "926b98ed",
   "metadata": {},
   "outputs": [
    {
     "data": {
      "text/plain": [
       "array([  1.,   6., 124.,   1.,  26.])"
      ]
     },
     "execution_count": 102,
     "metadata": {},
     "output_type": "execute_result"
    }
   ],
   "source": [
    "np.ceil(org_rd)"
   ]
  },
  {
   "cell_type": "markdown",
   "id": "b9338ce9",
   "metadata": {},
   "source": [
    "# 统计函数"
   ]
  },
  {
   "cell_type": "raw",
   "id": "aafd36a6",
   "metadata": {},
   "source": [
    "numpy.amin() 用于计算数组中的元素沿指定轴的最小值。\n",
    "numpy.amax() 用于计算数组中的元素沿指定轴的最大值。\n",
    "numpy.ptp()函数计算数组中元素最大值与最小值的差（最大值 - 最小值）。\n",
    "numpy.percentile()：百分位数是统计中使用的度量，表示小于这个值的观察值的百分比。 函数numpy.percentile()接受以下参数。\n",
    "    a: 输入数组\n",
    "    q: 要计算的百分位数，在 0 ~ 100 之间\n",
    "    axis: 沿着它计算百分位数的轴\n",
    "numpy.median() 函数用于计算数组 a 中元素的中位数（中值）\n",
    "numpy.mean() 函数返回数组中元素的算术平均值。 如果提供了轴，则沿其计算。\n",
    "numpy.average() 函数根据在另一个数组中给出的各自的权重计算数组中元素的加权平均值。\n",
    "np.std([1,2,3,4])：标准差\n",
    "np.var([1,2,3,4]): 方差\n",
    "np.sum():求和\n",
    "\n"
   ]
  }
 ],
 "metadata": {
  "kernelspec": {
   "display_name": "Python 38",
   "language": "python",
   "name": "python3"
  },
  "language_info": {
   "codemirror_mode": {
    "name": "ipython",
    "version": 3
   },
   "file_extension": ".py",
   "mimetype": "text/x-python",
   "name": "python",
   "nbconvert_exporter": "python",
   "pygments_lexer": "ipython3",
   "version": "3.8.6"
  },
  "toc": {
   "base_numbering": 1,
   "nav_menu": {},
   "number_sections": true,
   "sideBar": true,
   "skip_h1_title": false,
   "title_cell": "Table of Contents",
   "title_sidebar": "Contents",
   "toc_cell": false,
   "toc_position": {
    "height": "calc(100% - 180px)",
    "left": "10px",
    "top": "150px",
    "width": "315px"
   },
   "toc_section_display": true,
   "toc_window_display": true
  }
 },
 "nbformat": 4,
 "nbformat_minor": 5
}
