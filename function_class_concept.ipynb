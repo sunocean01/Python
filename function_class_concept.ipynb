{
 "cells": [
  {
   "cell_type": "code",
   "execution_count": 8,
   "id": "4922312c",
   "metadata": {},
   "outputs": [],
   "source": [
    "from IPython.core.interactiveshell import InteractiveShell\n",
    "InteractiveShell.ast_node_interactivity = \"all\" "
   ]
  },
  {
   "cell_type": "markdown",
   "id": "d9b6e84a",
   "metadata": {},
   "source": [
    "# 生成器"
   ]
  },
  {
   "cell_type": "raw",
   "id": "da907485",
   "metadata": {},
   "source": [
    "yield是实现生成器的重要关键字，三个重要方法， 一个是next()、一个是send()，一个是throw()。"
   ]
  },
  {
   "cell_type": "code",
   "execution_count": 1,
   "id": "e038397e",
   "metadata": {},
   "outputs": [
    {
     "data": {
      "text/plain": [
       "<generator object my_generator at 0x00000171704A09E0>"
      ]
     },
     "execution_count": 1,
     "metadata": {},
     "output_type": "execute_result"
    }
   ],
   "source": [
    "# 最简单的生成器：\n",
    "def my_generator(n):\n",
    "    for i in range(n):\n",
    "        yield i\n",
    "my_generator(5)"
   ]
  },
  {
   "cell_type": "code",
   "execution_count": 9,
   "id": "18a8e7e4",
   "metadata": {},
   "outputs": [
    {
     "data": {
      "text/plain": [
       "0"
      ]
     },
     "execution_count": 9,
     "metadata": {},
     "output_type": "execute_result"
    },
    {
     "data": {
      "text/plain": [
       "1"
      ]
     },
     "execution_count": 9,
     "metadata": {},
     "output_type": "execute_result"
    }
   ],
   "source": [
    "mg = my_generator(5)\n",
    "next(mg)\n",
    "next(mg)"
   ]
  },
  {
   "cell_type": "markdown",
   "id": "c71150c6",
   "metadata": {},
   "source": [
    "## send方法："
   ]
  },
  {
   "cell_type": "code",
   "execution_count": 1,
   "id": "c6c7c63b",
   "metadata": {},
   "outputs": [],
   "source": [
    "# send方法使用：\n",
    "def my_generator_send(n):\n",
    "    global lt\n",
    "    lt = []\n",
    "    for i in range(n):\n",
    "        temp = yield i\n",
    "        lt.append(temp)\n",
    "#         print(temp,end=',')\n",
    "        \n",
    "mg = my_generator_send(6)"
   ]
  },
  {
   "cell_type": "code",
   "execution_count": 2,
   "id": "794d0145",
   "metadata": {},
   "outputs": [
    {
     "data": {
      "text/plain": [
       "0"
      ]
     },
     "execution_count": 2,
     "metadata": {},
     "output_type": "execute_result"
    }
   ],
   "source": [
    "# yield的一个功能就是接受外部传入的值付给temp,如果没传值temp则为None；yield i 是返回i的值，相对是独立的\n",
    "next(mg)   #返回 0"
   ]
  },
  {
   "cell_type": "code",
   "execution_count": 3,
   "id": "af550ec4",
   "metadata": {},
   "outputs": [
    {
     "data": {
      "text/plain": [
       "1"
      ]
     },
     "execution_count": 3,
     "metadata": {},
     "output_type": "execute_result"
    }
   ],
   "source": [
    "next(mg)  #返回 1，将None存入lt"
   ]
  },
  {
   "cell_type": "code",
   "execution_count": 4,
   "id": "036b6c85",
   "metadata": {},
   "outputs": [
    {
     "name": "stdout",
     "output_type": "stream",
     "text": [
      "2\n"
     ]
    }
   ],
   "source": [
    "print(mg.send(100))  #返回2， 同时把100存入lt，或者在函数里把它打印出来"
   ]
  },
  {
   "cell_type": "code",
   "execution_count": 5,
   "id": "93521993",
   "metadata": {},
   "outputs": [
    {
     "data": {
      "text/plain": [
       "3"
      ]
     },
     "execution_count": 5,
     "metadata": {},
     "output_type": "execute_result"
    }
   ],
   "source": [
    "mg.send(200)    #返回3， 同时把200存入lt"
   ]
  },
  {
   "cell_type": "code",
   "execution_count": 6,
   "id": "ade4075d",
   "metadata": {},
   "outputs": [
    {
     "data": {
      "text/plain": [
       "[None, 100, 200]"
      ]
     },
     "execution_count": 6,
     "metadata": {},
     "output_type": "execute_result"
    }
   ],
   "source": [
    "lt"
   ]
  },
  {
   "cell_type": "markdown",
   "id": "96980a1f",
   "metadata": {},
   "source": [
    "## throw方法："
   ]
  },
  {
   "cell_type": "code",
   "execution_count": 123,
   "id": "3e31817b",
   "metadata": {},
   "outputs": [
    {
     "data": {
      "text/plain": [
       "1"
      ]
     },
     "execution_count": 123,
     "metadata": {},
     "output_type": "execute_result"
    },
    {
     "data": {
      "text/plain": [
       "2"
      ]
     },
     "execution_count": 123,
     "metadata": {},
     "output_type": "execute_result"
    },
    {
     "ename": "Exception",
     "evalue": "Method throw called!",
     "output_type": "error",
     "traceback": [
      "\u001b[1;31m---------------------------------------------------------------------------\u001b[0m",
      "\u001b[1;31mException\u001b[0m                                 Traceback (most recent call last)",
      "\u001b[1;32m<ipython-input-123-9c2b2e2ccab1>\u001b[0m in \u001b[0;36m<module>\u001b[1;34m\u001b[0m\n\u001b[0;32m     11\u001b[0m \u001b[0mnext\u001b[0m\u001b[1;33m(\u001b[0m\u001b[0mgen\u001b[0m\u001b[1;33m)\u001b[0m\u001b[1;33m\u001b[0m\u001b[1;33m\u001b[0m\u001b[0m\n\u001b[0;32m     12\u001b[0m \u001b[0mnext\u001b[0m\u001b[1;33m(\u001b[0m\u001b[0mgen\u001b[0m\u001b[1;33m)\u001b[0m\u001b[1;33m\u001b[0m\u001b[1;33m\u001b[0m\u001b[0m\n\u001b[1;32m---> 13\u001b[1;33m \u001b[0mgen\u001b[0m\u001b[1;33m.\u001b[0m\u001b[0mthrow\u001b[0m\u001b[1;33m(\u001b[0m\u001b[0mException\u001b[0m\u001b[1;33m,\u001b[0m \u001b[1;34m\"Method throw called!\"\u001b[0m\u001b[1;33m)\u001b[0m\u001b[1;33m\u001b[0m\u001b[1;33m\u001b[0m\u001b[0m\n\u001b[0m",
      "\u001b[1;32m<ipython-input-123-9c2b2e2ccab1>\u001b[0m in \u001b[0;36mmyGenerator\u001b[1;34m()\u001b[0m\n\u001b[0;32m      4\u001b[0m     \u001b[0mvalue\u001b[0m \u001b[1;33m=\u001b[0m \u001b[1;36m1\u001b[0m\u001b[1;33m\u001b[0m\u001b[1;33m\u001b[0m\u001b[0m\n\u001b[0;32m      5\u001b[0m     \u001b[1;32mwhile\u001b[0m \u001b[1;32mTrue\u001b[0m\u001b[1;33m:\u001b[0m\u001b[1;33m\u001b[0m\u001b[1;33m\u001b[0m\u001b[0m\n\u001b[1;32m----> 6\u001b[1;33m         \u001b[1;32myield\u001b[0m \u001b[0mvalue\u001b[0m\u001b[1;33m\u001b[0m\u001b[1;33m\u001b[0m\u001b[0m\n\u001b[0m\u001b[0;32m      7\u001b[0m         \u001b[0mvalue\u001b[0m \u001b[1;33m+=\u001b[0m \u001b[1;36m1\u001b[0m\u001b[1;33m\u001b[0m\u001b[1;33m\u001b[0m\u001b[0m\n\u001b[0;32m      8\u001b[0m \u001b[1;33m\u001b[0m\u001b[0m\n",
      "\u001b[1;31mException\u001b[0m: Method throw called!"
     ]
    }
   ],
   "source": [
    "# throw方法：\n",
    "\n",
    "def myGenerator():\n",
    "    value = 1\n",
    "    while True:\n",
    "        yield value\n",
    "        value += 1\n",
    " \n",
    " \n",
    "gen = myGenerator()\n",
    "next(gen)\n",
    "next(gen)\n",
    "gen.throw(Exception, \"Method throw called!\")"
   ]
  },
  {
   "cell_type": "code",
   "execution_count": 124,
   "id": "cde543a7",
   "metadata": {},
   "outputs": [
    {
     "data": {
      "text/plain": [
       "1"
      ]
     },
     "execution_count": 124,
     "metadata": {},
     "output_type": "execute_result"
    },
    {
     "data": {
      "text/plain": [
       "2"
      ]
     },
     "execution_count": 124,
     "metadata": {},
     "output_type": "execute_result"
    },
    {
     "data": {
      "text/plain": [
       "1"
      ]
     },
     "execution_count": 124,
     "metadata": {},
     "output_type": "execute_result"
    }
   ],
   "source": [
    "# 代码的最后一句向生成器对象抛出了一个异常。但是，在生成器对象的方法时没有处理该异常的代码，因此异常会被抛出到主方法。\n",
    "def myGenerator():\n",
    "#     value = 1\n",
    "    while True:\n",
    "        try:\n",
    "            yield value\n",
    "            value += 1\n",
    "        except:\n",
    "            value = 1\n",
    " \n",
    " \n",
    "gen = myGenerator()\n",
    "next(gen)\n",
    "next(gen)\n",
    "gen.throw(Exception, \"Method throw called!\")"
   ]
  },
  {
   "cell_type": "code",
   "execution_count": null,
   "id": "28ad7bff",
   "metadata": {},
   "outputs": [],
   "source": []
  },
  {
   "cell_type": "markdown",
   "id": "172db0d4",
   "metadata": {},
   "source": [
    "# 函数返回迭代器"
   ]
  },
  {
   "cell_type": "code",
   "execution_count": null,
   "id": "8fa88722",
   "metadata": {},
   "outputs": [],
   "source": [
    "def tt():\n",
    "    lt = [1,4,7,10]\n",
    "    return lt\n",
    "\n",
    "tt()"
   ]
  },
  {
   "cell_type": "code",
   "execution_count": null,
   "id": "78e1f0e6",
   "metadata": {},
   "outputs": [],
   "source": [
    "def tt():\n",
    "    lt = [1,4,7,10]\n",
    "    yield lt\n",
    "\n",
    "# 它是生产器，所以返回是一个迭代器：\n",
    "tt()"
   ]
  },
  {
   "cell_type": "code",
   "execution_count": null,
   "id": "e9a7c2d6",
   "metadata": {},
   "outputs": [],
   "source": [
    "# 有yield的函数是生成器，生成器可以使用next函数：\n",
    "next(tt())"
   ]
  },
  {
   "cell_type": "raw",
   "id": "8847e3af",
   "metadata": {},
   "source": [
    "带yield的函数是一个生成器，而不是一个函数了，这个生成器有一个函数就是next函数，next就相当于“下一步”生成哪个数，这一次的next开始的地方是接着上一次的next停止的地方执行的，所以调用next的时候，生成器并不会从函数的开始执行，只是接着上一步停止的地方开始，然后遇到yield后，return出要生成的数，此步就结束。"
   ]
  },
  {
   "cell_type": "markdown",
   "id": "f01dab36",
   "metadata": {},
   "source": [
    "# send函数用法"
   ]
  },
  {
   "cell_type": "raw",
   "id": "b42fd628",
   "metadata": {},
   "source": [
    "当有如 y = yield x 这样的句子时，首先执行等号右半部分，再将结果赋给 y，但显然执行完yield就被冻结了，赋值只能在下一次运行生成器时执行，而下一次初始值为None。\n",
    "send方法可以为生成器传值，send(None) 等价于 Next（）\n",
    "第一次运行生成器时如果用send方法，参数只能为None"
   ]
  },
  {
   "cell_type": "code",
   "execution_count": null,
   "id": "72a37d43",
   "metadata": {},
   "outputs": [],
   "source": [
    "def xie():\n",
    "#      print(\"等待接受任务\")\n",
    "     while True:\n",
    "          data = (yield)        #也可以是：yield     这个地方 yield有没有括号都可以；\n",
    "          print(\"成功接受任务：\",data)\n",
    "def producer():\n",
    "    x = xie() #调用函数，处理任务\n",
    "    x.__next__()    #或者用 next(x)  or x.send(None)\n",
    "    for i in range(3,5):\n",
    "      print(\"发送任务：%d\"%i)\n",
    "      x.send(\"任务%d\"%i)\n",
    "producer()"
   ]
  },
  {
   "cell_type": "code",
   "execution_count": null,
   "id": "8fcac8c9",
   "metadata": {},
   "outputs": [],
   "source": []
  }
 ],
 "metadata": {
  "kernelspec": {
   "display_name": "Python 3",
   "language": "python",
   "name": "python3"
  },
  "language_info": {
   "codemirror_mode": {
    "name": "ipython",
    "version": 3
   },
   "file_extension": ".py",
   "mimetype": "text/x-python",
   "name": "python",
   "nbconvert_exporter": "python",
   "pygments_lexer": "ipython3",
   "version": "3.8.6"
  },
  "toc": {
   "base_numbering": 1,
   "nav_menu": {},
   "number_sections": true,
   "sideBar": true,
   "skip_h1_title": false,
   "title_cell": "Table of Contents",
   "title_sidebar": "Contents",
   "toc_cell": false,
   "toc_position": {
    "height": "calc(100% - 180px)",
    "left": "10px",
    "top": "150px",
    "width": "165px"
   },
   "toc_section_display": true,
   "toc_window_display": true
  }
 },
 "nbformat": 4,
 "nbformat_minor": 5
}
