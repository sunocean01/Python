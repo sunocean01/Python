{
 "cells": [
  {
   "cell_type": "code",
   "execution_count": null,
   "id": "a32b6952",
   "metadata": {},
   "outputs": [],
   "source": [
    "import winsound\n",
    "import time"
   ]
  },
  {
   "cell_type": "markdown",
   "id": "9ee0b924",
   "metadata": {},
   "source": [
    "# Beep(frequency,duration):发出声音\n",
    "    duration: ms毫秒"
   ]
  },
  {
   "cell_type": "code",
   "execution_count": null,
   "id": "5f1cec1d",
   "metadata": {},
   "outputs": [],
   "source": [
    "winsound.Beep(1000,1000)"
   ]
  },
  {
   "cell_type": "markdown",
   "id": "aea08477",
   "metadata": {},
   "source": [
    "# MessageBeep(): 从Platform API 调用基础 MessageBeep函数\n",
    "    winsound.xxx：\n",
    "        xxx: -1，MB_ICONASTERISK，MB_ICONEXCLAMATION，MB_ICONHAND，MB_ICONQUESTION和MB_OK"
   ]
  },
  {
   "cell_type": "code",
   "execution_count": null,
   "id": "233af632",
   "metadata": {},
   "outputs": [],
   "source": [
    "sounds=[\"-1\",\"winsound.MB_ICONASTERISK\",\"winsound.MB_ICONEXCLAMATION\",\"winsound.MB_ICONHAND\",\"winsound.MB_ICONQUESTION\",\"winsound.MB_OK\"]\n",
    "for i in sounds:\n",
    "    try:\n",
    "        winsound.MessageBeep(eval(i))\n",
    "    except RuntimeError and NameError:\n",
    "        print(\"no {} messagebeep\".format(i))\n",
    "    else:\n",
    "        print(\"has the sound flag{}\".format(i))\n",
    "    \n",
    "    time.sleep(2)"
   ]
  },
  {
   "cell_type": "markdown",
   "id": "c983e8cd",
   "metadata": {},
   "source": [
    "# winsound.PlaySound(sound, flags),从平台API 调用底层函数"
   ]
  },
  {
   "cell_type": "raw",
   "id": "f264a680",
   "metadata": {},
   "source": [
    "sound \n",
    "    1. 系统内置声音:\n",
    "        'SystemAsterisk'    Asterisk\n",
    "        'SystemExclamation'    Exclamation\n",
    "        'SystemExit'    Exit Windows\n",
    "        'SystemHand'    Critical Stop\n",
    "        'SystemQuestion'    Question\n",
    "    2. 外部音频：\n",
    "        声音参数可以是文件名，音频数据作为一个字符串，或None\n",
    "flags:\n",
    "    winsound.SND_ALIAS  该声音参数是从注册表中声音的关联名称。如果注册表中不包含此类名称，则除非SND_NODEFAULT另外指定，否则请播放系统默认声音。如果没有登录默认声音，请提高RuntimeError。不要与指定的'wav格式文件一起使用。\n",
    "    winsound.SND_LOOP   反复播放声音。该SND_ASYNC标志也必须用于避免阻塞。不能用于SND_MEMORY。\n",
    "    winsound.SND_MEMORY 声音参数PlaySound()是WAV文件的存储器中的图像，为一个字符串。注意这个模块不支持异步播放内存映像，所以这个标志的组合SND_ASYNC将会提升RuntimeError\n",
    "    winsound.SND_PURGE  停止播放指定声音的所有实例。注意现代Windows平台不支持此标志。\n",
    "    winsound.SND_ASYNC  立即返回，允许声音异步播放。\n",
    "    winsound.SND_NODEFAULT  如果找不到指定的声音，请不要播放系统默认声音。\n",
    "    winsound.SND_NOSTOP 不要中断当前播放的声音。\n",
    "    winsound.SND_NOWAIT 如果声音驱动程序正忙，请立即返回。注意现代Windows平台不支持此标志。\n",
    "    winsound.MB_ICONASTERISK    播放SystemDefault声音。\n",
    "    winsound.MB_ICONEXCLAMATION  播放SystemExclamation声音。\n",
    "    winsound.MB_ICONHAND    播放SystemHand声音。\n",
    "    winsound.MB_ICONQUESTION    播放SystemQuestion声音。\n",
    "    winsound.MB_OK  播放SystemDefault声音。"
   ]
  },
  {
   "cell_type": "code",
   "execution_count": null,
   "id": "97e153a6",
   "metadata": {},
   "outputs": [],
   "source": [
    "winsound.PlaySound(r'.\\testfile\\qianmenqingsidawancha.wav',winsound.SND_LOOP)"
   ]
  },
  {
   "cell_type": "code",
   "execution_count": null,
   "id": "01562086",
   "metadata": {},
   "outputs": [],
   "source": []
  }
 ],
 "metadata": {
  "kernelspec": {
   "display_name": "Python3p9",
   "language": "python",
   "name": "python3"
  },
  "language_info": {
   "codemirror_mode": {
    "name": "ipython",
    "version": 3
   },
   "file_extension": ".py",
   "mimetype": "text/x-python",
   "name": "python",
   "nbconvert_exporter": "python",
   "pygments_lexer": "ipython3",
   "version": "3.9.5"
  },
  "toc": {
   "base_numbering": 1,
   "nav_menu": {},
   "number_sections": true,
   "sideBar": true,
   "skip_h1_title": false,
   "title_cell": "Table of Contents",
   "title_sidebar": "Contents",
   "toc_cell": false,
   "toc_position": {
    "height": "calc(100% - 180px)",
    "left": "10px",
    "top": "150px",
    "width": "296.513px"
   },
   "toc_section_display": true,
   "toc_window_display": true
  }
 },
 "nbformat": 4,
 "nbformat_minor": 5
}
