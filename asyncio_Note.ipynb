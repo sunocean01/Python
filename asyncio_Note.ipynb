{
 "cells": [
  {
   "cell_type": "code",
   "execution_count": 1,
   "id": "5bcd78d0",
   "metadata": {},
   "outputs": [],
   "source": [
    "import asyncio\n",
    "import time\n",
    "import tkinter as tk\n",
    "import threading\n",
    "import functools\n",
    "import random\n",
    "import aiohttp\n",
    "from concurrent.futures import ThreadPoolExecutor"
   ]
  },
  {
   "cell_type": "code",
   "execution_count": 2,
   "id": "cce2e6f2-b887-414b-b965-00e80409db86",
   "metadata": {},
   "outputs": [],
   "source": [
    "import nest_asyncio\n",
    "nest_asyncio.apply()\n",
    "# 如果不运行此命令,下面的循环事件运行协程函数会报错,原因如下:\n",
    "# Jupyter连接着 IPython 内核，而 IPython 内核本身在事件循环上运行，而 asyncio 不允许嵌套其事件​​循环，因此会出现如上图的错误信息。"
   ]
  },
  {
   "cell_type": "raw",
   "id": "f512c665-6f42-4026-8b1b-4fe97bd71a5e",
   "metadata": {},
   "source": [
    "https://blog.csdn.net/zyy247796143/article/details/125595324?ops_request_misc=&request_id=&biz_id=102&utm_term=asyncio&utm_medium=distribute.pc_search_result.none-task-blog-2~all~sobaiduweb~default-4-125595324.nonecase&spm=1018.2226.3001.4187"
   ]
  },
  {
   "cell_type": "markdown",
   "id": "e1972df6-8b24-4b5c-82ac-08456bacf2ea",
   "metadata": {},
   "source": [
    "# FAQ:"
   ]
  },
  {
   "cell_type": "code",
   "execution_count": null,
   "id": "d580e34b-eb53-4959-b71c-4e556a1c036e",
   "metadata": {},
   "outputs": [],
   "source": [
    "# 1. 下面两种写法的区别: #python3.8 以前的版本,会自动蒋协程对象生成Task对象, python3.8以后会发出警告\n",
    "async def main():   #入口函数\n",
    "        done,pending=await asyncio.wait({sleep1(),sleep2(),sleep3()},return_when=asyncio.ALL_COMPLETED)\n",
    "        for i in done:\n",
    "            print(i)\n",
    "        for j in pending:\n",
    "            print(j)\n",
    "            \n",
    "async def main():\n",
    "    tasks = [asyncio.create_task(num(i)) for i in range(10)]  # tasks = [num(i) for i in range(10)]??\n",
    "    complete, pending = await asyncio.wait(tasks,timeout=0.5)\n",
    "    for i in complete:\n",
    "        print(\"当前数字:\",i.result())"
   ]
  },
  {
   "cell_type": "markdown",
   "id": "b39c4e12-15f7-4494-a4fb-f42afa0dea88",
   "metadata": {},
   "source": [
    "# 协程使用的基本结构:"
   ]
  },
  {
   "cell_type": "raw",
   "id": "f3fa5a69-7b17-4f86-8333-f29875aa403d",
   "metadata": {},
   "source": [
    "async def coro1():\n",
    "    relt = await asyncio.sleep(1)\n",
    "    return relt\n",
    "    \n",
    "async def coro2():\n",
    "    relt = await asyncio.sleep(2)\n",
    "    return relt\n",
    "    \n",
    "....\n",
    "\n",
    "async def main():\n",
    "    tasks = [\n",
    "             asyncio.create_task(coro1()),\n",
    "             asyncio.create_task(coro2()),\n",
    "             ...\n",
    "            ]\n",
    "    done,pending = asyncio.wait(task,timeout=None)\n",
    "    \n",
    "    for relt in done:\n",
    "        print(\"relt\")\n",
    "        \n",
    "asyncio.run(main())"
   ]
  },
  {
   "cell_type": "markdown",
   "id": "186ba74e-1204-4bae-9dd5-8e976c879280",
   "metadata": {},
   "source": [
    "# 协程函数(coroutine): async"
   ]
  },
  {
   "cell_type": "raw",
   "id": "f6b870e9-470e-4619-8589-a6217b9fddd3",
   "metadata": {},
   "source": [
    "1. 需要使用 @asyncio.coroutine 进行装饰;   #这是老版本python的使用方法\n",
    "2. 函数体内一定要有yield from返回的generator,或者是说使用yield from返回另一个协程对象;  #这是协程函数底层的实现方法,可以不用管\n",
    "当然,这两个条件不是硬性的,如果没有这两个条件,依然是函数,只不过是普通函数而已."
   ]
  },
  {
   "cell_type": "code",
   "execution_count": 3,
   "id": "d191fcae",
   "metadata": {},
   "outputs": [],
   "source": [
    "async def myprint():   # 前面用 async装饰的函数叫协程函数\n",
    "    await asyncio.sleep(3)\n",
    "    print(\"end\")"
   ]
  },
  {
   "cell_type": "raw",
   "id": "29684572-de4a-4dc5-afbc-8288d3e6e605",
   "metadata": {},
   "source": [
    "判断函数是否为协程函数:\n",
    "    1. asyncio.iscoroutine(obj)   #obj 是函数的对象\n",
    "    2. asyncio.iscoroutinefunction(func)  #func: 是函数名"
   ]
  },
  {
   "cell_type": "code",
   "execution_count": null,
   "id": "3d1acc45-63e4-4bec-9a04-90887d9f45ce",
   "metadata": {},
   "outputs": [],
   "source": [
    "obj = myprint()"
   ]
  },
  {
   "cell_type": "code",
   "execution_count": null,
   "id": "133ba960-c71b-4015-994b-f2941cd4489c",
   "metadata": {},
   "outputs": [],
   "source": [
    "asyncio.iscoroutine(obj)"
   ]
  },
  {
   "cell_type": "code",
   "execution_count": null,
   "id": "e0f91d15-630b-43c4-936b-34f7fb91db57",
   "metadata": {},
   "outputs": [],
   "source": [
    "asyncio.iscoroutinefunction(myprint)"
   ]
  },
  {
   "cell_type": "code",
   "execution_count": 4,
   "id": "a3bd921b-7692-4f5a-ae44-8831521f9fa5",
   "metadata": {},
   "outputs": [
    {
     "name": "stdout",
     "output_type": "stream",
     "text": [
      "end\n"
     ]
    }
   ],
   "source": [
    "await myprint()   #它可以工作,是因为jupyter的Ipython的内核本身是在事件循环上运行的"
   ]
  },
  {
   "cell_type": "markdown",
   "id": "97a394c9-7b1c-4718-827f-2b579d2626a3",
   "metadata": {},
   "source": [
    "# event_loop: 事件循环"
   ]
  },
  {
   "cell_type": "raw",
   "id": "3a9360bd-a609-40d6-a3f8-4ce076aec2e2",
   "metadata": {},
   "source": [
    "事件循环是一种处理多并发量的有效方式，在维基百科中它被描述为「一种等待程序分配事件或消息的编程架构」，我们可以定义事件循环来简化使用轮询方法来监控事件，通俗的说法就是「当A发生时，执行B」。事件循环利用poller对象，使得程序员不用控制任务的添加、删除和事件的控制。事件循环使用回调方法来知道事件的发生。它是asyncio提供的「中央处理设备」，支持如下操作：\n",
    "    注册、执行和取消延迟调用（超时）\n",
    "    创建可用于多种类型的通信的服务端和客户端的Transports\n",
    "    启动进程以及相关的和外部通信程序的Transports\n",
    "    将耗时函数调用委托给一个线程池\n",
    "    单线程（进程）的架构也避免的多线程（进程）修改可变状态的锁的问题。\n",
    "与事件循环交互的应用要显示地注册将运行的代码，让事件循环在资源可用时向应用代码发出必要的调用。如：一个套接字再没有更多的数据可以读取，那么服务器会把控制全交给事件循环。\n",
    "\n",
    "需要在事件循环上运行协程函数,有下面两种方法:\n",
    "1. python3.7之前的版本(后面的版本也是可以的):\n",
    "    loop = asyncio.get_event_loop()     #获取/创建一个事件循环\n",
    "    loop.run_until_complete(coroutine)       #在事件循环上运行协程函数\n",
    "    \n",
    "2. python3.7新增:\n",
    "    asyncio.run(coroutine)  #进一步封装"
   ]
  },
  {
   "cell_type": "markdown",
   "id": "7aacf6e6-2d60-4d03-9f5b-61481b169293",
   "metadata": {},
   "source": [
    "# awaitable对象:即可暂停等待的对象"
   ]
  },
  {
   "cell_type": "raw",
   "id": "8191a0f6-e56e-4683-954b-c07b61881fc6",
   "metadata": {},
   "source": [
    "有三类对象是可等待的, 即coroutine, task 和 Future.\n",
    "    1. coroutine: 本质就是一个函数, 以前面的yield和yield from为基础;\n",
    "    2. Tasks: 任务,顾名思义就是要完成某件事情,其实就是对协程函数进一步的封装;\n",
    "    3. Future: 它是一个\"更底层\"的概念, 它代表一个一步操作的最终结果,因为一步操作一般用于耗时操作,结果不会立即得到,会在\"将来\"得到异步运行的结果,故而命名为Future.\n",
    "三者的关系,coroutine可以自动封装成task,而Task是Future的子类.\n",
    "\n",
    "await + awaitable:\n",
    "    awaitable对象是为await准备的"
   ]
  },
  {
   "cell_type": "markdown",
   "id": "170b65e9-5da9-4a87-a3e7-438fbbe758d6",
   "metadata": {},
   "source": [
    "# Task: 任务"
   ]
  },
  {
   "cell_type": "raw",
   "id": "8b398576-a906-4881-8ab4-543240f70f50",
   "metadata": {},
   "source": [
    "Task是Future的一个子类,它知道如何包装和管理一个协程的执行.任务所需要的资源可用时,事件循环会调度任务允许,并生成一个结果,从而可以由其它协程消费.\n",
    "如前所述,Task用来并发调度的协程,即对协程函数的进一步包装.那为什么还需要包装呢?因为单纯的协程函数仅仅是一个函数而已,将其包装成任务,任务是可以包含各种状态的,异步编程最重要的是对异步操作状态的把控.\n",
    "\n",
    "task1 = asyncio.create_task(coroutine())\n",
    "task2 = asyncio.create_task(coroutine())\n",
    "...\n",
    "tasks = [task1,task2,...]\n",
    "done,pending = await asyncio.wait(tasks):\n",
    "\n",
    "把协程函数包装成task, 然后asyncio.wait()就可以在不同的task之间切换并管理它们的状态"
   ]
  },
  {
   "cell_type": "markdown",
   "id": "eb4cd2fc-072d-4d60-950f-13ba324a7166",
   "metadata": {},
   "source": [
    "# Future: "
   ]
  },
  {
   "cell_type": "raw",
   "id": "77f39fae-e340-46ae-a64d-5af297130446",
   "metadata": {},
   "source": [
    "Future是一种数据结构,表示还未完成的工作结果. 事件循环可以监视Future对象是否完成. 从而允许应用的一部分等待另一部分完成一些工作.\n",
    "Future是一个较底层的可等待(awaitable)对象,它表示的是异步操作的最终结果,当一个Future对象被等待的时候,协程会一直等待,直到Future已经运算完毕.\n",
    "Future是Task的父类,一般情况下,已不用去管它们两者的详细区别.\n",
    "返回Future对象的低级函数的一个很好的例子是: loop.run_in_executor()"
   ]
  },
  {
   "cell_type": "markdown",
   "id": "14316494-b625-469c-b00d-071d18f54b8d",
   "metadata": {},
   "source": [
    "# asyncio的基本架构:"
   ]
  },
  {
   "cell_type": "raw",
   "id": "2cdb88bb-431a-4893-ac52-f119c908ad30",
   "metadata": {},
   "source": [
    "asyncio分为高层API和低层API,我们都可以使用,我们前面讲的coroutine和Task属于高层API, 而Event Loop和Future属于低层API. 当然asyncio所涉及到的功能远不止于此,所谓的高层API主要指那些asyncio.xxx()的方法.\n",
    "下面是高层API和低层API的概览: "
   ]
  },
  {
   "cell_type": "markdown",
   "id": "1e5a34fb-4a23-49c3-9537-2e267db0e46a",
   "metadata": {},
   "source": [
    "## 常见的一些高层API方法"
   ]
  },
  {
   "cell_type": "markdown",
   "id": "587c29ba-a39b-46ff-bad2-4d417df996ad",
   "metadata": {},
   "source": [
    "### 运行异步协程"
   ]
  },
  {
   "cell_type": "code",
   "execution_count": null,
   "id": "43d3ca54-5b93-457a-867c-b0fe95494024",
   "metadata": {},
   "outputs": [],
   "source": [
    "1. asyncio.run(aws,*,debug=False)   #运行一个一步协程,python3.7新添加的内容\n",
    "2. 创建循环事件对象,然后运行协程函数: 见下面介绍:\n",
    "    loop = asyncio.get_event_loop()\n",
    "    loop.run_until_complete(coroutine())"
   ]
  },
  {
   "cell_type": "raw",
   "id": "61bfc15d-8858-4bc8-9bdd-271e60ec40be",
   "metadata": {},
   "source": [
    "协程函数,不是像普通函数那样直接调用运行,必须添加到事件循环中,然后由事件循环去运行,单独运行协程函数是不会有结果的,看个例子:"
   ]
  },
  {
   "cell_type": "code",
   "execution_count": 4,
   "id": "ce5e13f8-71c7-47f1-95e5-36938b6470b1",
   "metadata": {},
   "outputs": [
    {
     "name": "stdout",
     "output_type": "stream",
     "text": [
      "开始时间为:1671064015.9909418\n",
      "Hello\n",
      "world\n",
      "结束时间为:1671064018.011947\n"
     ]
    }
   ],
   "source": [
    "async def say_after_time(delay,what):\n",
    "    await asyncio.sleep(delay)\n",
    "    print(what)\n",
    "    \n",
    "async def main():\n",
    "    print(f\"开始时间为:{time.time()}\")\n",
    "    await say_after_time(1,\"Hello\")\n",
    "    await say_after_time(1,'world')\n",
    "    print(f\"结束时间为:{time.time()}\")\n",
    "          \n",
    "# loop=asyncio.get_event_loop()   # 创建事件循环对象       # loop = asyncio.new_event_loop()  #等价, 创建新的事件循环\n",
    "# loop.run_until_complete(main())    #通过事件循环对象运行协程函数\n",
    "# loop.close()\n",
    "          \n",
    "# 或者:\n",
    "asyncio.run(main())   #python3.7 新增"
   ]
  },
  {
   "cell_type": "code",
   "execution_count": null,
   "id": "5fadb287-29a8-4988-9521-9dc7ea001db3",
   "metadata": {},
   "outputs": [],
   "source": [
    "# 如果单独执行普通函数那样运行一个协程函数,只会返回一个coroutine对象:\n",
    "main()"
   ]
  },
  {
   "cell_type": "markdown",
   "id": "6d22f6dd-c11b-4bc0-9b83-8a2b37bca2c5",
   "metadata": {},
   "source": [
    "#### 创建事件循环对象"
   ]
  },
  {
   "cell_type": "raw",
   "id": "776336ad-2405-4601-8a01-8e3363724871",
   "metadata": {},
   "source": [
    "获取事件循环对象的几种方式:\n",
    "下面几种方式可以用来获取,设置,创建循环对象loop\n",
    "    1. loop = asyncio.get_running_loop()  返回(获取)在当前线程中正在运行的事件循环,如果没有正在运行的事件循环,则会显示错误; python3.7 添加\n",
    "    2. loop = ayncio.get_event_loop() 获取一个事件循环,如果当前线程没有事件循环,则创建一个新的事件循环loop.\n",
    "    3. loop = asyncio.set_event_loop(loop) 设置一个事件循环为当前线程的事件循环.\n",
    "    4. loop = ayncio.new_event_loop() 创建一个新的事件循环."
   ]
  },
  {
   "cell_type": "markdown",
   "id": "f2ef750d-d034-4e57-8fb7-7a70ab749b7b",
   "metadata": {},
   "source": [
    "#### 运行协程函数"
   ]
  },
  {
   "cell_type": "raw",
   "id": "1c5b58d4-cc3a-4a5f-837f-38643badc80d",
   "metadata": {},
   "source": [
    "通过事件循环运行协程函数的两种方式:\n",
    "    1. 通过事件循环对象运行协程函数,如 loop.run_until_complete(coroutine).\n",
    "    2. 直接运行: asyncio.run(coroutine)  python3.7新增\n",
    "        注意: run函数总会创建一个新的事件循环并在run结束之后关闭事件循环, 所以,如果在同一个线程中已经有了一个事件循环,则不能再使用这个函数了, 因为同一个线程不能有两个事件循环, 而且这个run函数不能同事运行两次,因为它已经创建一个了.即同一个线程中是不允许有多个事件循环loop的.\n",
    "\n",
    "注意: 到底什么是事件循环?\n",
    "    可以这样理解: 线程一直在各个协程方法之间不停的游走, 遇到一个yield from 或者await就悬挂起来,然后又走到另外一个方法, 依次进行下去,直到事件循环的所有方法执行完毕. 实际上loop是baseEventLoop的一个实例, 我们可以查看定义,它到底有哪些方法可以调用."
   ]
  },
  {
   "cell_type": "markdown",
   "id": "2c72fc44-6b1b-43ea-b17b-d46149fae1ae",
   "metadata": {},
   "source": [
    "### asyncio.create_task: 创建任务:"
   ]
  },
  {
   "cell_type": "raw",
   "id": "fbe983f3-2eba-45b4-81bc-f95c6b3ddbde",
   "metadata": {},
   "source": [
    "1. 创建任务有两种方法:\n",
    "    1. task = asyncio.create_task(coro())    #python3.7 新增\n",
    "    2. task = asyncio.ensure_future(coro())\n",
    "    3. 也可以使用:\n",
    "        loop = asyncio.get_event_loop()\n",
    "        loop.create_future()\n",
    "        loop.create_task(coro)\n",
    "        \n",
    "    备注:\n",
    "        loop.create_task接受的参数是一个协程, 但是asyncio.ensure_future除了接受协程,还可以是Future对象或者awaitable对象:\n",
    "            1. 如果参数是协程,其实底层还是用 loop.create_task, 返回Task对象;\n",
    "            2. 如果是Future对象会直接返回;\n",
    "            3. 如果是一个awaitable对象会await这个对象的__await__方法, 再执行依次 ensure_future, 最后返回Task或者Future.\n",
    "        所以就像ensure_future名字说的,确保这个是一个Future对象: Task是Future子类, 前面说过一般情况下开发者不需要自己创建Future. 其实前面说的asyncio.wait和asyncio.gather里面都用了asyncio.ensure_future.对于大多数场景要并发执行的是协程,所以直接用asyncio.create_task 就足够了.\n",
    "\n",
    "2. 获取一个任务的方法:\n",
    "    1. task = asyncio.current_task(loop=None)\n",
    "        返回一个指定的loop中,当前正在运行的任务,如果没有任务在运行,则返回None; 如果loop为None, 则默认为在当前的事件循环中获取.\n",
    "    2. asyncio.all_task(loop=None)\n",
    "        返回某个loop中还没有结束的任务. 需要注意的是,传入ensure_future()的coroutine不会立马启动,需要有某个地方使用了await语句操作创建的task的时候它才会执行."
   ]
  },
  {
   "cell_type": "markdown",
   "id": "acbda01f-872a-47e2-94a3-11bdcfa6dcf8",
   "metadata": {},
   "source": [
    "### asyncio.sleep:睡眠"
   ]
  },
  {
   "cell_type": "raw",
   "id": "25d36c91-0f51-4e11-9153-fea4f2e28735",
   "metadata": {},
   "source": [
    "await asyncio.sleep(delay,result=None,*,loop=None)\n",
    "\n",
    "这个函数表示的是: 当前的那个任务(协程函数)睡眠多长时间,而允许其它任务运行. 这是它与time.sleep()的区别, time.sleep()是当前线程休息.\n",
    "另外,如果提供了result, 当当前任务(协程)结束的时候,它会返回;"
   ]
  },
  {
   "cell_type": "markdown",
   "id": "6211c361-fdf8-4769-88a7-9f4d8bad9f8b",
   "metadata": {},
   "source": [
    "### asyncio.wait: 多个协程函数的等候"
   ]
  },
  {
   "cell_type": "raw",
   "id": "d6ad9ded-c3d5-4cc4-8868-31a99aa288bf",
   "metadata": {},
   "source": [
    "await asyncio.wait(aws,loop=None,timeout=None,return_when=ALL_COMPLETED)\n",
    "\n",
    "并发执行aws可迭代对象中的可等待对象并进入阻塞状态直到全部满足return_when的条件.\n",
    "参数详解:\n",
    "    aws: 要写成一个集合 set形式,如: {func(),func2(),func3()}, 写成列表形式也是可以的, [func(),func2(),func3()]\n",
    "        python3.8以前,集合里可以是 coroutine(), 它会自动给包装成task对象, python3.8新增: aws只能是task的集合.\n",
    "    \n",
    "    timeout(float or int): 这个不会出发asyncio.TimeoutError异常, 如果到了timeout还有任务没有执行完,那些没有执行完的tasks和Futurns会被返回到第二个集合pending里面.\n",
    "    \n",
    "    return_when: 什么时候返回值, 可选参数如下:\n",
    "        FIRST_COMPLETED: 当任何一个task或者Futurn完成或者取消,wait函数就返回\n",
    "        FIRST_EXCEPTION: 当任何一个task或者Futurn出发了某一个异常,就返回,如果所有taks和Futurn都没有触发异常,则等价与下面的ALL_COMPLETED.\n",
    "        ALL_COMPLETED: 当所有的task或者是futurn都完成或者都取消时候,再返回.\n",
    "Note:\n",
    "    await asyncio.wait() 需要放在一个协程函数中"
   ]
  },
  {
   "cell_type": "raw",
   "id": "f5e5402b-bfb7-4c57-a820-3af8409ac242",
   "metadata": {},
   "source": [
    "例1:"
   ]
  },
  {
   "cell_type": "code",
   "execution_count": 4,
   "id": "d0096ce5-b50c-46f0-b00d-ef229f997369",
   "metadata": {},
   "outputs": [
    {
     "name": "stdout",
     "output_type": "stream",
     "text": [
      "sleep1 begin\n",
      "sleep2 begin\n",
      "sleep3 begin\n",
      "sleep1 end\n",
      "<Task finished name='Task-6' coro=<sleep1() done, defined at <timed exec>:1> result=None>\n",
      "<Task pending name='Task-8' coro=<sleep3() running at <timed exec>:13> wait_for=<Future pending cb=[Task.__wakeup()]>>\n",
      "<Task pending name='Task-7' coro=<sleep2() running at <timed exec>:8> wait_for=<Future pending cb=[Task.__wakeup()]>>\n",
      "Wall time: 1.01 s\n",
      "sleep2 end\n",
      "sleep3 end\n"
     ]
    }
   ],
   "source": [
    "%%time\n",
    "async def sleep1():  #大约1秒\n",
    "        print(\"sleep1 begin\")\n",
    "        await asyncio.sleep(1)\n",
    "        print(\"sleep1 end\")\n",
    "\n",
    "async def sleep2():  #大约2秒\n",
    "        print(\"sleep2 begin\")\n",
    "        await asyncio.sleep(2)\n",
    "        print(\"sleep2 end\")\n",
    "    \n",
    "async def sleep3():  #大约3秒\n",
    "        print(\"sleep3 begin\")\n",
    "        await asyncio.sleep(3)\n",
    "        print(\"sleep3 end\")\n",
    "    \n",
    "async def main():   #入口函数\n",
    "        tasks = [\n",
    "                 asyncio.create_task(sleep1()),\n",
    "                 asyncio.create_task(sleep2()),\n",
    "                 asyncio.create_task(sleep3()),\n",
    "                ]\n",
    "        done,pending=await asyncio.wait(tasks,return_when=asyncio.FIRST_COMPLETED)\n",
    "        for i in done:\n",
    "            print(i)\n",
    "        for j in pending:\n",
    "            print(j)\n",
    "asyncio.run(main()) #运行入口函数\n",
    "\n",
    "# 可以试着不同的 return_when的参数"
   ]
  },
  {
   "cell_type": "raw",
   "id": "6cef5b1f-14b2-46ce-a1b1-c827cf2dcc5f",
   "metadata": {},
   "source": [
    "例2:"
   ]
  },
  {
   "cell_type": "code",
   "execution_count": 27,
   "id": "6b26ea73-7f59-4f37-8d06-52fddacee3d0",
   "metadata": {},
   "outputs": [],
   "source": [
    "async def num(n):\n",
    "    try:\n",
    "        await asyncio.sleep(n*0.1)\n",
    "        return n\n",
    "    except asyncio.CancelledError:\n",
    "        print(f\"数字{n}被取消\")\n",
    "        raise\n",
    "        \n",
    "async def main():\n",
    "    tasks = [asyncio.create_task(num(i)) for i in range(10)]  # tasks = [num(i) for i in range(10)]??\n",
    "    result = await asyncio.wait(tasks,timeout=0.5)\n",
    "    print(result)\n",
    "    # for i in complete:\n",
    "    #     print(\"当前数字:\",i.result())\n",
    "    # if pending:\n",
    "    #     print(\"取消未完成的任务\")\n",
    "    #     for p in pending:\n",
    "    #         p.cancel()\n",
    "            "
   ]
  },
  {
   "cell_type": "code",
   "execution_count": 28,
   "id": "d8586976-c7c2-4f9e-93f7-06dc86e710c6",
   "metadata": {},
   "outputs": [
    {
     "name": "stdout",
     "output_type": "stream",
     "text": [
      "({<Task finished name='Task-126' coro=<num() done, defined at <ipython-input-27-e8537d604d28>:1> result=4>, <Task finished name='Task-123' coro=<num() done, defined at <ipython-input-27-e8537d604d28>:1> result=1>, <Task finished name='Task-127' coro=<num() done, defined at <ipython-input-27-e8537d604d28>:1> result=5>, <Task finished name='Task-124' coro=<num() done, defined at <ipython-input-27-e8537d604d28>:1> result=2>, <Task finished name='Task-125' coro=<num() done, defined at <ipython-input-27-e8537d604d28>:1> result=3>, <Task finished name='Task-122' coro=<num() done, defined at <ipython-input-27-e8537d604d28>:1> result=0>}, {<Task pending name='Task-129' coro=<num() running at <ipython-input-27-e8537d604d28>:3> wait_for=<Future pending cb=[Task.__wakeup()]>>, <Task pending name='Task-131' coro=<num() running at <ipython-input-27-e8537d604d28>:3> wait_for=<Future pending cb=[Task.__wakeup()]>>, <Task pending name='Task-130' coro=<num() running at <ipython-input-27-e8537d604d28>:3> wait_for=<Future pending cb=[Task.__wakeup()]>>, <Task pending name='Task-128' coro=<num() running at <ipython-input-27-e8537d604d28>:3> wait_for=<Future pending cb=[Task.__wakeup()]>>})\n"
     ]
    }
   ],
   "source": [
    "loop = asyncio.get_event_loop()\n",
    "# try:\n",
    "loop.run_until_complete(main())\n",
    "# finally:\n",
    "#     loop.close()"
   ]
  },
  {
   "cell_type": "raw",
   "id": "6119e481-0c0e-4536-912c-06c36b513a73",
   "metadata": {},
   "source": [
    "可以发现结果并没有按照数字的顺序显示，在内部wait()使用一个set保存它创建的Task实例。因为set是无序的所以这也就是我们的任务不是顺序执行的原因。 wait的返回值是一个元组，包括两个集合，分别表示已完成和未完成的任务。wait第二个参数为一个超时值。\n",
    "达到这个超时时间后，未完成的任务状态变为pending，如果没有调用cancel方法取消任务，当程序退出时还有任务没有完成此时就会看到如下的错误提示。\n",
    "此时可以通过迭代调用cancel方法取消任务。也就是这段代码\n",
    "\n",
    "if pending:\n",
    "    print(\"取消未完成的任务\")\n",
    "    for p in pending:\n",
    "        p.cancel()\n",
    "        \n",
    "与 wait_for() 不同，wait() 在超时发生时不会取消可等待对象。\n",
    "wait_for(): 见下面的介绍"
   ]
  },
  {
   "cell_type": "markdown",
   "id": "291e3b09-5a77-46ec-ae31-07fa0e995c76",
   "metadata": {},
   "source": [
    "### asyncio.gather: 并发运行多个任务"
   ]
  },
  {
   "cell_type": "raw",
   "id": "8e8ed238-73cb-4568-adfd-cd1ba3882bcc",
   "metadata": {},
   "source": [
    "await asyncio.gather(*coros_or_futures,loop=None,return_exceptions=False)\n",
    "它本身也是awaitable的.\n",
    "\n",
    "参数:\n",
    "*coros_or_futures 是一个序列拆分操作,如果是一个协程函数,则会自动转换成Task. 当所有的任务都完成后,返回的结果是一个列表形式,列表中值的顺序和 *coros_or_future完成的顺序是一样的.\n",
    "\n",
    "return_exeptions:\n",
    "    False:  default 第一个发出异常的任务会立即返回,然后其它任务继续执行.\n",
    "    True:   对于已经发生了异常的任务,也会像成功了任务那样,等到所有的任务都结束,然后一起返回到最终的列表里.\n",
    "    \n",
    "如果gather()本身取消了,那么绑定在它里面的任务就取消了.\n"
   ]
  },
  {
   "cell_type": "raw",
   "id": "0b7933d9-5251-4b2f-8444-abce65ac1bf1",
   "metadata": {},
   "source": [
    "gather的使用:\n",
    "gather的作用和wait类似,但不同的是:\n",
    "    1. gather任务无法取消\n",
    "    2. 返回是一个结果列表\n",
    "    3. 可以按照传入参数的顺序进行输出"
   ]
  },
  {
   "cell_type": "raw",
   "id": "5c5b0e75-b2ce-45f0-9509-589f14e2f535",
   "metadata": {},
   "source": [
    "例3"
   ]
  },
  {
   "cell_type": "code",
   "execution_count": 25,
   "id": "ecfcefa2-eb12-4781-9725-06a5c70ca069",
   "metadata": {},
   "outputs": [],
   "source": [
    "async def main():\n",
    "    tasks = [asyncio.create_task(num(i)) for i in range(10)]   #调用例2中的 num()协程函数\n",
    "    complete = await asyncio.gather(*tasks)\n",
    "    print(complete)"
   ]
  },
  {
   "cell_type": "code",
   "execution_count": 26,
   "id": "1e7a1221-a0b3-4849-8bf8-f7cb3d2a4356",
   "metadata": {},
   "outputs": [
    {
     "name": "stdout",
     "output_type": "stream",
     "text": [
      "[0, 1, 2, 3, 4, 5, 6, 7, 8, 9]\n"
     ]
    }
   ],
   "source": [
    "loop = asyncio.get_event_loop()\n",
    "loop.run_until_complete(main())"
   ]
  },
  {
   "cell_type": "raw",
   "id": "0ec5e9c5-1cb1-4b92-ab8f-8f3b73e2adb1",
   "metadata": {},
   "source": [
    "gather会等待最耗时的那个完成之后才返回结果，耗时总时间取决于其中任务最长时间的那个。"
   ]
  },
  {
   "cell_type": "markdown",
   "id": "d217a7d9-39fd-4ad2-9b2f-97ea64be8ab6",
   "metadata": {},
   "source": [
    "### gather和await的区别:"
   ]
  },
  {
   "cell_type": "code",
   "execution_count": null,
   "id": "50651cce-ebb3-4289-abf8-1a23cb873c35",
   "metadata": {},
   "outputs": [],
   "source": [
    "https://blog.csdn.net/weixin_39791653/article/details/111700769"
   ]
  },
  {
   "cell_type": "code",
   "execution_count": null,
   "id": "2f21565c-8a03-4015-ac0f-fcb0e7365c74",
   "metadata": {},
   "outputs": [],
   "source": [
    "返回值:\n",
    "    gather: 结果列表,且是和传入的task的准许是对应的\n",
    "    wait: 包含两个集合的元组, ({done1,done2,...},\n",
    "                              {pending1,pending2,...}\n",
    "                             )\n",
    "终止:\n",
    "    gather: 无法取消\n",
    "    wait: 可以用 .cancel() 进行取消"
   ]
  },
  {
   "cell_type": "code",
   "execution_count": 23,
   "id": "b332a325-1ab8-4191-9cf2-cecd5e7db6e0",
   "metadata": {},
   "outputs": [],
   "source": [
    "async def num(n):\n",
    "    try:\n",
    "        await asyncio.sleep(n*0.1)\n",
    "        return n\n",
    "    except asyncio.CancelledError:\n",
    "        print(f\"数字{n}被取消\")\n",
    "        raise\n",
    "        \n",
    "async def main():\n",
    "    tasks = [asyncio.create_task(num(i)) for i in range(10)] \n",
    "    complete = await asyncio.gather(*tasks)\n",
    "    for done in complete:\n",
    "        print(\"实例:\",done)\n",
    "        # print(\"当前数字:\",done.result())\n"
   ]
  },
  {
   "cell_type": "code",
   "execution_count": 24,
   "id": "d8e16519-c4fd-4e1b-8aa5-dab0cbdc6899",
   "metadata": {},
   "outputs": [
    {
     "name": "stdout",
     "output_type": "stream",
     "text": [
      "实例: 0\n",
      "实例: 1\n",
      "实例: 2\n",
      "实例: 3\n",
      "实例: 4\n",
      "实例: 5\n",
      "实例: 6\n",
      "实例: 7\n",
      "实例: 8\n",
      "实例: 9\n"
     ]
    }
   ],
   "source": [
    "asyncio.run(main())"
   ]
  },
  {
   "cell_type": "markdown",
   "id": "c3587a44-9c22-4479-b8cf-6d4fce67e9e1",
   "metadata": {},
   "source": [
    "### asyncio.shield: 防止任务取消"
   ]
  },
  {
   "cell_type": "raw",
   "id": "44915615-70ee-4be3-9810-d8baa16be6ac",
   "metadata": {},
   "source": [
    "await asyncio.shield(*arg,*,loop=None)\n",
    "它本身也是 awaitable. 顾名思义: shield 就是屏蔽,保护的意思. 即保护一个awaitable对象防止取消, 一般情况下不建议使用, 而且在使用的过程中,最好使用try语句.\n",
    "\n",
    "try:\n",
    "    res = asyncio.shield(something())\n",
    "except:\n",
    "    res = None"
   ]
  },
  {
   "cell_type": "raw",
   "id": "9bfeb538-88e8-4c99-a69b-29ef105c4929",
   "metadata": {},
   "source": [
    "https://zhuanlan.zhihu.com/p/75193842"
   ]
  },
  {
   "cell_type": "markdown",
   "id": "21ab2ea6-79d2-4c72-ab61-51b86ed96434",
   "metadata": {},
   "source": [
    "### asyncio.wait_for: 设置超时"
   ]
  },
  {
   "cell_type": "raw",
   "id": "549412af-4fad-4a78-9990-16f576eaa2bf",
   "metadata": {},
   "source": [
    "await asyncio.wait_for(aw,timeout,*, loop=None)\n",
    "等待aw可等待对象完成,指定timeout后超时.\n",
    "\n",
    "aw: 如果aw是一个协程函数,会自动包装成一个任务task\n",
    "    如果aw是一个协程, 它将自动作为任务加入日程.\n",
    "    \n",
    "timeout: default None(一直等待,直到完成),或 float, int等待的秒数\n",
    "    1. 如果超时: 任务将取消并引发 asyncio.TimeoutError.\n",
    "    2. 要避免取消,可以加上shield().\n",
    "    3. 函数将等待直到目标对象确实被取消,所以总等待时间可能超过timeout指定的秒数.\n",
    "    4. 如果等待被取消,则aw指定的对象也会被取消.\n",
    "loop: 已经被弃用."
   ]
  },
  {
   "cell_type": "raw",
   "id": "40dbcdf3-ee68-489b-b963-709934445416",
   "metadata": {},
   "source": [
    "例4"
   ]
  },
  {
   "cell_type": "code",
   "execution_count": null,
   "id": "4b888636-8d86-489a-a8ed-6674810b0ad8",
   "metadata": {},
   "outputs": [],
   "source": [
    "async def eternity():\n",
    "    print(\"我马上开始执行...\")\n",
    "    await asyncio.sleep(3600)\n",
    "    print(\"终于轮到我了!!\")\n",
    "    \n",
    "async def main():\n",
    "    # wait for at most 1 second\n",
    "    try:\n",
    "        print(\"等你3秒钟\")\n",
    "        await asyncio.wait_for(eternity(),timeout=3)   \n",
    "        #或await asyncio.wait([asyncio.create_task(eternity())],timeout=3)\n",
    "        \n",
    "    except asyncio.TimeoutError:\n",
    "        print(\"超时了!\")\n",
    "        \n",
    "asyncio.run(main())   #可以试着用wait做对比"
   ]
  },
  {
   "cell_type": "code",
   "execution_count": null,
   "id": "1e54ce54-400e-4f49-b3d2-f9137fe07669",
   "metadata": {},
   "outputs": [],
   "source": [
    "async def eternity():\n",
    "    print(\"我马上开始执行...\")\n",
    "    await asyncio.sleep(2)\n",
    "    print(\"终于轮到我了!!\")\n",
    "    \n",
    "async def main():\n",
    "    # wait for at most 1 second\n",
    "    try:\n",
    "        print(\"等你3秒钟\")\n",
    "        await asyncio.wait_for(eternity(),timeout=3)   \n",
    "        #或await asyncio.wait([asyncio.create_task(eternity())],timeout=3)\n",
    "        \n",
    "    except asyncio.TimeoutError:\n",
    "        print(\"超时了!\")\n",
    "        \n",
    "asyncio.run(main())   #可以试着用wait做对比"
   ]
  },
  {
   "cell_type": "raw",
   "id": "253d9eeb-f545-4549-8489-4fee672ba5f8",
   "metadata": {},
   "source": [
    "总结：当异步操作需要执行的时间超过wait_for设置的timeout，就会触发异常，所以在编写程序的时候，如果要给异步操作设置timeout，一定要选择合适，如果异步操作本身的耗时较长，而你设置的timeout太短，会涉及到她还没做完，就抛出异常了。"
   ]
  },
  {
   "cell_type": "markdown",
   "id": "62fc64ba-9d72-439f-af3f-f057e0d07f07",
   "metadata": {},
   "source": [
    "### asyncio.as_completed:生成器"
   ]
  },
  {
   "cell_type": "raw",
   "id": "3eaf45c7-9326-4285-9c1a-1966f384b3df",
   "metadata": {},
   "source": [
    "asyncio.as_completed(aws,*,loop=None,timeout=None)\n",
    "\n",
    "as_completed是一个生成器,会管理指定的一个任务列表,并生成他们的结果. 每个协程结束时一次生成一个结果. 与wait一样,as_complete不能保证顺序,不过执行其它动作之前没有必要等待所有后台操作完成.\n",
    "\n",
    "aws: {},[], 里面的元素是 coroutine,task或者future\n",
    "timeout: 和上面的一样"
   ]
  },
  {
   "cell_type": "raw",
   "id": "8b086f5c-950b-4167-a2b9-4d2200041c45",
   "metadata": {},
   "source": [
    "例5"
   ]
  },
  {
   "cell_type": "code",
   "execution_count": null,
   "id": "9ffba679-3d1e-49bf-97da-2192cfaccfa0",
   "metadata": {},
   "outputs": [],
   "source": [
    "%%time\n",
    "\n",
    "async def slp5():\n",
    "    print(\"Slp5 start\")\n",
    "    await asyncio.sleep(5)\n",
    "    print(\"Slp5 finished\")\n",
    "    return \"HaHa5\"\n",
    "\n",
    "async def slp3():\n",
    "    print(\"Slp3 start\")\n",
    "    await asyncio.sleep(3)\n",
    "    print(\"Slp3 finished\")\n",
    "    return \"HaHa3\"    \n",
    "\n",
    "async def slp4():\n",
    "    print(\"Slp4 start\")\n",
    "    await asyncio.sleep(4)\n",
    "    print(\"Slp4 finished\")\n",
    "    return \"HaHa4\" \n",
    "\n",
    "async def main():\n",
    "    s = asyncio.as_completed({slp5(),slp3(),slp4()})\n",
    "    for f in s:         #必须要有这个循环,协程函数才会执行,因为 as_completed 返回的是迭代器\n",
    "        rlt = await f\n",
    "        print(rlt)\n",
    "        \n",
    "asyncio.run(main())"
   ]
  },
  {
   "cell_type": "raw",
   "id": "dbe6d010-a1b9-436d-9c8b-ec86ff6a24ed",
   "metadata": {},
   "source": [
    "结论：asyncio.as_completed()函数返回的是一个可迭代（iterator）的对象，对象的每个元素就是一个future对象，很多小伙伴说，这不是相当于没变吗？其实返回的future集合是对参数的future集合重新组合，组合的顺序就是，最先执行完的协程函数（coroutine、task、future）最先返回，从上面的代码可知，参数为\n",
    "aws={{sleep5(),sleep3(),sleep4()}},因为sleep5大约花费5秒、sleep3大约花费3秒、sleep4大约花费4秒。返回的结果为\n",
    "s={{sleep3(),sleep4(),sleep5()}}，因为sleep3()时间最短，故而放在前面，sleep5时间最长，故而放在最后面。然后对返回的集合s开始迭代。"
   ]
  },
  {
   "cell_type": "raw",
   "id": "e91ab3e0-0d7b-4f28-a57f-63d3ab081990",
   "metadata": {},
   "source": [
    "例6"
   ]
  },
  {
   "cell_type": "code",
   "execution_count": null,
   "id": "c0b6f3f2-d550-49a7-97fc-fd0947081853",
   "metadata": {},
   "outputs": [],
   "source": [
    "%%time\n",
    "\n",
    "async def foo(n):\n",
    "    print(\"Waiting:\",n)\n",
    "    await asyncio.sleep(n)\n",
    "    return n\n",
    "\n",
    "async def main():\n",
    "    cor1 = foo(1)\n",
    "    cor2 = foo(2)\n",
    "    cor3 = foo(3)\n",
    "    \n",
    "    tasks = [asyncio.ensure_future(cor1),\n",
    "            asyncio.ensure_future(cor2),\n",
    "             asyncio.ensure_future(cor3)\n",
    "            ]\n",
    "    \n",
    "    for task in asyncio.as_completed(tasks):\n",
    "        result = await task\n",
    "        print(f\"Task result {result}\")\n",
    "        \n",
    "loop = asyncio.get_event_loop()\n",
    "done = loop.run_until_complete(main())"
   ]
  },
  {
   "cell_type": "raw",
   "id": "99c613ec-46e8-4a76-9fdc-ecd43d214293",
   "metadata": {},
   "source": [
    "可以发现结果逐个输出。"
   ]
  },
  {
   "cell_type": "markdown",
   "id": "2b0d9b3f-ac57-4405-b8c5-199a90d99682",
   "metadata": {},
   "source": [
    "### 协程中调用普通函数"
   ]
  },
  {
   "cell_type": "raw",
   "id": "42d25e71-3c82-4782-aebc-a8a00e684928",
   "metadata": {},
   "source": [
    "关键字: call_soon, call_later, call_at\n",
    "\n",
    "在协程中可以通过一些方法去调用普通的函数,可以使用上面的这些关键字"
   ]
  },
  {
   "cell_type": "raw",
   "id": "0a67edb5-4af5-4408-a5d6-1c356cdd3e1d",
   "metadata": {},
   "source": [
    "call_soon\n",
    "\n",
    "loop.call_soon(callback,*args,context=None)\n",
    "在下一个迭代的事件循环中立刻调用回调函数,大部分的回调函数支持位置参数,而不支持\"关键字参数\", 如果是想要使用关键字参数,则推荐使用functools.aprtial()对方法进一步包装. 可选关键字context允许指定要运行的回调的自定义contextvars.Context.当没有提供上下文时使用当前上下文. 在python3.7中, asyncio协程加入了对下文的支持.\n",
    "使用上下文就可以在一些场景下隐士的传递变量, 比如数据库连接session等,而不需要在所有方法调用显示地传递这些变量."
   ]
  },
  {
   "cell_type": "raw",
   "id": "f7af2551-1ddd-4933-b832-8bc5541b2ed8",
   "metadata": {},
   "source": [
    "例7:"
   ]
  },
  {
   "cell_type": "code",
   "execution_count": null,
   "id": "90f46205-5d56-415e-9f2e-982eb2581f32",
   "metadata": {},
   "outputs": [],
   "source": [
    "def callback(args,*,kwargs=\"default\"):\n",
    "    time.sleep(2)\n",
    "    print(f\"普通函数为回调函数,获取参数:{args},{kwargs}\")\n",
    "    \n",
    "async def main(loop):\n",
    "    print(\"注册callback\")\n",
    "    loop.call_soon(callback,1)\n",
    "    \n",
    "    wrapped = functools.partial(callback,kwargs=\"not default\")\n",
    "    loop.call_soon(wrapped,2)\n",
    "    await asyncio.sleep(0.2)\n",
    "    \n",
    "loop = asyncio.get_event_loop()\n",
    "try:\n",
    "    loop.run_until_complete(main(loop))\n",
    "except Exception as e:\n",
    "    loop.close()"
   ]
  },
  {
   "cell_type": "raw",
   "id": "14a886a9-549a-418e-8f3c-3e43a08a1bf1",
   "metadata": {},
   "source": [
    "通过输出结果我们可以发现我们在协程中成功调用了一个普通函数，顺序的打印了1和2。\n",
    "有时候我们不想立即调用一个函数，此时我们就可以call_later延时去调用一个函数了。"
   ]
  },
  {
   "cell_type": "raw",
   "id": "7b0e92bc-c64d-4168-ab0a-0e42cea9ce14",
   "metadata": {},
   "source": [
    "call_later\n",
    "loop.call_later(delay,callback,*args,context=None)\n",
    "首先简单的说一下它的含义，就是事件循环在delay多长时间之后才执行callback函数。配合上面的call_soon让我们看一个小例子"
   ]
  },
  {
   "cell_type": "raw",
   "id": "a7ce8d8a-6a9a-45ce-b9d8-1b8317552b2b",
   "metadata": {},
   "source": [
    "例8:"
   ]
  },
  {
   "cell_type": "code",
   "execution_count": null,
   "id": "892aeeb3-1e20-456d-968a-13c82566d3d4",
   "metadata": {},
   "outputs": [],
   "source": [
    "def callback(n):\n",
    "    print(f\"callback {n} invoked\")\n",
    "    \n",
    "async def main(loop):\n",
    "    print(\"注册callbacks\")\n",
    "    loop.call_later(0.2,callback,1)\n",
    "    loop.call_later(0.1,callback,2)\n",
    "    loop.call_soon(callback,3)\n",
    "    await asyncio.sleep(0.4)\n",
    "    \n",
    "loop = asyncio.get_event_loop()\n",
    "try:\n",
    "    loop.run_until_complete(main(loop))\n",
    "except:\n",
    "    loop.close()"
   ]
  },
  {
   "cell_type": "raw",
   "id": "753a2f05-62dd-42d6-b133-697c97a18dde",
   "metadata": {},
   "source": [
    "通过上面的输出可以得到如下结果：\n",
    "    call_soon会在call_later之前执行，和它的位置在哪无关\n",
    "    call_later的第一个参数越小，越先执行。"
   ]
  },
  {
   "cell_type": "raw",
   "id": "720bed36-c554-4354-bf2e-71c474b73d80",
   "metadata": {},
   "source": [
    "call_at\n",
    "\n",
    "loop.call_at(when,callback,*args,context=None)\n",
    "\n",
    "when:  单调时间,它和我们平时说的系统时间有点差异,这里的时间指的是时间循环内部时间,可以通过loop.time()获取,然后可以在此基础上进行操作.后面的参数和前面的两个方法一样.实际上call_later内部就是调用call_at."
   ]
  },
  {
   "cell_type": "raw",
   "id": "0f5e73d6-9716-4e22-9245-932372f379a4",
   "metadata": {},
   "source": [
    "例9:"
   ]
  },
  {
   "cell_type": "code",
   "execution_count": null,
   "id": "00c025fb-fc0d-42b0-9bdd-953bd1fa4642",
   "metadata": {},
   "outputs": [],
   "source": [
    "def call_back(n,loop):\n",
    "    print(f\"callback {n} 运行时间点{loop.time()}\")\n",
    "    \n",
    "async def main(loop):\n",
    "    now = loop.time()\n",
    "    print(\"当前的内部时间:\",now)\n",
    "    print(\"循环时间:\",now)\n",
    "    print(\"注册callback\")\n",
    "    loop.call_at(now+0.1,call_back,1,loop)\n",
    "    loop.call_at(now+0.2,call_back,2,loop)\n",
    "    loop.call_soon(call_back,3,loop)\n",
    "    await asyncio.sleep(1)\n",
    "    \n",
    "loop = asyncio.get_event_loop()\n",
    "try:\n",
    "    print(\"进入事件循环\")\n",
    "    loop.run_until_complete(main(loop))\n",
    "except:\n",
    "    print(\"关闭循环\")\n",
    "    loop.close()"
   ]
  },
  {
   "cell_type": "raw",
   "id": "578176fe-a0f8-4be0-b722-802d4be5e784",
   "metadata": {},
   "source": [
    "因为call_later内部实现就是通过call_at实现。"
   ]
  },
  {
   "cell_type": "markdown",
   "id": "e820fc84-eb27-48de-9187-bfd5568f2996",
   "metadata": {},
   "source": [
    "### asyncio.Queue: 协程队列"
   ]
  },
  {
   "cell_type": "code",
   "execution_count": null,
   "id": "1770aa65-1fb3-4507-a581-d2346ce971f7",
   "metadata": {},
   "outputs": [],
   "source": [
    "https://www.jb51.net/article/123297.htm"
   ]
  },
  {
   "cell_type": "code",
   "execution_count": null,
   "id": "6fcbbb57-afe0-4eb1-9b53-52c0fdfbd313",
   "metadata": {},
   "outputs": [],
   "source": [
    "async def product(queue,n):\n",
    "    for x in range(n):\n",
    "        print('producing {}/{}'.format(x,n))\n",
    "        await asyncio.sleep(random.random())\n",
    "        item = str(x)\n",
    "        await queue.put(item)\n",
    "        \n",
    "async def consume(queue):\n",
    "    while True:\n",
    "        item = await queue.get()\n",
    "        print('consuming{}...'.format(item))\n",
    "        await asyncio.sleep(random.random())\n",
    "        # 通知队列该项目已被处理\n",
    "        queue.task_done()\n",
    "        \n",
    "async def main(n):\n",
    "    queue = asyncio.Queue(maxsize=4)\n",
    "    # 此时consume方法并没有真正开始运行\n",
    "    consumer = asyncio.ensure_future(consume(queue))\n",
    "    # 此时produce生产后，consume才开始运行\n",
    "    await product(queue,n)\n",
    "    # 等到消费者处理完所有项目\n",
    "    await queue.join()\n",
    "    # 消费者仍在等待商品，取消它\n",
    "    consumer.cancel()\n",
    "    \n",
    "if __name__ == '__main__':\n",
    "    loop = asyncio.get_event_loop()\n",
    "    loop.run_until_complete(main(10))"
   ]
  },
  {
   "cell_type": "raw",
   "id": "f737dd48-4ff7-4ccf-9e79-a9afe57cfe9f",
   "metadata": {},
   "source": [
    "程序通过produce方法把10个任务放入Queue中，通过consume方法进行消费回收。\n",
    "在此，要想强调一下关于Queue.put_nowait方法，官方的解释是：\n",
    "意思是将item放入无阻塞的queue中，如果没有可用的插槽（即没有存放空间），就抛出QueueFull异常。把上面的程序改一下："
   ]
  },
  {
   "cell_type": "code",
   "execution_count": null,
   "id": "9ddf346f-575f-4f9e-8fd3-6f1c00c2bcb8",
   "metadata": {
    "tags": []
   },
   "outputs": [],
   "source": [
    "async def produce(queue,n):\n",
    "    for x in range(n):\n",
    "        print('producing {}/{}'.format(x,n))\n",
    "        await asyncio.sleep(random.random())\n",
    "        item = str(x)\n",
    "        #替换 await queue.put(item)\n",
    "        queue.put_nowait(item)\n",
    "        #打印当前queue里面item存放数量\n",
    "        print('qsize:',queue.qsize())\n",
    "    \n",
    "async def main(n):\n",
    "    queue = asyncio.Queue(maxsize=3)\n",
    "    await produce(queue, n)\n",
    "    \n",
    "if __name__ == '__main__':\n",
    "    loop = asyncio.get_event_loop()\n",
    "    loop.run_until_complete(main(7))\n",
    "    loop.close()\n",
    "    \n",
    "# 将await put方法替换成了put_nowait方法，将Queue的容量设为3个，而生产的任务设为6个。结果如下：\n",
    "# 可以看出，在生产第4个任务的时候，因为Queue的容量只有3个，所以抛出QueueFull错误，符合预期要求。\n",
    "\n",
    "# 注意，上面的程序只使用了produce方法，没有调用consume方法，因为我们一边调用produce，一边调用consume时，consume方法会将完成的任务进行回收。相当于出水管将水抽出水池，而入水管又将水抽入，有可能永远也不会满（即抛出QueueFull异常）。"
   ]
  },
  {
   "cell_type": "markdown",
   "id": "68a5e9cc-fbfc-43c0-9e6b-efc18e89f15a",
   "metadata": {},
   "source": [
    "### asyncio.Lock"
   ]
  },
  {
   "cell_type": "raw",
   "id": "39c2eb88-5602-46c6-b491-11b34bd46ade",
   "metadata": {},
   "source": [
    "多个函数调用同一个异步函数的时候，被调用函数可能在执行同一个参数对象；\n",
    "\n",
    "例如多个 func() 调用同一个包含 request 功能的异步函数，其请求的 url 可能是同一个 url，这样就会有重复的请求，实际生产中这是不能被允许的；\n",
    "\n",
    "这个时候就需要使用 asyncio 内置的 Lock，保证 url 不被重复调用，此处的 Lock 是应用级别实现的，并没有没有像线程锁一样深入操作系统；示例代码如下："
   ]
  },
  {
   "cell_type": "code",
   "execution_count": 4,
   "id": "eefce02d-d03b-486a-a728-ee47fe801726",
   "metadata": {},
   "outputs": [
    {
     "name": "stderr",
     "output_type": "stream",
     "text": [
      "<ipython-input-4-d19c63fe73fc>:22: RuntimeWarning: coroutine 'use_stuff' was never awaited\n",
      "  tasks = [parse_sutff(), use_stuff()]\n",
      "RuntimeWarning: Enable tracemalloc to get the object allocation traceback\n",
      "<ipython-input-4-d19c63fe73fc>:22: RuntimeWarning: coroutine 'parse_sutff' was never awaited\n",
      "  tasks = [parse_sutff(), use_stuff()]\n",
      "RuntimeWarning: Enable tracemalloc to get the object allocation traceback\n"
     ]
    },
    {
     "data": {
      "text/plain": [
       "(set(),\n",
       " {<Task pending name='Task-2' coro=<use_stuff() running at <ipython-input-4-d19c63fe73fc>:19> wait_for=<Future pending cb=[Task.__wakeup()]>>,\n",
       "  <Task pending name='Task-3' coro=<parse_sutff() running at <ipython-input-4-d19c63fe73fc>:15> wait_for=<Future pending cb=[Task.__wakeup()]>>})"
      ]
     },
     "execution_count": 4,
     "metadata": {},
     "output_type": "execute_result"
    }
   ],
   "source": [
    "cache = {}\n",
    "lock = asyncio.Lock()\n",
    " \n",
    "async def get_stuff(url):\n",
    "    await lock.acquire()\n",
    "    async with lock:\n",
    "        if url in cache:\n",
    "            return cache[url]\n",
    "        stuff = await aiohttp.request('GET', url)\n",
    "        cache[url] = stuff\n",
    "        return stuff\n",
    "    lock.release()\n",
    "\n",
    "async def parse_sutff():\n",
    "    stuff = await get_stuff(r\"https://www.baidu.com/\")\n",
    "    # do some parsing\n",
    "    \n",
    "async def use_stuff():\n",
    "    stuff = await get_stuff(r\"https://www.baidu.com/\")\n",
    "    # use stuff to do something interesting\n",
    "    \n",
    "tasks = [parse_sutff(), use_stuff()]\n",
    "loop = asyncio.get_event_loop()\n",
    "loop.run_until_complete(asyncio.wait(tasks,timeout=10))"
   ]
  },
  {
   "cell_type": "markdown",
   "id": "47d95e45-a5d5-48f4-a817-4061d44f924d",
   "metadata": {},
   "source": [
    "### loop.run_in_executor: 异步+threadPool/ProcessPool"
   ]
  },
  {
   "cell_type": "raw",
   "id": "25d79891-56d7-48f5-a1e3-56571dad2823",
   "metadata": {},
   "source": [
    "线程池:\n",
    "    前面的代码都是异步的,就如sleep,需要用asyncio.sleep而不是time.sleep,如果有同步逻辑,怎么利用asyncio实现并发呢? 答案是用 run_in_executor\n",
    "    loop.run_in_executor(None,a)这里面第一个参数是要传递 concurrent.futures.Executor实例的,传递None会选择默认的exector:"
   ]
  },
  {
   "cell_type": "code",
   "execution_count": 13,
   "id": "e47fba92-dd4c-4dd6-baa2-3205dea3d1c9",
   "metadata": {},
   "outputs": [
    {
     "name": "stdout",
     "output_type": "stream",
     "text": [
      "0.0019960403442382812\n"
     ]
    }
   ],
   "source": [
    "async def random_sleep(num):\n",
    "    print(f'sleep start:{num}s')\n",
    "    await asyncio.sleep(num)\n",
    "    print(f\"sleep endswith: {num}s\")\n",
    "\n",
    "async def main():\n",
    "    executor = ThreadPoolExecutor(5)\n",
    "    tasks = []\n",
    "    for _ in range(5):\n",
    "        sleep_time = random.randint(1,5)\n",
    "        task = loop.run_in_executor(executor,random_sleep,sleep_time)\n",
    "        tasks.append(task)\n",
    "        \n",
    "    done,pending = await asyncio.wait(tasks,timeout=(3))\n",
    "\n",
    "if __name__ == '__main__':\n",
    "\n",
    "    start_time = time.time()\n",
    "    loop = asyncio.get_event_loop()\n",
    "    loop.run_until_complete(main())\n",
    "    print(time.time()-start_time)\n",
    "    # loop.close()"
   ]
  },
  {
   "cell_type": "raw",
   "id": "4e582aac-98f7-43de-b693-a2cbda320501",
   "metadata": {},
   "source": [
    "进程池:"
   ]
  },
  {
   "cell_type": "code",
   "execution_count": 1,
   "id": "62771f76-4d9e-4068-9060-3d094f1957c8",
   "metadata": {},
   "outputs": [],
   "source": [
    "from concurrent.futures import ProcessPoolExecutor"
   ]
  },
  {
   "cell_type": "code",
   "execution_count": 5,
   "id": "b6aee71d-0232-445f-b0e1-b33bbd5ba3a5",
   "metadata": {},
   "outputs": [
    {
     "name": "stderr",
     "output_type": "stream",
     "text": [
      "Future exception was never retrieved\n",
      "future: <Future finished exception=BrokenProcessPool('A process in the process pool was terminated abruptly while the future was running or pending.')>\n",
      "concurrent.futures.process.BrokenProcessPool: A process in the process pool was terminated abruptly while the future was running or pending.\n",
      "Future exception was never retrieved\n",
      "future: <Future finished exception=BrokenProcessPool('A process in the process pool was terminated abruptly while the future was running or pending.')>\n",
      "concurrent.futures.process.BrokenProcessPool: A process in the process pool was terminated abruptly while the future was running or pending.\n",
      "Future exception was never retrieved\n",
      "future: <Future finished exception=BrokenProcessPool('A process in the process pool was terminated abruptly while the future was running or pending.')>\n",
      "concurrent.futures.process.BrokenProcessPool: A process in the process pool was terminated abruptly while the future was running or pending.\n",
      "Future exception was never retrieved\n",
      "future: <Future finished exception=BrokenProcessPool('A process in the process pool was terminated abruptly while the future was running or pending.')>\n",
      "concurrent.futures.process.BrokenProcessPool: A process in the process pool was terminated abruptly while the future was running or pending.\n",
      "Future exception was never retrieved\n",
      "future: <Future finished exception=BrokenProcessPool('A process in the process pool was terminated abruptly while the future was running or pending.')>\n",
      "concurrent.futures.process.BrokenProcessPool: A process in the process pool was terminated abruptly while the future was running or pending.\n"
     ]
    },
    {
     "name": "stdout",
     "output_type": "stream",
     "text": [
      "end time: 0.39392924308776855\n"
     ]
    }
   ],
   "source": [
    "def random_sleep(num):\n",
    "    print(f\"sleep start: {num}s\")\n",
    "    time.sleep(num)\n",
    "    print(f\"End: {num}s\")\n",
    "    \n",
    "async def main():\n",
    "    executor = ProcessPoolExecutor(5)\n",
    "    tasks = []\n",
    "    for _ in range(5):\n",
    "        sleep_time = random.randint(1,5)\n",
    "        task = loop.run_in_executor(executor,random_sleep,sleep_time)\n",
    "        tasks.append(task)\n",
    "    await asyncio.wait(tasks)\n",
    "    \n",
    "if __name__ == '__main__':  \n",
    "    start_time = time.time()\n",
    "    loop = asyncio.get_event_loop()\n",
    "    loop.run_until_complete(main())\n",
    "    # asyncio.run(main())\n",
    "    \n",
    "    print('end time: {}'.format(time.time()-start_time))"
   ]
  },
  {
   "cell_type": "markdown",
   "id": "8cc460c1-c41b-4351-a9ae-19c3dc601405",
   "metadata": {},
   "source": [
    "### run_coroutine_threadsafe: 在其它线程执行协程"
   ]
  },
  {
   "cell_type": "code",
   "execution_count": 6,
   "id": "2dae8747-cc47-4748-bf42-9d06d8e01a8f",
   "metadata": {},
   "outputs": [],
   "source": [
    "from threading import Thread\n",
    "from functools import partial"
   ]
  },
  {
   "cell_type": "code",
   "execution_count": 8,
   "id": "077887a1-8643-4e81-bbe1-4d02c74092cd",
   "metadata": {},
   "outputs": [
    {
     "name": "stdout",
     "output_type": "stream",
     "text": [
      "<Future at 0x1bb8479d880 state=pending>\n",
      "Resutl:A\n"
     ]
    }
   ],
   "source": [
    "async def a():\n",
    "    time.sleep(1)\n",
    "    return 'A'\n",
    "\n",
    "def start_loop(loop):\n",
    "    asyncio.set_event_loop(loop)\n",
    "    loop.run_forever()\n",
    "    \n",
    "def shutdown(loop):\n",
    "    loop.stop()\n",
    "    \n",
    "if __name__ == '__main__':\n",
    "    new_loop = asyncio.new_event_loop()\n",
    "    t = Thread(target=start_loop,args=(new_loop,))\n",
    "    t.start()\n",
    "    future = asyncio.run_coroutine_threadsafe(a(),new_loop)\n",
    "    print(future)\n",
    "    print(f\"Resutl:{future.result(timeout=2)}\")\n",
    "    new_loop.call_soon_threadsafe(partial(shutdown,new_loop))"
   ]
  },
  {
   "cell_type": "raw",
   "id": "2af36fbd-c9e7-47f7-a5dd-0a5749d3e185",
   "metadata": {},
   "source": [
    "这里面有几个细节要注意:\n",
    "   1. 协程应该从另一个线程中调用，而非事件循环运行所在线程，所以用asyncio.new_event_loop()新建一个事件循环。\n",
    "   2. 在执行协程前要确保新创建的事件循环是运行着的，所以需要用start_loop之类的方式启动循环\n",
    "   3. 接着就可以用asyncio.run_coroutine_threadsafe执行协程 a 了，它返回了一个 Future 对象。\n",
    "   4. 可以通过输出感受到 future 一开始是 pending 的，因为协程 a 里面会 sleep 1 秒才返回结果。\n",
    "   5. 用future.result (timeout=2)就可以获得结果，设置 timeout 的值要大于 a 协程执行时间，要不然会抛出 TimeoutError。\n",
    "   6. 一开始我们创建的新的事件循环跑在一个线程里面，由于loop.run_forever会阻塞程序关闭，所以需要结束时杀掉线程，所以用call_soon_threadsafe回调函数 shutdown 去停止事件循环。\n",
    "   \n",
    "这里再说一下call_soon_threadsafe，看名字就知道它是线程安全版本的call_soon，其实就是在另外一个线程里面调度回调。BTW， 其实asyncio.run_coroutine_threadsafe底层也是用的它。"
   ]
  },
  {
   "cell_type": "markdown",
   "id": "42f91adf-996e-4ea6-9ba1-ed10a192c1db",
   "metadata": {},
   "source": [
    "### asyncio.Semaphore: 信号量"
   ]
  },
  {
   "cell_type": "raw",
   "id": "0fce56ff-daff-49fc-b926-c7263e580914",
   "metadata": {},
   "source": [
    "# 用法:\n",
    "class asyncio.Semaphore(value=1)\n",
    "一个信号量对象.不是线程安全的.\n",
    "信号量管理一个内部计数器,该计数器由每个acquire()调用递减,并由每个release()调用递增.计数器永远不会低于零; 当acquire()发现它为零时,它会阻塞,等待某些任务调用release().\n",
    "可选value参数给出内部计数器的初始值(默认为1). 如果给定小于0,则会引发ValueError."
   ]
  }
 ],
 "metadata": {
  "kernelspec": {
   "display_name": "Python 38",
   "language": "python",
   "name": "python3"
  },
  "language_info": {
   "codemirror_mode": {
    "name": "ipython",
    "version": 3
   },
   "file_extension": ".py",
   "mimetype": "text/x-python",
   "name": "python",
   "nbconvert_exporter": "python",
   "pygments_lexer": "ipython3",
   "version": "3.8.6"
  },
  "toc": {
   "base_numbering": 1,
   "nav_menu": {},
   "number_sections": true,
   "sideBar": true,
   "skip_h1_title": false,
   "title_cell": "Table of Contents",
   "title_sidebar": "Contents",
   "toc_cell": false,
   "toc_position": {},
   "toc_section_display": true,
   "toc_window_display": false
  },
  "toc-autonumbering": true
 },
 "nbformat": 4,
 "nbformat_minor": 5
}
