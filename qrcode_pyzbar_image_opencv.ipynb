{
 "cells": [
  {
   "cell_type": "code",
   "execution_count": null,
   "id": "6ff5c9b3",
   "metadata": {},
   "outputs": [],
   "source": [
    "import qrcode\n",
    "import pyzbar.pyzbar as pyzbar\n",
    "from PIL import Image,ImageEnhance,ImageTk\n",
    "import cv2\n",
    "import time\n",
    "import tkinter as tk\n",
    "\n",
    "\n",
    "from tkinter.filedialog import askopenfilename, askdirectory\n",
    "from tkinter.messagebox import askquestion\n",
    "# from demo_neo import Extractor\n",
    "import os\n",
    "import threading\n",
    "import numpy as np\n",
    "import uuid\n",
    "import pdb"
   ]
  },
  {
   "cell_type": "markdown",
   "id": "d98fe7df",
   "metadata": {},
   "source": [
    "# 函数准备"
   ]
  },
  {
   "cell_type": "code",
   "execution_count": null,
   "id": "c676b17d",
   "metadata": {},
   "outputs": [],
   "source": [
    "def Showimage(imgCV_in,canva,layout=\"null\"):\n",
    "    \"\"\"\n",
    "    Showimage()是一个用于在tkinter的canvas控件中显示OpenCV图像的函数。\n",
    "    使用前需要先导入库\n",
    "    import cv2 as cv\n",
    "    from PIL import Image,ImageTktkinter\n",
    "    并注意由于响应函数的需要，本函数定义了一个全局变量 imgTK，请不要在其他地方使用这个变量名!\n",
    "    参数：\n",
    "    imgCV_in：待显示的OpenCV图像变量\n",
    "    canva：用于显示的tkinter canvas画布变量\n",
    "    layout：显示的格式。可选项为：\n",
    "        \"fill\"：图像自动适应画布大小，并完全填充，可能会造成画面拉伸\n",
    "        \"fit\"：根据画布大小，在不拉伸图像的情况下最大程度显示图像，可能会造成边缘空白\n",
    "        给定其他参数或者不给参数将按原图像大小显示，可能会显示不全或者留空\n",
    "    \"\"\"\n",
    "    global imgTK\n",
    "    canvawidth = int(canva.winfo_reqwidth())\n",
    "    canvaheight = int(canva.winfo_reqheight())\n",
    "    sp = imgCV_in.shape\n",
    "    cvheight = sp[0]#height(rows) of image\n",
    "    cvwidth = sp[1]#width(colums) of image\n",
    "    if (layout == \"fill\"):\n",
    "        imgCV = cv2.resize(imgCV_in,(canvawidth,canvaheight), interpolation=cv2.INTER_AREA)\n",
    "    elif(layout == \"fit\"):\n",
    "        if (float(cvwidth/cvheight) > float(canvawidth/canvaheight)):\n",
    "            imgCV = cv2.resize(imgCV_in,(canvawidth,int(canvawidth*cvheight/cvwidth)), interpolation=cv2.INTER_AREA)\n",
    "        else:\n",
    "            imgCV = cv2.resize(imgCV_in,(int(canvaheight*cvwidth/cvheight),canvaheight), interpolation=cv2.INTER_AREA)\n",
    "    else:\n",
    "        imgCV = imgCV_in\n",
    "    imgCV2 = cv2.cvtColor(imgCV, cv2.COLOR_BGR2RGBA)#转换颜色从BGR到RGBA\n",
    "    current_image = Image.fromarray(imgCV2)#将图像转换成Image对象\n",
    "    imgTK = ImageTk.PhotoImage(image=current_image)#将image对象转换为imageTK对象\n",
    "    canva.create_image(0,0,anchor = 'nw', image = imgTK)"
   ]
  },
  {
   "cell_type": "markdown",
   "id": "a3ce6c26",
   "metadata": {},
   "source": [
    "# 读取解析二维码"
   ]
  },
  {
   "cell_type": "code",
   "execution_count": null,
   "id": "24ccd065",
   "metadata": {},
   "outputs": [],
   "source": [
    "# 1. 读取二维码图片\n",
    "qrcode = cv2.imread(r\".\\testfile\\weixin.jpg\")  #返回的是二维数组\n",
    "# Image.open(path)也可以打开，返回的是？？？，\n",
    "\n",
    "\n",
    "# 2. 解析二维码中的数据\n",
    "data = pyzbar.decode(qrcode)   #返回二维码decoded列表\n",
    "\n",
    "# 3. 在数据中解析出二维码的data信息\n",
    "text = data[0].data.decode(\"utf8\")\n",
    "print(text)"
   ]
  },
  {
   "cell_type": "code",
   "execution_count": null,
   "id": "95f463e1",
   "metadata": {},
   "outputs": [],
   "source": [
    "# 解析出来的二维码内容：\n",
    "data"
   ]
  },
  {
   "cell_type": "code",
   "execution_count": null,
   "id": "80f0b054",
   "metadata": {},
   "outputs": [],
   "source": [
    "imgph = r\".\\testfile\\qrcode.jpg\"\n",
    "img = Image.open(imgph)\n",
    "# img = cv2.imread(imgph)\n",
    "barcodes = pyzbar.decode(img)"
   ]
  },
  {
   "cell_type": "code",
   "execution_count": null,
   "id": "5c8253ff",
   "metadata": {},
   "outputs": [],
   "source": [
    "barcodes"
   ]
  },
  {
   "cell_type": "markdown",
   "id": "04974e0e",
   "metadata": {},
   "source": [
    "# 调用摄像头"
   ]
  },
  {
   "cell_type": "code",
   "execution_count": null,
   "id": "59bb609f",
   "metadata": {},
   "outputs": [],
   "source": [
    "# 在opencv中提供了1\n",
    "# 用摄像头的步骤如下：\n",
    "# 1.调用摄像头 \n",
    "cap = cv2.VideoCapture(2)\n",
    "\n",
    "# 2.循环 \n",
    "while True:\n",
    "    ret,frame = cap.read()     #读取一帧画面\n",
    "    cv2.imshow('scan qrcode',frame)   #显示当前帧\n",
    "    \n",
    "    data = pyzbar.decode(frame)\n",
    "    print(data)\n",
    "    key = cv2.waitKey(10)   #等待键盘输入\n",
    "    \n",
    "    a = input(\"input:\")\n",
    "    if a in ['q']:\n",
    "        break\n",
    "    \n",
    "    \n",
    "    if key == ord('q'):   #当按下q键时关闭摄像头\n",
    "        break\n",
    "\n",
    "        cv2.destroyAllWindows   #销毁所有窗口"
   ]
  },
  {
   "cell_type": "code",
   "execution_count": null,
   "id": "367e6b06",
   "metadata": {},
   "outputs": [],
   "source": [
    "window = tk.Tk(className=\"qrcode\")\n",
    "window.geometry(\"1000x500\")\n",
    "\n",
    "img = tk.PhotoImage(file=r\".\\testfile\\pic.gif\")\n",
    "\n",
    "cs = tk.Canvas(window,background = \"white\",height=500,width=1000)\n",
    "image = cs.create_image(250,0,anchor='nw',image=img)\n",
    "\n",
    "cs.pack()\n",
    "window.mainloop()"
   ]
  },
  {
   "cell_type": "code",
   "execution_count": null,
   "id": "52c84c15",
   "metadata": {},
   "outputs": [],
   "source": [
    "window = tk.Tk(className=\"qrcode\")\n",
    "window.geometry(\"1000x500\")\n",
    "canvas = tk.Canvas(window,bg=\"green\",height=500,width=500)\n",
    "\n",
    "# 说明图片位置,并导入图片到画布上\n",
    "image_file = tk.PhotoImage(file=r\".\\testfile\\pic.gif\",)\n",
    "image = canvas.create_image(250,0,anchor='nw',image=image_file)\n",
    "\n",
    "# 定义多边形参数,然后在画布上画出指定图形\n",
    "# x0,y0,x1,y1 = 100,100,150,150\n",
    "# line = canvas.create_line(x0-50,y0-50,x1-50,y1-50)\n",
    "# oval = canvas.create_oval(x0+120,y0+120,x1+120,y1+50,fill='yellow')\n",
    "# arc = canvas.create_arc(x0,y0+50,x1,y1+50,start=0,extent=180)\n",
    "# rect = canvas.create_rectangle(330,30,330+20,30+20)\n",
    "canvas.pack()\n",
    "window.mainloop()"
   ]
  },
  {
   "cell_type": "markdown",
   "id": "d9aab45b",
   "metadata": {},
   "source": [
    "## 将openCV图像显示在tkinter canvas中"
   ]
  },
  {
   "cell_type": "code",
   "execution_count": null,
   "id": "6fdf7a7e",
   "metadata": {},
   "outputs": [],
   "source": [
    "from tkinter import *\n",
    "import cv2 as cv\n",
    "from PIL import Image,ImageTk\n",
    "\n",
    "def Showimage(imgCV_in,canva,layout=\"null\"):\n",
    "    \"\"\"\n",
    "    Showimage()是一个用于在tkinter的canvas控件中显示OpenCV图像的函数。\n",
    "    使用前需要先导入库\n",
    "    import cv2 as cv\n",
    "    from PIL import Image,ImageTktkinter\n",
    "    并注意由于响应函数的需要，本函数定义了一个全局变量 imgTK，请不要在其他地方使用这个变量名!\n",
    "    参数：\n",
    "    imgCV_in：待显示的OpenCV图像变量\n",
    "    canva：用于显示的tkinter canvas画布变量\n",
    "    layout：显示的格式。可选项为：\n",
    "        \"fill\"：图像自动适应画布大小，并完全填充，可能会造成画面拉伸\n",
    "        \"fit\"：根据画布大小，在不拉伸图像的情况下最大程度显示图像，可能会造成边缘空白\n",
    "        给定其他参数或者不给参数将按原图像大小显示，可能会显示不全或者留空\n",
    "    \"\"\"\n",
    "    global imgTK\n",
    "    canvawidth = int(canva.winfo_reqwidth())\n",
    "    canvaheight = int(canva.winfo_reqheight())\n",
    "    sp = imgCV_in.shape\n",
    "    cvheight = sp[0]#height(rows) of image\n",
    "    cvwidth = sp[1]#width(colums) of image\n",
    "    if (layout == \"fill\"):\n",
    "        imgCV = cv.resize(imgCV_in,(canvawidth,canvaheight), interpolation=cv.INTER_AREA)\n",
    "    elif(layout == \"fit\"):\n",
    "        if (float(cvwidth/cvheight) > float(canvawidth/canvaheight)):\n",
    "            imgCV = cv.resize(imgCV_in,(canvawidth,int(canvawidth*cvheight/cvwidth)), interpolation=cv.INTER_AREA)\n",
    "        else:\n",
    "            imgCV = cv.resize(imgCV_in,(int(canvaheight*cvwidth/cvheight),canvaheight), interpolation=cv.INTER_AREA)\n",
    "    else:\n",
    "        imgCV = imgCV_in\n",
    "    imgCV2 = cv.cvtColor(imgCV, cv.COLOR_BGR2RGBA)#转换颜色从BGR到RGBA\n",
    "    current_image = Image.fromarray(imgCV2)#将图像转换成Image对象\n",
    "    imgTK = ImageTk.PhotoImage(image=current_image)#将image对象转换为imageTK对象\n",
    "    canva.create_image(0,0,anchor = NW, image = imgTK)\n",
    "\n",
    "root = Tk(className=\"JPG in Canvas\")\n",
    "root.geometry(\"1000x800\")\n",
    "# root.title(\"OpenCV Win\")\n",
    "\n",
    "canva = Canvas(root, width=800, height=600,bg=\"gray\")\n",
    "canva.pack()\n",
    "\n",
    "img = cv.imread(r\".\\testfile\\qrcode.jpg\")\n",
    "\n",
    "Showimage(img,canva,\"fill\")\n",
    "root.mainloop()"
   ]
  },
  {
   "cell_type": "markdown",
   "id": "7e718e96",
   "metadata": {},
   "source": [
    "## openCV 将拍的照片显示在canvas中"
   ]
  },
  {
   "cell_type": "markdown",
   "id": "5f71cc79",
   "metadata": {},
   "source": [
    "### 方法一："
   ]
  },
  {
   "cell_type": "code",
   "execution_count": null,
   "id": "83b32a69",
   "metadata": {},
   "outputs": [],
   "source": [
    "\n",
    "# from GUI.widgets import *\n",
    "class Extractor_GUI():\n",
    "    def __init__(self):\n",
    "        self.__init_gui()\n",
    "        # self.__init_model()\n",
    "    def __init_gui(self):\n",
    "       \n",
    "        self.window = tk.Tk()\n",
    "        self.window.wm_title('VideoText')\n",
    "        self.window.config(background = '#FFFFFF')\n",
    "\n",
    "        self.canvas = tk.Canvas(self.window, width = 800, height = 800)\n",
    "        self.canvas.grid(row = 0, column = 0)\n",
    "\n",
    "        self.fm_control = tk.Frame(self.window, width=800, height=100, background = '#FFFFFF')\n",
    "        self.fm_control.grid(row = 1, column=0, padx=10, pady=2)\n",
    "        self.btn_prev_frame = tk.Button(self.fm_control, text='Start', command = self.__action_read_frame)\n",
    "        self.btn_prev_frame.grid(row = 0, column=0, padx=10, pady=2)\n",
    "        self.lb_current_frame = tk.Label(self.fm_control, background = '#FFFFFF')\n",
    "        self.lb_current_frame.grid(row = 0, column=1, padx=10, pady=2)\n",
    "        self.lb_current_frame['text'] = '----'\n",
    "        self.btn_next_frame = tk.Button(self.fm_control, text='Next Frame', command = None)\n",
    "        self.btn_next_frame.grid(row = 0, column=2, padx=10, pady=2)\n",
    "\n",
    "\n",
    "        self.fm_status = tk.Frame(self.window, width = 100, height = 100, background = '#FFFFFF')\n",
    "        self.fm_status.grid(row = 0, column=1, padx=10, pady=2)\n",
    " \n",
    "        self.btn_prev_frame1 = tk.Button(self.fm_status, text='Start1', command = self.__action_read_frame)\n",
    "        self.btn_prev_frame1.grid(row = 0, column=0, padx=10, pady=2)\n",
    "        \n",
    "\n",
    "        self.btn_next_frame3 = tk.Button(self.fm_status, text='Start2', command = None)\n",
    "        self.btn_next_frame3.grid(row = 1, column=0, padx=10, pady=20)\n",
    "\n",
    "\n",
    "    def __action_read_frame(self):\n",
    "        self.from_video()\n",
    "\n",
    "    def from_video(self):\n",
    "\n",
    "        cap = cv2.VideoCapture(0)\n",
    "        idx = 0\n",
    "        while True:\n",
    "            ret,frame = cap.read()\n",
    "            # print(frame)\n",
    "#             img = cv2.transpose(frame)\n",
    "#             img = cv2.flip(img,1)\n",
    "#             print(img.shape)\n",
    "\n",
    "#             self.canvas.create_image(img)\n",
    "\n",
    "            Showimage(frame,self.canvas,layout=\"null\")\n",
    "            self.window.update_idletasks()\n",
    "            self.window.update()\n",
    "#             break\n",
    "\n",
    "    def launch(self):\n",
    "        self.window.mainloop()\n",
    "\n",
    "\n",
    "if __name__ == '__main__':\n",
    "    ext = Extractor_GUI()\n",
    "    ext.launch()\n",
    "    ext.from_video()"
   ]
  },
  {
   "cell_type": "markdown",
   "id": "9d246e4e",
   "metadata": {},
   "source": [
    "### 方法二："
   ]
  },
  {
   "cell_type": "code",
   "execution_count": null,
   "id": "1ff3c344",
   "metadata": {},
   "outputs": [],
   "source": [
    "cap = cv2.VideoCapture(0)\n",
    "\n",
    "def img_cp():\n",
    "    ret,frame = cap.read()\n",
    "    Showimage(frame,cs,layout='fit')\n",
    "\n",
    "def closeC():\n",
    "    cap.release()\n",
    "    cv2.destroyAllWindows()\n",
    "    \n",
    "\n",
    "window = tk.Tk(className=\"capture\")\n",
    "window.geometry(\"1000x800\")\n",
    "\n",
    "\n",
    "cs = tk.Canvas(window,height=500,width=500,background='white')\n",
    "b = tk.Button(window,text=\"拍照\",width=50,height=2,command=img_cp)\n",
    "closeb = tk.Button(window,text=\"关闭摄像头\",width=50,height=2,command=closeC)\n",
    "cs.pack()\n",
    "b.pack()\n",
    "closeb.pack()\n",
    "    \n",
    "window.mainloop()"
   ]
  },
  {
   "cell_type": "code",
   "execution_count": null,
   "id": "fb6b5578",
   "metadata": {},
   "outputs": [],
   "source": []
  },
  {
   "cell_type": "markdown",
   "id": "84208fb7",
   "metadata": {},
   "source": [
    "## 摄像头识别二维码，并标识"
   ]
  },
  {
   "cell_type": "code",
   "execution_count": null,
   "id": "7da1cd9c",
   "metadata": {},
   "outputs": [],
   "source": [
    "import numpy as np\n",
    "# import matplotlib.pyplot as plt\n",
    "import cv2\n",
    "import time\n",
    "\n",
    "from pyzbar.pyzbar import decode\n",
    "\n",
    "\n",
    "cap = cv2.VideoCapture(0)\n",
    "cap.set(3, 640)\n",
    "cap.set(4, 480)\n",
    "\n",
    "while True:\n",
    "\n",
    "    success, img = cap.read()\n",
    "\n",
    "    for barcode in decode(img):\n",
    "       \n",
    "        codeData = barcode.data.decode('utf-8')\n",
    "        print(time.strftime(\"%H:%M:%S-\")+codeData)\n",
    "        pts = np.array([barcode.polygon],np.int32)\n",
    "        pts = pts.reshape((-1,1,2))\n",
    "        cv2.polylines(img,[pts],True,(10,0,255),5)\n",
    "        pts2 = barcode.rect\n",
    "        cv2.putText(img,time.strftime(\"%H:%M:%S-\")+codeData,(pts2[0],pts2[1]),cv2.FONT_HERSHEY_SIMPLEX,0.9,(255,0,255),2)\n",
    "\n",
    "    cv2.imshow('image', img)\n",
    "    key = cv2.waitKey(10)\n",
    "    if key == ord(\"q\"):\n",
    "        \n",
    "        cap.release()\n",
    "        \n",
    "        break\n",
    "cv2.destroyAllWindows()   #销毁所有窗口"
   ]
  },
  {
   "cell_type": "code",
   "execution_count": null,
   "id": "d52ba7a2",
   "metadata": {},
   "outputs": [],
   "source": [
    "import cv2 \n",
    "from pyzbar import pyzbar\n",
    "def scan_qrcode(qrcode):\n",
    "    data = pyzbar.decode(qrcode)\n",
    "    return data[0].data.decode('utf-8')\n",
    "\n",
    "cap = cv2.VideoCapture(0)\n",
    "while True:\n",
    "    ret, frame = cap.read()\n",
    "    cv2.imshow('scan qrcode', frame)\n",
    "\n",
    "# 解析二维码\n",
    "    text = None\n",
    "    try:\n",
    "        text = scan_qrcode(frame)\n",
    "    except Exception as e:\n",
    "        pass\n",
    "    if text:\n",
    "        print(text)\n",
    "        break\n",
    "\n",
    "    key = cv2.waitKey(10)\n",
    "    if key == ord('q'):\n",
    "        break\n",
    "        cv2.destroyAllWindows()"
   ]
  },
  {
   "cell_type": "markdown",
   "id": "2cfaaaa8",
   "metadata": {},
   "source": [
    "# 示例"
   ]
  },
  {
   "cell_type": "markdown",
   "id": "03344c56",
   "metadata": {},
   "source": [
    "## 创建二维码"
   ]
  },
  {
   "cell_type": "code",
   "execution_count": null,
   "id": "34a8d1ff-6647-49b4-8aac-f7ed57cadefa",
   "metadata": {},
   "outputs": [],
   "source": [
    "import pandas as pd"
   ]
  },
  {
   "cell_type": "code",
   "execution_count": null,
   "id": "5e9a754e-fa0e-47ae-9478-36f460d7ac6f",
   "metadata": {},
   "outputs": [],
   "source": [
    "pd.options.display.max_columns=None"
   ]
  },
  {
   "cell_type": "code",
   "execution_count": null,
   "id": "4964c677-a44d-4ca9-9611-b09aa3f25456",
   "metadata": {},
   "outputs": [],
   "source": [
    "pth = r\"C:\\python\\function\\testfile\\testdata.csv\"\n",
    "df = pd.read_csv(pth)"
   ]
  },
  {
   "cell_type": "code",
   "execution_count": null,
   "id": "6ba9d0b6-e663-4a4a-89a7-bca90bc340de",
   "metadata": {},
   "outputs": [],
   "source": [
    "df.head(2)"
   ]
  },
  {
   "cell_type": "code",
   "execution_count": null,
   "id": "67388239-12e9-4181-902f-88845eb3e64c",
   "metadata": {},
   "outputs": [],
   "source": [
    "lt = df.head(80)[\"T004001_Value\"].tolist()"
   ]
  },
  {
   "cell_type": "code",
   "execution_count": null,
   "id": "3e631b53-d2d9-4dd1-8063-a3e74665ab07",
   "metadata": {},
   "outputs": [],
   "source": [
    "len(lt)"
   ]
  },
  {
   "cell_type": "code",
   "execution_count": null,
   "id": "fe9efc80-4060-40bd-b9b3-bc0f5bd40bcf",
   "metadata": {},
   "outputs": [],
   "source": [
    "lts = ['A406F7939C9235CC','A406F7939C9235CC']"
   ]
  },
  {
   "cell_type": "code",
   "execution_count": null,
   "id": "d7a49743",
   "metadata": {},
   "outputs": [],
   "source": [
    "qr = qrcode.QRCode(version=3,\n",
    "\t\t\t\t\terror_correction=qrcode.constants.ERROR_CORRECT_Q,\n",
    "\t\t\t\t\tbox_size=10,\n",
    "\t\t\t\t\tborder=4,\n",
    "\t\t\t\t\t)\n",
    "\n",
    "qr.add_data(lt)\n",
    "qr.make(fit=True)\n",
    "\n",
    "img = qr.make_image(fill_color=\"black\",back_color=\"white\")\n",
    "img.show()"
   ]
  },
  {
   "cell_type": "markdown",
   "id": "d2aa56ce",
   "metadata": {},
   "source": [
    "## 识别图片中的二维码"
   ]
  },
  {
   "cell_type": "markdown",
   "id": "4804a60e",
   "metadata": {},
   "source": [
    "### test1"
   ]
  },
  {
   "cell_type": "code",
   "execution_count": null,
   "id": "4e55ccd5",
   "metadata": {},
   "outputs": [],
   "source": [
    "image = r\".\\testfile\\qrcodes8.jpg\"\n",
    "\n",
    "img = Image.open(image)\n",
    "\n",
    "# img = ImageEnhance.Brightness(img).enhance(2.0)#增加亮度\n",
    "\n",
    "# img = ImageEnhance.Sharpness(img).enhance(17.0)#锐利化\n",
    "\n",
    "# img = ImageEnhance.Contrast(img).enhance(4.0)#增加对比度\n",
    "\n",
    "# img = img.convert('L')#灰度化\n",
    "\n",
    "img.show()\n",
    "\n",
    "barcodes = pyzbar.decode(img)\n",
    "qrcodelt = []\n",
    "\n",
    "for barcode in barcodes:\n",
    "    barcodeData = barcode.data.decode(\"utf-8\")\n",
    "    qrcodelt.append(barcodeData)\n",
    "#     print(barcodeData)\n",
    "    (x,y,w,h) = barcode.rect\n",
    "    print(x,y,w,h)\n",
    "\n",
    "print(len(qrcodelt))"
   ]
  },
  {
   "cell_type": "markdown",
   "id": "b8b9119a",
   "metadata": {},
   "source": [
    "### test2"
   ]
  },
  {
   "cell_type": "code",
   "execution_count": null,
   "id": "64be33a0",
   "metadata": {},
   "outputs": [],
   "source": [
    "# frame= cv2.imread()\n",
    "\n",
    "mp = r\".\\testfile\\qrcode_s.jpg\"\n",
    " \n",
    "# 转为灰度图像\n",
    "# gray = cv2.cvtColor(frame,cv2.COLOR_BGR2GRAY)\n",
    "\n",
    "gray = Image.open(mp)\n",
    "\n",
    "barcodes = pyzbar.decode(gray)\n",
    "\n",
    "\n",
    "for barcode in barcodes:\n",
    "    # 提取条形码的边界框的位置\n",
    "    # 画出图像中条形码的边界框\n",
    "    (x, y, w, h) = barcode.rect\n",
    "    cv2.rectangle(frame, (x, y), (x + w, y + h), (255, 255, 0), 2)\n",
    "    # 条形码数据为字节对象，所以如果我们想在输出图像上\n",
    "    #  画出来，就需要先将它转换成字符串\n",
    "    barcodeData = barcode.data.decode(\"utf-8\")\n",
    "    \n",
    "    print(barcodeData)\n",
    "#     # 绘出图像上条形码的数据和条形码类型\n",
    "#     barcodeType = barcode.type\n",
    "\n",
    "#     # 把cv2格式的图片转成PIL格式的图片然后在上标注二维码和条形码的内容\n",
    "#     img_PIL = Image.fromarray(cv2.cvtColor(frame, cv2.COLOR_BGR2RGB))\n",
    "#     # 参数（字体，默认大小）\n",
    "#     font = ImageFont.truetype('STFANGSO.TTF', 25)\n",
    "#     # 字体颜色\n",
    "#     fillColor = (0,255,0)\n",
    "#     # 文字输出位置\n",
    "#     position = (x, y-25)\n",
    "#     # 输出内容\n",
    "#     strl = barcodeData\n",
    "#     # 需要先把输出的中文字符转换成Unicode编码形式(str.decode(\"utf-8))\n",
    "\n",
    "#     # 创建画笔\n",
    "#     draw = ImageDraw.Draw(img_PIL)\n",
    "#     draw.text(position, strl, font=font,fill=fillColor)\n",
    "#     # 使用PIL中的save方法保存图片到本地\n",
    "#     img_PIL.save('结果图.jpg', 'jpeg')\n",
    "#     # 向终端打印条形码数据和条形码类型\n",
    "#     print(\"扫描结果==》 类别： {0} 内容： {1}\".format(barcodeType, barcodeData))"
   ]
  },
  {
   "cell_type": "markdown",
   "id": "8df9b4c5",
   "metadata": {},
   "source": [
    "### test3"
   ]
  },
  {
   "cell_type": "code",
   "execution_count": null,
   "id": "691f3935",
   "metadata": {},
   "outputs": [],
   "source": [
    "def decodeDisplay(image):\n",
    "    barcodes = pyzbar.decode(image)\n",
    "    for barcode in barcodes:\n",
    "        # 提取条形码的边界框的位置\n",
    "        # 画出图像中条形码的边界框\n",
    "        (x, y, w, h) = barcode.rect\n",
    "        cv2.rectangle(image, (x, y), (x + w, y + h), (0, 0, 255), 2)\n",
    " \n",
    "        # 条形码数据为字节对象，所以如果我们想在输出图像上\n",
    "        # 画出来，就需要先将它转换成字符串\n",
    "        barcodeData = barcode.data.decode(\"utf-8\")\n",
    "        barcodeType = barcode.type\n",
    " \n",
    "        # 绘出图像上条形码的数据和条形码类型\n",
    "        text = \"{} ({})\".format(barcodeData, barcodeType)\n",
    "        cv2.putText(image, text, (x, y - 10), cv2.FONT_HERSHEY_SIMPLEX,\n",
    "                    .5, (0, 0, 125), 2)\n",
    " \n",
    "        # 向终端打印条形码数据和条形码类型\n",
    "        print(\"[INFO] Found {} barcode: {}\".format(barcodeType, barcodeData))\n",
    "    return image"
   ]
  },
  {
   "cell_type": "code",
   "execution_count": null,
   "id": "a941ac49",
   "metadata": {},
   "outputs": [],
   "source": [
    "image = r\".\\testfile\\qrcode_s.jpg\"\n",
    "img = Image.open(image)\n",
    "decodeDisplay(img)"
   ]
  },
  {
   "cell_type": "markdown",
   "id": "cd659959",
   "metadata": {},
   "source": [
    "### test4"
   ]
  },
  {
   "cell_type": "raw",
   "id": "4585b0d3",
   "metadata": {},
   "source": [
    "我的算法思想：\n",
    "1）定位点的轮廓有三层轮廓\n",
    "2）每个定位点的轮廓中心点一样的\n",
    "3）三个定位点可以围成一个等腰直角三角形\n",
    "算法待优化的地方\n",
    "1）只能识别拍摄的比较清楚的二维码，拍摄位置的角度偏差比较小\n",
    "2）只能识别出一个二维码"
   ]
  },
  {
   "cell_type": "code",
   "execution_count": null,
   "id": "22e381a8",
   "metadata": {},
   "outputs": [],
   "source": [
    "import os\n",
    "import cv2\n",
    "import numpy as np\n",
    "import copy\n",
    "img_path='images'\n",
    "img_result='results'\n",
    "def reshape_image(image):\n",
    "    '''归一化图片尺寸：短边400，长边不超过800，短边400，长边超过800以长边800为主'''\n",
    "    width,height=image.shape[1],image.shape[0]\n",
    "    min_len=width\n",
    "    scale=width*1.0/400\n",
    "    new_width=400\n",
    "    new_height=int(height/scale)\n",
    "    if new_height>800:\n",
    "        new_height=800\n",
    "        scale=height*1.0/800\n",
    "        new_width=int(width/scale)\n",
    "    out=cv2.resize(image,(new_width,new_height))\n",
    "    return out\n",
    "def detecte(image):\n",
    "    '''提取所有轮廓'''\n",
    "    gray=cv2.cvtColor(image,cv2.COLOR_BGR2GRAY)\n",
    "    _,gray=cv2.threshold(gray,0,255,cv2.THRESH_OTSU+cv2.THRESH_BINARY_INV)\n",
    "    img,contours,hierachy=cv2.findContours(gray,cv2.RETR_TREE,cv2.CHAIN_APPROX_SIMPLE)\n",
    "    return image,contours,hierachy\n",
    "\n",
    "def compute_1(contours,i,j):\n",
    "    '''最外面的轮廓和子轮廓的比例'''\n",
    "    area1 = cv2.contourArea(contours[i])\n",
    "    area2 = cv2.contourArea(contours[j])\n",
    "    if area2==0:\n",
    "        return False\n",
    "    ratio = area1 * 1.0 / area2\n",
    "    if abs(ratio - 49.0 / 25):\n",
    "        return True\n",
    "    return False\n",
    "def compute_2(contours,i,j):\n",
    "    '''子轮廓和子子轮廓的比例'''\n",
    "    area1 = cv2.contourArea(contours[i])\n",
    "    area2 = cv2.contourArea(contours[j])\n",
    "    if area2==0:\n",
    "        return False\n",
    "    ratio = area1 * 1.0 / area2\n",
    "    if abs(ratio - 25.0 / 9):\n",
    "        return True\n",
    "    return False\n",
    "def compute_center(contours,i):\n",
    "    '''计算轮廓中心点'''\n",
    "    M=cv2.moments(contours[i])\n",
    "    cx = int(M['m10'] / M['m00'])\n",
    "    cy = int(M['m01'] / M['m00'])\n",
    "    return cx,cy\n",
    "def detect_contours(vec):\n",
    "    '''判断这个轮廓和它的子轮廓以及子子轮廓的中心的间距是否足够小'''\n",
    "    distance_1=np.sqrt((vec[0]-vec[2])**2+(vec[1]-vec[3])**2)\n",
    "    distance_2=np.sqrt((vec[0]-vec[4])**2+(vec[1]-vec[5])**2)\n",
    "    distance_3=np.sqrt((vec[2]-vec[4])**2+(vec[3]-vec[5])**2)\n",
    "    if sum((distance_1,distance_2,distance_3))/3<3:\n",
    "        return True\n",
    "    return False\n",
    "def juge_angle(rec):\n",
    "    '''判断寻找是否有三个点可以围成等腰直角三角形'''\n",
    "    if len(rec)<3:\n",
    "        return -1,-1,-1\n",
    "    for i in range(len(rec)):\n",
    "        for j in range(i+1,len(rec)):\n",
    "            for k in range(j+1,len(rec)):\n",
    "                distance_1 = np.sqrt((rec[i][0] - rec[j][0]) ** 2 + (rec[i][1] - rec[j][1]) ** 2)\n",
    "                distance_2 = np.sqrt((rec[i][0] - rec[k][0]) ** 2 + (rec[i][1] - rec[k][1]) ** 2)\n",
    "                distance_3 = np.sqrt((rec[j][0] - rec[k][0]) ** 2 + (rec[j][1] - rec[k][1]) ** 2)\n",
    "                if abs(distance_1-distance_2)<5:\n",
    "                    if abs(np.sqrt(np.square(distance_1)+np.square(distance_2))-distance_3)<5:\n",
    "                        return i,j,k\n",
    "                elif abs(distance_1-distance_3)<5:\n",
    "                    if abs(np.sqrt(np.square(distance_1)+np.square(distance_3))-distance_2)<5:\n",
    "                        return i,j,k\n",
    "                elif abs(distance_2-distance_3)<5:\n",
    "                    if abs(np.sqrt(np.square(distance_2)+np.square(distance_3))-distance_1)<5:\n",
    "                        return i,j,k\n",
    "    return -1,-1,-1\n",
    "def find(image,image_name,contours,hierachy,root=0):\n",
    "    '''找到符合要求的轮廓'''\n",
    "    rec=[]\n",
    "    for i in range(len(hierachy)):\n",
    "        child = hierachy[i][2]\n",
    "        child_child=hierachy[child][2]\n",
    "        if child!=-1 and hierachy[child][2]!=-1:\n",
    "            if compute_1(contours, i, child) and compute_2(contours,child,child_child):\n",
    "                cx1,cy1=compute_center(contours,i)\n",
    "                cx2,cy2=compute_center(contours,child)\n",
    "                cx3,cy3=compute_center(contours,child_child)\n",
    "                if detect_contours([cx1,cy1,cx2,cy2,cx3,cy3]):\n",
    "                    rec.append([cx1,cy1,cx2,cy2,cx3,cy3,i,child,child_child])\n",
    "    '''计算得到所有在比例上符合要求的轮廓中心点'''\n",
    "    i,j,k=juge_angle(rec)\n",
    "    if i==-1 or j== -1 or k==-1:\n",
    "        return\n",
    "    ts = np.concatenate((contours[rec[i][6]], contours[rec[j][6]], contours[rec[k][6]]))\n",
    "    rect = cv2.minAreaRect(ts)\n",
    "    box = cv2.boxPoints(rect)\n",
    "    box = np.int0(box)\n",
    "    result=copy.deepcopy(image)\n",
    "    cv2.drawContours(result, [box], 0, (0, 0, 255), 2)\n",
    "    cv2.drawContours(image,contours,rec[i][6],(255,0,0),2)\n",
    "    cv2.drawContours(image,contours,rec[j][6],(255,0,0),2)\n",
    "    cv2.drawContours(image,contours,rec[k][6],(255,0,0),2)\n",
    "    cv2.imshow('img',image)\n",
    "    cv2.waitKey(0)\n",
    "    cv2.imshow('img',result)\n",
    "    cv2.waitKey(0)\n",
    "    path=os.path.join(img_result,image_name)\n",
    "    cv2.imwrite(path,result)\n",
    "    return\n",
    "if __name__ == '__main__':\n",
    "    files=os.listdir(img_path)\n",
    "    for file in files:\n",
    "        image=cv2.imread(os.path.join(img_path,file))\n",
    "        image=reshape_image(image)\n",
    "        cv2.imshow('img', image)\n",
    "        cv2.waitKey(0)\n",
    "        image,contours,hierachy=detecte(image)\n",
    "        find(image,file,contours,np.squeeze(hierachy))"
   ]
  },
  {
   "cell_type": "markdown",
   "id": "b536400e",
   "metadata": {},
   "source": [
    "### test5"
   ]
  },
  {
   "cell_type": "code",
   "execution_count": null,
   "id": "afd7bbaa",
   "metadata": {},
   "outputs": [],
   "source": [
    "## 图像类型转换\n",
    "img_bgr = cv2.imread('.\\testfile\\qrcodes.jpg')                  # 读取彩色图像\n",
    "img_hsv = cv2.cvtColor(img_bgr, cv2.COLOR_BGR2HSV)      # 转化为 HSV 格式\n",
    "thresh1 = np.array([0, 0, 0])                       # 目标红旗的低阈值\n",
    "thresh2 = np.array([180, 255, 46])                      # 目标红旗的高阈值\n",
    "img_flag = cv2.inRange(img_hsv, thresh1, thresh2)       # 获取红旗部分\n",
    "    \n",
    "cv2.imshow('原始图像', img_bgr)                          #显示图像           \n",
    "cv2.imshow('红旗图像', img_flag)\n",
    "cv2.waitKey(0)\n",
    "cv2.waitKey(0)\n",
    "cv2.destroyAllWindows()"
   ]
  },
  {
   "cell_type": "raw",
   "id": "3426fcc6",
   "metadata": {},
   "source": [
    "cv2.inRang()\n",
    "H,S,V 阈值\n",
    "https://blog.csdn.net/qq_41901755/article/details/102496752?ops_request_misc=&request_id=&biz_id=&utm_medium=distribute.pc_search_result.none-task-blog-2~all~es_rank~default-5-102496752.pc_search_all_es&utm_term=cv2.inrange%E5%8F%82%E6%95%B0%E6%80%8E%E4%B9%88%E8%B0%83&spm=1018.2226.3001.4187"
   ]
  },
  {
   "cell_type": "code",
   "execution_count": null,
   "id": "1e0d3a27",
   "metadata": {},
   "outputs": [],
   "source": []
  },
  {
   "cell_type": "markdown",
   "id": "814743b0",
   "metadata": {},
   "source": [
    "## python3 + opencv +pyzbar 摄像头检测二维码并获取二维码内容"
   ]
  },
  {
   "cell_type": "raw",
   "id": "522e85e5",
   "metadata": {},
   "source": [
    "https://blog.csdn.net/zx66zx/article/details/82785334"
   ]
  },
  {
   "cell_type": "code",
   "execution_count": null,
   "id": "e4b97e67",
   "metadata": {},
   "outputs": [],
   "source": [
    "# coding:utf8\n",
    " \n",
    "import cv2\n",
    "import pyzbar.pyzbar as pyzbar\n",
    " \n",
    "def decodeDisplay(image):\n",
    "    barcodes = pyzbar.decode(image)\n",
    "    for barcode in barcodes:\n",
    "        # 提取条形码的边界框的位置\n",
    "        # 画出图像中条形码的边界框\n",
    "        (x, y, w, h) = barcode.rect\n",
    "        cv2.rectangle(image, (x, y), (x + w, y + h), (0, 0, 255), 2)\n",
    " \n",
    "        # 条形码数据为字节对象，所以如果我们想在输出图像上\n",
    "        # 画出来，就需要先将它转换成字符串\n",
    "        barcodeData = barcode.data.decode(\"utf-8\")\n",
    "        barcodeType = barcode.type\n",
    " \n",
    "        # 绘出图像上条形码的数据和条形码类型\n",
    "        text = \"{} ({})\".format(barcodeData, barcodeType)\n",
    "        cv2.putText(image, text, (x, y - 10), cv2.FONT_HERSHEY_SIMPLEX,\n",
    "                    .5, (0, 0, 125), 2)\n",
    " \n",
    "        # 向终端打印条形码数据和条形码类型\n",
    "        print(\"[INFO] Found {} barcode: {}\".format(barcodeType, barcodeData))\n",
    "    return image\n",
    " \n",
    " \n",
    "def detect():\n",
    " \n",
    "    camera = cv2.VideoCapture(0)\n",
    " \n",
    "    while True:\n",
    "        # 读取当前帧\n",
    "        ret, frame = camera.read()\n",
    "        # 转为灰度图像\n",
    "        gray = cv2.cvtColor(frame, cv2.COLOR_BGR2GRAY)\n",
    "        im=decodeDisplay(gray)\n",
    " \n",
    "        cv2.waitKey(5)\n",
    "        cv2.imshow(\"camera\", im)\n",
    " \n",
    "    camera.release()\n",
    "    cv2.destroyAllWindows()\n",
    " \n",
    " \n",
    "if __name__ == '__main__':\n",
    "    detect()"
   ]
  },
  {
   "cell_type": "markdown",
   "id": "30e4c378",
   "metadata": {},
   "source": [
    "## opencv 使用摄像头捕获视频并显示"
   ]
  },
  {
   "cell_type": "code",
   "execution_count": null,
   "id": "69ae7213",
   "metadata": {},
   "outputs": [],
   "source": [
    "import cv2\n",
    "import numpy as np\n",
    "\n",
    "cap = cv2.VideoCapture(0)\n",
    "while(1):\n",
    "    # get a frame\n",
    "    ret, frame = cap.read()\n",
    "    # show a frame\n",
    "    cv2.imshow(\"capture\", frame)\n",
    "    if cv2.waitKey(1) & 0xFF == ord('q'):\n",
    "        break\n",
    "cap.release()\n",
    "cv2.destroyAllWindows() "
   ]
  },
  {
   "cell_type": "markdown",
   "id": "245cf7a9",
   "metadata": {},
   "source": [
    "## opencv拍照片，显示在canvas中"
   ]
  },
  {
   "cell_type": "markdown",
   "id": "27f0fc92",
   "metadata": {},
   "source": [
    "## 从摄像头内抓拍照片"
   ]
  },
  {
   "cell_type": "code",
   "execution_count": null,
   "id": "088c5263-afce-40fa-87ab-e6e942dec38f",
   "metadata": {},
   "outputs": [],
   "source": [
    "import datetime"
   ]
  },
  {
   "cell_type": "code",
   "execution_count": null,
   "id": "df7b1661-8864-4b2e-a740-5b387350505b",
   "metadata": {},
   "outputs": [],
   "source": []
  },
  {
   "cell_type": "code",
   "execution_count": null,
   "id": "8e6c34f5-79a3-4c66-bb62-c7c04db155fa",
   "metadata": {},
   "outputs": [],
   "source": []
  },
  {
   "cell_type": "code",
   "execution_count": null,
   "id": "0eed9ba7",
   "metadata": {},
   "outputs": [],
   "source": [
    "\n",
    "index=0\n",
    "\n",
    "cap = cv2.VideoCapture(0)\n",
    "while True:\n",
    "    ret,frame=cap.read()\n",
    "    gray=cv2.cvtColor(frame,cv2.COLOR_BGR2GRAY)\n",
    "    cv2.imshow('frame',gray)\n",
    "    if cv2.waitKey(1) & 0xFF==ord('p'):\n",
    "        cv2.imwrite(r\".\\testfile\\qrcode\\{}.jpg\".format(datetime.datetime.now().strftime(\"%Y%m%d_%H:%M:%S\")),frame)\n",
    "        index += 1\n",
    "    if cv2.waitKey(1) & 0xFF == ord('q'):\n",
    "        break\n",
    "\n",
    "cap.release()\n",
    "cv2.destroyAllWindows()"
   ]
  },
  {
   "cell_type": "markdown",
   "id": "b9db03db-b849-4dd6-ad60-a2322af5c0b6",
   "metadata": {},
   "source": [
    "# 查找USB摄像头ID"
   ]
  },
  {
   "cell_type": "code",
   "execution_count": null,
   "id": "ea83ac13-1daf-47d4-b230-13018fc72c4e",
   "metadata": {},
   "outputs": [],
   "source": [
    "ID = 0\n",
    "\n",
    "while(1):\n",
    "    cap=cv2.VideoCapture(ID)\n",
    "    ret,frame=cap.read()\n",
    "    \n",
    "    if ret == False:\n",
    "        ID+=1\n",
    "    else:\n",
    "        print(ID)\n",
    "        break"
   ]
  },
  {
   "cell_type": "code",
   "execution_count": null,
   "id": "d75648fb-c14c-4ccd-bca0-93e8f0cd3c09",
   "metadata": {},
   "outputs": [],
   "source": []
  }
 ],
 "metadata": {
  "kernelspec": {
   "display_name": "Python 38",
   "language": "python",
   "name": "python3"
  },
  "language_info": {
   "codemirror_mode": {
    "name": "ipython",
    "version": 3
   },
   "file_extension": ".py",
   "mimetype": "text/x-python",
   "name": "python",
   "nbconvert_exporter": "python",
   "pygments_lexer": "ipython3",
   "version": "3.8.6"
  },
  "toc": {
   "base_numbering": 1,
   "nav_menu": {},
   "number_sections": true,
   "sideBar": true,
   "skip_h1_title": false,
   "title_cell": "Table of Contents",
   "title_sidebar": "Contents",
   "toc_cell": false,
   "toc_position": {
    "height": "calc(100% - 180px)",
    "left": "10px",
    "top": "150px",
    "width": "320px"
   },
   "toc_section_display": true,
   "toc_window_display": true
  }
 },
 "nbformat": 4,
 "nbformat_minor": 5
}
