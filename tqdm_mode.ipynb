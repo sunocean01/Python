{
 "cells": [
  {
   "cell_type": "code",
   "execution_count": 24,
   "id": "7ff547a2",
   "metadata": {},
   "outputs": [],
   "source": [
    "from tqdm import tqdm\n",
    "from tqdm.notebook import tqdm as tm    #专门针对jupyter notebook的美化\n",
    "import time\n",
    "import pandas as pd"
   ]
  },
  {
   "cell_type": "raw",
   "id": "987f1ea3",
   "metadata": {},
   "source": [
    "tqdm是Python中专门用于进度条美化的模块，通过在非while的循环体内嵌入tqdm，可以得到一个能更好展现程序运行过程的提示进度条，本文就将针对tqdm的基本用法进行介绍。"
   ]
  },
  {
   "cell_type": "markdown",
   "id": "c9b7f0c9",
   "metadata": {},
   "source": [
    "# 用法一：在for循环体中用tqdm()包裹指定的迭代器"
   ]
  },
  {
   "cell_type": "code",
   "execution_count": 4,
   "id": "5d3b598f",
   "metadata": {},
   "outputs": [
    {
     "name": "stderr",
     "output_type": "stream",
     "text": [
      "100%|████████████████████████████████████████████████████████████████████████████████████| 3/3 [00:03<00:00,  1.01s/it]"
     ]
    },
    {
     "name": "stdout",
     "output_type": "stream",
     "text": [
      " abc\n"
     ]
    },
    {
     "name": "stderr",
     "output_type": "stream",
     "text": [
      "\n"
     ]
    }
   ],
   "source": [
    "text = \" \"\n",
    "for char in tqdm([\"a\",\"b\",\"c\"]):\n",
    "    time.sleep(1)\n",
    "    text = text + char\n",
    "    \n",
    "print(text)"
   ]
  },
  {
   "cell_type": "markdown",
   "id": "710cc5f0",
   "metadata": {},
   "source": [
    "# 在for循环体中用tqdm()包裹指定的range()"
   ]
  },
  {
   "cell_type": "code",
   "execution_count": 5,
   "id": "2ceb2fa1",
   "metadata": {},
   "outputs": [
    {
     "name": "stderr",
     "output_type": "stream",
     "text": [
      "100%|██████████████████████████████████████████████████████████████████████████████████| 19/19 [00:09<00:00,  1.97it/s]"
     ]
    },
    {
     "name": "stdout",
     "output_type": "stream",
     "text": [
      "190\n"
     ]
    },
    {
     "name": "stderr",
     "output_type": "stream",
     "text": [
      "\n"
     ]
    }
   ],
   "source": [
    "sum = 0\n",
    "for it in tqdm(range(1,20)):\n",
    "    sum = sum + it\n",
    "    time.sleep(0.5)\n",
    "print(sum)"
   ]
  },
  {
   "cell_type": "markdown",
   "id": "1145a3de",
   "metadata": {},
   "source": [
    "# trange:作为range的简洁替代"
   ]
  },
  {
   "cell_type": "code",
   "execution_count": 7,
   "id": "9098aadb",
   "metadata": {},
   "outputs": [],
   "source": [
    "from tqdm import trange"
   ]
  },
  {
   "cell_type": "code",
   "execution_count": 8,
   "id": "e8ed2058",
   "metadata": {},
   "outputs": [
    {
     "name": "stderr",
     "output_type": "stream",
     "text": [
      "100%|██████████████████████████████████████████████████████████████████████████████████| 19/19 [00:09<00:00,  1.97it/s]"
     ]
    },
    {
     "name": "stdout",
     "output_type": "stream",
     "text": [
      "190\n"
     ]
    },
    {
     "name": "stderr",
     "output_type": "stream",
     "text": [
      "\n"
     ]
    }
   ],
   "source": [
    "sum = 0\n",
    "for it in trange(1,20):\n",
    "    sum = sum + it\n",
    "    time.sleep(0.5)\n",
    "print(sum)"
   ]
  },
  {
   "cell_type": "markdown",
   "id": "6136e56c",
   "metadata": {},
   "source": [
    "# 针对notebook的美化"
   ]
  },
  {
   "cell_type": "code",
   "execution_count": 15,
   "id": "b88a4f4d",
   "metadata": {},
   "outputs": [
    {
     "data": {
      "application/vnd.jupyter.widget-view+json": {
       "model_id": "a19008fcf4d14a0b8d95842f1bdccb08",
       "version_major": 2,
       "version_minor": 0
      },
      "text/plain": [
       "process::   0%|          | 0/50 [00:00<?, ?it/s]"
      ]
     },
     "metadata": {},
     "output_type": "display_data"
    }
   ],
   "source": [
    "for i in tm(range(50),desc=\"process:\"):\n",
    "    time.sleep(0.3)"
   ]
  },
  {
   "cell_type": "markdown",
   "id": "7bf759e7",
   "metadata": {},
   "source": [
    "# set_description:显示当前进度内容"
   ]
  },
  {
   "cell_type": "code",
   "execution_count": 19,
   "id": "c77a37e2",
   "metadata": {},
   "outputs": [
    {
     "name": "stderr",
     "output_type": "stream",
     "text": [
      "Now get letter f: 100%|██████████████████████████████████████████████████████████████████| 6/6 [00:06<00:00,  1.01s/it]\n"
     ]
    }
   ],
   "source": [
    "bar = tqdm(['a','b','c','d','e','f'])\n",
    "for char in bar:\n",
    "    time.sleep(1)\n",
    "    bar.set_description(\"Now get letter {}\".format(char))"
   ]
  },
  {
   "cell_type": "markdown",
   "id": "e5a1f209",
   "metadata": {},
   "source": [
    "# 手动控制更新"
   ]
  },
  {
   "cell_type": "code",
   "execution_count": 22,
   "id": "5c153101",
   "metadata": {},
   "outputs": [
    {
     "name": "stderr",
     "output_type": "stream",
     "text": [
      "100%|████████████████████████████████████████████████████████████████████████████████| 100/100 [00:05<00:00, 19.66it/s]\n"
     ]
    }
   ],
   "source": [
    "with tqdm(total=100) as pbar:\n",
    "    for i in range(10):\n",
    "        pbar.update(10)\n",
    "        time.sleep(0.5)"
   ]
  },
  {
   "cell_type": "markdown",
   "id": "09183f04",
   "metadata": {},
   "source": [
    "# 结合pandas使用"
   ]
  },
  {
   "cell_type": "code",
   "execution_count": 32,
   "id": "d8e008d4",
   "metadata": {},
   "outputs": [
    {
     "name": "stderr",
     "output_type": "stream",
     "text": [
      "pd: 100%|████████████████████████████████████████████████████████████████████████████████████████| 4/4 [00:00<?, ?it/s]\n"
     ]
    }
   ],
   "source": [
    "fp = r\".\\testfile\\002161.SZ.csv\"\n",
    "df = pd.read_csv(fp,usecols=[2,3,4,5])\n",
    "tqdm.pandas(desc=\"pd\")\n",
    "dt = df.progress_apply(lambda x: x*2)"
   ]
  },
  {
   "cell_type": "code",
   "execution_count": null,
   "id": "61dc2c34",
   "metadata": {},
   "outputs": [],
   "source": []
  }
 ],
 "metadata": {
  "kernelspec": {
   "display_name": "Python3p9",
   "language": "python",
   "name": "python3"
  },
  "language_info": {
   "codemirror_mode": {
    "name": "ipython",
    "version": 3
   },
   "file_extension": ".py",
   "mimetype": "text/x-python",
   "name": "python",
   "nbconvert_exporter": "python",
   "pygments_lexer": "ipython3",
   "version": "3.9.5"
  },
  "toc": {
   "base_numbering": 1,
   "nav_menu": {},
   "number_sections": true,
   "sideBar": true,
   "skip_h1_title": false,
   "title_cell": "Table of Contents",
   "title_sidebar": "Contents",
   "toc_cell": false,
   "toc_position": {},
   "toc_section_display": true,
   "toc_window_display": false
  }
 },
 "nbformat": 4,
 "nbformat_minor": 5
}
