{
 "cells": [
  {
   "cell_type": "code",
   "execution_count": 1,
   "id": "dac9f30f",
   "metadata": {},
   "outputs": [],
   "source": [
    "import time\n",
    "from sensirion_shdlc_driver import ShdlcSerialPort, ShdlcConnection\n",
    "from sensirion_shdlc_svm40 import Svm40ShdlcDevice"
   ]
  },
  {
   "cell_type": "code",
   "execution_count": 2,
   "id": "5ab18dad",
   "metadata": {},
   "outputs": [
    {
     "name": "stderr",
     "output_type": "stream",
     "text": [
      "ShdlcSerialPort timed out while waiting for response after 160 ms.\n"
     ]
    },
    {
     "ename": "ShdlcTimeoutError",
     "evalue": "Timeout while waiting for response from SHDLC device. Check connection to device and make sure it is powered on.",
     "output_type": "error",
     "traceback": [
      "\u001b[1;31m---------------------------------------------------------------------------\u001b[0m",
      "\u001b[1;31mShdlcTimeoutError\u001b[0m                         Traceback (most recent call last)",
      "\u001b[1;32m<ipython-input-2-c148e9861d4b>\u001b[0m in \u001b[0;36m<module>\u001b[1;34m\u001b[0m\n\u001b[0;32m      4\u001b[0m \u001b[1;32mwith\u001b[0m \u001b[0mShdlcSerialPort\u001b[0m\u001b[1;33m(\u001b[0m\u001b[0mport\u001b[0m\u001b[1;33m=\u001b[0m\u001b[1;34m'COM1'\u001b[0m\u001b[1;33m,\u001b[0m \u001b[0mbaudrate\u001b[0m\u001b[1;33m=\u001b[0m\u001b[1;36m115200\u001b[0m\u001b[1;33m)\u001b[0m \u001b[1;32mas\u001b[0m \u001b[0mport\u001b[0m\u001b[1;33m:\u001b[0m\u001b[1;33m\u001b[0m\u001b[1;33m\u001b[0m\u001b[0m\n\u001b[0;32m      5\u001b[0m     \u001b[0mdevice\u001b[0m \u001b[1;33m=\u001b[0m \u001b[0mSvm40ShdlcDevice\u001b[0m\u001b[1;33m(\u001b[0m\u001b[0mShdlcConnection\u001b[0m\u001b[1;33m(\u001b[0m\u001b[0mport\u001b[0m\u001b[1;33m)\u001b[0m\u001b[1;33m,\u001b[0m \u001b[0mslave_address\u001b[0m\u001b[1;33m=\u001b[0m\u001b[1;36m0\u001b[0m\u001b[1;33m)\u001b[0m\u001b[1;33m\u001b[0m\u001b[1;33m\u001b[0m\u001b[0m\n\u001b[1;32m----> 6\u001b[1;33m     \u001b[0mdevice\u001b[0m\u001b[1;33m.\u001b[0m\u001b[0mdevice_reset\u001b[0m\u001b[1;33m(\u001b[0m\u001b[1;33m)\u001b[0m\u001b[1;33m\u001b[0m\u001b[1;33m\u001b[0m\u001b[0m\n\u001b[0m\u001b[0;32m      7\u001b[0m \u001b[1;33m\u001b[0m\u001b[0m\n\u001b[0;32m      8\u001b[0m     \u001b[1;31m# Print some device information\u001b[0m\u001b[1;33m\u001b[0m\u001b[1;33m\u001b[0m\u001b[1;33m\u001b[0m\u001b[0m\n",
      "\u001b[1;32mD:\\programming\\python3p9\\lib\\site-packages\\sensirion_shdlc_svm40\\device.py\u001b[0m in \u001b[0;36mdevice_reset\u001b[1;34m(self)\u001b[0m\n\u001b[0;32m    140\u001b[0m         \u001b[0mExecute\u001b[0m \u001b[0ma\u001b[0m \u001b[0mdevice\u001b[0m \u001b[0mreset\u001b[0m \u001b[1;33m(\u001b[0m\u001b[0mreboot\u001b[0m \u001b[0mfirmware\u001b[0m\u001b[1;33m,\u001b[0m \u001b[0msimilar\u001b[0m \u001b[0mto\u001b[0m \u001b[0mpower\u001b[0m \u001b[0mcycle\u001b[0m\u001b[1;33m)\u001b[0m\u001b[1;33m.\u001b[0m\u001b[1;33m\u001b[0m\u001b[1;33m\u001b[0m\u001b[0m\n\u001b[0;32m    141\u001b[0m         \"\"\"\n\u001b[1;32m--> 142\u001b[1;33m         \u001b[0mself\u001b[0m\u001b[1;33m.\u001b[0m\u001b[0mexecute\u001b[0m\u001b[1;33m(\u001b[0m\u001b[0mSvm40CmdDeviceReset\u001b[0m\u001b[1;33m(\u001b[0m\u001b[1;33m)\u001b[0m\u001b[1;33m)\u001b[0m\u001b[1;33m\u001b[0m\u001b[1;33m\u001b[0m\u001b[0m\n\u001b[0m\u001b[0;32m    143\u001b[0m \u001b[1;33m\u001b[0m\u001b[0m\n\u001b[0;32m    144\u001b[0m     \u001b[1;32mdef\u001b[0m \u001b[0mget_compensation_temperature_offset\u001b[0m\u001b[1;33m(\u001b[0m\u001b[0mself\u001b[0m\u001b[1;33m)\u001b[0m\u001b[1;33m:\u001b[0m\u001b[1;33m\u001b[0m\u001b[1;33m\u001b[0m\u001b[0m\n",
      "\u001b[1;32mD:\\programming\\python3p9\\lib\\site-packages\\sensirion_shdlc_driver\\device_base.py\u001b[0m in \u001b[0;36mexecute\u001b[1;34m(self, command)\u001b[0m\n\u001b[0;32m     86\u001b[0m         \"\"\"\n\u001b[0;32m     87\u001b[0m         \u001b[1;32mtry\u001b[0m\u001b[1;33m:\u001b[0m\u001b[1;33m\u001b[0m\u001b[1;33m\u001b[0m\u001b[0m\n\u001b[1;32m---> 88\u001b[1;33m             \u001b[0mdata\u001b[0m\u001b[1;33m,\u001b[0m \u001b[0merr\u001b[0m \u001b[1;33m=\u001b[0m \u001b[0mself\u001b[0m\u001b[1;33m.\u001b[0m\u001b[0m_connection\u001b[0m\u001b[1;33m.\u001b[0m\u001b[0mexecute\u001b[0m\u001b[1;33m(\u001b[0m\u001b[0mself\u001b[0m\u001b[1;33m.\u001b[0m\u001b[0m_slave_address\u001b[0m\u001b[1;33m,\u001b[0m \u001b[0mcommand\u001b[0m\u001b[1;33m)\u001b[0m\u001b[1;33m\u001b[0m\u001b[1;33m\u001b[0m\u001b[0m\n\u001b[0m\u001b[0;32m     89\u001b[0m             \u001b[0mself\u001b[0m\u001b[1;33m.\u001b[0m\u001b[0m_last_error_flag\u001b[0m \u001b[1;33m=\u001b[0m \u001b[0merr\u001b[0m  \u001b[1;31m# Memorize error flag\u001b[0m\u001b[1;33m\u001b[0m\u001b[1;33m\u001b[0m\u001b[0m\n\u001b[0;32m     90\u001b[0m             \u001b[1;32mreturn\u001b[0m \u001b[0mdata\u001b[0m\u001b[1;33m\u001b[0m\u001b[1;33m\u001b[0m\u001b[0m\n",
      "\u001b[1;32mD:\\programming\\python3p9\\lib\\site-packages\\sensirion_shdlc_driver\\connection.py\u001b[0m in \u001b[0;36mexecute\u001b[1;34m(self, slave_address, command, wait_post_process)\u001b[0m\n\u001b[0;32m     66\u001b[0m         \u001b[1;33m:\u001b[0m\u001b[0mrtype\u001b[0m\u001b[1;33m:\u001b[0m \u001b[0mobject\u001b[0m\u001b[1;33m,\u001b[0m \u001b[0mbool\u001b[0m\u001b[1;33m\u001b[0m\u001b[1;33m\u001b[0m\u001b[0m\n\u001b[0;32m     67\u001b[0m         \"\"\"\n\u001b[1;32m---> 68\u001b[1;33m         data, error = self.transceive(slave_address, command.id, command.data,\n\u001b[0m\u001b[0;32m     69\u001b[0m                                       command.max_response_time)\n\u001b[0;32m     70\u001b[0m         \u001b[1;32mif\u001b[0m \u001b[0mwait_post_process\u001b[0m \u001b[1;32mand\u001b[0m \u001b[0mcommand\u001b[0m\u001b[1;33m.\u001b[0m\u001b[0mpost_processing_time\u001b[0m \u001b[1;33m>\u001b[0m \u001b[1;36m0.0\u001b[0m\u001b[1;33m:\u001b[0m\u001b[1;33m\u001b[0m\u001b[1;33m\u001b[0m\u001b[0m\n",
      "\u001b[1;32mD:\\programming\\python3p9\\lib\\site-packages\\sensirion_shdlc_driver\\connection.py\u001b[0m in \u001b[0;36mtransceive\u001b[1;34m(self, slave_address, command_id, data, response_timeout)\u001b[0m\n\u001b[0;32m     87\u001b[0m         \u001b[1;33m:\u001b[0m\u001b[0mrtype\u001b[0m\u001b[1;33m:\u001b[0m \u001b[0mbytes\u001b[0m\u001b[1;33m,\u001b[0m \u001b[0mbool\u001b[0m\u001b[1;33m\u001b[0m\u001b[1;33m\u001b[0m\u001b[0m\n\u001b[0;32m     88\u001b[0m         \"\"\"\n\u001b[1;32m---> 89\u001b[1;33m         rx_addr, rx_cmd, rx_state, rx_data = self._port.transceive(\n\u001b[0m\u001b[0;32m     90\u001b[0m             slave_address, command_id, data, response_timeout)\n\u001b[0;32m     91\u001b[0m         \u001b[1;32mif\u001b[0m \u001b[0mrx_addr\u001b[0m \u001b[1;33m!=\u001b[0m \u001b[0mslave_address\u001b[0m\u001b[1;33m:\u001b[0m\u001b[1;33m\u001b[0m\u001b[1;33m\u001b[0m\u001b[0m\n",
      "\u001b[1;32mD:\\programming\\python3p9\\lib\\site-packages\\sensirion_shdlc_driver\\port.py\u001b[0m in \u001b[0;36mtransceive\u001b[1;34m(self, slave_address, command_id, data, response_timeout)\u001b[0m\n\u001b[0;32m    267\u001b[0m             \u001b[0mself\u001b[0m\u001b[1;33m.\u001b[0m\u001b[0m_send_frame\u001b[0m\u001b[1;33m(\u001b[0m\u001b[0mslave_address\u001b[0m\u001b[1;33m,\u001b[0m \u001b[0mcommand_id\u001b[0m\u001b[1;33m,\u001b[0m \u001b[0mdata\u001b[0m\u001b[1;33m)\u001b[0m\u001b[1;33m\u001b[0m\u001b[1;33m\u001b[0m\u001b[0m\n\u001b[0;32m    268\u001b[0m             \u001b[0mself\u001b[0m\u001b[1;33m.\u001b[0m\u001b[0m_serial\u001b[0m\u001b[1;33m.\u001b[0m\u001b[0mflush\u001b[0m\u001b[1;33m(\u001b[0m\u001b[1;33m)\u001b[0m\u001b[1;33m\u001b[0m\u001b[1;33m\u001b[0m\u001b[0m\n\u001b[1;32m--> 269\u001b[1;33m             \u001b[1;32mreturn\u001b[0m \u001b[0mself\u001b[0m\u001b[1;33m.\u001b[0m\u001b[0m_receive_frame\u001b[0m\u001b[1;33m(\u001b[0m\u001b[0mresponse_timeout\u001b[0m\u001b[1;33m)\u001b[0m\u001b[1;33m\u001b[0m\u001b[1;33m\u001b[0m\u001b[0m\n\u001b[0m\u001b[0;32m    270\u001b[0m \u001b[1;33m\u001b[0m\u001b[0m\n\u001b[0;32m    271\u001b[0m     \u001b[1;32mdef\u001b[0m \u001b[0m_send_frame\u001b[0m\u001b[1;33m(\u001b[0m\u001b[0mself\u001b[0m\u001b[1;33m,\u001b[0m \u001b[0mslave_address\u001b[0m\u001b[1;33m,\u001b[0m \u001b[0mcommand_id\u001b[0m\u001b[1;33m,\u001b[0m \u001b[0mdata\u001b[0m\u001b[1;33m)\u001b[0m\u001b[1;33m:\u001b[0m\u001b[1;33m\u001b[0m\u001b[1;33m\u001b[0m\u001b[0m\n",
      "\u001b[1;32mD:\\programming\\python3p9\\lib\\site-packages\\sensirion_shdlc_driver\\port.py\u001b[0m in \u001b[0;36m_receive_frame\u001b[1;34m(self, response_timeout)\u001b[0m\n\u001b[0;32m    318\u001b[0m                           .format(\", \".join([\"0x%.2X\" % i\n\u001b[0;32m    319\u001b[0m                                              for i in builder.data])))\n\u001b[1;32m--> 320\u001b[1;33m                 \u001b[1;32mraise\u001b[0m \u001b[0mShdlcTimeoutError\u001b[0m\u001b[1;33m(\u001b[0m\u001b[1;33m)\u001b[0m\u001b[1;33m\u001b[0m\u001b[1;33m\u001b[0m\u001b[0m\n\u001b[0m\u001b[0;32m    321\u001b[0m \u001b[1;33m\u001b[0m\u001b[0m\n\u001b[0;32m    322\u001b[0m     \u001b[1;32mdef\u001b[0m \u001b[0m_calculate_maximum_frame_time\u001b[0m\u001b[1;33m(\u001b[0m\u001b[0mself\u001b[0m\u001b[1;33m)\u001b[0m\u001b[1;33m:\u001b[0m\u001b[1;33m\u001b[0m\u001b[1;33m\u001b[0m\u001b[0m\n",
      "\u001b[1;31mShdlcTimeoutError\u001b[0m: Timeout while waiting for response from SHDLC device. Check connection to device and make sure it is powered on."
     ]
    }
   ],
   "source": [
    "# Connect to the device with default settings:\n",
    "#  - baudrate:      115200\n",
    "#  - slave address: 0\n",
    "with ShdlcSerialPort(port='COM1', baudrate=115200) as port:\n",
    "    device = Svm40ShdlcDevice(ShdlcConnection(port), slave_address=0)\n",
    "    device.device_reset()\n",
    "\n",
    "    # Print some device information\n",
    "    print(\"Version: {}\".format(device.get_version()))\n",
    "    print(\"Product Name: {}\".format(device.get_product_name()))\n",
    "    print(\"Serial Number: {}\".format(device.get_serial_number()))\n",
    "\n",
    "    # Start measurement\n",
    "    device.start_measurement()\n",
    "    print(\"Measurement started... \")\n",
    "    while True:\n",
    "        time.sleep(10.)\n",
    "        air_quality, humidity, temperature = device.read_measured_values()\n",
    "        # use default formatting for printing output:\n",
    "        print(\"{}, {}, {}\".format(air_quality, humidity, temperature))"
   ]
  },
  {
   "cell_type": "code",
   "execution_count": null,
   "id": "f728bc2d",
   "metadata": {},
   "outputs": [],
   "source": []
  }
 ],
 "metadata": {
  "kernelspec": {
   "display_name": "Python3p9",
   "language": "python",
   "name": "python3"
  },
  "language_info": {
   "codemirror_mode": {
    "name": "ipython",
    "version": 3
   },
   "file_extension": ".py",
   "mimetype": "text/x-python",
   "name": "python",
   "nbconvert_exporter": "python",
   "pygments_lexer": "ipython3",
   "version": "3.9.5"
  },
  "toc": {
   "base_numbering": 1,
   "nav_menu": {},
   "number_sections": true,
   "sideBar": true,
   "skip_h1_title": false,
   "title_cell": "Table of Contents",
   "title_sidebar": "Contents",
   "toc_cell": false,
   "toc_position": {},
   "toc_section_display": true,
   "toc_window_display": false
  }
 },
 "nbformat": 4,
 "nbformat_minor": 5
}
