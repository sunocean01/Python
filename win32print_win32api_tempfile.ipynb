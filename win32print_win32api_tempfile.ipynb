{
 "cells": [
  {
   "cell_type": "markdown",
   "id": "0fddb41f",
   "metadata": {
    "toc": true
   },
   "source": [
    "<h1>Table of Contents<span class=\"tocSkip\"></span></h1>\n",
    "<div class=\"toc\"><ul class=\"toc-item\"></ul></div>"
   ]
  },
  {
   "cell_type": "code",
   "execution_count": null,
   "id": "a68d54ef",
   "metadata": {},
   "outputs": [],
   "source": [
    "import win32api\n",
    "import win32print\n",
    "import tempfile"
   ]
  },
  {
   "cell_type": "code",
   "execution_count": null,
   "id": "69f61ee2",
   "metadata": {},
   "outputs": [],
   "source": [
    "filename = tempfile.mktemp(\".txt\")\n",
    "open(filename,'w').write('test')\n",
    "win32api.ShellExecute(0,\n",
    "                     'printto',\n",
    "                     filename,\n",
    "                      \"{}\".format(win32print.GetDefaultPrinter()),\n",
    "                      '.',\n",
    "                      0\n",
    "                     )"
   ]
  },
  {
   "cell_type": "code",
   "execution_count": null,
   "id": "66b096cf",
   "metadata": {},
   "outputs": [],
   "source": [
    "win32print.GetDefaultPrinter()"
   ]
  }
 ],
 "metadata": {
  "kernelspec": {
   "display_name": "Python 38",
   "language": "python",
   "name": "python3"
  },
  "language_info": {
   "codemirror_mode": {
    "name": "ipython",
    "version": 3
   },
   "file_extension": ".py",
   "mimetype": "text/x-python",
   "name": "python",
   "nbconvert_exporter": "python",
   "pygments_lexer": "ipython3",
   "version": "3.8.6"
  },
  "toc": {
   "base_numbering": 1,
   "nav_menu": {},
   "number_sections": true,
   "sideBar": true,
   "skip_h1_title": false,
   "title_cell": "Table of Contents",
   "title_sidebar": "Contents",
   "toc_cell": true,
   "toc_position": {},
   "toc_section_display": true,
   "toc_window_display": true
  }
 },
 "nbformat": 4,
 "nbformat_minor": 5
}
