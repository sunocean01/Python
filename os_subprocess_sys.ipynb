{
 "cells": [
  {
   "cell_type": "code",
   "execution_count": 2,
   "id": "9f216a13",
   "metadata": {},
   "outputs": [],
   "source": [
    "import os\n",
    "import sys\n",
    "import subprocess\n",
    "import time\n",
    "import datetime\n",
    "import glob"
   ]
  },
  {
   "cell_type": "code",
   "execution_count": 3,
   "id": "e2fc3afa-d766-422e-8bda-1513b46e25ce",
   "metadata": {},
   "outputs": [],
   "source": [
    "from IPython.core.interactiveshell import InteractiveShell\n",
    "InteractiveShell.ast_node_interactivity='all'"
   ]
  },
  {
   "cell_type": "markdown",
   "id": "5d536694",
   "metadata": {
    "tags": []
   },
   "source": [
    "# os"
   ]
  },
  {
   "cell_type": "markdown",
   "id": "4ea2b515",
   "metadata": {},
   "source": [
    "## os进程管理"
   ]
  },
  {
   "cell_type": "markdown",
   "id": "411f5648",
   "metadata": {},
   "source": [
    "### os.system(): 将字符串转化成命令在服务器上运行：没有返回值\n",
    "    其原理是每一条system函数执行时，其会创建一个子进程在系统上执行命令行，子进程的执行结果无法影响主进程；\n",
    "    无论何时使用此方法，都将打开操作系统的相应 shell 并在其上执行命令。\n",
    "    os.system(command)：\n",
    "        command: 它是字符串类型，告诉执行哪个命令。\n",
    "    注：os.system()在jupyter里运行时不显示结果，在notepad++中运行时会显示运行命令行的输出结果"
   ]
  },
  {
   "cell_type": "code",
   "execution_count": null,
   "id": "cad5720a",
   "metadata": {},
   "outputs": [],
   "source": [
    "os.system(\"dir\")"
   ]
  },
  {
   "cell_type": "code",
   "execution_count": null,
   "id": "634e0da9",
   "metadata": {},
   "outputs": [],
   "source": [
    "running = os.system(r'python C:\\python\\function\\testfile\\cmd_python_model.py')\n",
    "# 这个就是在jupyter中不会显示运行脚本的输出结果，需要在notepad++中运行才可以\n",
    "\n",
    "print(running)    #返回值是0\n",
    "print(\"End\")"
   ]
  },
  {
   "cell_type": "code",
   "execution_count": null,
   "id": "dd9d7239",
   "metadata": {},
   "outputs": [],
   "source": [
    "# 可以用os.system打开notepad或其他软件\n",
    "os.system(\"notepad\")"
   ]
  },
  {
   "cell_type": "code",
   "execution_count": null,
   "id": "5dfb7c12",
   "metadata": {},
   "outputs": [],
   "source": [
    "os.system('SnippingTool')"
   ]
  },
  {
   "cell_type": "markdown",
   "id": "6d266175",
   "metadata": {},
   "source": [
    "### popen():用于从一个命令打开一个管道, 是有返回值\n",
    "    os.popen(command[, mode[, bufsize]])\n",
    "        command -- 使用的命令。\n",
    "        mode -- 模式权限可以是 'r'(默认) 或 'w'。\n",
    "        bufsize -- 指明了文件需要的缓冲大小：0意味着无缓冲；1意味着行缓冲；其它正值表示使用参数大小的缓冲（大概值，以字节为单位）。负的bufsize意味着使用系统的默认值，一般来说，对于tty设备，它是行缓冲；对于其它文件，它是全缓冲。如果没有改参数，使用系统的默认值。"
   ]
  },
  {
   "cell_type": "code",
   "execution_count": null,
   "id": "142374c7",
   "metadata": {},
   "outputs": [],
   "source": [
    "rt = os.popen(r'python D:\\python\\function\\testfile\\cmd_python_model.py')\n",
    "print(rt.read())"
   ]
  },
  {
   "cell_type": "code",
   "execution_count": null,
   "id": "86d6dccc",
   "metadata": {},
   "outputs": [],
   "source": [
    "dr = os.popen(\"dir\")\n",
    "print(dr.read())"
   ]
  },
  {
   "cell_type": "code",
   "execution_count": null,
   "id": "4027c56e-c0db-4014-8404-99b99bc216df",
   "metadata": {},
   "outputs": [],
   "source": []
  },
  {
   "cell_type": "code",
   "execution_count": null,
   "id": "263866b0-ba5c-4b84-b61e-1d2013c931c9",
   "metadata": {},
   "outputs": [],
   "source": [
    "a = 'Hello'\n",
    "result = os.popen(r\"python C:\\python\\function\\testfile\\cmd_python_para.py {}\".format(a))\n",
    "print(result.read())\n",
    "print(\"End\")   #当前主进程需要等待popen运行的进程结束后才能继续"
   ]
  },
  {
   "cell_type": "code",
   "execution_count": null,
   "id": "9353a157-3392-4968-97c4-9f907cae7cb1",
   "metadata": {},
   "outputs": [],
   "source": [
    "result.read()"
   ]
  },
  {
   "cell_type": "markdown",
   "id": "07843b9e",
   "metadata": {},
   "source": [
    "### os.exec***:\n",
    "    os.execl(path, arg0, arg1, ...)\n",
    "    os.execle(path, arg0, arg1, ..., env)\n",
    "    os.execlp(file, arg0, arg1, ...)\n",
    "    os.execlpe(file, arg0, arg1, ..., env)\n",
    "    os.execv(path, args)\n",
    "    os.execve(path, args, env)\n",
    "    os.execvp(file, args)\n",
    "    os.execvpe(file, args, env)\n",
    "    这些函数都执行一个新的程序，然后用新的程序替换当前子进程的进程空间，而该子进程从新程序的main函数开始执行。在Unix下，该新程序的进程id是原来被替换的子进程的进程id。在原来子进程中打开的所有描述符默认都是可用的，不会被关闭。\n",
    "    execv*系列的函数表示其接受的参数是以一个list或者是一个tuple表示的参数表\n",
    "    execl*系列的函数表示其接受的参数是一个个独立的参数传递进去的。\n",
    "    exec*p*系列函数表示在执行参数传递过去的命令时使用PATH环境变量来查找命令\n",
    "    exec*e系列函数表示在执行命令的时候读取该参数指定的环境变量作为默认的环境配置，最后的env参数必须是一个mapping对象，可以是一个dict类型的对象。"
   ]
  },
  {
   "cell_type": "code",
   "execution_count": null,
   "id": "419d180c",
   "metadata": {},
   "outputs": [],
   "source": [
    "# 准备的解释器和要运行的脚本：\n",
    "interpreter = r\"D:\\programming\\python3p9\\Scripts\\python.exe\"\n",
    "script = r\"D:\\python\\function\\testfile\\cmd_python_exec_model.py\"\n",
    "# 脚本内容：脚本需要从外部输入两个参数\n",
    "    # import sys\n",
    "    # info1 = sys.argv[1]\n",
    "    # info2 = sys.argv[2]\n",
    "    # def test_func():\n",
    "    #     print(info1)\n",
    "    #     print(info2)\n",
    "    # test_func()"
   ]
  },
  {
   "cell_type": "code",
   "execution_count": null,
   "id": "db79a703",
   "metadata": {},
   "outputs": [],
   "source": [
    "# 注：这个在Jupyter中运行不了，只能在notepad++中运行\n",
    "os.execl(interpreter,\"python\",script,'exec_example test')    #参数是一个一个传进去的\n",
    "# 等同于，在cmd中运行命令：\n",
    "    # python D:\\python\\function\\testfile\\cmd_python_exec_model.py exec_example test   这个只是使用默认的python解释器，也可以指定"
   ]
  },
  {
   "cell_type": "code",
   "execution_count": null,
   "id": "4b88724c",
   "metadata": {},
   "outputs": [],
   "source": [
    "os.execv(interpreter,[\"python\",script,'python test'])"
   ]
  },
  {
   "cell_type": "code",
   "execution_count": null,
   "id": "6e4f2d61",
   "metadata": {},
   "outputs": [],
   "source": [
    "os.execlp(\"python\",\"python\",script,\"python test\")   #表示在执行参数传递过去的命令时使用PATH环境变量来查找命令,即使用默认的解释器"
   ]
  },
  {
   "cell_type": "code",
   "execution_count": null,
   "id": "55bf218d",
   "metadata": {},
   "outputs": [],
   "source": [
    "os.execle(\"D:\\\\programming\\\\python3p9\\\\Scripts\\python.exe\",\"python\",script,\"python test\",os.environ)\n",
    "# 参数：\"D:\\\\programming\\\\python3p9\\\\Scripts\\python.exe\" 是os.environ里的值"
   ]
  },
  {
   "cell_type": "markdown",
   "id": "e84653e1",
   "metadata": {},
   "source": [
    "## os.environ:环境变量\n",
    "    1.os.environ[‘环境变量名’] = ‘环境变量值’ # 这里环境变量名和环境变量值都是string类型。\n",
    "    2.os.putenv(‘环境变量名称’， ‘环境变量值’)\n",
    "    key字解析：\n",
    "    windows：\n",
    "        os.environ[‘HOMEPATH’]:当前用户主目录。\n",
    "        os.environ[‘TEMP’]:临时目录路径。\n",
    "        os.environ[PATHEXT’]:可执行文件。\n",
    "        os.environ[‘SYSTEMROOT’]:系统主目录。\n",
    "        os.environ[‘LOGONSERVER’]:机器名。\n",
    "        os.environ[‘PROMPT’]:设置提示符。"
   ]
  },
  {
   "cell_type": "code",
   "execution_count": null,
   "id": "0dffc4b1",
   "metadata": {
    "tags": []
   },
   "outputs": [],
   "source": [
    "os.environ"
   ]
  },
  {
   "cell_type": "code",
   "execution_count": null,
   "id": "93cb1da2-79af-40ff-8a1f-5dfa54c0466e",
   "metadata": {
    "tags": []
   },
   "outputs": [],
   "source": [
    "%env"
   ]
  },
  {
   "cell_type": "markdown",
   "id": "81be7c6f",
   "metadata": {},
   "source": [
    "## os.access(path, mode):路径权限检查"
   ]
  },
  {
   "cell_type": "code",
   "execution_count": null,
   "id": "5ff59056",
   "metadata": {},
   "outputs": [],
   "source": [
    "# path -- 要用来检测是否有访问权限的路径。\n",
    "# mode -- mode为F_OK，测试存在的路径，或者它可以是包含R_OK, W_OK和X_OK或者R_OK, W_OK和X_OK其中之一或者更多。\n",
    "#     os.F_OK: 作为access()的mode参数，测试path是否存在。\n",
    "#     os.R_OK: 包含在access()的mode参数中 ， 测试path是否可读。\n",
    "#     os.W_OK 包含在access()的mode参数中 ， 测试path是否可写。\n",
    "#     os.X_OK 包含在access()的mode参数中 ，测试path是否可执行。"
   ]
  },
  {
   "cell_type": "code",
   "execution_count": null,
   "id": "a04137d4",
   "metadata": {},
   "outputs": [],
   "source": [
    "os.access(r'./__pycache__',mode=os.X_OK)         #注意是'\\';"
   ]
  },
  {
   "cell_type": "markdown",
   "id": "4dd324d9",
   "metadata": {},
   "source": [
    "## os.chdir(path): 改变当前工作目录"
   ]
  },
  {
   "cell_type": "code",
   "execution_count": null,
   "id": "63e51288",
   "metadata": {},
   "outputs": [],
   "source": [
    "os.getcwd()"
   ]
  },
  {
   "cell_type": "code",
   "execution_count": null,
   "id": "7c9e1524",
   "metadata": {},
   "outputs": [],
   "source": [
    "os.chdir(r\"D:\\python\\function\")"
   ]
  },
  {
   "cell_type": "markdown",
   "id": "f0a4f22b",
   "metadata": {},
   "source": [
    "## os.chmod(path,mode): 用于更改文件或目录的权限。\n",
    "    右键\\属性\\安全\\..."
   ]
  },
  {
   "cell_type": "code",
   "execution_count": null,
   "id": "a52cde01",
   "metadata": {},
   "outputs": [],
   "source": [
    "# path -- 文件名路径或目录路径。\n",
    "# flags -- 可用以下选项按位或操作生成， 目录的读权限表示可以获取目录里文件名列表， ，执行权限表示可以把工作目录切换到此目录 ，删除添加目录里的文件必须同时有写和执行权限 ，文件权限以用户id->组id->其它顺序检验,最先匹配的允许或禁止权限被应用。\n",
    "#     stat.S_IXOTH: 其他用户有执行权0o001\n",
    "#     stat.S_IWOTH: 其他用户有写权限0o002\n",
    "#     stat.S_IROTH: 其他用户有读权限0o004\n",
    "#     stat.S_IRWXO: 其他用户有全部权限(权限掩码)0o007\n",
    "#     stat.S_IXGRP: 组用户有执行权限0o010\n",
    "#     stat.S_IWGRP: 组用户有写权限0o020\n",
    "#     stat.S_IRGRP: 组用户有读权限0o040\n",
    "#     stat.S_IRWXG: 组用户有全部权限(权限掩码)0o070\n",
    "#     stat.S_IXUSR: 拥有者具有执行权限0o100\n",
    "#     stat.S_IWUSR: 拥有者具有写权限0o200\n",
    "#     stat.S_IRUSR: 拥有者具有读权限0o400\n",
    "#     stat.S_IRWXU: 拥有者有全部权限(权限掩码)0o700\n",
    "#     stat.S_ISVTX: 目录里文件目录只有拥有者才可删除更改0o1000\n",
    "#     stat.S_ISGID: 执行此文件其进程有效组为文件所在组0o2000\n",
    "#     stat.S_ISUID: 执行此文件其进程有效用户为文件所有者0o4000\n",
    "#     stat.S_IREAD: windows下设为只读\n",
    "#     stat.S_IWRITE: windows下取消只读"
   ]
  },
  {
   "cell_type": "markdown",
   "id": "1f81afe5",
   "metadata": {},
   "source": [
    "## os.getcwd() 返回当前工作目录"
   ]
  },
  {
   "cell_type": "code",
   "execution_count": null,
   "id": "0126c49b",
   "metadata": {},
   "outputs": [],
   "source": [
    "os.getcwd()"
   ]
  },
  {
   "cell_type": "markdown",
   "id": "99263599",
   "metadata": {},
   "source": [
    "## os.link(src, dst):创建硬链接\n",
    "    只能针对文件进行创建\n",
    "    src -- 用于创建硬连接的源地址\n",
    "    dst -- 用于创建硬连接的目标地址"
   ]
  },
  {
   "cell_type": "markdown",
   "id": "41bb3d6d",
   "metadata": {},
   "source": [
    "## os.symlink(src, dst):创建一个软链接\n",
    "    windows下创建的链接打不开\n",
    "    src -- 源地址。\n",
    "    dst -- 目标地址"
   ]
  },
  {
   "cell_type": "code",
   "execution_count": null,
   "id": "66da1137",
   "metadata": {},
   "outputs": [],
   "source": []
  },
  {
   "cell_type": "markdown",
   "id": "af36a102",
   "metadata": {},
   "source": [
    "## os.listdir(path):返回文件或文件夹的名字的列表"
   ]
  },
  {
   "cell_type": "code",
   "execution_count": null,
   "id": "ad7d203a",
   "metadata": {},
   "outputs": [],
   "source": [
    "os.listdir()   #默认是返回当前文件夹的所有内容"
   ]
  },
  {
   "cell_type": "markdown",
   "id": "e5637a1d",
   "metadata": {},
   "source": [
    "## os.stat(path):执行一个系统 stat 的调用"
   ]
  },
  {
   "cell_type": "code",
   "execution_count": null,
   "id": "9b7f34d6",
   "metadata": {},
   "outputs": [],
   "source": [
    "# stat 结构:\n",
    "#     st_mode: inode 保护模式\n",
    "#     st_ino: inode 节点号。\n",
    "#     st_dev: inode 驻留的设备。\n",
    "#     st_nlink: inode 的链接数。\n",
    "#     st_uid: 所有者的用户ID。\n",
    "#     st_gid: 所有者的组ID。\n",
    "#     st_size: 普通文件以字节为单位的大小；包含等待某些特殊文件的数据。\n",
    "#     st_atime: 上次访问的时间。\n",
    "#     st_mtime: 最后一次修改的时间。\n",
    "#     st_ctime: 由操作系统报告的\"ctime\""
   ]
  },
  {
   "cell_type": "code",
   "execution_count": null,
   "id": "11039fb3",
   "metadata": {},
   "outputs": [],
   "source": [
    "os.stat(path=os.getcwd())"
   ]
  },
  {
   "cell_type": "markdown",
   "id": "c659b7f6",
   "metadata": {},
   "source": [
    "## os.lstat(path):返回文件的相关信息\n",
    "    像stat(),但是没有软链接"
   ]
  },
  {
   "cell_type": "code",
   "execution_count": null,
   "id": "ac225e11",
   "metadata": {},
   "outputs": [],
   "source": [
    "os.lstat(os.getcwd())"
   ]
  },
  {
   "cell_type": "markdown",
   "id": "e656ab3b",
   "metadata": {},
   "source": [
    "## os.mkdir(path, mode=0o777):用于递归创建一级目录\n",
    "    path --需要递归创建的目录，可以是相对或者绝对路径。。\n",
    "    mode -- 权限模式。\n",
    "    在一些系统中，可以忽略mode，在一些平台可以通过调用chmod()来指定它们。mode就是所创建目录对应的文件及文件夹的读写权限，可以参考Linux命令下的chmod命令来理解"
   ]
  },
  {
   "cell_type": "code",
   "execution_count": null,
   "id": "9cfc81df",
   "metadata": {},
   "outputs": [],
   "source": [
    "os.mkdir(\"mkdir\")"
   ]
  },
  {
   "cell_type": "markdown",
   "id": "b64c53c9",
   "metadata": {},
   "source": [
    "## os.makedirs(path, mode,exist_ok):用于递归创建目录\n",
    "    可以是多级新目录,如果是一级同mkdir\n",
    "    exist_ok:bool 判断该目录是否已经存在，如果存在就报错"
   ]
  },
  {
   "cell_type": "code",
   "execution_count": null,
   "id": "ef102bb0",
   "metadata": {},
   "outputs": [],
   "source": [
    "os.getcwd()"
   ]
  },
  {
   "cell_type": "code",
   "execution_count": null,
   "id": "1cc3c358",
   "metadata": {},
   "outputs": [],
   "source": [
    "os.makedirs(r\"makedirs\\makedirs\",mode=0o777, exist_ok=False)"
   ]
  },
  {
   "cell_type": "markdown",
   "id": "106df6a7",
   "metadata": {},
   "source": [
    "## os.remove(path):删除文件"
   ]
  },
  {
   "cell_type": "code",
   "execution_count": null,
   "id": "496aaeea",
   "metadata": {},
   "outputs": [],
   "source": [
    "os.remove(r\"test.txt\")"
   ]
  },
  {
   "cell_type": "markdown",
   "id": "02d6ce17",
   "metadata": {},
   "source": [
    "## os.rmdir(path):删除目录,只能是空文件夹"
   ]
  },
  {
   "cell_type": "code",
   "execution_count": null,
   "id": "9ac92cb4",
   "metadata": {},
   "outputs": [],
   "source": [
    "os.rmdir(r\"D:\\python\\Preview\\mkdir\")"
   ]
  },
  {
   "cell_type": "markdown",
   "id": "cdc92552",
   "metadata": {},
   "source": [
    "## os.removedirs(path):递归删除目录。\n",
    "        像rmdir(),如果子文件夹成功删除,removedirs()才尝试它们的父文件夹,直到抛出一个error(它基本上被忽略,因为它一般意味着你文件夹不为空)。"
   ]
  },
  {
   "cell_type": "markdown",
   "id": "ccc2abb1",
   "metadata": {},
   "source": [
    "## os.rename(src,dst):命名(修改)文件或目录，\n",
    "    从src到dst,如果dst是一个存在的目录,将抛出OSError\n",
    "    src -- 要修改的目录名(要修改的文件名/文件夹名)\n",
    "    dst -- 修改后的目录名(修改后的文件名/文件夹名)"
   ]
  },
  {
   "cell_type": "markdown",
   "id": "af109ac7",
   "metadata": {},
   "source": [
    "## os.unlink(path):删除文件\n",
    "    如果文件是一个目录则返回一个错误。\n",
    "        需要在管理员权限下"
   ]
  },
  {
   "cell_type": "markdown",
   "id": "8e22d616",
   "metadata": {},
   "source": [
    "## os.utime(path, times):设置最后的修改和访问时间"
   ]
  },
  {
   "cell_type": "code",
   "execution_count": null,
   "id": "92d9e99c",
   "metadata": {},
   "outputs": [],
   "source": [
    "os.utime(r'./test.txt',(1330712280, 1330712292))\n",
    "ret = os.stat(r'./test.txt')"
   ]
  },
  {
   "cell_type": "code",
   "execution_count": null,
   "id": "e5525576",
   "metadata": {},
   "outputs": [],
   "source": [
    "ret"
   ]
  },
  {
   "cell_type": "code",
   "execution_count": null,
   "id": "3636d2f6",
   "metadata": {},
   "outputs": [],
   "source": [
    "time.ctime(1330712292)"
   ]
  },
  {
   "cell_type": "markdown",
   "id": "771d668c",
   "metadata": {},
   "source": [
    "## os.walk():通过在目录树中游走输出在目录中的文件名，向上或者向下\n",
    "    top[,topdown=True[,onerror=None[,followlinks=False]]]\n",
    "    top -- 是你所要遍历的目录的地址, 返回的是一个三元组(root,dirs,files)。\n",
    "    root 所指的是当前正在遍历的这个文件夹的本身的地址\n",
    "    dirs 是一个 list ，内容是该文件夹中所有的目录的名字(不包括子目录)\n",
    "    files 同样是 list , 内容是该文件夹中所有的文件(不包括子目录)\n",
    "    topdown --可选，为 True，则优先遍历 top 目录，否则优先遍历 top的子目录(默认为开启)。如果 topdown 参数为 True，walk 会遍历top文件夹，与top 文件夹中每一个子目录。\n",
    "    onerror -- 可选，需要一个 callable 对象，当 walk 需要异常时，会调用。\n",
    "    followlinks -- 可选，如果为 True，则会遍历目录下的快捷方式(linux 下是软连接 symbolic link )实际所指的目录(默认关闭)，如果为 False，则优先遍历 top 的子目录。\n",
    "    \n",
    "    返回的是对象：\n",
    "        对于每一个元组内容如：(目录，文件夹，文件)"
   ]
  },
  {
   "cell_type": "code",
   "execution_count": null,
   "id": "198227e3-659d-4f38-b8d2-c6b0a45b219e",
   "metadata": {},
   "outputs": [],
   "source": [
    "for i in os.walk(r\"C:\\python\\function\\instance\"):\n",
    "    print(i)\n",
    "    print(\"*\"*50)\n",
    "    # break\n",
    "del i   #for循环结束后,i不会被销毁"
   ]
  },
  {
   "cell_type": "code",
   "execution_count": null,
   "id": "a6b961ef",
   "metadata": {
    "tags": []
   },
   "outputs": [],
   "source": [
    "filedirs = []\n",
    "for root,folders,files in os.walk(r\"C:\\python\\function\\instance\"):\n",
    "    for file in files:\n",
    "        filedirs.append(os.path.join(root,file))\n",
    "filedirs"
   ]
  },
  {
   "cell_type": "markdown",
   "id": "abc49206",
   "metadata": {},
   "source": [
    "# os.path: 模块主要用于获取文件的属性\n",
    "    官网：https://docs.python.org/zh-cn/3/library/os.path.html"
   ]
  },
  {
   "cell_type": "markdown",
   "id": "bc84dfaa",
   "metadata": {},
   "source": [
    "## os.path.abspath(path):获取文件的绝对路径"
   ]
  },
  {
   "cell_type": "code",
   "execution_count": null,
   "id": "aac84bc4",
   "metadata": {},
   "outputs": [],
   "source": [
    "os.path.abspath(\"test.txt\")"
   ]
  },
  {
   "cell_type": "markdown",
   "id": "aaad91e4",
   "metadata": {},
   "source": [
    "## os.path.basename(path):返回文件名"
   ]
  },
  {
   "cell_type": "code",
   "execution_count": null,
   "id": "1b1629d7",
   "metadata": {},
   "outputs": [],
   "source": [
    "os.path.basename(r'D:\\\\python\\\\function\\\\test.txt')"
   ]
  },
  {
   "cell_type": "markdown",
   "id": "86f52e3b",
   "metadata": {},
   "source": [
    "## os.path.commonprefix(list): 返回list(多个路径)中，所有path共有的最长的路径"
   ]
  },
  {
   "cell_type": "code",
   "execution_count": null,
   "id": "2bf4cb27",
   "metadata": {},
   "outputs": [],
   "source": [
    "file_path = glob.glob(r'.\\*')\n",
    "os.path.commonprefix(file_path)"
   ]
  },
  {
   "cell_type": "markdown",
   "id": "f59d8d66",
   "metadata": {},
   "source": [
    "## os.path.dirname(path):返回文件路径"
   ]
  },
  {
   "cell_type": "code",
   "execution_count": null,
   "id": "ed5c20ea",
   "metadata": {},
   "outputs": [],
   "source": [
    "os.path.dirname(r'C:\\Users\\osun\\Desktop\\Python\\Function\\library\\test.txt')"
   ]
  },
  {
   "cell_type": "markdown",
   "id": "89ffd59b",
   "metadata": {},
   "source": [
    "## os.path.exists(path):判断路径(文件夹或文件)是否存在\n",
    "    存在:True,不存在:False"
   ]
  },
  {
   "cell_type": "code",
   "execution_count": null,
   "id": "206f16f1",
   "metadata": {},
   "outputs": [],
   "source": [
    "os.path.exists(r'./test/test.txt')"
   ]
  },
  {
   "cell_type": "code",
   "execution_count": null,
   "id": "195705f2",
   "metadata": {},
   "outputs": [],
   "source": [
    "os.path.exists(r'./test.txt')"
   ]
  },
  {
   "cell_type": "markdown",
   "id": "93929bc1",
   "metadata": {},
   "source": [
    "## os.path.getatime(path):返回最近访问的时间(浮点型秒数)"
   ]
  },
  {
   "cell_type": "code",
   "execution_count": null,
   "id": "d1befac4",
   "metadata": {},
   "outputs": [],
   "source": [
    "t = os.path.getatime(r\"subprocess_tst.py\")\n",
    "t"
   ]
  },
  {
   "cell_type": "code",
   "execution_count": null,
   "id": "1002fcb2",
   "metadata": {},
   "outputs": [],
   "source": [
    "datetime.datetime.fromtimestamp(t).strftime(\"%Y%m%d\")"
   ]
  },
  {
   "cell_type": "code",
   "execution_count": null,
   "id": "e4acfa76",
   "metadata": {},
   "outputs": [],
   "source": [
    "time.ctime(t)"
   ]
  },
  {
   "cell_type": "markdown",
   "id": "275385d4",
   "metadata": {},
   "source": [
    "## os.path.getmtime(path):返回文件的最近修改时间"
   ]
  },
  {
   "cell_type": "code",
   "execution_count": null,
   "id": "428af713",
   "metadata": {},
   "outputs": [],
   "source": [
    "os.path.getmtime(r\"subprocess_tst.py\")"
   ]
  },
  {
   "cell_type": "markdown",
   "id": "0ce50b48",
   "metadata": {},
   "source": [
    "## os.path.getctime(path):返回文件的创建时间(时间戳)"
   ]
  },
  {
   "cell_type": "code",
   "execution_count": null,
   "id": "d05b29cf",
   "metadata": {},
   "outputs": [],
   "source": [
    "os.path.getctime(r\"subprocess_tst.py\")"
   ]
  },
  {
   "cell_type": "markdown",
   "id": "e0bf151d",
   "metadata": {},
   "source": [
    "## os.path.getsize(path):返回文件的大小\n",
    "    如果文件不存在返回错误"
   ]
  },
  {
   "cell_type": "code",
   "execution_count": null,
   "id": "55407bcb",
   "metadata": {},
   "outputs": [],
   "source": [
    "os.path.getsize(r\"subprocess_tst.py\")"
   ]
  },
  {
   "cell_type": "markdown",
   "id": "65eb7cdb",
   "metadata": {},
   "source": [
    "## os.path.isabs(path):判断路径是否位绝对路径"
   ]
  },
  {
   "cell_type": "code",
   "execution_count": null,
   "id": "973e2b22",
   "metadata": {},
   "outputs": [],
   "source": [
    "os.path.isabs(r'./test.txt')"
   ]
  },
  {
   "cell_type": "markdown",
   "id": "0d9142a7",
   "metadata": {},
   "source": [
    "## os.path.isfile(path):判断路径是否为文件"
   ]
  },
  {
   "cell_type": "code",
   "execution_count": null,
   "id": "9aa0a3be",
   "metadata": {},
   "outputs": [],
   "source": [
    "os.path.isfile(r'./test.txt')"
   ]
  },
  {
   "cell_type": "markdown",
   "id": "b80a5d1b",
   "metadata": {},
   "source": [
    "## os.path.isdir(path):判断路径是否为目录"
   ]
  },
  {
   "cell_type": "code",
   "execution_count": null,
   "id": "44f2f05e",
   "metadata": {},
   "outputs": [],
   "source": [
    "os.path.isdir(r'C:\\Users\\osun\\Desktop\\Python\\Function')"
   ]
  },
  {
   "cell_type": "markdown",
   "id": "f77e9231",
   "metadata": {},
   "source": [
    "## os.path.islink(path):判断路径是否为链接\n",
    "    windows不适用"
   ]
  },
  {
   "cell_type": "code",
   "execution_count": null,
   "id": "b34f4f0b",
   "metadata": {},
   "outputs": [],
   "source": [
    "for i in os.listdir(r\"D:\\python\\Preview\"):\n",
    "    print(os.path.islink(i))"
   ]
  },
  {
   "cell_type": "markdown",
   "id": "ad0c8d6e",
   "metadata": {},
   "source": [
    "## os.path.join(path1[, path2[, ...]]):把目录和文件名合并成一个路径"
   ]
  },
  {
   "cell_type": "code",
   "execution_count": null,
   "id": "37b87c8f",
   "metadata": {},
   "outputs": [],
   "source": [
    "os.path.join(r'C:\\Users\\osun\\Desktop\\Python\\Function\\library',r'test.txt')"
   ]
  },
  {
   "cell_type": "markdown",
   "id": "7f46fe0c",
   "metadata": {},
   "source": [
    "## os.path.normcase(path):转换path的大小写和斜杠"
   ]
  },
  {
   "cell_type": "code",
   "execution_count": null,
   "id": "316d7f8b",
   "metadata": {},
   "outputs": [],
   "source": [
    "dr = os.path.normcase(r\"D:\\python/function\\\\test.txt\")\n",
    "dr"
   ]
  },
  {
   "cell_type": "markdown",
   "id": "0d0acdac",
   "metadata": {},
   "source": [
    "## os.path.normpath(path):规范path字符串形式\n",
    "    就是帮你纠错,和normcase有点像"
   ]
  },
  {
   "cell_type": "code",
   "execution_count": null,
   "id": "799c6da1",
   "metadata": {},
   "outputs": [],
   "source": [
    "print(r\"用print打印路径里是一个\\ \")\n",
    "print(os.path.normpath(r\"C:\\python\\function\"))\n",
    "print(\"\\n\")\n",
    "\n",
    "print(r\"在windows里路径有两个斜杠\\\\会报错\")\n",
    "os.path.normpath(r\"C:\\python\\function\")"
   ]
  },
  {
   "cell_type": "code",
   "execution_count": null,
   "id": "05fad678-5ebd-4d98-8200-3ec35b8abb94",
   "metadata": {},
   "outputs": [],
   "source": [
    "os.path.exists(r\"C:\\python\\function\")\n",
    "os.path.exists(r\"C:\\python\\\\\\\\function\")"
   ]
  },
  {
   "cell_type": "markdown",
   "id": "51bedf93",
   "metadata": {},
   "source": [
    "## os.path.relpath(path[, start]):从start开始计算相对路径"
   ]
  },
  {
   "cell_type": "code",
   "execution_count": null,
   "id": "bfb60bff",
   "metadata": {},
   "outputs": [],
   "source": [
    "os.path.relpath(r'D:\\Users\\osun\\Desktop\\Python\\Function\\library\\test.txt','Desktop')"
   ]
  },
  {
   "cell_type": "markdown",
   "id": "372b3d81",
   "metadata": {},
   "source": [
    "## os.path.samefile(path1, path2):判断两个目录是否相同\n",
    "    前提条件是两个目录都存在"
   ]
  },
  {
   "cell_type": "code",
   "execution_count": null,
   "id": "8bdd318f",
   "metadata": {},
   "outputs": [],
   "source": [
    "path1 = r\"C:\\python\\\\\\\\function\"\n",
    "path2 = r\"C:\\python\\\\\\\\function\"\n",
    "os.path.samefile(path1,path2)"
   ]
  },
  {
   "cell_type": "code",
   "execution_count": null,
   "id": "36ba1ac8",
   "metadata": {},
   "outputs": [],
   "source": [
    "path1 == path2"
   ]
  },
  {
   "cell_type": "markdown",
   "id": "f3906a3c",
   "metadata": {},
   "source": [
    "## os.path.split(path)\t把路径分割成 dirname 和 basename\n",
    "    返回一个元组"
   ]
  },
  {
   "cell_type": "code",
   "execution_count": null,
   "id": "28760486",
   "metadata": {},
   "outputs": [],
   "source": [
    "path = r\"D:\\python\\function\\test.txt\"\n",
    "os.path.split(path)"
   ]
  },
  {
   "cell_type": "markdown",
   "id": "bcddb1ac",
   "metadata": {},
   "source": [
    "## os.path.splitdrive(path):，返回驱动器名和路径组成的元组\n",
    "    一般用在 windows 下"
   ]
  },
  {
   "cell_type": "code",
   "execution_count": null,
   "id": "fa0cc952",
   "metadata": {},
   "outputs": [],
   "source": [
    "path = r\"D:\\python\\function\\test.txt\"\n",
    "os.path.splitdrive(path)"
   ]
  },
  {
   "cell_type": "markdown",
   "id": "150fcf9e",
   "metadata": {},
   "source": [
    "## os.path.splitext(path):分割路径，返回路径名和文件扩展名的元组"
   ]
  },
  {
   "cell_type": "code",
   "execution_count": null,
   "id": "938d73e1",
   "metadata": {},
   "outputs": [],
   "source": [
    "path = r\"D:\\python\\function\\test.txt\"\n",
    "os.path.splitext(path)"
   ]
  },
  {
   "cell_type": "code",
   "execution_count": null,
   "id": "1cbe2378",
   "metadata": {},
   "outputs": [],
   "source": [
    "os.path.splitext(\"test.txt\")"
   ]
  },
  {
   "cell_type": "markdown",
   "id": "825365cc",
   "metadata": {},
   "source": [
    "# subprocess:子进程\n",
    "    subprocess.run(): 在windows下执行一条cmd命令!!!\n",
    "        args：表示要执行的命令。必须是一个字符串，字符串参数列表。\n",
    "        stdin、stdout 和 stderr：子进程的标准输入、输出和错误。\n",
    "            其值可以是 subprocess.PIPE、subprocess.DEVNULL、一个已经存在的文件描述符、已经打开的文件对象或者 None。\n",
    "            subprocess.PIPE 表示为子进程创建新的管道。subprocess.DEVNULL 表示使用 os.devnull。\n",
    "            默认使用的是 None，表示什么都不做。另外，stderr 可以合并到 stdout 里一起输出。\n",
    "        timeout：设置命令超时时间。如果命令执行时间超时，子进程将被杀死，并弹出 TimeoutExpired 异常。\n",
    "        check：如果该参数设置为 True，并且进程退出状态码不是 0，则弹 出 CalledProcessError 异常。\n",
    "        encoding:python3.6 以上可用,如果指定了该参数，则 stdin、stdout 和 stderr 可以接收字符串数据，并以该编码方式编码。\n",
    "                否则只接收 bytes 类型的数据。\n",
    "        shell：如果该参数为 True，将通过操作系统的 shell 执行指定的命令。"
   ]
  },
  {
   "cell_type": "markdown",
   "id": "a445fee2",
   "metadata": {},
   "source": [
    "## subprocess.run():"
   ]
  },
  {
   "cell_type": "markdown",
   "id": "244b7337",
   "metadata": {},
   "source": [
    "### 运行cmd命令"
   ]
  },
  {
   "cell_type": "raw",
   "id": "45787050-c352-4315-b981-d8b36ae5393a",
   "metadata": {},
   "source": [
    "对于子进程的管理，jupyter会截获子进程的输出，所以子进程的管理在jupyter里不可用，在notepad++里可用\n",
    "运行cmd命令：\n",
    "1. subprocess.run(args=\"python\",shell=True)  #运行python\n",
    "2. subprocess.run(args=\"dir\",shell=True)      #运行dir\n",
    "3. subprocess.run(args=\"pip list\",shell=True)    #这两种方式都可用\n",
    "  subprocess.run(args=[\"pip\",\"list\"],shell=True) \n",
    "4. subprocess.run(args=\"python function_test.py\",shell=True)   #function_test.py 与此脚本在同一目录下是可用的,\n",
    "    否则要用列表,如下一条\n",
    "  subprocess.run([\"python\",r\".\\testfile\\function_test.py\"],shell=True)"
   ]
  },
  {
   "cell_type": "code",
   "execution_count": null,
   "id": "9d9cce53",
   "metadata": {},
   "outputs": [],
   "source": [
    "# notepad++里有效，在jupyter里只返回运行状态，如果返回码0表示已经运行\n",
    "subprocess.run(args=\"python\",shell=True)  #运行python"
   ]
  },
  {
   "cell_type": "code",
   "execution_count": null,
   "id": "d33a9fd5",
   "metadata": {},
   "outputs": [],
   "source": [
    "# notepad++里有效\n",
    "subprocess.run(args=\"dir\",shell=True)      #运行dir"
   ]
  },
  {
   "cell_type": "code",
   "execution_count": null,
   "id": "f1cdaf47",
   "metadata": {},
   "outputs": [],
   "source": [
    "# subprocess.run(args=\"pip list\",shell=True)    #这两种方式都可用\n",
    "# subprocess.run(args=[\"pip\",\"list\"],shell=True) "
   ]
  },
  {
   "cell_type": "markdown",
   "id": "ca90dbc0",
   "metadata": {},
   "source": [
    "### 同cmd打开一个软件"
   ]
  },
  {
   "cell_type": "code",
   "execution_count": null,
   "id": "a6c3b5a3",
   "metadata": {},
   "outputs": [],
   "source": [
    "subprocess.run([r\"C:\\Windows\\System32\\notepad.exe\"],shell=True)"
   ]
  },
  {
   "cell_type": "markdown",
   "id": "7d0fb4e0",
   "metadata": {},
   "source": [
    "### 直接将返回值输出到文件"
   ]
  },
  {
   "cell_type": "code",
   "execution_count": null,
   "id": "dd111d46",
   "metadata": {},
   "outputs": [],
   "source": [
    "with open(r\".\\testfile\\subprocessruntest.csv\",'w') as fp:\n",
    "    subprocess.run([\"python\",r\".\\testfile\\function_test.py\"],shell=True,timeout=2,stdout=fp)"
   ]
  },
  {
   "cell_type": "markdown",
   "id": "87566e15",
   "metadata": {},
   "source": [
    "### 返回值"
   ]
  },
  {
   "cell_type": "raw",
   "id": "aa26660f-4ed4-488f-a211-e4282e3c0f01",
   "metadata": {},
   "source": [
    "run 方法调用方式返回 CompletedProcess 实例，和直接 Popen 差不多，实现是一样的，实际也是调用 Popen，与 Popen 构造函数大致相同"
   ]
  },
  {
   "cell_type": "code",
   "execution_count": null,
   "id": "43cd2b95",
   "metadata": {},
   "outputs": [],
   "source": [
    "p = subprocess.run(\"echo 'hello dj'\", shell=True, stdout=subprocess.PIPE, stderr=subprocess.PIPE)  #echo解释见下面\n",
    "print(\"获取返回对象:{}\".format(p))\n",
    "print(\"获取执行命令:{}\".format(p))\n",
    "print(\"获取返回码:{}\".format(p.returncode))\n",
    "print(\"获取返回数据:{}\".format(p.stdout))\n",
    "res = p.stdout.decode()   #stdout返回的是二进制字节,decode()转换成字符串\n",
    "print(res)"
   ]
  },
  {
   "cell_type": "code",
   "execution_count": null,
   "id": "a54aeb20",
   "metadata": {},
   "outputs": [],
   "source": [
    "# echo命令是linux中最基础的命令\n",
    "# echo命令的基本用法，很简单，就是echo命令后面跟上要输出的文本\n",
    "    # \\b 转义后相当于按退格键(backspace) ,但前提是”\\b”后面存在字符，具体效果参考下方示例。\n",
    "    # \\c 不换行输出，在”\\c”后面不存在字符的情况下，作用相当于echo -n，具体效果参考下方示例。\n",
    "    # \\n 换行，效果看示例。\n",
    "    # \\f 换行，但是换行后的新行的开头位置连接着上一行的行尾，具体效果查看示例；\n",
    "    # \\v 与\\f相同；\n",
    "    # \\t 转以后表示插入tab，即制表符，已经在上面举过例子；\n",
    "    # \\r 光标移至行首，但不换行，相当于使用”\\r”以后的字符覆盖”\\r”之前同等长度的字符，只看这段文字描述的话可能不容易理解，具体效果查看示例；\n",
    "    # \\\\ 表示插入”\\”本身；"
   ]
  },
  {
   "cell_type": "code",
   "execution_count": null,
   "id": "74f26511",
   "metadata": {},
   "outputs": [],
   "source": [
    "echo \"tst\""
   ]
  },
  {
   "cell_type": "code",
   "execution_count": null,
   "id": "560885a9",
   "metadata": {},
   "outputs": [],
   "source": [
    "echo -n \"tst \\n tst2\"; echo \"tst\""
   ]
  },
  {
   "cell_type": "code",
   "execution_count": null,
   "id": "f580f626",
   "metadata": {},
   "outputs": [],
   "source": [
    "echo\"tst\\n tst2\""
   ]
  },
  {
   "cell_type": "markdown",
   "id": "0a802b0e",
   "metadata": {},
   "source": [
    "## subprocess.Popen()"
   ]
  },
  {
   "cell_type": "raw",
   "id": "9b472d28-eca5-4f99-93e3-1077be7480b3",
   "metadata": {},
   "source": [
    "subprocess.Popen()方法是一个异步方法，执行后会返回一个Popen对象!!!\n",
    "Popen 是 subprocess的核心，子进程的创建和管理都靠它处理\n",
    "常用参数：\n",
    "    args：shell命令，可以是字符串或者序列类型（如：list，元组）\n",
    "    bufsize：缓冲区大小。当创建标准流的管道对象时使用，默认-1。\n",
    "        0：不使用缓冲区\n",
    "        1：表示行缓冲，仅当universal_newlines=True时可用，也就是文本模式\n",
    "        正数：表示缓冲区大小\n",
    "        负数：表示使用系统默认的缓冲区大小。\n",
    "    stdin, stdout, stderr：分别表示程序的标准输入、输出、错误句柄\n",
    "    preexec_fn：只在 Unix 平台下有效，用于指定一个可执行对象（callable object），它将在子进程运行之前被调用\n",
    "    shell：如果该参数为 True，将通过操作系统的 shell 执行指定的命令。\n",
    "    cwd：用于设置子进程的当前目录。\n",
    "    env：用于指定子进程的环境变量。如果 env = None，子进程的环境变量将从父进程中继承。"
   ]
  },
  {
   "cell_type": "code",
   "execution_count": null,
   "id": "4ea54155",
   "metadata": {},
   "outputs": [],
   "source": [
    "# 创建一个子进程：\n",
    "p = subprocess.Popen(\"echo this is test\", shell=True,stdout=subprocess.PIPE, stderr=subprocess.PIPE, universal_newlines=True)"
   ]
  },
  {
   "cell_type": "code",
   "execution_count": null,
   "id": "1720f0d9",
   "metadata": {},
   "outputs": [],
   "source": [
    "print(\"获取返回对象: {}\".format(p))                 #返回的是对象\n",
    "print(\"获取pid: {}\".format(p.pid))                  #内存地址"
   ]
  },
  {
   "cell_type": "markdown",
   "id": "76734a8c",
   "metadata": {},
   "source": [
    "### stdout/stderr.read()/readline/readlines:读取子进程返回的内容"
   ]
  },
  {
   "cell_type": "code",
   "execution_count": null,
   "id": "5d3f8fa8",
   "metadata": {},
   "outputs": [],
   "source": [
    "print(\"获取返回数据: {}\".format(p.stdout.read()))   #通过输出管道读取内容"
   ]
  },
  {
   "cell_type": "code",
   "execution_count": null,
   "id": "550024e3",
   "metadata": {},
   "outputs": [],
   "source": [
    "p.stdout.readline()"
   ]
  },
  {
   "cell_type": "code",
   "execution_count": null,
   "id": "d9fb571a",
   "metadata": {},
   "outputs": [],
   "source": [
    "p.stdout.readlines()"
   ]
  },
  {
   "cell_type": "code",
   "execution_count": null,
   "id": "95ea77bd-adc9-4096-add3-a07f59c9a61d",
   "metadata": {},
   "outputs": [],
   "source": [
    "# pp = subprocess.Popen(\"dir\",shell=True,stdout=subprocess.PIPE)\n",
    "# pp.communicate()[0]"
   ]
  },
  {
   "cell_type": "markdown",
   "id": "7abcd499",
   "metadata": {},
   "source": [
    "### poll():检查进程是否终止\n",
    "    如果终止返回 returncode，否则返回 None。"
   ]
  },
  {
   "cell_type": "code",
   "execution_count": null,
   "id": "b2709f34",
   "metadata": {},
   "outputs": [],
   "source": [
    "p.poll()"
   ]
  },
  {
   "cell_type": "markdown",
   "id": "3416526b",
   "metadata": {},
   "source": [
    "### Popen.wait(): 等待子进程结束\n",
    "    等待子进程结束，并返回状态码；如果在timeout指定的秒数之后进程还没有结束，将会抛出一个TimeoutExpired异常。"
   ]
  },
  {
   "cell_type": "code",
   "execution_count": null,
   "id": "dc173865",
   "metadata": {},
   "outputs": [],
   "source": [
    "p.wait(timeout=1)"
   ]
  },
  {
   "cell_type": "markdown",
   "id": "70495dbc",
   "metadata": {},
   "source": [
    "### Popen.communicate():获取子进程返回的数据\n",
    "    (input=None, timeout=None)该方法可用来与进程进行交互，比如发送数据到stdin，从stdout和stderr读取数据，直到到达文件末尾。\n",
    "    返回的是元组,(stdout,stderr),即stdout输出内容和stderr错误信息"
   ]
  },
  {
   "cell_type": "markdown",
   "id": "15b4574a",
   "metadata": {},
   "source": [
    "#### instance1"
   ]
  },
  {
   "cell_type": "code",
   "execution_count": null,
   "id": "4ab96142",
   "metadata": {},
   "outputs": [],
   "source": [
    "p.communicate()"
   ]
  },
  {
   "cell_type": "markdown",
   "id": "93c91c9e",
   "metadata": {},
   "source": [
    "#### instance2"
   ]
  },
  {
   "cell_type": "code",
   "execution_count": null,
   "id": "c249b38c",
   "metadata": {},
   "outputs": [],
   "source": [
    "# 测试脚本，内容如下：\n",
    "# print(\"this is tst!\")"
   ]
  },
  {
   "cell_type": "code",
   "execution_count": null,
   "id": "a9b57c79",
   "metadata": {},
   "outputs": [],
   "source": [
    "obj = subprocess.Popen([\"python\",\"function_test.py\"],stdin=subprocess.PIPE,stdout=subprocess.PIPE,stderr=subprocess.PIPE,encoding='utf8')"
   ]
  },
  {
   "cell_type": "code",
   "execution_count": null,
   "id": "2b45b83a",
   "metadata": {},
   "outputs": [],
   "source": [
    "print(obj.communicate()[0])"
   ]
  },
  {
   "cell_type": "markdown",
   "id": "97214838",
   "metadata": {},
   "source": [
    "#### instance"
   ]
  },
  {
   "cell_type": "code",
   "execution_count": null,
   "id": "1b4748bb",
   "metadata": {},
   "outputs": [],
   "source": [
    "# 现在有个需要子进程运行的脚本：subprocess_tst.py,内容如下：\n",
    "    # fp = r\".\\testfile\\002161.SZ.csv\"\n",
    "    # data = pd.read_csv(fp)\n",
    "    # print(data)"
   ]
  },
  {
   "cell_type": "code",
   "execution_count": null,
   "id": "c514e343",
   "metadata": {},
   "outputs": [],
   "source": [
    "obj = subprocess.Popen([\"D:\\programming\\python3p9\\Scripts\\python.exe\",\"subprocess_tst.py\"],stdin=subprocess.PIPE,stdout=subprocess.PIPE,stderr=subprocess.PIPE,encoding='utf8')\n",
    "out = obj.communicate()\n",
    "print(out[0])"
   ]
  },
  {
   "cell_type": "markdown",
   "id": "2fa91496",
   "metadata": {},
   "source": [
    "#### instance"
   ]
  },
  {
   "cell_type": "code",
   "execution_count": null,
   "id": "be98cc88",
   "metadata": {},
   "outputs": [],
   "source": [
    "# communicate(input=''): 对子进程的交互输入:\n",
    "p1 = subprocess.Popen([\"python\"],stdin=subprocess.PIPE,stdout=subprocess.PIPE,stderr=subprocess.PIPE,encoding='utf8')"
   ]
  },
  {
   "cell_type": "code",
   "execution_count": null,
   "id": "1ab5a942",
   "metadata": {},
   "outputs": [],
   "source": [
    "p1.communicate(input=\"print('communicate input')\")"
   ]
  },
  {
   "cell_type": "code",
   "execution_count": null,
   "id": "9711d582",
   "metadata": {},
   "outputs": [],
   "source": [
    "p1.communicate()[0]"
   ]
  },
  {
   "cell_type": "markdown",
   "id": "cfcaf206",
   "metadata": {},
   "source": [
    "### Popen.stdin.write():对子进程的交互输入"
   ]
  },
  {
   "cell_type": "code",
   "execution_count": null,
   "id": "cdd286cc",
   "metadata": {},
   "outputs": [],
   "source": [
    "p2 = subprocess.Popen([\"python\"],stdin=subprocess.PIPE,stdout=subprocess.PIPE,stderr=subprocess.PIPE,encoding='utf8')"
   ]
  },
  {
   "cell_type": "code",
   "execution_count": null,
   "id": "5220a5d6",
   "metadata": {},
   "outputs": [],
   "source": [
    "p2.stdin.write(\"print('hello world')\")"
   ]
  },
  {
   "cell_type": "code",
   "execution_count": null,
   "id": "b6bd1174",
   "metadata": {},
   "outputs": [],
   "source": [
    "p2.communicate()[0]"
   ]
  },
  {
   "cell_type": "code",
   "execution_count": null,
   "id": "132a90bc-815d-4d3f-b204-599f3d47d1cc",
   "metadata": {},
   "outputs": [],
   "source": []
  },
  {
   "cell_type": "markdown",
   "id": "a00ef235",
   "metadata": {},
   "source": [
    "### Popen.terminate():停止该子进程"
   ]
  },
  {
   "cell_type": "markdown",
   "id": "b73b8ba6",
   "metadata": {},
   "source": [
    "### Popen.kill():杀死该子进程"
   ]
  },
  {
   "cell_type": "markdown",
   "id": "3a2731a3",
   "metadata": {
    "toc-hr-collapsed": true
   },
   "source": [
    "# sys: sys模块主要是针对与Python解释器相关的变量和方法，不是主机操作系统"
   ]
  },
  {
   "cell_type": "raw",
   "id": "97a5da42-fbae-418f-85ea-cc95370f8951",
   "metadata": {},
   "source": [
    " https://blog.csdn.net/swinfans/article/details/85780302?ops_request_misc=%257B%2522request%255Fid%2522%253A%2522163014207116780262524848%2522%252C%2522scm%2522%253A%252220140713.130102334..%2522%257D&request_id=163014207116780262524848&biz_id=0&utm_medium=distribute.pc_search_result.none-task-blog-2~all~sobaiduend~default-3-85780302.pc_search_result_control_group&utm_term=sys%E6%A8%A1%E5%9D%97&spm=1018.2226.3001.4187"
   ]
  },
  {
   "cell_type": "markdown",
   "id": "f4e18682",
   "metadata": {},
   "source": [
    "## sys.argv:命令行参数List，第一个元素是程序本身路径"
   ]
  },
  {
   "cell_type": "code",
   "execution_count": null,
   "id": "9cd9387b",
   "metadata": {},
   "outputs": [],
   "source": [
    "sys.argv[1]"
   ]
  },
  {
   "cell_type": "markdown",
   "id": "1a99bcb4",
   "metadata": {},
   "source": [
    "## sys.modules:返回系统导入的模块字段，\n",
    "    返回字典：\n",
    "        key是模块名，\n",
    "        values是模块地址"
   ]
  },
  {
   "cell_type": "code",
   "execution_count": 4,
   "id": "fcecc403",
   "metadata": {
    "collapsed": true,
    "jupyter": {
     "outputs_hidden": true
    },
    "tags": []
   },
   "outputs": [
    {
     "data": {
      "text/plain": [
       "{'sys': <module 'sys' (built-in)>,\n",
       " 'builtins': <module 'builtins' (built-in)>,\n",
       " '_frozen_importlib': <module 'importlib._bootstrap' (frozen)>,\n",
       " '_imp': <module '_imp' (built-in)>,\n",
       " '_warnings': <module '_warnings' (built-in)>,\n",
       " '_frozen_importlib_external': <module 'importlib._bootstrap_external' (frozen)>,\n",
       " '_io': <module 'io' (built-in)>,\n",
       " 'marshal': <module 'marshal' (built-in)>,\n",
       " 'nt': <module 'nt' (built-in)>,\n",
       " '_thread': <module '_thread' (built-in)>,\n",
       " '_weakref': <module '_weakref' (built-in)>,\n",
       " 'winreg': <module 'winreg' (built-in)>,\n",
       " 'time': <module 'time' (built-in)>,\n",
       " 'zipimport': <module 'zipimport' (frozen)>,\n",
       " '_codecs': <module '_codecs' (built-in)>,\n",
       " 'codecs': <module 'codecs' from 'C:\\\\Program Files\\\\WinPython38_64bit\\\\python-3.8.6.amd64\\\\lib\\\\codecs.py'>,\n",
       " 'encodings.aliases': <module 'encodings.aliases' from 'C:\\\\Program Files\\\\WinPython38_64bit\\\\python-3.8.6.amd64\\\\lib\\\\encodings\\\\aliases.py'>,\n",
       " 'encodings': <module 'encodings' from 'C:\\\\Program Files\\\\WinPython38_64bit\\\\python-3.8.6.amd64\\\\lib\\\\encodings\\\\__init__.py'>,\n",
       " 'encodings.utf_8': <module 'encodings.utf_8' from 'C:\\\\Program Files\\\\WinPython38_64bit\\\\python-3.8.6.amd64\\\\lib\\\\encodings\\\\utf_8.py'>,\n",
       " '_codecs_cn': <module '_codecs_cn' (built-in)>,\n",
       " '_multibytecodec': <module '_multibytecodec' (built-in)>,\n",
       " 'encodings.gbk': <module 'encodings.gbk' from 'C:\\\\Program Files\\\\WinPython38_64bit\\\\python-3.8.6.amd64\\\\lib\\\\encodings\\\\gbk.py'>,\n",
       " '_signal': <module '_signal' (built-in)>,\n",
       " '__main__': <module '__main__'>,\n",
       " 'encodings.latin_1': <module 'encodings.latin_1' from 'C:\\\\Program Files\\\\WinPython38_64bit\\\\python-3.8.6.amd64\\\\lib\\\\encodings\\\\latin_1.py'>,\n",
       " '_abc': <module '_abc' (built-in)>,\n",
       " 'abc': <module 'abc' from 'C:\\\\Program Files\\\\WinPython38_64bit\\\\python-3.8.6.amd64\\\\lib\\\\abc.py'>,\n",
       " 'io': <module 'io' from 'C:\\\\Program Files\\\\WinPython38_64bit\\\\python-3.8.6.amd64\\\\lib\\\\io.py'>,\n",
       " '_stat': <module '_stat' (built-in)>,\n",
       " 'stat': <module 'stat' from 'C:\\\\Program Files\\\\WinPython38_64bit\\\\python-3.8.6.amd64\\\\lib\\\\stat.py'>,\n",
       " '_collections_abc': <module '_collections_abc' from 'C:\\\\Program Files\\\\WinPython38_64bit\\\\python-3.8.6.amd64\\\\lib\\\\_collections_abc.py'>,\n",
       " 'genericpath': <module 'genericpath' from 'C:\\\\Program Files\\\\WinPython38_64bit\\\\python-3.8.6.amd64\\\\lib\\\\genericpath.py'>,\n",
       " 'ntpath': <module 'ntpath' from 'C:\\\\Program Files\\\\WinPython38_64bit\\\\python-3.8.6.amd64\\\\lib\\\\ntpath.py'>,\n",
       " 'os.path': <module 'ntpath' from 'C:\\\\Program Files\\\\WinPython38_64bit\\\\python-3.8.6.amd64\\\\lib\\\\ntpath.py'>,\n",
       " 'os': <module 'os' from 'C:\\\\Program Files\\\\WinPython38_64bit\\\\python-3.8.6.amd64\\\\lib\\\\os.py'>,\n",
       " '_sitebuiltins': <module '_sitebuiltins' from 'C:\\\\Program Files\\\\WinPython38_64bit\\\\python-3.8.6.amd64\\\\lib\\\\_sitebuiltins.py'>,\n",
       " '_locale': <module '_locale' (built-in)>,\n",
       " '_bootlocale': <module '_bootlocale' from 'C:\\\\Program Files\\\\WinPython38_64bit\\\\python-3.8.6.amd64\\\\lib\\\\_bootlocale.py'>,\n",
       " '_operator': <module '_operator' (built-in)>,\n",
       " 'operator': <module 'operator' from 'C:\\\\Program Files\\\\WinPython38_64bit\\\\python-3.8.6.amd64\\\\lib\\\\operator.py'>,\n",
       " 'keyword': <module 'keyword' from 'C:\\\\Program Files\\\\WinPython38_64bit\\\\python-3.8.6.amd64\\\\lib\\\\keyword.py'>,\n",
       " '_heapq': <module '_heapq' (built-in)>,\n",
       " 'heapq': <module 'heapq' from 'C:\\\\Program Files\\\\WinPython38_64bit\\\\python-3.8.6.amd64\\\\lib\\\\heapq.py'>,\n",
       " 'itertools': <module 'itertools' (built-in)>,\n",
       " 'reprlib': <module 'reprlib' from 'C:\\\\Program Files\\\\WinPython38_64bit\\\\python-3.8.6.amd64\\\\lib\\\\reprlib.py'>,\n",
       " '_collections': <module '_collections' (built-in)>,\n",
       " 'collections': <module 'collections' from 'C:\\\\Program Files\\\\WinPython38_64bit\\\\python-3.8.6.amd64\\\\lib\\\\collections\\\\__init__.py'>,\n",
       " '_functools': <module '_functools' (built-in)>,\n",
       " 'functools': <module 'functools' from 'C:\\\\Program Files\\\\WinPython38_64bit\\\\python-3.8.6.amd64\\\\lib\\\\functools.py'>,\n",
       " 'importlib._bootstrap': <module 'importlib._bootstrap' (frozen)>,\n",
       " 'importlib._bootstrap_external': <module 'importlib._bootstrap_external' (frozen)>,\n",
       " 'types': <module 'types' from 'C:\\\\Program Files\\\\WinPython38_64bit\\\\python-3.8.6.amd64\\\\lib\\\\types.py'>,\n",
       " 'warnings': <module 'warnings' from 'C:\\\\Program Files\\\\WinPython38_64bit\\\\python-3.8.6.amd64\\\\lib\\\\warnings.py'>,\n",
       " 'importlib': <module 'importlib' from 'C:\\\\Program Files\\\\WinPython38_64bit\\\\python-3.8.6.amd64\\\\lib\\\\importlib\\\\__init__.py'>,\n",
       " 'importlib.machinery': <module 'importlib.machinery' from 'C:\\\\Program Files\\\\WinPython38_64bit\\\\python-3.8.6.amd64\\\\lib\\\\importlib\\\\machinery.py'>,\n",
       " 'importlib.abc': <module 'importlib.abc' from 'C:\\\\Program Files\\\\WinPython38_64bit\\\\python-3.8.6.amd64\\\\lib\\\\importlib\\\\abc.py'>,\n",
       " 'contextlib': <module 'contextlib' from 'C:\\\\Program Files\\\\WinPython38_64bit\\\\python-3.8.6.amd64\\\\lib\\\\contextlib.py'>,\n",
       " 'importlib.util': <module 'importlib.util' from 'C:\\\\Program Files\\\\WinPython38_64bit\\\\python-3.8.6.amd64\\\\lib\\\\importlib\\\\util.py'>,\n",
       " '_virtualenv': <module '_virtualenv' from 'C:\\\\work\\\\virtenvs\\\\3p8_64bit_SensiPython_4p0\\\\lib\\\\site-packages\\\\_virtualenv.py'>,\n",
       " 'mpl_toolkits': <module 'mpl_toolkits' (namespace)>,\n",
       " 'pywin32_bootstrap': <module 'pywin32_bootstrap' from 'C:\\\\work\\\\virtenvs\\\\3p8_64bit_SensiPython_4p0\\\\lib\\\\site-packages\\\\win32\\\\lib\\\\pywin32_bootstrap.py'>,\n",
       " 'sphinxcontrib': <module 'sphinxcontrib' (namespace)>,\n",
       " 'site': <module 'site' from 'C:\\\\Program Files\\\\WinPython38_64bit\\\\python-3.8.6.amd64\\\\lib\\\\site.py'>,\n",
       " '_weakrefset': <module '_weakrefset' from 'C:\\\\Program Files\\\\WinPython38_64bit\\\\python-3.8.6.amd64\\\\lib\\\\_weakrefset.py'>,\n",
       " 'weakref': <module 'weakref' from 'C:\\\\Program Files\\\\WinPython38_64bit\\\\python-3.8.6.amd64\\\\lib\\\\weakref.py'>,\n",
       " 'pkgutil': <module 'pkgutil' from 'C:\\\\Program Files\\\\WinPython38_64bit\\\\python-3.8.6.amd64\\\\lib\\\\pkgutil.py'>,\n",
       " 'runpy': <module 'runpy' from 'C:\\\\Program Files\\\\WinPython38_64bit\\\\python-3.8.6.amd64\\\\lib\\\\runpy.py'>,\n",
       " 'ipykernel._version': <module 'ipykernel._version' from 'C:\\\\work\\\\virtenvs\\\\3p8_64bit_SensiPython_4p0\\\\lib\\\\site-packages\\\\ipykernel\\\\_version.py'>,\n",
       " 'enum': <module 'enum' from 'C:\\\\Program Files\\\\WinPython38_64bit\\\\python-3.8.6.amd64\\\\lib\\\\enum.py'>,\n",
       " '_sre': <module '_sre' (built-in)>,\n",
       " 'sre_constants': <module 'sre_constants' from 'C:\\\\Program Files\\\\WinPython38_64bit\\\\python-3.8.6.amd64\\\\lib\\\\sre_constants.py'>,\n",
       " 'sre_parse': <module 'sre_parse' from 'C:\\\\Program Files\\\\WinPython38_64bit\\\\python-3.8.6.amd64\\\\lib\\\\sre_parse.py'>,\n",
       " 'sre_compile': <module 'sre_compile' from 'C:\\\\Program Files\\\\WinPython38_64bit\\\\python-3.8.6.amd64\\\\lib\\\\sre_compile.py'>,\n",
       " 'copyreg': <module 'copyreg' from 'C:\\\\Program Files\\\\WinPython38_64bit\\\\python-3.8.6.amd64\\\\lib\\\\copyreg.py'>,\n",
       " 're': <module 're' from 'C:\\\\Program Files\\\\WinPython38_64bit\\\\python-3.8.6.amd64\\\\lib\\\\re.py'>,\n",
       " '_json': <module '_json' (built-in)>,\n",
       " 'json.scanner': <module 'json.scanner' from 'C:\\\\Program Files\\\\WinPython38_64bit\\\\python-3.8.6.amd64\\\\lib\\\\json\\\\scanner.py'>,\n",
       " 'json.decoder': <module 'json.decoder' from 'C:\\\\Program Files\\\\WinPython38_64bit\\\\python-3.8.6.amd64\\\\lib\\\\json\\\\decoder.py'>,\n",
       " 'json.encoder': <module 'json.encoder' from 'C:\\\\Program Files\\\\WinPython38_64bit\\\\python-3.8.6.amd64\\\\lib\\\\json\\\\encoder.py'>,\n",
       " 'json': <module 'json' from 'C:\\\\Program Files\\\\WinPython38_64bit\\\\python-3.8.6.amd64\\\\lib\\\\json\\\\__init__.py'>,\n",
       " 'errno': <module 'errno' (built-in)>,\n",
       " 'signal': <module 'signal' from 'C:\\\\Program Files\\\\WinPython38_64bit\\\\python-3.8.6.amd64\\\\lib\\\\signal.py'>,\n",
       " 'threading': <module 'threading' from 'C:\\\\Program Files\\\\WinPython38_64bit\\\\python-3.8.6.amd64\\\\lib\\\\threading.py'>,\n",
       " 'msvcrt': <module 'msvcrt' (built-in)>,\n",
       " '_winapi': <module '_winapi' (built-in)>,\n",
       " 'subprocess': <module 'subprocess' from 'C:\\\\Program Files\\\\WinPython38_64bit\\\\python-3.8.6.amd64\\\\lib\\\\subprocess.py'>,\n",
       " 'IPython.core': <module 'IPython.core' from 'C:\\\\work\\\\virtenvs\\\\3p8_64bit_SensiPython_4p0\\\\lib\\\\site-packages\\\\IPython\\\\core\\\\__init__.py'>,\n",
       " 'IPython.core.getipython': <module 'IPython.core.getipython' from 'C:\\\\work\\\\virtenvs\\\\3p8_64bit_SensiPython_4p0\\\\lib\\\\site-packages\\\\IPython\\\\core\\\\getipython.py'>,\n",
       " 'IPython.core.release': <module 'IPython.core.release' from 'C:\\\\work\\\\virtenvs\\\\3p8_64bit_SensiPython_4p0\\\\lib\\\\site-packages\\\\IPython\\\\core\\\\release.py'>,\n",
       " 'atexit': <module 'atexit' (built-in)>,\n",
       " 'copy': <module 'copy' from 'C:\\\\Program Files\\\\WinPython38_64bit\\\\python-3.8.6.amd64\\\\lib\\\\copy.py'>,\n",
       " 'posixpath': <module 'posixpath' from 'C:\\\\Program Files\\\\WinPython38_64bit\\\\python-3.8.6.amd64\\\\lib\\\\posixpath.py'>,\n",
       " 'fnmatch': <module 'fnmatch' from 'C:\\\\Program Files\\\\WinPython38_64bit\\\\python-3.8.6.amd64\\\\lib\\\\fnmatch.py'>,\n",
       " 'glob': <module 'glob' from 'C:\\\\Program Files\\\\WinPython38_64bit\\\\python-3.8.6.amd64\\\\lib\\\\glob.py'>,\n",
       " 'token': <module 'token' from 'C:\\\\Program Files\\\\WinPython38_64bit\\\\python-3.8.6.amd64\\\\lib\\\\token.py'>,\n",
       " 'tokenize': <module 'tokenize' from 'C:\\\\Program Files\\\\WinPython38_64bit\\\\python-3.8.6.amd64\\\\lib\\\\tokenize.py'>,\n",
       " 'linecache': <module 'linecache' from 'C:\\\\Program Files\\\\WinPython38_64bit\\\\python-3.8.6.amd64\\\\lib\\\\linecache.py'>,\n",
       " 'traceback': <module 'traceback' from 'C:\\\\Program Files\\\\WinPython38_64bit\\\\python-3.8.6.amd64\\\\lib\\\\traceback.py'>,\n",
       " 'collections.abc': <module 'collections.abc' from 'C:\\\\Program Files\\\\WinPython38_64bit\\\\python-3.8.6.amd64\\\\lib\\\\collections\\\\abc.py'>,\n",
       " '_string': <module '_string' (built-in)>,\n",
       " 'string': <module 'string' from 'C:\\\\Program Files\\\\WinPython38_64bit\\\\python-3.8.6.amd64\\\\lib\\\\string.py'>,\n",
       " 'logging': <module 'logging' from 'C:\\\\Program Files\\\\WinPython38_64bit\\\\python-3.8.6.amd64\\\\lib\\\\logging\\\\__init__.py'>,\n",
       " 'zlib': <module 'zlib' (built-in)>,\n",
       " '_compression': <module '_compression' from 'C:\\\\Program Files\\\\WinPython38_64bit\\\\python-3.8.6.amd64\\\\lib\\\\_compression.py'>,\n",
       " '_bz2': <module '_bz2' from 'C:\\\\Program Files\\\\WinPython38_64bit\\\\python-3.8.6.amd64\\\\DLLs\\\\_bz2.pyd'>,\n",
       " 'bz2': <module 'bz2' from 'C:\\\\Program Files\\\\WinPython38_64bit\\\\python-3.8.6.amd64\\\\lib\\\\bz2.py'>,\n",
       " '_lzma': <module '_lzma' from 'C:\\\\Program Files\\\\WinPython38_64bit\\\\python-3.8.6.amd64\\\\DLLs\\\\_lzma.pyd'>,\n",
       " 'lzma': <module 'lzma' from 'C:\\\\Program Files\\\\WinPython38_64bit\\\\python-3.8.6.amd64\\\\lib\\\\lzma.py'>,\n",
       " 'shutil': <module 'shutil' from 'C:\\\\Program Files\\\\WinPython38_64bit\\\\python-3.8.6.amd64\\\\lib\\\\shutil.py'>,\n",
       " '_ast': <module '_ast' (built-in)>,\n",
       " 'ast': <module 'ast' from 'C:\\\\Program Files\\\\WinPython38_64bit\\\\python-3.8.6.amd64\\\\lib\\\\ast.py'>,\n",
       " '_opcode': <module '_opcode' (built-in)>,\n",
       " 'opcode': <module 'opcode' from 'C:\\\\Program Files\\\\WinPython38_64bit\\\\python-3.8.6.amd64\\\\lib\\\\opcode.py'>,\n",
       " 'dis': <module 'dis' from 'C:\\\\Program Files\\\\WinPython38_64bit\\\\python-3.8.6.amd64\\\\lib\\\\dis.py'>,\n",
       " 'inspect': <module 'inspect' from 'C:\\\\Program Files\\\\WinPython38_64bit\\\\python-3.8.6.amd64\\\\lib\\\\inspect.py'>,\n",
       " 'traitlets.utils': <module 'traitlets.utils' from 'C:\\\\work\\\\virtenvs\\\\3p8_64bit_SensiPython_4p0\\\\lib\\\\site-packages\\\\traitlets\\\\utils\\\\__init__.py'>,\n",
       " 'traitlets.utils.getargspec': <module 'traitlets.utils.getargspec' from 'C:\\\\work\\\\virtenvs\\\\3p8_64bit_SensiPython_4p0\\\\lib\\\\site-packages\\\\traitlets\\\\utils\\\\getargspec.py'>,\n",
       " 'traitlets.utils.importstring': <module 'traitlets.utils.importstring' from 'C:\\\\work\\\\virtenvs\\\\3p8_64bit_SensiPython_4p0\\\\lib\\\\site-packages\\\\traitlets\\\\utils\\\\importstring.py'>,\n",
       " 'traitlets.utils.sentinel': <module 'traitlets.utils.sentinel' from 'C:\\\\work\\\\virtenvs\\\\3p8_64bit_SensiPython_4p0\\\\lib\\\\site-packages\\\\traitlets\\\\utils\\\\sentinel.py'>,\n",
       " 'traitlets.utils.bunch': <module 'traitlets.utils.bunch' from 'C:\\\\work\\\\virtenvs\\\\3p8_64bit_SensiPython_4p0\\\\lib\\\\site-packages\\\\traitlets\\\\utils\\\\bunch.py'>,\n",
       " 'traitlets.utils.descriptions': <module 'traitlets.utils.descriptions' from 'C:\\\\work\\\\virtenvs\\\\3p8_64bit_SensiPython_4p0\\\\lib\\\\site-packages\\\\traitlets\\\\utils\\\\descriptions.py'>,\n",
       " 'traitlets.traitlets': <module 'traitlets.traitlets' from 'C:\\\\work\\\\virtenvs\\\\3p8_64bit_SensiPython_4p0\\\\lib\\\\site-packages\\\\traitlets\\\\traitlets.py'>,\n",
       " 'traitlets.utils.decorators': <module 'traitlets.utils.decorators' from 'C:\\\\work\\\\virtenvs\\\\3p8_64bit_SensiPython_4p0\\\\lib\\\\site-packages\\\\traitlets\\\\utils\\\\decorators.py'>,\n",
       " 'traitlets._version': <module 'traitlets._version' from 'C:\\\\work\\\\virtenvs\\\\3p8_64bit_SensiPython_4p0\\\\lib\\\\site-packages\\\\traitlets\\\\_version.py'>,\n",
       " 'traitlets': <module 'traitlets' from 'C:\\\\work\\\\virtenvs\\\\3p8_64bit_SensiPython_4p0\\\\lib\\\\site-packages\\\\traitlets\\\\__init__.py'>,\n",
       " 'pprint': <module 'pprint' from 'C:\\\\Program Files\\\\WinPython38_64bit\\\\python-3.8.6.amd64\\\\lib\\\\pprint.py'>,\n",
       " 'locale': <module 'locale' from 'C:\\\\Program Files\\\\WinPython38_64bit\\\\python-3.8.6.amd64\\\\lib\\\\locale.py'>,\n",
       " 'gettext': <module 'gettext' from 'C:\\\\Program Files\\\\WinPython38_64bit\\\\python-3.8.6.amd64\\\\lib\\\\gettext.py'>,\n",
       " 'argparse': <module 'argparse' from 'C:\\\\Program Files\\\\WinPython38_64bit\\\\python-3.8.6.amd64\\\\lib\\\\argparse.py'>,\n",
       " 'ipython_genutils._version': <module 'ipython_genutils._version' from 'C:\\\\work\\\\virtenvs\\\\3p8_64bit_SensiPython_4p0\\\\lib\\\\site-packages\\\\ipython_genutils\\\\_version.py'>,\n",
       " 'ipython_genutils': <module 'ipython_genutils' from 'C:\\\\work\\\\virtenvs\\\\3p8_64bit_SensiPython_4p0\\\\lib\\\\site-packages\\\\ipython_genutils\\\\__init__.py'>,\n",
       " 'math': <module 'math' (built-in)>,\n",
       " '_bisect': <module '_bisect' (built-in)>,\n",
       " 'bisect': <module 'bisect' from 'C:\\\\Program Files\\\\WinPython38_64bit\\\\python-3.8.6.amd64\\\\lib\\\\bisect.py'>,\n",
       " '_sha512': <module '_sha512' (built-in)>,\n",
       " '_random': <module '_random' (built-in)>,\n",
       " 'random': <module 'random' from 'C:\\\\Program Files\\\\WinPython38_64bit\\\\python-3.8.6.amd64\\\\lib\\\\random.py'>,\n",
       " 'ipython_genutils.encoding': <module 'ipython_genutils.encoding' from 'C:\\\\work\\\\virtenvs\\\\3p8_64bit_SensiPython_4p0\\\\lib\\\\site-packages\\\\ipython_genutils\\\\encoding.py'>,\n",
       " 'platform': <module 'platform' from 'C:\\\\Program Files\\\\WinPython38_64bit\\\\python-3.8.6.amd64\\\\lib\\\\platform.py'>,\n",
       " 'ipython_genutils.py3compat': <module 'ipython_genutils.py3compat' from 'C:\\\\work\\\\virtenvs\\\\3p8_64bit_SensiPython_4p0\\\\lib\\\\site-packages\\\\ipython_genutils\\\\py3compat.py'>,\n",
       " 'ipython_genutils.path': <module 'ipython_genutils.path' from 'C:\\\\work\\\\virtenvs\\\\3p8_64bit_SensiPython_4p0\\\\lib\\\\site-packages\\\\ipython_genutils\\\\path.py'>,\n",
       " 'traitlets.config.loader': <module 'traitlets.config.loader' from 'C:\\\\work\\\\virtenvs\\\\3p8_64bit_SensiPython_4p0\\\\lib\\\\site-packages\\\\traitlets\\\\config\\\\loader.py'>,\n",
       " 'textwrap': <module 'textwrap' from 'C:\\\\Program Files\\\\WinPython38_64bit\\\\python-3.8.6.amd64\\\\lib\\\\textwrap.py'>,\n",
       " 'ipython_genutils.text': <module 'ipython_genutils.text' from 'C:\\\\work\\\\virtenvs\\\\3p8_64bit_SensiPython_4p0\\\\lib\\\\site-packages\\\\ipython_genutils\\\\text.py'>,\n",
       " 'traitlets.config.configurable': <module 'traitlets.config.configurable' from 'C:\\\\work\\\\virtenvs\\\\3p8_64bit_SensiPython_4p0\\\\lib\\\\site-packages\\\\traitlets\\\\config\\\\configurable.py'>,\n",
       " 'traitlets.config.application': <module 'traitlets.config.application' from 'C:\\\\work\\\\virtenvs\\\\3p8_64bit_SensiPython_4p0\\\\lib\\\\site-packages\\\\traitlets\\\\config\\\\application.py'>,\n",
       " 'traitlets.config': <module 'traitlets.config' from 'C:\\\\work\\\\virtenvs\\\\3p8_64bit_SensiPython_4p0\\\\lib\\\\site-packages\\\\traitlets\\\\config\\\\__init__.py'>,\n",
       " 'sysconfig': <module 'sysconfig' from 'C:\\\\Program Files\\\\WinPython38_64bit\\\\python-3.8.6.amd64\\\\lib\\\\sysconfig.py'>,\n",
       " 'urllib': <module 'urllib' from 'C:\\\\Program Files\\\\WinPython38_64bit\\\\python-3.8.6.amd64\\\\lib\\\\urllib\\\\__init__.py'>,\n",
       " 'urllib.parse': <module 'urllib.parse' from 'C:\\\\Program Files\\\\WinPython38_64bit\\\\python-3.8.6.amd64\\\\lib\\\\urllib\\\\parse.py'>,\n",
       " 'pydoc': <module 'pydoc' from 'C:\\\\Program Files\\\\WinPython38_64bit\\\\python-3.8.6.amd64\\\\lib\\\\pydoc.py'>,\n",
       " 'bdb': <module 'bdb' from 'C:\\\\Program Files\\\\WinPython38_64bit\\\\python-3.8.6.amd64\\\\lib\\\\bdb.py'>,\n",
       " 'IPython.utils': <module 'IPython.utils' from 'C:\\\\work\\\\virtenvs\\\\3p8_64bit_SensiPython_4p0\\\\lib\\\\site-packages\\\\IPython\\\\utils\\\\__init__.py'>,\n",
       " 'IPython.utils.ipstruct': <module 'IPython.utils.ipstruct' from 'C:\\\\work\\\\virtenvs\\\\3p8_64bit_SensiPython_4p0\\\\lib\\\\site-packages\\\\IPython\\\\utils\\\\ipstruct.py'>,\n",
       " 'IPython.utils.coloransi': <module 'IPython.utils.coloransi' from 'C:\\\\work\\\\virtenvs\\\\3p8_64bit_SensiPython_4p0\\\\lib\\\\site-packages\\\\IPython\\\\utils\\\\coloransi.py'>,\n",
       " 'pygments': <module 'pygments' from 'C:\\\\work\\\\virtenvs\\\\3p8_64bit_SensiPython_4p0\\\\lib\\\\site-packages\\\\pygments\\\\__init__.py'>,\n",
       " 'IPython.utils.colorable': <module 'IPython.utils.colorable' from 'C:\\\\work\\\\virtenvs\\\\3p8_64bit_SensiPython_4p0\\\\lib\\\\site-packages\\\\IPython\\\\utils\\\\colorable.py'>,\n",
       " 'IPython.utils.PyColorize': <module 'IPython.utils.PyColorize' from 'C:\\\\work\\\\virtenvs\\\\3p8_64bit_SensiPython_4p0\\\\lib\\\\site-packages\\\\IPython\\\\utils\\\\PyColorize.py'>,\n",
       " 'IPython.utils.encoding': <module 'IPython.utils.encoding' from 'C:\\\\work\\\\virtenvs\\\\3p8_64bit_SensiPython_4p0\\\\lib\\\\site-packages\\\\IPython\\\\utils\\\\encoding.py'>,\n",
       " 'IPython.utils.py3compat': <module 'IPython.utils.py3compat' from 'C:\\\\work\\\\virtenvs\\\\3p8_64bit_SensiPython_4p0\\\\lib\\\\site-packages\\\\IPython\\\\utils\\\\py3compat.py'>,\n",
       " 'IPython.core.excolors': <module 'IPython.core.excolors' from 'C:\\\\work\\\\virtenvs\\\\3p8_64bit_SensiPython_4p0\\\\lib\\\\site-packages\\\\IPython\\\\core\\\\excolors.py'>,\n",
       " 'IPython.testing': <module 'IPython.testing' from 'C:\\\\work\\\\virtenvs\\\\3p8_64bit_SensiPython_4p0\\\\lib\\\\site-packages\\\\IPython\\\\testing\\\\__init__.py'>,\n",
       " 'IPython.testing.skipdoctest': <module 'IPython.testing.skipdoctest' from 'C:\\\\work\\\\virtenvs\\\\3p8_64bit_SensiPython_4p0\\\\lib\\\\site-packages\\\\IPython\\\\testing\\\\skipdoctest.py'>,\n",
       " 'cmd': <module 'cmd' from 'C:\\\\Program Files\\\\WinPython38_64bit\\\\python-3.8.6.amd64\\\\lib\\\\cmd.py'>,\n",
       " '__future__': <module '__future__' from 'C:\\\\Program Files\\\\WinPython38_64bit\\\\python-3.8.6.amd64\\\\lib\\\\__future__.py'>,\n",
       " 'codeop': <module 'codeop' from 'C:\\\\Program Files\\\\WinPython38_64bit\\\\python-3.8.6.amd64\\\\lib\\\\codeop.py'>,\n",
       " 'code': <module 'code' from 'C:\\\\Program Files\\\\WinPython38_64bit\\\\python-3.8.6.amd64\\\\lib\\\\code.py'>,\n",
       " 'pdb': <module 'pdb' from 'C:\\\\Program Files\\\\WinPython38_64bit\\\\python-3.8.6.amd64\\\\lib\\\\pdb.py'>,\n",
       " 'IPython.core.debugger': <module 'IPython.core.debugger' from 'C:\\\\work\\\\virtenvs\\\\3p8_64bit_SensiPython_4p0\\\\lib\\\\site-packages\\\\IPython\\\\core\\\\debugger.py'>,\n",
       " 'IPython.core.display_trap': <module 'IPython.core.display_trap' from 'C:\\\\work\\\\virtenvs\\\\3p8_64bit_SensiPython_4p0\\\\lib\\\\site-packages\\\\IPython\\\\core\\\\display_trap.py'>,\n",
       " '_ctypes': <module '_ctypes' from 'C:\\\\Program Files\\\\WinPython38_64bit\\\\python-3.8.6.amd64\\\\DLLs\\\\_ctypes.pyd'>,\n",
       " '_struct': <module '_struct' (built-in)>,\n",
       " 'struct': <module 'struct' from 'C:\\\\Program Files\\\\WinPython38_64bit\\\\python-3.8.6.amd64\\\\lib\\\\struct.py'>,\n",
       " 'ctypes._endian': <module 'ctypes._endian' from 'C:\\\\Program Files\\\\WinPython38_64bit\\\\python-3.8.6.amd64\\\\lib\\\\ctypes\\\\_endian.py'>,\n",
       " 'ctypes': <module 'ctypes' from 'C:\\\\Program Files\\\\WinPython38_64bit\\\\python-3.8.6.amd64\\\\lib\\\\ctypes\\\\__init__.py'>,\n",
       " 'ctypes.wintypes': <module 'ctypes.wintypes' from 'C:\\\\Program Files\\\\WinPython38_64bit\\\\python-3.8.6.amd64\\\\lib\\\\ctypes\\\\wintypes.py'>,\n",
       " 'shlex': <module 'shlex' from 'C:\\\\Program Files\\\\WinPython38_64bit\\\\python-3.8.6.amd64\\\\lib\\\\shlex.py'>,\n",
       " 'IPython.utils._process_common': <module 'IPython.utils._process_common' from 'C:\\\\work\\\\virtenvs\\\\3p8_64bit_SensiPython_4p0\\\\lib\\\\site-packages\\\\IPython\\\\utils\\\\_process_common.py'>,\n",
       " 'IPython.utils._process_win32': <module 'IPython.utils._process_win32' from 'C:\\\\work\\\\virtenvs\\\\3p8_64bit_SensiPython_4p0\\\\lib\\\\site-packages\\\\IPython\\\\utils\\\\_process_win32.py'>,\n",
       " 'IPython.utils.process': <module 'IPython.utils.process' from 'C:\\\\work\\\\virtenvs\\\\3p8_64bit_SensiPython_4p0\\\\lib\\\\site-packages\\\\IPython\\\\utils\\\\process.py'>,\n",
       " 'IPython.utils.decorators': <module 'IPython.utils.decorators' from 'C:\\\\work\\\\virtenvs\\\\3p8_64bit_SensiPython_4p0\\\\lib\\\\site-packages\\\\IPython\\\\utils\\\\decorators.py'>,\n",
       " 'IPython.utils.path': <module 'IPython.utils.path' from 'C:\\\\work\\\\virtenvs\\\\3p8_64bit_SensiPython_4p0\\\\lib\\\\site-packages\\\\IPython\\\\utils\\\\path.py'>,\n",
       " 'IPython.utils.data': <module 'IPython.utils.data' from 'C:\\\\work\\\\virtenvs\\\\3p8_64bit_SensiPython_4p0\\\\lib\\\\site-packages\\\\IPython\\\\utils\\\\data.py'>,\n",
       " 'IPython.utils.terminal': <module 'IPython.utils.terminal' from 'C:\\\\work\\\\virtenvs\\\\3p8_64bit_SensiPython_4p0\\\\lib\\\\site-packages\\\\IPython\\\\utils\\\\terminal.py'>,\n",
       " 'IPython.core.ultratb': <module 'IPython.core.ultratb' from 'C:\\\\work\\\\virtenvs\\\\3p8_64bit_SensiPython_4p0\\\\lib\\\\site-packages\\\\IPython\\\\core\\\\ultratb.py'>,\n",
       " 'IPython.utils._sysinfo': <module 'IPython.utils._sysinfo' from 'C:\\\\work\\\\virtenvs\\\\3p8_64bit_SensiPython_4p0\\\\lib\\\\site-packages\\\\IPython\\\\utils\\\\_sysinfo.py'>,\n",
       " 'IPython.utils.sysinfo': <module 'IPython.utils.sysinfo' from 'C:\\\\work\\\\virtenvs\\\\3p8_64bit_SensiPython_4p0\\\\lib\\\\site-packages\\\\IPython\\\\utils\\\\sysinfo.py'>,\n",
       " 'IPython.core.crashhandler': <module 'IPython.core.crashhandler' from 'C:\\\\work\\\\virtenvs\\\\3p8_64bit_SensiPython_4p0\\\\lib\\\\site-packages\\\\IPython\\\\core\\\\crashhandler.py'>,\n",
       " 'tempfile': <module 'tempfile' from 'C:\\\\Program Files\\\\WinPython38_64bit\\\\python-3.8.6.amd64\\\\lib\\\\tempfile.py'>,\n",
       " 'IPython.utils.importstring': <module 'IPython.utils.importstring' from 'C:\\\\work\\\\virtenvs\\\\3p8_64bit_SensiPython_4p0\\\\lib\\\\site-packages\\\\IPython\\\\utils\\\\importstring.py'>,\n",
       " 'IPython.paths': <module 'IPython.paths' from 'C:\\\\work\\\\virtenvs\\\\3p8_64bit_SensiPython_4p0\\\\lib\\\\site-packages\\\\IPython\\\\paths.py'>,\n",
       " 'IPython.core.profiledir': <module 'IPython.core.profiledir' from 'C:\\\\work\\\\virtenvs\\\\3p8_64bit_SensiPython_4p0\\\\lib\\\\site-packages\\\\IPython\\\\core\\\\profiledir.py'>,\n",
       " 'IPython.core.application': <module 'IPython.core.application' from 'C:\\\\work\\\\virtenvs\\\\3p8_64bit_SensiPython_4p0\\\\lib\\\\site-packages\\\\IPython\\\\core\\\\application.py'>,\n",
       " 'IPython.terminal': <module 'IPython.terminal' from 'C:\\\\work\\\\virtenvs\\\\3p8_64bit_SensiPython_4p0\\\\lib\\\\site-packages\\\\IPython\\\\terminal\\\\__init__.py'>,\n",
       " '_hashlib': <module '_hashlib' from 'C:\\\\Program Files\\\\WinPython38_64bit\\\\python-3.8.6.amd64\\\\DLLs\\\\_hashlib.pyd'>,\n",
       " '_blake2': <module '_blake2' (built-in)>,\n",
       " '_sha3': <module '_sha3' (built-in)>,\n",
       " 'hashlib': <module 'hashlib' from 'C:\\\\Program Files\\\\WinPython38_64bit\\\\python-3.8.6.amd64\\\\lib\\\\hashlib.py'>,\n",
       " 'IPython.core.compilerop': <module 'IPython.core.compilerop' from 'C:\\\\work\\\\virtenvs\\\\3p8_64bit_SensiPython_4p0\\\\lib\\\\site-packages\\\\IPython\\\\core\\\\compilerop.py'>,\n",
       " 'IPython.core.error': <module 'IPython.core.error' from 'C:\\\\work\\\\virtenvs\\\\3p8_64bit_SensiPython_4p0\\\\lib\\\\site-packages\\\\IPython\\\\core\\\\error.py'>,\n",
       " 'pathlib': <module 'pathlib' from 'C:\\\\Program Files\\\\WinPython38_64bit\\\\python-3.8.6.amd64\\\\lib\\\\pathlib.py'>,\n",
       " 'IPython.utils.text': <module 'IPython.utils.text' from 'C:\\\\work\\\\virtenvs\\\\3p8_64bit_SensiPython_4p0\\\\lib\\\\site-packages\\\\IPython\\\\utils\\\\text.py'>,\n",
       " 'IPython.core.magic_arguments': <module 'IPython.core.magic_arguments' from 'C:\\\\work\\\\virtenvs\\\\3p8_64bit_SensiPython_4p0\\\\lib\\\\site-packages\\\\IPython\\\\core\\\\magic_arguments.py'>,\n",
       " 'getopt': <module 'getopt' from 'C:\\\\Program Files\\\\WinPython38_64bit\\\\python-3.8.6.amd64\\\\lib\\\\getopt.py'>,\n",
       " 'typing.io': typing.io,\n",
       " 'typing.re': typing.re,\n",
       " 'typing': <module 'typing' from 'C:\\\\Program Files\\\\WinPython38_64bit\\\\python-3.8.6.amd64\\\\lib\\\\typing.py'>,\n",
       " 'binascii': <module 'binascii' (built-in)>,\n",
       " 'mimetypes': <module 'mimetypes' from 'C:\\\\Program Files\\\\WinPython38_64bit\\\\python-3.8.6.amd64\\\\lib\\\\mimetypes.py'>,\n",
       " 'IPython.core.display': <module 'IPython.core.display' from 'C:\\\\work\\\\virtenvs\\\\3p8_64bit_SensiPython_4p0\\\\lib\\\\site-packages\\\\IPython\\\\core\\\\display.py'>,\n",
       " 'IPython.core.page': <module 'IPython.core.page' from 'C:\\\\work\\\\virtenvs\\\\3p8_64bit_SensiPython_4p0\\\\lib\\\\site-packages\\\\IPython\\\\core\\\\page.py'>,\n",
       " 'getpass': <module 'getpass' from 'C:\\\\Program Files\\\\WinPython38_64bit\\\\python-3.8.6.amd64\\\\lib\\\\getpass.py'>,\n",
       " 'IPython.lib.security': <module 'IPython.lib.security' from 'C:\\\\work\\\\virtenvs\\\\3p8_64bit_SensiPython_4p0\\\\lib\\\\site-packages\\\\IPython\\\\lib\\\\security.py'>,\n",
       " 'IPython.lib': <module 'IPython.lib' from 'C:\\\\work\\\\virtenvs\\\\3p8_64bit_SensiPython_4p0\\\\lib\\\\site-packages\\\\IPython\\\\lib\\\\__init__.py'>,\n",
       " '_datetime': <module '_datetime' (built-in)>,\n",
       " 'datetime': <module 'datetime' from 'C:\\\\Program Files\\\\WinPython38_64bit\\\\python-3.8.6.amd64\\\\lib\\\\datetime.py'>,\n",
       " 'IPython.lib.pretty': <module 'IPython.lib.pretty' from 'C:\\\\work\\\\virtenvs\\\\3p8_64bit_SensiPython_4p0\\\\lib\\\\site-packages\\\\IPython\\\\lib\\\\pretty.py'>,\n",
       " 'IPython.utils.openpy': <module 'IPython.utils.openpy' from 'C:\\\\work\\\\virtenvs\\\\3p8_64bit_SensiPython_4p0\\\\lib\\\\site-packages\\\\IPython\\\\utils\\\\openpy.py'>,\n",
       " 'IPython.utils.dir2': <module 'IPython.utils.dir2' from 'C:\\\\work\\\\virtenvs\\\\3p8_64bit_SensiPython_4p0\\\\lib\\\\site-packages\\\\IPython\\\\utils\\\\dir2.py'>,\n",
       " 'IPython.utils.wildcard': <module 'IPython.utils.wildcard' from 'C:\\\\work\\\\virtenvs\\\\3p8_64bit_SensiPython_4p0\\\\lib\\\\site-packages\\\\IPython\\\\utils\\\\wildcard.py'>,\n",
       " 'pygments.lexers._mapping': <module 'pygments.lexers._mapping' from 'C:\\\\work\\\\virtenvs\\\\3p8_64bit_SensiPython_4p0\\\\lib\\\\site-packages\\\\pygments\\\\lexers\\\\_mapping.py'>,\n",
       " 'pygments.modeline': <module 'pygments.modeline' from 'C:\\\\work\\\\virtenvs\\\\3p8_64bit_SensiPython_4p0\\\\lib\\\\site-packages\\\\pygments\\\\modeline.py'>,\n",
       " 'pygments.plugin': <module 'pygments.plugin' from 'C:\\\\work\\\\virtenvs\\\\3p8_64bit_SensiPython_4p0\\\\lib\\\\site-packages\\\\pygments\\\\plugin.py'>,\n",
       " 'pygments.util': <module 'pygments.util' from 'C:\\\\work\\\\virtenvs\\\\3p8_64bit_SensiPython_4p0\\\\lib\\\\site-packages\\\\pygments\\\\util.py'>,\n",
       " 'pygments.lexers': <module 'pygments.lexers' from 'C:\\\\work\\\\virtenvs\\\\3p8_64bit_SensiPython_4p0\\\\lib\\\\site-packages\\\\pygments\\\\lexers\\\\__init__.py'>,\n",
       " 'pygments.filter': <module 'pygments.filter' from 'C:\\\\work\\\\virtenvs\\\\3p8_64bit_SensiPython_4p0\\\\lib\\\\site-packages\\\\pygments\\\\filter.py'>,\n",
       " 'pygments.token': <module 'pygments.token' from 'C:\\\\work\\\\virtenvs\\\\3p8_64bit_SensiPython_4p0\\\\lib\\\\site-packages\\\\pygments\\\\token.py'>,\n",
       " 'pygments.filters': <module 'pygments.filters' from 'C:\\\\work\\\\virtenvs\\\\3p8_64bit_SensiPython_4p0\\\\lib\\\\site-packages\\\\pygments\\\\filters\\\\__init__.py'>,\n",
       " 'pygments.regexopt': <module 'pygments.regexopt' from 'C:\\\\work\\\\virtenvs\\\\3p8_64bit_SensiPython_4p0\\\\lib\\\\site-packages\\\\pygments\\\\regexopt.py'>,\n",
       " 'pygments.lexer': <module 'pygments.lexer' from 'C:\\\\work\\\\virtenvs\\\\3p8_64bit_SensiPython_4p0\\\\lib\\\\site-packages\\\\pygments\\\\lexer.py'>,\n",
       " 'pygments.unistring': <module 'pygments.unistring' from 'C:\\\\work\\\\virtenvs\\\\3p8_64bit_SensiPython_4p0\\\\lib\\\\site-packages\\\\pygments\\\\unistring.py'>,\n",
       " 'pygments.lexers.python': <module 'pygments.lexers.python' from 'C:\\\\work\\\\virtenvs\\\\3p8_64bit_SensiPython_4p0\\\\lib\\\\site-packages\\\\pygments\\\\lexers\\\\python.py'>,\n",
       " 'pygments.formatters._mapping': <module 'pygments.formatters._mapping' from 'C:\\\\work\\\\virtenvs\\\\3p8_64bit_SensiPython_4p0\\\\lib\\\\site-packages\\\\pygments\\\\formatters\\\\_mapping.py'>,\n",
       " 'pygments.formatters': <module 'pygments.formatters' from 'C:\\\\work\\\\virtenvs\\\\3p8_64bit_SensiPython_4p0\\\\lib\\\\site-packages\\\\pygments\\\\formatters\\\\__init__.py'>,\n",
       " 'pygments.styles': <module 'pygments.styles' from 'C:\\\\work\\\\virtenvs\\\\3p8_64bit_SensiPython_4p0\\\\lib\\\\site-packages\\\\pygments\\\\styles\\\\__init__.py'>,\n",
       " 'pygments.formatter': <module 'pygments.formatter' from 'C:\\\\work\\\\virtenvs\\\\3p8_64bit_SensiPython_4p0\\\\lib\\\\site-packages\\\\pygments\\\\formatter.py'>,\n",
       " 'pygments.formatters.html': <module 'pygments.formatters.html' from 'C:\\\\work\\\\virtenvs\\\\3p8_64bit_SensiPython_4p0\\\\lib\\\\site-packages\\\\pygments\\\\formatters\\\\html.py'>,\n",
       " 'IPython.core.oinspect': <module 'IPython.core.oinspect' from 'C:\\\\work\\\\virtenvs\\\\3p8_64bit_SensiPython_4p0\\\\lib\\\\site-packages\\\\IPython\\\\core\\\\oinspect.py'>,\n",
       " 'IPython.core.inputtransformer2': <module 'IPython.core.inputtransformer2' from 'C:\\\\work\\\\virtenvs\\\\3p8_64bit_SensiPython_4p0\\\\lib\\\\site-packages\\\\IPython\\\\core\\\\inputtransformer2.py'>,\n",
       " 'decorator': <module 'decorator' from 'C:\\\\work\\\\virtenvs\\\\3p8_64bit_SensiPython_4p0\\\\lib\\\\site-packages\\\\decorator.py'>,\n",
       " 'IPython.core.magic': <module 'IPython.core.magic' from 'C:\\\\work\\\\virtenvs\\\\3p8_64bit_SensiPython_4p0\\\\lib\\\\site-packages\\\\IPython\\\\core\\\\magic.py'>,\n",
       " '_compat_pickle': <module '_compat_pickle' from 'C:\\\\Program Files\\\\WinPython38_64bit\\\\python-3.8.6.amd64\\\\lib\\\\_compat_pickle.py'>,\n",
       " '_pickle': <module '_pickle' (built-in)>,\n",
       " 'pickle': <module 'pickle' from 'C:\\\\Program Files\\\\WinPython38_64bit\\\\python-3.8.6.amd64\\\\lib\\\\pickle.py'>,\n",
       " 'pickleshare': <module 'pickleshare' from 'C:\\\\work\\\\virtenvs\\\\3p8_64bit_SensiPython_4p0\\\\lib\\\\site-packages\\\\pickleshare.py'>,\n",
       " 'IPython.core.autocall': <module 'IPython.core.autocall' from 'C:\\\\work\\\\virtenvs\\\\3p8_64bit_SensiPython_4p0\\\\lib\\\\site-packages\\\\IPython\\\\core\\\\autocall.py'>,\n",
       " 'IPython.core.macro': <module 'IPython.core.macro' from 'C:\\\\work\\\\virtenvs\\\\3p8_64bit_SensiPython_4p0\\\\lib\\\\site-packages\\\\IPython\\\\core\\\\macro.py'>,\n",
       " 'IPython.core.splitinput': <module 'IPython.core.splitinput' from 'C:\\\\work\\\\virtenvs\\\\3p8_64bit_SensiPython_4p0\\\\lib\\\\site-packages\\\\IPython\\\\core\\\\splitinput.py'>,\n",
       " 'IPython.core.prefilter': <module 'IPython.core.prefilter' from 'C:\\\\work\\\\virtenvs\\\\3p8_64bit_SensiPython_4p0\\\\lib\\\\site-packages\\\\IPython\\\\core\\\\prefilter.py'>,\n",
       " 'IPython.core.alias': <module 'IPython.core.alias' from 'C:\\\\work\\\\virtenvs\\\\3p8_64bit_SensiPython_4p0\\\\lib\\\\site-packages\\\\IPython\\\\core\\\\alias.py'>,\n",
       " 'IPython.core.builtin_trap': <module 'IPython.core.builtin_trap' from 'C:\\\\work\\\\virtenvs\\\\3p8_64bit_SensiPython_4p0\\\\lib\\\\site-packages\\\\IPython\\\\core\\\\builtin_trap.py'>,\n",
       " 'backcall.backcall': <module 'backcall.backcall' from 'C:\\\\work\\\\virtenvs\\\\3p8_64bit_SensiPython_4p0\\\\lib\\\\site-packages\\\\backcall\\\\backcall.py'>,\n",
       " 'backcall': <module 'backcall' from 'C:\\\\work\\\\virtenvs\\\\3p8_64bit_SensiPython_4p0\\\\lib\\\\site-packages\\\\backcall\\\\__init__.py'>,\n",
       " 'IPython.core.events': <module 'IPython.core.events' from 'C:\\\\work\\\\virtenvs\\\\3p8_64bit_SensiPython_4p0\\\\lib\\\\site-packages\\\\IPython\\\\core\\\\events.py'>,\n",
       " 'IPython.core.displayhook': <module 'IPython.core.displayhook' from 'C:\\\\work\\\\virtenvs\\\\3p8_64bit_SensiPython_4p0\\\\lib\\\\site-packages\\\\IPython\\\\core\\\\displayhook.py'>,\n",
       " 'IPython.core.displaypub': <module 'IPython.core.displaypub' from 'C:\\\\work\\\\virtenvs\\\\3p8_64bit_SensiPython_4p0\\\\lib\\\\site-packages\\\\IPython\\\\core\\\\displaypub.py'>,\n",
       " 'IPython.core.extensions': <module 'IPython.core.extensions' from 'C:\\\\work\\\\virtenvs\\\\3p8_64bit_SensiPython_4p0\\\\lib\\\\site-packages\\\\IPython\\\\core\\\\extensions.py'>,\n",
       " 'IPython.utils.sentinel': <module 'IPython.utils.sentinel' from 'C:\\\\work\\\\virtenvs\\\\3p8_64bit_SensiPython_4p0\\\\lib\\\\site-packages\\\\IPython\\\\utils\\\\sentinel.py'>,\n",
       " 'IPython.core.formatters': <module 'IPython.core.formatters' from 'C:\\\\work\\\\virtenvs\\\\3p8_64bit_SensiPython_4p0\\\\lib\\\\site-packages\\\\IPython\\\\core\\\\formatters.py'>,\n",
       " '_sqlite3': <module '_sqlite3' from 'C:\\\\Program Files\\\\WinPython38_64bit\\\\python-3.8.6.amd64\\\\DLLs\\\\_sqlite3.pyd'>,\n",
       " 'sqlite3.dbapi2': <module 'sqlite3.dbapi2' from 'C:\\\\Program Files\\\\WinPython38_64bit\\\\python-3.8.6.amd64\\\\lib\\\\sqlite3\\\\dbapi2.py'>,\n",
       " 'sqlite3': <module 'sqlite3' from 'C:\\\\Program Files\\\\WinPython38_64bit\\\\python-3.8.6.amd64\\\\lib\\\\sqlite3\\\\__init__.py'>,\n",
       " 'IPython.core.history': <module 'IPython.core.history' from 'C:\\\\work\\\\virtenvs\\\\3p8_64bit_SensiPython_4p0\\\\lib\\\\site-packages\\\\IPython\\\\core\\\\history.py'>,\n",
       " 'IPython.core.logger': <module 'IPython.core.logger' from 'C:\\\\work\\\\virtenvs\\\\3p8_64bit_SensiPython_4p0\\\\lib\\\\site-packages\\\\IPython\\\\core\\\\logger.py'>,\n",
       " 'IPython.core.payload': <module 'IPython.core.payload' from 'C:\\\\work\\\\virtenvs\\\\3p8_64bit_SensiPython_4p0\\\\lib\\\\site-packages\\\\IPython\\\\core\\\\payload.py'>,\n",
       " 'IPython.core.usage': <module 'IPython.core.usage' from 'C:\\\\work\\\\virtenvs\\\\3p8_64bit_SensiPython_4p0\\\\lib\\\\site-packages\\\\IPython\\\\core\\\\usage.py'>,\n",
       " 'html.entities': <module 'html.entities' from 'C:\\\\Program Files\\\\WinPython38_64bit\\\\python-3.8.6.amd64\\\\lib\\\\html\\\\entities.py'>,\n",
       " 'html': <module 'html' from 'C:\\\\Program Files\\\\WinPython38_64bit\\\\python-3.8.6.amd64\\\\lib\\\\html\\\\__init__.py'>,\n",
       " 'IPython.lib.display': <module 'IPython.lib.display' from 'C:\\\\work\\\\virtenvs\\\\3p8_64bit_SensiPython_4p0\\\\lib\\\\site-packages\\\\IPython\\\\lib\\\\display.py'>,\n",
       " 'IPython.display': <module 'IPython.display' from 'C:\\\\work\\\\virtenvs\\\\3p8_64bit_SensiPython_4p0\\\\lib\\\\site-packages\\\\IPython\\\\display.py'>,\n",
       " 'IPython.utils.capture': <module 'IPython.utils.capture' from 'C:\\\\work\\\\virtenvs\\\\3p8_64bit_SensiPython_4p0\\\\lib\\\\site-packages\\\\IPython\\\\utils\\\\capture.py'>,\n",
       " 'IPython.utils.io': <module 'IPython.utils.io' from 'C:\\\\work\\\\virtenvs\\\\3p8_64bit_SensiPython_4p0\\\\lib\\\\site-packages\\\\IPython\\\\utils\\\\io.py'>,\n",
       " 'IPython.core.hooks': <module 'IPython.core.hooks' from 'C:\\\\work\\\\virtenvs\\\\3p8_64bit_SensiPython_4p0\\\\lib\\\\site-packages\\\\IPython\\\\core\\\\hooks.py'>,\n",
       " 'IPython.utils.strdispatch': <module 'IPython.utils.strdispatch' from 'C:\\\\work\\\\virtenvs\\\\3p8_64bit_SensiPython_4p0\\\\lib\\\\site-packages\\\\IPython\\\\utils\\\\strdispatch.py'>,\n",
       " 'IPython.utils.syspathcontext': <module 'IPython.utils.syspathcontext' from 'C:\\\\work\\\\virtenvs\\\\3p8_64bit_SensiPython_4p0\\\\lib\\\\site-packages\\\\IPython\\\\utils\\\\syspathcontext.py'>,\n",
       " 'IPython.utils.tempdir': <module 'IPython.utils.tempdir' from 'C:\\\\work\\\\virtenvs\\\\3p8_64bit_SensiPython_4p0\\\\lib\\\\site-packages\\\\IPython\\\\utils\\\\tempdir.py'>,\n",
       " 'IPython.utils.contexts': <module 'IPython.utils.contexts' from 'C:\\\\work\\\\virtenvs\\\\3p8_64bit_SensiPython_4p0\\\\lib\\\\site-packages\\\\IPython\\\\utils\\\\contexts.py'>,\n",
       " 'IPython.core.async_helpers': <module 'IPython.core.async_helpers' from 'C:\\\\work\\\\virtenvs\\\\3p8_64bit_SensiPython_4p0\\\\lib\\\\site-packages\\\\IPython\\\\core\\\\async_helpers.py'>,\n",
       " 'IPython.core.interactiveshell': <module 'IPython.core.interactiveshell' from 'C:\\\\work\\\\virtenvs\\\\3p8_64bit_SensiPython_4p0\\\\lib\\\\site-packages\\\\IPython\\\\core\\\\interactiveshell.py'>,\n",
       " 'concurrent': <module 'concurrent' from 'C:\\\\Program Files\\\\WinPython38_64bit\\\\python-3.8.6.amd64\\\\lib\\\\concurrent\\\\__init__.py'>,\n",
       " 'concurrent.futures._base': <module 'concurrent.futures._base' from 'C:\\\\Program Files\\\\WinPython38_64bit\\\\python-3.8.6.amd64\\\\lib\\\\concurrent\\\\futures\\\\_base.py'>,\n",
       " 'concurrent.futures': <module 'concurrent.futures' from 'C:\\\\Program Files\\\\WinPython38_64bit\\\\python-3.8.6.amd64\\\\lib\\\\concurrent\\\\futures\\\\__init__.py'>,\n",
       " '_socket': <module '_socket' from 'C:\\\\Program Files\\\\WinPython38_64bit\\\\python-3.8.6.amd64\\\\DLLs\\\\_socket.pyd'>,\n",
       " 'select': <module 'select' from 'C:\\\\Program Files\\\\WinPython38_64bit\\\\python-3.8.6.amd64\\\\DLLs\\\\select.pyd'>,\n",
       " 'selectors': <module 'selectors' from 'C:\\\\Program Files\\\\WinPython38_64bit\\\\python-3.8.6.amd64\\\\lib\\\\selectors.py'>,\n",
       " 'socket': <module 'socket' from 'C:\\\\Program Files\\\\WinPython38_64bit\\\\python-3.8.6.amd64\\\\lib\\\\socket.py'>,\n",
       " '_ssl': <module '_ssl' from 'C:\\\\Program Files\\\\WinPython38_64bit\\\\python-3.8.6.amd64\\\\DLLs\\\\_ssl.pyd'>,\n",
       " 'base64': <module 'base64' from 'C:\\\\Program Files\\\\WinPython38_64bit\\\\python-3.8.6.amd64\\\\lib\\\\base64.py'>,\n",
       " 'ssl': <module 'ssl' from 'C:\\\\Program Files\\\\WinPython38_64bit\\\\python-3.8.6.amd64\\\\lib\\\\ssl.py'>,\n",
       " 'asyncio.constants': <module 'asyncio.constants' from 'C:\\\\Program Files\\\\WinPython38_64bit\\\\python-3.8.6.amd64\\\\lib\\\\asyncio\\\\constants.py'>,\n",
       " 'asyncio.format_helpers': <module 'asyncio.format_helpers' from 'C:\\\\Program Files\\\\WinPython38_64bit\\\\python-3.8.6.amd64\\\\lib\\\\asyncio\\\\format_helpers.py'>,\n",
       " 'asyncio.base_futures': <module 'asyncio.base_futures' from 'C:\\\\Program Files\\\\WinPython38_64bit\\\\python-3.8.6.amd64\\\\lib\\\\asyncio\\\\base_futures.py'>,\n",
       " 'asyncio.log': <module 'asyncio.log' from 'C:\\\\Program Files\\\\WinPython38_64bit\\\\python-3.8.6.amd64\\\\lib\\\\asyncio\\\\log.py'>,\n",
       " 'asyncio.coroutines': <module 'asyncio.coroutines' from 'C:\\\\Program Files\\\\WinPython38_64bit\\\\python-3.8.6.amd64\\\\lib\\\\asyncio\\\\coroutines.py'>,\n",
       " '_contextvars': <module '_contextvars' (built-in)>,\n",
       " 'contextvars': <module 'contextvars' from 'C:\\\\Program Files\\\\WinPython38_64bit\\\\python-3.8.6.amd64\\\\lib\\\\contextvars.py'>,\n",
       " 'asyncio.exceptions': <module 'asyncio.exceptions' from 'C:\\\\Program Files\\\\WinPython38_64bit\\\\python-3.8.6.amd64\\\\lib\\\\asyncio\\\\exceptions.py'>,\n",
       " 'asyncio.base_tasks': <module 'asyncio.base_tasks' from 'C:\\\\Program Files\\\\WinPython38_64bit\\\\python-3.8.6.amd64\\\\lib\\\\asyncio\\\\base_tasks.py'>,\n",
       " '_asyncio': <module '_asyncio' from 'C:\\\\Program Files\\\\WinPython38_64bit\\\\python-3.8.6.amd64\\\\DLLs\\\\_asyncio.pyd'>,\n",
       " 'asyncio.events': <module 'asyncio.events' from 'C:\\\\Program Files\\\\WinPython38_64bit\\\\python-3.8.6.amd64\\\\lib\\\\asyncio\\\\events.py'>,\n",
       " 'asyncio.futures': <module 'asyncio.futures' from 'C:\\\\Program Files\\\\WinPython38_64bit\\\\python-3.8.6.amd64\\\\lib\\\\asyncio\\\\futures.py'>,\n",
       " 'asyncio.protocols': <module 'asyncio.protocols' from 'C:\\\\Program Files\\\\WinPython38_64bit\\\\python-3.8.6.amd64\\\\lib\\\\asyncio\\\\protocols.py'>,\n",
       " 'asyncio.transports': <module 'asyncio.transports' from 'C:\\\\Program Files\\\\WinPython38_64bit\\\\python-3.8.6.amd64\\\\lib\\\\asyncio\\\\transports.py'>,\n",
       " 'asyncio.sslproto': <module 'asyncio.sslproto' from 'C:\\\\Program Files\\\\WinPython38_64bit\\\\python-3.8.6.amd64\\\\lib\\\\asyncio\\\\sslproto.py'>,\n",
       " 'asyncio.locks': <module 'asyncio.locks' from 'C:\\\\Program Files\\\\WinPython38_64bit\\\\python-3.8.6.amd64\\\\lib\\\\asyncio\\\\locks.py'>,\n",
       " 'asyncio.tasks': <module 'asyncio.tasks' from 'C:\\\\Program Files\\\\WinPython38_64bit\\\\python-3.8.6.amd64\\\\lib\\\\asyncio\\\\tasks.py'>,\n",
       " 'asyncio.staggered': <module 'asyncio.staggered' from 'C:\\\\Program Files\\\\WinPython38_64bit\\\\python-3.8.6.amd64\\\\lib\\\\asyncio\\\\staggered.py'>,\n",
       " 'asyncio.trsock': <module 'asyncio.trsock' from 'C:\\\\Program Files\\\\WinPython38_64bit\\\\python-3.8.6.amd64\\\\lib\\\\asyncio\\\\trsock.py'>,\n",
       " 'asyncio.base_events': <module 'asyncio.base_events' from 'C:\\\\Program Files\\\\WinPython38_64bit\\\\python-3.8.6.amd64\\\\lib\\\\asyncio\\\\base_events.py'>,\n",
       " 'asyncio.runners': <module 'asyncio.runners' from 'C:\\\\Program Files\\\\WinPython38_64bit\\\\python-3.8.6.amd64\\\\lib\\\\asyncio\\\\runners.py'>,\n",
       " 'asyncio.queues': <module 'asyncio.queues' from 'C:\\\\Program Files\\\\WinPython38_64bit\\\\python-3.8.6.amd64\\\\lib\\\\asyncio\\\\queues.py'>,\n",
       " 'asyncio.streams': <module 'asyncio.streams' from 'C:\\\\Program Files\\\\WinPython38_64bit\\\\python-3.8.6.amd64\\\\lib\\\\asyncio\\\\streams.py'>,\n",
       " 'asyncio.subprocess': <module 'asyncio.subprocess' from 'C:\\\\Program Files\\\\WinPython38_64bit\\\\python-3.8.6.amd64\\\\lib\\\\asyncio\\\\subprocess.py'>,\n",
       " '_overlapped': <module '_overlapped' from 'C:\\\\Program Files\\\\WinPython38_64bit\\\\python-3.8.6.amd64\\\\DLLs\\\\_overlapped.pyd'>,\n",
       " 'asyncio.base_subprocess': <module 'asyncio.base_subprocess' from 'C:\\\\Program Files\\\\WinPython38_64bit\\\\python-3.8.6.amd64\\\\lib\\\\asyncio\\\\base_subprocess.py'>,\n",
       " 'asyncio.proactor_events': <module 'asyncio.proactor_events' from 'C:\\\\Program Files\\\\WinPython38_64bit\\\\python-3.8.6.amd64\\\\lib\\\\asyncio\\\\proactor_events.py'>,\n",
       " 'asyncio.selector_events': <module 'asyncio.selector_events' from 'C:\\\\Program Files\\\\WinPython38_64bit\\\\python-3.8.6.amd64\\\\lib\\\\asyncio\\\\selector_events.py'>,\n",
       " 'asyncio.windows_utils': <module 'asyncio.windows_utils' from 'C:\\\\Program Files\\\\WinPython38_64bit\\\\python-3.8.6.amd64\\\\lib\\\\asyncio\\\\windows_utils.py'>,\n",
       " 'asyncio.windows_events': <module 'asyncio.windows_events' from 'C:\\\\Program Files\\\\WinPython38_64bit\\\\python-3.8.6.amd64\\\\lib\\\\asyncio\\\\windows_events.py'>,\n",
       " 'asyncio': <module 'asyncio' from 'C:\\\\Program Files\\\\WinPython38_64bit\\\\python-3.8.6.amd64\\\\lib\\\\asyncio\\\\__init__.py'>,\n",
       " 'prompt_toolkit.application.current': <module 'prompt_toolkit.application.current' from 'C:\\\\work\\\\virtenvs\\\\3p8_64bit_SensiPython_4p0\\\\lib\\\\site-packages\\\\prompt_toolkit\\\\application\\\\current.py'>,\n",
       " 'prompt_toolkit.eventloop.utils': <module 'prompt_toolkit.eventloop.utils' from 'C:\\\\work\\\\virtenvs\\\\3p8_64bit_SensiPython_4p0\\\\lib\\\\site-packages\\\\prompt_toolkit\\\\eventloop\\\\utils.py'>,\n",
       " 'prompt_toolkit.eventloop.async_generator': <module 'prompt_toolkit.eventloop.async_generator' from 'C:\\\\work\\\\virtenvs\\\\3p8_64bit_SensiPython_4p0\\\\lib\\\\site-packages\\\\prompt_toolkit\\\\eventloop\\\\async_generator.py'>,\n",
       " 'wcwidth.table_wide': <module 'wcwidth.table_wide' from 'C:\\\\work\\\\virtenvs\\\\3p8_64bit_SensiPython_4p0\\\\lib\\\\site-packages\\\\wcwidth\\\\table_wide.py'>,\n",
       " 'wcwidth.table_zero': <module 'wcwidth.table_zero' from 'C:\\\\work\\\\virtenvs\\\\3p8_64bit_SensiPython_4p0\\\\lib\\\\site-packages\\\\wcwidth\\\\table_zero.py'>,\n",
       " 'wcwidth.unicode_versions': <module 'wcwidth.unicode_versions' from 'C:\\\\work\\\\virtenvs\\\\3p8_64bit_SensiPython_4p0\\\\lib\\\\site-packages\\\\wcwidth\\\\unicode_versions.py'>,\n",
       " 'wcwidth.wcwidth': <module 'wcwidth.wcwidth' from 'C:\\\\work\\\\virtenvs\\\\3p8_64bit_SensiPython_4p0\\\\lib\\\\site-packages\\\\wcwidth\\\\wcwidth.py'>,\n",
       " 'wcwidth': <module 'wcwidth' from 'C:\\\\work\\\\virtenvs\\\\3p8_64bit_SensiPython_4p0\\\\lib\\\\site-packages\\\\wcwidth\\\\__init__.py'>,\n",
       " 'prompt_toolkit.utils': <module 'prompt_toolkit.utils' from 'C:\\\\work\\\\virtenvs\\\\3p8_64bit_SensiPython_4p0\\\\lib\\\\site-packages\\\\prompt_toolkit\\\\utils.py'>,\n",
       " 'prompt_toolkit.eventloop.inputhook': <module 'prompt_toolkit.eventloop.inputhook' from 'C:\\\\work\\\\virtenvs\\\\3p8_64bit_SensiPython_4p0\\\\lib\\\\site-packages\\\\prompt_toolkit\\\\eventloop\\\\inputhook.py'>,\n",
       " 'prompt_toolkit.eventloop': <module 'prompt_toolkit.eventloop' from 'C:\\\\work\\\\virtenvs\\\\3p8_64bit_SensiPython_4p0\\\\lib\\\\site-packages\\\\prompt_toolkit\\\\eventloop\\\\__init__.py'>,\n",
       " 'prompt_toolkit.application.run_in_terminal': <module 'prompt_toolkit.application.run_in_terminal' from 'C:\\\\work\\\\virtenvs\\\\3p8_64bit_SensiPython_4p0\\\\lib\\\\site-packages\\\\prompt_toolkit\\\\application\\\\run_in_terminal.py'>,\n",
       " 'prompt_toolkit.selection': <module 'prompt_toolkit.selection' from 'C:\\\\work\\\\virtenvs\\\\3p8_64bit_SensiPython_4p0\\\\lib\\\\site-packages\\\\prompt_toolkit\\\\selection.py'>,\n",
       " 'prompt_toolkit.clipboard.base': <module 'prompt_toolkit.clipboard.base' from 'C:\\\\work\\\\virtenvs\\\\3p8_64bit_SensiPython_4p0\\\\lib\\\\site-packages\\\\prompt_toolkit\\\\clipboard\\\\base.py'>,\n",
       " 'prompt_toolkit.clipboard.in_memory': <module 'prompt_toolkit.clipboard.in_memory' from 'C:\\\\work\\\\virtenvs\\\\3p8_64bit_SensiPython_4p0\\\\lib\\\\site-packages\\\\prompt_toolkit\\\\clipboard\\\\in_memory.py'>,\n",
       " 'prompt_toolkit.clipboard': <module 'prompt_toolkit.clipboard' from 'C:\\\\work\\\\virtenvs\\\\3p8_64bit_SensiPython_4p0\\\\lib\\\\site-packages\\\\prompt_toolkit\\\\clipboard\\\\__init__.py'>,\n",
       " 'prompt_toolkit.cache': <module 'prompt_toolkit.cache' from 'C:\\\\work\\\\virtenvs\\\\3p8_64bit_SensiPython_4p0\\\\lib\\\\site-packages\\\\prompt_toolkit\\\\cache.py'>,\n",
       " 'prompt_toolkit.enums': <module 'prompt_toolkit.enums' from 'C:\\\\work\\\\virtenvs\\\\3p8_64bit_SensiPython_4p0\\\\lib\\\\site-packages\\\\prompt_toolkit\\\\enums.py'>,\n",
       " 'prompt_toolkit.filters.base': <module 'prompt_toolkit.filters.base' from 'C:\\\\work\\\\virtenvs\\\\3p8_64bit_SensiPython_4p0\\\\lib\\\\site-packages\\\\prompt_toolkit\\\\filters\\\\base.py'>,\n",
       " 'prompt_toolkit.filters.app': <module 'prompt_toolkit.filters.app' from 'C:\\\\work\\\\virtenvs\\\\3p8_64bit_SensiPython_4p0\\\\lib\\\\site-packages\\\\prompt_toolkit\\\\filters\\\\app.py'>,\n",
       " 'prompt_toolkit.filters.cli': <module 'prompt_toolkit.filters.cli' from 'C:\\\\work\\\\virtenvs\\\\3p8_64bit_SensiPython_4p0\\\\lib\\\\site-packages\\\\prompt_toolkit\\\\filters\\\\cli.py'>,\n",
       " 'prompt_toolkit.filters.utils': <module 'prompt_toolkit.filters.utils' from 'C:\\\\work\\\\virtenvs\\\\3p8_64bit_SensiPython_4p0\\\\lib\\\\site-packages\\\\prompt_toolkit\\\\filters\\\\utils.py'>,\n",
       " 'prompt_toolkit.filters': <module 'prompt_toolkit.filters' from 'C:\\\\work\\\\virtenvs\\\\3p8_64bit_SensiPython_4p0\\\\lib\\\\site-packages\\\\prompt_toolkit\\\\filters\\\\__init__.py'>,\n",
       " 'prompt_toolkit.document': <module 'prompt_toolkit.document' from 'C:\\\\work\\\\virtenvs\\\\3p8_64bit_SensiPython_4p0\\\\lib\\\\site-packages\\\\prompt_toolkit\\\\document.py'>,\n",
       " 'prompt_toolkit.auto_suggest': <module 'prompt_toolkit.auto_suggest' from 'C:\\\\work\\\\virtenvs\\\\3p8_64bit_SensiPython_4p0\\\\lib\\\\site-packages\\\\prompt_toolkit\\\\auto_suggest.py'>,\n",
       " 'prompt_toolkit.data_structures': <module 'prompt_toolkit.data_structures' from 'C:\\\\work\\\\virtenvs\\\\3p8_64bit_SensiPython_4p0\\\\lib\\\\site-packages\\\\prompt_toolkit\\\\data_structures.py'>,\n",
       " 'prompt_toolkit.styles.base': <module 'prompt_toolkit.styles.base' from 'C:\\\\work\\\\virtenvs\\\\3p8_64bit_SensiPython_4p0\\\\lib\\\\site-packages\\\\prompt_toolkit\\\\styles\\\\base.py'>,\n",
       " 'prompt_toolkit.styles.named_colors': <module 'prompt_toolkit.styles.named_colors' from 'C:\\\\work\\\\virtenvs\\\\3p8_64bit_SensiPython_4p0\\\\lib\\\\site-packages\\\\prompt_toolkit\\\\styles\\\\named_colors.py'>,\n",
       " 'prompt_toolkit.styles.style': <module 'prompt_toolkit.styles.style' from 'C:\\\\work\\\\virtenvs\\\\3p8_64bit_SensiPython_4p0\\\\lib\\\\site-packages\\\\prompt_toolkit\\\\styles\\\\style.py'>,\n",
       " 'prompt_toolkit.styles.defaults': <module 'prompt_toolkit.styles.defaults' from 'C:\\\\work\\\\virtenvs\\\\3p8_64bit_SensiPython_4p0\\\\lib\\\\site-packages\\\\prompt_toolkit\\\\styles\\\\defaults.py'>,\n",
       " 'prompt_toolkit.styles.pygments': <module 'prompt_toolkit.styles.pygments' from 'C:\\\\work\\\\virtenvs\\\\3p8_64bit_SensiPython_4p0\\\\lib\\\\site-packages\\\\prompt_toolkit\\\\styles\\\\pygments.py'>,\n",
       " 'colorsys': <module 'colorsys' from 'C:\\\\Program Files\\\\WinPython38_64bit\\\\python-3.8.6.amd64\\\\lib\\\\colorsys.py'>,\n",
       " 'prompt_toolkit.styles.style_transformation': <module 'prompt_toolkit.styles.style_transformation' from 'C:\\\\work\\\\virtenvs\\\\3p8_64bit_SensiPython_4p0\\\\lib\\\\site-packages\\\\prompt_toolkit\\\\styles\\\\style_transformation.py'>,\n",
       " 'prompt_toolkit.styles': <module 'prompt_toolkit.styles' from 'C:\\\\work\\\\virtenvs\\\\3p8_64bit_SensiPython_4p0\\\\lib\\\\site-packages\\\\prompt_toolkit\\\\styles\\\\__init__.py'>,\n",
       " 'prompt_toolkit.output.color_depth': <module 'prompt_toolkit.output.color_depth' from 'C:\\\\work\\\\virtenvs\\\\3p8_64bit_SensiPython_4p0\\\\lib\\\\site-packages\\\\prompt_toolkit\\\\output\\\\color_depth.py'>,\n",
       " 'prompt_toolkit.output.base': <module 'prompt_toolkit.output.base' from 'C:\\\\work\\\\virtenvs\\\\3p8_64bit_SensiPython_4p0\\\\lib\\\\site-packages\\\\prompt_toolkit\\\\output\\\\base.py'>,\n",
       " 'prompt_toolkit.output.defaults': <module 'prompt_toolkit.output.defaults' from 'C:\\\\work\\\\virtenvs\\\\3p8_64bit_SensiPython_4p0\\\\lib\\\\site-packages\\\\prompt_toolkit\\\\output\\\\defaults.py'>,\n",
       " 'prompt_toolkit.output': <module 'prompt_toolkit.output' from 'C:\\\\work\\\\virtenvs\\\\3p8_64bit_SensiPython_4p0\\\\lib\\\\site-packages\\\\prompt_toolkit\\\\output\\\\__init__.py'>,\n",
       " 'array': <module 'array' (built-in)>,\n",
       " 'prompt_toolkit.output.vt100': <module 'prompt_toolkit.output.vt100' from 'C:\\\\work\\\\virtenvs\\\\3p8_64bit_SensiPython_4p0\\\\lib\\\\site-packages\\\\prompt_toolkit\\\\output\\\\vt100.py'>,\n",
       " 'prompt_toolkit.mouse_events': <module 'prompt_toolkit.mouse_events' from 'C:\\\\work\\\\virtenvs\\\\3p8_64bit_SensiPython_4p0\\\\lib\\\\site-packages\\\\prompt_toolkit\\\\mouse_events.py'>,\n",
       " 'prompt_toolkit.formatted_text.base': <module 'prompt_toolkit.formatted_text.base' from 'C:\\\\work\\\\virtenvs\\\\3p8_64bit_SensiPython_4p0\\\\lib\\\\site-packages\\\\prompt_toolkit\\\\formatted_text\\\\base.py'>,\n",
       " 'prompt_toolkit.formatted_text.ansi': <module 'prompt_toolkit.formatted_text.ansi' from 'C:\\\\work\\\\virtenvs\\\\3p8_64bit_SensiPython_4p0\\\\lib\\\\site-packages\\\\prompt_toolkit\\\\formatted_text\\\\ansi.py'>,\n",
       " 'xml': <module 'xml' from 'C:\\\\Program Files\\\\WinPython38_64bit\\\\python-3.8.6.amd64\\\\lib\\\\xml\\\\__init__.py'>,\n",
       " 'xml.dom.domreg': <module 'xml.dom.domreg' from 'C:\\\\Program Files\\\\WinPython38_64bit\\\\python-3.8.6.amd64\\\\lib\\\\xml\\\\dom\\\\domreg.py'>,\n",
       " 'xml.dom': <module 'xml.dom' from 'C:\\\\Program Files\\\\WinPython38_64bit\\\\python-3.8.6.amd64\\\\lib\\\\xml\\\\dom\\\\__init__.py'>,\n",
       " 'xml.dom.minicompat': <module 'xml.dom.minicompat' from 'C:\\\\Program Files\\\\WinPython38_64bit\\\\python-3.8.6.amd64\\\\lib\\\\xml\\\\dom\\\\minicompat.py'>,\n",
       " 'xml.dom.NodeFilter': <module 'xml.dom.NodeFilter' from 'C:\\\\Program Files\\\\WinPython38_64bit\\\\python-3.8.6.amd64\\\\lib\\\\xml\\\\dom\\\\NodeFilter.py'>,\n",
       " 'xml.dom.xmlbuilder': <module 'xml.dom.xmlbuilder' from 'C:\\\\Program Files\\\\WinPython38_64bit\\\\python-3.8.6.amd64\\\\lib\\\\xml\\\\dom\\\\xmlbuilder.py'>,\n",
       " 'xml.dom.minidom': <module 'xml.dom.minidom' from 'C:\\\\Program Files\\\\WinPython38_64bit\\\\python-3.8.6.amd64\\\\lib\\\\xml\\\\dom\\\\minidom.py'>,\n",
       " 'prompt_toolkit.formatted_text.html': <module 'prompt_toolkit.formatted_text.html' from 'C:\\\\work\\\\virtenvs\\\\3p8_64bit_SensiPython_4p0\\\\lib\\\\site-packages\\\\prompt_toolkit\\\\formatted_text\\\\html.py'>,\n",
       " 'prompt_toolkit.formatted_text.pygments': <module 'prompt_toolkit.formatted_text.pygments' from 'C:\\\\work\\\\virtenvs\\\\3p8_64bit_SensiPython_4p0\\\\lib\\\\site-packages\\\\prompt_toolkit\\\\formatted_text\\\\pygments.py'>,\n",
       " 'prompt_toolkit.formatted_text.utils': <module 'prompt_toolkit.formatted_text.utils' from 'C:\\\\work\\\\virtenvs\\\\3p8_64bit_SensiPython_4p0\\\\lib\\\\site-packages\\\\prompt_toolkit\\\\formatted_text\\\\utils.py'>,\n",
       " 'prompt_toolkit.formatted_text': <module 'prompt_toolkit.formatted_text' from 'C:\\\\work\\\\virtenvs\\\\3p8_64bit_SensiPython_4p0\\\\lib\\\\site-packages\\\\prompt_toolkit\\\\formatted_text\\\\__init__.py'>,\n",
       " 'prompt_toolkit.completion.base': <module 'prompt_toolkit.completion.base' from 'C:\\\\work\\\\virtenvs\\\\3p8_64bit_SensiPython_4p0\\\\lib\\\\site-packages\\\\prompt_toolkit\\\\completion\\\\base.py'>,\n",
       " 'prompt_toolkit.completion.deduplicate': <module 'prompt_toolkit.completion.deduplicate' from 'C:\\\\work\\\\virtenvs\\\\3p8_64bit_SensiPython_4p0\\\\lib\\\\site-packages\\\\prompt_toolkit\\\\completion\\\\deduplicate.py'>,\n",
       " 'prompt_toolkit.completion.filesystem': <module 'prompt_toolkit.completion.filesystem' from 'C:\\\\work\\\\virtenvs\\\\3p8_64bit_SensiPython_4p0\\\\lib\\\\site-packages\\\\prompt_toolkit\\\\completion\\\\filesystem.py'>,\n",
       " 'prompt_toolkit.completion.word_completer': <module 'prompt_toolkit.completion.word_completer' from 'C:\\\\work\\\\virtenvs\\\\3p8_64bit_SensiPython_4p0\\\\lib\\\\site-packages\\\\prompt_toolkit\\\\completion\\\\word_completer.py'>,\n",
       " 'prompt_toolkit.completion.fuzzy_completer': <module 'prompt_toolkit.completion.fuzzy_completer' from 'C:\\\\work\\\\virtenvs\\\\3p8_64bit_SensiPython_4p0\\\\lib\\\\site-packages\\\\prompt_toolkit\\\\completion\\\\fuzzy_completer.py'>,\n",
       " 'prompt_toolkit.completion.nested': <module 'prompt_toolkit.completion.nested' from 'C:\\\\work\\\\virtenvs\\\\3p8_64bit_SensiPython_4p0\\\\lib\\\\site-packages\\\\prompt_toolkit\\\\completion\\\\nested.py'>,\n",
       " 'prompt_toolkit.completion': <module 'prompt_toolkit.completion' from 'C:\\\\work\\\\virtenvs\\\\3p8_64bit_SensiPython_4p0\\\\lib\\\\site-packages\\\\prompt_toolkit\\\\completion\\\\__init__.py'>,\n",
       " 'prompt_toolkit.history': <module 'prompt_toolkit.history' from 'C:\\\\work\\\\virtenvs\\\\3p8_64bit_SensiPython_4p0\\\\lib\\\\site-packages\\\\prompt_toolkit\\\\history.py'>,\n",
       " 'prompt_toolkit.keys': <module 'prompt_toolkit.keys' from 'C:\\\\work\\\\virtenvs\\\\3p8_64bit_SensiPython_4p0\\\\lib\\\\site-packages\\\\prompt_toolkit\\\\keys.py'>,\n",
       " 'prompt_toolkit.key_binding.key_bindings': <module 'prompt_toolkit.key_binding.key_bindings' from 'C:\\\\work\\\\virtenvs\\\\3p8_64bit_SensiPython_4p0\\\\lib\\\\site-packages\\\\prompt_toolkit\\\\key_binding\\\\key_bindings.py'>,\n",
       " 'prompt_toolkit.key_binding.key_processor': <module 'prompt_toolkit.key_binding.key_processor' from 'C:\\\\work\\\\virtenvs\\\\3p8_64bit_SensiPython_4p0\\\\lib\\\\site-packages\\\\prompt_toolkit\\\\key_binding\\\\key_processor.py'>,\n",
       " 'prompt_toolkit.key_binding': <module 'prompt_toolkit.key_binding' from 'C:\\\\work\\\\virtenvs\\\\3p8_64bit_SensiPython_4p0\\\\lib\\\\site-packages\\\\prompt_toolkit\\\\key_binding\\\\__init__.py'>,\n",
       " 'prompt_toolkit.key_binding.vi_state': <module 'prompt_toolkit.key_binding.vi_state' from 'C:\\\\work\\\\virtenvs\\\\3p8_64bit_SensiPython_4p0\\\\lib\\\\site-packages\\\\prompt_toolkit\\\\key_binding\\\\vi_state.py'>,\n",
       " 'prompt_toolkit.search': <module 'prompt_toolkit.search' from 'C:\\\\work\\\\virtenvs\\\\3p8_64bit_SensiPython_4p0\\\\lib\\\\site-packages\\\\prompt_toolkit\\\\search.py'>,\n",
       " 'prompt_toolkit.validation': <module 'prompt_toolkit.validation' from 'C:\\\\work\\\\virtenvs\\\\3p8_64bit_SensiPython_4p0\\\\lib\\\\site-packages\\\\prompt_toolkit\\\\validation.py'>,\n",
       " 'prompt_toolkit.buffer': <module 'prompt_toolkit.buffer' from 'C:\\\\work\\\\virtenvs\\\\3p8_64bit_SensiPython_4p0\\\\lib\\\\site-packages\\\\prompt_toolkit\\\\buffer.py'>,\n",
       " 'prompt_toolkit.input.base': <module 'prompt_toolkit.input.base' from 'C:\\\\work\\\\virtenvs\\\\3p8_64bit_SensiPython_4p0\\\\lib\\\\site-packages\\\\prompt_toolkit\\\\input\\\\base.py'>,\n",
       " 'prompt_toolkit.input.defaults': <module 'prompt_toolkit.input.defaults' from 'C:\\\\work\\\\virtenvs\\\\3p8_64bit_SensiPython_4p0\\\\lib\\\\site-packages\\\\prompt_toolkit\\\\input\\\\defaults.py'>,\n",
       " 'prompt_toolkit.input': <module 'prompt_toolkit.input' from 'C:\\\\work\\\\virtenvs\\\\3p8_64bit_SensiPython_4p0\\\\lib\\\\site-packages\\\\prompt_toolkit\\\\input\\\\__init__.py'>,\n",
       " 'prompt_toolkit.input.typeahead': <module 'prompt_toolkit.input.typeahead' from 'C:\\\\work\\\\virtenvs\\\\3p8_64bit_SensiPython_4p0\\\\lib\\\\site-packages\\\\prompt_toolkit\\\\input\\\\typeahead.py'>,\n",
       " 'prompt_toolkit.key_binding.bindings': <module 'prompt_toolkit.key_binding.bindings' from 'C:\\\\work\\\\virtenvs\\\\3p8_64bit_SensiPython_4p0\\\\lib\\\\site-packages\\\\prompt_toolkit\\\\key_binding\\\\bindings\\\\__init__.py'>,\n",
       " 'prompt_toolkit.key_binding.bindings.scroll': <module 'prompt_toolkit.key_binding.bindings.scroll' from 'C:\\\\work\\\\virtenvs\\\\3p8_64bit_SensiPython_4p0\\\\lib\\\\site-packages\\\\prompt_toolkit\\\\key_binding\\\\bindings\\\\scroll.py'>,\n",
       " 'prompt_toolkit.key_binding.bindings.page_navigation': <module 'prompt_toolkit.key_binding.bindings.page_navigation' from 'C:\\\\work\\\\virtenvs\\\\3p8_64bit_SensiPython_4p0\\\\lib\\\\site-packages\\\\prompt_toolkit\\\\key_binding\\\\bindings\\\\page_navigation.py'>,\n",
       " 'prompt_toolkit.lexers.base': <module 'prompt_toolkit.lexers.base' from 'C:\\\\work\\\\virtenvs\\\\3p8_64bit_SensiPython_4p0\\\\lib\\\\site-packages\\\\prompt_toolkit\\\\lexers\\\\base.py'>,\n",
       " 'prompt_toolkit.lexers.pygments': <module 'prompt_toolkit.lexers.pygments' from 'C:\\\\work\\\\virtenvs\\\\3p8_64bit_SensiPython_4p0\\\\lib\\\\site-packages\\\\prompt_toolkit\\\\lexers\\\\pygments.py'>,\n",
       " 'prompt_toolkit.lexers': <module 'prompt_toolkit.lexers' from 'C:\\\\work\\\\virtenvs\\\\3p8_64bit_SensiPython_4p0\\\\lib\\\\site-packages\\\\prompt_toolkit\\\\lexers\\\\__init__.py'>,\n",
       " 'prompt_toolkit.layout.utils': <module 'prompt_toolkit.layout.utils' from 'C:\\\\work\\\\virtenvs\\\\3p8_64bit_SensiPython_4p0\\\\lib\\\\site-packages\\\\prompt_toolkit\\\\layout\\\\utils.py'>,\n",
       " 'prompt_toolkit.layout.processors': <module 'prompt_toolkit.layout.processors' from 'C:\\\\work\\\\virtenvs\\\\3p8_64bit_SensiPython_4p0\\\\lib\\\\site-packages\\\\prompt_toolkit\\\\layout\\\\processors.py'>,\n",
       " 'prompt_toolkit.layout.controls': <module 'prompt_toolkit.layout.controls' from 'C:\\\\work\\\\virtenvs\\\\3p8_64bit_SensiPython_4p0\\\\lib\\\\site-packages\\\\prompt_toolkit\\\\layout\\\\controls.py'>,\n",
       " 'prompt_toolkit.layout.dimension': <module 'prompt_toolkit.layout.dimension' from 'C:\\\\work\\\\virtenvs\\\\3p8_64bit_SensiPython_4p0\\\\lib\\\\site-packages\\\\prompt_toolkit\\\\layout\\\\dimension.py'>,\n",
       " 'prompt_toolkit.layout.margins': <module 'prompt_toolkit.layout.margins' from 'C:\\\\work\\\\virtenvs\\\\3p8_64bit_SensiPython_4p0\\\\lib\\\\site-packages\\\\prompt_toolkit\\\\layout\\\\margins.py'>,\n",
       " 'prompt_toolkit.layout.mouse_handlers': <module 'prompt_toolkit.layout.mouse_handlers' from 'C:\\\\work\\\\virtenvs\\\\3p8_64bit_SensiPython_4p0\\\\lib\\\\site-packages\\\\prompt_toolkit\\\\layout\\\\mouse_handlers.py'>,\n",
       " 'prompt_toolkit.layout.screen': <module 'prompt_toolkit.layout.screen' from 'C:\\\\work\\\\virtenvs\\\\3p8_64bit_SensiPython_4p0\\\\lib\\\\site-packages\\\\prompt_toolkit\\\\layout\\\\screen.py'>,\n",
       " 'prompt_toolkit.layout.containers': <module 'prompt_toolkit.layout.containers' from 'C:\\\\work\\\\virtenvs\\\\3p8_64bit_SensiPython_4p0\\\\lib\\\\site-packages\\\\prompt_toolkit\\\\layout\\\\containers.py'>,\n",
       " 'prompt_toolkit.layout.layout': <module 'prompt_toolkit.layout.layout' from 'C:\\\\work\\\\virtenvs\\\\3p8_64bit_SensiPython_4p0\\\\lib\\\\site-packages\\\\prompt_toolkit\\\\layout\\\\layout.py'>,\n",
       " 'prompt_toolkit.layout.menus': <module 'prompt_toolkit.layout.menus' from 'C:\\\\work\\\\virtenvs\\\\3p8_64bit_SensiPython_4p0\\\\lib\\\\site-packages\\\\prompt_toolkit\\\\layout\\\\menus.py'>,\n",
       " 'prompt_toolkit.layout.scrollable_pane': <module 'prompt_toolkit.layout.scrollable_pane' from 'C:\\\\work\\\\virtenvs\\\\3p8_64bit_SensiPython_4p0\\\\lib\\\\site-packages\\\\prompt_toolkit\\\\layout\\\\scrollable_pane.py'>,\n",
       " 'prompt_toolkit.layout': <module 'prompt_toolkit.layout' from 'C:\\\\work\\\\virtenvs\\\\3p8_64bit_SensiPython_4p0\\\\lib\\\\site-packages\\\\prompt_toolkit\\\\layout\\\\__init__.py'>,\n",
       " 'prompt_toolkit.key_binding.bindings.completion': <module 'prompt_toolkit.key_binding.bindings.completion' from 'C:\\\\work\\\\virtenvs\\\\3p8_64bit_SensiPython_4p0\\\\lib\\\\site-packages\\\\prompt_toolkit\\\\key_binding\\\\bindings\\\\completion.py'>,\n",
       " 'prompt_toolkit.key_binding.bindings.named_commands': <module 'prompt_toolkit.key_binding.bindings.named_commands' from 'C:\\\\work\\\\virtenvs\\\\3p8_64bit_SensiPython_4p0\\\\lib\\\\site-packages\\\\prompt_toolkit\\\\key_binding\\\\bindings\\\\named_commands.py'>,\n",
       " 'prompt_toolkit.key_binding.bindings.basic': <module 'prompt_toolkit.key_binding.bindings.basic' from 'C:\\\\work\\\\virtenvs\\\\3p8_64bit_SensiPython_4p0\\\\lib\\\\site-packages\\\\prompt_toolkit\\\\key_binding\\\\bindings\\\\basic.py'>,\n",
       " 'prompt_toolkit.key_binding.bindings.cpr': <module 'prompt_toolkit.key_binding.bindings.cpr' from 'C:\\\\work\\\\virtenvs\\\\3p8_64bit_SensiPython_4p0\\\\lib\\\\site-packages\\\\prompt_toolkit\\\\key_binding\\\\bindings\\\\cpr.py'>,\n",
       " 'prompt_toolkit.key_binding.bindings.emacs': <module 'prompt_toolkit.key_binding.bindings.emacs' from 'C:\\\\work\\\\virtenvs\\\\3p8_64bit_SensiPython_4p0\\\\lib\\\\site-packages\\\\prompt_toolkit\\\\key_binding\\\\bindings\\\\emacs.py'>,\n",
       " 'prompt_toolkit.key_binding.bindings.mouse': <module 'prompt_toolkit.key_binding.bindings.mouse' from 'C:\\\\work\\\\virtenvs\\\\3p8_64bit_SensiPython_4p0\\\\lib\\\\site-packages\\\\prompt_toolkit\\\\key_binding\\\\bindings\\\\mouse.py'>,\n",
       " 'prompt_toolkit.input.ansi_escape_sequences': <module 'prompt_toolkit.input.ansi_escape_sequences' from 'C:\\\\work\\\\virtenvs\\\\3p8_64bit_SensiPython_4p0\\\\lib\\\\site-packages\\\\prompt_toolkit\\\\input\\\\ansi_escape_sequences.py'>,\n",
       " 'prompt_toolkit.input.vt100_parser': <module 'prompt_toolkit.input.vt100_parser' from 'C:\\\\work\\\\virtenvs\\\\3p8_64bit_SensiPython_4p0\\\\lib\\\\site-packages\\\\prompt_toolkit\\\\input\\\\vt100_parser.py'>,\n",
       " 'prompt_toolkit.key_binding.digraphs': <module 'prompt_toolkit.key_binding.digraphs' from 'C:\\\\work\\\\virtenvs\\\\3p8_64bit_SensiPython_4p0\\\\lib\\\\site-packages\\\\prompt_toolkit\\\\key_binding\\\\digraphs.py'>,\n",
       " 'prompt_toolkit.key_binding.bindings.vi': <module 'prompt_toolkit.key_binding.bindings.vi' from 'C:\\\\work\\\\virtenvs\\\\3p8_64bit_SensiPython_4p0\\\\lib\\\\site-packages\\\\prompt_toolkit\\\\key_binding\\\\bindings\\\\vi.py'>,\n",
       " 'prompt_toolkit.key_binding.defaults': <module 'prompt_toolkit.key_binding.defaults' from 'C:\\\\work\\\\virtenvs\\\\3p8_64bit_SensiPython_4p0\\\\lib\\\\site-packages\\\\prompt_toolkit\\\\key_binding\\\\defaults.py'>,\n",
       " 'prompt_toolkit.key_binding.emacs_state': <module 'prompt_toolkit.key_binding.emacs_state' from 'C:\\\\work\\\\virtenvs\\\\3p8_64bit_SensiPython_4p0\\\\lib\\\\site-packages\\\\prompt_toolkit\\\\key_binding\\\\emacs_state.py'>,\n",
       " 'prompt_toolkit.layout.dummy': <module 'prompt_toolkit.layout.dummy' from 'C:\\\\work\\\\virtenvs\\\\3p8_64bit_SensiPython_4p0\\\\lib\\\\site-packages\\\\prompt_toolkit\\\\layout\\\\dummy.py'>,\n",
       " 'prompt_toolkit.renderer': <module 'prompt_toolkit.renderer' from 'C:\\\\work\\\\virtenvs\\\\3p8_64bit_SensiPython_4p0\\\\lib\\\\site-packages\\\\prompt_toolkit\\\\renderer.py'>,\n",
       " 'prompt_toolkit.application.application': <module 'prompt_toolkit.application.application' from 'C:\\\\work\\\\virtenvs\\\\3p8_64bit_SensiPython_4p0\\\\lib\\\\site-packages\\\\prompt_toolkit\\\\application\\\\application.py'>,\n",
       " 'prompt_toolkit.application.dummy': <module 'prompt_toolkit.application.dummy' from 'C:\\\\work\\\\virtenvs\\\\3p8_64bit_SensiPython_4p0\\\\lib\\\\site-packages\\\\prompt_toolkit\\\\application\\\\dummy.py'>,\n",
       " 'prompt_toolkit.application': <module 'prompt_toolkit.application' from 'C:\\\\work\\\\virtenvs\\\\3p8_64bit_SensiPython_4p0\\\\lib\\\\site-packages\\\\prompt_toolkit\\\\application\\\\__init__.py'>,\n",
       " 'prompt_toolkit.key_binding.bindings.focus': <module 'prompt_toolkit.key_binding.bindings.focus' from 'C:\\\\work\\\\virtenvs\\\\3p8_64bit_SensiPython_4p0\\\\lib\\\\site-packages\\\\prompt_toolkit\\\\key_binding\\\\bindings\\\\focus.py'>,\n",
       " 'prompt_toolkit.widgets.toolbars': <module 'prompt_toolkit.widgets.toolbars' from 'C:\\\\work\\\\virtenvs\\\\3p8_64bit_SensiPython_4p0\\\\lib\\\\site-packages\\\\prompt_toolkit\\\\widgets\\\\toolbars.py'>,\n",
       " 'prompt_toolkit.widgets.base': <module 'prompt_toolkit.widgets.base' from 'C:\\\\work\\\\virtenvs\\\\3p8_64bit_SensiPython_4p0\\\\lib\\\\site-packages\\\\prompt_toolkit\\\\widgets\\\\base.py'>,\n",
       " 'prompt_toolkit.widgets.dialogs': <module 'prompt_toolkit.widgets.dialogs' from 'C:\\\\work\\\\virtenvs\\\\3p8_64bit_SensiPython_4p0\\\\lib\\\\site-packages\\\\prompt_toolkit\\\\widgets\\\\dialogs.py'>,\n",
       " 'prompt_toolkit.widgets.menus': <module 'prompt_toolkit.widgets.menus' from 'C:\\\\work\\\\virtenvs\\\\3p8_64bit_SensiPython_4p0\\\\lib\\\\site-packages\\\\prompt_toolkit\\\\widgets\\\\menus.py'>,\n",
       " 'prompt_toolkit.widgets': <module 'prompt_toolkit.widgets' from 'C:\\\\work\\\\virtenvs\\\\3p8_64bit_SensiPython_4p0\\\\lib\\\\site-packages\\\\prompt_toolkit\\\\widgets\\\\__init__.py'>,\n",
       " 'prompt_toolkit.shortcuts.dialogs': <module 'prompt_toolkit.shortcuts.dialogs' from 'C:\\\\work\\\\virtenvs\\\\3p8_64bit_SensiPython_4p0\\\\lib\\\\site-packages\\\\prompt_toolkit\\\\shortcuts\\\\dialogs.py'>,\n",
       " 'prompt_toolkit.shortcuts.progress_bar.formatters': <module 'prompt_toolkit.shortcuts.progress_bar.formatters' from 'C:\\\\work\\\\virtenvs\\\\3p8_64bit_SensiPython_4p0\\\\lib\\\\site-packages\\\\prompt_toolkit\\\\shortcuts\\\\progress_bar\\\\formatters.py'>,\n",
       " 'prompt_toolkit.shortcuts.progress_bar.base': <module 'prompt_toolkit.shortcuts.progress_bar.base' from 'C:\\\\work\\\\virtenvs\\\\3p8_64bit_SensiPython_4p0\\\\lib\\\\site-packages\\\\prompt_toolkit\\\\shortcuts\\\\progress_bar\\\\base.py'>,\n",
       " 'prompt_toolkit.shortcuts.progress_bar': <module 'prompt_toolkit.shortcuts.progress_bar' from 'C:\\\\work\\\\virtenvs\\\\3p8_64bit_SensiPython_4p0\\\\lib\\\\site-packages\\\\prompt_toolkit\\\\shortcuts\\\\progress_bar\\\\__init__.py'>,\n",
       " 'prompt_toolkit.key_binding.bindings.auto_suggest': <module 'prompt_toolkit.key_binding.bindings.auto_suggest' from 'C:\\\\work\\\\virtenvs\\\\3p8_64bit_SensiPython_4p0\\\\lib\\\\site-packages\\\\prompt_toolkit\\\\key_binding\\\\bindings\\\\auto_suggest.py'>,\n",
       " 'prompt_toolkit.key_binding.bindings.open_in_editor': <module 'prompt_toolkit.key_binding.bindings.open_in_editor' from 'C:\\\\work\\\\virtenvs\\\\3p8_64bit_SensiPython_4p0\\\\lib\\\\site-packages\\\\prompt_toolkit\\\\key_binding\\\\bindings\\\\open_in_editor.py'>,\n",
       " 'prompt_toolkit.shortcuts.prompt': <module 'prompt_toolkit.shortcuts.prompt' from 'C:\\\\work\\\\virtenvs\\\\3p8_64bit_SensiPython_4p0\\\\lib\\\\site-packages\\\\prompt_toolkit\\\\shortcuts\\\\prompt.py'>,\n",
       " 'prompt_toolkit.shortcuts.utils': <module 'prompt_toolkit.shortcuts.utils' from 'C:\\\\work\\\\virtenvs\\\\3p8_64bit_SensiPython_4p0\\\\lib\\\\site-packages\\\\prompt_toolkit\\\\shortcuts\\\\utils.py'>,\n",
       " 'prompt_toolkit.shortcuts': <module 'prompt_toolkit.shortcuts' from 'C:\\\\work\\\\virtenvs\\\\3p8_64bit_SensiPython_4p0\\\\lib\\\\site-packages\\\\prompt_toolkit\\\\shortcuts\\\\__init__.py'>,\n",
       " 'prompt_toolkit': <module 'prompt_toolkit' from 'C:\\\\work\\\\virtenvs\\\\3p8_64bit_SensiPython_4p0\\\\lib\\\\site-packages\\\\prompt_toolkit\\\\__init__.py'>,\n",
       " '_queue': <module '_queue' from 'C:\\\\Program Files\\\\WinPython38_64bit\\\\python-3.8.6.amd64\\\\DLLs\\\\_queue.pyd'>,\n",
       " 'queue': <module 'queue' from 'C:\\\\Program Files\\\\WinPython38_64bit\\\\python-3.8.6.amd64\\\\lib\\\\queue.py'>,\n",
       " 'prompt_toolkit.patch_stdout': <module 'prompt_toolkit.patch_stdout' from 'C:\\\\work\\\\virtenvs\\\\3p8_64bit_SensiPython_4p0\\\\lib\\\\site-packages\\\\prompt_toolkit\\\\patch_stdout.py'>,\n",
       " 'pygments.style': <module 'pygments.style' from 'C:\\\\work\\\\virtenvs\\\\3p8_64bit_SensiPython_4p0\\\\lib\\\\site-packages\\\\pygments\\\\style.py'>,\n",
       " 'unicodedata': <module 'unicodedata' from 'C:\\\\Program Files\\\\WinPython38_64bit\\\\python-3.8.6.amd64\\\\DLLs\\\\unicodedata.pyd'>,\n",
       " 'IPython.core.latex_symbols': <module 'IPython.core.latex_symbols' from 'C:\\\\work\\\\virtenvs\\\\3p8_64bit_SensiPython_4p0\\\\lib\\\\site-packages\\\\IPython\\\\core\\\\latex_symbols.py'>,\n",
       " 'IPython.utils.generics': <module 'IPython.utils.generics' from 'C:\\\\work\\\\virtenvs\\\\3p8_64bit_SensiPython_4p0\\\\lib\\\\site-packages\\\\IPython\\\\utils\\\\generics.py'>,\n",
       " 'parso.utils': <module 'parso.utils' from 'C:\\\\work\\\\virtenvs\\\\3p8_64bit_SensiPython_4p0\\\\lib\\\\site-packages\\\\parso\\\\utils.py'>,\n",
       " 'parso.tree': <module 'parso.tree' from 'C:\\\\work\\\\virtenvs\\\\3p8_64bit_SensiPython_4p0\\\\lib\\\\site-packages\\\\parso\\\\tree.py'>,\n",
       " 'parso.python': <module 'parso.python' from 'C:\\\\work\\\\virtenvs\\\\3p8_64bit_SensiPython_4p0\\\\lib\\\\site-packages\\\\parso\\\\python\\\\__init__.py'>,\n",
       " 'parso.python.token': <module 'parso.python.token' from 'C:\\\\work\\\\virtenvs\\\\3p8_64bit_SensiPython_4p0\\\\lib\\\\site-packages\\\\parso\\\\python\\\\token.py'>,\n",
       " 'parso.python.tokenize': <module 'parso.python.tokenize' from 'C:\\\\work\\\\virtenvs\\\\3p8_64bit_SensiPython_4p0\\\\lib\\\\site-packages\\\\parso\\\\python\\\\tokenize.py'>,\n",
       " 'parso.pgen2.grammar_parser': <module 'parso.pgen2.grammar_parser' from 'C:\\\\work\\\\virtenvs\\\\3p8_64bit_SensiPython_4p0\\\\lib\\\\site-packages\\\\parso\\\\pgen2\\\\grammar_parser.py'>,\n",
       " 'parso.pgen2.generator': <module 'parso.pgen2.generator' from 'C:\\\\work\\\\virtenvs\\\\3p8_64bit_SensiPython_4p0\\\\lib\\\\site-packages\\\\parso\\\\pgen2\\\\generator.py'>,\n",
       " 'parso.pgen2': <module 'parso.pgen2' from 'C:\\\\work\\\\virtenvs\\\\3p8_64bit_SensiPython_4p0\\\\lib\\\\site-packages\\\\parso\\\\pgen2\\\\__init__.py'>,\n",
       " 'parso.parser': <module 'parso.parser' from 'C:\\\\work\\\\virtenvs\\\\3p8_64bit_SensiPython_4p0\\\\lib\\\\site-packages\\\\parso\\\\parser.py'>,\n",
       " 'parso._compatibility': <module 'parso._compatibility' from 'C:\\\\work\\\\virtenvs\\\\3p8_64bit_SensiPython_4p0\\\\lib\\\\site-packages\\\\parso\\\\_compatibility.py'>,\n",
       " 'difflib': <module 'difflib' from 'C:\\\\Program Files\\\\WinPython38_64bit\\\\python-3.8.6.amd64\\\\lib\\\\difflib.py'>,\n",
       " 'parso.python.prefix': <module 'parso.python.prefix' from 'C:\\\\work\\\\virtenvs\\\\3p8_64bit_SensiPython_4p0\\\\lib\\\\site-packages\\\\parso\\\\python\\\\prefix.py'>,\n",
       " 'parso.python.tree': <module 'parso.python.tree' from 'C:\\\\work\\\\virtenvs\\\\3p8_64bit_SensiPython_4p0\\\\lib\\\\site-packages\\\\parso\\\\python\\\\tree.py'>,\n",
       " 'parso.python.parser': <module 'parso.python.parser' from 'C:\\\\work\\\\virtenvs\\\\3p8_64bit_SensiPython_4p0\\\\lib\\\\site-packages\\\\parso\\\\python\\\\parser.py'>,\n",
       " 'parso.python.diff': <module 'parso.python.diff' from 'C:\\\\work\\\\virtenvs\\\\3p8_64bit_SensiPython_4p0\\\\lib\\\\site-packages\\\\parso\\\\python\\\\diff.py'>,\n",
       " 'gc': <module 'gc' (built-in)>,\n",
       " 'parso.cache': <module 'parso.cache' from 'C:\\\\work\\\\virtenvs\\\\3p8_64bit_SensiPython_4p0\\\\lib\\\\site-packages\\\\parso\\\\cache.py'>,\n",
       " 'parso.normalizer': <module 'parso.normalizer' from 'C:\\\\work\\\\virtenvs\\\\3p8_64bit_SensiPython_4p0\\\\lib\\\\site-packages\\\\parso\\\\normalizer.py'>,\n",
       " 'parso.python.errors': <module 'parso.python.errors' from 'C:\\\\work\\\\virtenvs\\\\3p8_64bit_SensiPython_4p0\\\\lib\\\\site-packages\\\\parso\\\\python\\\\errors.py'>,\n",
       " 'parso.python.pep8': <module 'parso.python.pep8' from 'C:\\\\work\\\\virtenvs\\\\3p8_64bit_SensiPython_4p0\\\\lib\\\\site-packages\\\\parso\\\\python\\\\pep8.py'>,\n",
       " 'parso.file_io': <module 'parso.file_io' from 'C:\\\\work\\\\virtenvs\\\\3p8_64bit_SensiPython_4p0\\\\lib\\\\site-packages\\\\parso\\\\file_io.py'>,\n",
       " 'parso.grammar': <module 'parso.grammar' from 'C:\\\\work\\\\virtenvs\\\\3p8_64bit_SensiPython_4p0\\\\lib\\\\site-packages\\\\parso\\\\grammar.py'>,\n",
       " 'parso': <module 'parso' from 'C:\\\\work\\\\virtenvs\\\\3p8_64bit_SensiPython_4p0\\\\lib\\\\site-packages\\\\parso\\\\__init__.py'>,\n",
       " 'jedi._compatibility': <module 'jedi._compatibility' from 'C:\\\\work\\\\virtenvs\\\\3p8_64bit_SensiPython_4p0\\\\lib\\\\site-packages\\\\jedi\\\\_compatibility.py'>,\n",
       " 'jedi.parser_utils': <module 'jedi.parser_utils' from 'C:\\\\work\\\\virtenvs\\\\3p8_64bit_SensiPython_4p0\\\\lib\\\\site-packages\\\\jedi\\\\parser_utils.py'>,\n",
       " 'jedi.debug': <module 'jedi.debug' from 'C:\\\\work\\\\virtenvs\\\\3p8_64bit_SensiPython_4p0\\\\lib\\\\site-packages\\\\jedi\\\\debug.py'>,\n",
       " 'jedi.settings': <module 'jedi.settings' from 'C:\\\\work\\\\virtenvs\\\\3p8_64bit_SensiPython_4p0\\\\lib\\\\site-packages\\\\jedi\\\\settings.py'>,\n",
       " 'jedi.cache': <module 'jedi.cache' from 'C:\\\\work\\\\virtenvs\\\\3p8_64bit_SensiPython_4p0\\\\lib\\\\site-packages\\\\jedi\\\\cache.py'>,\n",
       " 'jedi.file_io': <module 'jedi.file_io' from 'C:\\\\work\\\\virtenvs\\\\3p8_64bit_SensiPython_4p0\\\\lib\\\\site-packages\\\\jedi\\\\file_io.py'>,\n",
       " 'jedi.inference.cache': <module 'jedi.inference.cache' from 'C:\\\\work\\\\virtenvs\\\\3p8_64bit_SensiPython_4p0\\\\lib\\\\site-packages\\\\jedi\\\\inference\\\\cache.py'>,\n",
       " 'jedi.inference.helpers': <module 'jedi.inference.helpers' from 'C:\\\\work\\\\virtenvs\\\\3p8_64bit_SensiPython_4p0\\\\lib\\\\site-packages\\\\jedi\\\\inference\\\\helpers.py'>,\n",
       " 'jedi.inference.utils': <module 'jedi.inference.utils' from 'C:\\\\work\\\\virtenvs\\\\3p8_64bit_SensiPython_4p0\\\\lib\\\\site-packages\\\\jedi\\\\inference\\\\utils.py'>,\n",
       " 'jedi.inference.base_value': <module 'jedi.inference.base_value' from 'C:\\\\work\\\\virtenvs\\\\3p8_64bit_SensiPython_4p0\\\\lib\\\\site-packages\\\\jedi\\\\inference\\\\base_value.py'>,\n",
       " 'jedi.inference.sys_path': <module 'jedi.inference.sys_path' from 'C:\\\\work\\\\virtenvs\\\\3p8_64bit_SensiPython_4p0\\\\lib\\\\site-packages\\\\jedi\\\\inference\\\\sys_path.py'>,\n",
       " 'jedi.inference.recursion': <module 'jedi.inference.recursion' from 'C:\\\\work\\\\virtenvs\\\\3p8_64bit_SensiPython_4p0\\\\lib\\\\site-packages\\\\jedi\\\\inference\\\\recursion.py'>,\n",
       " 'jedi.inference.flow_analysis': <module 'jedi.inference.flow_analysis' from 'C:\\\\work\\\\virtenvs\\\\3p8_64bit_SensiPython_4p0\\\\lib\\\\site-packages\\\\jedi\\\\inference\\\\flow_analysis.py'>,\n",
       " 'jedi.common': <module 'jedi.common' from 'C:\\\\work\\\\virtenvs\\\\3p8_64bit_SensiPython_4p0\\\\lib\\\\site-packages\\\\jedi\\\\common.py'>,\n",
       " 'jedi.inference.lazy_value': <module 'jedi.inference.lazy_value' from 'C:\\\\work\\\\virtenvs\\\\3p8_64bit_SensiPython_4p0\\\\lib\\\\site-packages\\\\jedi\\\\inference\\\\lazy_value.py'>,\n",
       " 'jedi.inference.docstrings': <module 'jedi.inference.docstrings' from 'C:\\\\work\\\\virtenvs\\\\3p8_64bit_SensiPython_4p0\\\\lib\\\\site-packages\\\\jedi\\\\inference\\\\docstrings.py'>,\n",
       " 'jedi.plugins': <module 'jedi.plugins' from 'C:\\\\work\\\\virtenvs\\\\3p8_64bit_SensiPython_4p0\\\\lib\\\\site-packages\\\\jedi\\\\plugins\\\\__init__.py'>,\n",
       " 'jedi.inference.names': <module 'jedi.inference.names' from 'C:\\\\work\\\\virtenvs\\\\3p8_64bit_SensiPython_4p0\\\\lib\\\\site-packages\\\\jedi\\\\inference\\\\names.py'>,\n",
       " 'jedi.inference.filters': <module 'jedi.inference.filters' from 'C:\\\\work\\\\virtenvs\\\\3p8_64bit_SensiPython_4p0\\\\lib\\\\site-packages\\\\jedi\\\\inference\\\\filters.py'>,\n",
       " 'jedi.inference.compiled.getattr_static': <module 'jedi.inference.compiled.getattr_static' from 'C:\\\\work\\\\virtenvs\\\\3p8_64bit_SensiPython_4p0\\\\lib\\\\site-packages\\\\jedi\\\\inference\\\\compiled\\\\getattr_static.py'>,\n",
       " 'jedi.inference.compiled.access': <module 'jedi.inference.compiled.access' from 'C:\\\\work\\\\virtenvs\\\\3p8_64bit_SensiPython_4p0\\\\lib\\\\site-packages\\\\jedi\\\\inference\\\\compiled\\\\access.py'>,\n",
       " 'jedi.inference.signature': <module 'jedi.inference.signature' from 'C:\\\\work\\\\virtenvs\\\\3p8_64bit_SensiPython_4p0\\\\lib\\\\site-packages\\\\jedi\\\\inference\\\\signature.py'>,\n",
       " 'jedi.inference.context': <module 'jedi.inference.context' from 'C:\\\\work\\\\virtenvs\\\\3p8_64bit_SensiPython_4p0\\\\lib\\\\site-packages\\\\jedi\\\\inference\\\\context.py'>,\n",
       " 'jedi.inference.compiled.value': <module 'jedi.inference.compiled.value' from 'C:\\\\work\\\\virtenvs\\\\3p8_64bit_SensiPython_4p0\\\\lib\\\\site-packages\\\\jedi\\\\inference\\\\compiled\\\\value.py'>,\n",
       " 'jedi.inference.compiled': <module 'jedi.inference.compiled' from 'C:\\\\work\\\\virtenvs\\\\3p8_64bit_SensiPython_4p0\\\\lib\\\\site-packages\\\\jedi\\\\inference\\\\compiled\\\\__init__.py'>,\n",
       " 'jedi.inference.analysis': <module 'jedi.inference.analysis' from 'C:\\\\work\\\\virtenvs\\\\3p8_64bit_SensiPython_4p0\\\\lib\\\\site-packages\\\\jedi\\\\inference\\\\analysis.py'>,\n",
       " 'jedi.inference.gradual': <module 'jedi.inference.gradual' from 'C:\\\\work\\\\virtenvs\\\\3p8_64bit_SensiPython_4p0\\\\lib\\\\site-packages\\\\jedi\\\\inference\\\\gradual\\\\__init__.py'>,\n",
       " 'jedi.inference.value.module': <module 'jedi.inference.value.module' from 'C:\\\\work\\\\virtenvs\\\\3p8_64bit_SensiPython_4p0\\\\lib\\\\site-packages\\\\jedi\\\\inference\\\\value\\\\module.py'>,\n",
       " 'jedi.inference.value.dynamic_arrays': <module 'jedi.inference.value.dynamic_arrays' from 'C:\\\\work\\\\virtenvs\\\\3p8_64bit_SensiPython_4p0\\\\lib\\\\site-packages\\\\jedi\\\\inference\\\\value\\\\dynamic_arrays.py'>,\n",
       " 'jedi.inference.value.iterable': <module 'jedi.inference.value.iterable' from 'C:\\\\work\\\\virtenvs\\\\3p8_64bit_SensiPython_4p0\\\\lib\\\\site-packages\\\\jedi\\\\inference\\\\value\\\\iterable.py'>,\n",
       " 'jedi.inference.arguments': <module 'jedi.inference.arguments' from 'C:\\\\work\\\\virtenvs\\\\3p8_64bit_SensiPython_4p0\\\\lib\\\\site-packages\\\\jedi\\\\inference\\\\arguments.py'>,\n",
       " 'jedi.inference.parser_cache': <module 'jedi.inference.parser_cache' from 'C:\\\\work\\\\virtenvs\\\\3p8_64bit_SensiPython_4p0\\\\lib\\\\site-packages\\\\jedi\\\\inference\\\\parser_cache.py'>,\n",
       " 'jedi.inference.gradual.generics': <module 'jedi.inference.gradual.generics' from 'C:\\\\work\\\\virtenvs\\\\3p8_64bit_SensiPython_4p0\\\\lib\\\\site-packages\\\\jedi\\\\inference\\\\gradual\\\\generics.py'>,\n",
       " 'jedi.inference.value.function': <module 'jedi.inference.value.function' from 'C:\\\\work\\\\virtenvs\\\\3p8_64bit_SensiPython_4p0\\\\lib\\\\site-packages\\\\jedi\\\\inference\\\\value\\\\function.py'>,\n",
       " 'jedi.inference.value.klass': <module 'jedi.inference.value.klass' from 'C:\\\\work\\\\virtenvs\\\\3p8_64bit_SensiPython_4p0\\\\lib\\\\site-packages\\\\jedi\\\\inference\\\\value\\\\klass.py'>,\n",
       " 'jedi.inference.value.instance': <module 'jedi.inference.value.instance' from 'C:\\\\work\\\\virtenvs\\\\3p8_64bit_SensiPython_4p0\\\\lib\\\\site-packages\\\\jedi\\\\inference\\\\value\\\\instance.py'>,\n",
       " 'jedi.inference.value': <module 'jedi.inference.value' from 'C:\\\\work\\\\virtenvs\\\\3p8_64bit_SensiPython_4p0\\\\lib\\\\site-packages\\\\jedi\\\\inference\\\\value\\\\__init__.py'>,\n",
       " 'jedi.inference.gradual.base': <module 'jedi.inference.gradual.base' from 'C:\\\\work\\\\virtenvs\\\\3p8_64bit_SensiPython_4p0\\\\lib\\\\site-packages\\\\jedi\\\\inference\\\\gradual\\\\base.py'>,\n",
       " 'jedi.inference.gradual.type_var': <module 'jedi.inference.gradual.type_var' from 'C:\\\\work\\\\virtenvs\\\\3p8_64bit_SensiPython_4p0\\\\lib\\\\site-packages\\\\jedi\\\\inference\\\\gradual\\\\type_var.py'>,\n",
       " 'jedi.inference.gradual.typing': <module 'jedi.inference.gradual.typing' from 'C:\\\\work\\\\virtenvs\\\\3p8_64bit_SensiPython_4p0\\\\lib\\\\site-packages\\\\jedi\\\\inference\\\\gradual\\\\typing.py'>,\n",
       " 'jedi.inference.gradual.stub_value': <module 'jedi.inference.gradual.stub_value' from 'C:\\\\work\\\\virtenvs\\\\3p8_64bit_SensiPython_4p0\\\\lib\\\\site-packages\\\\jedi\\\\inference\\\\gradual\\\\stub_value.py'>,\n",
       " 'jedi.inference.gradual.typeshed': <module 'jedi.inference.gradual.typeshed' from 'C:\\\\work\\\\virtenvs\\\\3p8_64bit_SensiPython_4p0\\\\lib\\\\site-packages\\\\jedi\\\\inference\\\\gradual\\\\typeshed.py'>,\n",
       " 'jedi.inference.compiled.subprocess.functions': <module 'jedi.inference.compiled.subprocess.functions' from 'C:\\\\work\\\\virtenvs\\\\3p8_64bit_SensiPython_4p0\\\\lib\\\\site-packages\\\\jedi\\\\inference\\\\compiled\\\\subprocess\\\\functions.py'>,\n",
       " 'jedi.api.exceptions': <module 'jedi.api.exceptions' from 'C:\\\\work\\\\virtenvs\\\\3p8_64bit_SensiPython_4p0\\\\lib\\\\site-packages\\\\jedi\\\\api\\\\exceptions.py'>,\n",
       " 'jedi.inference.compiled.subprocess': <module 'jedi.inference.compiled.subprocess' from 'C:\\\\work\\\\virtenvs\\\\3p8_64bit_SensiPython_4p0\\\\lib\\\\site-packages\\\\jedi\\\\inference\\\\compiled\\\\subprocess\\\\__init__.py'>,\n",
       " 'jedi.inference.imports': <module 'jedi.inference.imports' from 'C:\\\\work\\\\virtenvs\\\\3p8_64bit_SensiPython_4p0\\\\lib\\\\site-packages\\\\jedi\\\\inference\\\\imports.py'>,\n",
       " 'jedi.inference.param': <module 'jedi.inference.param' from 'C:\\\\work\\\\virtenvs\\\\3p8_64bit_SensiPython_4p0\\\\lib\\\\site-packages\\\\jedi\\\\inference\\\\param.py'>,\n",
       " 'jedi.inference.gradual.annotation': <module 'jedi.inference.gradual.annotation' from 'C:\\\\work\\\\virtenvs\\\\3p8_64bit_SensiPython_4p0\\\\lib\\\\site-packages\\\\jedi\\\\inference\\\\gradual\\\\annotation.py'>,\n",
       " 'jedi.inference.value.decorator': <module 'jedi.inference.value.decorator' from 'C:\\\\work\\\\virtenvs\\\\3p8_64bit_SensiPython_4p0\\\\lib\\\\site-packages\\\\jedi\\\\inference\\\\value\\\\decorator.py'>,\n",
       " 'jedi.inference.syntax_tree': <module 'jedi.inference.syntax_tree' from 'C:\\\\work\\\\virtenvs\\\\3p8_64bit_SensiPython_4p0\\\\lib\\\\site-packages\\\\jedi\\\\inference\\\\syntax_tree.py'>,\n",
       " 'jedi.inference': <module 'jedi.inference' from 'C:\\\\work\\\\virtenvs\\\\3p8_64bit_SensiPython_4p0\\\\lib\\\\site-packages\\\\jedi\\\\inference\\\\__init__.py'>,\n",
       " 'jedi.inference.gradual.conversion': <module 'jedi.inference.gradual.conversion' from 'C:\\\\work\\\\virtenvs\\\\3p8_64bit_SensiPython_4p0\\\\lib\\\\site-packages\\\\jedi\\\\inference\\\\gradual\\\\conversion.py'>,\n",
       " 'jedi.inference.compiled.mixed': <module 'jedi.inference.compiled.mixed' from 'C:\\\\work\\\\virtenvs\\\\3p8_64bit_SensiPython_4p0\\\\lib\\\\site-packages\\\\jedi\\\\inference\\\\compiled\\\\mixed.py'>,\n",
       " 'pydoc_data': <module 'pydoc_data' from 'C:\\\\Program Files\\\\WinPython38_64bit\\\\python-3.8.6.amd64\\\\lib\\\\pydoc_data\\\\__init__.py'>,\n",
       " 'pydoc_data.topics': <module 'pydoc_data.topics' from 'C:\\\\Program Files\\\\WinPython38_64bit\\\\python-3.8.6.amd64\\\\lib\\\\pydoc_data\\\\topics.py'>,\n",
       " 'jedi.api.keywords': <module 'jedi.api.keywords' from 'C:\\\\work\\\\virtenvs\\\\3p8_64bit_SensiPython_4p0\\\\lib\\\\site-packages\\\\jedi\\\\api\\\\keywords.py'>,\n",
       " 'jedi.api.completion_cache': <module 'jedi.api.completion_cache' from 'C:\\\\work\\\\virtenvs\\\\3p8_64bit_SensiPython_4p0\\\\lib\\\\site-packages\\\\jedi\\\\api\\\\completion_cache.py'>,\n",
       " 'jedi.api.helpers': <module 'jedi.api.helpers' from 'C:\\\\work\\\\virtenvs\\\\3p8_64bit_SensiPython_4p0\\\\lib\\\\site-packages\\\\jedi\\\\api\\\\helpers.py'>,\n",
       " 'jedi.api.classes': <module 'jedi.api.classes' from 'C:\\\\work\\\\virtenvs\\\\3p8_64bit_SensiPython_4p0\\\\lib\\\\site-packages\\\\jedi\\\\api\\\\classes.py'>,\n",
       " 'jedi.api.interpreter': <module 'jedi.api.interpreter' from 'C:\\\\work\\\\virtenvs\\\\3p8_64bit_SensiPython_4p0\\\\lib\\\\site-packages\\\\jedi\\\\api\\\\interpreter.py'>,\n",
       " 'jedi.api.strings': <module 'jedi.api.strings' from 'C:\\\\work\\\\virtenvs\\\\3p8_64bit_SensiPython_4p0\\\\lib\\\\site-packages\\\\jedi\\\\api\\\\strings.py'>,\n",
       " 'jedi.api.file_name': <module 'jedi.api.file_name' from 'C:\\\\work\\\\virtenvs\\\\3p8_64bit_SensiPython_4p0\\\\lib\\\\site-packages\\\\jedi\\\\api\\\\file_name.py'>,\n",
       " 'jedi.api.completion': <module 'jedi.api.completion' from 'C:\\\\work\\\\virtenvs\\\\3p8_64bit_SensiPython_4p0\\\\lib\\\\site-packages\\\\jedi\\\\api\\\\completion.py'>,\n",
       " 'filecmp': <module 'filecmp' from 'C:\\\\Program Files\\\\WinPython38_64bit\\\\python-3.8.6.amd64\\\\lib\\\\filecmp.py'>,\n",
       " 'jedi.api.environment': <module 'jedi.api.environment' from 'C:\\\\work\\\\virtenvs\\\\3p8_64bit_SensiPython_4p0\\\\lib\\\\site-packages\\\\jedi\\\\api\\\\environment.py'>,\n",
       " 'jedi.inference.references': <module 'jedi.inference.references' from 'C:\\\\work\\\\virtenvs\\\\3p8_64bit_SensiPython_4p0\\\\lib\\\\site-packages\\\\jedi\\\\inference\\\\references.py'>,\n",
       " 'jedi.api.project': <module 'jedi.api.project' from 'C:\\\\work\\\\virtenvs\\\\3p8_64bit_SensiPython_4p0\\\\lib\\\\site-packages\\\\jedi\\\\api\\\\project.py'>,\n",
       " 'jedi.api.errors': <module 'jedi.api.errors' from 'C:\\\\work\\\\virtenvs\\\\3p8_64bit_SensiPython_4p0\\\\lib\\\\site-packages\\\\jedi\\\\api\\\\errors.py'>,\n",
       " 'jedi.api.refactoring': <module 'jedi.api.refactoring' from 'C:\\\\work\\\\virtenvs\\\\3p8_64bit_SensiPython_4p0\\\\lib\\\\site-packages\\\\jedi\\\\api\\\\refactoring\\\\__init__.py'>,\n",
       " 'jedi.api.refactoring.extract': <module 'jedi.api.refactoring.extract' from 'C:\\\\work\\\\virtenvs\\\\3p8_64bit_SensiPython_4p0\\\\lib\\\\site-packages\\\\jedi\\\\api\\\\refactoring\\\\extract.py'>,\n",
       " 'jedi.inference.gradual.utils': <module 'jedi.inference.gradual.utils' from 'C:\\\\work\\\\virtenvs\\\\3p8_64bit_SensiPython_4p0\\\\lib\\\\site-packages\\\\jedi\\\\inference\\\\gradual\\\\utils.py'>,\n",
       " 'jedi.api': <module 'jedi.api' from 'C:\\\\work\\\\virtenvs\\\\3p8_64bit_SensiPython_4p0\\\\lib\\\\site-packages\\\\jedi\\\\api\\\\__init__.py'>,\n",
       " 'jedi.plugins.stdlib': <module 'jedi.plugins.stdlib' from 'C:\\\\work\\\\virtenvs\\\\3p8_64bit_SensiPython_4p0\\\\lib\\\\site-packages\\\\jedi\\\\plugins\\\\stdlib.py'>,\n",
       " 'jedi.plugins.flask': <module 'jedi.plugins.flask' from 'C:\\\\work\\\\virtenvs\\\\3p8_64bit_SensiPython_4p0\\\\lib\\\\site-packages\\\\jedi\\\\plugins\\\\flask.py'>,\n",
       " 'jedi.plugins.pytest': <module 'jedi.plugins.pytest' from 'C:\\\\work\\\\virtenvs\\\\3p8_64bit_SensiPython_4p0\\\\lib\\\\site-packages\\\\jedi\\\\plugins\\\\pytest.py'>,\n",
       " 'jedi.plugins.django': <module 'jedi.plugins.django' from 'C:\\\\work\\\\virtenvs\\\\3p8_64bit_SensiPython_4p0\\\\lib\\\\site-packages\\\\jedi\\\\plugins\\\\django.py'>,\n",
       " 'jedi.plugins.registry': <module 'jedi.plugins.registry' from 'C:\\\\work\\\\virtenvs\\\\3p8_64bit_SensiPython_4p0\\\\lib\\\\site-packages\\\\jedi\\\\plugins\\\\registry.py'>,\n",
       " 'jedi': <module 'jedi' from 'C:\\\\work\\\\virtenvs\\\\3p8_64bit_SensiPython_4p0\\\\lib\\\\site-packages\\\\jedi\\\\__init__.py'>,\n",
       " 'IPython.core.completer': <module 'IPython.core.completer' from 'C:\\\\work\\\\virtenvs\\\\3p8_64bit_SensiPython_4p0\\\\lib\\\\site-packages\\\\IPython\\\\core\\\\completer.py'>,\n",
       " 'IPython.terminal.ptutils': <module 'IPython.terminal.ptutils' from 'C:\\\\work\\\\virtenvs\\\\3p8_64bit_SensiPython_4p0\\\\lib\\\\site-packages\\\\IPython\\\\terminal\\\\ptutils.py'>,\n",
       " 'IPython.lib.clipboard': <module 'IPython.lib.clipboard' from 'C:\\\\work\\\\virtenvs\\\\3p8_64bit_SensiPython_4p0\\\\lib\\\\site-packages\\\\IPython\\\\lib\\\\clipboard.py'>,\n",
       " 'IPython.terminal.shortcuts': <module 'IPython.terminal.shortcuts' from 'C:\\\\work\\\\virtenvs\\\\3p8_64bit_SensiPython_4p0\\\\lib\\\\site-packages\\\\IPython\\\\terminal\\\\shortcuts.py'>,\n",
       " 'IPython.terminal.debugger': <module 'IPython.terminal.debugger' from 'C:\\\\work\\\\virtenvs\\\\3p8_64bit_SensiPython_4p0\\\\lib\\\\site-packages\\\\IPython\\\\terminal\\\\debugger.py'>,\n",
       " 'IPython.terminal.magics': <module 'IPython.terminal.magics' from 'C:\\\\work\\\\virtenvs\\\\3p8_64bit_SensiPython_4p0\\\\lib\\\\site-packages\\\\IPython\\\\terminal\\\\magics.py'>,\n",
       " 'IPython.terminal.pt_inputhooks': <module 'IPython.terminal.pt_inputhooks' from 'C:\\\\work\\\\virtenvs\\\\3p8_64bit_SensiPython_4p0\\\\lib\\\\site-packages\\\\IPython\\\\terminal\\\\pt_inputhooks\\\\__init__.py'>,\n",
       " 'IPython.terminal.prompts': <module 'IPython.terminal.prompts' from 'C:\\\\work\\\\virtenvs\\\\3p8_64bit_SensiPython_4p0\\\\lib\\\\site-packages\\\\IPython\\\\terminal\\\\prompts.py'>,\n",
       " 'IPython.terminal.interactiveshell': <module 'IPython.terminal.interactiveshell' from 'C:\\\\work\\\\virtenvs\\\\3p8_64bit_SensiPython_4p0\\\\lib\\\\site-packages\\\\IPython\\\\terminal\\\\interactiveshell.py'>,\n",
       " 'IPython.core.magics.auto': <module 'IPython.core.magics.auto' from 'C:\\\\work\\\\virtenvs\\\\3p8_64bit_SensiPython_4p0\\\\lib\\\\site-packages\\\\IPython\\\\core\\\\magics\\\\auto.py'>,\n",
       " 'IPython.core.magics.basic': <module 'IPython.core.magics.basic' from 'C:\\\\work\\\\virtenvs\\\\3p8_64bit_SensiPython_4p0\\\\lib\\\\site-packages\\\\IPython\\\\core\\\\magics\\\\basic.py'>,\n",
       " 'email': <module 'email' from 'C:\\\\Program Files\\\\WinPython38_64bit\\\\python-3.8.6.amd64\\\\lib\\\\email\\\\__init__.py'>,\n",
       " 'http': <module 'http' from 'C:\\\\Program Files\\\\WinPython38_64bit\\\\python-3.8.6.amd64\\\\lib\\\\http\\\\__init__.py'>,\n",
       " 'email.errors': <module 'email.errors' from 'C:\\\\Program Files\\\\WinPython38_64bit\\\\python-3.8.6.amd64\\\\lib\\\\email\\\\errors.py'>,\n",
       " 'email.quoprimime': <module 'email.quoprimime' from 'C:\\\\Program Files\\\\WinPython38_64bit\\\\python-3.8.6.amd64\\\\lib\\\\email\\\\quoprimime.py'>,\n",
       " 'email.base64mime': <module 'email.base64mime' from 'C:\\\\Program Files\\\\WinPython38_64bit\\\\python-3.8.6.amd64\\\\lib\\\\email\\\\base64mime.py'>,\n",
       " 'quopri': <module 'quopri' from 'C:\\\\Program Files\\\\WinPython38_64bit\\\\python-3.8.6.amd64\\\\lib\\\\quopri.py'>,\n",
       " 'email.encoders': <module 'email.encoders' from 'C:\\\\Program Files\\\\WinPython38_64bit\\\\python-3.8.6.amd64\\\\lib\\\\email\\\\encoders.py'>,\n",
       " 'email.charset': <module 'email.charset' from 'C:\\\\Program Files\\\\WinPython38_64bit\\\\python-3.8.6.amd64\\\\lib\\\\email\\\\charset.py'>,\n",
       " 'email.header': <module 'email.header' from 'C:\\\\Program Files\\\\WinPython38_64bit\\\\python-3.8.6.amd64\\\\lib\\\\email\\\\header.py'>,\n",
       " 'calendar': <module 'calendar' from 'C:\\\\Program Files\\\\WinPython38_64bit\\\\python-3.8.6.amd64\\\\lib\\\\calendar.py'>,\n",
       " 'email._parseaddr': <module 'email._parseaddr' from 'C:\\\\Program Files\\\\WinPython38_64bit\\\\python-3.8.6.amd64\\\\lib\\\\email\\\\_parseaddr.py'>,\n",
       " 'email.utils': <module 'email.utils' from 'C:\\\\Program Files\\\\WinPython38_64bit\\\\python-3.8.6.amd64\\\\lib\\\\email\\\\utils.py'>,\n",
       " 'email._policybase': <module 'email._policybase' from 'C:\\\\Program Files\\\\WinPython38_64bit\\\\python-3.8.6.amd64\\\\lib\\\\email\\\\_policybase.py'>,\n",
       " 'email.feedparser': <module 'email.feedparser' from 'C:\\\\Program Files\\\\WinPython38_64bit\\\\python-3.8.6.amd64\\\\lib\\\\email\\\\feedparser.py'>,\n",
       " 'email.parser': <module 'email.parser' from 'C:\\\\Program Files\\\\WinPython38_64bit\\\\python-3.8.6.amd64\\\\lib\\\\email\\\\parser.py'>,\n",
       " 'uu': <module 'uu' from 'C:\\\\Program Files\\\\WinPython38_64bit\\\\python-3.8.6.amd64\\\\lib\\\\uu.py'>,\n",
       " 'email._encoded_words': <module 'email._encoded_words' from 'C:\\\\Program Files\\\\WinPython38_64bit\\\\python-3.8.6.amd64\\\\lib\\\\email\\\\_encoded_words.py'>,\n",
       " 'email.iterators': <module 'email.iterators' from 'C:\\\\Program Files\\\\WinPython38_64bit\\\\python-3.8.6.amd64\\\\lib\\\\email\\\\iterators.py'>,\n",
       " 'email.message': <module 'email.message' from 'C:\\\\Program Files\\\\WinPython38_64bit\\\\python-3.8.6.amd64\\\\lib\\\\email\\\\message.py'>,\n",
       " 'http.client': <module 'http.client' from 'C:\\\\Program Files\\\\WinPython38_64bit\\\\python-3.8.6.amd64\\\\lib\\\\http\\\\client.py'>,\n",
       " 'urllib.response': <module 'urllib.response' from 'C:\\\\Program Files\\\\WinPython38_64bit\\\\python-3.8.6.amd64\\\\lib\\\\urllib\\\\response.py'>,\n",
       " 'urllib.error': <module 'urllib.error' from 'C:\\\\Program Files\\\\WinPython38_64bit\\\\python-3.8.6.amd64\\\\lib\\\\urllib\\\\error.py'>,\n",
       " 'nturl2path': <module 'nturl2path' from 'C:\\\\Program Files\\\\WinPython38_64bit\\\\python-3.8.6.amd64\\\\lib\\\\nturl2path.py'>,\n",
       " 'urllib.request': <module 'urllib.request' from 'C:\\\\Program Files\\\\WinPython38_64bit\\\\python-3.8.6.amd64\\\\lib\\\\urllib\\\\request.py'>,\n",
       " 'IPython.core.magics.code': <module 'IPython.core.magics.code' from 'C:\\\\work\\\\virtenvs\\\\3p8_64bit_SensiPython_4p0\\\\lib\\\\site-packages\\\\IPython\\\\core\\\\magics\\\\code.py'>,\n",
       " 'IPython.core.magics.config': <module 'IPython.core.magics.config' from 'C:\\\\work\\\\virtenvs\\\\3p8_64bit_SensiPython_4p0\\\\lib\\\\site-packages\\\\IPython\\\\core\\\\magics\\\\config.py'>,\n",
       " 'IPython.core.magics.display': <module 'IPython.core.magics.display' from 'C:\\\\work\\\\virtenvs\\\\3p8_64bit_SensiPython_4p0\\\\lib\\\\site-packages\\\\IPython\\\\core\\\\magics\\\\display.py'>,\n",
       " 'timeit': <module 'timeit' from 'C:\\\\Program Files\\\\WinPython38_64bit\\\\python-3.8.6.amd64\\\\lib\\\\timeit.py'>,\n",
       " '_lsprof': <module '_lsprof' (built-in)>,\n",
       " 'profile': <module 'profile' from 'C:\\\\Program Files\\\\WinPython38_64bit\\\\python-3.8.6.amd64\\\\lib\\\\profile.py'>,\n",
       " 'cProfile': <module 'cProfile' from 'C:\\\\Program Files\\\\WinPython38_64bit\\\\python-3.8.6.amd64\\\\lib\\\\cProfile.py'>,\n",
       " 'pstats': <module 'pstats' from 'C:\\\\Program Files\\\\WinPython38_64bit\\\\python-3.8.6.amd64\\\\lib\\\\pstats.py'>,\n",
       " 'IPython.utils.module_paths': <module 'IPython.utils.module_paths' from 'C:\\\\work\\\\virtenvs\\\\3p8_64bit_SensiPython_4p0\\\\lib\\\\site-packages\\\\IPython\\\\utils\\\\module_paths.py'>,\n",
       " 'IPython.utils.timing': <module 'IPython.utils.timing' from 'C:\\\\work\\\\virtenvs\\\\3p8_64bit_SensiPython_4p0\\\\lib\\\\site-packages\\\\IPython\\\\utils\\\\timing.py'>,\n",
       " 'IPython.core.magics.execution': <module 'IPython.core.magics.execution' from 'C:\\\\work\\\\virtenvs\\\\3p8_64bit_SensiPython_4p0\\\\lib\\\\site-packages\\\\IPython\\\\core\\\\magics\\\\execution.py'>,\n",
       " 'IPython.core.magics.extension': <module 'IPython.core.magics.extension' from 'C:\\\\work\\\\virtenvs\\\\3p8_64bit_SensiPython_4p0\\\\lib\\\\site-packages\\\\IPython\\\\core\\\\magics\\\\extension.py'>,\n",
       " 'IPython.core.magics.history': <module 'IPython.core.magics.history' from 'C:\\\\work\\\\virtenvs\\\\3p8_64bit_SensiPython_4p0\\\\lib\\\\site-packages\\\\IPython\\\\core\\\\magics\\\\history.py'>,\n",
       " 'IPython.core.magics.logging': <module 'IPython.core.magics.logging' from 'C:\\\\work\\\\virtenvs\\\\3p8_64bit_SensiPython_4p0\\\\lib\\\\site-packages\\\\IPython\\\\core\\\\magics\\\\logging.py'>,\n",
       " 'IPython.core.magics.namespace': <module 'IPython.core.magics.namespace' from 'C:\\\\work\\\\virtenvs\\\\3p8_64bit_SensiPython_4p0\\\\lib\\\\site-packages\\\\IPython\\\\core\\\\magics\\\\namespace.py'>,\n",
       " 'IPython.core.magics.osm': <module 'IPython.core.magics.osm' from 'C:\\\\work\\\\virtenvs\\\\3p8_64bit_SensiPython_4p0\\\\lib\\\\site-packages\\\\IPython\\\\core\\\\magics\\\\osm.py'>,\n",
       " 'IPython.core.magics.packaging': <module 'IPython.core.magics.packaging' from 'C:\\\\work\\\\virtenvs\\\\3p8_64bit_SensiPython_4p0\\\\lib\\\\site-packages\\\\IPython\\\\core\\\\magics\\\\packaging.py'>,\n",
       " 'IPython.core.pylabtools': <module 'IPython.core.pylabtools' from 'C:\\\\work\\\\virtenvs\\\\3p8_64bit_SensiPython_4p0\\\\lib\\\\site-packages\\\\IPython\\\\core\\\\pylabtools.py'>,\n",
       " 'IPython.core.magics.pylab': <module 'IPython.core.magics.pylab' from 'C:\\\\work\\\\virtenvs\\\\3p8_64bit_SensiPython_4p0\\\\lib\\\\site-packages\\\\IPython\\\\core\\\\magics\\\\pylab.py'>,\n",
       " 'IPython.lib.backgroundjobs': <module 'IPython.lib.backgroundjobs' from 'C:\\\\work\\\\virtenvs\\\\3p8_64bit_SensiPython_4p0\\\\lib\\\\site-packages\\\\IPython\\\\lib\\\\backgroundjobs.py'>,\n",
       " 'IPython.core.magics.script': <module 'IPython.core.magics.script' from 'C:\\\\work\\\\virtenvs\\\\3p8_64bit_SensiPython_4p0\\\\lib\\\\site-packages\\\\IPython\\\\core\\\\magics\\\\script.py'>,\n",
       " 'IPython.core.magics': <module 'IPython.core.magics' from 'C:\\\\work\\\\virtenvs\\\\3p8_64bit_SensiPython_4p0\\\\lib\\\\site-packages\\\\IPython\\\\core\\\\magics\\\\__init__.py'>,\n",
       " 'IPython.core.shellapp': <module 'IPython.core.shellapp' from 'C:\\\\work\\\\virtenvs\\\\3p8_64bit_SensiPython_4p0\\\\lib\\\\site-packages\\\\IPython\\\\core\\\\shellapp.py'>,\n",
       " 'IPython.extensions': <module 'IPython.extensions' from 'C:\\\\work\\\\virtenvs\\\\3p8_64bit_SensiPython_4p0\\\\lib\\\\site-packages\\\\IPython\\\\extensions\\\\__init__.py'>,\n",
       " 'IPython.extensions.storemagic': <module 'IPython.extensions.storemagic' from 'C:\\\\work\\\\virtenvs\\\\3p8_64bit_SensiPython_4p0\\\\lib\\\\site-packages\\\\IPython\\\\extensions\\\\storemagic.py'>,\n",
       " 'IPython.terminal.ipapp': <module 'IPython.terminal.ipapp' from 'C:\\\\work\\\\virtenvs\\\\3p8_64bit_SensiPython_4p0\\\\lib\\\\site-packages\\\\IPython\\\\terminal\\\\ipapp.py'>,\n",
       " 'IPython.terminal.embed': <module 'IPython.terminal.embed' from 'C:\\\\work\\\\virtenvs\\\\3p8_64bit_SensiPython_4p0\\\\lib\\\\site-packages\\\\IPython\\\\terminal\\\\embed.py'>,\n",
       " 'IPython.utils.frame': <module 'IPython.utils.frame' from 'C:\\\\work\\\\virtenvs\\\\3p8_64bit_SensiPython_4p0\\\\lib\\\\site-packages\\\\IPython\\\\utils\\\\frame.py'>,\n",
       " 'IPython': <module 'IPython' from 'C:\\\\work\\\\virtenvs\\\\3p8_64bit_SensiPython_4p0\\\\lib\\\\site-packages\\\\IPython\\\\__init__.py'>,\n",
       " 'jupyter_client._version': <module 'jupyter_client._version' from 'C:\\\\work\\\\virtenvs\\\\3p8_64bit_SensiPython_4p0\\\\lib\\\\site-packages\\\\jupyter_client\\\\_version.py'>,\n",
       " 'zmq.backend.select': <module 'zmq.backend.select' from 'C:\\\\work\\\\virtenvs\\\\3p8_64bit_SensiPython_4p0\\\\lib\\\\site-packages\\\\zmq\\\\backend\\\\select.py'>,\n",
       " 'cython_runtime': <module 'cython_runtime'>,\n",
       " 'zmq.backend.cython.constants': <module 'zmq.backend.cython.constants' from 'C:\\\\work\\\\virtenvs\\\\3p8_64bit_SensiPython_4p0\\\\lib\\\\site-packages\\\\zmq\\\\backend\\\\cython\\\\constants.cp38-win_amd64.pyd'>,\n",
       " '_cython_0_29_21': <module '_cython_0_29_21'>,\n",
       " 'zmq.backend.cython.error': <module 'zmq.backend.cython.error' from 'C:\\\\work\\\\virtenvs\\\\3p8_64bit_SensiPython_4p0\\\\lib\\\\site-packages\\\\zmq\\\\backend\\\\cython\\\\error.cp38-win_amd64.pyd'>,\n",
       " 'zmq.error': <module 'zmq.error' from 'C:\\\\work\\\\virtenvs\\\\3p8_64bit_SensiPython_4p0\\\\lib\\\\site-packages\\\\zmq\\\\error.py'>,\n",
       " 'zmq.backend.cython.message': <module 'zmq.backend.cython.message' from 'C:\\\\work\\\\virtenvs\\\\3p8_64bit_SensiPython_4p0\\\\lib\\\\site-packages\\\\zmq\\\\backend\\\\cython\\\\message.cp38-win_amd64.pyd'>,\n",
       " 'zmq.backend.cython.context': <module 'zmq.backend.cython.context' from 'C:\\\\work\\\\virtenvs\\\\3p8_64bit_SensiPython_4p0\\\\lib\\\\site-packages\\\\zmq\\\\backend\\\\cython\\\\context.cp38-win_amd64.pyd'>,\n",
       " 'zmq.backend.cython.socket': <module 'zmq.backend.cython.socket' from 'C:\\\\work\\\\virtenvs\\\\3p8_64bit_SensiPython_4p0\\\\lib\\\\site-packages\\\\zmq\\\\backend\\\\cython\\\\socket.cp38-win_amd64.pyd'>,\n",
       " 'zmq.backend.cython.utils': <module 'zmq.backend.cython.utils' from 'C:\\\\work\\\\virtenvs\\\\3p8_64bit_SensiPython_4p0\\\\lib\\\\site-packages\\\\zmq\\\\backend\\\\cython\\\\utils.cp38-win_amd64.pyd'>,\n",
       " 'zmq.backend.cython._poll': <module 'zmq.backend.cython._poll' from 'C:\\\\work\\\\virtenvs\\\\3p8_64bit_SensiPython_4p0\\\\lib\\\\site-packages\\\\zmq\\\\backend\\\\cython\\\\_poll.cp38-win_amd64.pyd'>,\n",
       " 'zmq.backend.cython._version': <module 'zmq.backend.cython._version' from 'C:\\\\work\\\\virtenvs\\\\3p8_64bit_SensiPython_4p0\\\\lib\\\\site-packages\\\\zmq\\\\backend\\\\cython\\\\_version.cp38-win_amd64.pyd'>,\n",
       " 'zmq.backend.cython._device': <module 'zmq.backend.cython._device' from 'C:\\\\work\\\\virtenvs\\\\3p8_64bit_SensiPython_4p0\\\\lib\\\\site-packages\\\\zmq\\\\backend\\\\cython\\\\_device.cp38-win_amd64.pyd'>,\n",
       " 'zmq.backend.cython._proxy_steerable': <module 'zmq.backend.cython._proxy_steerable' from 'C:\\\\work\\\\virtenvs\\\\3p8_64bit_SensiPython_4p0\\\\lib\\\\site-packages\\\\zmq\\\\backend\\\\cython\\\\_proxy_steerable.cp38-win_amd64.pyd'>,\n",
       " 'zmq.backend.cython': <module 'zmq.backend.cython' from 'C:\\\\work\\\\virtenvs\\\\3p8_64bit_SensiPython_4p0\\\\lib\\\\site-packages\\\\zmq\\\\backend\\\\cython\\\\__init__.py'>,\n",
       " 'zmq.backend': <module 'zmq.backend' from 'C:\\\\work\\\\virtenvs\\\\3p8_64bit_SensiPython_4p0\\\\lib\\\\site-packages\\\\zmq\\\\backend\\\\__init__.py'>,\n",
       " 'zmq.utils': <module 'zmq.utils' from 'C:\\\\work\\\\virtenvs\\\\3p8_64bit_SensiPython_4p0\\\\lib\\\\site-packages\\\\zmq\\\\utils\\\\__init__.py'>,\n",
       " 'zmq.utils.constant_names': <module 'zmq.utils.constant_names' from 'C:\\\\work\\\\virtenvs\\\\3p8_64bit_SensiPython_4p0\\\\lib\\\\site-packages\\\\zmq\\\\utils\\\\constant_names.py'>,\n",
       " 'zmq.sugar.constants': <module 'zmq.sugar.constants' from 'C:\\\\work\\\\virtenvs\\\\3p8_64bit_SensiPython_4p0\\\\lib\\\\site-packages\\\\zmq\\\\sugar\\\\constants.py'>,\n",
       " 'zmq.sugar.attrsettr': <module 'zmq.sugar.attrsettr' from 'C:\\\\work\\\\virtenvs\\\\3p8_64bit_SensiPython_4p0\\\\lib\\\\site-packages\\\\zmq\\\\sugar\\\\attrsettr.py'>,\n",
       " 'zmq.sugar.poll': <module 'zmq.sugar.poll' from 'C:\\\\work\\\\virtenvs\\\\3p8_64bit_SensiPython_4p0\\\\lib\\\\site-packages\\\\zmq\\\\sugar\\\\poll.py'>,\n",
       " 'zmq.utils.strtypes': <module 'zmq.utils.strtypes' from 'C:\\\\work\\\\virtenvs\\\\3p8_64bit_SensiPython_4p0\\\\lib\\\\site-packages\\\\zmq\\\\utils\\\\strtypes.py'>,\n",
       " 'numbers': <module 'numbers' from 'C:\\\\Program Files\\\\WinPython38_64bit\\\\python-3.8.6.amd64\\\\lib\\\\numbers.py'>,\n",
       " '_decimal': <module '_decimal' from 'C:\\\\Program Files\\\\WinPython38_64bit\\\\python-3.8.6.amd64\\\\DLLs\\\\_decimal.pyd'>,\n",
       " 'decimal': <module 'decimal' from 'C:\\\\Program Files\\\\WinPython38_64bit\\\\python-3.8.6.amd64\\\\lib\\\\decimal.py'>,\n",
       " 'simplejson.errors': <module 'simplejson.errors' from 'C:\\\\work\\\\virtenvs\\\\3p8_64bit_SensiPython_4p0\\\\lib\\\\site-packages\\\\simplejson\\\\errors.py'>,\n",
       " 'simplejson.raw_json': <module 'simplejson.raw_json' from 'C:\\\\work\\\\virtenvs\\\\3p8_64bit_SensiPython_4p0\\\\lib\\\\site-packages\\\\simplejson\\\\raw_json.py'>,\n",
       " 'simplejson.compat': <module 'simplejson.compat' from 'C:\\\\work\\\\virtenvs\\\\3p8_64bit_SensiPython_4p0\\\\lib\\\\site-packages\\\\simplejson\\\\compat.py'>,\n",
       " 'simplejson._speedups': <module 'simplejson._speedups' from 'C:\\\\work\\\\virtenvs\\\\3p8_64bit_SensiPython_4p0\\\\lib\\\\site-packages\\\\simplejson\\\\_speedups.cp38-win_amd64.pyd'>,\n",
       " 'simplejson.scanner': <module 'simplejson.scanner' from 'C:\\\\work\\\\virtenvs\\\\3p8_64bit_SensiPython_4p0\\\\lib\\\\site-packages\\\\simplejson\\\\scanner.py'>,\n",
       " 'simplejson.decoder': <module 'simplejson.decoder' from 'C:\\\\work\\\\virtenvs\\\\3p8_64bit_SensiPython_4p0\\\\lib\\\\site-packages\\\\simplejson\\\\decoder.py'>,\n",
       " 'simplejson.encoder': <module 'simplejson.encoder' from 'C:\\\\work\\\\virtenvs\\\\3p8_64bit_SensiPython_4p0\\\\lib\\\\site-packages\\\\simplejson\\\\encoder.py'>,\n",
       " 'simplejson': <module 'simplejson' from 'C:\\\\work\\\\virtenvs\\\\3p8_64bit_SensiPython_4p0\\\\lib\\\\site-packages\\\\simplejson\\\\__init__.py'>,\n",
       " 'zmq.utils.jsonapi': <module 'zmq.utils.jsonapi' from 'C:\\\\work\\\\virtenvs\\\\3p8_64bit_SensiPython_4p0\\\\lib\\\\site-packages\\\\zmq\\\\utils\\\\jsonapi.py'>,\n",
       " 'zmq.sugar.socket': <module 'zmq.sugar.socket' from 'C:\\\\work\\\\virtenvs\\\\3p8_64bit_SensiPython_4p0\\\\lib\\\\site-packages\\\\zmq\\\\sugar\\\\socket.py'>,\n",
       " 'zmq.sugar.context': <module 'zmq.sugar.context' from 'C:\\\\work\\\\virtenvs\\\\3p8_64bit_SensiPython_4p0\\\\lib\\\\site-packages\\\\zmq\\\\sugar\\\\context.py'>,\n",
       " 'zmq.sugar.frame': <module 'zmq.sugar.frame' from 'C:\\\\work\\\\virtenvs\\\\3p8_64bit_SensiPython_4p0\\\\lib\\\\site-packages\\\\zmq\\\\sugar\\\\frame.py'>,\n",
       " 'zmq.sugar.tracker': <module 'zmq.sugar.tracker' from 'C:\\\\work\\\\virtenvs\\\\3p8_64bit_SensiPython_4p0\\\\lib\\\\site-packages\\\\zmq\\\\sugar\\\\tracker.py'>,\n",
       " 'zmq.sugar.version': <module 'zmq.sugar.version' from 'C:\\\\work\\\\virtenvs\\\\3p8_64bit_SensiPython_4p0\\\\lib\\\\site-packages\\\\zmq\\\\sugar\\\\version.py'>,\n",
       " 'zmq.sugar.stopwatch': <module 'zmq.sugar.stopwatch' from 'C:\\\\work\\\\virtenvs\\\\3p8_64bit_SensiPython_4p0\\\\lib\\\\site-packages\\\\zmq\\\\sugar\\\\stopwatch.py'>,\n",
       " 'zmq.sugar': <module 'zmq.sugar' from 'C:\\\\work\\\\virtenvs\\\\3p8_64bit_SensiPython_4p0\\\\lib\\\\site-packages\\\\zmq\\\\sugar\\\\__init__.py'>,\n",
       " 'zmq': <module 'zmq' from 'C:\\\\work\\\\virtenvs\\\\3p8_64bit_SensiPython_4p0\\\\lib\\\\site-packages\\\\zmq\\\\__init__.py'>,\n",
       " 'zmq._future': <module 'zmq._future' from 'C:\\\\work\\\\virtenvs\\\\3p8_64bit_SensiPython_4p0\\\\lib\\\\site-packages\\\\zmq\\\\_future.py'>,\n",
       " 'zmq.asyncio': <module 'zmq.asyncio' from 'C:\\\\work\\\\virtenvs\\\\3p8_64bit_SensiPython_4p0\\\\lib\\\\site-packages\\\\zmq\\\\asyncio.py'>,\n",
       " 'jupyter_client.channelsabc': <module 'jupyter_client.channelsabc' from 'C:\\\\work\\\\virtenvs\\\\3p8_64bit_SensiPython_4p0\\\\lib\\\\site-packages\\\\jupyter_client\\\\channelsabc.py'>,\n",
       " 'hmac': <module 'hmac' from 'C:\\\\Program Files\\\\WinPython38_64bit\\\\python-3.8.6.amd64\\\\lib\\\\hmac.py'>,\n",
       " 'traitlets.log': <module 'traitlets.log' from 'C:\\\\work\\\\virtenvs\\\\3p8_64bit_SensiPython_4p0\\\\lib\\\\site-packages\\\\traitlets\\\\log.py'>,\n",
       " 'tornado': <module 'tornado' from 'C:\\\\work\\\\virtenvs\\\\3p8_64bit_SensiPython_4p0\\\\lib\\\\site-packages\\\\tornado\\\\__init__.py'>,\n",
       " 'logging.handlers': <module 'logging.handlers' from 'C:\\\\Program Files\\\\WinPython38_64bit\\\\python-3.8.6.amd64\\\\lib\\\\logging\\\\handlers.py'>,\n",
       " 'tornado.speedups': <module 'tornado.speedups' from 'C:\\\\work\\\\virtenvs\\\\3p8_64bit_SensiPython_4p0\\\\lib\\\\site-packages\\\\tornado\\\\speedups.cp38-win_amd64.pyd'>,\n",
       " 'tornado.util': <module 'tornado.util' from 'C:\\\\work\\\\virtenvs\\\\3p8_64bit_SensiPython_4p0\\\\lib\\\\site-packages\\\\tornado\\\\util.py'>,\n",
       " 'tornado.escape': <module 'tornado.escape' from 'C:\\\\work\\\\virtenvs\\\\3p8_64bit_SensiPython_4p0\\\\lib\\\\site-packages\\\\tornado\\\\escape.py'>,\n",
       " 'colorama.ansi': <module 'colorama.ansi' from 'C:\\\\work\\\\virtenvs\\\\3p8_64bit_SensiPython_4p0\\\\lib\\\\site-packages\\\\colorama\\\\ansi.py'>,\n",
       " 'colorama.win32': <module 'colorama.win32' from 'C:\\\\work\\\\virtenvs\\\\3p8_64bit_SensiPython_4p0\\\\lib\\\\site-packages\\\\colorama\\\\win32.py'>,\n",
       " 'colorama.winterm': <module 'colorama.winterm' from 'C:\\\\work\\\\virtenvs\\\\3p8_64bit_SensiPython_4p0\\\\lib\\\\site-packages\\\\colorama\\\\winterm.py'>,\n",
       " 'colorama.ansitowin32': <module 'colorama.ansitowin32' from 'C:\\\\work\\\\virtenvs\\\\3p8_64bit_SensiPython_4p0\\\\lib\\\\site-packages\\\\colorama\\\\ansitowin32.py'>,\n",
       " 'colorama.initialise': <module 'colorama.initialise' from 'C:\\\\work\\\\virtenvs\\\\3p8_64bit_SensiPython_4p0\\\\lib\\\\site-packages\\\\colorama\\\\initialise.py'>,\n",
       " 'colorama': <module 'colorama' from 'C:\\\\work\\\\virtenvs\\\\3p8_64bit_SensiPython_4p0\\\\lib\\\\site-packages\\\\colorama\\\\__init__.py'>,\n",
       " 'tornado.log': <module 'tornado.log' from 'C:\\\\work\\\\virtenvs\\\\3p8_64bit_SensiPython_4p0\\\\lib\\\\site-packages\\\\tornado\\\\log.py'>,\n",
       " 'tornado.concurrent': <module 'tornado.concurrent' from 'C:\\\\work\\\\virtenvs\\\\3p8_64bit_SensiPython_4p0\\\\lib\\\\site-packages\\\\tornado\\\\concurrent.py'>,\n",
       " 'tornado.ioloop': <module 'tornado.ioloop' from 'C:\\\\work\\\\virtenvs\\\\3p8_64bit_SensiPython_4p0\\\\lib\\\\site-packages\\\\tornado\\\\ioloop.py'>,\n",
       " 'tornado.platform': <module 'tornado.platform' from 'C:\\\\work\\\\virtenvs\\\\3p8_64bit_SensiPython_4p0\\\\lib\\\\site-packages\\\\tornado\\\\platform\\\\__init__.py'>,\n",
       " 'tornado.gen': <module 'tornado.gen' from 'C:\\\\work\\\\virtenvs\\\\3p8_64bit_SensiPython_4p0\\\\lib\\\\site-packages\\\\tornado\\\\gen.py'>,\n",
       " 'tornado.platform.asyncio': <module 'tornado.platform.asyncio' from 'C:\\\\work\\\\virtenvs\\\\3p8_64bit_SensiPython_4p0\\\\lib\\\\site-packages\\\\tornado\\\\platform\\\\asyncio.py'>,\n",
       " 'zmq.eventloop.ioloop': <module 'zmq.eventloop.ioloop' from 'C:\\\\work\\\\virtenvs\\\\3p8_64bit_SensiPython_4p0\\\\lib\\\\site-packages\\\\zmq\\\\eventloop\\\\ioloop.py'>,\n",
       " 'zmq.eventloop': <module 'zmq.eventloop' from 'C:\\\\work\\\\virtenvs\\\\3p8_64bit_SensiPython_4p0\\\\lib\\\\site-packages\\\\zmq\\\\eventloop\\\\__init__.py'>,\n",
       " 'zmq.eventloop.zmqstream': <module 'zmq.eventloop.zmqstream' from 'C:\\\\work\\\\virtenvs\\\\3p8_64bit_SensiPython_4p0\\\\lib\\\\site-packages\\\\zmq\\\\eventloop\\\\zmqstream.py'>,\n",
       " 'jupyter_client.adapter': <module 'jupyter_client.adapter' from 'C:\\\\work\\\\virtenvs\\\\3p8_64bit_SensiPython_4p0\\\\lib\\\\site-packages\\\\jupyter_client\\\\adapter.py'>,\n",
       " 'dateutil._version': <module 'dateutil._version' from 'C:\\\\work\\\\virtenvs\\\\3p8_64bit_SensiPython_4p0\\\\lib\\\\site-packages\\\\dateutil\\\\_version.py'>,\n",
       " 'dateutil': <module 'dateutil' from 'C:\\\\work\\\\virtenvs\\\\3p8_64bit_SensiPython_4p0\\\\lib\\\\site-packages\\\\dateutil\\\\__init__.py'>,\n",
       " 'six': <module 'six' from 'C:\\\\work\\\\virtenvs\\\\3p8_64bit_SensiPython_4p0\\\\lib\\\\site-packages\\\\six.py'>,\n",
       " 'dateutil._common': <module 'dateutil._common' from 'C:\\\\work\\\\virtenvs\\\\3p8_64bit_SensiPython_4p0\\\\lib\\\\site-packages\\\\dateutil\\\\_common.py'>,\n",
       " 'dateutil.relativedelta': <module 'dateutil.relativedelta' from 'C:\\\\work\\\\virtenvs\\\\3p8_64bit_SensiPython_4p0\\\\lib\\\\site-packages\\\\dateutil\\\\relativedelta.py'>,\n",
       " 'six.moves': <module 'six.moves' (<six._SixMetaPathImporter object at 0x000002519DF24580>)>,\n",
       " 'dateutil.tz._common': <module 'dateutil.tz._common' from 'C:\\\\work\\\\virtenvs\\\\3p8_64bit_SensiPython_4p0\\\\lib\\\\site-packages\\\\dateutil\\\\tz\\\\_common.py'>,\n",
       " 'dateutil.tz._factories': <module 'dateutil.tz._factories' from 'C:\\\\work\\\\virtenvs\\\\3p8_64bit_SensiPython_4p0\\\\lib\\\\site-packages\\\\dateutil\\\\tz\\\\_factories.py'>,\n",
       " 'dateutil.tz.win': <module 'dateutil.tz.win' from 'C:\\\\work\\\\virtenvs\\\\3p8_64bit_SensiPython_4p0\\\\lib\\\\site-packages\\\\dateutil\\\\tz\\\\win.py'>,\n",
       " 'dateutil.tz.tz': <module 'dateutil.tz.tz' from 'C:\\\\work\\\\virtenvs\\\\3p8_64bit_SensiPython_4p0\\\\lib\\\\site-packages\\\\dateutil\\\\tz\\\\tz.py'>,\n",
       " 'dateutil.tz': <module 'dateutil.tz' from 'C:\\\\work\\\\virtenvs\\\\3p8_64bit_SensiPython_4p0\\\\lib\\\\site-packages\\\\dateutil\\\\tz\\\\__init__.py'>,\n",
       " 'dateutil.parser._parser': <module 'dateutil.parser._parser' from 'C:\\\\work\\\\virtenvs\\\\3p8_64bit_SensiPython_4p0\\\\lib\\\\site-packages\\\\dateutil\\\\parser\\\\_parser.py'>,\n",
       " 'dateutil.parser.isoparser': <module 'dateutil.parser.isoparser' from 'C:\\\\work\\\\virtenvs\\\\3p8_64bit_SensiPython_4p0\\\\lib\\\\site-packages\\\\dateutil\\\\parser\\\\isoparser.py'>,\n",
       " 'dateutil.parser': <module 'dateutil.parser' from 'C:\\\\work\\\\virtenvs\\\\3p8_64bit_SensiPython_4p0\\\\lib\\\\site-packages\\\\dateutil\\\\parser\\\\__init__.py'>,\n",
       " '_strptime': <module '_strptime' from 'C:\\\\Program Files\\\\WinPython38_64bit\\\\python-3.8.6.amd64\\\\lib\\\\_strptime.py'>,\n",
       " 'jupyter_client.jsonutil': <module 'jupyter_client.jsonutil' from 'C:\\\\work\\\\virtenvs\\\\3p8_64bit_SensiPython_4p0\\\\lib\\\\site-packages\\\\jupyter_client\\\\jsonutil.py'>,\n",
       " 'jupyter_client.session': <module 'jupyter_client.session' from 'C:\\\\work\\\\virtenvs\\\\3p8_64bit_SensiPython_4p0\\\\lib\\\\site-packages\\\\jupyter_client\\\\session.py'>,\n",
       " 'jupyter_client.channels': <module 'jupyter_client.channels' from 'C:\\\\work\\\\virtenvs\\\\3p8_64bit_SensiPython_4p0\\\\lib\\\\site-packages\\\\jupyter_client\\\\channels.py'>,\n",
       " 'jupyter_client.clientabc': <module 'jupyter_client.clientabc' from 'C:\\\\work\\\\virtenvs\\\\3p8_64bit_SensiPython_4p0\\\\lib\\\\site-packages\\\\jupyter_client\\\\clientabc.py'>,\n",
       " 'jupyter_core.version': <module 'jupyter_core.version' from 'C:\\\\work\\\\virtenvs\\\\3p8_64bit_SensiPython_4p0\\\\lib\\\\site-packages\\\\jupyter_core\\\\version.py'>,\n",
       " 'jupyter_core': <module 'jupyter_core' from 'C:\\\\work\\\\virtenvs\\\\3p8_64bit_SensiPython_4p0\\\\lib\\\\site-packages\\\\jupyter_core\\\\__init__.py'>,\n",
       " 'jupyter_core.paths': <module 'jupyter_core.paths' from 'C:\\\\work\\\\virtenvs\\\\3p8_64bit_SensiPython_4p0\\\\lib\\\\site-packages\\\\jupyter_core\\\\paths.py'>,\n",
       " 'jupyter_client.localinterfaces': <module 'jupyter_client.localinterfaces' from 'C:\\\\work\\\\virtenvs\\\\3p8_64bit_SensiPython_4p0\\\\lib\\\\site-packages\\\\jupyter_client\\\\localinterfaces.py'>,\n",
       " 'nest_asyncio': <module 'nest_asyncio' from 'C:\\\\work\\\\virtenvs\\\\3p8_64bit_SensiPython_4p0\\\\lib\\\\site-packages\\\\nest_asyncio.py'>,\n",
       " 'jupyter_client.utils': <module 'jupyter_client.utils' from 'C:\\\\work\\\\virtenvs\\\\3p8_64bit_SensiPython_4p0\\\\lib\\\\site-packages\\\\jupyter_client\\\\utils.py'>,\n",
       " 'jupyter_client.connect': <module 'jupyter_client.connect' from 'C:\\\\work\\\\virtenvs\\\\3p8_64bit_SensiPython_4p0\\\\lib\\\\site-packages\\\\jupyter_client\\\\connect.py'>,\n",
       " 'jupyter_client.client': <module 'jupyter_client.client' from 'C:\\\\work\\\\virtenvs\\\\3p8_64bit_SensiPython_4p0\\\\lib\\\\site-packages\\\\jupyter_client\\\\client.py'>,\n",
       " 'jupyter_client.asynchronous.client': <module 'jupyter_client.asynchronous.client' from 'C:\\\\work\\\\virtenvs\\\\3p8_64bit_SensiPython_4p0\\\\lib\\\\site-packages\\\\jupyter_client\\\\asynchronous\\\\client.py'>,\n",
       " 'jupyter_client.asynchronous': <module 'jupyter_client.asynchronous' from 'C:\\\\work\\\\virtenvs\\\\3p8_64bit_SensiPython_4p0\\\\lib\\\\site-packages\\\\jupyter_client\\\\asynchronous\\\\__init__.py'>,\n",
       " 'jupyter_client.blocking.client': <module 'jupyter_client.blocking.client' from 'C:\\\\work\\\\virtenvs\\\\3p8_64bit_SensiPython_4p0\\\\lib\\\\site-packages\\\\jupyter_client\\\\blocking\\\\client.py'>,\n",
       " 'jupyter_client.blocking': <module 'jupyter_client.blocking' from 'C:\\\\work\\\\virtenvs\\\\3p8_64bit_SensiPython_4p0\\\\lib\\\\site-packages\\\\jupyter_client\\\\blocking\\\\__init__.py'>,\n",
       " 'jupyter_client.launcher': <module 'jupyter_client.launcher' from 'C:\\\\work\\\\virtenvs\\\\3p8_64bit_SensiPython_4p0\\\\lib\\\\site-packages\\\\jupyter_client\\\\launcher.py'>,\n",
       " 'jupyter_client.managerabc': <module 'jupyter_client.managerabc' from 'C:\\\\work\\\\virtenvs\\\\3p8_64bit_SensiPython_4p0\\\\lib\\\\site-packages\\\\jupyter_client\\\\managerabc.py'>,\n",
       " 'jupyter_client.kernelspec': <module 'jupyter_client.kernelspec' from 'C:\\\\work\\\\virtenvs\\\\3p8_64bit_SensiPython_4p0\\\\lib\\\\site-packages\\\\jupyter_client\\\\kernelspec.py'>,\n",
       " 'jupyter_client.manager': <module 'jupyter_client.manager' from 'C:\\\\work\\\\virtenvs\\\\3p8_64bit_SensiPython_4p0\\\\lib\\\\site-packages\\\\jupyter_client\\\\manager.py'>,\n",
       " 'uuid': <module 'uuid' from 'C:\\\\Program Files\\\\WinPython38_64bit\\\\python-3.8.6.amd64\\\\lib\\\\uuid.py'>,\n",
       " 'jupyter_client.multikernelmanager': <module 'jupyter_client.multikernelmanager' from 'C:\\\\work\\\\virtenvs\\\\3p8_64bit_SensiPython_4p0\\\\lib\\\\site-packages\\\\jupyter_client\\\\multikernelmanager.py'>,\n",
       " 'jupyter_client': <module 'jupyter_client' from 'C:\\\\work\\\\virtenvs\\\\3p8_64bit_SensiPython_4p0\\\\lib\\\\site-packages\\\\jupyter_client\\\\__init__.py'>,\n",
       " 'ipykernel.connect': <module 'ipykernel.connect' from 'C:\\\\work\\\\virtenvs\\\\3p8_64bit_SensiPython_4p0\\\\lib\\\\site-packages\\\\ipykernel\\\\connect.py'>,\n",
       " 'ipykernel': <module 'ipykernel' from 'C:\\\\work\\\\virtenvs\\\\3p8_64bit_SensiPython_4p0\\\\lib\\\\site-packages\\\\ipykernel\\\\__init__.py'>,\n",
       " 'ipython_genutils.importstring': <module 'ipython_genutils.importstring' from 'C:\\\\work\\\\virtenvs\\\\3p8_64bit_SensiPython_4p0\\\\lib\\\\site-packages\\\\ipython_genutils\\\\importstring.py'>,\n",
       " 'imp': <module 'imp' from 'C:\\\\Program Files\\\\WinPython38_64bit\\\\python-3.8.6.amd64\\\\lib\\\\imp.py'>,\n",
       " 'ipykernel.iostream': <module 'ipykernel.iostream' from 'C:\\\\work\\\\virtenvs\\\\3p8_64bit_SensiPython_4p0\\\\lib\\\\site-packages\\\\ipykernel\\\\iostream.py'>,\n",
       " 'ipykernel.heartbeat': <module 'ipykernel.heartbeat' from 'C:\\\\work\\\\virtenvs\\\\3p8_64bit_SensiPython_4p0\\\\lib\\\\site-packages\\\\ipykernel\\\\heartbeat.py'>,\n",
       " 'IPython.utils.tokenutil': <module 'IPython.utils.tokenutil' from 'C:\\\\work\\\\virtenvs\\\\3p8_64bit_SensiPython_4p0\\\\lib\\\\site-packages\\\\IPython\\\\utils\\\\tokenutil.py'>,\n",
       " 'tornado.locks': <module 'tornado.locks' from 'C:\\\\work\\\\virtenvs\\\\3p8_64bit_SensiPython_4p0\\\\lib\\\\site-packages\\\\tornado\\\\locks.py'>,\n",
       " 'tornado.queues': <module 'tornado.queues' from 'C:\\\\work\\\\virtenvs\\\\3p8_64bit_SensiPython_4p0\\\\lib\\\\site-packages\\\\tornado\\\\queues.py'>,\n",
       " 'ipykernel.jsonutil': <module 'ipykernel.jsonutil' from 'C:\\\\work\\\\virtenvs\\\\3p8_64bit_SensiPython_4p0\\\\lib\\\\site-packages\\\\ipykernel\\\\jsonutil.py'>,\n",
       " 'ipykernel.kernelbase': <module 'ipykernel.kernelbase' from 'C:\\\\work\\\\virtenvs\\\\3p8_64bit_SensiPython_4p0\\\\lib\\\\site-packages\\\\ipykernel\\\\kernelbase.py'>,\n",
       " 'ipykernel.comm.comm': <module 'ipykernel.comm.comm' from 'C:\\\\work\\\\virtenvs\\\\3p8_64bit_SensiPython_4p0\\\\lib\\\\site-packages\\\\ipykernel\\\\comm\\\\comm.py'>,\n",
       " 'ipykernel.comm.manager': <module 'ipykernel.comm.manager' from 'C:\\\\work\\\\virtenvs\\\\3p8_64bit_SensiPython_4p0\\\\lib\\\\site-packages\\\\ipykernel\\\\comm\\\\manager.py'>,\n",
       " 'ipykernel.comm': <module 'ipykernel.comm' from 'C:\\\\work\\\\virtenvs\\\\3p8_64bit_SensiPython_4p0\\\\lib\\\\site-packages\\\\ipykernel\\\\comm\\\\__init__.py'>,\n",
       " 'IPython.core.payloadpage': <module 'IPython.core.payloadpage' from 'C:\\\\work\\\\virtenvs\\\\3p8_64bit_SensiPython_4p0\\\\lib\\\\site-packages\\\\IPython\\\\core\\\\payloadpage.py'>,\n",
       " 'ipykernel.displayhook': <module 'ipykernel.displayhook' from 'C:\\\\work\\\\virtenvs\\\\3p8_64bit_SensiPython_4p0\\\\lib\\\\site-packages\\\\ipykernel\\\\displayhook.py'>,\n",
       " 'ipykernel.codeutil': <module 'ipykernel.codeutil' from 'C:\\\\work\\\\virtenvs\\\\3p8_64bit_SensiPython_4p0\\\\lib\\\\site-packages\\\\ipykernel\\\\codeutil.py'>,\n",
       " 'ipykernel.pickleutil': <module 'ipykernel.pickleutil' from 'C:\\\\work\\\\virtenvs\\\\3p8_64bit_SensiPython_4p0\\\\lib\\\\site-packages\\\\ipykernel\\\\pickleutil.py'>,\n",
       " 'ipykernel.serialize': <module 'ipykernel.serialize' from 'C:\\\\work\\\\virtenvs\\\\3p8_64bit_SensiPython_4p0\\\\lib\\\\site-packages\\\\ipykernel\\\\serialize.py'>,\n",
       " 'ipykernel.datapub': <module 'ipykernel.datapub' from 'C:\\\\work\\\\virtenvs\\\\3p8_64bit_SensiPython_4p0\\\\lib\\\\site-packages\\\\ipykernel\\\\datapub.py'>,\n",
       " 'ipykernel.zmqshell': <module 'ipykernel.zmqshell' from 'C:\\\\work\\\\virtenvs\\\\3p8_64bit_SensiPython_4p0\\\\lib\\\\site-packages\\\\ipykernel\\\\zmqshell.py'>,\n",
       " 'distutils': <module 'distutils' from 'C:\\\\Program Files\\\\WinPython38_64bit\\\\python-3.8.6.amd64\\\\lib\\\\distutils\\\\__init__.py'>,\n",
       " 'distutils.version': <module 'distutils.version' from 'C:\\\\Program Files\\\\WinPython38_64bit\\\\python-3.8.6.amd64\\\\lib\\\\distutils\\\\version.py'>,\n",
       " 'ipykernel.eventloops': <module 'ipykernel.eventloops' from 'C:\\\\work\\\\virtenvs\\\\3p8_64bit_SensiPython_4p0\\\\lib\\\\site-packages\\\\ipykernel\\\\eventloops.py'>,\n",
       " 'ipykernel.ipkernel': <module 'ipykernel.ipkernel' from 'C:\\\\work\\\\virtenvs\\\\3p8_64bit_SensiPython_4p0\\\\lib\\\\site-packages\\\\ipykernel\\\\ipkernel.py'>,\n",
       " 'ipykernel.parentpoller': <module 'ipykernel.parentpoller' from 'C:\\\\work\\\\virtenvs\\\\3p8_64bit_SensiPython_4p0\\\\lib\\\\site-packages\\\\ipykernel\\\\parentpoller.py'>,\n",
       " 'ipykernel.kernelapp': <module 'ipykernel.kernelapp' from 'C:\\\\work\\\\virtenvs\\\\3p8_64bit_SensiPython_4p0\\\\lib\\\\site-packages\\\\ipykernel\\\\kernelapp.py'>,\n",
       " 'win32api': <module 'win32api' from 'C:\\\\work\\\\virtenvs\\\\3p8_64bit_SensiPython_4p0\\\\lib\\\\site-packages\\\\win32\\\\win32api.pyd'>,\n",
       " 'win32security': <module 'win32security' from 'C:\\\\work\\\\virtenvs\\\\3p8_64bit_SensiPython_4p0\\\\lib\\\\site-packages\\\\win32\\\\win32security.pyd'>,\n",
       " 'ntsecuritycon': <module 'ntsecuritycon' from 'C:\\\\work\\\\virtenvs\\\\3p8_64bit_SensiPython_4p0\\\\lib\\\\site-packages\\\\win32\\\\lib\\\\ntsecuritycon.py'>,\n",
       " 'faulthandler': <module 'faulthandler' (built-in)>,\n",
       " 'IPython.core.completerlib': <module 'IPython.core.completerlib' from 'C:\\\\work\\\\virtenvs\\\\3p8_64bit_SensiPython_4p0\\\\lib\\\\site-packages\\\\IPython\\\\core\\\\completerlib.py'>,\n",
       " 'storemagic': <module 'storemagic' from 'C:\\\\work\\\\virtenvs\\\\3p8_64bit_SensiPython_4p0\\\\lib\\\\site-packages\\\\IPython\\\\extensions\\\\storemagic.py'>}"
      ]
     },
     "execution_count": 4,
     "metadata": {},
     "output_type": "execute_result"
    }
   ],
   "source": [
    "ml = sys.modules\n",
    "ml"
   ]
  },
  {
   "cell_type": "code",
   "execution_count": 5,
   "id": "78126432",
   "metadata": {
    "collapsed": true,
    "jupyter": {
     "outputs_hidden": true
    },
    "tags": []
   },
   "outputs": [
    {
     "data": {
      "text/plain": [
       "dict_keys(['sys', 'builtins', '_frozen_importlib', '_imp', '_warnings', '_frozen_importlib_external', '_io', 'marshal', 'nt', '_thread', '_weakref', 'winreg', 'time', 'zipimport', '_codecs', 'codecs', 'encodings.aliases', 'encodings', 'encodings.utf_8', '_codecs_cn', '_multibytecodec', 'encodings.gbk', '_signal', '__main__', 'encodings.latin_1', '_abc', 'abc', 'io', '_stat', 'stat', '_collections_abc', 'genericpath', 'ntpath', 'os.path', 'os', '_sitebuiltins', '_locale', '_bootlocale', '_operator', 'operator', 'keyword', '_heapq', 'heapq', 'itertools', 'reprlib', '_collections', 'collections', '_functools', 'functools', 'importlib._bootstrap', 'importlib._bootstrap_external', 'types', 'warnings', 'importlib', 'importlib.machinery', 'importlib.abc', 'contextlib', 'importlib.util', '_virtualenv', 'mpl_toolkits', 'pywin32_bootstrap', 'sphinxcontrib', 'site', '_weakrefset', 'weakref', 'pkgutil', 'runpy', 'ipykernel._version', 'enum', '_sre', 'sre_constants', 'sre_parse', 'sre_compile', 'copyreg', 're', '_json', 'json.scanner', 'json.decoder', 'json.encoder', 'json', 'errno', 'signal', 'threading', 'msvcrt', '_winapi', 'subprocess', 'IPython.core', 'IPython.core.getipython', 'IPython.core.release', 'atexit', 'copy', 'posixpath', 'fnmatch', 'glob', 'token', 'tokenize', 'linecache', 'traceback', 'collections.abc', '_string', 'string', 'logging', 'zlib', '_compression', '_bz2', 'bz2', '_lzma', 'lzma', 'shutil', '_ast', 'ast', '_opcode', 'opcode', 'dis', 'inspect', 'traitlets.utils', 'traitlets.utils.getargspec', 'traitlets.utils.importstring', 'traitlets.utils.sentinel', 'traitlets.utils.bunch', 'traitlets.utils.descriptions', 'traitlets.traitlets', 'traitlets.utils.decorators', 'traitlets._version', 'traitlets', 'pprint', 'locale', 'gettext', 'argparse', 'ipython_genutils._version', 'ipython_genutils', 'math', '_bisect', 'bisect', '_sha512', '_random', 'random', 'ipython_genutils.encoding', 'platform', 'ipython_genutils.py3compat', 'ipython_genutils.path', 'traitlets.config.loader', 'textwrap', 'ipython_genutils.text', 'traitlets.config.configurable', 'traitlets.config.application', 'traitlets.config', 'sysconfig', 'urllib', 'urllib.parse', 'pydoc', 'bdb', 'IPython.utils', 'IPython.utils.ipstruct', 'IPython.utils.coloransi', 'pygments', 'IPython.utils.colorable', 'IPython.utils.PyColorize', 'IPython.utils.encoding', 'IPython.utils.py3compat', 'IPython.core.excolors', 'IPython.testing', 'IPython.testing.skipdoctest', 'cmd', '__future__', 'codeop', 'code', 'pdb', 'IPython.core.debugger', 'IPython.core.display_trap', '_ctypes', '_struct', 'struct', 'ctypes._endian', 'ctypes', 'ctypes.wintypes', 'shlex', 'IPython.utils._process_common', 'IPython.utils._process_win32', 'IPython.utils.process', 'IPython.utils.decorators', 'IPython.utils.path', 'IPython.utils.data', 'IPython.utils.terminal', 'IPython.core.ultratb', 'IPython.utils._sysinfo', 'IPython.utils.sysinfo', 'IPython.core.crashhandler', 'tempfile', 'IPython.utils.importstring', 'IPython.paths', 'IPython.core.profiledir', 'IPython.core.application', 'IPython.terminal', '_hashlib', '_blake2', '_sha3', 'hashlib', 'IPython.core.compilerop', 'IPython.core.error', 'pathlib', 'IPython.utils.text', 'IPython.core.magic_arguments', 'getopt', 'typing.io', 'typing.re', 'typing', 'binascii', 'mimetypes', 'IPython.core.display', 'IPython.core.page', 'getpass', 'IPython.lib.security', 'IPython.lib', '_datetime', 'datetime', 'IPython.lib.pretty', 'IPython.utils.openpy', 'IPython.utils.dir2', 'IPython.utils.wildcard', 'pygments.lexers._mapping', 'pygments.modeline', 'pygments.plugin', 'pygments.util', 'pygments.lexers', 'pygments.filter', 'pygments.token', 'pygments.filters', 'pygments.regexopt', 'pygments.lexer', 'pygments.unistring', 'pygments.lexers.python', 'pygments.formatters._mapping', 'pygments.formatters', 'pygments.styles', 'pygments.formatter', 'pygments.formatters.html', 'IPython.core.oinspect', 'IPython.core.inputtransformer2', 'decorator', 'IPython.core.magic', '_compat_pickle', '_pickle', 'pickle', 'pickleshare', 'IPython.core.autocall', 'IPython.core.macro', 'IPython.core.splitinput', 'IPython.core.prefilter', 'IPython.core.alias', 'IPython.core.builtin_trap', 'backcall.backcall', 'backcall', 'IPython.core.events', 'IPython.core.displayhook', 'IPython.core.displaypub', 'IPython.core.extensions', 'IPython.utils.sentinel', 'IPython.core.formatters', '_sqlite3', 'sqlite3.dbapi2', 'sqlite3', 'IPython.core.history', 'IPython.core.logger', 'IPython.core.payload', 'IPython.core.usage', 'html.entities', 'html', 'IPython.lib.display', 'IPython.display', 'IPython.utils.capture', 'IPython.utils.io', 'IPython.core.hooks', 'IPython.utils.strdispatch', 'IPython.utils.syspathcontext', 'IPython.utils.tempdir', 'IPython.utils.contexts', 'IPython.core.async_helpers', 'IPython.core.interactiveshell', 'concurrent', 'concurrent.futures._base', 'concurrent.futures', '_socket', 'select', 'selectors', 'socket', '_ssl', 'base64', 'ssl', 'asyncio.constants', 'asyncio.format_helpers', 'asyncio.base_futures', 'asyncio.log', 'asyncio.coroutines', '_contextvars', 'contextvars', 'asyncio.exceptions', 'asyncio.base_tasks', '_asyncio', 'asyncio.events', 'asyncio.futures', 'asyncio.protocols', 'asyncio.transports', 'asyncio.sslproto', 'asyncio.locks', 'asyncio.tasks', 'asyncio.staggered', 'asyncio.trsock', 'asyncio.base_events', 'asyncio.runners', 'asyncio.queues', 'asyncio.streams', 'asyncio.subprocess', '_overlapped', 'asyncio.base_subprocess', 'asyncio.proactor_events', 'asyncio.selector_events', 'asyncio.windows_utils', 'asyncio.windows_events', 'asyncio', 'prompt_toolkit.application.current', 'prompt_toolkit.eventloop.utils', 'prompt_toolkit.eventloop.async_generator', 'wcwidth.table_wide', 'wcwidth.table_zero', 'wcwidth.unicode_versions', 'wcwidth.wcwidth', 'wcwidth', 'prompt_toolkit.utils', 'prompt_toolkit.eventloop.inputhook', 'prompt_toolkit.eventloop', 'prompt_toolkit.application.run_in_terminal', 'prompt_toolkit.selection', 'prompt_toolkit.clipboard.base', 'prompt_toolkit.clipboard.in_memory', 'prompt_toolkit.clipboard', 'prompt_toolkit.cache', 'prompt_toolkit.enums', 'prompt_toolkit.filters.base', 'prompt_toolkit.filters.app', 'prompt_toolkit.filters.cli', 'prompt_toolkit.filters.utils', 'prompt_toolkit.filters', 'prompt_toolkit.document', 'prompt_toolkit.auto_suggest', 'prompt_toolkit.data_structures', 'prompt_toolkit.styles.base', 'prompt_toolkit.styles.named_colors', 'prompt_toolkit.styles.style', 'prompt_toolkit.styles.defaults', 'prompt_toolkit.styles.pygments', 'colorsys', 'prompt_toolkit.styles.style_transformation', 'prompt_toolkit.styles', 'prompt_toolkit.output.color_depth', 'prompt_toolkit.output.base', 'prompt_toolkit.output.defaults', 'prompt_toolkit.output', 'array', 'prompt_toolkit.output.vt100', 'prompt_toolkit.mouse_events', 'prompt_toolkit.formatted_text.base', 'prompt_toolkit.formatted_text.ansi', 'xml', 'xml.dom.domreg', 'xml.dom', 'xml.dom.minicompat', 'xml.dom.NodeFilter', 'xml.dom.xmlbuilder', 'xml.dom.minidom', 'prompt_toolkit.formatted_text.html', 'prompt_toolkit.formatted_text.pygments', 'prompt_toolkit.formatted_text.utils', 'prompt_toolkit.formatted_text', 'prompt_toolkit.completion.base', 'prompt_toolkit.completion.deduplicate', 'prompt_toolkit.completion.filesystem', 'prompt_toolkit.completion.word_completer', 'prompt_toolkit.completion.fuzzy_completer', 'prompt_toolkit.completion.nested', 'prompt_toolkit.completion', 'prompt_toolkit.history', 'prompt_toolkit.keys', 'prompt_toolkit.key_binding.key_bindings', 'prompt_toolkit.key_binding.key_processor', 'prompt_toolkit.key_binding', 'prompt_toolkit.key_binding.vi_state', 'prompt_toolkit.search', 'prompt_toolkit.validation', 'prompt_toolkit.buffer', 'prompt_toolkit.input.base', 'prompt_toolkit.input.defaults', 'prompt_toolkit.input', 'prompt_toolkit.input.typeahead', 'prompt_toolkit.key_binding.bindings', 'prompt_toolkit.key_binding.bindings.scroll', 'prompt_toolkit.key_binding.bindings.page_navigation', 'prompt_toolkit.lexers.base', 'prompt_toolkit.lexers.pygments', 'prompt_toolkit.lexers', 'prompt_toolkit.layout.utils', 'prompt_toolkit.layout.processors', 'prompt_toolkit.layout.controls', 'prompt_toolkit.layout.dimension', 'prompt_toolkit.layout.margins', 'prompt_toolkit.layout.mouse_handlers', 'prompt_toolkit.layout.screen', 'prompt_toolkit.layout.containers', 'prompt_toolkit.layout.layout', 'prompt_toolkit.layout.menus', 'prompt_toolkit.layout.scrollable_pane', 'prompt_toolkit.layout', 'prompt_toolkit.key_binding.bindings.completion', 'prompt_toolkit.key_binding.bindings.named_commands', 'prompt_toolkit.key_binding.bindings.basic', 'prompt_toolkit.key_binding.bindings.cpr', 'prompt_toolkit.key_binding.bindings.emacs', 'prompt_toolkit.key_binding.bindings.mouse', 'prompt_toolkit.input.ansi_escape_sequences', 'prompt_toolkit.input.vt100_parser', 'prompt_toolkit.key_binding.digraphs', 'prompt_toolkit.key_binding.bindings.vi', 'prompt_toolkit.key_binding.defaults', 'prompt_toolkit.key_binding.emacs_state', 'prompt_toolkit.layout.dummy', 'prompt_toolkit.renderer', 'prompt_toolkit.application.application', 'prompt_toolkit.application.dummy', 'prompt_toolkit.application', 'prompt_toolkit.key_binding.bindings.focus', 'prompt_toolkit.widgets.toolbars', 'prompt_toolkit.widgets.base', 'prompt_toolkit.widgets.dialogs', 'prompt_toolkit.widgets.menus', 'prompt_toolkit.widgets', 'prompt_toolkit.shortcuts.dialogs', 'prompt_toolkit.shortcuts.progress_bar.formatters', 'prompt_toolkit.shortcuts.progress_bar.base', 'prompt_toolkit.shortcuts.progress_bar', 'prompt_toolkit.key_binding.bindings.auto_suggest', 'prompt_toolkit.key_binding.bindings.open_in_editor', 'prompt_toolkit.shortcuts.prompt', 'prompt_toolkit.shortcuts.utils', 'prompt_toolkit.shortcuts', 'prompt_toolkit', '_queue', 'queue', 'prompt_toolkit.patch_stdout', 'pygments.style', 'unicodedata', 'IPython.core.latex_symbols', 'IPython.utils.generics', 'parso.utils', 'parso.tree', 'parso.python', 'parso.python.token', 'parso.python.tokenize', 'parso.pgen2.grammar_parser', 'parso.pgen2.generator', 'parso.pgen2', 'parso.parser', 'parso._compatibility', 'difflib', 'parso.python.prefix', 'parso.python.tree', 'parso.python.parser', 'parso.python.diff', 'gc', 'parso.cache', 'parso.normalizer', 'parso.python.errors', 'parso.python.pep8', 'parso.file_io', 'parso.grammar', 'parso', 'jedi._compatibility', 'jedi.parser_utils', 'jedi.debug', 'jedi.settings', 'jedi.cache', 'jedi.file_io', 'jedi.inference.cache', 'jedi.inference.helpers', 'jedi.inference.utils', 'jedi.inference.base_value', 'jedi.inference.sys_path', 'jedi.inference.recursion', 'jedi.inference.flow_analysis', 'jedi.common', 'jedi.inference.lazy_value', 'jedi.inference.docstrings', 'jedi.plugins', 'jedi.inference.names', 'jedi.inference.filters', 'jedi.inference.compiled.getattr_static', 'jedi.inference.compiled.access', 'jedi.inference.signature', 'jedi.inference.context', 'jedi.inference.compiled.value', 'jedi.inference.compiled', 'jedi.inference.analysis', 'jedi.inference.gradual', 'jedi.inference.value.module', 'jedi.inference.value.dynamic_arrays', 'jedi.inference.value.iterable', 'jedi.inference.arguments', 'jedi.inference.parser_cache', 'jedi.inference.gradual.generics', 'jedi.inference.value.function', 'jedi.inference.value.klass', 'jedi.inference.value.instance', 'jedi.inference.value', 'jedi.inference.gradual.base', 'jedi.inference.gradual.type_var', 'jedi.inference.gradual.typing', 'jedi.inference.gradual.stub_value', 'jedi.inference.gradual.typeshed', 'jedi.inference.compiled.subprocess.functions', 'jedi.api.exceptions', 'jedi.inference.compiled.subprocess', 'jedi.inference.imports', 'jedi.inference.param', 'jedi.inference.gradual.annotation', 'jedi.inference.value.decorator', 'jedi.inference.syntax_tree', 'jedi.inference', 'jedi.inference.gradual.conversion', 'jedi.inference.compiled.mixed', 'pydoc_data', 'pydoc_data.topics', 'jedi.api.keywords', 'jedi.api.completion_cache', 'jedi.api.helpers', 'jedi.api.classes', 'jedi.api.interpreter', 'jedi.api.strings', 'jedi.api.file_name', 'jedi.api.completion', 'filecmp', 'jedi.api.environment', 'jedi.inference.references', 'jedi.api.project', 'jedi.api.errors', 'jedi.api.refactoring', 'jedi.api.refactoring.extract', 'jedi.inference.gradual.utils', 'jedi.api', 'jedi.plugins.stdlib', 'jedi.plugins.flask', 'jedi.plugins.pytest', 'jedi.plugins.django', 'jedi.plugins.registry', 'jedi', 'IPython.core.completer', 'IPython.terminal.ptutils', 'IPython.lib.clipboard', 'IPython.terminal.shortcuts', 'IPython.terminal.debugger', 'IPython.terminal.magics', 'IPython.terminal.pt_inputhooks', 'IPython.terminal.prompts', 'IPython.terminal.interactiveshell', 'IPython.core.magics.auto', 'IPython.core.magics.basic', 'email', 'http', 'email.errors', 'email.quoprimime', 'email.base64mime', 'quopri', 'email.encoders', 'email.charset', 'email.header', 'calendar', 'email._parseaddr', 'email.utils', 'email._policybase', 'email.feedparser', 'email.parser', 'uu', 'email._encoded_words', 'email.iterators', 'email.message', 'http.client', 'urllib.response', 'urllib.error', 'nturl2path', 'urllib.request', 'IPython.core.magics.code', 'IPython.core.magics.config', 'IPython.core.magics.display', 'timeit', '_lsprof', 'profile', 'cProfile', 'pstats', 'IPython.utils.module_paths', 'IPython.utils.timing', 'IPython.core.magics.execution', 'IPython.core.magics.extension', 'IPython.core.magics.history', 'IPython.core.magics.logging', 'IPython.core.magics.namespace', 'IPython.core.magics.osm', 'IPython.core.magics.packaging', 'IPython.core.pylabtools', 'IPython.core.magics.pylab', 'IPython.lib.backgroundjobs', 'IPython.core.magics.script', 'IPython.core.magics', 'IPython.core.shellapp', 'IPython.extensions', 'IPython.extensions.storemagic', 'IPython.terminal.ipapp', 'IPython.terminal.embed', 'IPython.utils.frame', 'IPython', 'jupyter_client._version', 'zmq.backend.select', 'cython_runtime', 'zmq.backend.cython.constants', '_cython_0_29_21', 'zmq.backend.cython.error', 'zmq.error', 'zmq.backend.cython.message', 'zmq.backend.cython.context', 'zmq.backend.cython.socket', 'zmq.backend.cython.utils', 'zmq.backend.cython._poll', 'zmq.backend.cython._version', 'zmq.backend.cython._device', 'zmq.backend.cython._proxy_steerable', 'zmq.backend.cython', 'zmq.backend', 'zmq.utils', 'zmq.utils.constant_names', 'zmq.sugar.constants', 'zmq.sugar.attrsettr', 'zmq.sugar.poll', 'zmq.utils.strtypes', 'numbers', '_decimal', 'decimal', 'simplejson.errors', 'simplejson.raw_json', 'simplejson.compat', 'simplejson._speedups', 'simplejson.scanner', 'simplejson.decoder', 'simplejson.encoder', 'simplejson', 'zmq.utils.jsonapi', 'zmq.sugar.socket', 'zmq.sugar.context', 'zmq.sugar.frame', 'zmq.sugar.tracker', 'zmq.sugar.version', 'zmq.sugar.stopwatch', 'zmq.sugar', 'zmq', 'zmq._future', 'zmq.asyncio', 'jupyter_client.channelsabc', 'hmac', 'traitlets.log', 'tornado', 'logging.handlers', 'tornado.speedups', 'tornado.util', 'tornado.escape', 'colorama.ansi', 'colorama.win32', 'colorama.winterm', 'colorama.ansitowin32', 'colorama.initialise', 'colorama', 'tornado.log', 'tornado.concurrent', 'tornado.ioloop', 'tornado.platform', 'tornado.gen', 'tornado.platform.asyncio', 'zmq.eventloop.ioloop', 'zmq.eventloop', 'zmq.eventloop.zmqstream', 'jupyter_client.adapter', 'dateutil._version', 'dateutil', 'six', 'dateutil._common', 'dateutil.relativedelta', 'six.moves', 'dateutil.tz._common', 'dateutil.tz._factories', 'dateutil.tz.win', 'dateutil.tz.tz', 'dateutil.tz', 'dateutil.parser._parser', 'dateutil.parser.isoparser', 'dateutil.parser', '_strptime', 'jupyter_client.jsonutil', 'jupyter_client.session', 'jupyter_client.channels', 'jupyter_client.clientabc', 'jupyter_core.version', 'jupyter_core', 'jupyter_core.paths', 'jupyter_client.localinterfaces', 'nest_asyncio', 'jupyter_client.utils', 'jupyter_client.connect', 'jupyter_client.client', 'jupyter_client.asynchronous.client', 'jupyter_client.asynchronous', 'jupyter_client.blocking.client', 'jupyter_client.blocking', 'jupyter_client.launcher', 'jupyter_client.managerabc', 'jupyter_client.kernelspec', 'jupyter_client.manager', 'uuid', 'jupyter_client.multikernelmanager', 'jupyter_client', 'ipykernel.connect', 'ipykernel', 'ipython_genutils.importstring', 'imp', 'ipykernel.iostream', 'ipykernel.heartbeat', 'IPython.utils.tokenutil', 'tornado.locks', 'tornado.queues', 'ipykernel.jsonutil', 'ipykernel.kernelbase', 'ipykernel.comm.comm', 'ipykernel.comm.manager', 'ipykernel.comm', 'IPython.core.payloadpage', 'ipykernel.displayhook', 'ipykernel.codeutil', 'ipykernel.pickleutil', 'ipykernel.serialize', 'ipykernel.datapub', 'ipykernel.zmqshell', 'distutils', 'distutils.version', 'ipykernel.eventloops', 'ipykernel.ipkernel', 'ipykernel.parentpoller', 'ipykernel.kernelapp', 'win32api', 'win32security', 'ntsecuritycon', 'faulthandler', 'IPython.core.completerlib', 'storemagic', 'zmq.utils.garbage'])"
      ]
     },
     "execution_count": 5,
     "metadata": {},
     "output_type": "execute_result"
    }
   ],
   "source": [
    "ml.keys()"
   ]
  },
  {
   "cell_type": "code",
   "execution_count": null,
   "id": "bba823a9",
   "metadata": {},
   "outputs": [],
   "source": [
    "ml.values()"
   ]
  },
  {
   "cell_type": "markdown",
   "id": "eaed63aa",
   "metadata": {},
   "source": [
    "## sys.path:返回模块的搜索路径\n",
    "    初始化时使用PYTHONPATH环境变量的值"
   ]
  },
  {
   "cell_type": "code",
   "execution_count": 6,
   "id": "84a2ebd3",
   "metadata": {},
   "outputs": [
    {
     "data": {
      "text/plain": [
       "['C:\\\\python\\\\function',\n",
       " 'C:\\\\Users\\\\osun\\\\Desktop\\\\Python\\\\Function\\\\testfile',\n",
       " 'C:\\\\work\\\\virtenvs\\\\3p8_64bit_SensiPython_4p0\\\\Scripts\\\\python38.zip',\n",
       " 'C:\\\\Program Files\\\\WinPython38_64bit\\\\python-3.8.6.amd64\\\\DLLs',\n",
       " 'C:\\\\Program Files\\\\WinPython38_64bit\\\\python-3.8.6.amd64\\\\lib',\n",
       " 'C:\\\\Program Files\\\\WinPython38_64bit\\\\python-3.8.6.amd64',\n",
       " 'C:\\\\work\\\\virtenvs\\\\3p8_64bit_SensiPython_4p0',\n",
       " '',\n",
       " 'C:\\\\work\\\\virtenvs\\\\3p8_64bit_SensiPython_4p0\\\\lib\\\\site-packages',\n",
       " 'c:\\\\users\\\\osun\\\\gitlab\\\\python-pm-calib-golden-samples',\n",
       " 'C:\\\\work\\\\virtenvs\\\\3p8_64bit_SensiPython_4p0\\\\lib\\\\site-packages\\\\pylatus',\n",
       " 'C:\\\\work\\\\virtenvs\\\\3p8_64bit_SensiPython_4p0\\\\lib\\\\site-packages\\\\win32',\n",
       " 'C:\\\\work\\\\virtenvs\\\\3p8_64bit_SensiPython_4p0\\\\lib\\\\site-packages\\\\win32\\\\lib',\n",
       " 'C:\\\\work\\\\virtenvs\\\\3p8_64bit_SensiPython_4p0\\\\lib\\\\site-packages\\\\Pythonwin',\n",
       " 'C:\\\\work\\\\virtenvs\\\\3p8_64bit_SensiPython_4p0\\\\lib\\\\site-packages\\\\IPython\\\\extensions',\n",
       " 'C:\\\\Users\\\\osun\\\\.ipython']"
      ]
     },
     "execution_count": 6,
     "metadata": {},
     "output_type": "execute_result"
    }
   ],
   "source": [
    "sys.path"
   ]
  },
  {
   "cell_type": "code",
   "execution_count": 7,
   "id": "9c55a9fb",
   "metadata": {},
   "outputs": [],
   "source": [
    "# sys.path.append(r\"..\\Preview\")  #可以把临时要搜索的路径加进去"
   ]
  },
  {
   "cell_type": "markdown",
   "id": "5dad1159",
   "metadata": {},
   "source": [
    "## sys.stdout/stdin/stderr: 标准输出 标准输入  错误输出"
   ]
  },
  {
   "cell_type": "markdown",
   "id": "cced11f2",
   "metadata": {},
   "source": [
    "## sys.exec_prefix:返回平台独立的python文件安装的位置"
   ]
  },
  {
   "cell_type": "code",
   "execution_count": 8,
   "id": "9e1321bc",
   "metadata": {},
   "outputs": [
    {
     "data": {
      "text/plain": [
       "'C:\\\\work\\\\virtenvs\\\\3p8_64bit_SensiPython_4p0'"
      ]
     },
     "execution_count": 8,
     "metadata": {},
     "output_type": "execute_result"
    }
   ],
   "source": [
    "sys.exec_prefix"
   ]
  },
  {
   "cell_type": "code",
   "execution_count": 9,
   "id": "69fee3b8-e1c0-4eb2-a0a1-6d8c3c9f4ff6",
   "metadata": {},
   "outputs": [
    {
     "data": {
      "text/plain": [
       "'C:\\\\work\\\\virtenvs\\\\3p8_64bit_SensiPython_4p0\\\\Scripts\\\\python.exe'"
      ]
     },
     "execution_count": 9,
     "metadata": {},
     "output_type": "execute_result"
    }
   ],
   "source": [
    "sys.executable"
   ]
  },
  {
   "cell_type": "markdown",
   "id": "273404e5",
   "metadata": {},
   "source": [
    "## sys.version_info:Python版本信息"
   ]
  },
  {
   "cell_type": "code",
   "execution_count": null,
   "id": "a1298970",
   "metadata": {},
   "outputs": [],
   "source": [
    "sys.version_info"
   ]
  },
  {
   "cell_type": "markdown",
   "id": "be768d30",
   "metadata": {},
   "source": [
    "## sys.getdefaultencoding():返回当前默认的字符编码格式"
   ]
  },
  {
   "cell_type": "code",
   "execution_count": null,
   "id": "7dffe87f",
   "metadata": {},
   "outputs": [],
   "source": [
    "sys.getdefaultencoding()"
   ]
  },
  {
   "cell_type": "markdown",
   "id": "e0e3c4a0",
   "metadata": {},
   "source": [
    "## sys.exit(n):退出程序，正常退出时exit(0)\n",
    "    直接适用exit()也可以\n",
    "    n是一个表示状态码的整数退出码。0值表示正常（默认值），非零值表示异常。\n",
    "    如果n指定为一个非整数值，则将它打印到sys.stderr并使用退出码1退出"
   ]
  },
  {
   "cell_type": "markdown",
   "id": "178285d3",
   "metadata": {},
   "source": [
    "## sys.version:获取Python解释程序的版本信息"
   ]
  },
  {
   "cell_type": "code",
   "execution_count": null,
   "id": "2a54f21c",
   "metadata": {},
   "outputs": [],
   "source": [
    "sys.version"
   ]
  },
  {
   "cell_type": "markdown",
   "id": "763c9cc2",
   "metadata": {},
   "source": [
    "## sys.executable:Python解释程序路径"
   ]
  },
  {
   "cell_type": "code",
   "execution_count": null,
   "id": "3363b294",
   "metadata": {},
   "outputs": [],
   "source": [
    "sys.executable"
   ]
  },
  {
   "cell_type": "markdown",
   "id": "f7742376",
   "metadata": {},
   "source": [
    "## sys.stdin.readline():从标准输入读一行，会读取末尾的换行符\n",
    "    input函数底层就是调用:sys.stdin.readline()"
   ]
  },
  {
   "cell_type": "code",
   "execution_count": 13,
   "id": "4e5a7486-c86e-4b0f-8243-9661da1a0679",
   "metadata": {},
   "outputs": [
    {
     "data": {
      "text/plain": [
       "''"
      ]
     },
     "execution_count": 13,
     "metadata": {},
     "output_type": "execute_result"
    }
   ],
   "source": [
    "sys.stdin.readline()"
   ]
  },
  {
   "cell_type": "code",
   "execution_count": null,
   "id": "8dedd69e-3a79-4610-93d6-d60f1740366e",
   "metadata": {},
   "outputs": [],
   "source": []
  },
  {
   "cell_type": "markdown",
   "id": "7f534096",
   "metadata": {},
   "source": [
    "## sys.stdout.write():向标准输出写入内容"
   ]
  },
  {
   "cell_type": "code",
   "execution_count": 16,
   "id": "bdc1c95a",
   "metadata": {},
   "outputs": [
    {
     "name": "stdout",
     "output_type": "stream",
     "text": [
      "hello world"
     ]
    }
   ],
   "source": [
    "sys.stdout.write(\"hello world\")   #print就是调用sys.stdout.write"
   ]
  },
  {
   "cell_type": "markdown",
   "id": "482cea73",
   "metadata": {},
   "source": [
    "## sys.getrefcount（对象）:返回对象的引用计数"
   ]
  },
  {
   "cell_type": "code",
   "execution_count": null,
   "id": "f13ef0cb",
   "metadata": {},
   "outputs": [],
   "source": [
    "sys.getrefcount(pickle)"
   ]
  },
  {
   "cell_type": "code",
   "execution_count": null,
   "id": "212e238b",
   "metadata": {},
   "outputs": [],
   "source": []
  }
 ],
 "metadata": {
  "kernelspec": {
   "display_name": "Python 3",
   "language": "python",
   "name": "python3"
  },
  "language_info": {
   "codemirror_mode": {
    "name": "ipython",
    "version": 3
   },
   "file_extension": ".py",
   "mimetype": "text/x-python",
   "name": "python",
   "nbconvert_exporter": "python",
   "pygments_lexer": "ipython3",
   "version": "3.8.6"
  },
  "toc": {
   "base_numbering": 1,
   "nav_menu": {},
   "number_sections": true,
   "sideBar": true,
   "skip_h1_title": false,
   "title_cell": "Table of Contents",
   "title_sidebar": "Contents",
   "toc_cell": false,
   "toc_position": {
    "height": "calc(100% - 180px)",
    "left": "10px",
    "top": "150px",
    "width": "227.512px"
   },
   "toc_section_display": true,
   "toc_window_display": true
  }
 },
 "nbformat": 4,
 "nbformat_minor": 5
}
