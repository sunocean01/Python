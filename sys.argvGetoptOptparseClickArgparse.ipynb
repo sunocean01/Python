{
 "cells": [
  {
   "cell_type": "code",
   "execution_count": 1,
   "id": "a371bfbb",
   "metadata": {},
   "outputs": [],
   "source": [
    "import getopt\n",
    "import sys\n",
    "import optparse\n",
    "import click\n",
    "import colorama     #彩色输出"
   ]
  },
  {
   "cell_type": "markdown",
   "id": "006c9bb2",
   "metadata": {},
   "source": [
    "# sys.argv[]: 输入命令行参数列表\n",
    "    注：在cmd中运行脚本时使用"
   ]
  },
  {
   "cell_type": "code",
   "execution_count": null,
   "id": "8ec73679",
   "metadata": {},
   "outputs": [],
   "source": [
    "# sys.argv[0]: 代表的是脚本本身"
   ]
  },
  {
   "cell_type": "code",
   "execution_count": null,
   "id": "feb650cf",
   "metadata": {},
   "outputs": [],
   "source": [
    "# sys.argv[1:]: 表示后面要输入的命令行参数"
   ]
  },
  {
   "cell_type": "markdown",
   "id": "6b7c09c6",
   "metadata": {},
   "source": [
    "# getopt:getopt 是python模块， 处理命令行参数的，和sys.argv是一样的功能\n",
    "    值针对在cmd中运行该脚本时输入的命令行参数, 类似函数的关键字参数输入\n",
    "    getopt模块有两个函数，两个属性：\n",
    "    函数：\n",
    "        getopt.getopt\n",
    "        getopt.gnu_getopt\n",
    "    属性：\n",
    "        getopt.error\n",
    "        getopt.GetoptError\n",
    "\n",
    "    经常用到的是：getopt函数\n",
    "    getopt.getopt(args, shortopts, longopts=[])\n",
    "        args:       指的是当前脚本接收的参数，它是一个列表，可以通过sys.argv获得\n",
    "        shortopts:  是短参数(必须)　　啥是短参数啊？　　类似于　这样：python test.py -h # 输出帮助信息,注意一个杠\n",
    "        longopts:   是长参数(可选)　　啥是长参数啊？　　类似于　这样：python test.py --help # 输出帮助信息，注意两个杠\n",
    "    返回元组：（opts,args）"
   ]
  },
  {
   "cell_type": "code",
   "execution_count": 4,
   "id": "6baad43b",
   "metadata": {},
   "outputs": [],
   "source": [
    "# opts,args = getopt.getopt(sys.argv[1:],\"ho:\",[\"help\",\"output=\"])\n",
    "# 1. 使用短格式分析串\"ho:\" 。当一个选项只是表示开关状态时，即后面不带附加参数时，在分析串中写入选项字符。当选项后面是带一个附加参数时，在分析串中写入选项字符同时后面加一个\":\" 号 。所以\"ho:\" 就表示\"h\" 是一个开关选项；\"o:\" 则表示后面应该带一个参数。 \n",
    "# 2. 使用长格式分析串列表：[\"help\", \"output=\"] 。长格式串也可以有开关状态，即后面不跟\"=\" 号。如果跟一个等号则表示后面还应有一个参数 。这个长格式表示\"help\" 是一个开关选项；\"output=\" 则表示后面应该带一个参数。 \n",
    "# 3. 调用getopt 函数。函数返回两个列表：opts 和args 。opts 为分析出的格式信息。args 为不属于格式信息的剩余的命令行参数。opts 是一个两元组的列表。每个元素为：( 选项串, 附加参数) 。如果没有附加参数则为空串'' 。\n",
    "# 4. 整个过程使用异常来包含，这样当分析出错时，就可以打印出使用信息来通知用户如何使用这个程序。 \n"
   ]
  },
  {
   "cell_type": "code",
   "execution_count": 5,
   "id": "f91355a8",
   "metadata": {},
   "outputs": [],
   "source": [
    "# 如上面解释的命令行例1： \n",
    "# 'python test.py -h -o file --help --output=out file1 file2'\n",
    "# 或\n",
    "# 'python test.py -h -o file --help --output out file1 file2'\n",
    "    # 在分析完成后，opts 应该是： \n",
    "    # [('-h', ''), ('-o', 'file'), ('--help', ''), ('--output', 'out')]\n",
    "    # 而args 则为： \n",
    "    # ['file1', 'file2']"
   ]
  },
  {
   "cell_type": "code",
   "execution_count": 6,
   "id": "61bc8959",
   "metadata": {},
   "outputs": [],
   "source": [
    "# 例2\n",
    "# opts,args = getopt.getopt(sys.argv[1:],\"n:a:s:\",[\"name=\",\"age=\",\"sex:\"])\n",
    "# print(opts,args,sep='\\n')\n",
    "\n",
    "# D:\\python\\function>python test1.py -n Lili -a 18 -s female student Chinese\n",
    "# opts:\n",
    "# [('-n', 'Lili'), ('-a', '18'), ('-s', 'female')]\n",
    "# args: 相当去其他参数\n",
    "# ['student', 'Chinese']"
   ]
  },
  {
   "cell_type": "markdown",
   "id": "ec2a63a6",
   "metadata": {},
   "source": [
    "# optparse:主要为脚本传递命令参数，第三方库\n",
    "    优点：\n",
    "        1. 有默认值；\n",
    "        2. 可以指定数据类型；\n",
    "        3. "
   ]
  },
  {
   "cell_type": "code",
   "execution_count": 1,
   "id": "500d853c",
   "metadata": {},
   "outputs": [],
   "source": [
    "# usage = r\"python %prog -u/--user <target user> -p/--password <target password>\"   #帮助信息\n",
    "# parser = optparse.OptionParser(usage)                                             #写入上面的帮助信息\n",
    "# parser.add_option('-u','--user',type='string',help='target user',default='root')  #添加选项，属性及默认值\n",
    "# parser.add_option('-p','--password',type='string',help='target password')\n",
    "# options,args = parser.parse_args()                                                #解析添加的内容\n",
    "# print('options:',options)\n",
    "# print('ID:',options.user)            #添加的内容是作为关键字的属性\n",
    "# print('password:',options.password)\n",
    "# print('args:',args)"
   ]
  },
  {
   "cell_type": "code",
   "execution_count": 2,
   "id": "72e380c7",
   "metadata": {},
   "outputs": [],
   "source": [
    "# 例1：\n",
    "# C:\\..\\library>python optparse_module.py -u OSUN -p 12345\n",
    "# options: {'user': 'OSUN', 'password': '12345'}\n",
    "# ID: OSUN\n",
    "# password: 12345\n",
    "# args: []"
   ]
  },
  {
   "cell_type": "code",
   "execution_count": 3,
   "id": "bd0409ea",
   "metadata": {},
   "outputs": [],
   "source": [
    "# 例2：\n",
    "# C:\\..\\library>python optparse_module.py -u OSUN -p 12345 s343y\n",
    "# options: {'user': 'OSUN', 'password': '12345'}\n",
    "# ID: OSUN\n",
    "# password: 12345\n",
    "# args: ['s343y']"
   ]
  },
  {
   "cell_type": "markdown",
   "id": "96cb467b",
   "metadata": {},
   "source": [
    "# argparse: python自己的库\n",
    "    使用步骤:\n",
    "    （1）import argparse 首先导入模块\n",
    "    （2）parser = argparse.ArgumentParser（） 创建一个解析对象\n",
    "    （3）parser.add_argument() 向该对象中添加你要关注的命令行参数和选项\n",
    "    （4）parser.parse_args() 进行解析,一个字典"
   ]
  },
  {
   "cell_type": "code",
   "execution_count": null,
   "id": "f19d6c49",
   "metadata": {},
   "outputs": [],
   "source": [
    "# parser = argparse.ArgumentParser(description='Test for argparse')   #对参数实例化\n",
    "# parser.add_argument('--name','-n',help='name属性,非必要参数')          #添加参数\n",
    "# parser.add_argument('--year','-y',help='year属性,非必要参数')\n",
    "# parser.add_argument('--info','-b',help='info属性,非必要参数')\n",
    "# args = parser.parse_args()  \n",
    "\n",
    "# for i in [args.year,args.name,args.info]:    #args是个类，name,year,info 是它的属性\n",
    "#     print(i)"
   ]
  },
  {
   "cell_type": "markdown",
   "id": "b5cbc97f",
   "metadata": {
    "tags": [],
    "toc-hr-collapsed": true
   },
   "source": [
    "# click：第三方库\n",
    "    官方文档：https://click.palletsprojects.com/en/6.x/"
   ]
  },
  {
   "cell_type": "markdown",
   "id": "9911a621",
   "metadata": {},
   "source": [
    "## click.option:\n",
    "    Click 对argparse 的主要改进在易用性，使用Click 分为两个步骤：\n",
    "        使用 @click.command() 装饰一个函数，使之成为命令行接口；\n",
    "        使用 @click.option() 等装饰函数，为其添加命令行选项等。\n",
    "            \"-x\": 短参数\n",
    "            \"--xxx\": 长参数；注意是2个 -\n",
    "            default: 设置命令行参数的默认值\n",
    "            help: 参数说明\n",
    "            type: 参数类型，可以是 string(不起作用), int, float 等,注意不需要引号\n",
    "            prompt: 当在命令行中没有输入相应的参数时，会根据 prompt 提示用户输入\n",
    "            nargs: 指定命令行参数接收的值的个数, nargs=-1表示可以传入不定数量的参数\n",
    "            metavar：如何在帮助页面表示值\n",
    "\n",
    "    优点：\n",
    "        1. 带有prompt的option，如果在命令行没有输入参数，运行后会提示用户进行输入；\n",
    "        2. type可以指定输入数据的类型，不符合要求的会报错，比如年龄只能是int，姓名只能是string\n",
    "        3. 有默认值；\n",
    "        4. 多个参数输入时，只需在函数上增加一个click.option()函数装饰器即可；"
   ]
  },
  {
   "cell_type": "code",
   "execution_count": 11,
   "id": "20fa6723",
   "metadata": {
    "scrolled": true
   },
   "outputs": [
    {
     "data": {
      "text/plain": [
       "['Abort',\n",
       " 'Argument',\n",
       " 'BOOL',\n",
       " 'BadArgumentUsage',\n",
       " 'BadOptionUsage',\n",
       " 'BadParameter',\n",
       " 'BaseCommand',\n",
       " 'Choice',\n",
       " 'ClickException',\n",
       " 'Command',\n",
       " 'CommandCollection',\n",
       " 'Context',\n",
       " 'DateTime',\n",
       " 'FLOAT',\n",
       " 'File',\n",
       " 'FileError',\n",
       " 'FloatRange',\n",
       " 'Group',\n",
       " 'HelpFormatter',\n",
       " 'INT',\n",
       " 'IntRange',\n",
       " 'MissingParameter',\n",
       " 'MultiCommand',\n",
       " 'NoSuchOption',\n",
       " 'Option',\n",
       " 'OptionParser',\n",
       " 'ParamType',\n",
       " 'Parameter',\n",
       " 'Path',\n",
       " 'STRING',\n",
       " 'Tuple',\n",
       " 'UNPROCESSED',\n",
       " 'UUID',\n",
       " 'UsageError',\n",
       " 'argument',\n",
       " 'clear',\n",
       " 'command',\n",
       " 'confirm',\n",
       " 'confirmation_option',\n",
       " 'core',\n",
       " 'decorators',\n",
       " 'echo',\n",
       " 'echo_via_pager',\n",
       " 'edit',\n",
       " 'exceptions',\n",
       " 'format_filename',\n",
       " 'formatting',\n",
       " 'get_app_dir',\n",
       " 'get_binary_stream',\n",
       " 'get_current_context',\n",
       " 'get_os_args',\n",
       " 'get_terminal_size',\n",
       " 'get_text_stream',\n",
       " 'getchar',\n",
       " 'globals',\n",
       " 'group',\n",
       " 'help_option',\n",
       " 'launch',\n",
       " 'make_pass_decorator',\n",
       " 'open_file',\n",
       " 'option',\n",
       " 'parser',\n",
       " 'pass_context',\n",
       " 'pass_obj',\n",
       " 'password_option',\n",
       " 'pause',\n",
       " 'progressbar',\n",
       " 'prompt',\n",
       " 'secho',\n",
       " 'style',\n",
       " 'termui',\n",
       " 'types',\n",
       " 'unstyle',\n",
       " 'utils',\n",
       " 'version_option',\n",
       " 'wrap_text']"
      ]
     },
     "execution_count": 11,
     "metadata": {},
     "output_type": "execute_result"
    }
   ],
   "source": [
    "[x for x in dir(click) if not x.startswith(\"_\")]"
   ]
  },
  {
   "cell_type": "code",
   "execution_count": 7,
   "id": "5ce10d3f",
   "metadata": {},
   "outputs": [],
   "source": [
    "# 例1： click overview\n",
    "# @click.command()\n",
    "# @click.option(\"-n\",       #短参数\n",
    "#               --name\",              #要输入的长参数内容\n",
    "#               prompt=\"Your name\",    #如果用户没有在命令行输入，运行后会提示用户输入\n",
    "#               type=string,           #要输入的数据类型，不符合的会提示错误\n",
    "#               default=\"ZhangSan\",    #用户如果没有输入，可以使用默认值；\n",
    "#               nargs = 1,             #参数的个数\n",
    "#               help=\"help info: Name\" #帮助信息\n",
    "#               show_default=True，   #默认值在帮助信息中显示\n",
    "#               required = True，     #表示该参数必须传参，否则会出现错误\n",
    "#              )\n",
    "# @click.option(\"--age\",prompt=\"Your age\",type=int,default=18,help=\"help info: Age\")\n",
    "# @click.option(\"--sex\",prompt=\"Your sex\",type=string,default='male',help=\"help info: Sex\")\n",
    "# def hello(name,age,sex):   #click就是函数装饰器形式使用，所以这个地方必须用函数；\n",
    "#     click.echo(\"Name:{}\".format(name))   #也可以 print(name)\n",
    "#     click.echo(\"Age:{}\".format(age))\n",
    "#     click.echo(\"Sex:{}\".format(sex))\n",
    "    \n",
    "# hello()  #函数可以不用传参数"
   ]
  },
  {
   "cell_type": "code",
   "execution_count": 12,
   "id": "01e018f0",
   "metadata": {},
   "outputs": [],
   "source": [
    "# 例2：指定type, 比如要输入的比率只能是float型\n",
    "# @click.command()\n",
    "# @click.option(\"--ratio\",type=float,prompt=\"ratio\",help=\"input ratio\")\n",
    "# def ratioinput(ratio):\n",
    "# \tclick.echo(\"The ratio is:{}\".format(ratio))\n",
    "# ratio()\n",
    "\n",
    "# 输入方式1：\n",
    "    # D:\\python\\function>python click_module.py -r 3.1\n",
    "    # The ratio is:3.1\n",
    "    \n",
    "# 输入方式2：\n",
    "    # D:\\python\\function>python click_module.py\n",
    "    # ratio: 3.1\n",
    "    # The ratio is:3.1"
   ]
  },
  {
   "cell_type": "code",
   "execution_count": 13,
   "id": "b7fb8015",
   "metadata": {},
   "outputs": [],
   "source": [
    "# 例3：设置默认值，default\n",
    "# @click.command()\n",
    "# @click.option(\"-c\",\"--city\",prompt=\"Input City\",default=\"ShangHai\",help=\"City\")\n",
    "# def cityinput(city):\n",
    "# \tclick.echo(f\"The city is {city}\")\n",
    "# cityinput()\n",
    "\n",
    "# 输入：\n",
    "# D:\\python\\function>python click_module.py\n",
    "# Input City [ShangHai]:\n",
    "# The city is ShangHai"
   ]
  },
  {
   "cell_type": "code",
   "execution_count": null,
   "id": "44db0eec",
   "metadata": {},
   "outputs": [],
   "source": [
    "# 例4：type=click.Choice([]), 指定可选值，比如性别，只能选male或female\n",
    "# @click.command()\n",
    "# @click.option(\"--gender\",type=click.Choice([\"male\",\"female\"]),prompt=\"gender\")\n",
    "# def genderinput(gender):\n",
    "#     click.echo(f\"The gender is:{gender}\")\n",
    "    \n",
    "# genderinput()"
   ]
  },
  {
   "cell_type": "code",
   "execution_count": 15,
   "id": "bccdfde4",
   "metadata": {},
   "outputs": [],
   "source": [
    "# 例5：required=True,表示必须传参，否则出现错误\n",
    "# @click.command()\n",
    "# @click.option(\"-i\",\"--id\",help=\"id\",required=True)\n",
    "# def idinput(id):\n",
    "#     click.echo(f\"The id is {id}\")\n",
    "# idinput()"
   ]
  },
  {
   "cell_type": "code",
   "execution_count": 16,
   "id": "23fd4e67",
   "metadata": {},
   "outputs": [],
   "source": [
    "# 例6：nargs:多值参数,比如现在要选择两种颜色\n",
    "# @click.command()\n",
    "# @click.option(\"-c\",\"--color\",nargs=2,help=\"color\")\n",
    "# def cinput(color):\n",
    "# \tclick.echo(f\"The color is {color[0]} + {color[1]}\")\n",
    "# cinput()"
   ]
  },
  {
   "cell_type": "code",
   "execution_count": null,
   "id": "01db4c19",
   "metadata": {},
   "outputs": [],
   "source": [
    "# 例7：hide_input 用于隐藏输入，confirmation_promt 用于重复输入;比如密码输入,注意这个地方的prompt=True\n",
    "# @click.command()\n",
    "# @click.option(\"-p\",\"--password\",prompt=True,hide_input=True,confirmation_prompt=True)\n",
    "# def pwinput(password):\n",
    "# \tclick.echo(f\"password is {password}\")\n",
    "# pwinput()\n",
    "\n",
    "\n",
    "# click提供的默认密码输入：\n",
    "# @click.command()\n",
    "# @click.password_option()\n",
    "# def dfpwinput(password):   #注意这个地方关键字必须是“password”\n",
    "#     click.echo(password)\n",
    "# dfpwinput()"
   ]
  },
  {
   "cell_type": "markdown",
   "id": "c1847504",
   "metadata": {},
   "source": [
    "## click.argument():添加固定参数\n",
    "    我们除了使用 @click.option 来添加可选参数，还会经常使用 @click.argument\n",
    "    它的使用和 option 类似，但支持的功能比 option 少。\n",
    "    \n",
    "    @click.argument 可用用来输入：\n",
    "        1. 固定参数；\n",
    "        2. 不定参数；"
   ]
  },
  {
   "cell_type": "markdown",
   "id": "acef2436",
   "metadata": {},
   "source": [
    "### 定参输入"
   ]
  },
  {
   "cell_type": "code",
   "execution_count": 18,
   "id": "eef58ab0",
   "metadata": {},
   "outputs": [],
   "source": [
    "# 例1：定参输入， 入门，参数基本同option\n",
    "# @click.command()\n",
    "# @click.argument(\"coordinates_name\")   #参数中字母不能有大写，否则报错\n",
    "# def crdshow(coordinates_name):\n",
    "#     click.echo(f\"{coordinates_name}\")\n",
    "\n",
    "# '''\n",
    "# 错误用法一：缺少参数\n",
    "#     D:\\python\\function>python click_module.py\n",
    "#     Usage: click_module.py [OPTIONS] COORDINATES\n",
    "#     Try 'click_module.py --help' for help.\n",
    "\n",
    "#     Error: Missing argument 'COORDINATES'.\n",
    "\n",
    "# 错误用法二：和option一样赋值\n",
    "#     D:\\python\\function>python click_module.py --coordinates tst\n",
    "#     Usage: click_module.py [OPTIONS] COORDINATES\n",
    "#     Try 'click_module.py --help' for help.\n",
    "\n",
    "#     Error: No such option: --coordinates\n",
    "\n",
    "# 正确用法：直接赋值\n",
    "#     D:\\python\\function>python click_module.py tst\n",
    "#     tst\n",
    "# '''"
   ]
  },
  {
   "cell_type": "code",
   "execution_count": null,
   "id": "c51c5ba0",
   "metadata": {},
   "outputs": [],
   "source": [
    "# 例2：定参输入， 多个argument，参数输入时依次输入\n",
    "# @click.command()\n",
    "# @click.argument(\"x\")\n",
    "# @click.argument(\"y\")\n",
    "# @click.argument(\"z\")\n",
    "# def axsshow(x,y,z):\n",
    "#     click.echo(f\"x:{x}\")\n",
    "#     click.echo(f\"y:{y}\")\n",
    "#     click.echo(f\"z:{z}\")\n",
    "\n",
    "# 正确传参方式：\n",
    "    # D:\\python\\function>python click_module.py 10 15 20\n",
    "    # x:10\n",
    "    # y:15\n",
    "    # z:20"
   ]
  },
  {
   "cell_type": "markdown",
   "id": "a77057f6",
   "metadata": {},
   "source": [
    "### 不定参输入"
   ]
  },
  {
   "cell_type": "code",
   "execution_count": 19,
   "id": "4ca9a891",
   "metadata": {},
   "outputs": [],
   "source": [
    "# 例3：不定参输入\n",
    "# @click.command()\n",
    "# @click.argument(\"src\",nargs=-1)   #传入不定参数\n",
    "# @click.argument(\"dst\",nargs=1)    #最后一个参数作为此参数\n",
    "# def move(src,dst):\n",
    "#     click.echo(f\"move {src} to {dst}\")\n",
    "\n",
    "# move()\n",
    "\n",
    "# 输入方式：\n",
    "    # D:\\python\\function>python click_module.py file1 file2 trash\n",
    "    # move ('file1', 'file2') to trash"
   ]
  },
  {
   "cell_type": "markdown",
   "id": "413891c0",
   "metadata": {},
   "source": [
    "### click.File() ：通过文件名参数对文件进行操作"
   ]
  },
  {
   "cell_type": "code",
   "execution_count": 20,
   "id": "fd34c0db",
   "metadata": {},
   "outputs": [],
   "source": [
    "# @click.command()\n",
    "# @click.argument(\"clickinput\",type=click.File('r'))\n",
    "# @click.argument(\"clickoutput\",type=click.File('w'))\n",
    "# def inout(clickinput,clickoutput):\n",
    "# \twhile True:\n",
    "# \t\tchunk = clickinput.read()\n",
    "# \t\tif not chunk:\n",
    "# \t\t\tbreak\n",
    "# \t\tclickoutput.write(chunk)\n",
    "\n",
    "# 输入方式：注意要有文件的后缀名\n",
    "# D:\\python\\function>python click_module.py clickinput.txt clickoutput.txt"
   ]
  },
  {
   "cell_type": "markdown",
   "id": "6e8ddda0",
   "metadata": {},
   "source": [
    "###  click.secho 进行彩色输出\n",
    "    click.secho(fg,bg,underline):\n",
    "        fg 表示前景颜色（即字体颜色），可选值有：BLACK, RED, GREEN, YELLOW, BLUE, MAGENTA, CYAN, WHITE 等；\n",
    "        bg 表示背景颜色，可选值有：BLACK, RED, GREEN, YELLOW, BLUE, MAGENTA, CYAN, WHITE 等；\n",
    "        underline 表示下划线，可选的样式还有：dim=True，bold=True 等；"
   ]
  },
  {
   "cell_type": "code",
   "execution_count": 22,
   "id": "6a419394",
   "metadata": {},
   "outputs": [],
   "source": [
    "# @click.command()\n",
    "# @click.option(\"-n\",\"--name\",prompt=\"name\",help=\"student name\")\n",
    "# def colorshow(name):\n",
    "# \tclick.secho(f\"Hello {name}\",fg=\"green\",underline=True)\n",
    "# \tclick.secho(f\"Hello {name}\",fg=\"yellow\",bg=\"black\")\n",
    "\n",
    "\n",
    "# 正确输入：\n",
    "# D:\\python\\function>python click_module.py\n",
    "# name: osun\n",
    "# Hello osun   #绿色\n",
    "# Hello osun   #黄色"
   ]
  },
  {
   "cell_type": "markdown",
   "id": "8437af04",
   "metadata": {},
   "source": [
    "## option vs argument:\n",
    "    Click 通过 click.option() 添加可选参数，通过 click.argument() 来添加有可能可选的参数\n",
    "    以下几点是两个的区别：\n",
    "    需要提示补全输入的时候使用 option()\n",
    "    标志位(flag or acts) 使用 option()\n",
    "    option的值可以从环境变量获取，而argument不行\n",
    "    option的值会在帮助里面列出，而argument不能"
   ]
  },
  {
   "cell_type": "markdown",
   "id": "ce087978",
   "metadata": {},
   "source": [
    "## 安装打包"
   ]
  },
  {
   "cell_type": "code",
   "execution_count": 2,
   "id": "55ba585b",
   "metadata": {},
   "outputs": [],
   "source": [
    "# Click 支持使用 setuptools 来更好的实现命令行程序打包，把源码文件打包成系统中的可执行程序，\n",
    "# 并且不限平台。一般我们会在源码根目录下创建 setup.py 脚本，先看一段简单的打包代码\n",
    "# https://blog.csdn.net/weixin_38278993/article/details/100052961"
   ]
  },
  {
   "cell_type": "code",
   "execution_count": null,
   "id": "48b19128",
   "metadata": {},
   "outputs": [],
   "source": []
  },
  {
   "cell_type": "code",
   "execution_count": 3,
   "id": "1f651efc",
   "metadata": {},
   "outputs": [
    {
     "data": {
      "text/plain": [
       "['AnsiToWin32',\n",
       " 'Back',\n",
       " 'Cursor',\n",
       " 'Fore',\n",
       " 'Style',\n",
       " '__builtins__',\n",
       " '__cached__',\n",
       " '__doc__',\n",
       " '__file__',\n",
       " '__loader__',\n",
       " '__name__',\n",
       " '__package__',\n",
       " '__path__',\n",
       " '__spec__',\n",
       " '__version__',\n",
       " 'ansi',\n",
       " 'ansitowin32',\n",
       " 'colorama_text',\n",
       " 'deinit',\n",
       " 'init',\n",
       " 'initialise',\n",
       " 'reinit',\n",
       " 'win32',\n",
       " 'winterm']"
      ]
     },
     "execution_count": 3,
     "metadata": {},
     "output_type": "execute_result"
    }
   ],
   "source": [
    "dir(colorama)"
   ]
  },
  {
   "cell_type": "code",
   "execution_count": null,
   "id": "661d72bb",
   "metadata": {},
   "outputs": [],
   "source": []
  }
 ],
 "metadata": {
  "kernelspec": {
   "display_name": "Python 38",
   "language": "python",
   "name": "python3"
  },
  "language_info": {
   "codemirror_mode": {
    "name": "ipython",
    "version": 3
   },
   "file_extension": ".py",
   "mimetype": "text/x-python",
   "name": "python",
   "nbconvert_exporter": "python",
   "pygments_lexer": "ipython3",
   "version": "3.8.6"
  },
  "toc": {
   "base_numbering": 1,
   "nav_menu": {},
   "number_sections": true,
   "sideBar": true,
   "skip_h1_title": false,
   "title_cell": "Table of Contents",
   "title_sidebar": "Contents",
   "toc_cell": false,
   "toc_position": {
    "height": "calc(100% - 180px)",
    "left": "10px",
    "top": "150px",
    "width": "291.513px"
   },
   "toc_section_display": true,
   "toc_window_display": true
  }
 },
 "nbformat": 4,
 "nbformat_minor": 5
}
