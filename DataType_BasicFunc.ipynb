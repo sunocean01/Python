{
 "cells": [
  {
   "cell_type": "code",
   "execution_count": null,
   "id": "46a7331d",
   "metadata": {},
   "outputs": [],
   "source": [
    "import pandas as pd\n",
    "import csv"
   ]
  },
  {
   "cell_type": "markdown",
   "id": "e0051c44",
   "metadata": {},
   "source": [
    "# 运算符"
   ]
  },
  {
   "cell_type": "markdown",
   "id": "95078877",
   "metadata": {},
   "source": [
    "## 算术运算符：\n",
    "    +\t加 - 两个对象相加\t                       a + b 输出结果 31\n",
    "    -\t减 - 得到负数或是一个数减去另一个数\t            a - b 输出结果 -11\n",
    "    *\t乘 - 两个数相乘或是返回一个被重复若干次的字符串\t   a * b 输出结果 210\n",
    "    /\t除 - x 除以 y\t                          b / a 输出结果 2.1\n",
    "    %\t取模 - 返回除法的余数\t                    b % a 输出结果 1\n",
    "    **\t幂 - 返回x的y次幂\t                        a**b 为10的21次方\n",
    "    //\t取整除 - 向下取接近商的整数"
   ]
  },
  {
   "cell_type": "markdown",
   "id": "ad5ec8c8",
   "metadata": {},
   "source": [
    "## 比较运算符\n",
    "    ==\t等于 - 比较对象是否相等\n",
    "    !=\t不等于 - 比较两个对象是否不相等\n",
    "    >\t大于 - 返回x是否大于y\n",
    "    <\t小于 - 返回x是否小于y。\n",
    "    >=\t大于等于 - 返回x是否大于等于y。\t\n",
    "    <=\t小于等于 - 返回x是否小于等于y。\n",
    "    所有比较运算符返回1表示真，返回0表示假。这分别与特殊的变量True和False等价。注意，这些变量名的大写。\n"
   ]
  },
  {
   "cell_type": "markdown",
   "id": "47131c11",
   "metadata": {},
   "source": [
    "## 赋值运算符\n",
    "    =\t简单的赋值运算符\n",
    "    +=\t加法赋值运算符\t\n",
    "    -=\t减法赋值运算符\t\n",
    "    *=\t乘法赋值运算符\t\n",
    "    /=\t除法赋值运算符\t\n",
    "    %=\t取模赋值运算符\t\n",
    "    **=\t幂赋值运算符\t\n",
    "    //=\t取整除赋值运算符\n",
    "    :=\t海象运算符，可在表达式内部为变量赋值。Python3.8 版本新增运算符。"
   ]
  },
  {
   "cell_type": "markdown",
   "id": "e1207c45",
   "metadata": {},
   "source": [
    "## 位运算符\n",
    "    &\t按位与运算符：参与运算的两个值,如果两个相应位都为1,则该位的结果为1,否则为0\t\n",
    "    |\t按位或运算符：只要对应的二个二进位有一个为1时，结果位就为1。\t\n",
    "    ^\t按位异或运算符：当两对应的二进位相异时，结果为1\t\n",
    "    ~\t按位取反运算符：对数据的每个二进制位取反,即把1变为0,把0变为1。~x 类似于 -x-1\t\n",
    "    <<\t左移动运算符：运算数的各二进位全部左移若干位，由\"<<\"右边的数指定移动的位数，高位丢弃，低位补0。\t\n",
    "    >>\t右移动运算符：把\">>\"左边的运算数的各二进位全部右移若干位，\">>\"右边的数指定移动的位数"
   ]
  },
  {
   "cell_type": "markdown",
   "id": "b7d81d56",
   "metadata": {},
   "source": [
    "## 逻辑运算符\n",
    "    and：\tx and y\t布尔\"与\" - 如果 x 为 False，x and y 返回 x 的值，否则返回 y 的计算值。\n",
    "    or：\tx or y\t布尔\"或\" - 如果 x 是 True，它返回 x 的值，否则它返回 y 的计算值。\n",
    "    not：\tnot x\t布尔\"非\" - 如果 x 为 True，返回 False 。如果 x 为 False，它返回 True。"
   ]
  },
  {
   "cell_type": "markdown",
   "id": "87433e64",
   "metadata": {},
   "source": [
    "## 成员运算符\n",
    "    in\t如果在指定的序列中找到值返回 True，否则返回 False。\tx 在 y 序列中 , 如果 x 在 y 序列中返回 True。\n",
    "    not in\t如果在指定的序列中没有找到值返回 True，否则返回 False。\t如果 x 不在 y 序列中返回 True。"
   ]
  },
  {
   "cell_type": "markdown",
   "id": "4eafd9c1",
   "metadata": {},
   "source": [
    "## 身份运算符\n",
    "is：\tis 是判断两个标识符是不是引用自一个对象\tx is y, 类似 id(x) == id(y) , 如果引用的是同一个对象则返回 True，否则返回 False\n",
    "is not：\tis not 是判断两个标识符是不是引用自不同对象\tx is not y ， 类似 id(a) != id(b)。如果引用的不是同一个对象则返回结果 True，否则返回 False。"
   ]
  },
  {
   "cell_type": "markdown",
   "id": "e993307b",
   "metadata": {},
   "source": [
    "## 运算符优先级\n",
    "    以下表格列出了从最高到最低优先级的所有运算符：\n",
    "    **：\t指数 (最高优先级)\n",
    "    ~ + -：\t按位翻转, 一元加号和减号 (最后两个的方法名为 +@ 和 -@)\n",
    "    * / % //：\t乘，除，求余数和取整除\n",
    "    + -\t：加法减法\n",
    "    >> <<：\t右移，左移运算符\n",
    "    &\t位 'AND'\n",
    "    ^ |\t位运算符\n",
    "    <= < > >=\t比较运算符\n",
    "    == !=\t等于运算符\n",
    "    = %= /= //= -= += *= **=\t赋值运算符\n",
    "    is is not\t身份运算符\n",
    "    in not in\t成员运算符\n",
    "    not and or\t逻辑运算符"
   ]
  },
  {
   "cell_type": "markdown",
   "id": "029309f3",
   "metadata": {
    "tags": []
   },
   "source": [
    "# 字符串"
   ]
  },
  {
   "cell_type": "code",
   "execution_count": null,
   "id": "de703a27",
   "metadata": {},
   "outputs": [],
   "source": [
    "[ s for s in dir(str) if not s.startswith(\"_\")]"
   ]
  },
  {
   "cell_type": "markdown",
   "id": "91854ccc",
   "metadata": {},
   "source": [
    "## +:字符串的连接"
   ]
  },
  {
   "cell_type": "code",
   "execution_count": null,
   "id": "fa34c401",
   "metadata": {},
   "outputs": [],
   "source": [
    "\"python\" + \"-\" + \"sensirion\""
   ]
  },
  {
   "cell_type": "markdown",
   "id": "b2aa0298",
   "metadata": {},
   "source": [
    "## *:重复输出字符串"
   ]
  },
  {
   "cell_type": "code",
   "execution_count": null,
   "id": "8f2bf714",
   "metadata": {},
   "outputs": [],
   "source": [
    "\"a\" * 3"
   ]
  },
  {
   "cell_type": "markdown",
   "id": "83d585b7",
   "metadata": {},
   "source": [
    "## []:通过索引获取字符串中字符"
   ]
  },
  {
   "cell_type": "code",
   "execution_count": null,
   "id": "8685157a",
   "metadata": {},
   "outputs": [],
   "source": [
    "\"python\"[3]"
   ]
  },
  {
   "cell_type": "markdown",
   "id": "4ea1f9b2",
   "metadata": {},
   "source": [
    "## [:]:截取字符串中的一部分"
   ]
  },
  {
   "cell_type": "code",
   "execution_count": null,
   "id": "5d4b6166",
   "metadata": {},
   "outputs": [],
   "source": [
    "\"python\"[:3]   #包前不包后"
   ]
  },
  {
   "cell_type": "code",
   "execution_count": null,
   "id": "61aaace7",
   "metadata": {},
   "outputs": [],
   "source": [
    "\"sensirion\"[-5:-2]   #包后不包前"
   ]
  },
  {
   "cell_type": "markdown",
   "id": "70e24774",
   "metadata": {},
   "source": [
    "## in: 成员运算符 - 如果字符串中包含给定的字符返回 True"
   ]
  },
  {
   "cell_type": "code",
   "execution_count": null,
   "id": "de5bbe71",
   "metadata": {},
   "outputs": [],
   "source": [
    "'h' in \"python\""
   ]
  },
  {
   "cell_type": "code",
   "execution_count": null,
   "id": "32fa3d41",
   "metadata": {},
   "outputs": [],
   "source": [
    "'o' in \"sensirion\""
   ]
  },
  {
   "cell_type": "markdown",
   "id": "e66f49c8",
   "metadata": {},
   "source": [
    "## not in: 成员运算符 - 如果字符串中不包含给定的字符返回 True"
   ]
  },
  {
   "cell_type": "code",
   "execution_count": null,
   "id": "cc40b4e6",
   "metadata": {},
   "outputs": [],
   "source": [
    "'o' not in \"sensiron\""
   ]
  },
  {
   "cell_type": "markdown",
   "id": "da67e7a5",
   "metadata": {},
   "source": [
    "## r/R: 不转义"
   ]
  },
  {
   "cell_type": "code",
   "execution_count": null,
   "id": "f322f23d",
   "metadata": {},
   "outputs": [],
   "source": [
    "print(\"ghjfd\\njhfhjfl\")"
   ]
  },
  {
   "cell_type": "code",
   "execution_count": null,
   "id": "47e581c6",
   "metadata": {},
   "outputs": [],
   "source": [
    "print(r\"ghjfd\\njhfhjfl\")"
   ]
  },
  {
   "cell_type": "markdown",
   "id": "a0ae09ed",
   "metadata": {},
   "source": [
    "## str.format:字符串格式化\n",
    "    1. ^, <, > 分别是居中、左对齐、右对齐，后面带宽度， : 号后面带填充的字符，只能是一个字符，不指定则默认是用空格填充。\n",
    "    2. + 表示在正数前显示 +，负数前显示 -；  （空格）表示在正数前加空格\n",
    "    3. b、d、o、x 分别是二进制、十进制、八进制、十六进制。"
   ]
  },
  {
   "cell_type": "markdown",
   "id": "3ece9e40",
   "metadata": {},
   "source": [
    "### {:.2f}：保留小数点后两位"
   ]
  },
  {
   "cell_type": "code",
   "execution_count": null,
   "id": "407b59c0",
   "metadata": {},
   "outputs": [],
   "source": [
    "\"{:.2f}\".format(3.1415926)"
   ]
  },
  {
   "cell_type": "markdown",
   "id": "f428de7f",
   "metadata": {},
   "source": [
    "### {:+.2f}: 带符号保留小数点后两位"
   ]
  },
  {
   "cell_type": "code",
   "execution_count": null,
   "id": "721fc9eb",
   "metadata": {},
   "outputs": [],
   "source": [
    "\"{:+.2f}\".format(3.1415926)"
   ]
  },
  {
   "cell_type": "code",
   "execution_count": null,
   "id": "e2738f10",
   "metadata": {},
   "outputs": [],
   "source": [
    "\"{:+.2f}\".format(-1)"
   ]
  },
  {
   "cell_type": "markdown",
   "id": "60cb9350",
   "metadata": {},
   "source": [
    "### {:.0f}: 不带小数,四舍五入"
   ]
  },
  {
   "cell_type": "code",
   "execution_count": null,
   "id": "2c7e2837",
   "metadata": {},
   "outputs": [],
   "source": [
    "\"{:.0f}\".format(2.71828)"
   ]
  },
  {
   "cell_type": "markdown",
   "id": "47526b0f",
   "metadata": {},
   "source": [
    "### {:x>2d}:  宽度为2,靠右对齐，左侧用x填充，x可选，如果有：只能是一个字符"
   ]
  },
  {
   "cell_type": "code",
   "execution_count": null,
   "id": "b4af923d",
   "metadata": {},
   "outputs": [],
   "source": [
    "\"{:a>2d}\".format(5)"
   ]
  },
  {
   "cell_type": "code",
   "execution_count": null,
   "id": "b99af6e9",
   "metadata": {},
   "outputs": [],
   "source": [
    "\"{:>10d}\".format(13)    #宽度为10，靠右对齐"
   ]
  },
  {
   "cell_type": "markdown",
   "id": "3e834e88",
   "metadata": {},
   "source": [
    "### {:x<4d}:数字补x (填充右边, 宽度为4)， x可选，如果有：只能是一个字符"
   ]
  },
  {
   "cell_type": "code",
   "execution_count": null,
   "id": "a5992bda",
   "metadata": {},
   "outputs": [],
   "source": [
    "\"{:x<4d}\".format(5)"
   ]
  },
  {
   "cell_type": "code",
   "execution_count": null,
   "id": "6fc863a0",
   "metadata": {},
   "outputs": [],
   "source": [
    "\"{:<10d}\".format(13)    #宽度为10，靠右对齐"
   ]
  },
  {
   "cell_type": "markdown",
   "id": "03f768b9",
   "metadata": {},
   "source": [
    "### {:,}: 以逗号分隔的数字格式"
   ]
  },
  {
   "cell_type": "code",
   "execution_count": null,
   "id": "d789e1f6",
   "metadata": {},
   "outputs": [],
   "source": [
    "\"{:,}\".format(1000000)"
   ]
  },
  {
   "cell_type": "markdown",
   "id": "8b734e19",
   "metadata": {},
   "source": [
    "### {:.2%}:百分比格式,保留2位小数"
   ]
  },
  {
   "cell_type": "code",
   "execution_count": null,
   "id": "63a0a7c5",
   "metadata": {},
   "outputs": [],
   "source": [
    "\"{:.3%}\".format(0.25)"
   ]
  },
  {
   "cell_type": "markdown",
   "id": "d61a5d5d",
   "metadata": {},
   "source": [
    "### {:.2e}: 指数记法，保留2位小数"
   ]
  },
  {
   "cell_type": "code",
   "execution_count": null,
   "id": "9a5cec07",
   "metadata": {},
   "outputs": [],
   "source": [
    "\"{:.2e}\".format(1000000000)"
   ]
  },
  {
   "cell_type": "markdown",
   "id": "589948fa",
   "metadata": {},
   "source": [
    "### 进制转换：b、d、o、x 分别是二进制、十进制、八进制、十六进制。"
   ]
  },
  {
   "cell_type": "code",
   "execution_count": null,
   "id": "d5a0520a",
   "metadata": {},
   "outputs": [],
   "source": [
    "\"{:b}\".format(11)"
   ]
  },
  {
   "cell_type": "code",
   "execution_count": null,
   "id": "102c8e1c",
   "metadata": {},
   "outputs": [],
   "source": [
    "\"{:d}\".format(11)"
   ]
  },
  {
   "cell_type": "code",
   "execution_count": null,
   "id": "380228bc",
   "metadata": {},
   "outputs": [],
   "source": [
    "\"{:o}\".format(11)"
   ]
  },
  {
   "cell_type": "code",
   "execution_count": null,
   "id": "a5a9154b",
   "metadata": {},
   "outputs": [],
   "source": [
    "\"{:x}\".format(11)"
   ]
  },
  {
   "cell_type": "markdown",
   "id": "56d1e767",
   "metadata": {},
   "source": [
    "### {{}}:用{}转义{}"
   ]
  },
  {
   "cell_type": "code",
   "execution_count": null,
   "id": "00adb570",
   "metadata": {},
   "outputs": [],
   "source": [
    "\"{0}位置:{{0}}\".format('tst')"
   ]
  },
  {
   "cell_type": "markdown",
   "id": "d17070f0",
   "metadata": {},
   "source": [
    "## 字符串方法："
   ]
  },
  {
   "cell_type": "markdown",
   "id": "cac271f1",
   "metadata": {},
   "source": [
    "### capitalize():把字符串的第一个字符大写"
   ]
  },
  {
   "cell_type": "code",
   "execution_count": null,
   "id": "ef06d053",
   "metadata": {},
   "outputs": [],
   "source": [
    "\"python\".capitalize()"
   ]
  },
  {
   "cell_type": "markdown",
   "id": "7341e6ac",
   "metadata": {},
   "source": [
    "### center(with):返回一个原字符串居中,并使用空格填充至长度 width 的新字符串"
   ]
  },
  {
   "cell_type": "code",
   "execution_count": null,
   "id": "12cab680",
   "metadata": {},
   "outputs": [],
   "source": [
    "\"python\".center(20)"
   ]
  },
  {
   "cell_type": "markdown",
   "id": "98556d47",
   "metadata": {},
   "source": [
    "### count():返回 str 在 string 里面出现的次数，\n",
    "    count(str, beg=0, end=len(string)):如果 beg 或者 end 指定则返回指定范围内 str 出现的次数"
   ]
  },
  {
   "cell_type": "code",
   "execution_count": null,
   "id": "c26b2c70",
   "metadata": {},
   "outputs": [],
   "source": [
    "\"sensirion\".count('s')"
   ]
  },
  {
   "cell_type": "markdown",
   "id": "a738c7a9",
   "metadata": {},
   "source": [
    "### decode():解码字符串\n",
    "    string.decode(encoding='UTF-8', errors='strict'):以 encoding 指定的编码格式解码 string，如果出错默认报一个 ValueError 的 异 常 ， 除非 errors 指 定 的 是 'ignore' 或 者'replace'"
   ]
  },
  {
   "cell_type": "code",
   "execution_count": null,
   "id": "3b0756dc",
   "metadata": {},
   "outputs": [],
   "source": [
    "b'python'.decode('utf8')"
   ]
  },
  {
   "cell_type": "markdown",
   "id": "42ddcf8d",
   "metadata": {},
   "source": [
    "### encode():编码字符串\n",
    "    string.encode(encoding='UTF-8', errors='strict')：以 encoding 指定的编码格式编码 string，如果出错默认报一个ValueError 的异常，除非 errors 指定的是'ignore'或者'replace'"
   ]
  },
  {
   "cell_type": "markdown",
   "id": "848c8462",
   "metadata": {},
   "source": [
    "### endswith(obj,beg=0,end=len(string)):检查是否以obj结尾，返回bool"
   ]
  },
  {
   "cell_type": "code",
   "execution_count": null,
   "id": "172a34fe",
   "metadata": {},
   "outputs": [],
   "source": [
    "\"python\".endswith('n')"
   ]
  },
  {
   "cell_type": "markdown",
   "id": "f886c2fc",
   "metadata": {},
   "source": [
    "### expandtabs(): 将字符串中的tab转换成空格\n",
    "    string.expandtabs(tabsize=8):把字符串 string 中的 tab 符号转为空格，tab 符号默认的空格数是 8。"
   ]
  },
  {
   "cell_type": "code",
   "execution_count": null,
   "id": "4aeec9b5",
   "metadata": {},
   "outputs": [],
   "source": [
    "\"Hello\tword!\".expandtabs(1)"
   ]
  },
  {
   "cell_type": "markdown",
   "id": "56027c49",
   "metadata": {},
   "source": [
    "### find(str): 在字符串中查找str,返回第一个str的起始位置,如果不存在返回-1\n",
    "    string.find(str, beg=0, end=len(string)):检测 str 是否包含在 string 中，如果 beg 和 end 指定范围，则检查是否包含在指定范围内，如果是返回开始的索引值，否则返回-1"
   ]
  },
  {
   "cell_type": "code",
   "execution_count": null,
   "id": "0205fff4",
   "metadata": {},
   "outputs": [],
   "source": [
    "\"sensirion\".find(\"ri\")"
   ]
  },
  {
   "cell_type": "code",
   "execution_count": null,
   "id": "2b6e5abb",
   "metadata": {},
   "outputs": [],
   "source": [
    "\"sensirion\".find(\"h\")"
   ]
  },
  {
   "cell_type": "markdown",
   "id": "f631c2a3",
   "metadata": {},
   "source": [
    "### index():跟find()方法一样，只不过如果str不在 string中会报一个异常."
   ]
  },
  {
   "cell_type": "code",
   "execution_count": null,
   "id": "ac5fa083",
   "metadata": {},
   "outputs": [],
   "source": [
    "\"sensirion\".index(\"h\")"
   ]
  },
  {
   "cell_type": "markdown",
   "id": "bbc11c3b",
   "metadata": {},
   "source": [
    "### isalnum():如果 string 至少有一个字符并且所有字符都是字母或数字则返回 True,否则返回 False"
   ]
  },
  {
   "cell_type": "code",
   "execution_count": null,
   "id": "043c6c99",
   "metadata": {},
   "outputs": [],
   "source": [
    "\"python123\".isalnum()"
   ]
  },
  {
   "cell_type": "code",
   "execution_count": null,
   "id": "89465be9",
   "metadata": {},
   "outputs": [],
   "source": [
    "\"python_123\".isalnum()"
   ]
  },
  {
   "cell_type": "markdown",
   "id": "28e3daa9",
   "metadata": {},
   "source": [
    "### isalpha():如果 string 至少有一个字符并且所有字符都是字母则返回 True,否则返回 False"
   ]
  },
  {
   "cell_type": "code",
   "execution_count": null,
   "id": "5cbda085",
   "metadata": {},
   "outputs": [],
   "source": [
    "\"python_123\".isalpha()"
   ]
  },
  {
   "cell_type": "code",
   "execution_count": null,
   "id": "50685505",
   "metadata": {},
   "outputs": [],
   "source": [
    "\"python\".isalpha()"
   ]
  },
  {
   "cell_type": "markdown",
   "id": "b7d1a40c",
   "metadata": {},
   "source": [
    "### isdecimal():如果 string 只包含十进制数字则返回 True 否则返回 False."
   ]
  },
  {
   "cell_type": "code",
   "execution_count": null,
   "id": "b5e7e63e",
   "metadata": {},
   "outputs": [],
   "source": [
    "\"python123\".isdecimal()"
   ]
  },
  {
   "cell_type": "code",
   "execution_count": null,
   "id": "f5b98e9e",
   "metadata": {},
   "outputs": [],
   "source": [
    "\"243536\".isdecimal()"
   ]
  },
  {
   "cell_type": "markdown",
   "id": "73af2be4",
   "metadata": {},
   "source": [
    "### isdigit():如果 string 只包含数字则返回 True 否则返回 False."
   ]
  },
  {
   "cell_type": "code",
   "execution_count": null,
   "id": "d5bc52f5",
   "metadata": {},
   "outputs": [],
   "source": [
    "\"4657464564\".isdigit()"
   ]
  },
  {
   "cell_type": "markdown",
   "id": "2c846140",
   "metadata": {},
   "source": [
    "### islower():字符串中所有字母都是小写则返回 True，否则返回 False"
   ]
  },
  {
   "cell_type": "code",
   "execution_count": null,
   "id": "fbcf3429",
   "metadata": {},
   "outputs": [],
   "source": [
    "\"Python\".islower()"
   ]
  },
  {
   "cell_type": "code",
   "execution_count": null,
   "id": "7960a167",
   "metadata": {},
   "outputs": [],
   "source": [
    "\"python\".islower()"
   ]
  },
  {
   "cell_type": "markdown",
   "id": "289431e9",
   "metadata": {},
   "source": [
    "### isnumeric():如果 string 中只包含数字字符，则返回 True，否则返回 False"
   ]
  },
  {
   "cell_type": "code",
   "execution_count": null,
   "id": "9031bf02",
   "metadata": {},
   "outputs": [],
   "source": [
    "\"46576575\".isnumeric()"
   ]
  },
  {
   "cell_type": "markdown",
   "id": "ec36efa2",
   "metadata": {},
   "source": [
    "### isspace():如果 string 中只包含空格，则返回 True，否则返回 False."
   ]
  },
  {
   "cell_type": "code",
   "execution_count": null,
   "id": "c8df8c44",
   "metadata": {},
   "outputs": [],
   "source": [
    "\"python python\".isspace()"
   ]
  },
  {
   "cell_type": "code",
   "execution_count": null,
   "id": "3bab59f0",
   "metadata": {},
   "outputs": [],
   "source": [
    "\"   \".isspace()"
   ]
  },
  {
   "cell_type": "markdown",
   "id": "b511feb1",
   "metadata": {},
   "source": [
    "### istitle():如果 string 是标题化的(所有单词首字母大写)则返回 True，否则返回 False"
   ]
  },
  {
   "cell_type": "code",
   "execution_count": null,
   "id": "ec6d44cd",
   "metadata": {},
   "outputs": [],
   "source": [
    "\"Hello Word!\".istitle()"
   ]
  },
  {
   "cell_type": "markdown",
   "id": "0417607b",
   "metadata": {},
   "source": [
    "### isupper():字符都是大写，则返回 True，否则返回 False"
   ]
  },
  {
   "cell_type": "code",
   "execution_count": null,
   "id": "c33c9a15",
   "metadata": {},
   "outputs": [],
   "source": [
    "\"PYTHON\".isupper()"
   ]
  },
  {
   "cell_type": "markdown",
   "id": "bccfe685",
   "metadata": {},
   "source": [
    "### str.join(seq):以 string 作为分隔符，将 seq 中所有的元素(的字符串表示)合并为一个新的字符串"
   ]
  },
  {
   "cell_type": "code",
   "execution_count": null,
   "id": "36390d2c",
   "metadata": {},
   "outputs": [],
   "source": [
    "\"-\".join([\"This\",\"is\",\"python\",\"test!\"])"
   ]
  },
  {
   "cell_type": "markdown",
   "id": "8c232637",
   "metadata": {},
   "source": [
    "### ljust(width):左对齐,并使用空格填充至长度 width 的新字符串"
   ]
  },
  {
   "cell_type": "code",
   "execution_count": null,
   "id": "41b47dbd",
   "metadata": {},
   "outputs": [],
   "source": [
    "\"python\".ljust(20)"
   ]
  },
  {
   "cell_type": "markdown",
   "id": "d83271a6",
   "metadata": {},
   "source": [
    "### lower():将字符转换成小写"
   ]
  },
  {
   "cell_type": "code",
   "execution_count": null,
   "id": "e6ee1e5e",
   "metadata": {},
   "outputs": [],
   "source": [
    "\"PYTHON\".lower()"
   ]
  },
  {
   "cell_type": "markdown",
   "id": "fabdc992",
   "metadata": {},
   "source": [
    "### lstrip():截掉 string 左边的空格"
   ]
  },
  {
   "cell_type": "code",
   "execution_count": null,
   "id": "e03e262e",
   "metadata": {},
   "outputs": [],
   "source": [
    "\"    python\".lstrip()"
   ]
  },
  {
   "cell_type": "markdown",
   "id": "3df1e6be",
   "metadata": {},
   "source": [
    "### maketrans(intab,outtab):字符串映射"
   ]
  },
  {
   "cell_type": "code",
   "execution_count": null,
   "id": "c49e88a6",
   "metadata": {},
   "outputs": [],
   "source": [
    "intab = \"aeiou\"\n",
    "outtab = \"12345\"\n",
    "trantab = str.maketrans(intab, outtab)   #形成映射\n",
    "trantab"
   ]
  },
  {
   "cell_type": "code",
   "execution_count": null,
   "id": "ddb1434f-e5bf-4db1-ba00-ab3881e395f5",
   "metadata": {},
   "outputs": [],
   "source": []
  },
  {
   "cell_type": "code",
   "execution_count": null,
   "id": "2777818e",
   "metadata": {},
   "outputs": [],
   "source": [
    "str = \"this is string example....wow!!!\"\n",
    "str.translate(trantab)"
   ]
  },
  {
   "cell_type": "markdown",
   "id": "8b85eb73",
   "metadata": {},
   "source": [
    "### max(str):返回字符串 str 中最大的字母。"
   ]
  },
  {
   "cell_type": "code",
   "execution_count": null,
   "id": "fbdb88e4",
   "metadata": {},
   "outputs": [],
   "source": [
    "max(\"python\")"
   ]
  },
  {
   "cell_type": "markdown",
   "id": "e5e38d0c",
   "metadata": {},
   "source": [
    "### min(str):返回字符串 str 中最小的字母。"
   ]
  },
  {
   "cell_type": "code",
   "execution_count": null,
   "id": "b0e22a91",
   "metadata": {},
   "outputs": [],
   "source": [
    "min(\"python\")"
   ]
  },
  {
   "cell_type": "markdown",
   "id": "7ac1d921",
   "metadata": {},
   "source": [
    "### partition(str):分割字符串\n",
    "    有点像 find()和 split()的结合体,从 str 出现的第一个位置起,把 字 符 串 string 分 成 一 个 3 元 素 的 元 组string_pre_str,str,string_post_str),如果 string 中不包含str 则 string_pre_str == string."
   ]
  },
  {
   "cell_type": "code",
   "execution_count": null,
   "id": "660aad11",
   "metadata": {},
   "outputs": [],
   "source": [
    "\"python\".partition('t')"
   ]
  },
  {
   "cell_type": "markdown",
   "id": "2bbc11e1",
   "metadata": {},
   "source": [
    "### replace(): 替换\n",
    "    string.replace(str1, str2,  num=string.count(str1)):把 string 中的 str1 替换成 str2,如果 num 指定，则替换不超过 num 次."
   ]
  },
  {
   "cell_type": "code",
   "execution_count": null,
   "id": "6f67aae7",
   "metadata": {},
   "outputs": [],
   "source": [
    "\"python\".replace(\"t\",'12')"
   ]
  },
  {
   "cell_type": "markdown",
   "id": "59e9199b",
   "metadata": {},
   "source": [
    "### rfind():查找\n",
    "    类似于 find() 函数，返回字符串最后一次出现的位置，如果没有匹配项则返回 -1。\n",
    "    string.rfind(str, beg=0,end=len(string) )"
   ]
  },
  {
   "cell_type": "code",
   "execution_count": null,
   "id": "86db6c0e",
   "metadata": {},
   "outputs": [],
   "source": [
    "\"sensirion\".rfind(\"i\")"
   ]
  },
  {
   "cell_type": "markdown",
   "id": "0bee992e",
   "metadata": {},
   "source": [
    "### rindex(): 同index,只是从右侧开始查找\n",
    "    string.rindex( str, beg=0,end=len(string))"
   ]
  },
  {
   "cell_type": "code",
   "execution_count": null,
   "id": "9328035a",
   "metadata": {},
   "outputs": [],
   "source": [
    "\"sensirion\".rindex('n')"
   ]
  },
  {
   "cell_type": "markdown",
   "id": "6bfaa96e",
   "metadata": {},
   "source": [
    "### rjust(width):右对齐,并使用空格填充至长度 width 的新字符串"
   ]
  },
  {
   "cell_type": "code",
   "execution_count": null,
   "id": "e930a006",
   "metadata": {},
   "outputs": [],
   "source": [
    "\"python\".rjust(20)"
   ]
  },
  {
   "cell_type": "markdown",
   "id": "03d618db",
   "metadata": {},
   "source": [
    "### rpartition():类似于 partition()函数,不过是从右边开始查找"
   ]
  },
  {
   "cell_type": "code",
   "execution_count": null,
   "id": "5272faf8",
   "metadata": {},
   "outputs": [],
   "source": [
    "\"sensirion\".rpartition(\"i\")"
   ]
  },
  {
   "cell_type": "markdown",
   "id": "61d0cf55",
   "metadata": {},
   "source": [
    "### rstrip():删除 string 字符串末尾的空格."
   ]
  },
  {
   "cell_type": "code",
   "execution_count": null,
   "id": "3d8373e7",
   "metadata": {},
   "outputs": [],
   "source": [
    "\"python  \".rstrip()"
   ]
  },
  {
   "cell_type": "markdown",
   "id": "50d5d42f",
   "metadata": {},
   "source": [
    "### split():以 str 为分隔符切片 string，如果 num 有指定值，则仅分隔 num+1 个子字符串\n",
    "    string.split(str=\"\", num=string.count(str))"
   ]
  },
  {
   "cell_type": "code",
   "execution_count": null,
   "id": "e5a8207a",
   "metadata": {},
   "outputs": [],
   "source": [
    "\"sensirion\".split(\"i\")"
   ]
  },
  {
   "cell_type": "code",
   "execution_count": null,
   "id": "31497b73",
   "metadata": {},
   "outputs": [],
   "source": [
    "\"sensirion\".partition('i')"
   ]
  },
  {
   "cell_type": "markdown",
   "id": "4bc02138",
   "metadata": {},
   "source": [
    "### splitlines([keepends]):按照行分割\n",
    "    按照行('\\r', '\\r\\n', \\n')分隔，返回一个包含各行作为元素的列表，如果参数 keepends 为 False，不包含换行符，如果为 True，则保留换行符。"
   ]
  },
  {
   "cell_type": "code",
   "execution_count": null,
   "id": "e4610687",
   "metadata": {},
   "outputs": [],
   "source": [
    "\"python \\r python \\r\\n python \\n\".splitlines()"
   ]
  },
  {
   "cell_type": "code",
   "execution_count": null,
   "id": "610edb49",
   "metadata": {},
   "outputs": [],
   "source": [
    "\"python \\r python \\r\\n python \\n\".splitlines(keepends=True)"
   ]
  },
  {
   "cell_type": "code",
   "execution_count": null,
   "id": "ba13796c",
   "metadata": {},
   "outputs": [],
   "source": [
    "\"python \\r python \\r\\n \\python \\t python \\n\".splitlines()   #'\\t'不适用"
   ]
  },
  {
   "cell_type": "markdown",
   "id": "32703ef5",
   "metadata": {},
   "source": [
    "### startswith(obj): 是否以obj开头，返回bool值\n",
    "    string.startswith(obj, beg=0,end=len(string)):检查字符串是否是以 obj 开头，返回bool值。如果beg 和 end 指定值，则在指定范围内检查."
   ]
  },
  {
   "cell_type": "code",
   "execution_count": null,
   "id": "e1070a4a",
   "metadata": {},
   "outputs": [],
   "source": [
    "\"python\".startswith(\"p\")"
   ]
  },
  {
   "cell_type": "markdown",
   "id": "ed529b48",
   "metadata": {},
   "source": [
    "### strip():在 string 上执行 lstrip()和 rstrip(), 截掉两头的空格"
   ]
  },
  {
   "cell_type": "code",
   "execution_count": null,
   "id": "3ac058d4",
   "metadata": {},
   "outputs": [],
   "source": [
    "\"    sensirion    \".strip()"
   ]
  },
  {
   "cell_type": "markdown",
   "id": "18e76602",
   "metadata": {},
   "source": [
    "### swapcase(): 翻转字符串中的大小写"
   ]
  },
  {
   "cell_type": "code",
   "execution_count": null,
   "id": "27c9daa7",
   "metadata": {},
   "outputs": [],
   "source": [
    "\"pYTHON\".swapcase()"
   ]
  },
  {
   "cell_type": "markdown",
   "id": "fa27dec6",
   "metadata": {},
   "source": [
    "### title():返回\"标题化\"的 string,就是说所有单词都是以大写开始，其余字母均为小写(见 istitle())"
   ]
  },
  {
   "cell_type": "code",
   "execution_count": null,
   "id": "d382ad33",
   "metadata": {},
   "outputs": [],
   "source": [
    "\"sensirIon pythoN\".title()"
   ]
  },
  {
   "cell_type": "markdown",
   "id": "2d217eea",
   "metadata": {},
   "source": [
    "### translate(str):根据 str 给出的表(包含 256 个字符)转换 string 的字符"
   ]
  },
  {
   "cell_type": "code",
   "execution_count": null,
   "id": "88dd3070",
   "metadata": {},
   "outputs": [],
   "source": [
    "intab = \"aeiou\"\n",
    "outtab = \"12345\"\n",
    "trantab = str.maketrans(intab, outtab)"
   ]
  },
  {
   "cell_type": "code",
   "execution_count": null,
   "id": "0095df1b",
   "metadata": {},
   "outputs": [],
   "source": [
    "s = \"this is string example....wow!!!\"\n",
    "s.translate(trantab)"
   ]
  },
  {
   "cell_type": "markdown",
   "id": "1b24538a",
   "metadata": {},
   "source": [
    "### upper():转换 string 中的小写字母为大写"
   ]
  },
  {
   "cell_type": "code",
   "execution_count": null,
   "id": "e7afe8a9",
   "metadata": {},
   "outputs": [],
   "source": [
    "\"python\".upper()"
   ]
  },
  {
   "cell_type": "markdown",
   "id": "cd37b9eb",
   "metadata": {},
   "source": [
    "### zfill():返回长度为 width 的字符串，原字符串 string 右对齐，前面填充0"
   ]
  },
  {
   "cell_type": "code",
   "execution_count": null,
   "id": "a77bc940",
   "metadata": {},
   "outputs": [],
   "source": [
    "\"p\".zfill(6)"
   ]
  },
  {
   "cell_type": "markdown",
   "id": "32f4b950",
   "metadata": {
    "tags": [],
    "toc-hr-collapsed": true
   },
   "source": [
    "# 列表"
   ]
  },
  {
   "cell_type": "markdown",
   "id": "5a64450a",
   "metadata": {},
   "source": [
    "## 列表函数"
   ]
  },
  {
   "cell_type": "markdown",
   "id": "78595eb9",
   "metadata": {},
   "source": [
    "## 列表方法"
   ]
  },
  {
   "cell_type": "code",
   "execution_count": null,
   "id": "d379d1d7",
   "metadata": {},
   "outputs": [],
   "source": [
    "# 增：\n",
    "    # 1. list.append(obj): 在列表末尾添加新的对象\n",
    "    # 2. list.extend(seq): 在列表末尾一次性追加另一个序列中的多个值（用新列表扩展原来的列表）\n",
    "    # 3. list.insert(index, obj): 将对象插入列表\n",
    "# 改：\n",
    "    # 1. list[0] = 'x' : 对对应位置进行更改\n",
    "    # 2. list[2:4] = [1,2,3] :更改可切片\n",
    "    # 3. list.copy(): 复制列表\n",
    "    # 4. list1 + list2 :列表拼接\n",
    "    # 5. list1 * n : 将列表元素重复 n次\n",
    "# 删\n",
    "    # 1. list.pop([index=-1]) 移除列表中的一个元素（默认最后一个元素），并且返回该元素的值\n",
    "    # 2. list.remove(obj): 移除列表中某个值的第一个匹配项\n",
    "    # 3. list.clear(): 清空列表\n",
    "    # 4. del list : 删除内存文件\n",
    "# 查：\n",
    "    # 1. list.count(obj):  统计某个元素在列表中出现的次数\n",
    "    # 2. list.index(obj):  从列表中找出某个值第一个匹配项的索引位置\n",
    "    # 3. list[3]: 通过下标查询元素\n",
    "    # 4. list[2:6]: 通过切片查询\n",
    "    # 5. list[2:10:2]: 第三个是步长\n",
    "# 排序：\n",
    "    # 1. list.reverse():   反向列表中元素\n",
    "    # 2. list.sort( key=None, reverse=False): 对原列表进行排序， reverse=True 同list.reverse()\n",
    "# 操作函数\n",
    "    # 1. len(list)\n",
    "    # 2. max(list)\n",
    "    # 3. min(list)\n",
    "    # 4. list(seq)\n",
    "    # 5. enumerate()\n",
    "# 切片：\n",
    "    # name[n:m]  切片是不包含后面那个元素的值（顾头不顾尾）\n",
    "    # name[:m] 如果切片前面一个值缺省的话，从开头开始取\n",
    "    # name[n:] 如果切片后面的值缺省的话，取到末尾\n",
    "    # name[:] 如果全部缺省，取全部\n",
    "    # name[n:m：s] s：步长  隔多少个元素取一次\n",
    "    # 步长是正数，从左往右取\n",
    "    # 步长是负数，从右往左取\n",
    "# 列表生成：\n",
    "    # 1.list(range(1,5))\n",
    "\n",
    "# 列表推导：\n",
    "    # 1. [表达式 for 变量 in 列表]， 可以有多个for循环\n",
    "    # 2. [表达式 for 变量 in 列表 if 条件]\n",
    "# 列表运算："
   ]
  },
  {
   "cell_type": "code",
   "execution_count": null,
   "id": "5f3d6bb0",
   "metadata": {},
   "outputs": [],
   "source": [
    "[3,3,3,3,7,9,1].count(3)"
   ]
  },
  {
   "cell_type": "code",
   "execution_count": null,
   "id": "3f883430",
   "metadata": {},
   "outputs": [],
   "source": [
    "[3,3,3,3,7,9,1].pop(1)"
   ]
  },
  {
   "cell_type": "code",
   "execution_count": null,
   "id": "2c38f900",
   "metadata": {},
   "outputs": [],
   "source": [
    "lt = [3,3,3,3,7,9,1]\n",
    "lt.insert(-1,10)\n",
    "lt"
   ]
  },
  {
   "cell_type": "code",
   "execution_count": null,
   "id": "2154a078",
   "metadata": {},
   "outputs": [],
   "source": [
    "lt = [\"p\",'y','t','h','o','n']\n",
    "lt.remove('o')\n",
    "lt"
   ]
  },
  {
   "cell_type": "code",
   "execution_count": null,
   "id": "76247614",
   "metadata": {},
   "outputs": [],
   "source": [
    "lt = ['p','y','t','h','o','n']\n",
    "for k,v in enumerate(lt):\n",
    "    print(k,\":\",v)"
   ]
  },
  {
   "cell_type": "code",
   "execution_count": null,
   "id": "bd67909a",
   "metadata": {},
   "outputs": [],
   "source": [
    "[1,2,3] + [2,3,4]"
   ]
  },
  {
   "cell_type": "code",
   "execution_count": null,
   "id": "526c5829",
   "metadata": {},
   "outputs": [],
   "source": [
    "[1,2,3]*2"
   ]
  },
  {
   "cell_type": "code",
   "execution_count": null,
   "id": "c16a0769",
   "metadata": {},
   "outputs": [],
   "source": [
    "lt1 = [1,2]\n",
    "lt2 = [2,3]\n",
    "[x+y for x in lt1 for y in lt2]"
   ]
  },
  {
   "cell_type": "code",
   "execution_count": null,
   "id": "35e81fc7",
   "metadata": {},
   "outputs": [],
   "source": [
    "[x+y for x,y in zip(lt1,lt2)]   #同时遍历两个列表"
   ]
  },
  {
   "cell_type": "code",
   "execution_count": null,
   "id": "3db515dc",
   "metadata": {},
   "outputs": [],
   "source": [
    "list(range(4))"
   ]
  },
  {
   "cell_type": "markdown",
   "id": "d9938c8d",
   "metadata": {},
   "source": [
    "# 字典"
   ]
  },
  {
   "cell_type": "markdown",
   "id": "6a82f21c-ac93-43e3-812e-95f947e36a03",
   "metadata": {},
   "source": [
    "## 合并两个字典:"
   ]
  },
  {
   "cell_type": "code",
   "execution_count": 2,
   "id": "6f097a9b-75ca-47ad-8ef8-53fc970d12fb",
   "metadata": {},
   "outputs": [],
   "source": [
    "dct1 = {'a':1,'b':2,'c':3}\n",
    "dct2 = {'aa':4,'bb':'5','cc':6}"
   ]
  },
  {
   "cell_type": "code",
   "execution_count": 3,
   "id": "20bd02a9-61c6-4467-8ee1-a8de550e69f9",
   "metadata": {},
   "outputs": [],
   "source": [
    "dct1.update(dct2)"
   ]
  },
  {
   "cell_type": "code",
   "execution_count": 4,
   "id": "af1eb8ce-0b60-47e2-9d3e-4114e738af2f",
   "metadata": {},
   "outputs": [
    {
     "data": {
      "text/plain": [
       "{'a': 1, 'b': 2, 'c': 3, 'aa': 4, 'bb': '5', 'cc': 6}"
      ]
     },
     "execution_count": 4,
     "metadata": {},
     "output_type": "execute_result"
    }
   ],
   "source": [
    "dct1"
   ]
  },
  {
   "cell_type": "markdown",
   "id": "e0841b3e",
   "metadata": {},
   "source": [
    "# 元组:tuple"
   ]
  },
  {
   "cell_type": "code",
   "execution_count": null,
   "id": "f26fc566",
   "metadata": {},
   "outputs": [],
   "source": [
    "# 元组特点：\n",
    "    # 元组与列表类似，不同之处是：\n",
    "    # 1. 内容不能修改；\n",
    "    # 2. 元组中只包含一个元素时，需要在元素后面添加逗号 , ，否则括号会被当作运算符使用：\n",
    "        # tuple=(50)\n",
    "        # tuple=(50,)\n",
    "# 元组创建：\n",
    "    # tup1 = ('Google', 'Runoob', 1997, 2000)\n",
    "    # tup2 = (1, 2, 3, 4, 5 )\n",
    "    # tup3 = \"a\", \"b\", \"c\", \"d\"   #  不需要括号也可以\n"
   ]
  },
  {
   "cell_type": "markdown",
   "id": "c652bb92",
   "metadata": {},
   "source": [
    "# 集合:set"
   ]
  },
  {
   "cell_type": "code",
   "execution_count": null,
   "id": "7015bf70",
   "metadata": {},
   "outputs": [],
   "source": [
    "# 1、集合是一个无序不重复元素的序列（由于集合是无序的，所以不支持索引） ，    集合的元素不能为可变类型（列表、字典、集合）\n",
    "# 2、可以使用 {  }  或 set( ) 创建集合，但是创建一个空集合时，只能使用set( )\n",
    "# 3、集合的特点：\n",
    "    # 无序性：集合中每个元素的地位是相同的，元素之间是无序的\n",
    "    # 互异性：一个集合中，每个元素只能出现一次，任何元素之间都是不相同的\n",
    "    # 确定性：给定一个集合，给定一个元素，该元素或属于该集合，或不属于该集合\n",
    "# 4、用集合为列表去重\n",
    "    # 由于集合中的所有元素都不可重复，因此可以利用集合的这个特点来快速为列表去重"
   ]
  },
  {
   "cell_type": "markdown",
   "id": "be55bc90",
   "metadata": {
    "tags": []
   },
   "source": [
    "# 语句"
   ]
  },
  {
   "cell_type": "markdown",
   "id": "877ac66e",
   "metadata": {},
   "source": [
    "## if 语句：\n",
    "    if 表达式1:\n",
    "        语句\n",
    "        if 表达式2:\n",
    "            语句\n",
    "        elif 表达式3:\n",
    "            语句\n",
    "        else:\n",
    "            语句\n",
    "    elif 表达式4:\n",
    "        语句\n",
    "    else:\n",
    "        语句"
   ]
  },
  {
   "cell_type": "markdown",
   "id": "24d5ea76",
   "metadata": {},
   "source": [
    "## for 循环语句\n",
    "    for <variable> in <sequence>:\n",
    "        <statements>\n",
    "    else:\n",
    "        <statements>"
   ]
  },
  {
   "cell_type": "code",
   "execution_count": null,
   "id": "de1e644f",
   "metadata": {},
   "outputs": [],
   "source": [
    "# 一次循环一个迭代对象：\n",
    "lt = [1,2,3]\n",
    "for i in lt:\n",
    "    print(i,end='\\t')"
   ]
  },
  {
   "cell_type": "code",
   "execution_count": null,
   "id": "b13cac01",
   "metadata": {},
   "outputs": [],
   "source": [
    "# 循环嵌套：\n",
    "lt1 = [1,2,3]\n",
    "lt2 = [4,5,6]\n",
    "for i in lt1:\n",
    "    for j in lt2:\n",
    "        print(i+j,end='\\t')"
   ]
  },
  {
   "cell_type": "code",
   "execution_count": null,
   "id": "d542322b",
   "metadata": {},
   "outputs": [],
   "source": [
    "# 同时迭代连个可迭代对象：\n",
    "lt1 = [1,2,3]\n",
    "lt2 = [4,5,6]\n",
    "for i,j in zip(lt1,lt2):\n",
    "    print(i+j,end='\\t')"
   ]
  },
  {
   "cell_type": "code",
   "execution_count": null,
   "id": "2839f38e-4469-4f76-b8d9-23576a538884",
   "metadata": {},
   "outputs": [],
   "source": []
  },
  {
   "cell_type": "code",
   "execution_count": 7,
   "id": "154a0a14-a9e4-4e80-88c9-5af565700774",
   "metadata": {},
   "outputs": [
    {
     "name": "stdout",
     "output_type": "stream",
     "text": [
      "*\n",
      "*\n",
      "*\n",
      "8\n"
     ]
    }
   ],
   "source": [
    "# for 循环中变量的作用域: 因为for循环不是函数体,所以for中的变量和for是同一作用域,for循环结束后,变量的值是最后一次附给的那个值而不是把该变量销毁\n",
    "for i in [3,4,8]:\n",
    "    print(\"*\")\n",
    "\n",
    "print(i)   #可以看到即使for循环已经结束,这个地方的i的值"
   ]
  },
  {
   "cell_type": "markdown",
   "id": "d733f656",
   "metadata": {},
   "source": [
    "## while循环语句\n",
    "    while:\n",
    "        while 判断条件(condition)：\n",
    "            执行语句(statements)……\n",
    "        \n",
    "    while,else:\n",
    "        while <expr>:\n",
    "            <statement(s)>\n",
    "        else:\n",
    "            <additional_statement(s)>"
   ]
  },
  {
   "cell_type": "markdown",
   "id": "4595a27e",
   "metadata": {},
   "source": [
    "## break,continue\n",
    "    break 语句可以跳出 for 和 while 的循环体。如果你从 for 或 while 循环中终止，任何对应的循环 else 块将不执行。\n",
    "    continue 语句被用来告诉 Python 跳过当前循环块中的剩余语句，然后继续进行下一轮循环。"
   ]
  },
  {
   "cell_type": "code",
   "execution_count": null,
   "id": "f57fb1d5",
   "metadata": {},
   "outputs": [],
   "source": [
    "for i in [\"p\",\"y\",\"t\",\"h\",\"o\",\"n\"]:\n",
    "    if i == 't':\n",
    "        continue\n",
    "    else:\n",
    "        print(i)"
   ]
  },
  {
   "cell_type": "code",
   "execution_count": null,
   "id": "c6c8939a",
   "metadata": {},
   "outputs": [],
   "source": [
    "for i in [\"p\",\"y\",\"t\",\"h\",\"o\",\"n\"]:\n",
    "    if i == 't':\n",
    "        break\n",
    "    else:\n",
    "        print(i)"
   ]
  },
  {
   "cell_type": "code",
   "execution_count": null,
   "id": "e025dbbd",
   "metadata": {},
   "outputs": [],
   "source": []
  },
  {
   "cell_type": "markdown",
   "id": "53fe16e9",
   "metadata": {},
   "source": [
    "## pass语句\n",
    "    pass 不做任何事情，一般用做占位语句，如下实例"
   ]
  },
  {
   "cell_type": "code",
   "execution_count": null,
   "id": "ab733f32",
   "metadata": {},
   "outputs": [],
   "source": [
    "for i in [\"p\",\"y\",\"t\",\"h\",\"o\",\"n\"]:\n",
    "    if i == 't':\n",
    "        pass\n",
    "        print(i)\n",
    "    else:\n",
    "        print(i)"
   ]
  },
  {
   "cell_type": "markdown",
   "id": "ceaaf2eb",
   "metadata": {},
   "source": [
    "## with语句:上下文管理器"
   ]
  },
  {
   "cell_type": "markdown",
   "id": "14b9d6fd",
   "metadata": {},
   "source": [
    "### 普通读文件方式：文件处理结束后需要关闭文件： fp.close()"
   ]
  },
  {
   "cell_type": "code",
   "execution_count": null,
   "id": "4cae5ede",
   "metadata": {},
   "outputs": [],
   "source": [
    "fp = open(r\".\\testfile\\002161.SZ.csv\",mode='r')\n",
    "for row in fp.readlines():\n",
    "    print(row)\n",
    "fp.close()"
   ]
  },
  {
   "cell_type": "markdown",
   "id": "95ff847d",
   "metadata": {},
   "source": [
    "### with语句读文件方式，可以不用手动关闭文件"
   ]
  },
  {
   "cell_type": "code",
   "execution_count": null,
   "id": "d20c958b",
   "metadata": {},
   "outputs": [],
   "source": [
    "with open(r\".\\testfile\\002161.SZ.csv\",mode='r') as fp:\n",
    "    for row in fp.readlines():\n",
    "        print(row)"
   ]
  },
  {
   "cell_type": "code",
   "execution_count": null,
   "id": "52c45861",
   "metadata": {},
   "outputs": [],
   "source": []
  },
  {
   "cell_type": "markdown",
   "id": "b4b5d9e4",
   "metadata": {
    "toc-hr-collapsed": true
   },
   "source": [
    "# 常用内置函数"
   ]
  },
  {
   "cell_type": "markdown",
   "id": "c5c22061",
   "metadata": {},
   "source": [
    "## abs(x):返回数字的绝对值"
   ]
  },
  {
   "cell_type": "code",
   "execution_count": null,
   "id": "bf4dfd0f",
   "metadata": {},
   "outputs": [],
   "source": [
    "abs(-3)"
   ]
  },
  {
   "cell_type": "markdown",
   "id": "f12827e0",
   "metadata": {},
   "source": [
    "## all() 函数用于判断给定的可迭代参数 iterable 中的所有元素是否都为 TRUE\n",
    "    all(iterable)"
   ]
  },
  {
   "cell_type": "code",
   "execution_count": null,
   "id": "b7b32db6",
   "metadata": {},
   "outputs": [],
   "source": [
    "all(['a', 'b', 'c', 'd'])"
   ]
  },
  {
   "cell_type": "code",
   "execution_count": null,
   "id": "840860e8",
   "metadata": {},
   "outputs": [],
   "source": [
    "all(['a', 'b', '', 'd'])"
   ]
  },
  {
   "cell_type": "code",
   "execution_count": null,
   "id": "b859a5dd",
   "metadata": {},
   "outputs": [],
   "source": [
    "path = r\".\\testfile\\FFmc0320210126.csv\"\n",
    "df = pd.read_csv(path)"
   ]
  },
  {
   "cell_type": "code",
   "execution_count": null,
   "id": "19c926d5",
   "metadata": {},
   "outputs": [],
   "source": [
    "all([x in [\"SoftBin\",\"HardBin\"] for x in df.columns])"
   ]
  },
  {
   "cell_type": "markdown",
   "id": "c0471327",
   "metadata": {},
   "source": [
    "## any() 函数用于判断给定的可迭代参数 iterable 是否全部为 False，则返回 False\n",
    "    元素除了是 0、空、FALSE 外都算 TRUE。"
   ]
  },
  {
   "cell_type": "code",
   "execution_count": null,
   "id": "d225afab",
   "metadata": {},
   "outputs": [],
   "source": [
    "any([x in [\"SoftBin\",\"HardBin\"] for x in df.columns])"
   ]
  },
  {
   "cell_type": "markdown",
   "id": "3cbe530d",
   "metadata": {},
   "source": [
    "## bin() 返回一个整数 int 或者长整数 long int 的二进制表示"
   ]
  },
  {
   "cell_type": "code",
   "execution_count": null,
   "id": "55b09a75",
   "metadata": {},
   "outputs": [],
   "source": [
    "bin(3)"
   ]
  },
  {
   "cell_type": "markdown",
   "id": "f26a93f3",
   "metadata": {},
   "source": [
    "## bool(x) 函数用于将给定参数转换为布尔类型，如果没有参数，返回 False\n",
    "    bool 是 int 的子类"
   ]
  },
  {
   "cell_type": "code",
   "execution_count": null,
   "id": "52dfc52c",
   "metadata": {},
   "outputs": [],
   "source": [
    "bool(5)"
   ]
  },
  {
   "cell_type": "markdown",
   "id": "23c9ee86",
   "metadata": {},
   "source": [
    "## callable() 函数用于检查一个对象是否是可调用的。\n",
    "    如果返回 True，object 仍然可能调用失败；但如果返回 False，调用对象 object 绝对不会成功。\n",
    "    callable(object)"
   ]
  },
  {
   "cell_type": "code",
   "execution_count": null,
   "id": "7e8f79c0",
   "metadata": {},
   "outputs": [],
   "source": [
    "def tst():\n",
    "    print(\"dog\")\n",
    "    \n",
    "class T:\n",
    "    def __init__(self):\n",
    "        print(\"class T\")"
   ]
  },
  {
   "cell_type": "code",
   "execution_count": null,
   "id": "7d66f99d",
   "metadata": {},
   "outputs": [],
   "source": [
    "callable(tst)"
   ]
  },
  {
   "cell_type": "code",
   "execution_count": null,
   "id": "200b7876",
   "metadata": {},
   "outputs": [],
   "source": [
    "callable(T)"
   ]
  },
  {
   "cell_type": "markdown",
   "id": "3ed48999",
   "metadata": {},
   "source": [
    "## chr() 用一个整数作参数，返回一个对应的字符\n",
    "    返回值是当前整数对应的 ASCII 字符"
   ]
  },
  {
   "cell_type": "markdown",
   "id": "3f8e3548",
   "metadata": {},
   "source": [
    "## classmethod 修饰符对应的函数不需要实例化，\n",
    "    不需要 self 参数，但第一个参数需要是表示自身类的 cls 参数，可以来调用类的属性，类的方法，实例化对象等。"
   ]
  },
  {
   "cell_type": "code",
   "execution_count": null,
   "id": "46518195",
   "metadata": {},
   "outputs": [],
   "source": [
    "class T:\n",
    "    def __init__(self):\n",
    "        print(\"Initialize the class\")\n",
    "    \n",
    "    @classmethod\n",
    "    def tst(self):\n",
    "        print(\"function in the class\")"
   ]
  },
  {
   "cell_type": "code",
   "execution_count": null,
   "id": "1ca77eda",
   "metadata": {},
   "outputs": [],
   "source": [
    "# 正常调用 class T下面的方法tst：\n",
    "t = T()\n",
    "t.tst()"
   ]
  },
  {
   "cell_type": "code",
   "execution_count": null,
   "id": "d24c9c95",
   "metadata": {},
   "outputs": [],
   "source": [
    "# 使用@classmethod后的直接调用方法：这样就可以避开执行构造函数\n",
    "T.tst()"
   ]
  },
  {
   "cell_type": "markdown",
   "id": "ff9c8299",
   "metadata": {},
   "source": [
    "## compile() 函数将一个字符串编译为字节代码\n",
    "    source -- 字符串或者AST（Abstract Syntax Trees）对象。。\n",
    "    filename -- 代码文件名称，如果不是从文件读取代码则传递一些可辨认的值。\n",
    "    mode -- 指定编译代码的种类。可以指定为 exec, eval, single。\n",
    "    flags -- 变量作用域，局部命名空间，如果被提供，可以是任何映射对象。。\n",
    "    flags和dont_inherit是用来控制编译源码时的标志"
   ]
  },
  {
   "cell_type": "code",
   "execution_count": null,
   "id": "fc252aea-f273-46a8-88f6-d90381972ae3",
   "metadata": {},
   "outputs": [],
   "source": [
    "st = \"3*4+5\""
   ]
  },
  {
   "cell_type": "code",
   "execution_count": null,
   "id": "3d39e6aa-ab76-42e3-ac32-84c91a89c52a",
   "metadata": {},
   "outputs": [],
   "source": [
    "eval(st)"
   ]
  },
  {
   "cell_type": "markdown",
   "id": "ca645c11",
   "metadata": {},
   "source": [
    "## complex() 函数用于创建一个值为 real + imag * j 的复数或者转化一个字符串或数为复数"
   ]
  },
  {
   "cell_type": "markdown",
   "id": "b3031187",
   "metadata": {},
   "source": [
    "## delattr 函数用于删除属性\n",
    "    delattr(object, name)"
   ]
  },
  {
   "cell_type": "code",
   "execution_count": null,
   "id": "2e549fe3",
   "metadata": {},
   "outputs": [],
   "source": [
    "# 创建一个测试类\n",
    "class test:\n",
    "    name=\"Tom\"\n",
    "    age=30\n",
    "    sex='male'\n",
    "    def __init__(self):\n",
    "        name=\"Lili\"\n",
    "        age=20\n",
    "        sex='Femal'"
   ]
  },
  {
   "cell_type": "code",
   "execution_count": null,
   "id": "7e1e55e1",
   "metadata": {},
   "outputs": [],
   "source": [
    "test.name"
   ]
  },
  {
   "cell_type": "code",
   "execution_count": null,
   "id": "ead474aa",
   "metadata": {},
   "outputs": [],
   "source": [
    "delattr(test,'name')"
   ]
  },
  {
   "cell_type": "markdown",
   "id": "ba133995",
   "metadata": {},
   "source": [
    "## dict():创建字典\n",
    "    class dict(**kwarg)\n",
    "    class dict(mapping, **kwarg)\n",
    "    class dict(iterable, **kwarg)"
   ]
  },
  {
   "cell_type": "code",
   "execution_count": null,
   "id": "3cf39328",
   "metadata": {},
   "outputs": [],
   "source": [
    "# class dict(**kwarg)\n",
    "dict(a='a',b='b',c='c')"
   ]
  },
  {
   "cell_type": "code",
   "execution_count": null,
   "id": "d13a98ec",
   "metadata": {},
   "outputs": [],
   "source": [
    "# class dict(mapping, **kwarg)\n",
    "dict(zip(['one','two','three'],[1,2,3]))"
   ]
  },
  {
   "cell_type": "code",
   "execution_count": null,
   "id": "c023fd94",
   "metadata": {},
   "outputs": [],
   "source": [
    "# class dict(iterable, **kwarg)\n",
    "dict([('one', 1), ('two', 2), ('three', 3)])"
   ]
  },
  {
   "cell_type": "markdown",
   "id": "a28a6e4b",
   "metadata": {},
   "source": [
    "## dir():\n",
    "    函数不带参数时，返回当前范围内的变量、方法和定义的类型列表；\n",
    "    带参数时，返回参数的属性、方法列表。\n",
    "        如果参数包含方法__dir__()，该方法将被调用。\n",
    "        如果参数不包含__dir__()，该方法将最大限度地收集参数信息。"
   ]
  },
  {
   "cell_type": "markdown",
   "id": "20a741b2",
   "metadata": {},
   "source": [
    "## divmod(a,b) 返回两个数字类型（非复数）相除后包含商和余数的元组(a // b, a % b)"
   ]
  },
  {
   "cell_type": "code",
   "execution_count": null,
   "id": "83c63e38",
   "metadata": {},
   "outputs": [],
   "source": [
    "divmod(5,3)"
   ]
  },
  {
   "cell_type": "markdown",
   "id": "14b5e051",
   "metadata": {},
   "source": [
    "## enumerate():将一个可遍历的数据对象组合为一个索引序列，同时列出数据和数据下标\n",
    "    (如列表、元组或字符串),一般用在 for 循环当中\n",
    "    参数：\n",
    "        sequence -- 一个序列、迭代器或其他支持迭代对象。\n",
    "        start -- 下标起始位置。默认从0开始"
   ]
  },
  {
   "cell_type": "code",
   "execution_count": null,
   "id": "19fecd89",
   "metadata": {},
   "outputs": [],
   "source": [
    "for key,v in enumerate(['p','y','t','h','o','n'],start=1):\n",
    "    print(key,\":\",v,end='\\t')"
   ]
  },
  {
   "cell_type": "markdown",
   "id": "8b75026b",
   "metadata": {},
   "source": [
    "## eval() 函数用来执行一个字符串表达式，并返回表达式的值\n",
    "    expression -- 表达式。\n",
    "    globals -- 变量作用域，全局命名空间，如果被提供，则必须是一个字典对象。\n",
    "    locals -- 变量作用域，局部命名空间，如果被提供，可以是任何映射对象。"
   ]
  },
  {
   "cell_type": "code",
   "execution_count": null,
   "id": "95d4d655",
   "metadata": {},
   "outputs": [],
   "source": [
    "eval(\"print('this is tst!')\")"
   ]
  },
  {
   "cell_type": "code",
   "execution_count": null,
   "id": "d88cd5c0",
   "metadata": {},
   "outputs": [],
   "source": [
    "eval(\"3+5\")"
   ]
  },
  {
   "cell_type": "markdown",
   "id": "4ae5c433",
   "metadata": {},
   "source": [
    "## exec 执行储存在字符串或文件中的 Python 语句\n",
    "    相比于 eval，exec可以执行更复杂的 Python 代码\n",
    "    exec(object[, globals[, locals]])\n",
    "        object：必选参数，表示需要被指定的 Python 代码。它必须是字符串或 code 对象。如果 object 是一个字符串，\n",
    "                该字符串会先被解析为一组 Python 语句，然后再执行（除非发生语法错误）。如果 object 是一个 code 对象，\n",
    "                那么它只是被简单的执行。\n",
    "        globals：可选参数，表示全局命名空间（存放全局变量），如果被提供，则必须是一个字典对象。\n",
    "        locals：可选参数，表示当前局部命名空间（存放局部变量），如果被提供，可以是任何映射对象。\n",
    "                如果该参数被忽略，那么它将会取与 globals 相同的值。"
   ]
  },
  {
   "cell_type": "markdown",
   "id": "7b3fd83c",
   "metadata": {},
   "source": [
    "## filter() 函数用于过滤序列，过滤掉不符合条件的元素\n",
    "    返回一个迭代器对象，如果要转换为列表，可以使用 list() 来转换。\n",
    "    filter(function, iterable)\n",
    "    第一个为函数，第二个为序列，序列的每个元素作为参数传递给函数进行判断，然后返回 True 或 False，最后将返回 True 的元素放到新列表中。"
   ]
  },
  {
   "cell_type": "code",
   "execution_count": null,
   "id": "88c75f48",
   "metadata": {},
   "outputs": [],
   "source": [
    "def judge(l):\n",
    "    if l not in ['y','h']:\n",
    "        return 'm'      #返回的具体什么内容不重要，重要是否为True or False"
   ]
  },
  {
   "cell_type": "code",
   "execution_count": null,
   "id": "7f09fff1",
   "metadata": {},
   "outputs": [],
   "source": [
    "list(filter(judge,['p','y','t','h','o','n']))"
   ]
  },
  {
   "cell_type": "code",
   "execution_count": null,
   "id": "102f0b7f",
   "metadata": {},
   "outputs": [],
   "source": [
    "# 这个方法也可以用列表推导替代\n",
    "[x for x in ['p','y','t','h','o','n'] if x not in ['y','h']]"
   ]
  },
  {
   "cell_type": "markdown",
   "id": "24b68418",
   "metadata": {},
   "source": [
    "## float():"
   ]
  },
  {
   "cell_type": "markdown",
   "id": "b3b59b3d",
   "metadata": {},
   "source": [
    "## format(): 见字符串上面的str.format()字符串格式化"
   ]
  },
  {
   "cell_type": "markdown",
   "id": "d1634c50",
   "metadata": {},
   "source": [
    "## frozenset() 返回一个冻结的集合，冻结后集合不能再添加或删除任何元素"
   ]
  },
  {
   "cell_type": "code",
   "execution_count": null,
   "id": "1cc395a7",
   "metadata": {},
   "outputs": [],
   "source": [
    "a = frozenset(range(10))     # 生成一个新的不可变集合\n",
    "a"
   ]
  },
  {
   "cell_type": "markdown",
   "id": "676cb7d3",
   "metadata": {},
   "source": [
    "## getattr():getattr() 函数用于返回一个对象属性值\n",
    "    getattr(object, name[, default])\n",
    "        object -- 对象。\n",
    "        name -- 字符串，对象属性。\n",
    "        default -- 默认返回值，如果不提供该参数，在没有对应属性时，将触发 AttributeError。"
   ]
  },
  {
   "cell_type": "code",
   "execution_count": 3,
   "id": "3ea620f8-df6a-4ad3-af3b-472ee4025008",
   "metadata": {},
   "outputs": [],
   "source": [
    "# 创建一个测试类\n",
    "class test:\n",
    "    name=\"Tom\"\n",
    "    age=30\n",
    "    sex='male'\n",
    "    def __init__(self):\n",
    "        name=\"Lili\"\n",
    "        age=20\n",
    "        sex='Femal'"
   ]
  },
  {
   "cell_type": "code",
   "execution_count": 4,
   "id": "6113fdc0-7c82-4d6b-82b2-1df9d974a40d",
   "metadata": {},
   "outputs": [
    {
     "data": {
      "text/plain": [
       "'Tom'"
      ]
     },
     "execution_count": 4,
     "metadata": {},
     "output_type": "execute_result"
    }
   ],
   "source": [
    "tt = test()\n",
    "getattr(tt,'name')"
   ]
  },
  {
   "cell_type": "markdown",
   "id": "a9a8c952",
   "metadata": {},
   "source": [
    "## globals() 函数会以字典类型返回当前位置的全部全局变量"
   ]
  },
  {
   "cell_type": "code",
   "execution_count": 6,
   "id": "774c8832-50e5-4bc9-86a6-0669b2356146",
   "metadata": {},
   "outputs": [
    {
     "name": "stdin",
     "output_type": "stream",
     "text": [
      "Once deleted, variables cannot be recovered. Proceed (y/[n])?  y\n"
     ]
    }
   ],
   "source": [
    "%reset"
   ]
  },
  {
   "cell_type": "code",
   "execution_count": 7,
   "id": "ee61397c",
   "metadata": {},
   "outputs": [
    {
     "data": {
      "text/plain": [
       "{'__name__': '__main__',\n",
       " '__builtin__': <module 'builtins' (built-in)>,\n",
       " '__builtins__': <module 'builtins' (built-in)>,\n",
       " '_ih': ['',\n",
       "  'globals()',\n",
       "  '# %reset',\n",
       "  '# 创建一个测试类\\nclass test:\\n    name=\"Tom\"\\n    age=30\\n    sex=\\'male\\'\\n    def __init__(self):\\n        name=\"Lili\"\\n        age=20\\n        sex=\\'Femal\\'',\n",
       "  \"tt = test()\\ngetattr(tt,'name')\",\n",
       "  'globals()',\n",
       "  \"get_ipython().run_line_magic('reset', '')\",\n",
       "  'globals()'],\n",
       " '_oh': {},\n",
       " '_dh': ['C:\\\\python\\\\function'],\n",
       " 'In': ['',\n",
       "  'globals()',\n",
       "  '# %reset',\n",
       "  '# 创建一个测试类\\nclass test:\\n    name=\"Tom\"\\n    age=30\\n    sex=\\'male\\'\\n    def __init__(self):\\n        name=\"Lili\"\\n        age=20\\n        sex=\\'Femal\\'',\n",
       "  \"tt = test()\\ngetattr(tt,'name')\",\n",
       "  'globals()',\n",
       "  \"get_ipython().run_line_magic('reset', '')\",\n",
       "  'globals()'],\n",
       " 'Out': {},\n",
       " 'get_ipython': <bound method InteractiveShell.get_ipython of <ipykernel.zmqshell.ZMQInteractiveShell object at 0x000001CE76CF0400>>,\n",
       " 'exit': <IPython.core.autocall.ZMQExitAutocall at 0x1ce76cf0c70>,\n",
       " 'quit': <IPython.core.autocall.ZMQExitAutocall at 0x1ce76cf0c70>,\n",
       " '_i': '%reset',\n",
       " '_ii': 'globals()',\n",
       " '_iii': \"tt = test()\\ngetattr(tt,'name')\",\n",
       " '_i7': 'globals()'}"
      ]
     },
     "execution_count": 7,
     "metadata": {},
     "output_type": "execute_result"
    }
   ],
   "source": [
    "globals()"
   ]
  },
  {
   "cell_type": "markdown",
   "id": "ee847220",
   "metadata": {},
   "source": [
    "## hasattr() 函数用于判断对象是否包含对应的属性\n",
    "    hasattr(object, name)"
   ]
  },
  {
   "cell_type": "code",
   "execution_count": 8,
   "id": "a0ad8fdc",
   "metadata": {},
   "outputs": [],
   "source": [
    "# 创建一个测试类\n",
    "class test:\n",
    "    name=\"Tom\"\n",
    "    age=30\n",
    "    sex='male'\n",
    "    def __init__(self):\n",
    "        name=\"Lili\"\n",
    "        age=20\n",
    "        sex='Femal'"
   ]
  },
  {
   "cell_type": "code",
   "execution_count": 9,
   "id": "db82310a",
   "metadata": {},
   "outputs": [
    {
     "data": {
      "text/plain": [
       "True"
      ]
     },
     "execution_count": 9,
     "metadata": {},
     "output_type": "execute_result"
    }
   ],
   "source": [
    "hasattr(test,'name')"
   ]
  },
  {
   "cell_type": "markdown",
   "id": "0e0f14c1",
   "metadata": {},
   "source": [
    "## hash() 用于获取取一个对象（字符串或者数值等）的哈希值\n",
    "    hash(object)"
   ]
  },
  {
   "cell_type": "code",
   "execution_count": 14,
   "id": "b690577b",
   "metadata": {},
   "outputs": [
    {
     "data": {
      "text/plain": [
       "124140097214"
      ]
     },
     "execution_count": 14,
     "metadata": {},
     "output_type": "execute_result"
    }
   ],
   "source": [
    "# 该处test是7.24 hasattr()中的类\n",
    "hash(test)"
   ]
  },
  {
   "cell_type": "markdown",
   "id": "6e33542b",
   "metadata": {},
   "source": [
    "## help() 函数用于查看函数或模块用途的详细说明。\n",
    "    help([object])"
   ]
  },
  {
   "cell_type": "code",
   "execution_count": null,
   "id": "d6c56182",
   "metadata": {},
   "outputs": [],
   "source": [
    "import sys\n",
    "import os"
   ]
  },
  {
   "cell_type": "code",
   "execution_count": 15,
   "id": "72ebb8ae",
   "metadata": {
    "collapsed": true,
    "jupyter": {
     "outputs_hidden": true
    },
    "tags": []
   },
   "outputs": [
    {
     "name": "stdout",
     "output_type": "stream",
     "text": [
      "Help on built-in module sys:\n",
      "\n",
      "NAME\n",
      "    sys\n",
      "\n",
      "MODULE REFERENCE\n",
      "    https://docs.python.org/3.8/library/sys\n",
      "    \n",
      "    The following documentation is automatically generated from the Python\n",
      "    source files.  It may be incomplete, incorrect or include features that\n",
      "    are considered implementation detail and may vary between Python\n",
      "    implementations.  When in doubt, consult the module reference at the\n",
      "    location listed above.\n",
      "\n",
      "DESCRIPTION\n",
      "    This module provides access to some objects used or maintained by the\n",
      "    interpreter and to functions that interact strongly with the interpreter.\n",
      "    \n",
      "    Dynamic objects:\n",
      "    \n",
      "    argv -- command line arguments; argv[0] is the script pathname if known\n",
      "    path -- module search path; path[0] is the script directory, else ''\n",
      "    modules -- dictionary of loaded modules\n",
      "    \n",
      "    displayhook -- called to show results in an interactive session\n",
      "    excepthook -- called to handle any uncaught exception other than SystemExit\n",
      "      To customize printing in an interactive session or to install a custom\n",
      "      top-level exception handler, assign other functions to replace these.\n",
      "    \n",
      "    stdin -- standard input file object; used by input()\n",
      "    stdout -- standard output file object; used by print()\n",
      "    stderr -- standard error object; used for error messages\n",
      "      By assigning other file objects (or objects that behave like files)\n",
      "      to these, it is possible to redirect all of the interpreter's I/O.\n",
      "    \n",
      "    last_type -- type of last uncaught exception\n",
      "    last_value -- value of last uncaught exception\n",
      "    last_traceback -- traceback of last uncaught exception\n",
      "      These three are only available in an interactive session after a\n",
      "      traceback has been printed.\n",
      "    \n",
      "    Static objects:\n",
      "    \n",
      "    builtin_module_names -- tuple of module names built into this interpreter\n",
      "    copyright -- copyright notice pertaining to this interpreter\n",
      "    exec_prefix -- prefix used to find the machine-specific Python library\n",
      "    executable -- absolute path of the executable binary of the Python interpreter\n",
      "    float_info -- a named tuple with information about the float implementation.\n",
      "    float_repr_style -- string indicating the style of repr() output for floats\n",
      "    hash_info -- a named tuple with information about the hash algorithm.\n",
      "    hexversion -- version information encoded as a single integer\n",
      "    implementation -- Python implementation information.\n",
      "    int_info -- a named tuple with information about the int implementation.\n",
      "    maxsize -- the largest supported length of containers.\n",
      "    maxunicode -- the value of the largest Unicode code point\n",
      "    platform -- platform identifier\n",
      "    prefix -- prefix used to find the Python library\n",
      "    thread_info -- a named tuple with information about the thread implementation.\n",
      "    version -- the version of this interpreter as a string\n",
      "    version_info -- version information as a named tuple\n",
      "    dllhandle -- [Windows only] integer handle of the Python DLL\n",
      "    winver -- [Windows only] version number of the Python DLL\n",
      "    _enablelegacywindowsfsencoding -- [Windows only]\n",
      "    __stdin__ -- the original stdin; don't touch!\n",
      "    __stdout__ -- the original stdout; don't touch!\n",
      "    __stderr__ -- the original stderr; don't touch!\n",
      "    __displayhook__ -- the original displayhook; don't touch!\n",
      "    __excepthook__ -- the original excepthook; don't touch!\n",
      "    \n",
      "    Functions:\n",
      "    \n",
      "    displayhook() -- print an object to the screen, and save it in builtins._\n",
      "    excepthook() -- print an exception and its traceback to sys.stderr\n",
      "    exc_info() -- return thread-safe information about the current exception\n",
      "    exit() -- exit the interpreter by raising SystemExit\n",
      "    getdlopenflags() -- returns flags to be used for dlopen() calls\n",
      "    getprofile() -- get the global profiling function\n",
      "    getrefcount() -- return the reference count for an object (plus one :-)\n",
      "    getrecursionlimit() -- return the max recursion depth for the interpreter\n",
      "    getsizeof() -- return the size of an object in bytes\n",
      "    gettrace() -- get the global debug tracing function\n",
      "    setcheckinterval() -- control how often the interpreter checks for events\n",
      "    setdlopenflags() -- set the flags to be used for dlopen() calls\n",
      "    setprofile() -- set the global profiling function\n",
      "    setrecursionlimit() -- set the max recursion depth for the interpreter\n",
      "    settrace() -- set the global debug tracing function\n",
      "\n",
      "FUNCTIONS\n",
      "    __breakpointhook__ = breakpointhook(...)\n",
      "        breakpointhook(*args, **kws)\n",
      "        \n",
      "        This hook function is called by built-in breakpoint().\n",
      "    \n",
      "    __displayhook__ = displayhook(object, /)\n",
      "        Print an object to sys.stdout and also save it in builtins._\n",
      "    \n",
      "    __excepthook__ = excepthook(exctype, value, traceback, /)\n",
      "        Handle an exception by displaying it with a traceback on sys.stderr.\n",
      "    \n",
      "    __unraisablehook__ = unraisablehook(unraisable, /)\n",
      "        Handle an unraisable exception.\n",
      "        \n",
      "        The unraisable argument has the following attributes:\n",
      "        \n",
      "        * exc_type: Exception type.\n",
      "        * exc_value: Exception value, can be None.\n",
      "        * exc_traceback: Exception traceback, can be None.\n",
      "        * err_msg: Error message, can be None.\n",
      "        * object: Object causing the exception, can be None.\n",
      "    \n",
      "    addaudithook(hook)\n",
      "        Adds a new audit hook callback.\n",
      "    \n",
      "    audit(...)\n",
      "        audit(event, *args)\n",
      "        \n",
      "        Passes the event to any audit hooks that are attached.\n",
      "    \n",
      "    breakpointhook(...)\n",
      "        breakpointhook(*args, **kws)\n",
      "        \n",
      "        This hook function is called by built-in breakpoint().\n",
      "    \n",
      "    call_tracing(func, args, /)\n",
      "        Call func(*args), while tracing is enabled.\n",
      "        \n",
      "        The tracing state is saved, and restored afterwards.  This is intended\n",
      "        to be called from a debugger from a checkpoint, to recursively debug\n",
      "        some other code.\n",
      "    \n",
      "    callstats()\n",
      "        Return a tuple of function call statistics.\n",
      "        \n",
      "        A tuple is returned only if CALL_PROFILE was defined when Python was\n",
      "        built.  Otherwise, this returns None.\n",
      "        \n",
      "        When enabled, this function returns detailed, implementation-specific\n",
      "        details about the number of function calls executed. The return value\n",
      "        is a 11-tuple where the entries in the tuple are counts of:\n",
      "        0. all function calls\n",
      "        1. calls to PyFunction_Type objects\n",
      "        2. PyFunction calls that do not create an argument tuple\n",
      "        3. PyFunction calls that do not create an argument tuple\n",
      "           and bypass PyEval_EvalCodeEx()\n",
      "        4. PyMethod calls\n",
      "        5. PyMethod calls on bound methods\n",
      "        6. PyType calls\n",
      "        7. PyCFunction calls\n",
      "        8. generator calls\n",
      "        9. All other calls\n",
      "        10. Number of stack pops performed by call_function()\n",
      "    \n",
      "    exc_info()\n",
      "        Return current exception information: (type, value, traceback).\n",
      "        \n",
      "        Return information about the most recent exception caught by an except\n",
      "        clause in the current stack frame or in an older stack frame.\n",
      "    \n",
      "    exit(status=None, /)\n",
      "        Exit the interpreter by raising SystemExit(status).\n",
      "        \n",
      "        If the status is omitted or None, it defaults to zero (i.e., success).\n",
      "        If the status is an integer, it will be used as the system exit status.\n",
      "        If it is another kind of object, it will be printed and the system\n",
      "        exit status will be one (i.e., failure).\n",
      "    \n",
      "    get_asyncgen_hooks()\n",
      "        Return the installed asynchronous generators hooks.\n",
      "        \n",
      "        This returns a namedtuple of the form (firstiter, finalizer).\n",
      "    \n",
      "    get_coroutine_origin_tracking_depth()\n",
      "        Check status of origin tracking for coroutine objects in this thread.\n",
      "    \n",
      "    getallocatedblocks()\n",
      "        Return the number of memory blocks currently allocated.\n",
      "    \n",
      "    getcheckinterval()\n",
      "        Return the current check interval; see sys.setcheckinterval().\n",
      "    \n",
      "    getdefaultencoding()\n",
      "        Return the current default encoding used by the Unicode implementation.\n",
      "    \n",
      "    getfilesystemencodeerrors()\n",
      "        Return the error mode used Unicode to OS filename conversion.\n",
      "    \n",
      "    getfilesystemencoding()\n",
      "        Return the encoding used to convert Unicode filenames to OS filenames.\n",
      "    \n",
      "    getprofile()\n",
      "        Return the profiling function set with sys.setprofile.\n",
      "        \n",
      "        See the profiler chapter in the library manual.\n",
      "    \n",
      "    getrecursionlimit()\n",
      "        Return the current value of the recursion limit.\n",
      "        \n",
      "        The recursion limit is the maximum depth of the Python interpreter\n",
      "        stack.  This limit prevents infinite recursion from causing an overflow\n",
      "        of the C stack and crashing Python.\n",
      "    \n",
      "    getrefcount(object, /)\n",
      "        Return the reference count of object.\n",
      "        \n",
      "        The count returned is generally one higher than you might expect,\n",
      "        because it includes the (temporary) reference as an argument to\n",
      "        getrefcount().\n",
      "    \n",
      "    getsizeof(...)\n",
      "        getsizeof(object [, default]) -> int\n",
      "        \n",
      "        Return the size of object in bytes.\n",
      "    \n",
      "    getswitchinterval()\n",
      "        Return the current thread switch interval; see sys.setswitchinterval().\n",
      "    \n",
      "    gettrace()\n",
      "        Return the global debug tracing function set with sys.settrace.\n",
      "        \n",
      "        See the debugger chapter in the library manual.\n",
      "    \n",
      "    getwindowsversion()\n",
      "        Return info about the running version of Windows as a named tuple.\n",
      "        \n",
      "        The members are named: major, minor, build, platform, service_pack,\n",
      "        service_pack_major, service_pack_minor, suite_mask, product_type and\n",
      "        platform_version. For backward compatibility, only the first 5 items\n",
      "        are available by indexing. All elements are numbers, except\n",
      "        service_pack and platform_type which are strings, and platform_version\n",
      "        which is a 3-tuple. Platform is always 2. Product_type may be 1 for a\n",
      "        workstation, 2 for a domain controller, 3 for a server.\n",
      "        Platform_version is a 3-tuple containing a version number that is\n",
      "        intended for identifying the OS rather than feature detection.\n",
      "    \n",
      "    intern(string, /)\n",
      "        ``Intern'' the given string.\n",
      "        \n",
      "        This enters the string in the (global) table of interned strings whose\n",
      "        purpose is to speed up dictionary lookups. Return the string itself or\n",
      "        the previously interned string object with the same value.\n",
      "    \n",
      "    is_finalizing()\n",
      "        Return True if Python is exiting.\n",
      "    \n",
      "    set_asyncgen_hooks(...)\n",
      "        set_asyncgen_hooks(* [, firstiter] [, finalizer])\n",
      "        \n",
      "        Set a finalizer for async generators objects.\n",
      "    \n",
      "    set_coroutine_origin_tracking_depth(depth)\n",
      "        Enable or disable origin tracking for coroutine objects in this thread.\n",
      "        \n",
      "        Coroutine objects will track 'depth' frames of traceback information\n",
      "        about where they came from, available in their cr_origin attribute.\n",
      "        \n",
      "        Set a depth of 0 to disable.\n",
      "    \n",
      "    setcheckinterval(n, /)\n",
      "        Set the async event check interval to n instructions.\n",
      "        \n",
      "        This tells the Python interpreter to check for asynchronous events\n",
      "        every n instructions.\n",
      "        \n",
      "        This also affects how often thread switches occur.\n",
      "    \n",
      "    setprofile(...)\n",
      "        setprofile(function)\n",
      "        \n",
      "        Set the profiling function.  It will be called on each function call\n",
      "        and return.  See the profiler chapter in the library manual.\n",
      "    \n",
      "    setrecursionlimit(limit, /)\n",
      "        Set the maximum depth of the Python interpreter stack to n.\n",
      "        \n",
      "        This limit prevents infinite recursion from causing an overflow of the C\n",
      "        stack and crashing Python.  The highest possible limit is platform-\n",
      "        dependent.\n",
      "    \n",
      "    setswitchinterval(interval, /)\n",
      "        Set the ideal thread switching delay inside the Python interpreter.\n",
      "        \n",
      "        The actual frequency of switching threads can be lower if the\n",
      "        interpreter executes long sequences of uninterruptible code\n",
      "        (this is implementation-specific and workload-dependent).\n",
      "        \n",
      "        The parameter must represent the desired switching delay in seconds\n",
      "        A typical value is 0.005 (5 milliseconds).\n",
      "    \n",
      "    settrace(...)\n",
      "        settrace(function)\n",
      "        \n",
      "        Set the global debug tracing function.  It will be called on each\n",
      "        function call.  See the debugger chapter in the library manual.\n",
      "    \n",
      "    unraisablehook(unraisable, /)\n",
      "        Handle an unraisable exception.\n",
      "        \n",
      "        The unraisable argument has the following attributes:\n",
      "        \n",
      "        * exc_type: Exception type.\n",
      "        * exc_value: Exception value, can be None.\n",
      "        * exc_traceback: Exception traceback, can be None.\n",
      "        * err_msg: Error message, can be None.\n",
      "        * object: Object causing the exception, can be None.\n",
      "\n",
      "DATA\n",
      "    __stderr__ = <_io.TextIOWrapper name='<stderr>' mode='w' encoding='utf...\n",
      "    __stdin__ = <_io.TextIOWrapper name='<stdin>' mode='r' encoding='gbk'>\n",
      "    __stdout__ = <_io.TextIOWrapper name='<stdout>' mode='w' encoding='utf...\n",
      "    api_version = 1013\n",
      "    argv = [r'C:\\work\\virtenvs\\3p8_64bit_SensiPython_4p0\\lib\\site-packages...\n",
      "    base_exec_prefix = r'C:\\Program Files\\WinPython38_64bit\\python-3.8.6.a...\n",
      "    base_prefix = r'C:\\Program Files\\WinPython38_64bit\\python-3.8.6.amd64'\n",
      "    builtin_module_names = ('_abc', '_ast', '_bisect', '_blake2', '_codecs...\n",
      "    byteorder = 'little'\n",
      "    copyright = 'Copyright (c) 2001-2020 Python Software Foundati...ematis...\n",
      "    displayhook = <ipykernel.displayhook.ZMQShellDisplayHook object>\n",
      "    dllhandle = 140732048474112\n",
      "    dont_write_bytecode = False\n",
      "    exec_prefix = r'C:\\work\\virtenvs\\3p8_64bit_SensiPython_4p0'\n",
      "    executable = r'C:\\work\\virtenvs\\3p8_64bit_SensiPython_4p0\\Scripts\\pyth...\n",
      "    flags = sys.flags(debug=0, inspect=0, interactive=0, opt...ation=1, is...\n",
      "    float_info = sys.float_info(max=1.7976931348623157e+308, max_...epsilo...\n",
      "    float_repr_style = 'short'\n",
      "    hash_info = sys.hash_info(width=64, modulus=2305843009213693...iphash2...\n",
      "    hexversion = 50857712\n",
      "    implementation = namespace(cache_tag='cpython-38', hexversion=508...in...\n",
      "    int_info = sys.int_info(bits_per_digit=30, sizeof_digit=4)\n",
      "    maxsize = 9223372036854775807\n",
      "    maxunicode = 1114111\n",
      "    meta_path = [<_virtualenv._Finder object>, <class '_frozen_importlib.B...\n",
      "    modules = {'IPython': <module 'IPython' from 'C:\\\\work\\\\virtenvs\\\\3p8_...\n",
      "    path = [r'C:\\python\\function', r'C:\\Users\\osun\\Desktop\\Python\\Function...\n",
      "    path_hooks = [<class 'zipimport.zipimporter'>, <function FileFinder.pa...\n",
      "    path_importer_cache = {r'C:\\Program Files\\WinPython38_64bit\\python-3.8...\n",
      "    platform = 'win32'\n",
      "    prefix = r'C:\\work\\virtenvs\\3p8_64bit_SensiPython_4p0'\n",
      "    ps1 = 'In : '\n",
      "    ps2 = '...: '\n",
      "    ps3 = 'Out: '\n",
      "    pycache_prefix = None\n",
      "    stderr = <ipykernel.iostream.OutStream object>\n",
      "    stdin = <_io.TextIOWrapper name='<stdin>' mode='r' encoding='gbk'>\n",
      "    stdout = <ipykernel.iostream.OutStream object>\n",
      "    thread_info = sys.thread_info(name='nt', lock=None, version=None)\n",
      "    version = '3.8.6 (tags/v3.8.6:db45529, Sep 23 2020, 15:52:53) [MSC v.1...\n",
      "    version_info = sys.version_info(major=3, minor=8, micro=6, releaseleve...\n",
      "    warnoptions = []\n",
      "    winver = '3.8'\n",
      "\n",
      "FILE\n",
      "    (built-in)\n",
      "\n",
      "\n"
     ]
    }
   ],
   "source": [
    "# sys如果有导入，可以使用help(sys);如果没有导入，则使用help('sys')\n",
    "help('sys')"
   ]
  },
  {
   "cell_type": "markdown",
   "id": "7dbf691b",
   "metadata": {},
   "source": [
    "## hex() 函数用于将一个指定数字转换为 16 进制数\n",
    "    hex(x)"
   ]
  },
  {
   "cell_type": "code",
   "execution_count": 16,
   "id": "4a7716d5",
   "metadata": {},
   "outputs": [
    {
     "data": {
      "text/plain": [
       "'0x7f'"
      ]
     },
     "execution_count": 16,
     "metadata": {},
     "output_type": "execute_result"
    }
   ],
   "source": [
    "hex(127)"
   ]
  },
  {
   "cell_type": "markdown",
   "id": "6fd0213e",
   "metadata": {},
   "source": [
    "## id() 函数返回对象的唯一标识符，标识符是一个整数,就是内存地址"
   ]
  },
  {
   "cell_type": "code",
   "execution_count": 17,
   "id": "01ed5fa3",
   "metadata": {},
   "outputs": [
    {
     "data": {
      "text/plain": [
       "1986241555424"
      ]
     },
     "execution_count": 17,
     "metadata": {},
     "output_type": "execute_result"
    }
   ],
   "source": [
    "# 该处test是7.24 hasattr()中的类\n",
    "id(test)"
   ]
  },
  {
   "cell_type": "markdown",
   "id": "7588b696",
   "metadata": {},
   "source": [
    "## input() 函数接受一个标准输入数据，返回为 string 类型"
   ]
  },
  {
   "cell_type": "code",
   "execution_count": null,
   "id": "bd6c7ed9",
   "metadata": {},
   "outputs": [],
   "source": [
    "a = input(\"input:\")\n",
    "a"
   ]
  },
  {
   "cell_type": "markdown",
   "id": "e3294272",
   "metadata": {},
   "source": [
    "## int() 函数用于将一个字符串或数字转换为整型\n",
    "    class int(x, base=10)"
   ]
  },
  {
   "cell_type": "markdown",
   "id": "074eb46c",
   "metadata": {},
   "source": [
    "## isinstance() 函数来判断一个对象是否是一个已知的类型，类似 type()\n",
    "    isinstance() 与 type() 区别：\n",
    "        type() 不会认为子类是一种父类类型，不考虑继承关系。\n",
    "        isinstance() 会认为子类是一种父类类型，考虑继承关系。\n",
    "    如果要判断两个类型是否相同推荐使用 isinstance()。\n",
    "    isinstance(object, classinfo)"
   ]
  },
  {
   "cell_type": "code",
   "execution_count": 18,
   "id": "c8177986",
   "metadata": {},
   "outputs": [
    {
     "data": {
      "text/plain": [
       "True"
      ]
     },
     "execution_count": 18,
     "metadata": {},
     "output_type": "execute_result"
    }
   ],
   "source": [
    "isinstance(3,int)"
   ]
  },
  {
   "cell_type": "code",
   "execution_count": 19,
   "id": "9255bf5e",
   "metadata": {},
   "outputs": [
    {
     "data": {
      "text/plain": [
       "False"
      ]
     },
     "execution_count": 19,
     "metadata": {},
     "output_type": "execute_result"
    }
   ],
   "source": [
    "isinstance('s',(float,list,int))  #是元组中的一种就返回True, 不知道为什么classinfo不能是str"
   ]
  },
  {
   "cell_type": "markdown",
   "id": "a9d61dba",
   "metadata": {},
   "source": [
    "## issubclass() 方法用于判断参数 class 是否是类型参数 classinfo 的子类"
   ]
  },
  {
   "cell_type": "code",
   "execution_count": 20,
   "id": "f867045a-0748-47eb-a42a-1f09fb2906e8",
   "metadata": {},
   "outputs": [],
   "source": [
    "class A:\n",
    "    pass\n",
    "class B(A):\n",
    "    pass"
   ]
  },
  {
   "cell_type": "code",
   "execution_count": 22,
   "id": "6c369daa-d903-45e0-b96b-1388fee48095",
   "metadata": {},
   "outputs": [
    {
     "data": {
      "text/plain": [
       "True"
      ]
     },
     "execution_count": 22,
     "metadata": {},
     "output_type": "execute_result"
    }
   ],
   "source": [
    "issubclass(B,A)     #判断B是否为A的子类"
   ]
  },
  {
   "cell_type": "markdown",
   "id": "5cb92be3",
   "metadata": {},
   "source": [
    "## iter() 函数用来生成迭代器"
   ]
  },
  {
   "cell_type": "markdown",
   "id": "30b3b89b",
   "metadata": {},
   "source": [
    "## len() 方法返回对象（字符、列表、元组等）长度或项目个数"
   ]
  },
  {
   "cell_type": "markdown",
   "id": "13a60759",
   "metadata": {},
   "source": [
    "## list() 方法用于将元组或字符串转换为列表"
   ]
  },
  {
   "cell_type": "markdown",
   "id": "ae621253",
   "metadata": {},
   "source": [
    "## locals() 函数会以字典类型返回当前位置的全部局部变量"
   ]
  },
  {
   "cell_type": "code",
   "execution_count": 24,
   "id": "54df366b",
   "metadata": {},
   "outputs": [],
   "source": [
    "# locals()"
   ]
  },
  {
   "cell_type": "markdown",
   "id": "19057f33",
   "metadata": {},
   "source": [
    "## map() 函数会根据提供的函数对指定序列做映射\n",
    "    map(function, iterable, ...)\n",
    "        function -- 函数\n",
    "        iterable -- 一个或多个序列: 当是多个序列时, 每个序列里的元素都要一个一个的传给function, 也就是function需要接受多个参数\n",
    "    返回一个迭代器"
   ]
  },
  {
   "cell_type": "code",
   "execution_count": 25,
   "id": "fbe86c2f",
   "metadata": {},
   "outputs": [
    {
     "data": {
      "text/plain": [
       "[1, 4, 9, 16, 25]"
      ]
     },
     "execution_count": 25,
     "metadata": {},
     "output_type": "execute_result"
    }
   ],
   "source": [
    "list(map(lambda x: x ** 2, [1, 2, 3, 4, 5]))"
   ]
  },
  {
   "cell_type": "code",
   "execution_count": 32,
   "id": "6768b727-8e5e-4aa1-b023-8b5a03023c3e",
   "metadata": {},
   "outputs": [
    {
     "name": "stdout",
     "output_type": "stream",
     "text": [
      "10\n",
      "18\n"
     ]
    }
   ],
   "source": [
    "for i in map(lambda x,y:x*y,[2,3],[5,6]):    #多个参数\n",
    "    print(i)"
   ]
  },
  {
   "cell_type": "markdown",
   "id": "65f3c5f9",
   "metadata": {},
   "source": [
    "## min() /max():方法返回给定参数的最小/大值，参数可以为序列"
   ]
  },
  {
   "cell_type": "code",
   "execution_count": null,
   "id": "f566c4f1",
   "metadata": {},
   "outputs": [],
   "source": [
    "min(90,80,110)"
   ]
  },
  {
   "cell_type": "code",
   "execution_count": null,
   "id": "4c0f02d6",
   "metadata": {},
   "outputs": [],
   "source": [
    "min([90,80,110])"
   ]
  },
  {
   "cell_type": "code",
   "execution_count": null,
   "id": "f8309a36",
   "metadata": {},
   "outputs": [],
   "source": [
    "max(90,80,110)"
   ]
  },
  {
   "cell_type": "code",
   "execution_count": null,
   "id": "9cdb6a26",
   "metadata": {},
   "outputs": [],
   "source": [
    "max([90,80,110])"
   ]
  },
  {
   "cell_type": "markdown",
   "id": "f5412580",
   "metadata": {},
   "source": [
    "## memoryview() 函数返回给定参数的内存查看对象(memory view)\n",
    "    所谓内存查看对象，是指对支持缓冲区协议的数据进行包装，在不需要复制对象基础上允许Python代码访问\n",
    "    memoryview(obj)"
   ]
  },
  {
   "cell_type": "code",
   "execution_count": 1,
   "id": "485a506d",
   "metadata": {},
   "outputs": [
    {
     "data": {
      "text/plain": [
       "98"
      ]
     },
     "execution_count": 1,
     "metadata": {},
     "output_type": "execute_result"
    }
   ],
   "source": [
    "v = memoryview(bytearray(\"abcefg\", 'utf-8'))\n",
    "v[1]"
   ]
  },
  {
   "cell_type": "markdown",
   "id": "301e01f2",
   "metadata": {},
   "source": [
    "## next() 返回迭代器的下一个项目\n",
    "    要和生成迭代器的 iter() 函数一起使用"
   ]
  },
  {
   "cell_type": "markdown",
   "id": "9eb59370",
   "metadata": {},
   "source": [
    "## oct() 函数将一个整数转换成 8 进制字符串\n",
    "    8 进制以 0o 作为前缀表示"
   ]
  },
  {
   "cell_type": "code",
   "execution_count": null,
   "id": "8ae445e0",
   "metadata": {},
   "outputs": [],
   "source": [
    "oct(127)"
   ]
  },
  {
   "cell_type": "markdown",
   "id": "0df345e6",
   "metadata": {},
   "source": [
    "## open() 函数用于打开一个文件，并返回文件对象"
   ]
  },
  {
   "cell_type": "markdown",
   "id": "f9702e1d",
   "metadata": {},
   "source": [
    "### 参数说明"
   ]
  },
  {
   "cell_type": "code",
   "execution_count": null,
   "id": "820b0df9",
   "metadata": {},
   "outputs": [],
   "source": [
    "# open(file, mode='r', buffering=-1, encoding=None, errors=None, newline=None, closefd=True, opener=None)\n",
    "# 参数说明:\n",
    "    # file: 必需，文件路径（相对或者绝对路径）。\n",
    "    # mode: 可选，文件打开模式\n",
    "    # buffering: 设置缓冲\n",
    "        #0/False: 该参数不可用，不使用缓冲区\n",
    "        #1 或者大于1的整数： 该整数用于指定缓冲区的大小（单位是字节），可以将输入时时写入磁盘,同print(flush=True)\n",
    "        #-1或者是负数：则代表使用默认的缓冲区大小, 只有退出循环输入，数据才写入磁盘\n",
    "    # encoding: 一般使用utf8,windows默认为 cp936（实际上就是 GBK 编码）\n",
    "    # errors: 报错级别\n",
    "    # newline: 区分换行符\n",
    "    # closefd: 传入的file参数类型\n",
    "    # opener:"
   ]
  },
  {
   "cell_type": "markdown",
   "id": "a85f893e",
   "metadata": {},
   "source": [
    "### mode参数"
   ]
  },
  {
   "cell_type": "code",
   "execution_count": null,
   "id": "01135e3f",
   "metadata": {},
   "outputs": [],
   "source": [
    "# mode 参数有：\n",
    "# 模式\t描述\n",
    "    # t\t文本模式 (默认)。\n",
    "    # x\t写模式，新建一个文件，如果该文件已存在则会报错。\n",
    "    # b\t二进制模式。\n",
    "    # +\t打开一个文件进行更新(可读可写)。\n",
    "    # U\t通用换行模式（不推荐）。\n",
    "    # r\t以只读方式打开文件。文件的指针将会放在文件的开头。这是默认模式。\n",
    "    # rb\t以二进制格式打开一个文件用于只读。文件指针将会放在文件的开头。这是默认模式。一般用于非文本文件如图片等。\n",
    "    # r+\t打开一个文件用于读写。文件指针将会放在文件的开头。\n",
    "    # rb+\t以二进制格式打开一个文件用于读写。文件指针将会放在文件的开头。一般用于非文本文件如图片等。\n",
    "    # w\t打开一个文件只用于写入。如果该文件已存在则打开文件，并从开头开始编辑，即原有内容会被删除。如果该文件不存在，创建新文件。\n",
    "    # wb\t以二进制格式打开一个文件只用于写入。如果该文件已存在则打开文件，并从开头开始编辑，即原有内容会被删除。如果该文件不存在，创建新文件。一般用于非文本文件如图片等。\n",
    "    # w+\t打开一个文件用于读写。如果该文件已存在则打开文件，并从开头开始编辑，即原有内容会被删除。如果该文件不存在，创建新文件。\n",
    "    # wb+\t以二进制格式打开一个文件用于读写。如果该文件已存在则打开文件，并从开头开始编辑，即原有内容会被删除。如果该文件不存在，创建新文件。一般用于非文本文件如图片等。\n",
    "    # a\t打开一个文件用于追加。如果该文件已存在，文件指针将会放在文件的结尾。也就是说，新的内容将会被写入到已有内容之后。如果该文件不存在，创建新文件进行写入。\n",
    "    # ab\t以二进制格式打开一个文件用于追加。如果该文件已存在，文件指针将会放在文件的结尾。也就是说，新的内容将会被写入到已有内容之后。如果该文件不存在，创建新文件进行写入。\n",
    "    # a+\t打开一个文件用于读写。如果该文件已存在，文件指针将会放在文件的结尾。文件打开时会是追加模式。如果该文件不存在，创建新文件用于读写。\n",
    "    # ab+\t以二进制格式打开一个文件用于追加。如果该文件已存在，文件指针将会放在文件的结尾。如果该文件不存在，创建新文件用于读写。"
   ]
  },
  {
   "cell_type": "markdown",
   "id": "e49237b0",
   "metadata": {},
   "source": [
    "### buffering参数"
   ]
  },
  {
   "cell_type": "code",
   "execution_count": null,
   "id": "344317fe",
   "metadata": {},
   "outputs": [],
   "source": [
    "# buffering参数介绍：\n",
    "    # open()是否需要缓冲区\n",
    "    # 通常情况下、建议大家在使用 open() 函数时打开缓冲区，即不需要修改 buffing 参数的值。\n",
    "    # 如果 buffing 参数的值为 0（或者 False），则表示在打开指定文件时不使用缓冲区；如果 buffing 参数值为大于 1 的整数，该整数用于指定缓冲区的大小（单位是字节）；如果 buffing 参数的值为负数，则代表使用默认的缓冲区大小。\n",
    "    # 为什么呢？原因很简单，目前为止计算机内存的 I/O 速度仍远远高于计算机外设（例如键盘、鼠标、硬盘等）的 I/O 速度，如果不使用缓冲区，则程序在执行 I/O 操作时，内存和外设就必须进行同步读写操作，也就是说，内存必须等待外设输入（输出）一个字节之后，才能再次输出（输入）一个字节。这意味着，内存中的程序大部分时间都处于等待状态。\n",
    "    # 而如果使用缓冲区，则程序在执行输出操作时，会先将所有数据都输出到缓冲区中，然后继续执行其它操作，缓冲区中的数据会有外设自行读取处理；同样，当程序执行输入操作时，会先等外设将数据读入缓冲区中，无需同外设做同步读写操作。"
   ]
  },
  {
   "cell_type": "code",
   "execution_count": null,
   "id": "c870d92c",
   "metadata": {},
   "outputs": [],
   "source": [
    "# buffering使用默认值或者-1，在输入的过程中，内容不会时时保存到文件，只有退出输入循环后，所有数据一次写入文件\n",
    "with open('test.txt','a') as fp:\n",
    "    while True:\n",
    "        name = input(\"Input:\")\n",
    "        fp.write(name+'\\n')\n",
    "        if name == \"exit\":\n",
    "            break"
   ]
  },
  {
   "cell_type": "code",
   "execution_count": 5,
   "id": "aa64e87b",
   "metadata": {},
   "outputs": [
    {
     "name": "stdin",
     "output_type": "stream",
     "text": [
      "Input: 1\n",
      "Input: 2\n",
      "Input: 3\n",
      "Input: 5\n",
      "Input: exit\n"
     ]
    }
   ],
   "source": [
    "# buffering=1，在输入的过程中，内容会时时保存到文件，\n",
    "with open('test.txt','a',buffering=1) as fp:\n",
    "    while True:\n",
    "        name = input(\"Input:\")\n",
    "        fp.write(name+'\\n')\n",
    "        if name == \"exit\":\n",
    "            break"
   ]
  },
  {
   "cell_type": "markdown",
   "id": "a026ad88",
   "metadata": {},
   "source": [
    "### open文件常用属性"
   ]
  },
  {
   "cell_type": "code",
   "execution_count": null,
   "id": "2a79c508",
   "metadata": {},
   "outputs": [],
   "source": [
    "# file.name：返回文件的名称；\n",
    "# file.mode：返回打开文件时，采用的文件打开模式；\n",
    "# file.encoding：返回打开文件时使用的编码格式；\n",
    "# file.closed：判断文件是否己经关闭。"
   ]
  },
  {
   "cell_type": "code",
   "execution_count": null,
   "id": "95222f30",
   "metadata": {},
   "outputs": [],
   "source": [
    "fp = open('test.txt','a',encoding='utf8')\n",
    "fp.encoding"
   ]
  },
  {
   "cell_type": "code",
   "execution_count": null,
   "id": "de92849e",
   "metadata": {},
   "outputs": [],
   "source": [
    "fp.close()"
   ]
  },
  {
   "cell_type": "markdown",
   "id": "88d9d0dd",
   "metadata": {},
   "source": [
    "## pow() 方法返回 xy（x的y次方） 的值"
   ]
  },
  {
   "cell_type": "markdown",
   "id": "f1f08cce",
   "metadata": {},
   "source": [
    "## print() 方法用于打印输出，最常见的一个函数\n",
    "    print(*objects, sep=' ', end='\\n', file=sys.stdout, flush=False)\n",
    "    参数：\n",
    "        objects -- 复数，表示可以一次输出多个对象。输出多个对象时，需要用 , 分隔。\n",
    "        sep -- 用来间隔多个对象，默认值是一个空格。可选：'\\t','\\n'...\n",
    "        end -- 用来设定以什么结尾。默认值是换行符 \\n，我们可以换成其他字符串。\n",
    "        file -- 要写入的文件对象。\n",
    "        flush -- 输出是否被缓存通常决定于 file，但如果 flush=True，文件被强制刷新及内容会时时写入磁盘，同open(buffering=1)"
   ]
  },
  {
   "cell_type": "code",
   "execution_count": null,
   "id": "4b9a8966",
   "metadata": {},
   "outputs": [],
   "source": [
    "# sep: 打印多个对象时，用什么来间隔\n",
    "print(\"This\",\"is\",\"test\",\"sentence\",\"!\",sep=\" \")"
   ]
  },
  {
   "cell_type": "code",
   "execution_count": null,
   "id": "24c9f7b3",
   "metadata": {},
   "outputs": [],
   "source": [
    "# end:打印的内容以什么结尾，可以是任何字符串，换行符等，'\\n','\\t'....\n",
    "print(\"This\",\"is\",\"test\",\"sentence\",\"!\",sep=\" \",end='\\nGoodby!')"
   ]
  },
  {
   "cell_type": "code",
   "execution_count": null,
   "id": "95888619",
   "metadata": {},
   "outputs": [],
   "source": [
    "# file:要写入的文件\n",
    "fp = open(\"print.txt\",'a')\n",
    "print(\"This\",\"is\",\"test\",\"sentence\",\"!\",sep=\" \",end='\\nGoodby!',file=fp)\n",
    "fp.close()"
   ]
  },
  {
   "cell_type": "code",
   "execution_count": null,
   "id": "7de3bb9a",
   "metadata": {},
   "outputs": [],
   "source": [
    "# flush=False(default): 输入的内容不会被时时写入磁盘，只有循环结束后，才写入\n",
    "fp = open(\"print.txt\",'a')\n",
    "while True:\n",
    "    name = input(\"input name:\")\n",
    "    print(name,file=fp)\n",
    "    if name == 'exit':\n",
    "        break\n",
    "fp.close()"
   ]
  },
  {
   "cell_type": "code",
   "execution_count": 6,
   "id": "163ee5f5",
   "metadata": {},
   "outputs": [
    {
     "name": "stdin",
     "output_type": "stream",
     "text": [
      "input name: 1\n",
      "input name: 2\n",
      "input name: 3\n",
      "input name: 4\n",
      "input name: exit\n"
     ]
    }
   ],
   "source": [
    "# flush=True(default): 文件被强制刷新，时时写入文件\n",
    "fp = open(\"print.txt\",'a')\n",
    "while True:\n",
    "    name = input(\"input name:\")\n",
    "    print(name,file=fp,flush=True)\n",
    "    if name == 'exit':\n",
    "        break\n",
    "fp.close()"
   ]
  },
  {
   "cell_type": "markdown",
   "id": "584f619b",
   "metadata": {},
   "source": [
    "## property() 函数的作用是在新式类中返回属性值\n",
    "    class property([fget[, fset[, fdel[, doc]]]])\n",
    "    fget -- 获取属性值的函数\n",
    "    fset -- 设置属性值的函数\n",
    "    fdel -- 删除属性值函数\n",
    "    doc -- 属性描述信息"
   ]
  },
  {
   "cell_type": "markdown",
   "id": "16685e3c",
   "metadata": {},
   "source": [
    "## range() 函数返回的是一个可迭代对象（类型是对象）\n",
    "    range(start, stop[, step])\n",
    "        start: 计数从 start 开始。默认是从 0 开始。例如range（5）等价于range（0， 5）;\n",
    "        stop: 计数到 stop 结束，但不包括 stop。例如：range（0， 5） 是[0, 1, 2, 3, 4]没有5\n",
    "        step：步长，默认为1。例如：range（0， 5） 等价于 range(0, 5, 1)"
   ]
  },
  {
   "cell_type": "markdown",
   "id": "96dc6b2f",
   "metadata": {},
   "source": [
    "## repr(obj) 函数将对象转化为供解释器读取的形式"
   ]
  },
  {
   "cell_type": "code",
   "execution_count": 7,
   "id": "0d37a966",
   "metadata": {},
   "outputs": [
    {
     "data": {
      "text/plain": [
       "\"'python'\""
      ]
     },
     "execution_count": 7,
     "metadata": {},
     "output_type": "execute_result"
    }
   ],
   "source": [
    "s = \"python\"\n",
    "repr(s)"
   ]
  },
  {
   "cell_type": "markdown",
   "id": "8c9b9495",
   "metadata": {},
   "source": [
    "## reversed(seq) 函数返回一个反转的迭代器\n",
    "    seq -- 要转换的序列，可以是 tuple, string, list 或 range。"
   ]
  },
  {
   "cell_type": "code",
   "execution_count": 8,
   "id": "767f56ca",
   "metadata": {},
   "outputs": [
    {
     "data": {
      "text/plain": [
       "[3, 2, 1]"
      ]
     },
     "execution_count": 8,
     "metadata": {},
     "output_type": "execute_result"
    }
   ],
   "source": [
    "list(reversed([1,2,3]))"
   ]
  },
  {
   "cell_type": "markdown",
   "id": "abc47423",
   "metadata": {},
   "source": [
    "## round() 方法返回浮点数 x 的四舍五入值，\n",
    "    准确的说保留值将保留到离上一位更近的一端（四舍六入）。精度要求高的，不建议使用该函数\n",
    "    x -- 数字表达式。\n",
    "    n -- 表示从小数点位数，其中 x 需要四舍五入，默认值为 0。"
   ]
  },
  {
   "cell_type": "code",
   "execution_count": null,
   "id": "25cb3444",
   "metadata": {},
   "outputs": [],
   "source": [
    "round(3.1415926,2)"
   ]
  },
  {
   "cell_type": "markdown",
   "id": "847304d5",
   "metadata": {},
   "source": [
    "## set(iterable) 函数创建一个无序不重复元素集\n",
    "    可进行关系测试，删除重复数据，还可以计算交集、差集、并集等"
   ]
  },
  {
   "cell_type": "markdown",
   "id": "ae409b2c",
   "metadata": {},
   "source": [
    "## setattr() 函数对应函数 getattr()，用于设置属性值，该属性不一定是存在的\n",
    "    setattr(object, name, value)"
   ]
  },
  {
   "cell_type": "code",
   "execution_count": null,
   "id": "ce99e4e8",
   "metadata": {},
   "outputs": [],
   "source": [
    "# 创建一个测试类\n",
    "class test:\n",
    "    name=\"Tom\"\n",
    "    age=30\n",
    "    sex='male'\n",
    "    def __init__(self):\n",
    "        name=\"Lili\"\n",
    "        age=20\n",
    "        sex='Femal'"
   ]
  },
  {
   "cell_type": "code",
   "execution_count": null,
   "id": "ddf936c3",
   "metadata": {},
   "outputs": [],
   "source": [
    "# 类实例化\n",
    "tst = test()"
   ]
  },
  {
   "cell_type": "code",
   "execution_count": null,
   "id": "0f7304a7",
   "metadata": {},
   "outputs": [],
   "source": [
    "# 查看类属性\n",
    "tst.age"
   ]
  },
  {
   "cell_type": "code",
   "execution_count": null,
   "id": "f189f64e",
   "metadata": {},
   "outputs": [],
   "source": [
    "# 添加或设置类属性：\n",
    "setattr(tst,'job','Engineer')"
   ]
  },
  {
   "cell_type": "code",
   "execution_count": null,
   "id": "c17e18e0",
   "metadata": {},
   "outputs": [],
   "source": [
    "# 查看类属性\n",
    "tst.job"
   ]
  },
  {
   "cell_type": "code",
   "execution_count": null,
   "id": "47f1cc5d",
   "metadata": {},
   "outputs": [],
   "source": [
    "# 或者使用getattr(),查看类属性：\n",
    "getattr(tst,'job')"
   ]
  },
  {
   "cell_type": "markdown",
   "id": "24d3c700",
   "metadata": {},
   "source": [
    "## slice() 函数实现切片对象，主要用在切片操作函数里的参数传递。\n",
    "    start -- 起始位置\n",
    "    stop -- 结束位置\n",
    "    step -- 间距"
   ]
  },
  {
   "cell_type": "code",
   "execution_count": null,
   "id": "d9fb9b56",
   "metadata": {},
   "outputs": [],
   "source": [
    "myslice = slice(1,6,3)\n",
    "myslice"
   ]
  },
  {
   "cell_type": "code",
   "execution_count": null,
   "id": "04a846ca",
   "metadata": {},
   "outputs": [],
   "source": [
    "# 对于列表来说，这个多此一举\n",
    "lt = [0, 1, 2, 3, 4, 5, 6, 7, 8, 9]\n",
    "lt[myslice]"
   ]
  },
  {
   "cell_type": "markdown",
   "id": "b3630225",
   "metadata": {},
   "source": [
    "## sorted() 函数对所有可迭代的对象进行排序操作"
   ]
  },
  {
   "cell_type": "code",
   "execution_count": null,
   "id": "a6736469",
   "metadata": {},
   "outputs": [],
   "source": [
    "# sort 与 sorted 区别：\n",
    "    # sort 是应用在 list 上的方法，sorted 可以对所有可迭代的对象进行排序操作。\n",
    "    # list 的 sort 方法返回的是对已经存在的列表进行操作，而内建函数 sorted 方法返回的是一个新的 list，而不是在原来的基础上进行的操作。"
   ]
  },
  {
   "cell_type": "markdown",
   "id": "26bbc2d7",
   "metadata": {},
   "source": [
    "## str() 函数将对象转化为适于人阅读的形式"
   ]
  },
  {
   "cell_type": "code",
   "execution_count": null,
   "id": "27ad3771",
   "metadata": {},
   "outputs": [],
   "source": [
    "str(5)"
   ]
  },
  {
   "cell_type": "markdown",
   "id": "e3d9f5bc",
   "metadata": {},
   "source": [
    "## sum() 方法对序列进行求和计算"
   ]
  },
  {
   "cell_type": "code",
   "execution_count": null,
   "id": "1fb9e2de",
   "metadata": {},
   "outputs": [],
   "source": [
    "sum([1,2,3])"
   ]
  },
  {
   "cell_type": "markdown",
   "id": "3609fe8f",
   "metadata": {},
   "source": [
    "## super() 函数是用于调用父类(超类)的一个方法"
   ]
  },
  {
   "cell_type": "markdown",
   "id": "c084ad1b",
   "metadata": {},
   "source": [
    "## tuple 函数将可迭代系列（如列表）转换为元组\n",
    "    tuple() 可以将字符串，列表，字典，集合转化为元组"
   ]
  },
  {
   "cell_type": "code",
   "execution_count": null,
   "id": "f7b2b077",
   "metadata": {},
   "outputs": [],
   "source": [
    "tuple([1,2,3,2])"
   ]
  },
  {
   "cell_type": "markdown",
   "id": "02f35145",
   "metadata": {},
   "source": [
    "## type() 函数如果你只有第一个参数则返回对象的类型，三个参数返回新的类型对象"
   ]
  },
  {
   "cell_type": "code",
   "execution_count": null,
   "id": "d95e1d15",
   "metadata": {},
   "outputs": [],
   "source": [
    "# isinstance() 与 type() 区别：\n",
    "    # type() 不会认为子类是一种父类类型，不考虑继承关系。\n",
    "    # isinstance() 会认为子类是一种父类类型，考虑继承关系。\n",
    "    # 如果要判断两个类型是否相同推荐使用 isinstance()。"
   ]
  },
  {
   "cell_type": "markdown",
   "id": "f5ef3c38",
   "metadata": {},
   "source": [
    "## zip() 将对象中对应的元素打包成一个个元组，然后返回由这些元组组成的对象\n",
    "    这样做的好处是节约了不少的内存。\n",
    "    我们可以使用 list() 转换来输出列表。\n",
    "    如果各个迭代器的元素个数不一致，则返回列表长度与最短的对象相同，利用 * 号操作符，可以将元组解压为列表。\n",
    "    zip([iterable, ...])"
   ]
  },
  {
   "cell_type": "code",
   "execution_count": null,
   "id": "4d184a6a",
   "metadata": {},
   "outputs": [],
   "source": [
    "a = [1,2,3]\n",
    "b = [3,4,5]\n",
    "c = [2,2,2]\n",
    "list(zip(a,b,c))"
   ]
  },
  {
   "cell_type": "markdown",
   "id": "99e9db02",
   "metadata": {},
   "source": [
    "## __import__() 函数用于动态加载类和函数\n",
    "    __import__(name[, globals[, locals[, fromlist[, level]]]])\n",
    "    name: 文件名"
   ]
  },
  {
   "cell_type": "code",
   "execution_count": null,
   "id": "f75a0509",
   "metadata": {},
   "outputs": [],
   "source": [
    "# 次脚本的同一目录下有ipt.py文件，内容如下：\n",
    "    # import random\n",
    "    # print(random.sample(['a','b','c'],1))"
   ]
  },
  {
   "cell_type": "code",
   "execution_count": null,
   "id": "836d295e",
   "metadata": {},
   "outputs": [],
   "source": [
    "__import__('ipt')"
   ]
  },
  {
   "cell_type": "code",
   "execution_count": null,
   "id": "a600761f",
   "metadata": {},
   "outputs": [],
   "source": []
  },
  {
   "cell_type": "code",
   "execution_count": null,
   "id": "09aab8c0",
   "metadata": {},
   "outputs": [],
   "source": []
  },
  {
   "cell_type": "code",
   "execution_count": null,
   "id": "2ad87459",
   "metadata": {},
   "outputs": [],
   "source": [
    "any([x in [\"SoftBin\",\"HardBin\"] for x in df.columns])"
   ]
  },
  {
   "cell_type": "markdown",
   "id": "fb951372",
   "metadata": {
    "toc-hr-collapsed": true
   },
   "source": [
    "# 文件读写"
   ]
  },
  {
   "cell_type": "raw",
   "id": "07ae9719-9f05-43f1-b88c-412bfd51a8c6",
   "metadata": {},
   "source": [
    "file.close()   : 关闭文件, 关闭后文件不能再进行读写操作.\n",
    "file.flush()   : 刷新文件内部缓冲, 直接把内部缓冲的数据立刻写入文件, 而不是被动的等待输出缓冲区写入.\n",
    "file.fileno()  : 返回一个整型的文件描述符(file descriptor FD整型), 可以用在如os模块的read方法等一些底层操作上.\n",
    "file.isatty()  : 如果文件连接到一个终端设备返回True,否则返回False.\n",
    "file.next()    : 返回文件下一行, python3中不支持next()方法.\n",
    "file.read([size]): 从文件中读取指定字节数,如果未给定或为负数则读取所有.\n",
    "file.readline([size]): 读取整行(一行),包括\"\\n\"字符.\n",
    "file.readlines([sizeint]): 读取所有行并返回列表, 若给定sizeint>0, 返回总和大约为sizeint字节的行,实际读取值可能比sizeint较大,因为需要填充缓冲区.\n",
    "file.seek(offfset[,whence]): 移动文件读取指针到指定位置.\n",
    "file.tell()    : 返回文件当前位置.\n",
    "file.truncate(): 从文件的首行字符开始截取, 截取文件为size个字符, 无size表示从当前位置截取; 截取之后后面的所有字符被删除, 其中windows系统下的换行代表2个字符大小.\n",
    "file.write(str) : 将字符串写入文件, 返回的是写入的字符长度.\n",
    "file.writelines(sequence): 向文件写入一个序列字符串列表, 如果需要换行则要自己加入每行的换行符."
   ]
  },
  {
   "cell_type": "markdown",
   "id": "f667d6ee",
   "metadata": {},
   "source": [
    "## 读文件方法："
   ]
  },
  {
   "cell_type": "markdown",
   "id": "8e26455e",
   "metadata": {},
   "source": [
    "### for 循环方式读取：一行一行的读"
   ]
  },
  {
   "cell_type": "code",
   "execution_count": null,
   "id": "785b01ef",
   "metadata": {},
   "outputs": [],
   "source": [
    "with open(r\".\\testfile\\James_Harden.csv\",mode='r',encoding='utf8') as fp:\n",
    "    for val in fp:\n",
    "        print(val)"
   ]
  },
  {
   "cell_type": "markdown",
   "id": "483e1d7d",
   "metadata": {},
   "source": [
    "### read(size):将文件所有内容放在一个字符串中输出,可以指定要读的字节数"
   ]
  },
  {
   "cell_type": "code",
   "execution_count": 5,
   "id": "3f656c06",
   "metadata": {},
   "outputs": [
    {
     "name": "stdout",
     "output_type": "stream",
     "text": [
      "ts_code,trade_date,open,high,low,close,pre_close,change,pct_chg,vol,amount\n",
      "\n"
     ]
    }
   ],
   "source": [
    "with open(r\"C:\\Python\\Python_Basic\\testfile\\002161.SZ_test6.csv\",mode='r',encoding='utf8') as fp:\n",
    "    print(fp.readline())"
   ]
  },
  {
   "cell_type": "markdown",
   "id": "12d773e2",
   "metadata": {},
   "source": [
    "### readline(size):一次只能读一行，且可以指定字节数"
   ]
  },
  {
   "cell_type": "code",
   "execution_count": null,
   "id": "c40cace2",
   "metadata": {},
   "outputs": [],
   "source": [
    "with open(r\".\\testfile\\James_Harden.csv\",mode='r',encoding='utf8') as fp:\n",
    "    print(fp.readline())"
   ]
  },
  {
   "cell_type": "markdown",
   "id": "9cb8d940",
   "metadata": {},
   "source": [
    "### readlines():读取并解析文件，将文件所有内容放到列表里，每一行作为列表里的一个元素\n",
    "    同 lt[:] = open(fp,mode='r')"
   ]
  },
  {
   "cell_type": "code",
   "execution_count": null,
   "id": "895e3dce",
   "metadata": {},
   "outputs": [],
   "source": [
    "with open(r\".\\testfile\\James_Harden.csv\",mode='r',encoding='utf8') as fp:\n",
    "    print(fp.readlines())"
   ]
  },
  {
   "cell_type": "markdown",
   "id": "c12c888b",
   "metadata": {},
   "source": [
    "### 将文件读到列表里: \n",
    "    lt = []\n",
    "    方法一：\n",
    "        lt[:] = open(fp,mode='r')\n",
    "    方法二：\n",
    "        lt.append(open(fp,mode='r'))"
   ]
  },
  {
   "cell_type": "code",
   "execution_count": null,
   "id": "e8ce69b0",
   "metadata": {},
   "outputs": [],
   "source": [
    "lt = []\n",
    "lt[:] = open(r\".\\testfile\\James_Harden.csv\",mode='r',encoding='utf8')\n",
    "for i in lt:\n",
    "    print(i)"
   ]
  },
  {
   "cell_type": "code",
   "execution_count": null,
   "id": "fc3fc58f",
   "metadata": {},
   "outputs": [],
   "source": [
    "lt = []\n",
    "lt.append(open(r\".\\testfile\\James_Harden.csv\",mode='r',encoding='utf8'))\n",
    "for i in list(lt[0]):\n",
    "    print(i)"
   ]
  },
  {
   "cell_type": "markdown",
   "id": "a07a39ba",
   "metadata": {},
   "source": [
    "### csv模块读取文件方法：csv.reader(csvfile, dialect='excel', **fmtparams):  创建读对象"
   ]
  },
  {
   "cell_type": "code",
   "execution_count": null,
   "id": "66a09202",
   "metadata": {},
   "outputs": [],
   "source": [
    "with open(r\".\\testfile\\James_Harden.csv\",mode='r',encoding='utf8') as fp:\n",
    "    csvfile = csv.reader(fp)   #csv.reader()返回的是对象,一行是一个列表,一个单元格是一个字符串\n",
    "    for row in csvfile:\n",
    "        print(row)    "
   ]
  },
  {
   "cell_type": "markdown",
   "id": "736e7df6",
   "metadata": {},
   "source": [
    "## 写文件方法"
   ]
  },
  {
   "cell_type": "markdown",
   "id": "e71c98fd",
   "metadata": {},
   "source": [
    "### write：将字符串写入文件"
   ]
  },
  {
   "cell_type": "code",
   "execution_count": null,
   "id": "1cb5ca2d",
   "metadata": {},
   "outputs": [],
   "source": [
    "with open(r\".\\testfile\\writetest.csv\",mode='a') as fp:\n",
    "    fp.write(\"tst\")"
   ]
  },
  {
   "cell_type": "markdown",
   "id": "27385e2b",
   "metadata": {},
   "source": [
    "### writelines: 将列表,元组等可迭代对象里的字符串写入文件\n",
    "    注意元素只能是字符串,不会做任何处理的写入,如换行,加空格等..."
   ]
  },
  {
   "cell_type": "code",
   "execution_count": null,
   "id": "9f8ebfdd",
   "metadata": {},
   "outputs": [],
   "source": [
    "lt = [\"tst1\",\"tst2\",\"tst3\",\"tst4\"]\n",
    "lt = [x+',' for x in lt]\n",
    "with open(r\".\\testfile\\writelinestest.csv\",mode='a') as fp:\n",
    "    fp.writelines(lt)    #如果每个元素后面不加‘，’的话，将会被写到一个单元格里，同样也可以加'\\n'等"
   ]
  },
  {
   "cell_type": "markdown",
   "id": "1d9bfb49",
   "metadata": {},
   "source": [
    "### csv模块写入文件"
   ]
  },
  {
   "cell_type": "code",
   "execution_count": null,
   "id": "ae23d395",
   "metadata": {},
   "outputs": [],
   "source": [
    "# csv.writer(fp): 用打开的文件创建写入对象\n",
    "# writerow: ['abc','def'] ==> abc,def     在每个字符串之间加','\n",
    "# writerows: [['abc','def'],['ABC','DEF']] ==> abc,def        内部列表之间加'\\n',在每个列表内部的字符串之间加',';\n",
    "#                                             ABC,DEF"
   ]
  },
  {
   "cell_type": "code",
   "execution_count": null,
   "id": "1120b218",
   "metadata": {},
   "outputs": [],
   "source": [
    "data1 = ['abc','def']\n",
    "data2 = [['abc','def'],['ABC','DEF']]"
   ]
  },
  {
   "cell_type": "code",
   "execution_count": null,
   "id": "559c92ed",
   "metadata": {},
   "outputs": [],
   "source": [
    "csvfile = r'.\\testfile\\csvwritetest.csv'\n",
    "with open(csvfile,'a') as fp:\n",
    "    fpcsv = csv.writer(fp)\n",
    "    fpcsv.writerow(data1)               \n",
    "    fpcsv.writerows(data2) "
   ]
  },
  {
   "cell_type": "code",
   "execution_count": null,
   "id": "a611d690",
   "metadata": {},
   "outputs": [],
   "source": []
  }
 ],
 "metadata": {
  "kernelspec": {
   "display_name": "Python 3",
   "language": "python",
   "name": "python3"
  },
  "language_info": {
   "codemirror_mode": {
    "name": "ipython",
    "version": 3
   },
   "file_extension": ".py",
   "mimetype": "text/x-python",
   "name": "python",
   "nbconvert_exporter": "python",
   "pygments_lexer": "ipython3",
   "version": "3.8.6"
  },
  "toc": {
   "base_numbering": 1,
   "nav_menu": {},
   "number_sections": true,
   "sideBar": true,
   "skip_h1_title": false,
   "title_cell": "Table of Contents",
   "title_sidebar": "Contents",
   "toc_cell": false,
   "toc_position": {
    "height": "calc(100% - 180px)",
    "left": "10px",
    "top": "150px",
    "width": "274.5px"
   },
   "toc_section_display": true,
   "toc_window_display": true
  },
  "widgets": {
   "application/vnd.jupyter.widget-state+json": {
    "state": {},
    "version_major": 2,
    "version_minor": 0
   }
  }
 },
 "nbformat": 4,
 "nbformat_minor": 5
}
