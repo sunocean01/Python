{
 "cells": [
  {
   "cell_type": "code",
   "execution_count": null,
   "id": "48bec36c-d856-4785-9fcd-fe77e975fa9e",
   "metadata": {},
   "outputs": [],
   "source": [
    "import os\n",
    "import sys"
   ]
  },
  {
   "cell_type": "code",
   "execution_count": null,
   "id": "059a1f8d-a35a-4bab-a83d-8950930e7eb8",
   "metadata": {},
   "outputs": [],
   "source": [
    "import argparse"
   ]
  },
  {
   "cell_type": "code",
   "execution_count": null,
   "id": "100ab27b-83db-45c2-af17-5f5750d14762",
   "metadata": {},
   "outputs": [],
   "source": [
    "from IPython.core.interactiveshell import InteractiveShell\n",
    "InteractiveShell.ast_node_interactivity='all'"
   ]
  },
  {
   "cell_type": "markdown",
   "id": "fd801f0b-23e0-4452-9ca9-12033d5374db",
   "metadata": {},
   "source": [
    "# os&stat"
   ]
  },
  {
   "cell_type": "code",
   "execution_count": null,
   "id": "e0ebbc79-7174-4292-a38e-a1430ec97865",
   "metadata": {},
   "outputs": [],
   "source": [
    "import os\n",
    "import stat\n",
    "import glob"
   ]
  },
  {
   "cell_type": "code",
   "execution_count": null,
   "id": "2592fa0a-1df9-4028-989d-63dfbfffd784",
   "metadata": {
    "tags": []
   },
   "outputs": [],
   "source": [
    "[x for x in dir(os) if not x.startswith(\"_\")]"
   ]
  },
  {
   "cell_type": "markdown",
   "id": "033b8cbd-cf52-4436-8630-b2da0f3e4a81",
   "metadata": {},
   "source": [
    "## stat:系统调用时用来返回相关文件的系统状态信息的。"
   ]
  },
  {
   "cell_type": "code",
   "execution_count": null,
   "id": "b5a1284c-4a41-4585-9351-37072efb4fcb",
   "metadata": {},
   "outputs": [],
   "source": [
    "path = r\"C:\\python\\function\\Example_python.ipynb\"\n",
    "sst = os.stat(path)\n",
    "sst\n",
    "sst.st_mode   #权限模式\n",
    "# sst.st_ino    #inode number\n",
    "# sst.st_dev    #device\n",
    "# sst.st_nlink  #number of hard link\n",
    "# sst.st_uid    #所有用户的user id\n",
    "# sst.st_gid    #所有用户的group id\n",
    "# sst.size      #文件的大小\n",
    "# sst.st_atime  #文件最后访问时间\n",
    "# sst.st_mtime  #文件最后修改时间\n",
    "# sst.st_ctime  #文件创建时间"
   ]
  },
  {
   "cell_type": "code",
   "execution_count": null,
   "id": "dba0e90e-c1f0-47ea-8ecf-9f1d84589a7e",
   "metadata": {},
   "outputs": [],
   "source": [
    "# 可以这么理解，os.stat是将文件的相关属性读出来，然后用stat模块来处理，处理方式有多重，就要看看stat提供了什么了。\n",
    "# 可以对st_mode做相关的判断，如是否是目录，是否是文件，是否是管道等。\n",
    "# 先看一下处理os.stat返回的st_mode结果的函数，就像上面的例子中的一样，这些函数可以做出判断：\n",
    "mode = sst.st_mode\n",
    "if stat.S_ISREG(mode):           #判断是否一般文件\n",
    "    print('Regular file.')\n",
    "elif stat.S_ISLNK (mode):         #判断是否链接文件\n",
    "    print('Shortcut.')\n",
    "elif stat.S_ISSOCK (mode):        #判断是否套接字文件    \n",
    "    print('Socket.')\n",
    "elif stat.S_ISFIFO (mode):        #判断是否命名管道\n",
    "    print('Named pipe.')\n",
    "elif stat.S_ISBLK (mode):         #判断是否块设备\n",
    "    print('Block special device.')\n",
    "elif stat.S_ISCHR (mode):         #判断是否字符设置\n",
    "    print('Character special device.')\n",
    "elif stat.S_ISDIR (mode):         #判断是否目录\n",
    "    print('directory.')\n",
    "##额外的两个函数\n",
    "# stat.S_IMODE (mode): #返回文件权限的chmod格式\n",
    "# 　　print 'chmod format.'\n",
    "# stat.S_IFMT (mode): #返回文件的类型\n",
    "# 　　print 'type of fiel.'"
   ]
  },
  {
   "cell_type": "markdown",
   "id": "e6727606-e2c9-44a0-a3c0-eb77881be89c",
   "metadata": {},
   "source": [
    "## os"
   ]
  },
  {
   "cell_type": "markdown",
   "id": "aefd9520-e20a-4924-b533-752aa4ce2a41",
   "metadata": {},
   "source": [
    "### 文件目录操作"
   ]
  },
  {
   "cell_type": "code",
   "execution_count": null,
   "id": "7f8bbcfd-a634-4f0c-9ac3-bcd1f885fe9d",
   "metadata": {},
   "outputs": [],
   "source": [
    "os.access(r\"C:\\python\\function\",mode=os.R_OK)\n",
    "# path -- 要用来检测是否有访问权限的路径。\n",
    "# mode -- mode为F_OK，测试存在的路径，或者它可以是包含R_OK, W_OK和X_OK或者R_OK, W_OK和X_OK其中之一或者更多。\n",
    "#     os.F_OK: 作为access()的mode参数，测试path是否存在。\n",
    "#     os.R_OK: 包含在access()的mode参数中 ， 测试path是否可读。\n",
    "#     os.W_OK 包含在access()的mode参数中 ， 测试path是否可写。\n",
    "#     os.X_OK 包含在access()的mode参数中 ，测试path是否可执行。"
   ]
  },
  {
   "cell_type": "code",
   "execution_count": null,
   "id": "673d3298-977c-4667-a5eb-e8ca8a087546",
   "metadata": {},
   "outputs": [],
   "source": [
    "os.getcwd()   #获取当前工作目录\n",
    "os.chdir(r\"C:\\python\\function\")  #改变当前工作目录\n",
    "os.getcwd()"
   ]
  },
  {
   "cell_type": "code",
   "execution_count": null,
   "id": "1bfd6e77-6597-4c34-ae39-6657eace3271",
   "metadata": {},
   "outputs": [],
   "source": [
    "os.chmod(r\"C:\\\\python\\\\function\",mode=stat.S_IXOTH)   #用于更改文件或目录权限\n",
    "# '''path -- 文件名路径或目录路径。\n",
    "# flags -- 可用以下选项按位或操作生成， 目录的读权限表示可以获取目录里文件名列表， ，执行权限表示可以把工作目录切换到此目录 ，删除添加目录里的文件必须同时有写和执行权限 ，文件权限以用户id->组id->其它顺序检验,最先匹配的允许或禁止权限被应用。\n",
    "#     stat.S_IXOTH: 其他用户有执行权0o001\n",
    "#     stat.S_IWOTH: 其他用户有写权限0o002\n",
    "#     stat.S_IROTH: 其他用户有读权限0o004\n",
    "#     stat.S_IRWXO: 其他用户有全部权限(权限掩码)0o007\n",
    "#     stat.S_IXGRP: 组用户有执行权限0o010\n",
    "#     stat.S_IWGRP: 组用户有写权限0o020\n",
    "#     stat.S_IRGRP: 组用户有读权限0o040\n",
    "#     stat.S_IRWXG: 组用户有全部权限(权限掩码)0o070\n",
    "#     stat.S_IXUSR: 拥有者具有执行权限0o100\n",
    "#     stat.S_IWUSR: 拥有者具有写权限0o200\n",
    "#     stat.S_IRUSR: 拥有者具有读权限0o400\n",
    "#     stat.S_IRWXU: 拥有者有全部权限(权限掩码)0o700\n",
    "#     stat.S_ISVTX: 目录里文件目录只有拥有者才可删除更改0o1000\n",
    "#     stat.S_ISGID: 执行此文件其进程有效组为文件所在组0o2000\n",
    "#     stat.S_ISUID: 执行此文件其进程有效用户为文件所有者0o4000\n",
    "#     stat.S_IREAD: windows下设为只读\n",
    "#     stat.S_IWRITE: windows下取消只读'''"
   ]
  },
  {
   "cell_type": "code",
   "execution_count": null,
   "id": "294f9e2c-fcc4-47bb-8bfd-a2bebfa9293a",
   "metadata": {},
   "outputs": [],
   "source": [
    "os.link(r\"C:/python/function/Example_python.ipynbple_python.ipynb\",r\"C:\\python\\python_backup\\Example_python.ipynb\")  #创建硬链接"
   ]
  },
  {
   "cell_type": "code",
   "execution_count": null,
   "id": "940860cc-bbb5-4564-93d6-6de05fb3a19c",
   "metadata": {},
   "outputs": [],
   "source": [
    "# os.symlink(r\"C:/python/function/Example_python.ipynb\",r\"C:\\Sensirion\\10_product\\60_PM25\\110_experiment\") #创建快捷方式,windows下面不行"
   ]
  },
  {
   "cell_type": "code",
   "execution_count": null,
   "id": "718a5ab9-48cc-49da-807c-55419ca32bf2",
   "metadata": {
    "tags": []
   },
   "outputs": [],
   "source": [
    "os.listdir()   #list dir"
   ]
  },
  {
   "cell_type": "code",
   "execution_count": null,
   "id": "f1ec29ea-0877-4add-a331-957ceb965701",
   "metadata": {},
   "outputs": [],
   "source": [
    "os.lstat(os.getcwd())  #和stat一样,但是没用软链接"
   ]
  },
  {
   "cell_type": "code",
   "execution_count": null,
   "id": "f3ab1670-e012-49b2-97f9-81b62c465d69",
   "metadata": {},
   "outputs": [],
   "source": [
    "os.mkdir('tstfolder')  #创建文件夹"
   ]
  },
  {
   "cell_type": "code",
   "execution_count": null,
   "id": "bce3ccc3-0cf1-4c9c-9812-2629aeffc1d2",
   "metadata": {},
   "outputs": [],
   "source": [
    "os.rmdir('tstfolder')  #删除文件夹"
   ]
  },
  {
   "cell_type": "code",
   "execution_count": null,
   "id": "56fdb922-8a5d-460f-b0f7-99c2e6f5525e",
   "metadata": {},
   "outputs": [],
   "source": [
    "os.makedirs(r\".\\testfolder1\\testfolder2\")  #创建多层文件夹"
   ]
  },
  {
   "cell_type": "code",
   "execution_count": null,
   "id": "3973e67d-c134-40b9-a03e-0548c80c13e2",
   "metadata": {},
   "outputs": [],
   "source": [
    "os.removedirs(r\".\\testfolder1\\testfolder2\")  #删除多层文件夹"
   ]
  },
  {
   "cell_type": "code",
   "execution_count": null,
   "id": "fb713d6f-7514-48b0-83d1-0769235b7af2",
   "metadata": {},
   "outputs": [],
   "source": [
    "os.rename(\"tst.txt\",\"test.txt\")    #修改文件或目录名称"
   ]
  },
  {
   "cell_type": "code",
   "execution_count": null,
   "id": "efb7133a-7bdf-4586-8ad1-16c9981c2f8d",
   "metadata": {},
   "outputs": [],
   "source": [
    "os.unlink(\"test.txt\")  #用于删除文件,不能删除文件夹"
   ]
  },
  {
   "cell_type": "code",
   "execution_count": null,
   "id": "af369478-15f6-4742-b574-c31a6cf83d7e",
   "metadata": {},
   "outputs": [],
   "source": [
    "os.utime(\"txt.txt\",(1330712280, 1370712292))   #修改文件/目录的访问和修改时间\n",
    "os.stat(\"txt.txt\")\n",
    "# path -- 文件路径\n",
    "# times -- 如果时间是 None, 则文件的访问和修改设为当前时间,否则, 时间是一个2-tuple数字, (atime, mtime) 用来分别作为访问和修改的时间。"
   ]
  },
  {
   "cell_type": "code",
   "execution_count": null,
   "id": "3af27856-7db3-4166-82ff-06b6fe5d3864",
   "metadata": {},
   "outputs": [],
   "source": [
    "for i in os.walk(r\".\\reload_all\"):\n",
    "    print(i)\n",
    "\n",
    "# top -- 是你所要遍历的目录的地址, 返回的是一个三元组(root,dirs,files)。\n",
    "#     root 所指的是当前正在遍历的这个文件夹的本身的地址\n",
    "#     dirs 是一个 list ，内容是该文件夹中所有的目录的名字(不包括子目录)\n",
    "#     files 同样是 list , 内容是该文件夹中所有的文件(不包括子目录)\n",
    "# topdown --可选，为 True，则优先遍历 top 目录，否则优先遍历 top的子目录(默认为开启)。如果 topdown 参数为 True，walk 会遍历top文件夹，与top 文件夹中每一个子目录。\n",
    "# onerror -- 可选，需要一个 callable 对象，当 walk 需要异常时，会调用。\n",
    "# followlinks -- 可选，如果为 True，则会遍历目录下的快捷方式(linux 下是软连接 symbolic link )实际所指的目录(默认关闭)，如果为 False，则优先遍历 top 的子目录。"
   ]
  },
  {
   "cell_type": "code",
   "execution_count": null,
   "id": "5ef50b40-cabe-425b-8fc7-48d281c378ce",
   "metadata": {
    "tags": []
   },
   "outputs": [],
   "source": [
    "# 返回所有文件和文件夹的绝对路径\n",
    "for root,drs,files in os.walk(r\"C:\\python\\function\\instance\"):\n",
    "    for name in files:\n",
    "        print(os.path.join(root,name))\n",
    "    print(\"*\"*50)\n",
    "    for d in drs:\n",
    "        print(root,d)"
   ]
  },
  {
   "cell_type": "code",
   "execution_count": null,
   "id": "d9f4c8a2-65e8-4633-beb2-c9ff749c516c",
   "metadata": {
    "tags": []
   },
   "outputs": [],
   "source": [
    "# popen()方法用于从一个命令打开一个管道\n",
    "# os.popen(command[, mode[, bufsize]])\n",
    "os.popen(\"dir/b\").readlines() "
   ]
  },
  {
   "cell_type": "markdown",
   "id": "d4781500-2280-4ad0-88af-c53418767a6a",
   "metadata": {},
   "source": [
    "### 系统操作"
   ]
  },
  {
   "cell_type": "code",
   "execution_count": null,
   "id": "d115cdb1-940e-40d5-92dc-8cb0c5605d2d",
   "metadata": {
    "tags": []
   },
   "outputs": [],
   "source": [
    "os.sep    #系统路径分隔符\n",
    "os.name   #正在使用的工作平台\n",
    "os.getenv('path')   #读取环境变量"
   ]
  },
  {
   "cell_type": "code",
   "execution_count": null,
   "id": "05038113-b9a0-44f2-81cc-5a4a61f851e1",
   "metadata": {},
   "outputs": [],
   "source": [
    "os.system(r\"dir\")   #执行一个shell命令,没有返回值, 在jupyter里不灵"
   ]
  },
  {
   "cell_type": "code",
   "execution_count": null,
   "id": "f3b57354-9267-4c53-89cf-427b58118ca9",
   "metadata": {},
   "outputs": [],
   "source": [
    "lt = os.popen(\"dir\")      #执行一个shell命令,但是有返回值\n",
    "lt     #是迭代器"
   ]
  },
  {
   "cell_type": "code",
   "execution_count": null,
   "id": "527c81ef-7a46-4817-b110-de0f5dc86c39",
   "metadata": {},
   "outputs": [],
   "source": [
    "# os.exec***   #启动一个子进程,替换当前进程空间, 不返回值; jupyternote-book 里不可用\n",
    "\n",
    "interpreter = r\"C:\\work\\virtenvs\\3p5_64bit_SensiPython_3p0\\Scripts\\python.exe\"\n",
    "\n",
    "# 需要传入2个参数:\n",
    "script = r\"C:\\python\\function\\testfile\\cmd_python_exec_model.py\"\n",
    "\n",
    "# os.execl*: 系列表示的是接受的参数是一个个独立的参数\n",
    "os.execl(interpreter,'python',script,\"execl\",\"test\")\n",
    "\n",
    "# os.execv* 系列表示接受的是一个list或者是一个tuple表示的参数表\n",
    "os.execv(interpreter,[\"python\",script,\"execl\",\"test\"])"
   ]
  },
  {
   "cell_type": "raw",
   "id": "2ae7e29e-2bc8-4a9c-9656-4a699d45bf9a",
   "metadata": {},
   "source": [
    "l: 代表参数传入时的形式: arg0,arg1...\n",
    "    os.execlp(interpreter,'python',script,\"execl\",\"tst\")\n",
    "v: 代表参数传入时的形式: [arg0,arg1...] 或 (arg0,arg1...)\n",
    "    os.execlp(interpreter,['python',script,\"execl\",\"tst\"])\n",
    "\n",
    "p: p代表的是路径，当无‘p'时，默认以可执行文件Python.exe的路径传入\n",
    "    不带p时,需要指定解释器,如: \n",
    "        interpreter = r\"C:\\work\\virtenvs\\3p5_64bit_SensiPython_3p0\\Scripts\\python.exe\"\n",
    "        os.execlp(interpreter,'python',script,\"execl\",\"tst\")   #script 需要传入2个参数\n",
    "    带p时,使用默认的解释器,就可以直接使用\"python\": \n",
    "        os.execlp('python','python',script,\"execl\",\"tst\")\n",
    "\n",
    "e: 代表的是用来代表新进程环境变量的映射，采用字典的形式。"
   ]
  },
  {
   "cell_type": "markdown",
   "id": "e5868e3a-e94f-481f-8cf0-f32a1679e192",
   "metadata": {},
   "source": [
    "# os.path:"
   ]
  },
  {
   "cell_type": "code",
   "execution_count": null,
   "id": "fbaff84b-0b64-45c5-b42f-96117ce5e7ee",
   "metadata": {},
   "outputs": [],
   "source": [
    "sys.path       #查看python导入的路径列表"
   ]
  },
  {
   "cell_type": "code",
   "execution_count": null,
   "id": "17810ad0-5d24-4d87-9bd9-4fd158d53f45",
   "metadata": {},
   "outputs": [],
   "source": [
    "# 获取文件的绝对路径\n",
    "os.path.abspath(r\"test.txt\")"
   ]
  },
  {
   "cell_type": "code",
   "execution_count": null,
   "id": "7ff7eb84-29ed-4f70-9952-9c55a0cc58c6",
   "metadata": {},
   "outputs": [],
   "source": [
    "# 返回文件名\n",
    "os.path.basename(r\"C:\\python\\function\\os_path_module.py\")"
   ]
  },
  {
   "cell_type": "code",
   "execution_count": null,
   "id": "c2e7922f-364f-43e6-8770-73b178a58682",
   "metadata": {},
   "outputs": [],
   "source": [
    "# 返回list(多个路径)中，所有path共有的最长的路径\n",
    "path_lt = glob.glob(r\"C:\\python\\*\")\n",
    "os.path.commonprefix(path_lt)"
   ]
  },
  {
   "cell_type": "code",
   "execution_count": null,
   "id": "60ff15aa-59b3-4c14-af1d-b3eff530b56e",
   "metadata": {},
   "outputs": [],
   "source": [
    "# 返回文件路径\n",
    "os.path.dirname(r\"C:\\python\\function\\os_path_module.py\")"
   ]
  },
  {
   "cell_type": "code",
   "execution_count": null,
   "id": "09bff1aa-0de5-4f36-a9ed-c50ca354e1b0",
   "metadata": {},
   "outputs": [],
   "source": [
    "# 判断路径(文件或目录)是否存在\n",
    "os.path.exists(r\"C:\\python\\function\\os_path_module.py\")"
   ]
  },
  {
   "cell_type": "code",
   "execution_count": null,
   "id": "4244c9c8-1e13-4109-b27f-1d4f75969d9e",
   "metadata": {},
   "outputs": [],
   "source": [
    "# 返回文件最近修改时间\n",
    "os.path.getmtime(r\"C:\\python\\function\\os_path_module.py\")\n",
    "\n",
    "# 返回文件最近访问时间\n",
    "os.path.getatime(r\"C:\\python\\function\\os_path_module.py\")\n",
    "\n",
    "# 返回文件的创建时间\n",
    "os.path.getctime(r\"C:\\python\\function\\os_path_module.py\")\n",
    "\n",
    "# 上面这些都可以通过 os.stat(path) 获取"
   ]
  },
  {
   "cell_type": "code",
   "execution_count": null,
   "id": "cd656053-2e14-43db-8d07-e4a7f985bf9c",
   "metadata": {},
   "outputs": [],
   "source": [
    "# 返回文件大小\n",
    "os.path.getsize(r\"C:\\python\\function\\os_path_module.py\")"
   ]
  },
  {
   "cell_type": "code",
   "execution_count": null,
   "id": "0e0c7652-9fcf-4be9-85db-2a4e23d3902d",
   "metadata": {},
   "outputs": [],
   "source": [
    "# 判断路径是否为绝对路径\n",
    "os.path.isabs(r\"C:\\python\\function\\os_path_module.py\")\n",
    "\n",
    "# 判断路径是否为文件\n",
    "os.path.isfile(r\"C:\\python\\function\\os_path_module.py\")\n",
    "\n",
    "# 判断路径是否为目录\n",
    "os.path.isdir(r\"C:\\python\\function\\os_path_module.py\")\n",
    "\n",
    "# 判断路径是否为链接\n",
    "os.path.islink(r\"C:\\python\\function\\os_path_module.py\")"
   ]
  },
  {
   "cell_type": "code",
   "execution_count": null,
   "id": "807f5427-0daf-47ca-adf0-febc3de37040",
   "metadata": {},
   "outputs": [],
   "source": [
    "# 目录和文件合并成路径\n",
    "os.path.join(r\"C:\\python\\function\",\"os_path_module.py\")"
   ]
  },
  {
   "cell_type": "code",
   "execution_count": null,
   "id": "96aa0914-1241-4153-9bfc-be5ed8c10a21",
   "metadata": {},
   "outputs": [],
   "source": [
    "# 转换path的大小写和斜杠\n",
    "ph = os.path.normcase(r\"C:\\\\python/function\")\n",
    "ph\n",
    "# os.path.getctime(ph)"
   ]
  },
  {
   "cell_type": "code",
   "execution_count": null,
   "id": "c2c1a73a-e725-42b4-8bfa-e5b8c0649eb4",
   "metadata": {},
   "outputs": [],
   "source": [
    "# 规范path字符串形式\n",
    "os.path.normpath(r\"C:\\\\python/function\")"
   ]
  },
  {
   "cell_type": "code",
   "execution_count": null,
   "id": "421d96ab-f109-40cf-bd6d-73c6a853cb69",
   "metadata": {},
   "outputs": [],
   "source": [
    "# 从start开始计算相对路径\n",
    "os.path.relpath(r'C:\\Users\\osun\\Desktop\\Python\\Function\\library\\test.txt','Desktop')"
   ]
  },
  {
   "cell_type": "code",
   "execution_count": null,
   "id": "c507b36e-e979-4821-a28f-ad6cc773ff80",
   "metadata": {},
   "outputs": [],
   "source": [
    "# 判断两个目录是否相同,前提条件是两个目录都存在\n",
    "path1 = r\"C:\\python\\function\\os_path_module.py\"\n",
    "path2 = r\"C:\\python\\function\\txt.txt\"\n",
    "os.path.samefile(path1,path2)"
   ]
  },
  {
   "cell_type": "code",
   "execution_count": null,
   "id": "8e0056bd-cfb8-4b0b-955b-cec7ad82e4f1",
   "metadata": {},
   "outputs": [],
   "source": [
    "tstpath = r\"C:\\python\\function\\os_path_module.py\"\n",
    "\n",
    "# 把路径分割成 dirname 和 basename，返回一个元组\n",
    "os.path.split(tstpath)\n",
    "\n",
    "# 一般用在 windows 下，返回驱动器名和路径组成的元组\n",
    "os.path.splitdrive(tstpath)\n",
    "\n",
    "# 分割路径，返回路径名和文件扩展名的元组\n",
    "os.path.splitext(tstpath)\n",
    "\n",
    "# 把路径分割为加载点与文件\n",
    "# os.path.splitunc(tstpath)   #windows下不可用"
   ]
  },
  {
   "cell_type": "code",
   "execution_count": null,
   "id": "73b99334-06c0-4356-9347-8890f8de15a9",
   "metadata": {},
   "outputs": [],
   "source": [
    "os.path.splitext(\"os_path_mo.dule.py\")"
   ]
  },
  {
   "cell_type": "markdown",
   "id": "4ed02866-2aa0-466e-b13a-d395570017e2",
   "metadata": {
    "toc-hr-collapsed": true
   },
   "source": [
    "# sys"
   ]
  },
  {
   "cell_type": "raw",
   "id": "51d853b4-6d95-49ea-a9e8-d8a81c6a3636",
   "metadata": {},
   "source": [
    "sys模块提供访问由解释器使用或维护的变量的接口，并提供了一些函数用来和解释器进行交互，操控Python的运行时环境。\n",
    "其中，sys.argv[0]表示脚本名称，各个参数均为字符串类型。"
   ]
  },
  {
   "cell_type": "code",
   "execution_count": null,
   "id": "38860862-58b5-4689-b469-519477317989",
   "metadata": {},
   "outputs": [],
   "source": [
    "import sys"
   ]
  },
  {
   "cell_type": "markdown",
   "id": "8381392f-85f3-4357-8dc1-4874e12f8fc7",
   "metadata": {},
   "source": [
    "## sys.argv: 传递给程序命令行参数列表"
   ]
  },
  {
   "cell_type": "code",
   "execution_count": null,
   "id": "dcafcf60-f93d-4179-9ac5-b784c8d89ea5",
   "metadata": {},
   "outputs": [],
   "source": [
    "pars = sys.argv[1]\n",
    "# pars = sys.argv[1:3]\n",
    "print(pars)"
   ]
  },
  {
   "cell_type": "code",
   "execution_count": null,
   "id": "8de53583-b81d-4697-850e-9bd247c1ec9f",
   "metadata": {},
   "outputs": [],
   "source": [
    "命令行运行: python test1.py a\n",
    "输出: a"
   ]
  },
  {
   "cell_type": "markdown",
   "id": "b126cbdb-9b3d-4672-bd20-45cd2a40a214",
   "metadata": {},
   "source": [
    "## sys.path: 模块的搜索路径"
   ]
  },
  {
   "cell_type": "raw",
   "id": "387c6b45-c94d-49c8-b6fa-194259507cb3",
   "metadata": {},
   "source": [
    "sys.path[0]: 表示当前脚本所在目录, 在交互式模式下,返回空字符串"
   ]
  },
  {
   "cell_type": "code",
   "execution_count": null,
   "id": "5a17ab5e-eeab-4485-bbf3-46eb41089e78",
   "metadata": {
    "tags": []
   },
   "outputs": [],
   "source": [
    "sys.path    #python 在导入库时,寻找的路径顺序"
   ]
  },
  {
   "cell_type": "markdown",
   "id": "07c9e13d-54f3-4174-b5a1-63ac3c3ca3ba",
   "metadata": {},
   "source": [
    "## sys.modules: 已加载的模块的字典"
   ]
  },
  {
   "cell_type": "code",
   "execution_count": null,
   "id": "6b84aab6-a0ab-49b3-af89-5cf015878db4",
   "metadata": {
    "tags": []
   },
   "outputs": [],
   "source": [
    "sys.modules.keys()"
   ]
  },
  {
   "cell_type": "markdown",
   "id": "8cd92489-ea44-4284-bcab-58d72c5f80e5",
   "metadata": {},
   "source": [
    "## sys.builtin_module_names: 当前解释器所有内置模块的名称"
   ]
  },
  {
   "cell_type": "code",
   "execution_count": null,
   "id": "f49d7277-819a-4c7e-8783-e4cdb36657e3",
   "metadata": {
    "tags": []
   },
   "outputs": [],
   "source": [
    "[x for x in sys.builtin_module_names if not x.startswith(\"_\")]"
   ]
  },
  {
   "cell_type": "markdown",
   "id": "e0f1e9e9-a9b7-4c6a-9d20-84ed0a8a9d70",
   "metadata": {},
   "source": [
    "## sys.exec_prefix: 当前解释器库路径的前缀"
   ]
  },
  {
   "cell_type": "code",
   "execution_count": null,
   "id": "afe1ba5c-e84d-40ee-acb1-4400f3f3e2a7",
   "metadata": {},
   "outputs": [],
   "source": [
    "sys.exec_prefix"
   ]
  },
  {
   "cell_type": "markdown",
   "id": "a7bc0131-d68e-4593-a182-f636f677afeb",
   "metadata": {},
   "source": [
    "## sys.executable: 当前解释器路径"
   ]
  },
  {
   "cell_type": "code",
   "execution_count": null,
   "id": "a894ebff-7dfe-424c-a51e-64c9fbc54f58",
   "metadata": {},
   "outputs": [],
   "source": [
    "sys.executable"
   ]
  },
  {
   "cell_type": "markdown",
   "id": "c3a21440-7328-4d42-b7b0-fc566d29f4a5",
   "metadata": {},
   "source": [
    "## Others"
   ]
  },
  {
   "cell_type": "code",
   "execution_count": null,
   "id": "92b75a78-85f4-4ead-a30e-e388b089b78d",
   "metadata": {},
   "outputs": [],
   "source": [
    "sys.copyright  #解释器版权相关信息"
   ]
  },
  {
   "cell_type": "code",
   "execution_count": null,
   "id": "ba5d4b77-bf2c-489c-abfc-e3ff9a825794",
   "metadata": {},
   "outputs": [],
   "source": [
    "sys.float_info  #包含浮点数实现的信息的结构序列"
   ]
  },
  {
   "cell_type": "code",
   "execution_count": null,
   "id": "1e1622a4-4d63-4e41-b232-882a327e1eb5",
   "metadata": {},
   "outputs": [],
   "source": [
    "sys.implementation   #包含有关Python实现的相关信息"
   ]
  },
  {
   "cell_type": "markdown",
   "id": "d5a86c63-216e-4243-ae45-cf4e1def9df9",
   "metadata": {},
   "source": [
    "## sys方法"
   ]
  },
  {
   "cell_type": "code",
   "execution_count": null,
   "id": "ce6823c8-7e4d-423c-a7aa-c016a1172aac",
   "metadata": {},
   "outputs": [],
   "source": [
    "# sys.exit(n)   #通过引发SystemExit异常来退出当前程序\n",
    "# n是一个表示状态码的整数退出码。0值表示正常（默认值），非零值表示异常。\n",
    "# 如果n指定为一个非整数值，则将它打印到sys.stderr并使用退出码1退出"
   ]
  },
  {
   "cell_type": "code",
   "execution_count": null,
   "id": "0b67c7d0-0f57-4a24-a5ba-a95a96ab6f3b",
   "metadata": {},
   "outputs": [],
   "source": [
    "sys.getsizeof(int())   #获取对象占用内存大小(用字节表示)"
   ]
  },
  {
   "cell_type": "code",
   "execution_count": null,
   "id": "e45f3d2a-0aa8-4fc5-a651-871350dafc3d",
   "metadata": {},
   "outputs": [],
   "source": []
  },
  {
   "cell_type": "markdown",
   "id": "7df665eb-130b-4a22-9aeb-125003be084e",
   "metadata": {},
   "source": [
    "# shutil: 文件拷贝"
   ]
  },
  {
   "cell_type": "code",
   "execution_count": null,
   "id": "8e6a6de3-65ed-4570-8066-f6ac5535552e",
   "metadata": {},
   "outputs": [],
   "source": [
    "import shutil"
   ]
  },
  {
   "cell_type": "code",
   "execution_count": null,
   "id": "ee2e5ccb-d271-4724-969f-93301d115d7a",
   "metadata": {
    "tags": []
   },
   "outputs": [],
   "source": [
    "[x for x in dir(shutil) if not x.startswith(\"_\")]"
   ]
  },
  {
   "cell_type": "raw",
   "id": "5213471e-f990-4775-93b8-d17cb239e571",
   "metadata": {},
   "source": [
    "copy()\n",
    "    功能：复制文件\n",
    "    格式：shutil.copy('来源文件','目标地址')\n",
    "    返回值：复制之后的路径"
   ]
  },
  {
   "cell_type": "raw",
   "id": "4a340db4-28ef-422d-b84c-033a526d48cf",
   "metadata": {},
   "source": [
    "copy2()\n",
    "    功能：复制文件，保留元数据\n",
    "    格式：shutil.copy2('来源文件','目标地址')\n",
    "    返回值：复制之后的路径"
   ]
  },
  {
   "cell_type": "raw",
   "id": "be9b6e3c-eb8f-4776-ad18-88f9a8d7906d",
   "metadata": {},
   "source": [
    "copyfileobj()\n",
    "    将一个文件的内容拷贝的另外一个文件当中\n",
    "    格式：shutil.copyfileobj(open(来源文件,'r'),open（'目标文件','w'）)\n",
    "    返回值：无"
   ]
  },
  {
   "cell_type": "raw",
   "id": "51333251-e6cf-43f5-aaa4-54c4f1eeb2a0",
   "metadata": {},
   "source": [
    "copyfile()\n",
    "    功能：将一个文件的内容拷贝的另外一个文件当中\n",
    "    格式:shutil.copyfile(来源文件,目标文件)\n",
    "    返回值：目标文件的路径"
   ]
  },
  {
   "cell_type": "raw",
   "id": "672d1ff2-82b6-4ff5-98df-4a0d923bd29c",
   "metadata": {},
   "source": [
    "copytree()\n",
    "    功能：复制整个文件目录\n",
    "    格式:shutil.copytree(来源目录,目标目录)\n",
    "    返回值：目标目录的路径\n",
    "    注意：无论文件夹是否为空，均可以复制，而且会复制文件夹中的所有内容"
   ]
  },
  {
   "cell_type": "raw",
   "id": "bd243d38-b67f-4d2d-98c0-660dcd5c6820",
   "metadata": {},
   "source": [
    "copymode()\n",
    "    功能：拷贝权限"
   ]
  },
  {
   "cell_type": "raw",
   "id": "63ab007d-db75-4d52-a408-6c6df77d2a16",
   "metadata": {},
   "source": [
    "copystat()\n",
    "    功能：拷贝元数据（状态）"
   ]
  },
  {
   "cell_type": "raw",
   "id": "a3be9762-5562-4c90-9468-e38c26c4fe23",
   "metadata": {},
   "source": [
    "move()\n",
    "    功能：移动文件或者文件夹\n",
    "    格式：shutil.move(来源地址,目标地址)\n",
    "    返回值：目标地址"
   ]
  },
  {
   "cell_type": "raw",
   "id": "1242a240-d1a3-4d18-b421-210a2e98fdd6",
   "metadata": {},
   "source": [
    "which()\n",
    "    功能：检测命令对应的文件路径\n",
    "    格式：shutil.which(‘命令字符串’)\n",
    "    返回值：命令文件所在位置\n",
    "    注意：window和linux不太一样。 window的命令都是.exe结尾，linux则不是"
   ]
  },
  {
   "cell_type": "code",
   "execution_count": null,
   "id": "60be24f4-f21b-44ae-9f08-c93d25704794",
   "metadata": {},
   "outputs": [],
   "source": [
    "shutil.which(\"python.exe\")"
   ]
  },
  {
   "cell_type": "raw",
   "id": "16be0030-d7e1-4a55-aff5-2deea201752a",
   "metadata": {},
   "source": [
    "disk_usage()\n",
    "    功能：检测磁盘使用信息\n",
    "    格式：disk_usage(‘盘符’)\n",
    "    返回值：元组"
   ]
  },
  {
   "cell_type": "raw",
   "id": "649b95d8-a4f0-4431-b2ce-6a78498d94d0",
   "metadata": {},
   "source": [
    "归档和解包操作\n",
    "\n",
    "归档：将多个文件合并到一个文件当中，这种操作方式就是归档。\n",
    "\n",
    "解包：将归档的文件进行释放。\n",
    "\n",
    "压缩：压缩时将多个文件进行有损或者无损的合并到一个文件当中。\n",
    "\n",
    "解压缩：就是压缩的反向操作，将压缩文件中的多个文件，释放出来。\n",
    "\n",
    "注意：压缩属于归档！"
   ]
  },
  {
   "cell_type": "raw",
   "id": "d263b8a3-f739-45dd-b6e5-63617b9d2268",
   "metadata": {},
   "source": [
    "make_archive()\n",
    "    功能：归档函数，归档操作\n",
    "    格式：shutil.make_archive('目标文件路径','归档文件后缀','需要归档的目录')\n",
    "    返回值：归档文件的最终路径"
   ]
  },
  {
   "cell_type": "raw",
   "id": "237eecc4-206a-400f-af2a-287f66ecec8d",
   "metadata": {},
   "source": [
    "unpack_archive()\n",
    "    功能：解包操作\n",
    "    格式：shutil.unpack_archive('归档文件路径','解包目标文件夹')\n",
    "    返回值:None\n",
    "    注意：文件夹不存在会新建文件夹"
   ]
  },
  {
   "cell_type": "raw",
   "id": "f3fe3a52-09e6-41da-b401-891239f429f0",
   "metadata": {},
   "source": [
    "get_archive_formats()\n",
    "    功能：获取当前系统已注册的归档文件格式（后缀）\n",
    "    格式：shutil.get_archive_formats()\n",
    "    返回值：列表   [(后缀,解释),(后缀,解释),(后缀,解释)...]"
   ]
  },
  {
   "cell_type": "raw",
   "id": "bf0a3418-f3b3-40e6-abb5-79415674896f",
   "metadata": {},
   "source": [
    "get_unpack_formats()\n",
    "    功能：获取当前系统已经注册的解包文件格式(后缀)\n",
    "    格式:shutil.get_unpack_formats()\n",
    "    返回值：列表   [(后缀,解释),(后缀,解释),(后缀,解释)...]"
   ]
  },
  {
   "cell_type": "code",
   "execution_count": null,
   "id": "2d6e8e26-c47c-46bd-bf8d-3874adb9406d",
   "metadata": {},
   "outputs": [],
   "source": []
  },
  {
   "cell_type": "markdown",
   "id": "9abd30f0-ada2-4208-9366-e32c292d60a5",
   "metadata": {},
   "source": [
    "# subprocess"
   ]
  },
  {
   "cell_type": "code",
   "execution_count": null,
   "id": "fd749f0c-93f0-45a8-bb8b-de25b6926175",
   "metadata": {},
   "outputs": [],
   "source": [
    "import subprocess"
   ]
  },
  {
   "cell_type": "raw",
   "id": "168b0a70-95a5-4313-a551-d1a0c7e9a7ad",
   "metadata": {},
   "source": [
    "run():等待命令执行完成后返回一个包含执行结果的CompletedProcess类的实例。\n",
    "call():其功能类似于os.system(cmd)\n",
    "check_call():执行指定的命令，如果执行成功则返回状态码，否则抛出异常。其功能等价于subprocess.run(…, check=True)。\n",
    "check_output():执行指定的命令，如果执行状态码为0则返回命令执行结果，否则抛出异常。\n",
    "getoutput(cmd):接收字符串格式的命令，执行命令并返回执行结果，其功能类似于os.popen(cmd).read()和commands.getoutput(cmd)。\n",
    "etstatusoutput(cmd):执行cmd命令，返回一个元组(命令执行状态, 命令执行结果输出)，其功能类似于commands.getstatusoutput()。\n",
    "Popen(): run方法底层用的是Popen()\n",
    "poll():检查进程的状态"
   ]
  },
  {
   "cell_type": "code",
   "execution_count": null,
   "id": "57a848e1-afcd-46aa-baeb-67106e071956",
   "metadata": {},
   "outputs": [],
   "source": [
    "# 通过cmd打开一个软件:\n",
    "subprocess.run([r\"C:\\Program Files (x86)\\Microsoft Office\\root\\Office16\\EXCEL.EXE\"],shell=True)"
   ]
  },
  {
   "cell_type": "code",
   "execution_count": null,
   "id": "c2809b58-bcc2-491f-a7ef-9d0fb6552966",
   "metadata": {},
   "outputs": [],
   "source": [
    "# 通过命令行运行脚本,及将运行后的结果存到文件:\n",
    "with open(r\".\\testfile\\subprocessruntest.csv\",'w') as fp:\n",
    "    subprocess.run([\"python\",r\".\\testfile\\function_test.py\"],shell=True,timeout=2,stdout=fp)"
   ]
  },
  {
   "cell_type": "code",
   "execution_count": null,
   "id": "c75ef266-9d21-412f-b314-c2b58b4ed657",
   "metadata": {},
   "outputs": [],
   "source": [
    "# subprocess.run()的返回值:\n",
    "p = subprocess.run([\"python\",r\".\\testfile\\function_test.py\"],shell=True,stdout=subprocess.PIPE)\n",
    "p.stdout\n",
    "p.stdout.decode()"
   ]
  },
  {
   "cell_type": "code",
   "execution_count": null,
   "id": "00935627-c9bb-4ece-973c-fb5bd892af0a",
   "metadata": {},
   "outputs": [],
   "source": []
  },
  {
   "cell_type": "code",
   "execution_count": null,
   "id": "49b30506-6c31-4739-8763-ecf824efb6e2",
   "metadata": {},
   "outputs": [],
   "source": [
    "scriptpath = r\"C:\\python\\function\\testfile\\cmd_python_model.py\"\n",
    "p = subprocess.run(scriptpath,shell=True,stdout=subprocess.PIPE,stderr=subprocess.PIPE)\n",
    "res = p.stdout"
   ]
  },
  {
   "cell_type": "code",
   "execution_count": null,
   "id": "a45a7025-a936-4ca2-84a6-408a6aa2fb16",
   "metadata": {},
   "outputs": [],
   "source": [
    "print(res)"
   ]
  },
  {
   "cell_type": "code",
   "execution_count": null,
   "id": "685ca8b4-7d92-400f-9201-017e6b4f6ff3",
   "metadata": {},
   "outputs": [],
   "source": []
  },
  {
   "cell_type": "markdown",
   "id": "ec6c3fc0-eafd-4d7c-86ed-d32f1118d11d",
   "metadata": {},
   "source": [
    "# Class"
   ]
  },
  {
   "cell_type": "code",
   "execution_count": null,
   "id": "df32f96b-bdca-4d3d-a224-a6aafd145c52",
   "metadata": {},
   "outputs": [],
   "source": [
    "class PM():      #类关键子\n",
    "    nm = 'PMsensor'        #类的属性\n",
    "    def __init__(self,name):    #构造函数\n",
    "        print(\"sensor name:\",name)\n",
    "        self.fw = 1.0\n",
    "\n",
    "    def func(self,sensor):    #类方法\n",
    "        print(f\"{sensor} can measure partical & air quality!\")\n",
    "\n",
    "class FF(PM):     #继承PM类所有属性\n",
    "    pass\n",
    "\n",
    "class PR(FF):     #继承PFF类,但是重写构造函数\n",
    "    def __init__(self):\n",
    "        self.fw = 4.0\n",
    "\n",
    "class SEN50(PM):   #继承PM类,重写func函数\n",
    "        \n",
    "    def func(self,sensor):    #重写\n",
    "        print(f\"{sensor} can measure partical!\")\n",
    "\n",
    "class Clima3(PM):     #继承PM类,重写构造函数和func方法\n",
    "    def __init__(self):\n",
    "        self.fw = 2.0\n",
    "    @classmethod          #装饰器,作用:不要实例化Clima3类(即不要运行构造函数),直接调用此方法\n",
    "    def func(self,sensor):\n",
    "        print(f\"{sensor} can measure T&H!\")"
   ]
  },
  {
   "cell_type": "code",
   "execution_count": null,
   "id": "8a59e97a-08e8-4751-ac3d-62cf6da05889",
   "metadata": {},
   "outputs": [],
   "source": [
    "tt = Clima3.func('ADS')"
   ]
  },
  {
   "cell_type": "code",
   "execution_count": null,
   "id": "1abeef76-da1c-4f90-801a-3bacb3e22472",
   "metadata": {},
   "outputs": [],
   "source": []
  },
  {
   "cell_type": "markdown",
   "id": "3902baba-25d3-417d-9912-c73442856759",
   "metadata": {
    "toc-hr-collapsed": true
   },
   "source": [
    "# click"
   ]
  },
  {
   "cell_type": "code",
   "execution_count": null,
   "id": "3d84852e-e283-41b5-8edf-9182b4d36264",
   "metadata": {},
   "outputs": [],
   "source": [
    "import click"
   ]
  },
  {
   "cell_type": "markdown",
   "id": "82d37c8b-9093-4223-8511-42d8b6dbb181",
   "metadata": {},
   "source": [
    "'''click 是使用装饰器的方式给函数添加命令行属性'''"
   ]
  },
  {
   "cell_type": "code",
   "execution_count": null,
   "id": "4387f9c3-70cd-4aa0-af04-220611463c90",
   "metadata": {},
   "outputs": [],
   "source": [
    "@click.command()\n",
    "@click.option('--name',default=\"osun\",help='abbreviation')\n",
    "@click.option('--sex',default='male',help='sex')\n",
    "def info(name,sex):\n",
    "    print(name,sex)"
   ]
  },
  {
   "cell_type": "markdown",
   "id": "00bdb68e-ac77-4eb0-8eba-fafad82892bc",
   "metadata": {},
   "source": [
    "# optparser\n",
    "    optparse主要为脚本传递命令参数"
   ]
  },
  {
   "cell_type": "code",
   "execution_count": null,
   "id": "487814ac-c39a-4101-9894-8bac03201875",
   "metadata": {},
   "outputs": [],
   "source": [
    "import optparse"
   ]
  },
  {
   "cell_type": "code",
   "execution_count": null,
   "id": "2f4d262d-e3bf-44a5-89d1-34c7041694d6",
   "metadata": {
    "tags": []
   },
   "outputs": [],
   "source": [
    "[x for x in dir(optparse) if not x.startswith(\"_\")]"
   ]
  },
  {
   "cell_type": "raw",
   "id": "2bc0d9ab-6f7f-4198-908e-2511adf3b9e1",
   "metadata": {},
   "source": [
    "usage = r\"python %prog -u/--user <target user> -p/--password <target password>\"\n",
    "parser = optparse.OptionParser(usage)   #写入上面的帮助信息\n",
    "parser.add_option('-u','--user',type='string',help='target user',default='root')\n",
    "parser.add_option('-p','--password',type='string',help='target password')\n",
    "options,args = parser.parse_args()\n",
    "print('options:',options)\n",
    "print('ID:',options.user)\n",
    "print('password:',options.password)\n",
    "print('args:',args)"
   ]
  },
  {
   "cell_type": "markdown",
   "id": "4d289082-c19b-49cd-9719-03f89731e52c",
   "metadata": {
    "toc-hr-collapsed": true
   },
   "source": [
    "# configparser"
   ]
  },
  {
   "cell_type": "markdown",
   "id": "ec05293c-9a36-4dd8-a74a-a4aa2518427f",
   "metadata": {},
   "source": [
    "## 读inifile"
   ]
  },
  {
   "cell_type": "code",
   "execution_count": null,
   "id": "6d95c37a-ef77-41f0-bc38-f4b0124ad9f0",
   "metadata": {},
   "outputs": [],
   "source": [
    "import configparser\n",
    "import os"
   ]
  },
  {
   "cell_type": "code",
   "execution_count": null,
   "id": "043f19a1-9596-45f4-950a-de2b5df50c4d",
   "metadata": {},
   "outputs": [],
   "source": [
    "pth = r\"C:\\Sensirion\\10_product\\60_PM25\\100_common\\30_Process\\30_configuration\\30_2_PM_configuration\"\n",
    "inifile = os.path.join(pth,\"CalibrationSystem_CN-100340_3.000.228-002.variable.ini\")"
   ]
  },
  {
   "cell_type": "code",
   "execution_count": null,
   "id": "d4e1158e-b1d2-461f-97cf-8830f5105003",
   "metadata": {},
   "outputs": [],
   "source": [
    "config = configparser.ConfigParser()   #实例化"
   ]
  },
  {
   "cell_type": "code",
   "execution_count": null,
   "id": "5f280d0e-52e1-4b8c-976e-733c3673cf20",
   "metadata": {},
   "outputs": [],
   "source": [
    "config.read(inifile)   #读取配置文件"
   ]
  },
  {
   "cell_type": "code",
   "execution_count": null,
   "id": "e2f18b2f-3538-47ea-bef3-fc923383f591",
   "metadata": {},
   "outputs": [],
   "source": [
    "config.sections()   #读取section"
   ]
  },
  {
   "cell_type": "code",
   "execution_count": null,
   "id": "401e624c-27b7-4e41-b512-9af5d5b83ead",
   "metadata": {},
   "outputs": [],
   "source": [
    "config.options(\"Alignment\")  #获取指定section下面的所有键"
   ]
  },
  {
   "cell_type": "code",
   "execution_count": null,
   "id": "22ff23ad-94fa-4a9f-8d6b-7437c846ee11",
   "metadata": {},
   "outputs": [],
   "source": [
    "config.items(\"Alignment\")   #获取指定section下面的键值对"
   ]
  },
  {
   "cell_type": "code",
   "execution_count": null,
   "id": "9b91f2ab-ec0b-416a-befc-a8c4be46bde1",
   "metadata": {},
   "outputs": [],
   "source": [
    "config.get(\"Alignment\",\"numbconc.arz\")  #后去指定section key的值"
   ]
  },
  {
   "cell_type": "code",
   "execution_count": null,
   "id": "30eaa576-3299-46e2-8355-f4d46a41c9da",
   "metadata": {},
   "outputs": [],
   "source": [
    "# 重写 ConfigParser的optionxform方法: 默认的会将key转换成小写的\n",
    "class MyParser(ConfigParser):\n",
    "    def optionxform(self,optionstr):\n",
    "        return optionstr         #before is: optionstr.lower() "
   ]
  },
  {
   "cell_type": "markdown",
   "id": "bd4d61f3-0610-4e0d-81a3-b58d385086a2",
   "metadata": {},
   "source": [
    "## 写inifile"
   ]
  },
  {
   "cell_type": "code",
   "execution_count": null,
   "id": "0326b840-f709-4601-8f11-e35eac94ef65",
   "metadata": {},
   "outputs": [],
   "source": [
    "cfg = configparser.ConfigParser()"
   ]
  },
  {
   "cell_type": "code",
   "execution_count": null,
   "id": "bf3f9234-ff21-48f7-a70c-16f364e1f0cc",
   "metadata": {},
   "outputs": [],
   "source": [
    "cfg[\"Info\"] = {\"name\":\"Tom\",\n",
    "                 \"sex\": \"male\",\n",
    "                 \"age\": 35,\n",
    "                 \"marrige\": \"single\"\n",
    "                }\n",
    "cfg[\"Career\"] = {\"companyA\": 2,\n",
    "                 \"companyB\": 3,\n",
    "                 \"companyC\": 6,                \n",
    "                }"
   ]
  },
  {
   "cell_type": "code",
   "execution_count": null,
   "id": "e4d0d533-14e6-40ed-a7d7-72db044a142f",
   "metadata": {},
   "outputs": [],
   "source": [
    "with open(os.path.join(pth,\"writeinfile.ini\"),'w') as f:\n",
    "    cfg.write(f)"
   ]
  },
  {
   "cell_type": "markdown",
   "id": "d745d8f9-e54d-4bef-baf6-700de552ba3d",
   "metadata": {},
   "source": [
    "## 练习:改写Alignment参数"
   ]
  },
  {
   "cell_type": "markdown",
   "id": "eb912d00-d007-473d-95d1-aa0977503a60",
   "metadata": {},
   "source": [
    "继读取的config文件"
   ]
  },
  {
   "cell_type": "code",
   "execution_count": null,
   "id": "109885cd-d002-4bf5-8c8b-3b440d19aae3",
   "metadata": {},
   "outputs": [],
   "source": [
    "config[\"Alignment\"] = {\n",
    "                        \"NumbConc.ARZ\": [1.19, 1.15786, 1.01455, 1., 1.],\n",
    "                        \"MassConc.ARZ\": [1, 1, 1, 1, 1],\n",
    "                        \"NumbConc.KCL\": [1.09, 0.97501, 0.68700, 1., 1.],\n",
    "                        \"MassConc.KCL\": [1, 1, 1, 1, 1],\n",
    "                        \"NumbConc.REM\":\"NumbConc.KCL\",\n",
    "                        \"MassConc.REM\":\"MassConc.KCL\",\n",
    "                        }\n",
    "config[\"Mimicking.MasterSpectra\"] = {\n",
    "                                    \"massconc.arz\" : [0.126, 0.12730, 0.22848, 0.30744, 0.34438],\n",
    "                                    \"massconc.kcl\" : [0.125, 0.12730, 0.13350, 0.13350, 0.13350],\n",
    "                                    \"massconc.rem\" : \"MassConc.KCL\"\n",
    "                                    }"
   ]
  },
  {
   "cell_type": "code",
   "execution_count": null,
   "id": "aed8cabd-977c-482f-8cb7-20b7e1e269d9",
   "metadata": {},
   "outputs": [],
   "source": [
    "recipe = [\"CalibrationSystem_CN-100340_3.000.228-002.variable.ini\",\n",
    "          \"CalibrationSystem_CN-100340_3.000.228-003.variable.ini\",\n",
    "          \"CalibrationSystem_CN-100340_3.000.540-002.variable.ini\",\n",
    "          \"CalibrationSystem_CN-100340_3.000.439-002.variable.ini\",\n",
    "         ]"
   ]
  },
  {
   "cell_type": "code",
   "execution_count": null,
   "id": "96378300-a9d4-4120-a649-b3e86c1a303f",
   "metadata": {},
   "outputs": [],
   "source": [
    "for file in recipe:\n",
    "    with open(os.path.join(pth,file),'w') as f:\n",
    "        config.write(f)"
   ]
  },
  {
   "cell_type": "markdown",
   "id": "7148de27-b453-41e7-ad44-c66fe4c6c185",
   "metadata": {},
   "source": [
    "# time"
   ]
  },
  {
   "cell_type": "code",
   "execution_count": null,
   "id": "762033d1-6f4a-4dfe-8c23-e1cdd7e52bf1",
   "metadata": {},
   "outputs": [],
   "source": [
    "import time"
   ]
  },
  {
   "cell_type": "code",
   "execution_count": null,
   "id": "68023d15-2a5e-48de-bc78-c5c2bf3127f1",
   "metadata": {},
   "outputs": [],
   "source": [
    "time.altzone   #返回格林威治西部的夏令时地区的偏移秒数"
   ]
  },
  {
   "cell_type": "code",
   "execution_count": null,
   "id": "63b47b3d-01ba-4a5b-ac2f-2c6aa8d3867b",
   "metadata": {},
   "outputs": [],
   "source": [
    "time.time()"
   ]
  },
  {
   "cell_type": "code",
   "execution_count": null,
   "id": "5443e0bb-256b-4a10-b50e-24b68ca86950",
   "metadata": {},
   "outputs": [],
   "source": [
    "%%time\n",
    "\n",
    "time.localtime()    #时间戳 --> 时间元组\n",
    "\n",
    "time.localtime(1643530753.7068892)\n",
    "\n",
    "time.asctime(time.localtime())   #时间元组 --> C time\n",
    "\n",
    "time.strftime(\"%Y-%m-%d %H:%M:%S\",time.localtime())   #元组 --> 字符串\n",
    "\n",
    "time.ctime()   #时间戳 --> c time\n",
    "time.ctime(time.time())\n",
    "\n",
    "time.gmtime(time.time())   #格林威治天文时间下的时间元组\n",
    "\n",
    "time.mktime(time.localtime())  #时间元组 --> 时间戳\n",
    "\n",
    "time.sleep(2)\n",
    "\n",
    "time.strptime(\"2022-01-30 16:20:30\",\"%Y-%m-%d %H:%M:%S\")"
   ]
  },
  {
   "cell_type": "markdown",
   "id": "e4ca7e0d-c0fd-41d7-add0-cf994aff4bad",
   "metadata": {
    "tags": [],
    "toc-hr-collapsed": true
   },
   "source": [
    "# datetime"
   ]
  },
  {
   "cell_type": "code",
   "execution_count": null,
   "id": "15c89f38-9363-49bf-8938-4a9d1c1c0996",
   "metadata": {},
   "outputs": [],
   "source": [
    "import datetime"
   ]
  },
  {
   "cell_type": "markdown",
   "id": "9ba20541-c2fe-42e1-8c7c-63df14069f6b",
   "metadata": {},
   "source": [
    "## date类"
   ]
  },
  {
   "cell_type": "markdown",
   "id": "b6253f35-a893-4a9a-a278-dc33bc0d0def",
   "metadata": {},
   "source": [
    "date类原形: class datetime.date(year,month,day)"
   ]
  },
  {
   "cell_type": "code",
   "execution_count": null,
   "id": "73e88ad1-fc18-4b1e-84b7-c981345cb9f4",
   "metadata": {},
   "outputs": [],
   "source": [
    "# 属性:\n",
    "datetime.date.max\n",
    "datetime.date.min\n",
    "datetime.date.resolution\n",
    "\n",
    "d = datetime.date.today()\n",
    "d.year\n",
    "d.month\n",
    "d.day"
   ]
  },
  {
   "cell_type": "code",
   "execution_count": null,
   "id": "26f1efaf-c267-4f85-bd94-6d616f5c970d",
   "metadata": {},
   "outputs": [],
   "source": [
    "d"
   ]
  },
  {
   "cell_type": "code",
   "execution_count": null,
   "id": "7aeb5175-712e-4735-8c25-ea80ecce80fb",
   "metadata": {},
   "outputs": [],
   "source": [
    "# 方法:\n",
    "d = datetime.date.today()   #当前日期\n",
    "\n",
    "datetime.date(2022,1,30)    #将数字转换成datetime类型数据, 注意1月不能写成 01\n",
    "\n",
    "d.replace(day=d.day+1)    #超过日期规律会报错\n",
    "\n",
    "d.timetuple()     #返回时间元组对象\n",
    "\n",
    "d.weekday()   #星期一:0, 星期二:1 ...\n",
    "\n",
    "d.isoweekday()  #星期一:1, 星期二:2 ...\n",
    "\n",
    "d.isocalendar()   #返回元组 (年,月,日)\n",
    "\n",
    "d.isoformat()     #返回日期格式: 'YYYY-MM-DD' 字符串\n",
    "\n",
    "d.strftime(\"%y-%m-%d\")"
   ]
  },
  {
   "cell_type": "code",
   "execution_count": null,
   "id": "d9e13e37-132f-4093-b3fa-cfa95a7a709d",
   "metadata": {},
   "outputs": [],
   "source": [
    "# 重载简单运算符\n",
    "td = datetime.date.today()\n",
    "td + datetime.date.resolution*3\n",
    "\n",
    "datetime.date(2022,2,10) - datetime.date(2022,2,5)\n",
    "\n",
    "datetime.date(2022,2,10) > datetime.date(2022,2,5)"
   ]
  },
  {
   "cell_type": "markdown",
   "id": "37a34cc1-4c53-451b-b7ba-1091900ff536",
   "metadata": {},
   "source": [
    "## time 类"
   ]
  },
  {
   "cell_type": "markdown",
   "id": "714f72f7-4cd0-49b0-a2a9-9d3a34633bde",
   "metadata": {},
   "source": [
    "原型: class datetime.time(hour=0, minute=0, second=0, microsecond=0, tzinfo=None)"
   ]
  },
  {
   "cell_type": "code",
   "execution_count": null,
   "id": "c05cd502-ac81-4dbd-a3ec-d05514066e80",
   "metadata": {},
   "outputs": [],
   "source": [
    "# 类属性:\n",
    "datetime.time.min\n",
    "\n",
    "datetime.time.max\n",
    "\n",
    "datetime.time.resolution   #最小单位"
   ]
  },
  {
   "cell_type": "code",
   "execution_count": null,
   "id": "601cb34a-3e68-4bd6-aeb3-6828547c58a5",
   "metadata": {},
   "outputs": [],
   "source": [
    "import pytz"
   ]
  },
  {
   "cell_type": "code",
   "execution_count": null,
   "id": "4f63aaa6-7a62-4aed-bfd3-e6a1f5569562",
   "metadata": {},
   "outputs": [],
   "source": [
    "tz = pytz.timezone('Asia/Shanghai')"
   ]
  },
  {
   "cell_type": "code",
   "execution_count": null,
   "id": "d5b04be2-ec77-41b8-8460-91b5dcf45deb",
   "metadata": {},
   "outputs": [],
   "source": [
    "# 实例属性:\n",
    "t = datetime.time(7,34,50,100,tzinfo=tz)    #tzinfo 必须是None或时区实例\n",
    "\n",
    "t.hour\n",
    "\n",
    "t.minute\n",
    "\n",
    "t.second\n",
    "\n",
    "t.microsecond\n",
    "\n",
    "t.tzinfo"
   ]
  },
  {
   "cell_type": "code",
   "execution_count": null,
   "id": "b18d4275-b0ae-4ef8-a182-ea57d93f7cea",
   "metadata": {},
   "outputs": [],
   "source": [
    "t.isoformat()\n",
    "\n",
    "t.replace(minute=5)\n",
    "\n",
    "t.strftime(\"%H:%M:%S AM\")"
   ]
  },
  {
   "cell_type": "markdown",
   "id": "d3a039fc-c83d-4739-9435-7b070ba76344",
   "metadata": {},
   "source": [
    "## datetime类"
   ]
  },
  {
   "cell_type": "markdown",
   "id": "d4373206-30c4-4447-9987-a2412c400339",
   "metadata": {},
   "source": [
    "原型:class datetime.datetime(year, month, day, hour=0, minute=0, second=0, microsecond=0, tzinfo=None)"
   ]
  },
  {
   "cell_type": "code",
   "execution_count": null,
   "id": "549bd860-81e9-4a25-8dc9-3227c05a5f08",
   "metadata": {
    "tags": []
   },
   "outputs": [],
   "source": [
    "# 属性:\n",
    "datetime.datetime.min\n",
    "\n",
    "datetime.datetime.max\n",
    "\n",
    "datetime.datetime.resolution"
   ]
  },
  {
   "cell_type": "code",
   "execution_count": null,
   "id": "b19799f7-ffa1-4c8f-a759-c4df078d73b2",
   "metadata": {
    "tags": []
   },
   "outputs": [],
   "source": [
    "# 实例属性:\n",
    "\n",
    "datetime.datetime(2022,1,30,14,21,54,101,tzinfo=tz)\n",
    "\n",
    "dt = datetime.datetime.now(tz=tz)\n",
    "\n",
    "dt.year\n",
    "dt.month\n",
    "dt.day\n",
    "\n",
    "dt.hour\n",
    "dt.minute\n",
    "dt.second\n",
    "dt.microsecond\n",
    "\n",
    "dt.tzinfo   #时区信息"
   ]
  },
  {
   "cell_type": "code",
   "execution_count": null,
   "id": "d9cb50c2-43aa-4402-bb10-b8fe47e3856e",
   "metadata": {
    "tags": []
   },
   "outputs": [],
   "source": [
    "# 方法:\n",
    "datetime.datetime.fromtimestamp(time.time())  #将时间戳转换成datetime\n",
    "\n",
    "datetime.datetime.utcfromtimestamp(time.time())   #将时间戳转换成utc时间\n",
    "\n",
    "datetime.datetime.utcnow()\n",
    "\n",
    "dt = datetime.datetime.now()\n",
    "\n",
    "dt.date()\n",
    "\n",
    "dt.time()\n",
    "\n",
    "dt.isoformat()\n",
    "\n",
    "dt.weekday()\n",
    "\n",
    "dt.isoweekday()\n",
    "\n",
    "dt.isocalendar()\n",
    "\n",
    "dt.ctime()"
   ]
  },
  {
   "cell_type": "code",
   "execution_count": null,
   "id": "8c8f431c-3b15-42d6-923a-c3c57e0c8e79",
   "metadata": {
    "tags": []
   },
   "outputs": [],
   "source": [
    "dt\n",
    "\n",
    "dt.replace(year=2021)\n",
    "\n",
    "dt.timetuple()\n",
    "\n",
    "dt.utctimetuple()\n",
    "\n",
    "dt.strftime(\"%Y-%m-%d %H:%M:%S\")\n",
    "\n",
    "dt.strftime(\"%U\")"
   ]
  },
  {
   "cell_type": "code",
   "execution_count": null,
   "id": "188ef666-3e37-441f-9787-050909adc3e5",
   "metadata": {},
   "outputs": [],
   "source": [
    "dt.strftime(\"%c\")\n",
    "dt.strftime(\"%x\")"
   ]
  },
  {
   "cell_type": "code",
   "execution_count": null,
   "id": "204f96fe-f89d-44a4-b233-26b6092cd080",
   "metadata": {
    "tags": []
   },
   "outputs": [],
   "source": [
    "datetime.datetime.combine(datetime.date(2022,1,30),datetime.time(15,10,20))  #合并\n",
    "\n",
    "datetime.datetime.strptime(\"2022-01-30 15:10:20\",\"%Y-%m-%d %H:%M:%S\")  #必须告诉所给字符串的日期格式"
   ]
  },
  {
   "cell_type": "raw",
   "id": "619d2daa-8094-4e62-a5cb-a884677a2eb5",
   "metadata": {},
   "source": [
    "dt.astimezone(\"目标时区\")  #转换时区信息"
   ]
  },
  {
   "cell_type": "markdown",
   "id": "60ed8339-b219-4afa-bbfb-dd5640c8c334",
   "metadata": {},
   "source": [
    "## timedelta类"
   ]
  },
  {
   "cell_type": "markdown",
   "id": "19cb8f0a-e4ff-49b0-938e-ff2bf243ddb5",
   "metadata": {},
   "source": [
    "原型:class datetime.timedelta(days=0,seconds=0,microsceconds=0,milliseconds=0,minutes=0,hours=0,weeks=0)"
   ]
  },
  {
   "cell_type": "code",
   "execution_count": null,
   "id": "bc07e567-7487-49e8-9c96-01c5354246b7",
   "metadata": {},
   "outputs": [],
   "source": [
    "datetime.timedelta(days=10)\n",
    "\n",
    "datetime.timedelta.min\n",
    "\n",
    "datetime.timedelta.max\n",
    "\n",
    "datetime.timedelta.resolution"
   ]
  },
  {
   "cell_type": "code",
   "execution_count": null,
   "id": "6abb0a1e-2390-4e86-8ddd-3157872612b8",
   "metadata": {},
   "outputs": [],
   "source": [
    "dlt = datetime.timedelta(days=2)\n",
    "\n",
    "dlt\n",
    "\n",
    "dlt.total_seconds()\n",
    "\n",
    "dlt.days\n"
   ]
  },
  {
   "cell_type": "markdown",
   "id": "ab1879db-9d7e-47bf-9702-44e2fd232aed",
   "metadata": {},
   "source": [
    "## strftime:"
   ]
  },
  {
   "cell_type": "raw",
   "id": "1e0eaf14-d0dc-4252-8a54-37ee7ed20f9c",
   "metadata": {},
   "source": [
    "%a 是星期的简写; 如 星期三:Web;\n",
    "%A 是星期的全写; 如 星期四: Wednesday;\n",
    "%b 月份的简写; 如 4月份: Apr;\n",
    "%B 月份的全写; 如 4月份:April;\n",
    "%c 日期时间的字符串表示; 如 04/07/10 10:43:39;\n",
    "%d 日在这个月中的天数(这个月的第几天);\n",
    "%f 微秒(范围[0,999999])\n",
    "%H 小时(24小时制,[0,23])\n",
    "%I 小时(12小时制,[0,23])\n",
    "%j 日在年中的天数[001,366](当年的第几天)\n",
    "%m 月份[01,12]\n",
    "%M 分钟[00,59]\n",
    "%p AM或者PM\n",
    "%S 秒[00,61], 为什么不是[00,59],参考python手册\n",
    "%U 周在当年的周数(是当年的第几周),星期天作为周的第一天;\n",
    "%W 周在当年的周数(是当年的第几周),星期一作为周的第一天;\n",
    "%w 今天在这周的天数[0,6],6表示星期天;\n",
    "%x 日期字符串(如: 04/07/10)\n",
    "%X 时间字符串(如: 10:43:39)\n",
    "%y 2个数字表示的年份,不带世纪;\n",
    "%Y 4个数字表示的年份,带世纪;\n",
    "%z 与utc时间的间隔(如果是本地时间,返回空字符串)\n",
    "%Z 时区名称(如果是本地时间,返回空字符串)\n",
    "%% %%-->%"
   ]
  },
  {
   "cell_type": "markdown",
   "id": "79c90e9d-651d-48a9-ab32-c475e02d1d82",
   "metadata": {
    "toc-hr-collapsed": true
   },
   "source": [
    "# pytz"
   ]
  },
  {
   "cell_type": "code",
   "execution_count": null,
   "id": "33a96bd0-fc77-43fb-904d-9137af75e3bb",
   "metadata": {},
   "outputs": [],
   "source": [
    "import pytz"
   ]
  },
  {
   "cell_type": "code",
   "execution_count": null,
   "id": "5e562bd0-347c-43df-ac4d-2b630f6b71be",
   "metadata": {},
   "outputs": [],
   "source": [
    "pytz.country_timezones(\"cn\")   #百度查找国家代码"
   ]
  },
  {
   "cell_type": "code",
   "execution_count": null,
   "id": "9994ed73-49d2-46f4-99ab-e38ff28604fd",
   "metadata": {},
   "outputs": [],
   "source": [
    "tz = pytz.timezone(\"Asia/Shanghai\")   #返回时区格式信息\n",
    "type(tz)"
   ]
  },
  {
   "cell_type": "code",
   "execution_count": null,
   "id": "44c33f0a-4380-47cd-8185-5f38e01d255b",
   "metadata": {
    "tags": []
   },
   "outputs": [],
   "source": [
    "pytz.all_timezones  #或pytz.common_timezones"
   ]
  },
  {
   "cell_type": "markdown",
   "id": "421d0b09-7345-4ba3-b50a-4991108d91eb",
   "metadata": {},
   "source": [
    "## datetime.astimezone(\"目标时区\"):时区转换"
   ]
  },
  {
   "cell_type": "code",
   "execution_count": null,
   "id": "f2bb6396-376d-46e4-94d6-945c7b8b7c07",
   "metadata": {},
   "outputs": [],
   "source": [
    "lt = datetime.datetime.now(tz=tz)\n",
    "tgz = pytz.timezone(\"Africa/Asmera\")\n",
    "\n",
    "lt\n",
    "lt.astimezone(tgz)"
   ]
  },
  {
   "cell_type": "markdown",
   "id": "1d3ccba8-e0a1-4bd1-92b0-88711fe2c8ad",
   "metadata": {},
   "source": [
    "## timezone.localize(datetime)   #将datetime时间赋上时区信息"
   ]
  },
  {
   "cell_type": "code",
   "execution_count": null,
   "id": "30f52763-52f6-41a5-85de-b430e65aad93",
   "metadata": {},
   "outputs": [],
   "source": [
    "tgz.localize(datetime.datetime.strptime(\"2022-02-02 09:10:00\",\"%Y-%m-%d %H:%M:%S\"))"
   ]
  },
  {
   "cell_type": "markdown",
   "id": "04de5abc-8e0a-4a6e-9190-377b964c9c89",
   "metadata": {},
   "source": [
    "# Decorate"
   ]
  },
  {
   "cell_type": "markdown",
   "id": "a92148ce-02d1-40ec-85b2-adb6c7593b1e",
   "metadata": {},
   "source": [
    "## 函数可以作为变量进行传递"
   ]
  },
  {
   "cell_type": "code",
   "execution_count": null,
   "id": "574d06e9-ff39-4436-b672-208b0624ce75",
   "metadata": {},
   "outputs": [],
   "source": [
    "def add(x):\n",
    "    print(\"add function:\",x+1)\n",
    "    return x+1"
   ]
  },
  {
   "cell_type": "code",
   "execution_count": null,
   "id": "1e3f0ff7-efaa-4090-b3c1-e3a53180dc62",
   "metadata": {},
   "outputs": [],
   "source": [
    "a = add\n",
    "b = add(2)\n",
    "\n",
    "a(2)\n",
    "b"
   ]
  },
  {
   "cell_type": "markdown",
   "id": "ce90dbf8-5147-459f-83cf-36b460f8486e",
   "metadata": {},
   "source": [
    "## 函数可以作为参数进行传递"
   ]
  },
  {
   "cell_type": "code",
   "execution_count": null,
   "id": "6d431c11-f2dc-488c-ac79-d484e6e5e80c",
   "metadata": {},
   "outputs": [],
   "source": [
    "def excute(f):\n",
    "    print(\"excute function:\",f(2))"
   ]
  },
  {
   "cell_type": "code",
   "execution_count": null,
   "id": "58fd5f08-4a01-4f4f-963f-588044eb968a",
   "metadata": {},
   "outputs": [],
   "source": [
    "excute(add)"
   ]
  },
  {
   "cell_type": "markdown",
   "id": "e92f5e1f-d72b-47b5-8597-88fecf0b6dce",
   "metadata": {},
   "source": [
    "## 函数作为返回值"
   ]
  },
  {
   "cell_type": "code",
   "execution_count": null,
   "id": "66e1a0be-3659-47c6-81c4-629b51be1d28",
   "metadata": {},
   "outputs": [],
   "source": [
    "def get_add():\n",
    "    return add"
   ]
  },
  {
   "cell_type": "code",
   "execution_count": null,
   "id": "aacb825a-9838-4c83-913f-843e95003f54",
   "metadata": {},
   "outputs": [],
   "source": [
    "c = get_add()\n",
    "c(3)"
   ]
  },
  {
   "cell_type": "markdown",
   "id": "1a07e60d-c678-45dd-8052-3fdfa0c234e6",
   "metadata": {},
   "source": [
    "## 函数嵌套及跨越访问"
   ]
  },
  {
   "cell_type": "code",
   "execution_count": null,
   "id": "40885b2e-32a4-4646-9d53-3f4234024f01",
   "metadata": {},
   "outputs": [],
   "source": [
    "def outer():\n",
    "    x = 1\n",
    "    def inner():\n",
    "        print(x)\n",
    "    inner()\n",
    "outer()"
   ]
  },
  {
   "cell_type": "raw",
   "id": "719272c9-8d6d-4dcd-b0a4-801f277542b3",
   "metadata": {},
   "source": [
    "1. 要把函数进行传递返回时:     只用函数名,如: add\n",
    "2. 要执行函数时:               函数名+(),如:  add()"
   ]
  },
  {
   "cell_type": "markdown",
   "id": "0c5b2070-f6d3-409d-bf2c-a376e818c86d",
   "metadata": {},
   "source": [
    "## 闭包函数"
   ]
  },
  {
   "cell_type": "code",
   "execution_count": null,
   "id": "dac97be6-f078-4df2-aa4b-8baad95b133a",
   "metadata": {},
   "outputs": [],
   "source": [
    "def func():\n",
    "    return \"函数func\"\n",
    "\n",
    "def outer(x):\n",
    "    def inner():\n",
    "        return x\n",
    "    return inner\n",
    "\n",
    "closure = outer(func)   #返回的是 inner"
   ]
  },
  {
   "cell_type": "code",
   "execution_count": null,
   "id": "3caf4446-9111-45ce-8b32-47eeae70893c",
   "metadata": {},
   "outputs": [],
   "source": [
    "clreturn = closure()  #运行 函数inner, 将func附给 clreturn"
   ]
  },
  {
   "cell_type": "code",
   "execution_count": null,
   "id": "30cb8f2f-5a15-4cf5-85db-f08fbfa0e9f4",
   "metadata": {},
   "outputs": [],
   "source": [
    "clreturn()    #运行func函数"
   ]
  },
  {
   "cell_type": "raw",
   "id": "0fd21248-7fed-4504-86cd-734948524dc1",
   "metadata": {},
   "source": [
    "closure实际上是outer(func)，func作为参数传进outer，outer的子函数inner对func返回的结果进行了一番装饰，返回了一个装饰后的结果，最后outer返回inner，可以说inner就是装饰后的func，这就是一个函数被装饰的过程，重点在于执行 outer(func) 这个步骤。"
   ]
  },
  {
   "cell_type": "markdown",
   "id": "3c6f542b-7c71-474c-981e-18e9dae2acaa",
   "metadata": {
    "toc-hr-collapsed": true
   },
   "source": [
    "## 装饰器语法糖@"
   ]
  },
  {
   "cell_type": "code",
   "execution_count": null,
   "id": "484d398d-80e6-456d-9c9a-ee7d734e0781",
   "metadata": {},
   "outputs": [],
   "source": [
    "from functools import wraps"
   ]
  },
  {
   "cell_type": "code",
   "execution_count": null,
   "id": "e9fccc87-b005-4b6b-85eb-a0eda8794fae",
   "metadata": {},
   "outputs": [],
   "source": [
    "def outer(x):\n",
    "    @wraps(x)     #wraps的作用是 让原来的函数名不改变\n",
    "    def inner():\n",
    "        return x() + 1\n",
    "    return inner\n",
    "\n",
    "@outer\n",
    "def func():\n",
    "    i = 1\n",
    "    return i"
   ]
  },
  {
   "cell_type": "code",
   "execution_count": null,
   "id": "2a4c43dc-f9f5-4e86-9804-9f378c2eefcd",
   "metadata": {},
   "outputs": [],
   "source": [
    "func()"
   ]
  },
  {
   "cell_type": "code",
   "execution_count": null,
   "id": "e7d6956a-24dd-474e-87a0-b5bd8fd1d1d5",
   "metadata": {},
   "outputs": [],
   "source": [
    "func.__name__     #可以测试一下有和没用@wraps的效果"
   ]
  },
  {
   "cell_type": "markdown",
   "id": "aa71eeea-ee1b-4e66-bb51-5369fa4c894e",
   "metadata": {},
   "source": [
    "### 如果被装饰的函数有参数"
   ]
  },
  {
   "cell_type": "code",
   "execution_count": null,
   "id": "76fba7a1-9f64-47dc-ab79-a8f3f8cd36e4",
   "metadata": {},
   "outputs": [],
   "source": [
    "def dc(f):\n",
    "    @wraps(f)\n",
    "    def inner(*args,**kargs):    #接受被装饰函数的参数\n",
    "        sm = f(*args,**kargs)\n",
    "        return \"sum:\"+str(sm)\n",
    "    return inner\n",
    "    \n",
    "@dc\n",
    "def sm(a,b):\n",
    "    return a+b"
   ]
  },
  {
   "cell_type": "code",
   "execution_count": null,
   "id": "f35a53c4-8578-49d8-a43b-6a88566f2673",
   "metadata": {},
   "outputs": [],
   "source": [
    "sm(3,4)"
   ]
  },
  {
   "cell_type": "markdown",
   "id": "66481df7-6360-404a-8984-0c95005c8d4d",
   "metadata": {},
   "source": [
    "## @property: 可以让类的方法像属性一样调用"
   ]
  },
  {
   "cell_type": "code",
   "execution_count": null,
   "id": "5cfc8422-f48c-4712-b03a-3e8d1cfc2c25",
   "metadata": {},
   "outputs": [],
   "source": [
    "class Test:\n",
    "    def __init__(self):\n",
    "        self.name = 'Tom'\n",
    "        self.sex = 'male'\n",
    "    @property\n",
    "    def age(self):\n",
    "        return 36\n",
    "    \n",
    "    def edc(self):\n",
    "        return \"bachelor\""
   ]
  },
  {
   "cell_type": "code",
   "execution_count": null,
   "id": "6e23c72b-403c-4059-90b7-f84b251b9029",
   "metadata": {},
   "outputs": [],
   "source": [
    "t = Test()"
   ]
  },
  {
   "cell_type": "code",
   "execution_count": null,
   "id": "9b1dcd6f-474c-43bc-8787-cc56feeae29f",
   "metadata": {},
   "outputs": [],
   "source": [
    "t.age    #有了@property后,age方法可以像属性一样调用"
   ]
  },
  {
   "cell_type": "code",
   "execution_count": null,
   "id": "f6dd6671-1da0-40af-89f6-d6cef55dc5c6",
   "metadata": {},
   "outputs": [],
   "source": [
    "t.edc()"
   ]
  },
  {
   "cell_type": "code",
   "execution_count": null,
   "id": "dc76345d-46f1-44a6-aeaa-902c242e2b98",
   "metadata": {},
   "outputs": [],
   "source": [
    "# 装饰器介绍:https://www.runoob.com/w3cnote/python-func-decorators.html"
   ]
  },
  {
   "cell_type": "markdown",
   "id": "6d5d9eee-f25a-4c1f-b61e-61d2684560d3",
   "metadata": {},
   "source": [
    "## @staticmethod 将类中的方法装饰为静态方法\n",
    "    方法被装饰后,既可以通过实例化类来调用也可以不用实例化类直接调用"
   ]
  },
  {
   "cell_type": "code",
   "execution_count": null,
   "id": "f127f7df-8015-4742-830c-3af206dffa2e",
   "metadata": {},
   "outputs": [],
   "source": [
    "class Test:\n",
    "    def __init__(self):\n",
    "        self.name = 'Tom'\n",
    "        self.sex = 'male'\n",
    "\n",
    "    def age(self,a,b):\n",
    "        return a*b\n",
    "    \n",
    "    @staticmethod\n",
    "    def edc(self,a,b):\n",
    "        return a*b"
   ]
  },
  {
   "cell_type": "code",
   "execution_count": null,
   "id": "56040081-ea43-4e1c-b108-6cff0d60750d",
   "metadata": {},
   "outputs": [],
   "source": [
    "Test.edc(None,3,6)   #不需要实例化类,但是传入的参数个数要对应"
   ]
  },
  {
   "cell_type": "code",
   "execution_count": null,
   "id": "1b30daf4-31ef-4334-a56d-14dc7edc1527",
   "metadata": {},
   "outputs": [],
   "source": [
    "t = Test()\n",
    "t.age(3,6)\n",
    "t.edc(None,3,6)    #参数个数!!"
   ]
  },
  {
   "cell_type": "markdown",
   "id": "e2105340-4da8-45be-ad8d-e52c8831c78b",
   "metadata": {},
   "source": [
    "## @classmethod: "
   ]
  },
  {
   "cell_type": "code",
   "execution_count": null,
   "id": "820ecc6a-7f19-4ac4-9f19-7b07a8bd3a50",
   "metadata": {},
   "outputs": [],
   "source": [
    "class Car(object):\n",
    "    car = 'audi'\n",
    "    \n",
    "    @classmethod\n",
    "    def value(self,category):\n",
    "        print(f\"{category} car of {self.car}\")\n",
    "        return \"valueRun\"\n",
    "        \n",
    "class BMW(Car):\n",
    "    car = 'BMW'\n",
    "    \n",
    "class Benz(Car):\n",
    "    car = \"Benz\""
   ]
  },
  {
   "cell_type": "code",
   "execution_count": null,
   "id": "010b8ba9-32a4-4cf3-b3c0-675e44086f58",
   "metadata": {},
   "outputs": [],
   "source": [
    "print(\"通过实例调用:\")\n",
    "baoma = BMW()\n",
    "baoma.value(\"Normal\")"
   ]
  },
  {
   "cell_type": "code",
   "execution_count": null,
   "id": "71455623-2863-4940-9056-26e7ee992798",
   "metadata": {},
   "outputs": [],
   "source": [
    "print(\"通过类名直接调用:\")\n",
    "Benz.value(\"SUV\")"
   ]
  },
  {
   "cell_type": "code",
   "execution_count": null,
   "id": "f42b6961-1776-4aa3-b268-d0e2142826cf",
   "metadata": {},
   "outputs": [],
   "source": [
    "Car.value(\"car\")"
   ]
  },
  {
   "cell_type": "code",
   "execution_count": null,
   "id": "fa3e8b77-4d85-4e37-8e74-43d0f2f643fb",
   "metadata": {},
   "outputs": [],
   "source": [
    "# 注意，静态方法和类方法是为类操作准备的。虽然通过实例也能调用，但是不建议。"
   ]
  },
  {
   "cell_type": "markdown",
   "id": "3f17f4b6-f148-44f0-b819-ba0adbf5775a",
   "metadata": {},
   "source": [
    "# functools: 该模块为高阶函数提供支持"
   ]
  },
  {
   "cell_type": "code",
   "execution_count": null,
   "id": "e2852883-dd7f-4fcf-9730-f3204c8f4a75",
   "metadata": {},
   "outputs": [],
   "source": [
    "from functools import *"
   ]
  },
  {
   "cell_type": "code",
   "execution_count": null,
   "id": "738b1c0f-2f2e-483e-b3e3-0cec1b107784",
   "metadata": {},
   "outputs": [],
   "source": [
    "[x for x in dir(functools) if not x.startswith(\"_\")]"
   ]
  },
  {
   "cell_type": "markdown",
   "id": "7087c5b2-6e49-44b5-90b4-5bfe92ddb025",
   "metadata": {},
   "source": [
    "## partial:\n",
    "    用于部分应用一个函数，它基于一个函数创建一个可调用对象，把原函数的某些参数固定，调用时只需要传递未固定的参数即可。"
   ]
  },
  {
   "cell_type": "code",
   "execution_count": null,
   "id": "16fca952-65f2-4bb3-b49d-334e74d6e019",
   "metadata": {},
   "outputs": [],
   "source": [
    "def add(a,b):\n",
    "    name = a\n",
    "    age = b\n",
    "    return name,age"
   ]
  },
  {
   "cell_type": "code",
   "execution_count": null,
   "id": "ae2f5457-02bb-4be9-94f3-d12590a896d0",
   "metadata": {},
   "outputs": [],
   "source": [
    "add = functools.partial(add,10)"
   ]
  },
  {
   "cell_type": "code",
   "execution_count": null,
   "id": "ecd342af-73da-42a4-9e91-272767e41b9f",
   "metadata": {},
   "outputs": [],
   "source": [
    "add('osun')"
   ]
  },
  {
   "cell_type": "code",
   "execution_count": null,
   "id": "87e09b91-01db-4fac-b946-607b98923fbb",
   "metadata": {},
   "outputs": [],
   "source": [
    "tt = partial(partial(add,\"osun\"),20)\n",
    "print(tt)"
   ]
  },
  {
   "cell_type": "markdown",
   "id": "66fd86f0-a3e3-47ee-8cad-95fe65c959e6",
   "metadata": {},
   "source": [
    "## reduce: 函数的作用是将一个序列归纳为一个输出\n",
    "    reduce(function, sequence, startValue)"
   ]
  },
  {
   "cell_type": "code",
   "execution_count": null,
   "id": "2d0c3740-9ec3-46a3-bd19-390a61ce1364",
   "metadata": {},
   "outputs": [],
   "source": [
    "l =range(5)\n",
    "reduce(lambda x,y:x+y,l)   #累计求和"
   ]
  },
  {
   "cell_type": "markdown",
   "id": "e70cd261-a76f-4b23-a375-0827745e0c7d",
   "metadata": {},
   "source": [
    "## lru_cache: 缓存装饰器"
   ]
  },
  {
   "cell_type": "raw",
   "id": "ee9fff25-4ab2-4879-9d60-d5257b3ac331",
   "metadata": {},
   "source": [
    "我们常谈论的缓存一词,更多的类似于将硬盘中的数据存放到内存中以至于提高读取速度,比如常说的redis,就经常用来做数据缓存.\n",
    "Python的缓存(lru_cache)是一种装饰在被执行的函数上,将其执行的结果缓存起来,当下次请求的时候,如果请求该函数的传参未变则直接返回缓存起来的结果,不再执行函数的一种缓存装饰器.\n",
    "\n",
    "lru_cache(maxsize=128, typed=False)\n",
    "更强大的内存管理,见第三方库: redis"
   ]
  },
  {
   "cell_type": "code",
   "execution_count": null,
   "id": "7c5f336b-e28d-4334-9c09-349466eb9d3e",
   "metadata": {},
   "outputs": [],
   "source": [
    "from functools import *"
   ]
  },
  {
   "cell_type": "code",
   "execution_count": null,
   "id": "e1a0ac1f-00eb-49e0-9769-98336fa1a1a9",
   "metadata": {},
   "outputs": [],
   "source": [
    "def cal1(a,b):\n",
    "    print(\"calculation....\")\n",
    "    return a+b\n",
    "\n",
    "@lru_cache    #可以不带参数,也可以带参数\n",
    "def cal2(a,b):\n",
    "    print(\"calculation....\")\n",
    "    return a+b"
   ]
  },
  {
   "cell_type": "code",
   "execution_count": null,
   "id": "b09482c0-8861-4631-a86b-688a14b77115",
   "metadata": {},
   "outputs": [],
   "source": [
    "cal1(1,2)\n",
    "cal1(1,2)"
   ]
  },
  {
   "cell_type": "code",
   "execution_count": null,
   "id": "3b3119ed-610a-4dc2-b5f6-2d10a3ca9f7e",
   "metadata": {},
   "outputs": [],
   "source": [
    "cal2(1,2)\n",
    "cal2(1,2)  #没有运行cal2函数,直接从内存中返回了上次的结果"
   ]
  },
  {
   "cell_type": "markdown",
   "id": "bb74e749-a523-4dfc-a63f-6037ab49ab29",
   "metadata": {},
   "source": [
    "## singledispatch: 根据单一参数的类型来判断调用哪个函数。\n",
    "    有点像C++中 类的构造函数"
   ]
  },
  {
   "cell_type": "code",
   "execution_count": null,
   "id": "bed5870d-fca1-4aef-a69f-44fe5f5cb8fc",
   "metadata": {},
   "outputs": [],
   "source": [
    "@singledispatch\n",
    "def fun(text):\n",
    "\tprint('String：' + text)\n",
    "\n",
    "@fun.register(int)\n",
    "def _(text):\n",
    "\tprint(text)\n",
    "\n",
    "@fun.register(list)\n",
    "def _(text):\n",
    "\tfor k, v in enumerate(text):\n",
    "\t\tprint(k, v)\n",
    "\n",
    "@fun.register(float)\n",
    "@fun.register(tuple)\n",
    "def _(text):\n",
    "\tprint('float, tuple')"
   ]
  },
  {
   "cell_type": "code",
   "execution_count": null,
   "id": "aa7a6647-467a-46da-b58e-e8292989f61b",
   "metadata": {},
   "outputs": [],
   "source": [
    "fun('i am is hubo')\n",
    "fun(123)\n",
    "fun(['a','b','c'])\n",
    "fun(1.23)\n",
    "print(fun.registry)\t# 所有的泛型函数\n",
    "print(fun.registry[int])\t# 获取int的泛型函数"
   ]
  },
  {
   "cell_type": "markdown",
   "id": "1e5686a4-4dae-45ad-8668-3aad59bfc6e6",
   "metadata": {},
   "source": [
    "## cmp_to_key:是用来将老式的比较函数转化为 key 函数\n",
    "    在 list.sort 和 内建函数 sorted 中都有一个 key 参数"
   ]
  },
  {
   "cell_type": "code",
   "execution_count": null,
   "id": "fdeff329-d580-418b-88cf-d70e58895470",
   "metadata": {},
   "outputs": [],
   "source": [
    "x = ['hello','worl','ni']\n",
    "x.sort(key=len)"
   ]
  },
  {
   "cell_type": "code",
   "execution_count": null,
   "id": "b0ed58c6-48d7-4baa-b615-f7188df5d631",
   "metadata": {},
   "outputs": [],
   "source": [
    "x"
   ]
  },
  {
   "cell_type": "code",
   "execution_count": null,
   "id": "32c5a0cd-adca-4004-be32-c5387b7ffa82",
   "metadata": {},
   "outputs": [],
   "source": [
    "x.sort()\n",
    "x"
   ]
  },
  {
   "cell_type": "markdown",
   "id": "f1c404c4-f7c5-4082-87b3-07bfed10c818",
   "metadata": {
    "tags": [],
    "toc-hr-collapsed": true
   },
   "source": [
    "# re: 正则表达式"
   ]
  },
  {
   "cell_type": "code",
   "execution_count": null,
   "id": "dffdc3a2-4ac8-4075-84f5-5af7f936d274",
   "metadata": {},
   "outputs": [],
   "source": [
    "import re"
   ]
  },
  {
   "cell_type": "markdown",
   "id": "50782603-7157-43a6-913a-5da3120b3edd",
   "metadata": {},
   "source": [
    "## 方法:"
   ]
  },
  {
   "cell_type": "raw",
   "id": "b0aa8d90-c7e6-4c83-a25a-91b0f2535971",
   "metadata": {},
   "source": [
    "re.compile : 编译一个正则表达式模式(pattern)\n",
    "\n",
    "re.match: 从头开始匹配,使用group()方法可以获取第一个匹配的值;\n",
    "\n",
    "re.search: 用包含方式匹配,使用group()方法可以获取第一个匹配的值;\n",
    "\n",
    "re.findall: 用包含方式匹配,把所有匹配到的字符放到列表中,返回多个匹配的值;\n",
    "\n",
    "re.finditer: 与findall类似,是以迭代形式返回结果;\n",
    "\n",
    "re.sub:匹配字符并替换;\n",
    "\n",
    "re.split: 以匹配到的字符串当作列表分隔符,返回列表;"
   ]
  },
  {
   "cell_type": "markdown",
   "id": "7fc493f9-bd37-40d0-b830-55f2e91c688c",
   "metadata": {},
   "source": [
    "## 正则表达式修饰符 - 可选标志"
   ]
  },
  {
   "cell_type": "raw",
   "id": "e6dad307-5ed4-485f-8bb4-0d603bee7f51",
   "metadata": {},
   "source": [
    "flags: 编译标志位，用于修改正则表达式的匹配方式，如：是否区分大小写，多行匹配等。常用的flags有：\n",
    "    re.S(DOTALL):使.匹配包括换行在内的所有字符;\n",
    "    re.I(IGNORECASE): 使匹配不区分大小写;\n",
    "    re.L(LOCAL):做本地化识别(local-aware)匹配,语法等;\n",
    "    re.M(MULTILINE):多行匹配,影响^和$;\n",
    "    re.X(VERBOSE):这个标记允许你编写更具可读性更友好的正则表达式。通过分段和添加注释。空白符号会被忽略，除非在一个字符集合当中或者由反斜杠转义，或者在*?,(?:or(?P<…>分组之内。当一个行内有 #不在字符集和转义序列，那么它之后的所有字符都是注释。\n",
    "    re.U:根据Unicode字符集解析字符,这个标志影响\\w,\\W,\\b,\\B;"
   ]
  },
  {
   "cell_type": "markdown",
   "id": "ba07d9a0-a4be-40a6-8952-41afc5c5204f",
   "metadata": {},
   "source": [
    "## 正则表达式模式"
   ]
  },
  {
   "cell_type": "raw",
   "id": "2da341e5-b246-401d-a429-38fc9d59ba63",
   "metadata": {},
   "source": [
    "^ : 匹配字符串开头\n",
    "\n",
    "$ : 匹配字符串末尾\n",
    "\n",
    ". : 匹配任意字符,除了换行符\n",
    "\n",
    "[...] : 用来表示一组字符,单独列出: [amk]匹配'a','m','k'\n",
    "\n",
    "[^...] : 不在[]中的字符: [^abc] 匹配除了a,b,c之外的字符\n",
    "\n",
    "* : 匹配0个或多个\n",
    "\n",
    "+ : 匹配1个或多个\n",
    "\n",
    "? : 匹配0个或1个由前面的正则表达式定义的片段, 非贪婪方式\n",
    "\n",
    "{n} : 精确匹配n个前面表达式, 例如, o{2}能匹配food中的两个o\n",
    "\n",
    "{n,} : 匹配n个前面的表达式,例如, o{2,}能匹配\"foooooood\"中所有'o'. \"o{1,}\"等价于\"o+\". \"o{0,}\"等价于\"o*\".\n",
    "\n",
    "{n,m} : 匹配n到m次由前面的正则表达式定义的片段,贪婪方式\n",
    "\n",
    "a | b : 匹配 a或b\n",
    "\n",
    "() : 匹配括号内的表达式,也表示一个组\n",
    "\n",
    "(?imx)\t正则表达式包含三种可选标志：i, m, 或 x 。只影响括号中的区域。\n",
    "(?-imx)\t正则表达式关闭 i, m, 或 x 可选标志。只影响括号中的区域。\n",
    "(?: re)\t类似 (...), 但是不表示一个组\n",
    "(?imx: re)\t在括号中使用i, m, 或 x 可选标志\n",
    "(?-imx: re)\t在括号中不使用i, m, 或 x 可选标志\n",
    "(?#...)\t注释.\n",
    "(?= re)\t前向肯定界定符。如果所含正则表达式，以 ... 表示，在当前位置成功匹配时成功，否则失败。但一旦所含表达式已经尝试，匹配引擎根本没有提高；模式的剩余部分还要尝试界定符的右边。\n",
    "(?! re)\t前向否定界定符。与肯定界定符相反；当所含表达式不能在字符串当前位置匹配时成功\n",
    "(?> re)\t匹配的独立模式，省去回溯。\n",
    "\n",
    "\\w : 匹配字母数字及下划线\n",
    "\n",
    "\\W : 匹配非字母数字及下划线\n",
    "\n",
    "\\s : 匹配任意空白字符,等价于[ \\t\\n\\t\\f]\n",
    "\n",
    "\\S : 匹配任意非空白字符\n",
    "\n",
    "\\d : 匹配任意数字,等价于[0-9]\n",
    "\n",
    "\\D : 匹配任意非数字\n",
    "\n",
    "\\A : 匹配字符串开始\n",
    "\n",
    "\\Z : 匹配字符串结束,如果是存在换行,只匹配到换行前的结束字符串\n",
    "\n",
    "\\z : 匹配字符串结束\n",
    "\n",
    "\\G : 匹配最后匹配完成的位置\n",
    "\n",
    "\\b : 匹配一个单词边界,也就是指单词和空格间的位置. 例如, 'er\\b'可以匹配\"never中的'er', 但不能匹配\"verb\"中的'er'.\n",
    "\n",
    "\\B : 匹配非单词边界. 'er\\B'能匹配\"verb\"中的'er',但不能匹配\"never\"中的'er'.\n",
    "\n",
    "\\n, \\t, 等: 匹配一个换行符.匹配一个制表符,等\n",
    "\n",
    "\\1...\\9 : 匹配第n个分组的内容.\n",
    "\n",
    "\\10 : 匹配第n个分组的内容，如果它经匹配。否则指的是八进制字符码的表达式。\n"
   ]
  },
  {
   "cell_type": "markdown",
   "id": "da2eaba1-b689-4920-9068-2ac7396cf309",
   "metadata": {},
   "source": [
    "## 实例"
   ]
  },
  {
   "cell_type": "raw",
   "id": "31a997eb-5f26-45bf-aa1c-880cc94dc7de",
   "metadata": {},
   "source": [
    "[Pp]ython\t匹配 \"Python\" 或 \"python\"\n",
    "rub[ye]\t匹配 \"ruby\" 或 \"rube\"\n",
    "[aeiou]\t匹配中括号内的任意一个字母\n",
    "[0-9]\t匹配任何数字。类似于 [0123456789]\n",
    "[a-z]\t匹配任何小写字母\n",
    "[A-Z]\t匹配任何大写字母\n",
    "[a-zA-Z0-9]\t匹配任何字母及数字\n",
    "[^aeiou]\t除了aeiou字母以外的所有字符\n",
    "[^0-9]\t匹配除了数字外的字符"
   ]
  },
  {
   "cell_type": "code",
   "execution_count": null,
   "id": "1bc44e48-8f5f-4b79-b182-a09a2a2acb28",
   "metadata": {},
   "outputs": [],
   "source": [
    "sr = \"Tina is a goOdd girl, she is cool, clever, and so on...\\n\""
   ]
  },
  {
   "cell_type": "markdown",
   "id": "ccbf3a81-7467-43ab-846b-6841b48fd73c",
   "metadata": {},
   "source": [
    "### findall: 找到所有匹配的结果,返回列表\n",
    "    findall(pattern, string, flags=0)"
   ]
  },
  {
   "cell_type": "code",
   "execution_count": null,
   "id": "ab3724d8-daeb-4014-9886-23ed3310eb5b",
   "metadata": {},
   "outputs": [],
   "source": [
    "rr = re.compile(r\"\\w*o{2}\\w*\",\n",
    "                flags=re.I)\n",
    "rr.findall(sr)"
   ]
  },
  {
   "cell_type": "code",
   "execution_count": null,
   "id": "7f892bdc-3e8c-43c6-b704-acff9f0c3bb0",
   "metadata": {},
   "outputs": [],
   "source": [
    "rt = re.compile(r\".oo\")\n",
    "rt.findall(sr)"
   ]
  },
  {
   "cell_type": "code",
   "execution_count": null,
   "id": "3497205c-dc7e-48e5-842b-9862ab46209d",
   "metadata": {},
   "outputs": [],
   "source": []
  },
  {
   "cell_type": "markdown",
   "id": "f465c17f-44e3-49a3-9f5a-d6b42647dc36",
   "metadata": {},
   "source": [
    "### finditer: 找到所有结果,返回正则对象的迭代器"
   ]
  },
  {
   "cell_type": "code",
   "execution_count": null,
   "id": "7933c86f-2390-45d7-8966-308fd708f35a",
   "metadata": {},
   "outputs": [],
   "source": [
    "rr = re.compile(r\"\\w*o{2}\\w*\",\n",
    "                flags=re.I)\n",
    "riter = rr.finditer(sr)\n",
    "riter\n",
    "for i in riter:\n",
    "    print(i)\n",
    "    print(i.group())"
   ]
  },
  {
   "cell_type": "markdown",
   "id": "f785071c-bb93-4f24-adf1-7a8d7638a677",
   "metadata": {},
   "source": [
    "### re.X: 允许给表达式添加注释"
   ]
  },
  {
   "cell_type": "code",
   "execution_count": null,
   "id": "ae524a3c-b30d-445e-83e7-12c0c415d6e2",
   "metadata": {},
   "outputs": [],
   "source": [
    "# 实例2:\n",
    "# pattern = r\"\\w*oo\\w*\"\n",
    "pattern = '''\\w*    #匹配任意字符\n",
    "            o{2}    #2个o\n",
    "            \\w*\n",
    "            '''\n",
    "rr = re.compile(pattern,flags=re.X)   #re.X 允许表达式以注释的方式\n",
    "rr.findall(tt)"
   ]
  },
  {
   "cell_type": "markdown",
   "id": "f5037be4-6fdd-4c70-8eba-c81c5349f24e",
   "metadata": {},
   "source": [
    "### match: 匹配字符串的开头"
   ]
  },
  {
   "cell_type": "code",
   "execution_count": null,
   "id": "700b783b-a7e0-4e58-8632-7588336924de",
   "metadata": {},
   "outputs": [],
   "source": [
    "rm = re.compile(r\"\\w*Tin\\w\",re.I)\n",
    "rmr = rm.match(sr)\n",
    "rmr\n",
    "rmr.span()   #返回位置\n",
    "rmr.group()    #需要使用group()获取返回值"
   ]
  },
  {
   "cell_type": "markdown",
   "id": "c06e8ecc-0820-45fe-9d8c-1b68455d1513",
   "metadata": {},
   "source": [
    "### search:整个字符串查找,返回第一个\n",
    "    re.search(pattern, string, flags=0)"
   ]
  },
  {
   "cell_type": "code",
   "execution_count": null,
   "id": "c76675bd-d150-451b-8079-2419ee1faa29",
   "metadata": {},
   "outputs": [],
   "source": [
    "rel = re.compile(r\"\\w*ev\\w*\",re.I)\n",
    "res = re.search(rel,sr)\n",
    "res\n",
    "res.span()   #span是位置信息\n",
    "res.group()  #group()获取匹配的值"
   ]
  },
  {
   "cell_type": "markdown",
   "id": "551979c8-516d-4991-9a4b-68706c18addf",
   "metadata": {},
   "source": [
    "### split:将匹配到的字符串作为分隔符,分割字符串,返回列表\n",
    "    re.split(pattern, string[, maxsplit])  "
   ]
  },
  {
   "cell_type": "code",
   "execution_count": null,
   "id": "85acb329-1465-4b31-9a6f-8ac9f8281203",
   "metadata": {},
   "outputs": [],
   "source": [
    "rlst = r\"one1two2three3four4five5\"\n",
    "rl = re.compile(r\"\\d+\")\n",
    "\n",
    "re.split(rl,rlst)  #和下面写法相同\n",
    "rl.split(rlst)"
   ]
  },
  {
   "cell_type": "markdown",
   "id": "eb3f2de2-29b9-4279-ab45-de57c2ee9d22",
   "metadata": {},
   "source": [
    "### sub: 查找并替换,返回替换后的字符串"
   ]
  },
  {
   "cell_type": "raw",
   "id": "9ca349de-07f4-4c97-9034-7ff9eb3fe3a1",
   "metadata": {},
   "source": [
    "subn(pattern, repl, string, count=0, flags=0)\n",
    "pattern:正则表达式;\n",
    "repl: 要替换的内容;可以是字符串,也可以是函数;\n",
    "string: 目标字符串;\n",
    "count: 替换次数;默认0即替换所有\n",
    "flags: 可选,默认0"
   ]
  },
  {
   "cell_type": "code",
   "execution_count": null,
   "id": "ed7860fc-bce4-412e-a66a-ef82947894a2",
   "metadata": {},
   "outputs": [],
   "source": [
    "tt = \"JGood is a handsome boy, he is cool, clever, and so on...\"\n",
    "rr = re.compile(r'\\s+')\n",
    "re.sub(rr,'-',tt,5)"
   ]
  },
  {
   "cell_type": "markdown",
   "id": "1b7fb168-3c5a-449e-9448-b962b5a8cb5f",
   "metadata": {},
   "source": [
    "### subn: 查找并替换,返回替换后的字符串及替换次数"
   ]
  },
  {
   "cell_type": "code",
   "execution_count": null,
   "id": "7efca30b-5dca-4b52-b99a-fccf25f885cc",
   "metadata": {},
   "outputs": [],
   "source": [
    "tt = \"JGood is a handsome boy, he is cool, clever, and so on...\"\n",
    "rr = re.compile(r'\\s+')\n",
    "re.subn(rr,'-',tt,5)"
   ]
  },
  {
   "cell_type": "markdown",
   "id": "29a9caf7-8412-422b-ad2c-c69e0a6962ce",
   "metadata": {},
   "source": [
    "### group()/groups():"
   ]
  },
  {
   "cell_type": "code",
   "execution_count": null,
   "id": "f79d0498-bb49-4fbf-88d9-6f649b26e61d",
   "metadata": {},
   "outputs": [],
   "source": [
    "# group()/groups(): 获取表达式里组匹配的值\n",
    "    # . group() 返回被 RE 匹配的字符串\n",
    "    # . start() 返回匹配开始的位置\n",
    "    # . end() 返回匹配结束的位置\n",
    "    # . span() 返回一个元组包含匹配 (开始,结束) 的位置\n",
    "    # . group() 返回re整体匹配的字符串，可以一次输入多个组号，对应组号匹配的字符串。\n",
    "    # a. group（）返回re整体匹配的字符串，\n",
    "    # b. group (n,m) 返回组号为n，m所匹配的字符串，如果组号不存在，则返回indexError异常\n",
    "    # c.groups（）groups() 方法返回一个包含正则表达式中所有小组字符串的元组，从 1 到所含的小组号，通常groups()不需要参数，返回一个元组，元组中的元就是正则表达式中定义的组。"
   ]
  },
  {
   "cell_type": "code",
   "execution_count": null,
   "id": "752540fc-74b5-4929-bbe8-665136577c0f",
   "metadata": {},
   "outputs": [],
   "source": [
    "tt = \"Tina is a goOd girl, she is cool, clever, ggabgitrt and so on...,Zoo,number is 23143abgd56546 test\"\n",
    "\n",
    "# rr = re.compile(r'\\w*abg\\w',re.I)    #包含'abg'的所有词语;\n",
    "rr = re.compile(r\"([0-9]+)([a-z]*)(bg)([a-z]*)([0-9]+)\",re.S)  #数字+字母+'abg'+字母+数字\n",
    "\n",
    "zhz = rr.search(tt)\n",
    "zhz\n",
    "print(\"匹配的值:\",zhz.group())\n",
    "\n",
    "print(\"字符串起点:\",zhz.start())\n",
    "print(\"字符串终点:\",zhz.end())\n",
    "print(\"起点,终点:\",zhz.span())\n",
    "\n",
    "print(\"表达式第一个组([0-9]+):\",zhz.group(1))\n",
    "print(\"表达式第二个组([a-z]*):\",zhz.group(2))\n",
    "print(\"表达式第三个组(bg):\",zhz.group(3))\n",
    "print(\"表达式第四个组([a-z]*):\",zhz.group(4))\n",
    "print(\"表达式第五个组([0-9]+):\",zhz.group(5))"
   ]
  },
  {
   "cell_type": "code",
   "execution_count": null,
   "id": "0c179ec5-5c1e-46d8-b94f-c36af087ec0a",
   "metadata": {},
   "outputs": [],
   "source": []
  },
  {
   "cell_type": "markdown",
   "id": "793625c1-58fe-4553-94c7-ee2b746e3634",
   "metadata": {},
   "source": [
    "# csv"
   ]
  },
  {
   "cell_type": "code",
   "execution_count": null,
   "id": "6b739459-731e-4809-a750-3f4350cec286",
   "metadata": {},
   "outputs": [],
   "source": [
    "import csv"
   ]
  },
  {
   "cell_type": "code",
   "execution_count": null,
   "id": "7d254fcc-f644-4b17-812f-b5ebba2e6817",
   "metadata": {},
   "outputs": [],
   "source": [
    "data1 = ['Happy','Python']\n",
    "with open(r\".\\testfile\\csv_test1.csv\",'w') as fp:\n",
    "    fw = csv.writer(fp)\n",
    "    fw.writerow(data1)\n",
    "\n",
    "# writelines:会把内容写到同一个单元格:\n",
    "with open(r\".\\testfile\\writelines_test1.csv\",'w') as fp:\n",
    "    fp.writelines(data1)"
   ]
  },
  {
   "cell_type": "code",
   "execution_count": null,
   "id": "77bb21d2-17ce-46bf-8843-1d4375abc33f",
   "metadata": {},
   "outputs": [],
   "source": [
    "data2 = [['Happy','Python'],['Happy','Python']]\n",
    "\n",
    "# 自动添加分隔符及换行符\n",
    "with open(r\".\\testfile\\csv_test2.csv\",'w') as fp:\n",
    "    fw = csv.writer(fp)\n",
    "    fw.writerows(data2)"
   ]
  },
  {
   "cell_type": "code",
   "execution_count": null,
   "id": "8a7f9751-4d8a-46c3-afd3-d41853bedb97",
   "metadata": {},
   "outputs": [],
   "source": [
    "with open(r\".\\testfile\\csv_test2.csv\",'r') as fp:\n",
    "    fr = csv.reader(fp)\n",
    "    for i in fr:\n",
    "        print(i)"
   ]
  },
  {
   "cell_type": "markdown",
   "id": "2e1fba27-8a17-4dac-91f8-a18712849709",
   "metadata": {
    "toc-hr-collapsed": true
   },
   "source": [
    "# logging"
   ]
  },
  {
   "cell_type": "code",
   "execution_count": null,
   "id": "e6a3563c-1f79-4ff6-b8e9-3218a1a6f25f",
   "metadata": {},
   "outputs": [],
   "source": [
    "import logging"
   ]
  },
  {
   "cell_type": "raw",
   "id": "0694e36b-700c-4aa6-9d62-07093796100c",
   "metadata": {},
   "source": [
    "信息过滤功能:\n",
    "    级别排序:CRITICAL > ERROR > WARNING > INFO > DEBUG\n",
    "    logger.debug(\"孙悟空\")\n",
    "    logger.info(\"猪八戒\")\n",
    "    logger.warning(\"沙僧\")\n",
    "    logger.error(\"唐僧\")\n",
    "    logger.critical(\"白龙马\")"
   ]
  },
  {
   "cell_type": "markdown",
   "id": "6eeac0cd-78e0-492b-ac83-28906e7de495",
   "metadata": {},
   "source": [
    "## 方式一:basicConfig: 输入到文件或控制台"
   ]
  },
  {
   "cell_type": "code",
   "execution_count": null,
   "id": "e71e66e2-ac9a-4208-ac87-81c00e2d4a51",
   "metadata": {},
   "outputs": [],
   "source": [
    "logging.basicConfig(\n",
    "                    # filename=r\".\\testfile\\loggingtext.log\",   #日志要输出到底文件, 如果不传参,默认是打印到控制台\n",
    "                    # filemode=\"a\",    #'r','a','w', 和file的mode一样\n",
    "                    format=\"%(levelno)s-%(asctime)s-%(levelname)s-%(message)s\",  #选择就可以了\n",
    "                    datefmt=\"%Y%m%d %H:%M:%S\",   #使用 time.strftime() 所接受的指定日期/时间格式\n",
    "                    # style=, #如果指定了格式，则对格式字符串使用此样式。’%’ 用于 printf 样式、’{’ 用于 str.format()、’$’ 用于 string。默认为“%”。\n",
    "                    level=logging.NOTSET,   #如果需要显示所有级别的内容，可将 level=logging.NOTSET\n",
    "                    # stream=,   # 使用指定的流初始化 StreamHandler。注意，此参数与 filename 不兼容——如果两者都存在，则会抛出 ValueError。\n",
    "                    # handlers=,   #如果指定，这应该是已经创建的处理程序的迭代，以便添加到根日志程序中。任何没有格式化程序集的处理程序都将被分配给在此函数中创建的默认格式化程序。注意，此参数与 filename 或 stream 不兼容——如果两者都存在，则会抛出 ValueError。\n",
    "                   )"
   ]
  },
  {
   "cell_type": "code",
   "execution_count": null,
   "id": "c25dd91f-bc78-4787-a577-8bfb2cea054c",
   "metadata": {},
   "outputs": [],
   "source": []
  },
  {
   "cell_type": "raw",
   "id": "542720a0-7314-4968-95dc-6be53b2c1d24",
   "metadata": {},
   "source": [
    "format格式参数:\n",
    "    %(levelno)s\t打印日志级别的数值\n",
    "    %(levelname)s\t打印日志级别名称\n",
    "    %(pathname)s\t打印当前执行程序的路径\n",
    "    %(filename)s\t打印当前执行程序名称\n",
    "    %(funcName)s\t打印日志的当前函数\n",
    "    %(lineno)d\t打印日志的当前行号\n",
    "    %(asctime)s\t打印日志的时间\n",
    "    %(thread)d\t打印线程id\n",
    "    %(threadName)s\t打印线程名称\n",
    "    %(process)d\t打印进程ID\n",
    "    %(message)s\t打印日志信息"
   ]
  },
  {
   "cell_type": "code",
   "execution_count": null,
   "id": "9ebf9c9d-2bf3-4e41-93b8-891010287646",
   "metadata": {},
   "outputs": [],
   "source": [
    "# 级别排序:CRITICAL > ERROR > WARNING > INFO > DEBUG\n",
    "logging.debug(\"孙悟空\")\n",
    "logging.info(\"猪八戒\")\n",
    "logging.warning(\"沙僧\")\n",
    "logging.error(\"唐僧\")\n",
    "logging.critical(\"白龙马\")"
   ]
  },
  {
   "cell_type": "markdown",
   "id": "96105dd2-a370-4884-8d61-221a48255d09",
   "metadata": {},
   "source": [
    "## 方式二: getLogger: 输出到文件,控制台或同时"
   ]
  },
  {
   "cell_type": "code",
   "execution_count": null,
   "id": "d6f614ea-38d1-429d-9dc9-8a0927b6d07f",
   "metadata": {},
   "outputs": [],
   "source": [
    "# 1. logger:提供应用程序代码直接使用的接口\n",
    "logger = logging.getLogger(__name__)\n",
    "logger.setLevel(level=logging.INFO)   #设置输出信息的级别"
   ]
  },
  {
   "cell_type": "code",
   "execution_count": null,
   "id": "9cb9f216-75d6-473f-811b-f2c03b051923",
   "metadata": {},
   "outputs": [],
   "source": [
    "# 2. Handler配置:\n",
    "fh = logging.FileHandler(r\".\\testfile\\handler.log\")   #输出到文件\n",
    "ch = logging.StreamHandler()    #输出到控制台"
   ]
  },
  {
   "cell_type": "code",
   "execution_count": null,
   "id": "fc79f81a-644c-4b3f-97b4-d72ab5c8f088",
   "metadata": {},
   "outputs": [],
   "source": [
    "# 3. Fommatter: 对信息进行格式化,\n",
    "file_fmt = logging.Formatter(\"%(levelno)s-%(asctime)s-%(levelname)s-%(message)s\")  #设计格式\n",
    "fh.setFormatter(file_fmt)  #配置设计好的格式\n",
    "\n",
    "ch.setFormatter(file_fmt)  #这个格式可以不一样"
   ]
  },
  {
   "cell_type": "code",
   "execution_count": null,
   "id": "5e0a7e39-4711-4484-9e4e-efad23b231a8",
   "metadata": {},
   "outputs": [],
   "source": [
    "# 4. 设置信息级别\n",
    "fh.setLevel(logging.WARN)\n",
    "ch.setLevel(logging.DEBUG)"
   ]
  },
  {
   "cell_type": "code",
   "execution_count": null,
   "id": "8fa42a81-d44a-4805-897e-6392e3c5779b",
   "metadata": {},
   "outputs": [],
   "source": [
    "# 5. 创建过滤,并添加到handler,也可以添加到logger\n",
    "filter_name = logging.Filter(__name__)\n",
    "\n",
    "fh.addFilter(filter_name)\n",
    "\n",
    "# 或添加到logger:\n",
    "# logger.addFilter(filter_name)"
   ]
  },
  {
   "cell_type": "code",
   "execution_count": null,
   "id": "cd5dc02b-cc24-43e1-a677-beba4e47debc",
   "metadata": {},
   "outputs": [],
   "source": [
    "# 6. 将Handler添加到logger\n",
    "logger.addHandler(fh)\n",
    "logger.addHandler(ch)"
   ]
  },
  {
   "cell_type": "code",
   "execution_count": null,
   "id": "0bc7d7fd-5a54-4eb2-b194-f2b800400997",
   "metadata": {},
   "outputs": [],
   "source": [
    "logger.debug(\"孙悟空\")\n",
    "logger.info(\"猪八戒\")\n",
    "logger.warning(\"沙僧\")\n",
    "logger.error(\"唐僧\")\n",
    "logger.critical(\"白龙马\")"
   ]
  },
  {
   "cell_type": "markdown",
   "id": "606d00cf-97ac-4552-8271-a76abffdcd8e",
   "metadata": {
    "tags": []
   },
   "source": [
    "# multiprocessing"
   ]
  },
  {
   "cell_type": "code",
   "execution_count": null,
   "id": "8d82c04f-2bd5-4364-b9a5-2553ae35a9a5",
   "metadata": {},
   "outputs": [],
   "source": [
    "from multiprocessing import Process,Pipe,Lock,Value,Manager\n",
    "import multiprocessing\n",
    "import random\n",
    "import os\n",
    "import time"
   ]
  },
  {
   "cell_type": "markdown",
   "id": "679e2a5f-d1f2-4e95-af00-dce120846157",
   "metadata": {},
   "source": [
    "## Process模块"
   ]
  },
  {
   "cell_type": "code",
   "execution_count": null,
   "id": "b9262b10-cea4-4f7b-a821-b4e20ce71e48",
   "metadata": {},
   "outputs": [],
   "source": [
    "# jupyter 里面不好使(没用输出),请在notepadd++里测试\n",
    "\n",
    "# 先准备一个函数:\n",
    "def func(number1,number2):\n",
    "    rlt = number1*number2\n",
    "    print(rlt)\n",
    "    # return rlt    \n",
    "    \n",
    "if __name__ == \"__main__\":\n",
    "    # 创建子进程:\n",
    "    p = Process(group=None,   #此参数不使用,始中是None\n",
    "                target=func,  #表示调用对象,即子进程要执行的任务,比如一个函数名;\n",
    "                \n",
    "                # args=(3,5),   #传参方式一: 表示调用对象的位置参数元组,args=(3,4,...)\n",
    "                kwargs={\"number1\":3,\"number2\":18},      #传参方式二: 表示调用对象的字典,kwargs={'name':'egon','age':18}\n",
    "                \n",
    "                name=\"P1\",    #表示子进程的名称\n",
    "               )\n",
    "    p.start()"
   ]
  },
  {
   "cell_type": "code",
   "execution_count": null,
   "id": "e59318b7-855f-4979-8ed5-94ee27df3863",
   "metadata": {},
   "outputs": [],
   "source": [
    "# 会发现p的父进程ID和当前进程(即主进程)ID相同\n",
    "p\n",
    "os.getpid()   #获取当前进程ID\n",
    "p.name\n",
    "p.pid"
   ]
  },
  {
   "cell_type": "markdown",
   "id": "e1d6cc4b-6a0a-4a73-9e4a-2ced2f3d599e",
   "metadata": {},
   "source": [
    "### Process:创建子进程"
   ]
  },
  {
   "cell_type": "raw",
   "id": "cc354b7b-6d0e-42ab-a0e3-35f8a4162201",
   "metadata": {},
   "source": [
    "1 p.start()：启动进程，并调用该子进程中的p.run() \n",
    "2 p.run():进程启动时运行的方法，正是它去调用target指定的函数，我们自定义类的类中一定要实现该方法  \n",
    "3 p.terminate():强制终止进程p，不会进行任何清理操作，如果p创建了子进程，该子进程就成了僵尸进程，使用该方法需要特别小心这种情况。如果p还保存了一个锁那么也将不会被释放，进而导致死锁\n",
    "4 p.is_alive():如果p仍然运行，返回True\n",
    "5 p.join([timeout]):主线程等待p终止（强调：是主线程处于等的状态，而p是处于运行的状态）。timeout是可选的超时时间，需要强调的是，p.join只能join住start开启的进程，而不能join住run开启的进程"
   ]
  },
  {
   "cell_type": "code",
   "execution_count": null,
   "id": "44d8fe7a-2866-469d-926d-4ab6d4579783",
   "metadata": {},
   "outputs": [],
   "source": [
    "# join方法:\n",
    "p1 = Process(target=func,args=(3,5))\n",
    "p2 = Process(target=func,kwargs={\"number1\":4,\"number2\":5})\n",
    "\n",
    "p1.daemon = True   #一定要在p1.start()前设置,设置p为守护进程,禁止p创建子进程,并且父进程代码执行结束,p即终止运行\n",
    "\n",
    "p1.start()\n",
    "p2.start()\n",
    "\n",
    "p1.join(timeout=3)  #后面的内容需要等 线程p1结束后再执行\n",
    "p2.join()\n",
    "\n",
    "print(\"主线程结束\")"
   ]
  },
  {
   "cell_type": "code",
   "execution_count": null,
   "id": "80e4afc8-23a8-42ad-9a1d-7dc72aca7189",
   "metadata": {},
   "outputs": [],
   "source": [
    "# for 循环开启多个进程:\n",
    "for i in range(10):\n",
    "    p = Process(target=func,args=(i,i+1))\n",
    "    p.start()\n",
    "    \n",
    "print(\"主进程结束\")"
   ]
  },
  {
   "cell_type": "markdown",
   "id": "6d8f6fe0-4793-4ecb-b056-41c2a4c5104d",
   "metadata": {},
   "source": [
    "## Pool:进程池"
   ]
  },
  {
   "cell_type": "raw",
   "id": "2eb589a4-e38e-46a3-815b-8f384d76282a",
   "metadata": {},
   "source": [
    "进程池Pool 提供的功能有嗲类似于列表和函数式编程操作（映射-归约）提供的功能。\n",
    "Pool(procesess) 创建工作进程池，process为要创建的进程数，如果省略此参数，将使用cpu_count()值。\n",
    "\n",
    "Pool.apply(func,(args,(kwargs))) 在一个进程池中执行函数func(*args,**kwargs),然后返回结果。此操作不会在所有池工作进程中并行执行func函数。如果要使用不同参数并发执行func函数，必须从不同的线程调研Pool.appy()函数或者使用Pool.appy_async()函数。\n",
    "\n",
    "Pool.apply_async(func,(args,(kwargs))) 在一个进程池中异步执行函数func(*args,**kwargs),然后返回AsyncResult类的实例的结果，可以用get()函数获得最终计算结果。\n",
    "\n",
    "Pool.map(func,iterable) 将可调用对象func应用给iterable中的所有项，然后以列表的形式返回结果。通过将iterable划分为多块并将工作分派给工作进程执行这项操作。\n",
    "\n",
    "Pool.map_async(func,iterable) 同map函数，但结果返回的是异步的，且返回值是AsyncResult类的实例，需要用get()函数去获得最终结果。"
   ]
  },
  {
   "cell_type": "raw",
   "id": "7309a9e3-7865-4f7e-8b0f-89f25d5bcd03",
   "metadata": {},
   "source": [
    "进程池创建:\n",
    "    multiprocessing.Pool(processes=None, initializer=None, initargs=(), maxtasksperchild=None)\n",
    "\n",
    "    processes ：      使用的工作进程的数量，如果processes是None那么使用 os.cpu_count()返回的数量。\n",
    "    initializer：     如果initializer不是None，那么每一个工作进程在开始的时候会调用initializer(*initargs)。\n",
    "    maxtasksperchild：工作进程退出之前可以完成的任务数，完成后用一个新的工作进程来替代原进程，来让闲置的资源被释放。maxtasksperchild默认是None，意味着只要Pool存在工作进程就会一直存活。\n",
    "    context:          用在制定工作进程启动时的上下文，一般使用 multiprocessing.Pool() 或者一个context对象的Pool()方法来创建一个池，两种方法都适当的设置了context。"
   ]
  },
  {
   "cell_type": "raw",
   "id": "667602f9-53a6-4e2a-bebd-42942a9c67b3",
   "metadata": {},
   "source": [
    "pool中提供了如下方法:\n",
    "    apply()\n",
    "    apply_async()\n",
    "    map()\n",
    "    map_async()\n",
    "    starmap()\n",
    "    close()\n",
    "    terminal()\n",
    "    join()"
   ]
  },
  {
   "cell_type": "markdown",
   "id": "82becd52-1f7f-49dc-bc19-1d078aef86e0",
   "metadata": {},
   "source": [
    "### apply:串行"
   ]
  },
  {
   "cell_type": "raw",
   "id": "037ea9ec-4aa1-4777-b2de-4c721e6497b7",
   "metadata": {},
   "source": [
    "pool.apply(func, args=(), kwds={})\n",
    "#apply对应的子进程是排队执行的，实际非并行（阻塞的，即上一个子进程完成了才能进行下一个子进程；注意是单个子进程执行的，而不是按批执行的）。xxx为进程池实例。"
   ]
  },
  {
   "cell_type": "code",
   "execution_count": null,
   "id": "23858a58-63df-41e2-a7cc-46d92a9f24a2",
   "metadata": {},
   "outputs": [],
   "source": [
    "def call1(a):\n",
    "    time.sleep(random.random())\n",
    "    rlt = a*(a+1)\n",
    "    print(f\"{rlt} in func\")\n",
    "    return rlt\n",
    "\n",
    "if __name__ == \"__main__\":\n",
    "    pool = multiprocessing.Pool()\n",
    "    for i in range(1,10):\n",
    "        result = pool.apply(call1,args=(i,))\n",
    "        print(f\"{result} in main\")\n",
    "    # 或\n",
    "    result = [pool.apply(call1,args(i,)) for i in range(1,10)]"
   ]
  },
  {
   "cell_type": "markdown",
   "id": "8533e4d1-4a1e-4120-9363-6d676164bc1a",
   "metadata": {},
   "source": [
    "### apply_async: 并行"
   ]
  },
  {
   "cell_type": "code",
   "execution_count": null,
   "id": "3a825516-653e-48b1-8635-b6f6feb005bf",
   "metadata": {},
   "outputs": [],
   "source": [
    "apply_async对应的每个子进程是异步执行的（即并行）。异步执行指的是一批子进程并行执行，且子进程完成一个，就新开始一个，而不必等待同一批其他进程完成。xxx为进程池实例。\n",
    "pool.apply_async(func, args=(), kwds={}, callback=None, error_callback=None)\n",
    "    func(*args,**kwds)为子进程对应的活动。\n",
    "    callback为回调函数（在func执行完毕后执行），其应具有一个参数，该参数为func的返回值（也即func应有一个返回值)。"
   ]
  },
  {
   "cell_type": "code",
   "execution_count": null,
   "id": "b29817f6-ff75-4c1d-818d-a68d02e00e07",
   "metadata": {},
   "outputs": [],
   "source": [
    "def call1(a):\n",
    "    time.sleep(random.random())\n",
    "    rlt = a*(a+1)\n",
    "    print(f\"{rlt} in func\")\n",
    "    return rlt\n",
    "\n",
    "if __name__ == \"__main__\":\n",
    "    \n",
    "    s = time.time()\n",
    "    pool = multiprocessing.Pool()\n",
    "    for i in range(1,10):\n",
    "        result = pool.apply_async(call1,args=(i,))   #这个地方result接收的是一个内存地址,因为主线程不会等待子线程\n",
    "        print(f\"{result} in main\")\n",
    "    pool.close()\n",
    "    pool.join()\n",
    "    \n",
    "    e = time.time()\n",
    "    print(e-s)"
   ]
  },
  {
   "cell_type": "code",
   "execution_count": null,
   "id": "d92925a6-6852-406e-b9e8-f337d89942c2",
   "metadata": {},
   "outputs": [],
   "source": [
    "# callback:回调函数\n",
    "def call1(a):\n",
    "    time.sleep(random.random())\n",
    "    rlt = a*(a+1)\n",
    "    print(f\"{rlt} in func\")\n",
    "    return rlt\n",
    "\n",
    "def callback(res):   #接收call1 的返回值\n",
    "    print(f\"{res} in callback\")\n",
    "    return res\n",
    "\n",
    "if __name__ == \"__main__\":\n",
    "    \n",
    "    s = time.time()\n",
    "    pool = multiprocessing.Pool()\n",
    "    for i in range(1,10):\n",
    "        result = pool.apply_async(call1,args=(i,),callback=callback)   #result接收内存地址\n",
    "        print(f\"{result} in main\")\n",
    "    \n",
    "    pool.close()\n",
    "    pool.join()\n",
    "    \n",
    "    e = time.time()\n",
    "    print(e-s)"
   ]
  },
  {
   "cell_type": "markdown",
   "id": "710f2e17-ab9c-4cbd-bbb3-cdf5cbd33c4a",
   "metadata": {},
   "source": [
    "### map: 只允许一个参数"
   ]
  },
  {
   "cell_type": "raw",
   "id": "85dca8f6-a364-44ea-b9ec-b958f5a4750a",
   "metadata": {},
   "source": [
    "(b）如果子进程有返回值，且返回值需要集中处理，则建议采用map方式（子进程活动只允许1个参数）：\n",
    "    pool.map(func, iterable, chunksize=None) #将iterable的每个元素作为参数，应用func函数，返回函数结果组成的list，阻塞版本。func(iterable[i])为子进程对应的活动。XXX为进程池实例。"
   ]
  },
  {
   "cell_type": "code",
   "execution_count": null,
   "id": "dec01441-3df9-43ea-98e2-75f4e90d9b32",
   "metadata": {},
   "outputs": [],
   "source": [
    "# map, 只允许一个参数:\n",
    "def call1(a):\n",
    "    time.sleep(random.random())\n",
    "    rlt = a*(a+1)\n",
    "    print(f\"{rlt} in func\")\n",
    "    return rlt\n",
    "\n",
    "if __name__ == \"__main__\":\n",
    "    \n",
    "    s = time.time()\n",
    "    pool = multiprocessing.Pool()\n",
    "    \n",
    "    result = pool.map(call1,range(1,10))    #range(1,10) 就是iterable, 返回一个结果的列表给result\n",
    "    print(result)\n",
    "    e = time.time()\n",
    "    print(e-s)"
   ]
  },
  {
   "cell_type": "markdown",
   "id": "b07dad14-be53-47a2-b034-d74dd4fb5c44",
   "metadata": {},
   "source": [
    "### map_async: 并行"
   ]
  },
  {
   "cell_type": "raw",
   "id": "7004a735-ed79-4fa4-a3f7-bc503e638a16",
   "metadata": {},
   "source": [
    "pool.map_async(func, iterable, chunksize=None, callback=None, error_callback=None) \n",
    "#XXX.map()的异步（并行）版本，返回MapResult实例（其具有get()方法，获取结果组成的list）。XXX为进程池实例。"
   ]
  },
  {
   "cell_type": "code",
   "execution_count": null,
   "id": "92fe937e-9268-435f-bcd3-e08d3645fbcc",
   "metadata": {},
   "outputs": [],
   "source": [
    "def call1(a):\n",
    "    time.sleep(random.random())\n",
    "    rlt = a*(a+1)\n",
    "    print(f\"{rlt} in func\")\n",
    "    return rlt\n",
    "\n",
    "if __name__ == \"__main__\":\n",
    "    \n",
    "    s = time.time()\n",
    "    pool = multiprocessing.Pool()\n",
    "    \n",
    "    result = pool.map_async(call1,range(1,10))    #range(1,10) 就是iterable, 返回一个结果的列表给result\n",
    "    \n",
    "    pool.close()\n",
    "    pool.join()\n",
    "    print(result.get())\n",
    "    e = time.time()\n",
    "    print(e-s)"
   ]
  },
  {
   "cell_type": "markdown",
   "id": "241e5639-afea-4bec-a8c1-2c7c98aacd0b",
   "metadata": {},
   "source": [
    "### starmap: 可以传多个参数"
   ]
  },
  {
   "cell_type": "raw",
   "id": "8d05eb86-5496-4fa2-bc51-42f1d08b7556",
   "metadata": {},
   "source": [
    "（d）如果子进程活动具有多个参数，则不能直接使用map方式，需采用starmap方式：\n",
    "    pool.starmap(func, iterable, chunksize=None) \n",
    "    #类似XXX.map()，但子进程活动func允许包含多个参数，也即iterable的每个元素也是iterable（其每个元素作为func的参数），返回结果组成的list。XXX为进程池实例。\n",
    "\n",
    "    "
   ]
  },
  {
   "cell_type": "code",
   "execution_count": null,
   "id": "cf8017a3-0998-450e-a7b6-8b61b3678d87",
   "metadata": {},
   "outputs": [],
   "source": [
    "def call1(a,b):\n",
    "    time.sleep(random.random())\n",
    "    rlt = a*(a+1)\n",
    "    print(f\"{rlt} in func\")\n",
    "    return rlt\n",
    "\n",
    "if __name__ == \"__main__\":\n",
    "    \n",
    "    s = time.time()\n",
    "    pool = multiprocessing.Pool()\n",
    "    \n",
    "    result = pool.starmap(call1,[(2, 6), (3, 7), (4, 8), (5, 9)])   #多个参数以元组或列表形式传入\n",
    "    print(result)\n",
    "    e = time.time()\n",
    "    print(e-s)"
   ]
  },
  {
   "cell_type": "markdown",
   "id": "2dc13eef-f0c6-4f0b-bbfc-04c889377be2",
   "metadata": {},
   "source": [
    "### starmap_async:"
   ]
  },
  {
   "cell_type": "raw",
   "id": "40a5f614-442a-4b6d-be31-11a31e7bf148",
   "metadata": {},
   "source": [
    "pool.starmap_async(func, iterable, chunksize=None, callback=None, error_callback=None) \n",
    "#xxx.starmap()的异步（并行）版本，返回MapResult实例（其具有get()方法，获取结果组成的list）。XXX为进程池实例。"
   ]
  },
  {
   "cell_type": "code",
   "execution_count": null,
   "id": "e44b6040-f116-4cc9-9435-5ad6e20b54f4",
   "metadata": {},
   "outputs": [],
   "source": [
    "def call1(a,b):\n",
    "    time.sleep(random.random())\n",
    "    rlt = a*(a+1)\n",
    "    print(f\"{rlt} in func\")\n",
    "    return rlt\n",
    "\n",
    "if __name__ == \"__main__\":\n",
    "    \n",
    "    s = time.time()\n",
    "    pool = multiprocessing.Pool()\n",
    "    \n",
    "    result = pool.starmap_async(call1,[(2, 6), (3, 7), (4, 8), (5, 9)])   #多个参数以元组或列表形式传入\n",
    "    pool.close()\n",
    "    pool.join()\n",
    "    print(result.get())\n",
    "    e = time.time()\n",
    "    print(e-s)"
   ]
  },
  {
   "cell_type": "markdown",
   "id": "7acf95b5-8852-45d4-b283-dc6011b7af1d",
   "metadata": {},
   "source": [
    "### imap: 返回迭代器"
   ]
  },
  {
   "cell_type": "raw",
   "id": "c0bbf9ee-36ff-4554-8711-770e4b79038f",
   "metadata": {},
   "source": [
    "（c）如果内存不够用，也可采用imap迭代器方式：\n",
    "    pool.imap(func, iterable, chunksize=1) \n",
    "    pool.map()的迭代器版本，返回迭代器实例。XXX.imap()速度远慢于XXX.map()，但是对内存需求非常小。XXX为进程池实例。"
   ]
  },
  {
   "cell_type": "code",
   "execution_count": null,
   "id": "170d37f2-13b1-422b-a3f5-d0fa08284ddb",
   "metadata": {},
   "outputs": [],
   "source": [
    "def call1(a):\n",
    "    time.sleep(random.random())\n",
    "    rlt = a*(a+1)\n",
    "    print(f\"{rlt} in func\")\n",
    "    return rlt\n",
    "\n",
    "if __name__ == \"__main__\":\n",
    "    \n",
    "    s = time.time()\n",
    "    pool = multiprocessing.Pool()\n",
    "    \n",
    "    result = pool.imap(call1,range(1,10))    #range(1,10) 就是iterable, 返回一个结果的列表给result\n",
    "    for i in result:\n",
    "        print(i)\n",
    "    pool.close()\n",
    "    pool.join()\n",
    "    e = time.time()\n",
    "    print(e-s)"
   ]
  },
  {
   "cell_type": "markdown",
   "id": "4756b0fd-6f38-4e03-87a2-2048a6d31fe4",
   "metadata": {},
   "source": [
    "### imap_unordered"
   ]
  },
  {
   "cell_type": "raw",
   "id": "05694cf2-557e-446d-be0b-f14d099cc43b",
   "metadata": {},
   "source": [
    "pool.imap_unordered(func, iterable, chunksize=1) \n",
    "#XXX.imap()的无序版本（不会按照调用顺序返回，而是按照结束顺序返回），返回迭代器实例。XXX为进程池实例。"
   ]
  },
  {
   "cell_type": "code",
   "execution_count": null,
   "id": "ca7e1168-66d2-43fa-b526-ce0d276b7f1d",
   "metadata": {},
   "outputs": [],
   "source": [
    "def call1(a):\n",
    "    time.sleep(random.random())\n",
    "    rlt = a*(a+1)\n",
    "    print(f\"{rlt} in func\")\n",
    "    return rlt\n",
    "\n",
    "if __name__ == \"__main__\":\n",
    "    \n",
    "    s = time.time()\n",
    "    pool = multiprocessing.Pool()\n",
    "    \n",
    "    result = pool.imap_unordered(call1,range(1,10))    #range(1,10) 就是iterable, 返回一个结果的列表给result\n",
    "    for i in result:\n",
    "        print(i)\n",
    "    pool.close()  #关闭进程池,不能再往里加进程了\n",
    "    pool.join()   #等待进程池结束\n",
    "    e = time.time()\n",
    "    print(e-s)"
   ]
  },
  {
   "cell_type": "code",
   "execution_count": null,
   "id": "60a0e59f-2910-4071-8d68-dd54a1597143",
   "metadata": {},
   "outputs": [],
   "source": []
  },
  {
   "cell_type": "raw",
   "id": "4b55d0c7-acbe-42fb-b86c-fe23636a1538",
   "metadata": {},
   "source": [
    "其它方法:\n",
    "    XXX.close() #关闭进程池，关闭后不能往pool中增加新的子进程，然后可以调用join()函数等待已有子进程执行完毕。XXX为进程池。\n",
    "    XXX.join() #等待进程池中的子进程执行完毕。需在close()函数后调用。XXX为进程池。"
   ]
  },
  {
   "cell_type": "code",
   "execution_count": null,
   "id": "b3726b2e-8d1a-443b-bca2-3e8088fd10d0",
   "metadata": {},
   "outputs": [],
   "source": [
    "def f(a, b): #starmap方法允许多个参数\n",
    "    pass\n",
    "\n",
    "pool = multiprocessing.Pool() \n",
    "result = pool.starmap_async(f, ((a0, b0), (a1, b1), ...)).get()\n",
    "pool.close()\n",
    "pool.join()"
   ]
  },
  {
   "cell_type": "markdown",
   "id": "e6940299-aff2-42e4-ace9-c36132ac7fd3",
   "metadata": {},
   "source": [
    "### pool八大函数解析"
   ]
  },
  {
   "cell_type": "raw",
   "id": "393a243d-973d-44a4-ae38-76fe0c498b14",
   "metadata": {},
   "source": [
    "1、apply 和 apply_async 一次执行一个任务，但 apply_async 可以异步执行，因而也可以实现并发。\n",
    "\n",
    "2、map 和 map_async 与 apply 和 apply_async 的区别是可以并发执行任务。\n",
    "\n",
    "3、starmap 和 starmap_async 与 map 和 map_async 的区别是，starmap 和 starmap_async 可以传入多个参数。\n",
    "\n",
    "4、imap 和 imap_unordered 与 map_async 同样是异步，区别是:\n",
    "    map_async生成子进程时使用的是list，而imap和 imap_unordered则是Iterable，map_async效率略高，而imap和 imap_unordered内存消耗显著的小。\n",
    "    在处理结果上，imap 和 imap_unordered 可以尽快返回一个Iterable的结果，而map_async则需要等待全部Task执行完毕，返回list。\n",
    "    而imap 和 imap_unordered 的区别是：imap 和 map_async一样，都按顺序等待Task的执行结果，而imap_unordered则不必。 imap_unordered返回的Iterable，会优先迭代到先执行完成的Task。 不理解的看最下面的一组例子。"
   ]
  },
  {
   "cell_type": "code",
   "execution_count": null,
   "id": "e1cfd616-669f-4705-908f-12f1e5c23a1a",
   "metadata": {},
   "outputs": [],
   "source": []
  },
  {
   "cell_type": "markdown",
   "id": "f0e59ba6-d713-4faf-90a3-99c4031d5bad",
   "metadata": {},
   "source": [
    "## 进程间通讯-数据共享"
   ]
  },
  {
   "cell_type": "raw",
   "id": "e8d769f8-0240-40bb-8247-dbb959f5a208",
   "metadata": {},
   "source": [
    "进程间数据通讯:\n",
    "https://blog.csdn.net/u011865919/article/details/94722802?ops_request_misc=%257B%2522request%255Fid%2522%253A%2522164404563616780271961319%2522%252C%2522scm%2522%253A%252220140713.130102334.pc%255Fall.%2522%257D&request_id=164404563616780271961319&biz_id=0&utm_medium=distribute.pc_search_result.none-task-blog-2~all~first_rank_ecpm_v1~rank_v31_ecpm-4-94722802.pc_search_insert_es_download&utm_term=python+%E5%A4%9A%E8%BF%9B%E7%A8%8B+%E9%98%9F%E5%88%97&spm=1018.2226.3001.4187"
   ]
  },
  {
   "cell_type": "raw",
   "id": "d79def56-3d6e-4bf7-8f79-74f30baf740c",
   "metadata": {},
   "source": [
    "多进程相比多线程最大的区别，就是进程是完全独立的，内存无法共享。如果要实现进程间数据共享，就需要采用特殊的方法，专门用于存储共享的数据。"
   ]
  },
  {
   "cell_type": "code",
   "execution_count": null,
   "id": "cbf67a67-8b51-49f7-822c-7fcba80c2050",
   "metadata": {},
   "outputs": [],
   "source": [
    "def add_one(lock,num):\n",
    "    for i in range(3):\n",
    "        lock.acquire()\n",
    "        num += 1\n",
    "        print(num)\n",
    "        time.sleep(1)\n",
    "        lock.release()\n",
    "\n",
    "if __name__ == '__main__':\n",
    "    num = 0\n",
    "    lock = Lock()\n",
    "    p1 = Process(target=add_one, args=(lock,num))\n",
    "    p2 = Process(target=add_one, args=(lock,num))\n",
    "    p1.start()\n",
    "    p2.start()"
   ]
  },
  {
   "cell_type": "raw",
   "id": "47ebecc0-6d00-4399-8152-f815e3d81462",
   "metadata": {},
   "source": [
    "上面代码允许结果:\n",
    "1\n",
    "1\n",
    "2\n",
    "2\n",
    "3\n",
    "3\n",
    "结果分析：\n",
    "由于变量num并没有共享，而是每个进程一个副本，因此1,2,3才会出现2次。"
   ]
  },
  {
   "cell_type": "markdown",
   "id": "99d01e2b-31f4-4989-a6ff-c6b9b3f4947e",
   "metadata": {},
   "source": [
    "### 共享内存-Value(共享值)"
   ]
  },
  {
   "cell_type": "raw",
   "id": "d8a11fe0-cbc5-4cba-971c-574612987983",
   "metadata": {},
   "source": [
    "1）共享值（共享内存）：\n",
    "multiprocessing.Value(typecode_or_type, *args, lock=True) \n",
    "#共享单个数据，其值通过value属性访问。如果在修改、访问数组时，希望能锁定资源，阻塞其他访问，可以将lock设为True，通过lock.acquire()获得锁，lock.release()释放锁。关于锁的概念后面再讲。\n",
    "    typecode_or_type：数组中的数据类型，为代表数据类型的类或者str。比如，'i'表示int，'f'表示float。\n",
    "    args：            可以设置初始值。比如：multiprocessing.Value('d',6)生成值为6.0的数据。\n",
    "    lock：bool，      是否加锁。\n",
    "\n",
    "multiprocessing.RawValue(typecode_or_type, *args) #也有简化的共享值，其不具备锁功能。"
   ]
  },
  {
   "cell_type": "code",
   "execution_count": null,
   "id": "407f804d-be2f-4d83-90f7-1ee76acdca7b",
   "metadata": {},
   "outputs": [],
   "source": [
    "def add_one(lock,num):\n",
    "    for i in range(3):\n",
    "        lock.acquire()\n",
    "        num.value += 1\n",
    "        print(num.value)\n",
    "        time.sleep(1)\n",
    "        lock.release()\n",
    "\n",
    "if __name__ == '__main__':\n",
    "    num = Value('i',0)\n",
    "    lock = Lock()\n",
    "    p1 = Process(target=add_one, args=(lock,num))\n",
    "    p2 = Process(target=add_one, args=(lock,num))\n",
    "    p1.start()\n",
    "    p2.start()\n",
    "    \n",
    "    p1.join()\n",
    "    p2.join()"
   ]
  },
  {
   "cell_type": "raw",
   "id": "9c0297dd-933d-40a2-8fc7-3713cf568f90",
   "metadata": {},
   "source": [
    "输出结果:\n",
    "1\n",
    "2\n",
    "3\n",
    "4\n",
    "5\n",
    "6"
   ]
  },
  {
   "cell_type": "markdown",
   "id": "3d086450-256c-420e-bbf1-da3f1449f54b",
   "metadata": {},
   "source": [
    "### 共享内存-Array(共享数组)"
   ]
  },
  {
   "cell_type": "code",
   "execution_count": null,
   "id": "818ddcfb-2c55-47fa-bc15-2a68452aadbf",
   "metadata": {},
   "outputs": [],
   "source": [
    "from multiprocessing.sharedctypes import Array"
   ]
  },
  {
   "cell_type": "raw",
   "id": "824fa6e3-b2d9-4963-b136-0fee48d4102f",
   "metadata": {},
   "source": [
    "multiprocessing.Array(typecode_or_type, size_or_initializer, *, lock=True) #其返回的数组实例可通过索引访问。类似共享值，同样可以加锁访问。\n",
    "    typecode_or_type：数组中的数据类型，为代表数据类型的类或者str。比如，'i'表示int，'f'表示float, 'c'表示character.\n",
    "    size_or_initializer：数组大小，int；或初始数组内容（序列）。比如：multiprocessing.Array('i', 10)生成的数组转为list为[0, 0, 0, 0, 0, 0, 0, 0, 0, 0]；\n",
    "    lock：bool，是否加锁。\n",
    "    \n",
    "multiprocessing.Array('i', range(10))生成的数组转为list为[0, 1, 2, 3, 4, 5, 6, 7, 8, 9]。\n",
    "    \n",
    "\n",
    "multiprocessing.RawArray(typecode_or_type, size_or_initializer) #也有简化的共享数组，同样不具备锁功能。"
   ]
  },
  {
   "cell_type": "code",
   "execution_count": null,
   "id": "719960cb-d05b-4f05-94fa-67481f98e45c",
   "metadata": {},
   "outputs": [],
   "source": [
    "def add_one(lock, arr):\n",
    "    lock.acquire()\n",
    "    for i in range(len(arr)):\n",
    "        arr[i] += 1\n",
    "    lock.release()\n",
    "    print(\"in funcs\",arr[:],sep=':')\n",
    "\n",
    "if __name__ == '__main__':\n",
    "    lock = Lock()\n",
    "    \n",
    "    arr = Array('i', range(10))\n",
    "    # arr = list(range(10))\n",
    "    \n",
    "    print(\"initial\",arr[:],sep=\":\")\n",
    "    p1 = Process(target=add_one, args=(lock, arr))\n",
    "    p2 = Process(target=add_one, args=(lock, arr))\n",
    "    \n",
    "    p1.start()\n",
    "    p2.start()"
   ]
  },
  {
   "cell_type": "raw",
   "id": "8c8679e1-bd0a-4b66-97a3-02a01964b277",
   "metadata": {},
   "source": [
    "arr = Array('i', range(10)) 输出结果:\n",
    "    initial:[0, 1, 2, 3, 4, 5, 6, 7, 8, 9]\n",
    "    in funcs:[1, 2, 3, 4, 5, 6, 7, 8, 9, 10]\n",
    "    in funcs:[2, 3, 4, 5, 6, 7, 8, 9, 10, 11]\n",
    "    \n",
    "arr = list(range(10)) 输出结果:\n",
    "    initial:[0, 1, 2, 3, 4, 5, 6, 7, 8, 9]\n",
    "    in funcs:[1, 2, 3, 4, 5, 6, 7, 8, 9, 10]\n",
    "    in funcs:[1, 2, 3, 4, 5, 6, 7, 8, 9, 10]"
   ]
  },
  {
   "cell_type": "markdown",
   "id": "9d106e83-163a-40d1-bc65-ca6ccebca956",
   "metadata": {},
   "source": [
    "### 共享进程-manager(数据管理器)"
   ]
  },
  {
   "cell_type": "raw",
   "id": "53d521ef-db72-4a8c-8bb5-7a3cbf2f3284",
   "metadata": {},
   "source": [
    "3）对于更复杂的情况，可以通过manager来实现（共享进程）：\n",
    "Manager的作用是提供多进程共享的全局变量，Manager()方法会返回一个对象，该对象控制着一个服务进程，该进程中保存的对象运行其他进程使用代理进行操作。\n",
    "\n",
    "multiprocessing.Manager() #创建一个manager，用于进程之间共享数据。返回的manager实例控制了一个server进程，此进程包含的python对象可以被其他的进程通过proxies来访问。其具有'address', 'connect', 'dict', 'get_server', 'join', 'list', 'register', 'shutdown', 'start'等方法，'Array', 'Barrier', 'BoundedSemaphore', 'Condition', 'Event', 'JoinableQueue', 'Lock', 'Namespace', 'Pool', 'Queue', 'RLock', 'Semaphore', 'Value'等类。\n",
    "\n",
    "以上dict（共享字典）、list（共享列表）方法，以及Array（共享数组）等类的实例化均可用于共享数据，比如需要共享dict：\n",
    "\n",
    "XXX.dict() #XXX为manager实例。\n",
    "\n",
    "m = multiprocessing.Manager()\n",
    "dic = m.dict() #可采用一般dict的方法访问\n",
    "\n",
    "注意：在操作共享对象元素时，除了赋值操作，其他的方法都作用在共享对象的拷贝上，并不会对共享对象生效。比如：dic['k'] = []; dic['k'].append(x)，将不会修改dic的内容。\n",
    "manager的功能非常强大，其不仅可以在本地进程间共享，甚至可以在多客户端实现网络共享。不过manager占用资源较大，还是根据使用需求确定是否采用。"
   ]
  },
  {
   "cell_type": "code",
   "execution_count": null,
   "id": "9dcf36c0-7300-467e-ac66-0bedcc90089b",
   "metadata": {},
   "outputs": [],
   "source": [
    "def f(n, d, l, lock):\n",
    "    lock.acquire()\n",
    "    d[str(n)] = n\n",
    "    l[n] = -99\n",
    "    lock.release()\n",
    "\n",
    "if __name__ == '__main__':\n",
    "    lock = Lock()\n",
    "    with Manager() as manager:\n",
    "        d = manager.dict()  # 空字典\n",
    "        l = manager.list(range(10))  # [0, 1, 2, 3, 4, 5, 6, 7, 8, 9]\n",
    "        # 启动10个进程，不同的进程对d和l中的不同元素进行操作\n",
    "        for i in range(10):\n",
    "            p = Process(target=f, args=(i, d, l, lock))\n",
    "            p.start()\n",
    "            p.join()\n",
    "\n",
    "        print(f\"d result: {d}\")\n",
    "        print(f\"l result: {l}\")"
   ]
  },
  {
   "cell_type": "markdown",
   "id": "21274b68-1e2a-4fa1-9fe3-2e65a2bda401",
   "metadata": {},
   "source": [
    "## 进程间通讯-数据传递"
   ]
  },
  {
   "cell_type": "markdown",
   "id": "9842d4a2-2212-4de3-be0e-d742d8963d11",
   "metadata": {},
   "source": [
    "### 队列"
   ]
  },
  {
   "cell_type": "raw",
   "id": "ff60f016-9da9-4ede-a2dd-3a538bca91b1",
   "metadata": {},
   "source": [
    "Queue：队列，是先进先出的数据结构，可以供给多个写入者和多个读取者，写入者向队列的队尾写入数据，读取者从队列的队头读取数据"
   ]
  },
  {
   "cell_type": "markdown",
   "id": "61c08327-eb3f-43e0-a667-de54919346cf",
   "metadata": {},
   "source": [
    "#### multiprocessing.Queue"
   ]
  },
  {
   "cell_type": "raw",
   "id": "95e7f067-4c90-40dd-ad27-0b186ae317c4",
   "metadata": {},
   "source": [
    "1）最常用的通信方式是队列：\n",
    "multiprocessing.Queue(maxsize=0) #建立共享的队列实例，可以采用一般队列的方式访问，通过put()方法增加元素，通过get()方法获取元素。\n",
    "multiprocessing.JoinableQueue(maxsize=0) #建立可阻塞的队列实例，采用一般队列的方式访问，但可以通过XXX.join()阻塞队列（即队列元素未全部处理完前，进程阻塞）。\n",
    "实际上，以上两种队列都可以通过XXX.join_thread()阻塞。\n",
    "\n",
    "multiprocessing.SimpleQueue() #还有一种简化的队列，其只具有empty、get、put3个方法。\n",
    "\n",
    "maxsize：表示队列允许的最多元素个数，缺省为0，表示不限数量。通过采用一个进程put元素，另一个进程get元素并进行处理。\n",
    "\n",
    "XXX.put(item, block=True, timeout=None) #向队列中增加元素item。XXX为队列。\n",
    "    如果block为True，timeout为None，则将阻塞，直到有一个位置可以加入元素（只有size有限的队列才能阻塞）；如果timeout为非负数值（秒数），则最多阻塞这么长时间。\n",
    "    如果block为False，则直接加入元素，且在无空位可放入元素时直接报Full异常。\n",
    "    \n",
    "XXX.get(block=True, timeout=None) #从队列中取出一个元素（从队列中删除并返回该元素）。XXX为队列。\n",
    "    如果block为True，timeout为None，则将阻塞，直到有一个元素可以返回；如果timeout为非负数值（秒数），则最多阻塞这么长时间。\n",
    "    如果block为False，则立即返回元素，且在无元素可返回时直接报Empty异常。"
   ]
  },
  {
   "cell_type": "raw",
   "id": "e4d53ede-4836-4b03-90f2-e98f87dc8a9e",
   "metadata": {},
   "source": [
    "进程彼此之间互相隔离，要实现进程间通信（IPC），multiprocessing模块支持两种形式：队列和管道，这两种方式都是使用消息传递的。队列就像一个特殊的列表，但是可以设置固定长度，并且从前面插入数据，从后面取出数据，先进先出。"
   ]
  },
  {
   "cell_type": "raw",
   "id": "81aacf64-8791-4768-820e-055cb86fee8d",
   "metadata": {},
   "source": [
    "语法: Queue([maxsize]) --> 创建共享的进程队列\n",
    "参数: maxsize --> 是队列中允许的最大项数.如果省略此参数,则无大小限制\n",
    "注意: 队列的底层使用管道和锁实现"
   ]
  },
  {
   "cell_type": "raw",
   "id": "0845851f-863e-4304-8c37-d20442c40f4f",
   "metadata": {},
   "source": [
    "Queue方法介绍:\n",
    "\n",
    "q = Queue([maxsize]) \n",
    "    创建共享的进程队列. maxsize是队列中允许的最大项数. 如果省略此参数, 则无大小限制. 底层队列使用管道和锁定实现. 另外, 还需要运行支持线程以便队列中的数据传输到底层管道中. \n",
    "\n",
    "# Queue的实例q具有以下方法:\n",
    "\n",
    "q.get([block[,timeout]]) \n",
    "    返回q中的一个项目. 如果q为空, 此方法将阻塞, 直到队列中有项目可用为止. \n",
    "    block用于控制阻塞行为, 默认为True, 如果设置为False, 将引发Queue.Empty异常(定义在Queue模块中). \n",
    "    timeout是可选超时时间, 用在阻塞模式中, 如果在制定的时间间隔内没有项目变为可用, 将引发Queue.Empty异常.\n",
    "\n",
    "q.get_nowait()\n",
    "    同q.get(False)方法.\n",
    "\n",
    "q.put(item[,block[,timeout]])\n",
    "    将item放入队列. 如果队列已满, 此方法将阻塞至有空间可用为止. \n",
    "    block控制阻塞行为, 默认为True. 如果设置为False, 将引发Queue.Empty异常(定义在Queue库模块中). \n",
    "    timeout指定在阻塞模式中等待可用空间的时间长短, 超时后将引发Queue.Full异常.\n",
    "\n",
    "q.qsize() \n",
    "    返回队列中目前项目的正确数量. 此函数的结果并不可靠, 因为在返回结果和在稍后程序中使用结果之间, 队列中可能添加或删除了项目. 在某些系统上, 此方法可能引发NotImplementedError异常.\n",
    "\n",
    "q.empty() \n",
    "    如果调用此方法时q为空, 返回True. 如果其他进程或线程正在往队列中添加项目, 结果是不可靠的. 也就是说, 在返回和使用结果之间, 队列中可能已经加入新的项目.\n",
    "\n",
    "q.full() \n",
    "    如果q已满, 返回为True. 由于线程的存在, 结果也可能是不可靠的(参考q.empty()方法).\n",
    "    \n",
    "    \n",
    "q.close() \n",
    "    关闭队列, 防止队列中加入更多数据. 调用此方法时, 后台线程将继续写入那些已入队列但尚未写入的数据, 但将会在此方法完成时马上关闭. 如果q被垃圾收集, 将自动调用此方法. 关闭队列不会在队列使用者中生成任何类型的数据结束信号或异常. 例如, 如果某个使用者正被阻塞在get()操作上, 关闭生产者中的队列不会导致get()方法返回错误.\n",
    "\n",
    "q.cancel_join_thread() \n",
    "    不会在进程退出时自动连接后台线程. 这可以防止join_thread()方法阻塞.\n",
    "\n",
    "q.join_thread() \n",
    "    连接队列的后台线程. 此方法用于在调用q.close()方法后, 等待所有队列项被消耗. 默认情况下, 此方法由不是q的原始创建者的所有进程调用. 调用q.cancel_join_thread()方法可以禁止这种行为."
   ]
  },
  {
   "cell_type": "code",
   "execution_count": null,
   "id": "0c0f2114-6daf-4acb-acd9-2e6998d5ba40",
   "metadata": {},
   "outputs": [],
   "source": [
    "def write(q):\n",
    "    for i in ['a','b','c']:\n",
    "        print(f\"write {i}\")\n",
    "        q.put(i)\n",
    "        time.sleep(0.5)\n",
    "\n",
    "def read(q):\n",
    "    print('read ...')\n",
    "    while True:\n",
    "        if not q.empty():\n",
    "            print(\"read:\",q.get())\n",
    "            time.sleep(0.5)\n",
    "        else:\n",
    "            break\n",
    "\n",
    "if __name__ == \"__main__\":\n",
    "    q = multiprocessing.Queue()\n",
    "    \n",
    "    pw = Process(target=write,args=(q,))\n",
    "    pr = Process(target=read,args=(q,))\n",
    "    \n",
    "    pw.start()\n",
    "    pw.join()\n",
    "    pr.start()\n",
    "    pr.join()"
   ]
  },
  {
   "cell_type": "markdown",
   "id": "a3f666a4-836b-4105-851c-b9618b6ec789",
   "metadata": {},
   "source": [
    "#### multiporcessing.Manager().Queue()"
   ]
  },
  {
   "cell_type": "raw",
   "id": "752a8f37-8a8e-455e-8124-70df7d5e91a5",
   "metadata": {},
   "source": [
    "如果使用 Pool 创建进程，就需要使用 multiprocessing.Manager()中的 Queue()来完成进程间的通信，而不是 multiprocessing.Queue()，否则会抛出异常"
   ]
  },
  {
   "cell_type": "code",
   "execution_count": null,
   "id": "75651af3-713d-467b-bec6-533e691419e7",
   "metadata": {},
   "outputs": [],
   "source": [
    "def write(q):\n",
    "    for i in ['a','b','c']:\n",
    "        print(f\"write {i}\")\n",
    "        q.put(i)\n",
    "        time.sleep(0.5)\n",
    "\n",
    "def read(q):\n",
    "    print('read ...')\n",
    "    while True:\n",
    "        if not q.empty():\n",
    "            print(\"read:\",q.get())\n",
    "            time.sleep(0.5)\n",
    "        else:\n",
    "            break\n",
    "\n",
    "if __name__ == \"__main__\":\n",
    "    \n",
    "    q = multiprocessing.Manager().Queue()\n",
    "    \n",
    "    p = multiprocessing.Pool()\n",
    "    \n",
    "    p.apply(func=write,args=(q,))\n",
    "    p.apply(func=read,args=(q,))\n",
    "    \n",
    "    p.close()\n",
    "    p.join()"
   ]
  },
  {
   "cell_type": "code",
   "execution_count": null,
   "id": "f825b1b8-3f41-4545-bd23-d7a0daa6f918",
   "metadata": {},
   "outputs": [],
   "source": []
  },
  {
   "cell_type": "markdown",
   "id": "a4b0240b-67d7-447a-9b2d-643af6605519",
   "metadata": {},
   "source": [
    "### 管道"
   ]
  },
  {
   "cell_type": "raw",
   "id": "e20d7480-4970-4380-8a4e-f70757f78c01",
   "metadata": {},
   "source": [
    "Pipes：管道，只供给于一对进程通信，两个进程在管道的两端，两个进程都可以发送给对方消息以及接受对方的消息，管道可以理解为一根网线"
   ]
  },
  {
   "cell_type": "raw",
   "id": "76e3148e-13d6-4b3a-b6ae-1e47db042964",
   "metadata": {},
   "source": [
    "（2）也可采用管道来实现通信，特别是需要双向通信的情形：\n",
    "multiprocessing.Pipe(duplex=True) \n",
    "#建立一对管道对象，用于在两个进程之间传递数据（区别os.pipi()，可以双向传递数据）。返回一对管道对象(conn_parent,conn_child)。\n",
    "如果duplex为True，则可以双向通信。如果duplex为False，则只能从conn_parent向conn_child单向通信。\n",
    "\n",
    "管道对象主要用到一下几个方法：\n",
    "    XXX.send(data) #发送数据data。XXX为管道对象。注意，管道只能发送可pickle的数据（自定义类的实例不能pickle，其他一般可以，具体的需要单独文章再讲）。\n",
    "    XXX.recv() #读取管道中接收到的数据。XXX为管道对象。\n",
    "    XXX.poll() #判断管道对象是否有收到数据待读取，返回bool值，通常用来判断是否需要recv()。"
   ]
  },
  {
   "cell_type": "code",
   "execution_count": null,
   "id": "04f2e2c2-b9bb-41b7-8401-dae74c32e8f9",
   "metadata": {},
   "outputs": [],
   "source": [
    "pipe_l,pipe_r = Pipe()\n",
    "\n",
    "pipe_l.send([\"left\"])\n",
    "pipe_r.send(\"right\")\n",
    "\n",
    "print(pipe_l.recv())\n",
    "print(pipe_r.recv())"
   ]
  },
  {
   "cell_type": "code",
   "execution_count": null,
   "id": "59b74a2f-83df-4cc7-9990-cb4c431c220b",
   "metadata": {},
   "outputs": [],
   "source": [
    "def proc_send(pipe,urls):\n",
    "    for url in urls:\n",
    "        print(f\"proc_send send {url}\")\n",
    "        pipe.send(url)\n",
    "        time.sleep(random.random())\n",
    "\n",
    "def proc_recv(pipe):\n",
    "    while True:\n",
    "        print(f\"Proc_recv: {pipe.recv()}\")\n",
    "        time.sleep(random.random())\n",
    "\n",
    "if __name__ == \"__main__\":\n",
    "    pipe_l, pipe_r = multiprocessing.Pipe()\n",
    "    \n",
    "    p1 = multiprocessing.Process(target=proc_send,args=(pipe_l,range(10)))\n",
    "    p2 = multiprocessing.Process(target=proc_recv,args=(pipe_r,))\n",
    "    \n",
    "    p1.start()\n",
    "    p2.start()\n",
    "    p1.join()\n",
    "    p2.join()"
   ]
  },
  {
   "cell_type": "raw",
   "id": "9b480086-57c6-491c-9f5d-8253058f266b",
   "metadata": {},
   "source": [
    "输出结果:\n",
    "proc_send send 0\n",
    "Proc_recv: 0\n",
    "proc_send send 1\n",
    "Proc_recv: 1\n",
    "proc_send send 2\n",
    "Proc_recv: 2\n",
    "proc_send send 3\n",
    "Proc_recv: 3\n",
    "proc_send send 4\n",
    "Proc_recv: 4\n",
    "proc_send send 5\n",
    "Proc_recv: 5\n",
    "proc_send send 6\n",
    "Proc_recv: 6\n",
    "proc_send send 7\n",
    "Proc_recv: 7\n",
    "proc_send send 8\n",
    "Proc_recv: 8\n",
    "proc_send send 9\n",
    "Proc_recv: 9  "
   ]
  },
  {
   "cell_type": "markdown",
   "id": "e3946bdd-8435-4035-87d5-caad3f58e2eb",
   "metadata": {},
   "source": [
    "### 信号"
   ]
  },
  {
   "cell_type": "markdown",
   "id": "fe7a510b-c48c-4aed-9ddf-d6265e3bfc7d",
   "metadata": {},
   "source": [
    "### 信号量"
   ]
  },
  {
   "cell_type": "markdown",
   "id": "0775b06a-2353-47bc-8414-56e290b206d3",
   "metadata": {},
   "source": [
    "### 套接字"
   ]
  },
  {
   "cell_type": "markdown",
   "id": "862a2fa4-30a3-4ad5-8951-b916c10948d4",
   "metadata": {},
   "source": [
    "## 进程同步(锁)"
   ]
  },
  {
   "cell_type": "raw",
   "id": "7dfc5637-04eb-45e7-9080-625755e1c587",
   "metadata": {},
   "source": [
    "进程间数据共享时，经常涉及到数据安全的问题，比如多个子进程同时get队列的话，谁先谁后无法确定，而且部分子进程还可能获取数据失败。因此，多进程数据共享时，如果进程活动对共享的数据存在影响，通常应当加锁，来对数据访问过程进行保护。\n",
    "\n",
    "锁的概念很好理解，一个进程要访问共享数据前，首先要获得锁，他获得锁后可以访问数据，期间其他进程无法访问数据。直到这个进程完成访问并释放锁之后，其他进程才可能获得锁进而访问数据。通过锁，可以确保共享数据的访问受控。\n",
    "\n",
    "部分共享类型自带有锁（比如Array，Value等），但大部分共享数据类型本身不具备锁功能，这种情况下需要自行生成锁，并将锁作为参数传递给子进程，在锁的保护下访问共享数据。\n",
    "\n",
    "multiprocessing具有多种锁类型，根据使用情况自行选择：\n",
    "\n",
    "multiprocessing.Lock() #最简单的锁（非递归锁）\n",
    "\n",
    "multiprocessing.RLock() #可复用的锁（递归锁）\n",
    "\n",
    "multiprocessing.Semaphore(value=1) #计数器锁（信号量锁），value为初始计数\n",
    "\n",
    "multiprocessing.BoundedSemaphore(value=1) #带上限的计数器锁（信号量锁），value即是初始计数，同时也是允许的计数上限\n",
    "\n",
    "以上锁即可通过acquire/release方法获得/释放，也可采用with上下文方式来使用（with lock: …， 这样可以省去acquire/release语句）。\n",
    "\n",
    "multiprocessing.Event() #事件锁，当事件触发时释放。其通过set/clear方法获得/释放。\n",
    "\n",
    "multiprocessing.Condition(lock = None) #条件锁，当条件触发时释放。其通过wait_for来条件阻塞，当条件满足时自动释放；也可用作类事件锁，通过wait阻塞，notify或notify_all释放。\n",
    "\n",
    "multiprocessing.Barrier(parties, action=None, timeout=None) #障碍锁，等待进程数达到parties要求数目后释放，可用于进程同步。其通过wait阻塞，等待进程数达标后自动释放；也可通过abort强行释放。\n",
    "\n",
    "也可通过manager创建锁，这种方式创建的锁，不仅可以本地共享，也可网络共享。"
   ]
  },
  {
   "cell_type": "raw",
   "id": "f77e0f7d-1cc2-48d1-971f-5e7f84c774db",
   "metadata": {},
   "source": [
    "在之前muitiprocessing模块的学习中,当我们使用Process创建子进程时就已经实现了进程的异步了.我们可以让多个任务同时在几个进程中并发处理,它们之间的运行没有顺序,一旦开启也不受人们控制. 尽管并发编程让我们能更加充分的利用IO资源,但与此同时它也带来了新的问题:  进程之间数据不共享但却共享同一套文件系统, 所以几个进程同时访问同一个文件或同一个打印终端,是没有问题的. 可是, 共享带来的是竞争, 竞争的结果就是错乱. 如何进行控制?我们想到了\"加锁处理\"."
   ]
  },
  {
   "cell_type": "code",
   "execution_count": null,
   "id": "bfced254-be2e-48a8-8cdc-7afd7ba1aa46",
   "metadata": {},
   "outputs": [],
   "source": [
    "def work(n):\n",
    "    print(f\"{n} is going: {os.getid()}\")\n",
    "    time.sleep(random.random())\n",
    "    print(f\"{n} done: {os.getid()}\")"
   ]
  },
  {
   "cell_type": "code",
   "execution_count": null,
   "id": "2362af2b-1406-4c53-bcd2-de81091e85d3",
   "metadata": {},
   "outputs": [],
   "source": [
    "if __name__ == \"__main__\":\n",
    "    for i in range(5):\n",
    "        p = Process(target=work,args=(i,))\n",
    "        p.start()\n",
    "        \n",
    "# 输出结果: 顺序是乱的,但是速度快\n",
    "#     0 is going: 10132\n",
    "#     1 is going: 15632\n",
    "#     2 is going: 3148\n",
    "#     3 is going: 19020\n",
    "#     4 is going: 19180\n",
    "#     1 done: 15632\n",
    "#     0 done: 10132\n",
    "#     3 done: 19020\n",
    "#     2 done: 3148\n",
    "#     4 done: 19180"
   ]
  },
  {
   "cell_type": "code",
   "execution_count": null,
   "id": "aae28dab-4d9b-4749-b08e-c2905e0bfc4f",
   "metadata": {},
   "outputs": [],
   "source": [
    "def work_lock(n,lock):\n",
    "    lock.acquire()\n",
    "    print(f\"{n} is going: {os.getid()}\")\n",
    "    time.sleep(random.random())\n",
    "    print(f\"{n} done: {os.getid()}\")\n",
    "    lock.release()"
   ]
  },
  {
   "cell_type": "code",
   "execution_count": null,
   "id": "25551e7f-7321-41e0-86a3-f123f04b9dc5",
   "metadata": {},
   "outputs": [],
   "source": [
    "if __name__ == \"__main__\":\n",
    "    lock = Lock()\n",
    "    for i in range(5):\n",
    "        p = Process(target=work,args=(i,lock))\n",
    "        p.start()\n",
    "        \n",
    "# 输出结果: 是按顺序输出的,但是速度慢\n",
    "#     0.10462403297424316\n",
    "#     0 is going: 14648\n",
    "#     0 done: 14648\n",
    "#     1 is going: 9488\n",
    "#     1 done: 9488\n",
    "#     2 is going: 16088\n",
    "#     2 done: 16088\n",
    "#     3 is going: 18960\n",
    "#     3 done: 18960\n",
    "#     4 is going: 19448\n",
    "#     4 done: 19448"
   ]
  },
  {
   "cell_type": "raw",
   "id": "5e76a7dc-e08d-4d99-add7-fd13f0d36b33",
   "metadata": {},
   "source": [
    "总结:\n",
    "#加锁可以保证:多个进程修改同一块数据时,同一时间只能有一个任务可以进行修改,即串行的修改.这种方式虽然牺牲了速度(效率)却保证了数据安全.\n",
    "\n",
    "虽然可以用文件共享数据实现进程间通信，但问题是：\n",
    "1.效率低（共享数据基于文件，而文件是硬盘上的数据）\n",
    "2.需要自己加锁处理\n",
    "\n",
    "#因此我们最好找寻一种解决方案能够兼顾：1、效率高（多个进程共享一块内存的数据）2、帮我们处理好锁问题。这就是mutiprocessing模块为我们提供的基于消息的IPC通信机制: 队列和管道.\n",
    "\n",
    "队列和管道都是将数据存放于内存中\n",
    "\n",
    "队列又是基于（管道+锁）实现的，可以让我们从复杂的锁问题中解脱出来,我们应该尽量避免使用共享数据,尽可能使用消息传递和队列,避免处理复杂的同步和锁问题,而且在进程数目增多时,往往可以获得更好的可获展性."
   ]
  },
  {
   "cell_type": "markdown",
   "id": "0dabd1ef-7eb6-446e-96d7-84d8d70157fa",
   "metadata": {},
   "source": [
    "# ctypes: 从内存中读取变量"
   ]
  },
  {
   "cell_type": "code",
   "execution_count": null,
   "id": "873b27c1-a71d-4902-9678-cedba2f5c2cc",
   "metadata": {},
   "outputs": [],
   "source": [
    "import ctypes\n",
    "\n",
    "value = 'hello world'  # 定义一个字符串变量\n",
    "address = id(value)  # 获取value的地址，赋给address\n",
    "get_value = ctypes.cast(address, ctypes.py_object).value  # 读取地址中的变量\n",
    "print(address, get_value)"
   ]
  },
  {
   "cell_type": "code",
   "execution_count": null,
   "id": "bac00ce5-40db-4968-af47-3343857fa6ea",
   "metadata": {},
   "outputs": [],
   "source": []
  }
 ],
 "metadata": {
  "kernelspec": {
   "display_name": "Python 38",
   "language": "python",
   "name": "python3"
  },
  "language_info": {
   "codemirror_mode": {
    "name": "ipython",
    "version": 3
   },
   "file_extension": ".py",
   "mimetype": "text/x-python",
   "name": "python",
   "nbconvert_exporter": "python",
   "pygments_lexer": "ipython3",
   "version": "3.8.6"
  },
  "toc-autonumbering": true,
  "toc-showcode": false,
  "toc-showmarkdowntxt": false,
  "toc-showtags": false
 },
 "nbformat": 4,
 "nbformat_minor": 5
}
