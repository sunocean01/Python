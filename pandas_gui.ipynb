{
 "cells": [
  {
   "cell_type": "code",
   "execution_count": 5,
   "id": "3073b522-cccb-4273-9f1f-c0d9aa1e2405",
   "metadata": {},
   "outputs": [],
   "source": [
    "from pandasgui import show\n"
   ]
  },
  {
   "cell_type": "code",
   "execution_count": 6,
   "id": "3ea5f91a-34e2-4294-9703-25516c8e5c72",
   "metadata": {},
   "outputs": [],
   "source": [
    "import pandas as pd"
   ]
  },
  {
   "cell_type": "code",
   "execution_count": 12,
   "id": "dbd75c84-603f-49c8-a348-2e8bc2bd4915",
   "metadata": {},
   "outputs": [],
   "source": [
    "pth = r\"D:\\python\\function\\testfile\\James_Harden.csv\"\n",
    "df = pd.read_csv(pth)"
   ]
  },
  {
   "cell_type": "code",
   "execution_count": 14,
   "id": "70920acc-bfae-40af-b822-e24ef11ac468",
   "metadata": {},
   "outputs": [],
   "source": [
    "# show(df)"
   ]
  },
  {
   "cell_type": "code",
   "execution_count": null,
   "id": "b224ca15-0214-42a0-8bb6-1117bed64af3",
   "metadata": {},
   "outputs": [],
   "source": []
  }
 ],
 "metadata": {
  "kernelspec": {
   "display_name": "Python 3 (ipykernel)",
   "language": "python",
   "name": "python3"
  },
  "language_info": {
   "codemirror_mode": {
    "name": "ipython",
    "version": 3
   },
   "file_extension": ".py",
   "mimetype": "text/x-python",
   "name": "python",
   "nbconvert_exporter": "python",
   "pygments_lexer": "ipython3",
   "version": "3.9.5"
  }
 },
 "nbformat": 4,
 "nbformat_minor": 5
}
