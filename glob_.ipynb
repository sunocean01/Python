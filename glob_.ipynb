{
 "cells": [
  {
   "cell_type": "code",
   "execution_count": 1,
   "id": "a5744af9",
   "metadata": {},
   "outputs": [],
   "source": [
    "import glob\n",
    "import os"
   ]
  },
  {
   "cell_type": "code",
   "execution_count": 2,
   "id": "136d8123",
   "metadata": {},
   "outputs": [
    {
     "name": "stdout",
     "output_type": "stream",
     "text": [
      "C:\\python\\function\\instance\\child.py\n",
      "C:\\python\\function\\instance\\multiprocess_Process_module.py\n",
      "**************************************************\n",
      "C:\\python\\function\\instance calculationcodereload\n",
      "C:\\python\\function\\instance class_instance\n",
      "C:\\python\\function\\instance\\calculationcodereload\\calculationcharactor.py\n",
      "C:\\python\\function\\instance\\calculationcodereload\\commuter.py\n",
      "C:\\python\\function\\instance\\calculationcodereload\\contains.py\n",
      "C:\\python\\function\\instance\\calculationcodereload\\getsetattr.py\n",
      "C:\\python\\function\\instance\\calculationcodereload\\private0.py\n",
      "C:\\python\\function\\instance\\calculationcodereload\\skipper.py\n",
      "C:\\python\\function\\instance\\calculationcodereload\\squares.py\n",
      "**************************************************\n",
      "C:\\python\\function\\instance\\calculationcodereload __pycache__\n",
      "C:\\python\\function\\instance\\calculationcodereload\\__pycache__\\commuter.cpython-35.pyc\n",
      "**************************************************\n",
      "C:\\python\\function\\instance\\class_instance\\employee.py\n",
      "C:\\python\\function\\instance\\class_instance\\pizzashop.py\n",
      "C:\\python\\function\\instance\\class_instance\\specialize.py\n",
      "**************************************************\n",
      "C:\\python\\function\\instance\\class_instance class_synthetic\n",
      "C:\\python\\function\\instance\\class_instance names_instance\n",
      "C:\\python\\function\\instance\\class_instance __pycache__\n",
      "C:\\python\\function\\instance\\class_instance\\class_synthetic\\classtools.py\n",
      "C:\\python\\function\\instance\\class_instance\\class_synthetic\\makedb.py\n",
      "C:\\python\\function\\instance\\class_instance\\class_synthetic\\person-composite.py\n",
      "C:\\python\\function\\instance\\class_instance\\class_synthetic\\person-department.py\n",
      "C:\\python\\function\\instance\\class_instance\\class_synthetic\\person.py\n",
      "C:\\python\\function\\instance\\class_instance\\class_synthetic\\persondb.bak\n",
      "C:\\python\\function\\instance\\class_instance\\class_synthetic\\persondb.dat\n",
      "C:\\python\\function\\instance\\class_instance\\class_synthetic\\persondb.dir\n",
      "C:\\python\\function\\instance\\class_instance\\class_synthetic\\updatedb.py\n",
      "**************************************************\n",
      "C:\\python\\function\\instance\\class_instance\\names_instance\\manynames.py\n",
      "C:\\python\\function\\instance\\class_instance\\names_instance\\otherfile.py\n",
      "**************************************************\n",
      "C:\\python\\function\\instance\\class_instance\\names_instance __pycache__\n",
      "C:\\python\\function\\instance\\class_instance\\names_instance\\__pycache__\\manynames.cpython-35.pyc\n",
      "**************************************************\n",
      "C:\\python\\function\\instance\\class_instance\\__pycache__\\classtools.cpython-35.pyc\n",
      "C:\\python\\function\\instance\\class_instance\\__pycache__\\employee.cpython-35.pyc\n",
      "C:\\python\\function\\instance\\class_instance\\__pycache__\\person.cpython-35.pyc\n",
      "C:\\python\\function\\instance\\class_instance\\__pycache__\\specialize.cpython-35.pyc\n",
      "C:\\python\\function\\instance\\class_instance\\__pycache__\\updatedb.cpython-35.pyc\n",
      "**************************************************\n"
     ]
    }
   ],
   "source": [
    "# glob,更多匹配方式参见fnmatch模块; 返回文件路径列表\n",
    "# glob.glob('*')\n",
    "# glob.glob('*.csv')        #后缀是csv的\n",
    "# glob.glob('f*')           #开头是'f'的\n",
    "# glob.glob('?e*')         #第二个字母是e的, *匹配所有, ?匹配任意一个\n",
    "# glob.glob('testfile')         #全名\n",
    "# glob.glob('testfile\\*')     #指定路径下的所有内容\n",
    "# glob.glob('*\\*.csv')     #从不同文件里匹配后缀csv的文件\n",
    "\n",
    "# 相关\n",
    "# os.listdir()  遍历指定文件夹下的内容\n",
    "\n",
    "# os.walk()     #可以通过向上或向下游走，遍历多层文件夹\n",
    "# 返回所有文件和文件夹的绝对路径\n",
    "for root,drs,files in os.walk(r\"C:\\python\\function\\instance\"):\n",
    "    for name in files:\n",
    "        print(os.path.join(root,name))\n",
    "    print(\"*\"*50)\n",
    "    for d in drs:\n",
    "        print(root,d)"
   ]
  },
  {
   "cell_type": "code",
   "execution_count": null,
   "id": "a99d0a3b",
   "metadata": {},
   "outputs": [],
   "source": []
  }
 ],
 "metadata": {
  "kernelspec": {
   "display_name": "Python 38",
   "language": "python",
   "name": "python3"
  },
  "language_info": {
   "codemirror_mode": {
    "name": "ipython",
    "version": 3
   },
   "file_extension": ".py",
   "mimetype": "text/x-python",
   "name": "python",
   "nbconvert_exporter": "python",
   "pygments_lexer": "ipython3",
   "version": "3.8.6"
  },
  "toc": {
   "base_numbering": 1,
   "nav_menu": {},
   "number_sections": true,
   "sideBar": true,
   "skip_h1_title": false,
   "title_cell": "Table of Contents",
   "title_sidebar": "Contents",
   "toc_cell": false,
   "toc_position": {},
   "toc_section_display": true,
   "toc_window_display": false
  }
 },
 "nbformat": 4,
 "nbformat_minor": 5
}
