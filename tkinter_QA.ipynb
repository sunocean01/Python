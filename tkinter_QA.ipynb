{
 "cells": [
  {
   "cell_type": "markdown",
   "id": "4ded5099",
   "metadata": {
    "toc": true
   },
   "source": [
    "<h1>Table of Contents<span class=\"tocSkip\"></span></h1>\n",
    "<div class=\"toc\"><ul class=\"toc-item\"><li><span><a href=\"#1.-module-'tkinter'-has-no-attribute-'messagebox'\" data-toc-modified-id=\"1.-module-'tkinter'-has-no-attribute-'messagebox'-1\"><span class=\"toc-item-num\">1&nbsp;&nbsp;</span>1. module 'tkinter' has no attribute 'messagebox'</a></span></li></ul></div>"
   ]
  },
  {
   "cell_type": "markdown",
   "id": "1b59c5ae",
   "metadata": {},
   "source": [
    "# 1. module 'tkinter' has no attribute 'messagebox'"
   ]
  },
  {
   "cell_type": "raw",
   "id": "dc7e715d",
   "metadata": {},
   "source": [
    "解决：引入tkinter.messagebox包即可\n",
    "import tkinter.messagebox"
   ]
  }
 ],
 "metadata": {
  "kernelspec": {
   "display_name": "Python 38",
   "language": "python",
   "name": "python3"
  },
  "language_info": {
   "codemirror_mode": {
    "name": "ipython",
    "version": 3
   },
   "file_extension": ".py",
   "mimetype": "text/x-python",
   "name": "python",
   "nbconvert_exporter": "python",
   "pygments_lexer": "ipython3",
   "version": "3.8.6"
  },
  "toc": {
   "base_numbering": 1,
   "nav_menu": {},
   "number_sections": true,
   "sideBar": true,
   "skip_h1_title": false,
   "title_cell": "Table of Contents",
   "title_sidebar": "Contents",
   "toc_cell": true,
   "toc_position": {},
   "toc_section_display": true,
   "toc_window_display": true
  }
 },
 "nbformat": 4,
 "nbformat_minor": 5
}
