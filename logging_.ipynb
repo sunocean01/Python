{
 "cells": [
  {
   "cell_type": "code",
   "execution_count": 1,
   "id": "ff93cbf8",
   "metadata": {},
   "outputs": [],
   "source": [
    "import logging as lg\n",
    "import datetime\n",
    "import logging"
   ]
  },
  {
   "cell_type": "raw",
   "id": "9bd2a8d4",
   "metadata": {},
   "source": [
    "https://www.cnblogs.com/yyds/p/6901864.html"
   ]
  },
  {
   "cell_type": "markdown",
   "id": "b1987c5b",
   "metadata": {},
   "source": [
    "# 日志相关概念"
   ]
  },
  {
   "cell_type": "markdown",
   "id": "220055d7",
   "metadata": {},
   "source": [
    "## 日志作用"
   ]
  },
  {
   "cell_type": "raw",
   "id": "a612880b",
   "metadata": {},
   "source": [
    "1. 程序调试\n",
    "2. 了解软件程序运行情况，是否正常\n",
    "3. 软件程序运行故障分析与问题定位\n",
    "4. 用户行为分析"
   ]
  },
  {
   "cell_type": "markdown",
   "id": "857368ff",
   "metadata": {},
   "source": [
    "## 日志等级"
   ]
  },
  {
   "cell_type": "raw",
   "id": "4c1e598e",
   "metadata": {},
   "source": [
    "DEBUG\n",
    "INFO\n",
    "NOTICE\n",
    "WARNING\n",
    "ERROR\n",
    "CRITICAL\n",
    "ALERT\n",
    "EMERGENCY"
   ]
  },
  {
   "cell_type": "markdown",
   "id": "fcf09edb",
   "metadata": {},
   "source": [
    "## 日志字段信息与日志格式"
   ]
  },
  {
   "cell_type": "raw",
   "id": "9cb063c5",
   "metadata": {},
   "source": [
    "事件发生时间\n",
    "事件发生位置\n",
    "事件的严重程度--日志级别\n",
    "事件内容\n",
    "\n",
    "当然还可以包括一些其他信息，如进程ID、进程名称、线程ID、线程名称等。日志格式就是用来定义一条日志记录中包含那些字段的，且日志格式通常都是可以自定义的。"
   ]
  },
  {
   "cell_type": "markdown",
   "id": "6c59536f",
   "metadata": {},
   "source": [
    "# logging模块介绍\n",
    "    logging是python自身提供的标准模块库"
   ]
  },
  {
   "cell_type": "markdown",
   "id": "9afc47d7",
   "metadata": {},
   "source": [
    "## 日志级别"
   ]
  },
  {
   "cell_type": "raw",
   "id": "6ad59700",
   "metadata": {},
   "source": [
    "日志等级（level）\t描述\n",
    "DEBUG\t最详细的日志信息，典型应用场景是 问题诊断\n",
    "INFO\t信息详细程度仅次于DEBUG，通常只记录关键节点信息，用于确认一切都是按照我们预期的那样进行工作\n",
    "WARNING\t当某些不期望的事情发生时记录的信息（如，磁盘可用空间较低），但是此时应用程序还是正常运行的\n",
    "ERROR\t由于一个更严重的问题导致某些功能不能正常运行时记录的信息\n",
    "CRITICAL\t当发生严重错误，导致应用程序不能继续运行时记录的信息\n",
    "\n",
    "日志等级：DEBUG < INFO < WARNING < ERROR < CRITICAL\n",
    "\n",
    "日志级别的指定通常都是在应用程序的配置文件中进行指定的"
   ]
  },
  {
   "cell_type": "markdown",
   "id": "674a33c2",
   "metadata": {},
   "source": [
    "## logging模块使用方法介绍"
   ]
  },
  {
   "cell_type": "raw",
   "id": "28242b4a",
   "metadata": {},
   "source": [
    "logging模块提供了两种记录日志的方式：\n",
    "    第一种方式是使用logging提供的模块级别的函数\n",
    "    第二种方式是使用Logging日志系统的四大组件\n",
    "其实，logging所提供的模块级别的日志记录函数也是对logging日志系统相关类的封装而已。"
   ]
  },
  {
   "cell_type": "markdown",
   "id": "1f4c9600",
   "metadata": {},
   "source": [
    "### 第一种方式是使用logging提供的模块级别的函数"
   ]
  },
  {
   "cell_type": "raw",
   "id": "a2efa115",
   "metadata": {},
   "source": [
    "logging模块定义的模块级别的常用函数\n",
    "函数\t说明\n",
    "logging.debug(msg, *args, **kwargs)\t创建一条严重级别为DEBUG的日志记录\n",
    "logging.info(msg, *args, **kwargs)\t创建一条严重级别为INFO的日志记录\n",
    "logging.warning(msg, *args, **kwargs)\t创建一条严重级别为WARNING的日志记录\n",
    "logging.error(msg, *args, **kwargs)\t创建一条严重级别为ERROR的日志记录\n",
    "logging.critical(msg, *args, **kwargs)\t创建一条严重级别为CRITICAL的日志记录\n",
    "\n",
    "logging.log(level, *args, **kwargs)\t创建一条严重级别为level的日志记录，是上面5种情况的另外一种写法\n",
    "\n",
    "上面函数还支持关键字输入 **kwargs，主要是如下三个：\n",
    "    exc_info： 其值为布尔值，如果该参数的值设置为True，则会将异常异常信息添加到日志消息中。如果没有异常信息则添加None到日志信息中。\n",
    "    stack_info： 其值也为布尔值，默认值为False。如果该参数的值设置为True，栈信息将会被添加到日志信息中。\n",
    "    extra： 这是一个字典（dict）参数，它可以用来自定义消息格式中所包含的字段，但是它的key不能与logging模块定义的字段冲突。\n",
    "\n",
    "logging.basicConfig(**kwargs)\t用于指定“要记录的日志级别”、“日志格式”、“日志输出位置”、“日志文件的打开模式”等信息，其他几个都是用于记录各个级别日志的函数。"
   ]
  },
  {
   "cell_type": "code",
   "execution_count": 2,
   "id": "2ee38e6b",
   "metadata": {},
   "outputs": [
    {
     "name": "stderr",
     "output_type": "stream",
     "text": [
      "WARNING:root:warning\n",
      "ERROR:root:error\n",
      "CRITICAL:root:critical\n"
     ]
    }
   ],
   "source": [
    "lg.debug(\"debug\")\n",
    "lg.info(\"info\")\n",
    "lg.warning(\"warning\")\n",
    "lg.error(\"error\")\n",
    "lg.critical(\"critical\")\n",
    "\n",
    "# 默认是直接打印到屏幕，如果要打印到文件，需要配置basicConfig(),它是一次性配置，永久生效；"
   ]
  },
  {
   "cell_type": "markdown",
   "id": "295e06d4",
   "metadata": {},
   "source": [
    "#### logging.basicConfig():配置"
   ]
  },
  {
   "cell_type": "raw",
   "id": "17b1ed07",
   "metadata": {},
   "source": [
    "lg.basicConfig:\n",
    "    filename\t指定使用指定的文件名而不是 StreamHandler 创建 FileHandler。\n",
    "    filemode\t如果指定 filename，则以此模式打开文件(‘r’、‘w’、‘a’)。默认为“a”。\n",
    "    format\t为处理程序使用指定的格式字符串。\n",
    "    datefmt\t使用 time.strftime() 所接受的指定日期/时间格式。\n",
    "    style\t如果指定了格式，则对格式字符串使用此样式。’%’ 用于 printf 样式、’{’ 用于 str.format()、’$’ 用于 string。\n",
    "            默认为“%”。\n",
    "    level\t将根记录器级别设置为指定的级别。默认生成的 root logger 的 level 是 logging.WARNING，低于该级别的就不输出了。\n",
    "            级别排序：CRITICAL > ERROR > WARNING > INFO > DEBUG。（如果需要显示所有级别的内容，可将 level=logging.NOTSET）\n",
    "    stream\t使用指定的流初始化 StreamHandler。注意，此参数与 filename 不兼容——如果两者都存在，则会抛出 ValueError。\n",
    "    handlers\t如果指定，这应该是已经创建的处理程序的迭代，以便添加到根日志程序中。任何没有格式化程序集的处理程序都将被分配给\n",
    "            在此函数中创建的默认格式化程序。注意，此参数与 filename 或 stream 不兼容——如果两者都存在，则会抛出 ValueError。"
   ]
  },
  {
   "cell_type": "raw",
   "id": "6d038a7b",
   "metadata": {},
   "source": [
    "参数format的值：\n",
    "    字段/属性名称\t使用格式\t描述\n",
    "    asctime:    %(asctime)s            日志事件发生的时间--人类可读时间，如：2003-07-08 16:49:45,896\n",
    "    created:    %(created)f            日志事件发生的时间--时间戳，就是当时调用time.time()函数返回的值\n",
    "    relativeCreated:   %(relativeCreated)d        日志事件发生的时间相对于logging模块加载时间的相对毫秒数（目前还不知道干嘛用的）\n",
    "    msecs:      %(msecs)d              日志事件发生事件的毫秒部分\n",
    "    levelname:  %(levelname)s          该日志记录的文字形式的日志级别（'DEBUG', 'INFO', 'WARNING', 'ERROR', 'CRITICAL'）\n",
    "    levelno:    %(levelno)s\t           该日志记录的数字形式的日志级别（10, 20, 30, 40, 50）\n",
    "    name:       %(name)s               所使用的日志器名称，默认是'root'，因为默认使用的是 rootLogger\n",
    "    message:    %(message)s            日志记录的文本内容，通过 msg % args计算得到的\n",
    "    pathname:   %(pathname)s           调用日志记录函数的源码文件的全路径\n",
    "    filename:   %(filename)s           pathname的文件名部分，包含文件后缀\n",
    "    module:     %(module)s             filename的名称部分，不包含后缀\n",
    "    lineno:     %(lineno)d             调用日志记录函数的源代码所在的行号\n",
    "    funcName:   %(funcName)s           调用日志记录函数的函数名\n",
    "    process:    %(process)d            进程ID\n",
    "    processName:%(processName)s        进程名称，Python 3.1新增\n",
    "    thread:     %(thread)d             线程ID\n",
    "    threadName: %(thread)s             线程名称"
   ]
  },
  {
   "cell_type": "code",
   "execution_count": 7,
   "id": "48835c28",
   "metadata": {},
   "outputs": [
    {
     "name": "stderr",
     "output_type": "stream",
     "text": [
      "WARNING:root:warning\n",
      "ERROR:root:error\n",
      "NoneType: None\n",
      "CRITICAL:root:critical\n",
      "ERROR:root:ERROR_log\n"
     ]
    }
   ],
   "source": [
    "# 下面这种basicConfig()+ lg.debug...的方式已经基本可以满足简单的日志要求了\n",
    "lg.basicConfig(\n",
    "#               filename=r\".\\testfile\\jupyterloggingtest{}.txt\".format(datetime.datetime.today().strftime(\"%Y%m%d\")), 将日期打印到文件\n",
    "#               filemode='a',   #存入文件的模式\n",
    "              format=\"%(asctime)s-%(levelname)s-%(filename)s-%(message)s\",  #打印的内容\n",
    "              datefmt=\"%Y%m%d %H:%M:%S\",   #内容上面日期的格式\n",
    "              level=lg.WARNING,      #注意要大写， 打印日志的级别\n",
    "              )\n",
    "\n",
    "lg.debug(\"debug\")\n",
    "lg.info(\"info\")\n",
    "lg.warning(\"warning\")\n",
    "lg.error(\"error\",exc_info=True)\n",
    "lg.critical(\"critical\")\n",
    "\n",
    "# 上面的这些log信息，也可以写成：\n",
    "lg.log(lg.ERROR,\"ERROR_log\")       #注意大写"
   ]
  },
  {
   "cell_type": "code",
   "execution_count": null,
   "id": "3227ee80",
   "metadata": {},
   "outputs": [],
   "source": []
  },
  {
   "cell_type": "markdown",
   "id": "10fae7b8",
   "metadata": {},
   "source": [
    "### 第二种方式是使用Logging日志系统的四大组件的类"
   ]
  },
  {
   "cell_type": "raw",
   "id": "e087b1d5",
   "metadata": {},
   "source": [
    "logging模块的四大组件\n",
    "组件\t说明\n",
    "loggers\t   提供应用程序代码直接使用的接口\n",
    "handlers\t用于将日志记录发送到指定的目的位置\n",
    "filters\t   提供更细粒度的日志过滤功能，用于决定哪些日志记录将会被输出（其它的日志记录将会被忽略）\n",
    "formatters\t用于控制日志信息的最终输出格式"
   ]
  },
  {
   "cell_type": "raw",
   "id": "9661e3e3",
   "metadata": {},
   "source": [
    "这些组件之间的关系描述：\n",
    "    日志器（logger）需要通过处理器（handler）将日志信息输出到目标位置，如：文件、sys.stdout、网络等；\n",
    "    不同的处理器（handler）可以将日志输出到不同的位置；\n",
    "    日志器（logger）可以设置多个处理器（handler）将同一条日志记录输出到不同的位置；\n",
    "    每个处理器（handler）都可以设置自己的过滤器（filter）实现日志过滤，从而只保留感兴趣的日志；\n",
    "    每个处理器（handler）都可以设置自己的格式器（formatter）实现同一条日志以不同的格式输出到不同的地方。\n",
    "简单点说就是：日志器（logger）是入口，真正干活儿的是处理器（handler），处理器（handler）还可以通过过滤器（filter）和格式器（formatter）对要输出的日志内容做过滤和格式化等处理操作。"
   ]
  },
  {
   "cell_type": "markdown",
   "id": "50252304",
   "metadata": {},
   "source": [
    "#### logger类："
   ]
  },
  {
   "cell_type": "raw",
   "id": "bf80d74b",
   "metadata": {},
   "source": [
    "Logger对象有3个任务要做：\n",
    "    1）向应用程序代码暴露几个方法，使应用程序可以在运行时记录日志消息；\n",
    "    2）基于日志严重等级（默认的过滤设施）或filter对象来决定要对哪些日志进行后续处理；\n",
    "    3）将日志消息传送给所有感兴趣的日志handlers。\n",
    "Logger对象最常用的方法分为两类：配置方法 和 消息发送方法"
   ]
  },
  {
   "cell_type": "raw",
   "id": "13e67656",
   "metadata": {},
   "source": [
    "最常用的配置方法如下：\n",
    "    方法\t描述\n",
    "    Logger.setLevel()\t设置日志器将会处理的日志消息的最低严重级别\n",
    "    Logger.addHandler() 和 Logger.removeHandler()\t为该logger对象添加 和 移除一个handler对象\n",
    "    Logger.addFilter() 和 Logger.removeFilter()\t为该logger对象添加 和 移除一个filter对象"
   ]
  },
  {
   "cell_type": "raw",
   "id": "ad6fb432",
   "metadata": {},
   "source": [
    "logger对象配置完成后，可以使用下面的方法来创建日志记录：\n",
    "    方法\t描述\n",
    "    Logger.debug(), Logger.info(), Logger.warning(), Logger.error(), Logger.critical()\t创建一个与它们的方法名对应等级的日志记录\n",
    "    Logger.exception()\t创建一个类似于Logger.error()的日志消息\n",
    "    Logger.log()\t需要获取一个明确的日志level参数来创建一个日志记录\n",
    "    \n",
    "说明：\n",
    "    Logger.exception()与Logger.error()的区别在于：Logger.exception()将会输出堆栈追踪信息，另外通常只是在一个exception handler中调用该方法。\n",
    "    Logger.log()与Logger.debug()、Logger.info()等方法相比，虽然需要多传一个level参数，显得不是那么方便，但是当需要记录自定义level的日志时还是需要该方法来完成。"
   ]
  },
  {
   "cell_type": "markdown",
   "id": "8ca8b37b",
   "metadata": {},
   "source": [
    "#### Handler类："
   ]
  },
  {
   "cell_type": "raw",
   "id": "d55175b8",
   "metadata": {},
   "source": [
    "Handler对象的作用是（基于日志消息的level）将消息分发到handler指定的位置（文件、网络、邮件等）。Logger对象可以通过addHandler()方法为自己添加0个或者更多个handler对象。比如，一个应用程序可能想要实现以下几个日志需求：\n",
    "    1）把所有日志都发送到一个日志文件中；\n",
    "    2）把所有严重级别大于等于error的日志发送到stdout（标准输出）；\n",
    "    3）把所有严重级别为critical的日志发送到一个email邮件地址。\n",
    "这种场景就需要3个不同的handlers，每个handler复杂发送一个特定严重级别的日志到一个特定的位置。"
   ]
  },
  {
   "cell_type": "raw",
   "id": "4b3fb0c0",
   "metadata": {},
   "source": [
    "对于使用内建handler对象的应用开发人员来说，似乎唯一相关的handler方法就是下面这几个配置方法：\n",
    "方法\t描述\n",
    "    Handler.setLevel()\t设置handler将会处理的日志消息的最低严重级别\n",
    "    Handler.setFormatter()\t为handler设置一个格式器对象\n",
    "    Handler.addFilter() 和 Handler.removeFilter()\t为handler添加 和 删除一个过滤器对象"
   ]
  },
  {
   "cell_type": "raw",
   "id": "d82ac571",
   "metadata": {},
   "source": [
    "需要说明的是，应用程序代码不应该直接实例化和使用Handler实例。因为Handler是一个基类，它只定义了素有handlers都应该有的接口，同时提供了一些子类可以直接使用或覆盖的默认行为。下面是一些常用的Handler：\n",
    "Handler\t描述\n",
    "    logging.StreamHandler\t将日志消息发送到输出到Stream，如std.out, std.err或任何file-like对象。\n",
    "    logging.FileHandler\t将日志消息发送到磁盘文件，默认情况下文件大小会无限增长\n",
    "    logging.handlers.RotatingFileHandler\t将日志消息发送到磁盘文件，并支持日志文件按大小切割\n",
    "    logging.hanlders.TimedRotatingFileHandler\t将日志消息发送到磁盘文件，并支持日志文件按时间切割\n",
    "    logging.handlers.HTTPHandler\t将日志消息以GET或POST的方式发送给一个HTTP服务器\n",
    "    logging.handlers.SMTPHandler\t将日志消息发送给一个指定的email地址\n",
    "    logging.NullHandler\t该Handler实例会忽略error messages，通常被想使用logging的library开发者使用来避免'No handlers could be found for logger XXX'信息的出现。"
   ]
  },
  {
   "cell_type": "markdown",
   "id": "a07248cb",
   "metadata": {},
   "source": [
    "#### Formater类："
   ]
  },
  {
   "cell_type": "raw",
   "id": "b0a270aa",
   "metadata": {},
   "source": [
    "Formater对象用于配置日志信息的最终顺序、结构和内容。与logging.Handler基类不同的是，应用代码可以直接实例化Formatter类。另外，如果你的应用程序需要一些特殊的处理行为，也可以实现一个Formatter的子类来完成。\n",
    "\n",
    "Formatter类的构造方法定义如下：\n",
    "logging.Formatter.__init__(fmt=None, datefmt=None, style='%')\n",
    "可见，该构造方法接收3个可选参数：\n",
    "    fmt：指定消息格式化字符串，如果不指定该参数则默认使用message的原始值\n",
    "    datefmt：指定日期格式字符串，如果不指定该参数则默认使用\"%Y-%m-%d %H:%M:%S\"\n",
    "    style：Python 3.2新增的参数，可取值为 '%', '{'和 '$'，如果不指定该参数则默认使用'%'"
   ]
  },
  {
   "cell_type": "markdown",
   "id": "d1750ff0",
   "metadata": {},
   "source": [
    "#### Filter类："
   ]
  },
  {
   "cell_type": "raw",
   "id": "4e4e2b4e",
   "metadata": {},
   "source": [
    "Filter可以被Handler和Logger用来做比level更细粒度的、更复杂的过滤功能。Filter是一个过滤器基类，它只允许某个logger层级下的日志事件通过过滤。该类定义如下：\n",
    "\n",
    "class logging.Filter(name='')\n",
    "    filter(record)\n",
    "比如，一个filter实例化时传递的name参数值为'A.B'，那么该filter实例将只允许名称为类似如下规则的loggers产生的日志记录通过过滤：'A.B'，'A.B,C'，'A.B.C.D'，'A.B.D'，而名称为'A.BB', 'B.A.B'的loggers产生的日志则会被过滤掉。如果name的值为空字符串，则允许所有的日志事件通过过滤。\n",
    "filter方法用于具体控制传递的record记录是否能通过过滤，如果该方法返回值为0表示不能通过过滤，返回值为非0表示可以通过过滤。"
   ]
  },
  {
   "cell_type": "markdown",
   "id": "e49d0d38",
   "metadata": {},
   "source": [
    "#### 例子："
   ]
  },
  {
   "cell_type": "raw",
   "id": "bde12ea6",
   "metadata": {},
   "source": [
    "1. 需求\n",
    "    现在有以下几个日志记录的需求：\n",
    "    1）要求将所有级别的所有日志都写入磁盘文件中\n",
    "    2）all.log文件中记录所有的日志信息，日志格式为：日期和时间 - 日志级别 - 日志信息\n",
    "    3）error.log文件中单独记录error及以上级别的日志信息，日志格式为：日期和时间 - 日志级别 - 文件名[:行号] - 日志信息\n",
    "    4）要求all.log在每天凌晨进行日志切割\n",
    "2. 分析\n",
    "    1）要记录所有级别的日志，因此日志器的有效level需要设置为最低级别--DEBUG;\n",
    "    2）日志需要被发送到两个不同的目的地，因此需要为日志器设置两个handler；另外，两个目的地都是磁盘文件，因此这两个handler都是与FileHandler相关的；\n",
    "    3）all.log要求按照时间进行日志切割，因此他需要用logging.handlers.TimedRotatingFileHandler; 而error.log没有要求日志切割，因此可以使用FileHandler;\n",
    "    4）两个日志文件的格式不同，因此需要对这两个handler分别设置格式器；"
   ]
  },
  {
   "cell_type": "code",
   "execution_count": 10,
   "id": "96394a1e",
   "metadata": {},
   "outputs": [
    {
     "name": "stderr",
     "output_type": "stream",
     "text": [
      "DEBUG:__main__:debug message\n",
      "INFO:__main__:info message\n",
      "WARNING:__main__:warning message\n",
      "ERROR:__main__:error message\n",
      "CRITICAL:__main__:critical message\n"
     ]
    }
   ],
   "source": [
    "logger = logging.getLogger(__name__)\n",
    "logger.setLevel(logging.DEBUG)\n",
    "\n",
    "rf_handler = logging.handlers.TimedRotatingFileHandler('all.log', when='midnight', interval=1, backupCount=7, atTime=datetime.time(0, 0, 0, 0))\n",
    "rf_handler.setFormatter(logging.Formatter(\"%(asctime)s - %(levelname)s - %(message)s\"))\n",
    "\n",
    "f_handler = logging.FileHandler('error.log')\n",
    "f_handler.setLevel(logging.ERROR)\n",
    "f_handler.setFormatter(logging.Formatter(\"%(asctime)s - %(levelname)s - %(filename)s[:%(lineno)d] - %(message)s\"))\n",
    "\n",
    "logger.addHandler(rf_handler)\n",
    "logger.addHandler(f_handler)\n",
    "\n",
    "logger.debug('debug message')\n",
    "logger.info('info message')\n",
    "logger.warning('warning message')\n",
    "logger.error('error message')\n",
    "logger.critical('critical message')"
   ]
  },
  {
   "cell_type": "markdown",
   "id": "061f67e3",
   "metadata": {},
   "source": [
    "#### 例2："
   ]
  },
  {
   "cell_type": "code",
   "execution_count": null,
   "id": "31d91e2c",
   "metadata": {},
   "outputs": [],
   "source": [
    "# 1. logger:提供应用程序代码直接使用的接口\n",
    "logger = logging.getLogger(__name__)\n",
    "logger.setLevel(level=logging.INFO)\n",
    "\n",
    "\n",
    "# 2. Handler: 对信息处理,默认处理warning以上级别\n",
    "fh = logging.FileHandler(r\".\\testfile\\log.log\")  #将信息存入文件\n",
    "ch = logging.StreamHandler()        #为了同时输出到文件和屏幕,所以这两个都是配置\n",
    "\n",
    "# 2-1. Fommatter:对信息进行格式化, 下面单个格式是固定的,只要选择即可\n",
    "file_formatter = logging.Formatter(\"%(asctime)s - %(name)s - %(levelname)s - %(message)s\")\n",
    "fh.setFormatter(file_formatter)\n",
    "\n",
    "# 2-2. 设置处理信息的级别\n",
    "fh.setLevel(logging.WARN)\n",
    "\n",
    "ch.setFormatter(file_formatter)\n",
    "ch.setLevel(logging.WARN)\n",
    "\n",
    "# 2-3. 创建过滤,并添加到handler,也可以添加奥logger\n",
    "filter_name = logging.Filter(__name__)\n",
    "# fh.addFilter(filter_name)\n",
    "logger.addFilter(filter_name)\n",
    "\n",
    "# 3. 将handler添加到logger\n",
    "logger.addHandler(fh)\n",
    "logger.addHandler(ch)   \n",
    "\n",
    "# 将信息打印到控制台\n",
    "logger.debug(\"debug\")\n",
    "logger.info(\"info\")\n",
    "logger.warning(\"warning\")\n",
    "logger.error(\"error\")\n",
    "logger.critical(\"critical\")"
   ]
  }
 ],
 "metadata": {
  "kernelspec": {
   "display_name": "Python 38",
   "language": "python",
   "name": "python3"
  },
  "language_info": {
   "codemirror_mode": {
    "name": "ipython",
    "version": 3
   },
   "file_extension": ".py",
   "mimetype": "text/x-python",
   "name": "python",
   "nbconvert_exporter": "python",
   "pygments_lexer": "ipython3",
   "version": "3.8.6"
  },
  "toc": {
   "base_numbering": 1,
   "nav_menu": {},
   "number_sections": true,
   "sideBar": true,
   "skip_h1_title": false,
   "title_cell": "Table of Contents",
   "title_sidebar": "Contents",
   "toc_cell": false,
   "toc_position": {},
   "toc_section_display": true,
   "toc_window_display": true
  }
 },
 "nbformat": 4,
 "nbformat_minor": 5
}
