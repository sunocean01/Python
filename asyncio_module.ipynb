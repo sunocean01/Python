{
 "cells": [
  {
   "cell_type": "code",
   "execution_count": 1,
   "id": "067c7552",
   "metadata": {},
   "outputs": [],
   "source": [
    "import asyncio\n",
    "import time\n",
    "import tkinter as tk\n",
    "import threading"
   ]
  },
  {
   "cell_type": "markdown",
   "id": "836773e3",
   "metadata": {},
   "source": [
    "# 协程函数"
   ]
  },
  {
   "cell_type": "markdown",
   "id": "8c05e2a5",
   "metadata": {},
   "source": [
    "## 协程函数和普通函数区别：\n",
    "    协程函数：在被创建对象时，里面的内容不会被运行；\n",
    "    普通函数：在被创建对象时，里面的内容会被运行；"
   ]
  },
  {
   "cell_type": "code",
   "execution_count": 2,
   "id": "8f4530aa",
   "metadata": {},
   "outputs": [],
   "source": [
    "async def test1():\n",
    "       print(\"Hello world!\")\n",
    "t = test1()     #协程函数在被创建对象时，是不会被执行的，这是和普通函数的区别"
   ]
  },
  {
   "cell_type": "code",
   "execution_count": 7,
   "id": "2a3169ef",
   "metadata": {},
   "outputs": [
    {
     "name": "stdout",
     "output_type": "stream",
     "text": [
      "Hello world!\n"
     ]
    },
    {
     "name": "stderr",
     "output_type": "stream",
     "text": [
      "<ipython-input-7-5556488e6a62>:3: RuntimeWarning: coroutine 'test1' was never awaited\n",
      "  t = test2()\n",
      "RuntimeWarning: Enable tracemalloc to get the object allocation traceback\n"
     ]
    }
   ],
   "source": [
    "def test2():\n",
    "    print(\"Hello world!\")\n",
    "t = test2()"
   ]
  },
  {
   "cell_type": "markdown",
   "id": "706182a0",
   "metadata": {},
   "source": [
    "## 如何运行协程函数：\n",
    "    Jupyter里面：\n",
    "        await func()\n",
    "    Notepad ++:\n",
    "        asyncio.run(func()) (python 3.5 以后版本)"
   ]
  },
  {
   "cell_type": "code",
   "execution_count": 3,
   "id": "a5a13bbe",
   "metadata": {},
   "outputs": [
    {
     "name": "stdout",
     "output_type": "stream",
     "text": [
      "Hello world!\n"
     ]
    }
   ],
   "source": [
    "await t"
   ]
  },
  {
   "cell_type": "raw",
   "id": "77a1bb3a",
   "metadata": {},
   "source": []
  },
  {
   "cell_type": "code",
   "execution_count": 4,
   "id": "46b5e9d4",
   "metadata": {},
   "outputs": [
    {
     "name": "stdout",
     "output_type": "stream",
     "text": [
      "Hello world!\n"
     ]
    }
   ],
   "source": [
    "async def test():\n",
    "    print(\"Hello world!\")\n",
    "    \n",
    "result = test()\n",
    "\n",
    "# loop = asyncio.get_event_loop()\n",
    "# loop.run_until_complete(result)\n",
    "# 或\n",
    "# asyncio.run(result)    #python3.7以上版本\n",
    "\n",
    "# 上面两种方式在jupyter里是不需要的，直接用await就可以\n",
    "await result"
   ]
  },
  {
   "cell_type": "markdown",
   "id": "dfac37ff",
   "metadata": {},
   "source": [
    "# await"
   ]
  },
  {
   "cell_type": "raw",
   "id": "6e28075c",
   "metadata": {},
   "source": [
    "await + 可等待对象(协程对象,Future,Task对象->等待): 意思就是“等”，等它后面的内容执行完了才能继续后面的代码"
   ]
  },
  {
   "cell_type": "code",
   "execution_count": 2,
   "id": "ba1c1835",
   "metadata": {},
   "outputs": [
    {
     "name": "stdout",
     "output_type": "stream",
     "text": [
      "Come on!\n",
      "finish: None\n"
     ]
    }
   ],
   "source": [
    "async def func():\n",
    "    print(\"Come on!\")\n",
    "    response = await asyncio.sleep(2)\n",
    "    print(\"finish:\",response)\n",
    "    \n",
    "await func()"
   ]
  },
  {
   "cell_type": "raw",
   "id": "3544e768",
   "metadata": {},
   "source": [
    "summary before:\n",
    "1. 协程函数：函数前面加async就是协程函数\n",
    "    async def test():\n",
    "       print(\"Hello world!\")\n",
    "       \n",
    "2. 协程对象：协程函数带括号\n",
    "    result = test()    #test内部代码不会执行，这就是协程函数和普通函数的区别；\n",
    "    \n",
    "3. 事件循环：\n",
    "    python3.7版本以前：\n",
    "     loop = asyncio.get_event_loop()\n",
    "     loop.run_until_complete(result)\n",
    "    python3.7以后：\n",
    "     asyncio.run(result)\n",
    "     \n",
    "   注意：在jupyter里这些都不需要，直接用await\n",
    "       await result"
   ]
  },
  {
   "cell_type": "markdown",
   "id": "a82a5ccf",
   "metadata": {},
   "source": [
    "# task对象"
   ]
  },
  {
   "cell_type": "raw",
   "id": "4b4394d4",
   "metadata": {},
   "source": [
    "在事件循环中添加多个任务，在任务之间自动切换\n",
    "asyncio.create_task()  #python3.7之后\n",
    "也可以用更底层的方式：\n",
    "loop.create_task()或ensure_future()\n"
   ]
  },
  {
   "cell_type": "code",
   "execution_count": null,
   "id": "454d0c10",
   "metadata": {},
   "outputs": [],
   "source": [
    "# create task 理解：\n",
    "s = time.time()\n",
    "async def func():\n",
    "    print(\"start\")\n",
    "    await asyncio.sleep(2)\n",
    "    print(\"finish\")\n",
    "    return \"success\"\n",
    "\n",
    "async def main():\n",
    "    print(\"Main start\")\n",
    "    \n",
    "    #创建task对象，将当前执行的func函数任务添加到事件循环里\n",
    "    task1 = asyncio.create_task(func())\n",
    "    task2 = asyncio.create_task(func())\n",
    "    \n",
    "    print(\"Main finish\")\n",
    "    \n",
    "    ret1 = await(task1)      #与await(func())的区别：\n",
    "    ret2 = await(task2)      #与await(func())\n",
    "    \n",
    "    print(ret1,ret2)\n",
    "    \n",
    "await main()\n",
    "print(time.time()-s)"
   ]
  },
  {
   "cell_type": "code",
   "execution_count": null,
   "id": "1273463c",
   "metadata": {},
   "outputs": [],
   "source": [
    "# 基于上面代码的改进\n",
    "\n",
    "async def func():\n",
    "    print(\"start\")\n",
    "    await asyncio.sleep(2)\n",
    "    print(\"finish\")\n",
    "    return \"success\"\n",
    "\n",
    "async def main():\n",
    "    print(\"Main start\")\n",
    "        \n",
    "    task_lt = [asyncio.create_task(func(),name=\"n1\"),\n",
    "               asyncio.create_task(func(),name=\"n2\")]\n",
    "    \n",
    "    print(\"Main finish\")\n",
    "    \n",
    "    done,pending = await asyncio.wait(task_lt,timeout=10)   #timeout是事件限制\n",
    "#     返回的done，pending都是集合:已经完成和进行中的任务\n",
    "                                   \n",
    "    print(done)\n",
    "    \n",
    "await main()"
   ]
  },
  {
   "cell_type": "code",
   "execution_count": null,
   "id": "1ac6f250",
   "metadata": {},
   "outputs": [],
   "source": [
    "# 换一种写法：下面这种用的不对\n",
    "async def func():\n",
    "    print(\"start\")\n",
    "    await asyncio.sleep(2)\n",
    "    print(\"finish\")\n",
    "    return \"success\"\n",
    "\n",
    "\n",
    "task_lt = [func(),\n",
    "           func()]\n",
    "\n",
    "done,pending = await asyncio.wait(task_lt)\n",
    "print(done)"
   ]
  },
  {
   "cell_type": "markdown",
   "id": "7ae41768",
   "metadata": {},
   "source": [
    "# Future对象\n",
    "    一般不会手动使用它，一般使用task\n",
    "    task继承Future，Task对象内部await结果的处理基于Future对象来的；"
   ]
  },
  {
   "cell_type": "code",
   "execution_count": null,
   "id": "69d356a3",
   "metadata": {},
   "outputs": [],
   "source": [
    "async def main():\n",
    "    loop = asyncio.get_running_loop()   #获取当前时间循环\n",
    "    fut = loop.create_future()    #创建一个future对象,什么都没干\n",
    "    fut.set_result(\"tst\")\n",
    "    rt = await fut\n",
    "    return rt\n",
    "    \n",
    "done= await main()\n",
    "print(done)"
   ]
  },
  {
   "cell_type": "markdown",
   "id": "45d10191",
   "metadata": {},
   "source": [
    "# concurrent.futures.Future对象\n",
    "    是使用线程池、进程池实现异步操作时用的对象"
   ]
  },
  {
   "cell_type": "markdown",
   "id": "301a9736",
   "metadata": {},
   "source": [
    "# 异步迭代器"
   ]
  },
  {
   "cell_type": "markdown",
   "id": "57c78804",
   "metadata": {},
   "source": [
    "# 协程"
   ]
  },
  {
   "cell_type": "raw",
   "id": "43b31ebf",
   "metadata": {},
   "source": [
    "协程不是进程、也不是线程，它是用户空间调度的按成并发处理的方式\n",
    "进程、线程由操作系统完成调度，而协程是线程内完成调度，它不需要更多的线程，自然也没有多线程切换带来的开销\n",
    "协程是非抢占式调度，只有一个协程主动让出控制权，另一个协程才会被调度\n",
    "协程也不需要使用锁机制，因为是在同一个线程中执行\n",
    "多CPU下，可以使用多进程和协程配合，既能进程并发又能发挥协程在单线程中的优势\n",
    "Python中协程是基于生成器的\n",
    "asyncio.iscoroutine(obj)判断是不是协程对象\n",
    "asyncio.iscoroutinefunction(func)判断是不是协程函数\n",
    "Future:coucurrent.futures.Future类似，通过Future对象可以了解人物执行的状态数据。事件循环来监控Future对象是否完成。\n",
    "Task任务：Task类是Future的子类，它的作用就是把协程包装成一个Future对象。"
   ]
  },
  {
   "cell_type": "code",
   "execution_count": null,
   "id": "e6c9c463",
   "metadata": {},
   "outputs": [],
   "source": [
    "start = time.time()\n",
    "\n",
    "async def cl(number):\n",
    "    sm = 0\n",
    "    for i in range(number):\n",
    "        sm += i\n",
    "    return sm\n",
    "        \n",
    "\n",
    "\n",
    "async def mysum(number):\n",
    "    result = await cl(number)\n",
    "    return result\n",
    "    \n",
    "async def main():\n",
    "    tasks = []\n",
    "    for i in (1000,2000):\n",
    "        tasks.append(asyncio.create_task(mysum(i),name=i))\n",
    "        \n",
    "    done,pending = await asyncio.wait(tasks)\n",
    "    print(done)\n",
    "    for rl in done:\n",
    "        print(rl.result())\n",
    "\n",
    "await(main())\n",
    "\n",
    "end = time.time()\n",
    "print(end-start)"
   ]
  },
  {
   "cell_type": "markdown",
   "id": "df40512b",
   "metadata": {},
   "source": [
    "# test"
   ]
  },
  {
   "cell_type": "code",
   "execution_count": null,
   "id": "fea4a06d",
   "metadata": {},
   "outputs": [],
   "source": [
    "class Form:\n",
    "    def __init__(self):\n",
    "        t1 = threading.Thread(target=self.wd)\n",
    "        self.t2 = threading.Thread(target=self.calculate)\n",
    "        t1.start()\n",
    "        \n",
    "    def wd(self):\n",
    "        root=tk.Tk()\n",
    "        root.geometry('500x300')\n",
    "        root.title('窗体程序')  #设置窗口标题\n",
    "        \n",
    "        button=tk.Button(root,text=\"开始计算\",command=self.st_calculate)\n",
    "        self.label=tk.Label(master=root,text=\"等待计算结果\")\n",
    " \n",
    "        button.pack()\n",
    "        self.label.pack()\n",
    "        \n",
    "        root.mainloop()\n",
    "         \n",
    "    def calculate(self):\n",
    "        time.sleep(3)\n",
    "        self.label[\"text\"]=300\n",
    "        \n",
    "    def st_calculate(self):\n",
    "        self.t2.start()\n",
    " \n",
    "\n",
    "\n",
    "        \n",
    "if __name__=='__main__':\n",
    "    form=Form()"
   ]
  },
  {
   "cell_type": "code",
   "execution_count": null,
   "id": "fd961b6a",
   "metadata": {},
   "outputs": [],
   "source": [
    "class Form:\n",
    "    def __init__(self):\n",
    "        self.wd()\n",
    "        \n",
    "    def wd(self):\n",
    "        root=tk.Tk()\n",
    "        root.geometry('500x300')\n",
    "        root.title('窗体程序')  #设置窗口标题\n",
    "        \n",
    "        self.t= \"等待计算结果\"\n",
    "        \n",
    "        button=tk.Button(root,text=\"开始计算\",command=self.calculate)\n",
    "        self.label=tk.Label(master=root,text=self.t)\n",
    " \n",
    "        button.pack()\n",
    "        self.label.pack()\n",
    "        \n",
    "        root.mainloop()\n",
    "         \n",
    "    async def calculate(self):\n",
    "        await asyncio.sleep(2)\n",
    "        self.t=300\n",
    "        \n",
    "    async def st_calculate(self):\n",
    "        await self.t2.start()\n",
    " \n",
    "\n",
    "\n",
    "        \n",
    "if __name__=='__main__':\n",
    "    form=Form()"
   ]
  },
  {
   "cell_type": "code",
   "execution_count": null,
   "id": "fcac1852",
   "metadata": {},
   "outputs": [],
   "source": [
    "start = time.time()\n",
    "async def cl(n):\n",
    "    await asyncio.sleep(3)\n",
    "    return n**3\n",
    "\n",
    "async def main():\n",
    "    tl = [asyncio.create_task(cl(5),name=\"n1\"),\n",
    "          asyncio.create_task(cl(10),name=\"n1\"),\n",
    "          asyncio.create_task(cl(100),name=\"n1\"),\n",
    "         ]\n",
    "    done,pending = await asyncio.wait(tl,timeout=10)\n",
    "    print(done)\n",
    "    \n",
    "await main()\n",
    "print(time.time()-start)"
   ]
  },
  {
   "cell_type": "code",
   "execution_count": null,
   "id": "d36a4bee",
   "metadata": {},
   "outputs": [],
   "source": [
    "s = time.time()\n",
    "def cl(n):\n",
    "    time.sleep(3)\n",
    "    return n**3\n",
    "\n",
    "for n in [5,10,100]:\n",
    "    print(cl(n))\n",
    "    \n",
    "print(time.time()-s)"
   ]
  },
  {
   "cell_type": "code",
   "execution_count": null,
   "id": "afe92f3d",
   "metadata": {},
   "outputs": [],
   "source": []
  }
 ],
 "metadata": {
  "kernelspec": {
   "display_name": "Python 38",
   "language": "python",
   "name": "python3"
  },
  "language_info": {
   "codemirror_mode": {
    "name": "ipython",
    "version": 3
   },
   "file_extension": ".py",
   "mimetype": "text/x-python",
   "name": "python",
   "nbconvert_exporter": "python",
   "pygments_lexer": "ipython3",
   "version": "3.8.6"
  },
  "toc": {
   "base_numbering": 1,
   "nav_menu": {},
   "number_sections": true,
   "sideBar": true,
   "skip_h1_title": false,
   "title_cell": "Table of Contents",
   "title_sidebar": "Contents",
   "toc_cell": false,
   "toc_position": {
    "height": "calc(100% - 180px)",
    "left": "10px",
    "top": "150px",
    "width": "291.513px"
   },
   "toc_section_display": true,
   "toc_window_display": true
  }
 },
 "nbformat": 4,
 "nbformat_minor": 5
}
